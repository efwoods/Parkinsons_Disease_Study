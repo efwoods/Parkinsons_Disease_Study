{
 "cells": [
  {
   "cell_type": "markdown",
   "metadata": {},
   "source": [
    "# Example Proof-of-Concept "
   ]
  },
  {
   "cell_type": "markdown",
   "metadata": {},
   "source": [
    "## Imports, Functions, & Settings"
   ]
  },
  {
   "cell_type": "code",
   "execution_count": 6,
   "metadata": {},
   "outputs": [],
   "source": [
    "import pandas as pd\n",
    "import numpy as np\n",
    "import matplotlib.pyplot as plt\n",
    "import nibabel as nib\n",
    "import glob\n",
    "import os\n",
    "import shutil\n",
    "import gzip\n",
    "from nilearn import image, masking, plotting, datasets\n",
    "from nilearn.input_data import NiftiMasker\n",
    "import networkx as nx\n",
    "from tqdm import tqdm\n",
    "\n",
    "\n",
    "##########################################\n",
    "\n",
    "import nibabel as nib\n",
    "import numpy as np\n",
    "import networkx as nx\n",
    "import matplotlib.pyplot as plt\n",
    "from nilearn import plotting\n",
    "from nilearn import image\n",
    "from nilearn import regions\n",
    "from mpl_toolkits.mplot3d import Axes3D\n",
    "\n",
    "##########################################\n",
    "\n",
    "from sklearn.neighbors import NearestNeighbors\n",
    "import matplotlib.pyplot as plt\n",
    "\n",
    "from nilearn.datasets import fetch_atlas_harvard_oxford\n",
    "from scipy.ndimage import zoom\n",
    "from tqdm import tqdm\n",
    "\n",
    "from nilearn.datasets import load_mni152_template\n",
    "from nilearn import plotting\n",
    "from nilearn import datasets\n",
    "from nilearn import plotting\n",
    "\n",
    "\n",
    "from nilearn.plotting import plot_roi\n",
    "\n",
    "from nilearn.image import resample_to_img\n",
    "\n",
    "from scipy.fft import fft, fftfreq\n",
    "\n",
    "\n",
    "import pytesseract\n",
    "from PIL import Image\n",
    "\n",
    "import re\n",
    "\n",
    "import pyvista as pv\n",
    "\n",
    "import trimesh\n",
    "import pymeshlab\n",
    "import numpy as np\n",
    "import nibabel as nib"
   ]
  },
  {
   "cell_type": "code",
   "execution_count": 7,
   "metadata": {},
   "outputs": [],
   "source": [
    "def simplify_mesh(stl_file, target_faces=50000):\n",
    "    \"\"\"Simplify an STL mesh using PyMeshLab.\"\"\"\n",
    "    # Load mesh in PyMeshLab\n",
    "    ms = pymeshlab.MeshSet()\n",
    "    ms.load_new_mesh(stl_file)\n",
    "\n",
    "    # Apply quadratic decimation to reduce face count\n",
    "    ms.meshing_decimation_quadric_edge_collapse(targetfacenum=target_faces)\n",
    "\n",
    "    # Save the simplified mesh\n",
    "    simplified_file = stl_file.replace('.stl', '_simplified.stl')\n",
    "    ms.save_current_mesh(simplified_file)\n",
    "    print(f\"Simplified mesh saved as {simplified_file}\")\n",
    "\n",
    "    return simplified_file\n",
    "\n",
    "def stl_to_nifti(stl_file, voxel_resolution=128, target_faces=50000):\n",
    "    \"\"\"Convert STL to NIFTI after mesh simplification.\"\"\"\n",
    "    # Simplify the mesh\n",
    "    simplified_stl = simplify_mesh(stl_file, target_faces)\n",
    "\n",
    "    # Load the simplified STL using trimesh\n",
    "    mesh = trimesh.load_mesh(simplified_stl)\n",
    "\n",
    "    # Voxelize the mesh at the specified resolution\n",
    "    voxel_grid = mesh.voxelized(pitch=1.0/voxel_resolution)\n",
    "\n",
    "    # Convert voxel grid to a numpy array\n",
    "    voxel_data = voxel_grid.matrix.astype(np.uint8)\n",
    "\n",
    "    # Create and save NIFTI file\n",
    "    nifti_img = nib.Nifti1Image(voxel_data, np.eye(4))\n",
    "    nifti_file = stl_file.replace('.stl', '.nii')\n",
    "    nib.save(nifti_img, nifti_file)\n",
    "    print(f\"Saved NIFTI file as {nifti_file}\")"
   ]
  },
  {
   "cell_type": "code",
   "execution_count": 2,
   "metadata": {},
   "outputs": [],
   "source": [
    "# Load fMRI and anatomical data\n",
    "def load_fmri_data(fmri_filepath):\n",
    "    fmri_img = nib.load(fmri_filepath)\n",
    "    fmri_data = fmri_img.get_fdata()\n",
    "    return fmri_data\n",
    "\n",
    "def load_anatomical_data(anatomical_filepath):\n",
    "    anatomical_img = nib.load(anatomical_filepath)\n",
    "    anatomical_data = anatomical_img.get_fdata()\n",
    "    return anatomical_data\n",
    "\n",
    "def load_nii(file_path):\n",
    "    \"\"\"Load .nii file using nibabel and return data as numpy array.\"\"\"\n",
    "    nii_data = nib.load(file_path)\n",
    "    return nii_data.get_fdata(), nii_data.affine"
   ]
  },
  {
   "cell_type": "markdown",
   "metadata": {},
   "source": [
    "## Data Extraction"
   ]
  },
  {
   "cell_type": "code",
   "execution_count": null,
   "metadata": {},
   "outputs": [],
   "source": [
    "# gz_files = [f for f in glob(f\"./data/**/*.gz\", recursive=True) if os.path.isfile(f)]\n",
    "# gz_files\n",
    "# Extract each .gz file\n",
    "# for gz_file in gz_files:\n",
    "#     output_file = gz_file[:-3]  # Remove \".gz\" extension\n",
    "\n",
    "#     # Decompress the .gz file\n",
    "#     with gzip.open(gz_file, 'rb') as f_in:\n",
    "#         with open(output_file, 'wb') as f_out:\n",
    "#             shutil.copyfileobj(f_in, f_out)\n",
    "\n",
    "#     print(f\"Extracted: {gz_file} -> {output_file}\")\n"
   ]
  },
  {
   "cell_type": "markdown",
   "metadata": {},
   "source": [
    "## Data Declaration"
   ]
  },
  {
   "cell_type": "code",
   "execution_count": null,
   "metadata": {},
   "outputs": [
    {
     "data": {
      "text/plain": [
       "['../data/sub-0270/ses-01/func/sub-0270_ses-01_task-rest_bold.nii.gz',\n",
       " '../data/sub-0205/ses-01/func/sub-0205_ses-01_task-rest_bold.nii.gz',\n",
       " '../data/sub-0231/ses-01/func/sub-0231_ses-01_task-rest_bold.nii.gz',\n",
       " '../data/sub-0240/ses-01/func/sub-0240_ses-01_task-rest_bold.nii.gz',\n",
       " '../data/sub-0238/ses-01/func/sub-0238_ses-01_task-rest_bold.nii.gz',\n",
       " '../data/sub-0252/ses-01/func/sub-0252_ses-01_task-rest_bold.nii.gz',\n",
       " '../data/sub-2132/ses-01/func/sub-2132_ses-01_task-rest_bold.nii.gz',\n",
       " '../data/sub-2122/ses-01/func/sub-2122_ses-01_task-rest_bold.nii.gz',\n",
       " '../data/sub-0272/ses-01/func/sub-0272_ses-01_task-rest_bold.nii.gz',\n",
       " '../data/sub-2130/ses-01/func/sub-2130_ses-01_task-rest_bold.nii.gz',\n",
       " '../data/sub-2145/ses-01/func/sub-2145_ses-01_task-rest_bold.nii.gz',\n",
       " '../data/sub-0264/ses-01/func/sub-0264_ses-01_task-rest_bold.nii.gz',\n",
       " '../data/sub-2134/ses-01/func/sub-2134_ses-01_task-rest_bold.nii.gz',\n",
       " '../data/sub-0202/ses-01/func/sub-0202_ses-01_task-rest_bold.nii.gz',\n",
       " '../data/sub-2141/ses-01/func/sub-2141_ses-01_task-rest_bold.nii.gz',\n",
       " '../data/sub-0203/ses-01/func/sub-0203_ses-01_task-rest_bold.nii.gz',\n",
       " '../data/sub-0222/ses-01/func/sub-0222_ses-01_task-rest_bold.nii.gz',\n",
       " '../data/sub-0224/ses-01/func/sub-0224_ses-01_task-rest_bold.nii.gz',\n",
       " '../data/sub-2128/ses-01/func/sub-2128_ses-01_task-rest_bold.nii.gz',\n",
       " '../data/sub-0267/ses-01/func/sub-0267_ses-01_task-rest_bold.nii.gz',\n",
       " '../data/sub-0206/ses-01/func/sub-0206_ses-01_task-rest_bold.nii.gz',\n",
       " '../data/sub-0243/ses-01/func/sub-0243_ses-01_task-rest_bold.nii.gz',\n",
       " '../data/sub-0230/ses-01/func/sub-0230_ses-01_task-rest_bold.nii.gz',\n",
       " '../data/sub-0210/ses-01/func/sub-0210_ses-01_task-rest_bold.nii.gz',\n",
       " '../data/sub-0207/ses-01/func/sub-0207_ses-01_task-rest_bold.nii.gz',\n",
       " '../data/sub-2148/ses-01/func/sub-2148_ses-01_task-rest_bold.nii.gz',\n",
       " '../data/sub-0212/ses-01/func/sub-0212_ses-01_task-rest_bold.nii.gz',\n",
       " '../data/sub-0257/ses-01/func/sub-0257_ses-01_task-rest_bold.nii.gz',\n",
       " '../data/sub-0213/ses-01/func/sub-0213_ses-01_task-rest_bold.nii.gz',\n",
       " '../data/sub-0226/ses-01/func/sub-0226_ses-01_task-rest_bold.nii.gz',\n",
       " '../data/sub-0214/ses-01/func/sub-0214_ses-01_task-rest_bold.nii.gz',\n",
       " '../data/sub-0235/ses-01/func/sub-0235_ses-01_task-rest_bold.nii.gz',\n",
       " '../data/sub-2125/ses-01/func/sub-2125_ses-01_task-rest_bold.nii.gz',\n",
       " '../data/sub-2139/ses-01/func/sub-2139_ses-01_task-rest_bold.nii.gz',\n",
       " '../data/sub-0265/ses-01/func/sub-0265_ses-01_task-rest_bold.nii.gz',\n",
       " '../data/sub-0209/ses-01/func/sub-0209_ses-01_task-rest_bold.nii.gz',\n",
       " '../data/sub-0247/ses-01/func/sub-0247_ses-01_task-rest_bold.nii.gz',\n",
       " '../data/sub-2137/ses-01/func/sub-2137_ses-01_task-rest_bold.nii.gz',\n",
       " '../data/sub-2131/ses-01/func/sub-2131_ses-01_task-rest_bold.nii.gz',\n",
       " '../data/sub-0256/ses-01/func/sub-0256_ses-01_task-rest_bold.nii.gz',\n",
       " '../data/sub-0246/ses-01/func/sub-0246_ses-01_task-rest_bold.nii.gz',\n",
       " '../data/sub-0253/ses-01/func/sub-0253_ses-01_task-rest_bold.nii.gz',\n",
       " '../data/sub-0232/ses-01/func/sub-0232_ses-01_task-rest_bold.nii.gz',\n",
       " '../data/sub-0227/ses-01/func/sub-0227_ses-01_task-rest_bold.nii.gz',\n",
       " '../data/sub-0242/ses-01/func/sub-0242_ses-01_task-rest_bold.nii.gz',\n",
       " '../data/sub-0263/ses-01/func/sub-0263_ses-01_task-rest_bold.nii.gz',\n",
       " '../data/sub-0237/ses-01/func/sub-0237_ses-01_task-rest_bold.nii.gz',\n",
       " '../data/sub-2129/ses-01/func/sub-2129_ses-01_task-rest_bold.nii.gz',\n",
       " '../data/sub-0249/ses-01/func/sub-0249_ses-01_task-rest_bold.nii.gz',\n",
       " '../data/sub-2136/ses-01/func/sub-2136_ses-01_task-rest_bold.nii.gz',\n",
       " '../data/sub-0234/ses-01/func/sub-0234_ses-01_task-rest_bold.nii.gz',\n",
       " '../data/sub-2154/ses-01/func/sub-2154_ses-01_task-rest_bold.nii.gz',\n",
       " '../data/sub-0250/ses-01/func/sub-0250_ses-01_task-rest_bold.nii.gz',\n",
       " '../data/sub-0255/ses-01/func/sub-0255_ses-01_task-rest_bold.nii.gz',\n",
       " '../data/sub-0233/ses-01/func/sub-0233_ses-01_task-rest_bold.nii.gz',\n",
       " '../data/sub-0258/ses-01/func/sub-0258_ses-01_task-rest_bold.nii.gz',\n",
       " '../data/sub-0204/ses-01/func/sub-0204_ses-01_task-rest_bold.nii.gz',\n",
       " '../data/sub-2140/ses-01/func/sub-2140_ses-01_task-rest_bold.nii.gz']"
      ]
     },
     "execution_count": 14,
     "metadata": {},
     "output_type": "execute_result"
    }
   ],
   "source": [
    "# glob.glob(os.path.join(root_dir, \"**\", \"func\", \"**\", \"*.nii.gz\"), recursive=True)"
   ]
  },
  {
   "cell_type": "code",
   "execution_count": 15,
   "metadata": {},
   "outputs": [
    {
     "name": "stdout",
     "output_type": "stream",
     "text": [
      "Func files without mask: ['../data/sub-0270/ses-01/func/sub-0270_ses-01_task-rest_bold.nii.gz', '../data/sub-0205/ses-01/func/sub-0205_ses-01_task-rest_bold.nii.gz', '../data/sub-0231/ses-01/func/sub-0231_ses-01_task-rest_bold.nii.gz', '../data/sub-0240/ses-01/func/sub-0240_ses-01_task-rest_bold.nii.gz', '../data/sub-0238/ses-01/func/sub-0238_ses-01_task-rest_bold.nii.gz', '../data/sub-0252/ses-01/func/sub-0252_ses-01_task-rest_bold.nii.gz', '../data/sub-2132/ses-01/func/sub-2132_ses-01_task-rest_bold.nii.gz', '../data/sub-2122/ses-01/func/sub-2122_ses-01_task-rest_bold.nii.gz', '../data/sub-0272/ses-01/func/sub-0272_ses-01_task-rest_bold.nii.gz', '../data/sub-2130/ses-01/func/sub-2130_ses-01_task-rest_bold.nii.gz', '../data/sub-2145/ses-01/func/sub-2145_ses-01_task-rest_bold.nii.gz', '../data/sub-0264/ses-01/func/sub-0264_ses-01_task-rest_bold.nii.gz', '../data/sub-2134/ses-01/func/sub-2134_ses-01_task-rest_bold.nii.gz', '../data/sub-0202/ses-01/func/sub-0202_ses-01_task-rest_bold.nii.gz', '../data/sub-2141/ses-01/func/sub-2141_ses-01_task-rest_bold.nii.gz', '../data/sub-0203/ses-01/func/sub-0203_ses-01_task-rest_bold.nii.gz', '../data/sub-0222/ses-01/func/sub-0222_ses-01_task-rest_bold.nii.gz', '../data/sub-0224/ses-01/func/sub-0224_ses-01_task-rest_bold.nii.gz', '../data/sub-2128/ses-01/func/sub-2128_ses-01_task-rest_bold.nii.gz', '../data/sub-0267/ses-01/func/sub-0267_ses-01_task-rest_bold.nii.gz', '../data/sub-0206/ses-01/func/sub-0206_ses-01_task-rest_bold.nii.gz', '../data/sub-0243/ses-01/func/sub-0243_ses-01_task-rest_bold.nii.gz', '../data/sub-0230/ses-01/func/sub-0230_ses-01_task-rest_bold.nii.gz', '../data/sub-0210/ses-01/func/sub-0210_ses-01_task-rest_bold.nii.gz', '../data/sub-0207/ses-01/func/sub-0207_ses-01_task-rest_bold.nii.gz', '../data/sub-2148/ses-01/func/sub-2148_ses-01_task-rest_bold.nii.gz', '../data/sub-0212/ses-01/func/sub-0212_ses-01_task-rest_bold.nii.gz', '../data/sub-0257/ses-01/func/sub-0257_ses-01_task-rest_bold.nii.gz', '../data/sub-0213/ses-01/func/sub-0213_ses-01_task-rest_bold.nii.gz', '../data/sub-0226/ses-01/func/sub-0226_ses-01_task-rest_bold.nii.gz', '../data/sub-0214/ses-01/func/sub-0214_ses-01_task-rest_bold.nii.gz', '../data/sub-0235/ses-01/func/sub-0235_ses-01_task-rest_bold.nii.gz', '../data/sub-2125/ses-01/func/sub-2125_ses-01_task-rest_bold.nii.gz', '../data/sub-2139/ses-01/func/sub-2139_ses-01_task-rest_bold.nii.gz', '../data/sub-0265/ses-01/func/sub-0265_ses-01_task-rest_bold.nii.gz', '../data/sub-0209/ses-01/func/sub-0209_ses-01_task-rest_bold.nii.gz', '../data/sub-0247/ses-01/func/sub-0247_ses-01_task-rest_bold.nii.gz', '../data/sub-2137/ses-01/func/sub-2137_ses-01_task-rest_bold.nii.gz', '../data/sub-2131/ses-01/func/sub-2131_ses-01_task-rest_bold.nii.gz', '../data/sub-0256/ses-01/func/sub-0256_ses-01_task-rest_bold.nii.gz', '../data/sub-0246/ses-01/func/sub-0246_ses-01_task-rest_bold.nii.gz', '../data/sub-0253/ses-01/func/sub-0253_ses-01_task-rest_bold.nii.gz', '../data/sub-0232/ses-01/func/sub-0232_ses-01_task-rest_bold.nii.gz', '../data/sub-0227/ses-01/func/sub-0227_ses-01_task-rest_bold.nii.gz', '../data/sub-0242/ses-01/func/sub-0242_ses-01_task-rest_bold.nii.gz', '../data/sub-0263/ses-01/func/sub-0263_ses-01_task-rest_bold.nii.gz', '../data/sub-0237/ses-01/func/sub-0237_ses-01_task-rest_bold.nii.gz', '../data/sub-2129/ses-01/func/sub-2129_ses-01_task-rest_bold.nii.gz', '../data/sub-0249/ses-01/func/sub-0249_ses-01_task-rest_bold.nii.gz', '../data/sub-2136/ses-01/func/sub-2136_ses-01_task-rest_bold.nii.gz', '../data/sub-0234/ses-01/func/sub-0234_ses-01_task-rest_bold.nii.gz', '../data/sub-2154/ses-01/func/sub-2154_ses-01_task-rest_bold.nii.gz', '../data/sub-0250/ses-01/func/sub-0250_ses-01_task-rest_bold.nii.gz', '../data/sub-0255/ses-01/func/sub-0255_ses-01_task-rest_bold.nii.gz', '../data/sub-0233/ses-01/func/sub-0233_ses-01_task-rest_bold.nii.gz', '../data/sub-0258/ses-01/func/sub-0258_ses-01_task-rest_bold.nii.gz', '../data/sub-0204/ses-01/func/sub-0204_ses-01_task-rest_bold.nii.gz', '../data/sub-2140/ses-01/func/sub-2140_ses-01_task-rest_bold.nii.gz']\n",
      "Anat files: ['../data/sub-0270/ses-01/anat/sub-0270_ses-01_T1w.nii.gz', '../data/sub-0205/ses-01/anat/sub-0205_ses-01_T1w.nii.gz', '../data/sub-0231/ses-01/anat/sub-0231_ses-01_T1w.nii.gz', '../data/sub-0240/ses-01/anat/sub-0240_ses-01_T1w.nii.gz', '../data/sub-0238/ses-01/anat/sub-0238_ses-01_T1w.nii.gz', '../data/sub-0252/ses-01/anat/sub-0252_ses-01_T1w.nii.gz', '../data/sub-2132/ses-01/anat/sub-2132_ses-01_T1w.nii.gz', '../data/sub-2122/ses-01/anat/sub-2122_ses-01_T1w.nii.gz', '../data/sub-0272/ses-01/anat/sub-0272_ses-01_T1w.nii.gz', '../data/sub-2130/ses-01/anat/sub-2130_ses-01_T1w.nii.gz', '../data/sub-2145/ses-01/anat/sub-2145_ses-01_T1w.nii.gz', '../data/sub-0264/ses-01/anat/sub-0264_ses-01_T1w.nii.gz', '../data/sub-2134/ses-01/anat/sub-2134_ses-01_T1w.nii.gz', '../data/sub-0202/ses-01/anat/sub-0202_ses-01_T1w.nii.gz', '../data/sub-2141/ses-01/anat/sub-2141_ses-01_T1w.nii.gz', '../data/sub-0203/ses-01/anat/sub-0203_ses-01_T1w.nii.gz', '../data/sub-0222/ses-01/anat/sub-0222_ses-01_T1w.nii.gz', '../data/sub-0224/ses-01/anat/sub-0224_ses-01_T1w.nii.gz', '../data/sub-2128/ses-01/anat/sub-2128_ses-01_T1w.nii.gz', '../data/sub-0267/ses-01/anat/sub-0267_ses-01_T1w.nii.gz', '../data/sub-0206/ses-01/anat/sub-0206_ses-01_T1w.nii.gz', '../data/sub-0243/ses-01/anat/sub-0243_ses-01_T1w.nii.gz', '../data/sub-0230/ses-01/anat/sub-0230_ses-01_T1w.nii.gz', '../data/sub-0210/ses-01/anat/sub-0210_ses-01_T1w.nii.gz', '../data/sub-0207/ses-01/anat/sub-0207_ses-01_T1w.nii.gz', '../data/sub-2148/ses-01/anat/sub-2148_ses-01_T1w.nii.gz', '../data/sub-0212/ses-01/anat/sub-0212_ses-01_T1w.nii.gz', '../data/sub-0257/ses-01/anat/sub-0257_ses-01_T1w.nii.gz', '../data/sub-0213/ses-01/anat/sub-0213_ses-01_T1w.nii.gz', '../data/sub-0226/ses-01/anat/sub-0226_ses-01_T1w.nii.gz', '../data/sub-0214/ses-01/anat/sub-0214_ses-01_T1w.nii.gz', '../data/sub-0235/ses-01/anat/sub-0235_ses-01_T1w.nii.gz', '../data/sub-2125/ses-01/anat/sub-2125_ses-01_T1w.nii.gz', '../data/sub-2139/ses-01/anat/sub-2139_ses-01_T1w.nii.gz', '../data/sub-0265/ses-01/anat/sub-0265_ses-01_T1w.nii.gz', '../data/sub-0209/ses-01/anat/sub-0209_ses-01_T1w.nii.gz', '../data/sub-0247/ses-01/anat/sub-0247_ses-01_T1w.nii.gz', '../data/sub-2137/ses-01/anat/sub-2137_ses-01_T1w.nii.gz', '../data/sub-2131/ses-01/anat/sub-2131_ses-01_T1w.nii.gz', '../data/sub-0256/ses-01/anat/sub-0256_ses-01_T1w.nii.gz', '../data/sub-0246/ses-01/anat/sub-0246_ses-01_T1w.nii.gz', '../data/sub-0253/ses-01/anat/sub-0253_ses-01_T1w.nii.gz', '../data/sub-0232/ses-01/anat/sub-0232_ses-01_T1w.nii.gz', '../data/sub-0227/ses-01/anat/sub-0227_ses-01_T1w.nii.gz', '../data/sub-0242/ses-01/anat/sub-0242_ses-01_T1w.nii.gz', '../data/sub-0263/ses-01/anat/sub-0263_ses-01_T1w.nii.gz', '../data/sub-0237/ses-01/anat/sub-0237_ses-01_T1w.nii.gz', '../data/sub-2129/ses-01/anat/sub-2129_ses-01_T1w.nii.gz', '../data/sub-0249/ses-01/anat/sub-0249_ses-01_T1w.nii.gz', '../data/sub-2136/ses-01/anat/sub-2136_ses-01_T1w.nii.gz', '../data/sub-0234/ses-01/anat/sub-0234_ses-01_T1w.nii.gz', '../data/sub-2154/ses-01/anat/sub-2154_ses-01_T1w.nii.gz', '../data/sub-0250/ses-01/anat/sub-0250_ses-01_T1w.nii.gz', '../data/sub-0255/ses-01/anat/sub-0255_ses-01_T1w.nii.gz', '../data/sub-0233/ses-01/anat/sub-0233_ses-01_T1w.nii.gz', '../data/sub-0258/ses-01/anat/sub-0258_ses-01_T1w.nii.gz', '../data/sub-0204/ses-01/anat/sub-0204_ses-01_T1w.nii.gz', '../data/sub-2140/ses-01/anat/sub-2140_ses-01_T1w.nii.gz']\n",
      "Func mask files: []\n"
     ]
    }
   ],
   "source": [
    "\n",
    "# Root directory is 'data'\n",
    "root_dir = '../data/'\n",
    "\n",
    "# Glob all files that end in .nii under any 'func' directory (in nested subfolders)\n",
    "func_files = glob.glob(os.path.join(root_dir, '**', 'func', '**', '*.nii.gz'), recursive=True)\n",
    "\n",
    "# Filter out files that contain the word 'mask' from the func_files list\n",
    "func_files_without_mask = [file for file in func_files if 'mask' not in file]\n",
    "\n",
    "# Glob all files that end in .nii under any 'anat' directory (in nested subfolders)\n",
    "anat_files = glob.glob(os.path.join(root_dir, '**', 'anat', '**', '*.nii.gz'), recursive=True)\n",
    "\n",
    "# Glob all files that contain the word \"mask\" that end in .nii and are located under any 'func' directory (in nested subfolders)\n",
    "func_mask_files = glob.glob(os.path.join(root_dir, '**', 'func', '**', '*mask*.nii.gz'), recursive=True)\n",
    "\n",
    "# Output the results\n",
    "print(\"Func files without mask:\", func_files_without_mask)\n",
    "print(\"Anat files:\", anat_files)\n",
    "print(\"Func mask files:\", func_mask_files)\n"
   ]
  },
  {
   "cell_type": "markdown",
   "metadata": {},
   "source": [
    "## Data Visualization"
   ]
  },
  {
   "cell_type": "markdown",
   "metadata": {},
   "source": [
    "### Anatomical Data Visualization"
   ]
  },
  {
   "cell_type": "code",
   "execution_count": null,
   "metadata": {},
   "outputs": [],
   "source": [
    "index = 0\n",
    "file_list_len = len(func_files_without_mask)"
   ]
  },
  {
   "cell_type": "code",
   "execution_count": null,
   "metadata": {},
   "outputs": [],
   "source": [
    "index += 1\n",
    "index %= file_list_len\n",
    "# Load the compressed NIfTI file\n",
    "img = nib.load(anat_files[index])\n",
    "\n",
    "# Get image data as a NumPy array\n",
    "data = img.get_fdata()\n",
    "\n",
    "# Display a middle slice of the brain\n",
    "slice_index = data.shape[2] // 2  # Middle slice in the z-dimension\n",
    "\n",
    "plt.imshow(data[:, :, slice_index], cmap=\"gray\")\n",
    "plt.axis(\"off\")\n",
    "plt.title(f\"T1-Weighted MRI Slice: \\n{anat_files[index]}\\n index: {index}\")\n",
    "plt.show()\n"
   ]
  },
  {
   "cell_type": "code",
   "execution_count": null,
   "metadata": {},
   "outputs": [],
   "source": [
    "data.shape"
   ]
  },
  {
   "cell_type": "code",
   "execution_count": null,
   "metadata": {},
   "outputs": [],
   "source": [
    "anat_files[index]"
   ]
  },
  {
   "cell_type": "code",
   "execution_count": null,
   "metadata": {},
   "outputs": [],
   "source": [
    "img"
   ]
  },
  {
   "cell_type": "code",
   "execution_count": null,
   "metadata": {},
   "outputs": [],
   "source": [
    "plotting.plot_anat(anat_files[index], title=f\"3D Brain Visualization: \\n{anat_files[index]}\", threshold=0.5)"
   ]
  },
  {
   "cell_type": "code",
   "execution_count": null,
   "metadata": {},
   "outputs": [],
   "source": [
    "anat_data_f_name = anat_files[index]\n",
    "func_data_f_name = func_files_without_mask[index]\n",
    "\n",
    "# Load the compressed NIfTI file\n",
    "img = nib.load(anat_data_f_name)\n",
    "\n",
    "# Get image data as a NumPy array\n",
    "anat_data = img.get_fdata()\n",
    "\n",
    "# Load the compressed NIfTI file\n",
    "img = nib.load(func_data_f_name)\n",
    "\n",
    "# Get image data as a NumPy array\n",
    "func_data = img.get_fdata()\n"
   ]
  },
  {
   "cell_type": "markdown",
   "metadata": {},
   "source": [
    "## Creating A Graph Representation"
   ]
  },
  {
   "cell_type": "markdown",
   "metadata": {},
   "source": [
    "#### [Process](https://chatgpt.com/share/67dccc80-8f9c-8011-97b0-f044a525470d)"
   ]
  },
  {
   "cell_type": "code",
   "execution_count": null,
   "metadata": {},
   "outputs": [],
   "source": [
    "# Intended Result:\n",
    "# This method allows you to visualize the differences in brain activity between individuals using the networkx graph in a 3D space. By using Three.js, you can provide an interactive and detailed representation of the anatomical brain regions and their connections, colored by activity differences."
   ]
  },
  {
   "cell_type": "markdown",
   "metadata": {},
   "source": [
    "### Load & Preprocess Data"
   ]
  },
  {
   "cell_type": "code",
   "execution_count": null,
   "metadata": {},
   "outputs": [],
   "source": [
    "# Load the 4D fMRI data and 3D anatomical data for each brain\n",
    "brains_fmri = func_files_without_mask\n",
    "brains_anatomical = anat_files"
   ]
  },
  {
   "cell_type": "code",
   "execution_count": null,
   "metadata": {},
   "outputs": [],
   "source": [
    "\n",
    "# Example: Load the first brain's fMRI and anatomical data\n",
    "fmri_data, fmri_affine = load_nii(brains_fmri[0])  # Shape: (x, y, z, t)\n",
    "anatomical_data, anatomical_affine = load_nii(brains_anatomical[0])  # Shape: (x, y, z)\n"
   ]
  },
  {
   "cell_type": "code",
   "execution_count": null,
   "metadata": {},
   "outputs": [],
   "source": [
    "\n",
    "# Extract regions of interest (ROIs) from anatomical data\n",
    "# For simplicity, use a predefined atlas (e.g., Harvard-Oxford or AAL)\n",
    "# from nilearn.datasets import load_mni152_template\n",
    "# from nilearn import plotting\n",
    "\n",
    "# Load the MNI template (in standard space) for visualization\n",
    "# mni_template = load_mni152_template()\n",
    "\n",
    "# Load an atlas, for example, Harvard-Oxford sub-cortical regions\n",
    "# from nilearn import datasets\n",
    "# from nilearn import plotting\n",
    "\n",
    "# Load Harvard-Oxford sub-cortical regions (valid name: sub-maxprob-thr50-1mm)\n",
    "atlas = datasets.fetch_atlas_harvard_oxford('sub-maxprob-thr50-1mm')\n"
   ]
  },
  {
   "cell_type": "code",
   "execution_count": null,
   "metadata": {},
   "outputs": [],
   "source": [
    "\n",
    "# The atlas is returned as a dictionary with paths to the data\n",
    "print(atlas.filename)  # This is the file path to the MNI space atlas\n"
   ]
  },
  {
   "cell_type": "code",
   "execution_count": null,
   "metadata": {},
   "outputs": [],
   "source": [
    "\n",
    "# Visualize the Harvard-Oxford sub-cortical regions\n",
    "plotting.plot_roi(atlas.filename, title=\"Harvard-Oxford Sub-Cortical Regions\", display_mode='ortho', draw_cross=True)\n",
    "plotting.show()"
   ]
  },
  {
   "cell_type": "code",
   "execution_count": null,
   "metadata": {},
   "outputs": [],
   "source": [
    "# Convert the NumPy array (anatomical_data) to a NIfTI image using the affine matrix\n",
    "anat_img = nib.Nifti1Image(anatomical_data, anatomical_affine)"
   ]
  },
  {
   "cell_type": "code",
   "execution_count": null,
   "metadata": {},
   "outputs": [],
   "source": [
    "\n",
    "# Plot the anatomical image\n",
    "plotting.plot_anat(anat_img, title=\"Brain Anatomy\")\n",
    "plotting.show()"
   ]
  },
  {
   "cell_type": "markdown",
   "metadata": {},
   "source": [
    "## Extract Region Activity"
   ]
  },
  {
   "cell_type": "code",
   "execution_count": 16,
   "metadata": {},
   "outputs": [],
   "source": [
    "# Load the 4D fMRI data and 3D anatomical data for each brain\n",
    "brains_fmri = func_files_without_mask\n",
    "brains_anatomical = anat_files"
   ]
  },
  {
   "cell_type": "code",
   "execution_count": 17,
   "metadata": {},
   "outputs": [
    {
     "name": "stdout",
     "output_type": "stream",
     "text": [
      "brains_fmri: ../data/sub-0270/ses-01/func/sub-0270_ses-01_task-rest_bold.nii.gz\n",
      "brains_anatomical: ../data/sub-0270/ses-01/anat/sub-0270_ses-01_T1w.nii.gz\n"
     ]
    }
   ],
   "source": [
    "print(f\"brains_fmri: {brains_fmri[0]}\")\n",
    "print(f\"brains_anatomical: {brains_anatomical[0]}\")"
   ]
  },
  {
   "cell_type": "code",
   "execution_count": 18,
   "metadata": {},
   "outputs": [],
   "source": [
    "# Example: Load the first brain's fMRI and anatomical data\n",
    "fmri_data, fmri_affine = load_nii(brains_fmri[0])  # Shape: (x, y, z, t)\n",
    "anatomical_data, anatomical_affine = load_nii(brains_anatomical[0])  # Shape: (x, y, z)\n",
    "anatomical_nii = nib.load(brains_anatomical[0])"
   ]
  },
  {
   "cell_type": "code",
   "execution_count": 19,
   "metadata": {},
   "outputs": [
    {
     "name": "stdout",
     "output_type": "stream",
     "text": [
      "Atlas shape: (256, 256, 192)\n",
      "fMRI shape: (64, 64, 34, 300)\n"
     ]
    }
   ],
   "source": [
    "print(\"Atlas shape:\", anatomical_data.shape)  # Should be (X, Y, Z)\n",
    "print(\"fMRI shape:\", fmri_data.shape)  # Should be (X, Y, Z, Time)"
   ]
  },
  {
   "cell_type": "code",
   "execution_count": null,
   "metadata": {},
   "outputs": [],
   "source": [
    "# Fetch the atlas (cortical or subcortical)\n",
    "\n",
    "# atlas = fetch_atlas_harvard_oxford('cort-maxprob-thr25-1mm')  # 1mm resolution\n",
    "# atlas_img = atlas.maps\n",
    "\n",
    "# Fetch the cortical atlas\n",
    "atlas_cortex = fetch_atlas_harvard_oxford('cort-maxprob-thr25-1mm')\n",
    "atlas_img_cortex = atlas_cortex.maps\n",
    "\n",
    "# Resample the atlas to match the anatomical image\n",
    "resampled_atlas = resample_to_img(atlas_img_cortex, anatomical_nii, interpolation='nearest')\n",
    "# resampled_atlas = resample_to_img(atlas_img, anatomical_nii , interpolation='nearest')\n",
    "\n",
    "# Save the new resampled atlas\n",
    "resampled_atlas.to_filename(\"registered_atlas.nii.gz\")\n",
    "plot_roi(resampled_atlas, bg_img=anatomical_nii, title=\"Registered Harvard-Oxford Atlas\")"
   ]
  },
  {
   "cell_type": "code",
   "execution_count": null,
   "metadata": {},
   "outputs": [],
   "source": [
    "# Fetch the sub-cortical atlas\n",
    "atlas_subcortical = fetch_atlas_harvard_oxford('sub-maxprob-thr25-1mm')\n",
    "atlas_img_subcortical = atlas_subcortical.filename\n",
    "\n",
    "# Resample the atlas to match the anatomical image\n",
    "resampled_atlas = resample_to_img(atlas_img_subcortical, anatomical_nii, interpolation='nearest')\n",
    "# resampled_atlas = resample_to_img(atlas_img, anatomical_nii , interpolation='nearest')\n",
    "\n",
    "# Save the new resampled atlas\n",
    "resampled_atlas.to_filename(\"registered_atlas.nii.gz\")\n",
    "plot_roi(resampled_atlas, bg_img=anatomical_nii, title=\"Registered Harvard-Oxford Atlas\")\n"
   ]
  },
  {
   "cell_type": "markdown",
   "metadata": {},
   "source": [
    "#### Defining Regions of Interest"
   ]
  },
  {
   "cell_type": "code",
   "execution_count": null,
   "metadata": {},
   "outputs": [],
   "source": [
    "# Convert the resampled atlas image to a NumPy array\n",
    "atlas_data = resampled_atlas.get_fdata()\n",
    "\n",
    "# Extract unique region labels from the atlas\n",
    "roi_labels = np.unique(atlas_data)[1:]  # Ignore background (0)\n"
   ]
  },
  {
   "cell_type": "code",
   "execution_count": null,
   "metadata": {},
   "outputs": [],
   "source": [
    "fmri_data.shape\n"
   ]
  },
  {
   "cell_type": "code",
   "execution_count": null,
   "metadata": {},
   "outputs": [],
   "source": [
    "atlas_data.shape"
   ]
  },
  {
   "cell_type": "code",
   "execution_count": null,
   "metadata": {},
   "outputs": [],
   "source": [
    "np.where(atlas_data == 1.0)"
   ]
  },
  {
   "cell_type": "code",
   "execution_count": null,
   "metadata": {},
   "outputs": [],
   "source": [
    "# Step 1: Resample the atlas to match the spatial dimensions of fmri_data (64, 64, 34)\n",
    "# Determine the scaling factors for each spatial dimension\n",
    "scaling_factors = np.array(fmri_data.shape[:3]) / np.array(atlas_data.shape)\n",
    "\n",
    "# Resample the atlas using the scaling factors (linear interpolation)\n",
    "resampled_atlas = zoom(atlas_data, scaling_factors, order=1)  # Using linear interpolation\n",
    "\n",
    "# Round and cast the resampled atlas to integers\n",
    "resampled_atlas = np.round(resampled_atlas).astype(int)\n",
    "\n",
    "# Step 2: Extract unique region labels from the resampled atlas (skip background 0)\n",
    "roi_labels = np.unique(resampled_atlas)[np.unique(resampled_atlas) > 0]\n",
    "\n",
    "# Create a dictionary to store extracted time series for each ROI\n",
    "roi_time_series = {}\n",
    "\n",
    "# Step 3: Extract fMRI time series for each ROI\n",
    "for roi in tqdm(roi_labels, desc=\"Processing ROIs\"):\n",
    "    # Get the voxel indices for the current ROI in the resampled atlas\n",
    "    roi_voxels = np.where(resampled_atlas == roi)\n",
    "\n",
    "    # Ensure the voxel indices are valid within the spatial dimensions of fmri_data\n",
    "    # Extract the fMRI signal corresponding to these voxels for each time point\n",
    "    roi_signal = fmri_data[roi_voxels].mean(axis=0)  # Averaging across voxels (axis 0 refers to spatial)\n",
    "\n",
    "    # Store the resulting time series for the current ROI\n",
    "    roi_time_series[roi] = roi_signal\n"
   ]
  },
  {
   "cell_type": "code",
   "execution_count": null,
   "metadata": {},
   "outputs": [],
   "source": [
    "roi_labels"
   ]
  },
  {
   "cell_type": "code",
   "execution_count": null,
   "metadata": {},
   "outputs": [],
   "source": [
    "roi_time_series"
   ]
  },
  {
   "cell_type": "code",
   "execution_count": null,
   "metadata": {},
   "outputs": [],
   "source": [
    "# Convert to DataFrame\n",
    "roi_df = pd.DataFrame(roi_time_series)\n"
   ]
  },
  {
   "cell_type": "code",
   "execution_count": null,
   "metadata": {},
   "outputs": [],
   "source": [
    "roi_df.head()"
   ]
  },
  {
   "cell_type": "code",
   "execution_count": null,
   "metadata": {},
   "outputs": [],
   "source": [
    "roi_df"
   ]
  },
  {
   "cell_type": "code",
   "execution_count": null,
   "metadata": {},
   "outputs": [],
   "source": [
    "roi_df.iloc[:, 0]"
   ]
  },
  {
   "cell_type": "code",
   "execution_count": null,
   "metadata": {},
   "outputs": [],
   "source": [
    "# Save as CSV\n",
    "roi_df.to_csv(\"roi_activity.csv\", index=False)\n"
   ]
  },
  {
   "cell_type": "code",
   "execution_count": null,
   "metadata": {},
   "outputs": [],
   "source": [
    "# Plot an example ROI signal\n",
    "plt.plot(roi_df.iloc[:, 0], label = atlas_subcortical.labels[1])  # Plot the first region\n",
    "plt.xlabel(\"Time\")\n",
    "plt.ylabel(\"BOLD Signal\")\n",
    "plt.title(\"Region Activity Over Time\")\n",
    "plt.legend()\n",
    "plt.show()"
   ]
  },
  {
   "cell_type": "code",
   "execution_count": null,
   "metadata": {},
   "outputs": [],
   "source": [
    "index = 0"
   ]
  },
  {
   "cell_type": "code",
   "execution_count": null,
   "metadata": {},
   "outputs": [],
   "source": [
    "# Plot an example ROI signal\n",
    "plt.plot(roi_df.iloc[:, index], label = atlas_subcortical.labels[index+1])  # Plot the first region\n",
    "plt.xlabel(\"Time\")\n",
    "plt.ylabel(\"BOLD Signal\")\n",
    "plt.title(f\"{atlas_subcortical.labels[index+1]} Region Activity Over Time\")\n",
    "plt.legend()\n",
    "plt.grid(True)\n",
    "plt.show()\n",
    "index +=1\n",
    "index %= roi_df.shape[1]"
   ]
  },
  {
   "cell_type": "markdown",
   "metadata": {},
   "source": [
    "### Calculating the ALFF/fALFF and the Bold Variability"
   ]
  },
  {
   "cell_type": "code",
   "execution_count": null,
   "metadata": {},
   "outputs": [],
   "source": [
    "index = 0"
   ]
  },
  {
   "cell_type": "code",
   "execution_count": null,
   "metadata": {},
   "outputs": [],
   "source": [
    "roi_df.iloc[:, index]"
   ]
  },
  {
   "cell_type": "code",
   "execution_count": null,
   "metadata": {},
   "outputs": [],
   "source": [
    "# Parameters\n",
    "TR = 2 # Repetition time (in seconds)\n",
    "low_freq_band = (0.01, 0.1) # Low-frequency range for ALFF (Hz)\n",
    "n_timepoints = roi_df.shape[0]\n",
    "frequencies = fftfreq(n_timepoints, d=TR)\n",
    "fft_data = fft(roi_df.iloc[:, index], axis=-1)\n"
   ]
  },
  {
   "cell_type": "code",
   "execution_count": null,
   "metadata": {},
   "outputs": [],
   "source": [
    "roi_df.iloc[:, 0]"
   ]
  },
  {
   "cell_type": "code",
   "execution_count": null,
   "metadata": {},
   "outputs": [],
   "source": [
    "\n",
    "# Create a mask for the low-frequency band\n",
    "low_freq_mask = np.logical_and(frequencies >= low_freq_band[0], frequencies <= low_freq_band[1])\n",
    "\n",
    "# Compute the ALFF: average amplitude in the low-frequency band\n",
    "alff = np.abs(fft_data)[..., low_freq_mask].mean(axis=-1)\n",
    "\n",
    "# For fALFF: Compute the total power in the 0.01-0.25 Hz range\n",
    "total_power = np.abs(fft_data)[..., (frequencies >= 0.01) & (frequencies <= 0.25)].sum(axis=-1)\n",
    "\n",
    "# Compute fALFF: Normalized ALFF\n",
    "falff = alff / total_power\n"
   ]
  },
  {
   "cell_type": "code",
   "execution_count": null,
   "metadata": {},
   "outputs": [],
   "source": [
    "# BOLD Signal Variability (e.g., using Coefficient of Variation)\n",
    "cv = np.std(roi_df.iloc[:, index]) / np.mean(roi_df.iloc[:, index])"
   ]
  },
  {
   "cell_type": "code",
   "execution_count": null,
   "metadata": {},
   "outputs": [],
   "source": [
    "falff"
   ]
  },
  {
   "cell_type": "code",
   "execution_count": null,
   "metadata": {},
   "outputs": [],
   "source": [
    "cv"
   ]
  },
  {
   "cell_type": "markdown",
   "metadata": {},
   "source": [
    "# Next Steps"
   ]
  },
  {
   "cell_type": "markdown",
   "metadata": {},
   "source": [
    "\n",
    "- [ ] Creating region_activities all_brains:  a list of dictionaries, where each dictionary maps region names to activity levels\n",
    "- [ ] regions: atlas.labels[1:]\n",
    "- [ ] brains_fmri: exists\n",
    "- [ ] Improvement: increase granularity by having multiple signals from regions where regions correspond to Link-sized regions with 1024 BOLD temporal signals\n",
    "- [ ] Compute the Activity Difference\n",
    "- [ ] Create the Graph\n",
    "- [ ] Export the graph data\n",
    "- [ ] visualize\n",
    "- [ ] host visualization on github pages\n",
    "- [ ] include sub-cortical regions\n",
    "- [ ] cluster the data by age, handedness, sex, and education\n",
    "- [ ] cluster by health, MCI, and Demented\n",
    "- [ ] evaluate level of stimulation to apply to achieve normal cognitive status\n",
    "- [ ] simulate applying stimulation to MCI or Demented to achieve Healthy Cognitive Function\n"
   ]
  },
  {
   "cell_type": "markdown",
   "metadata": {},
   "source": [
    "## Acquiring All Signals For all Brains"
   ]
  },
  {
   "cell_type": "code",
   "execution_count": 73,
   "metadata": {},
   "outputs": [],
   "source": [
    "from nilearn import datasets, plotting\n",
    "\n",
    "# Fetch the Harvard-Oxford sub-cortical atlas (probabilistic)\n",
    "atlas_filename = \"../data/atlas/NMS-SNc-atlas-master/SN_R_probatlas27_50.nii.gz\"\n",
    "\n",
    "# Plot the atlas to view the regions including substantia nigra\n",
    "plotting.plot_roi(atlas_filename, title=\"Harvard-Oxford Sub-cortical Atlas\", display_mode=\"ortho\", draw_cross=True, output_file=\"../img/brain_atlas.png\")\n",
    "plotting.show()"
   ]
  },
  {
   "cell_type": "code",
   "execution_count": 78,
   "metadata": {},
   "outputs": [
    {
     "data": {
      "text/plain": [
       "<nilearn.plotting.displays._slicers.OrthoSlicer at 0x7141886c3c40>"
      ]
     },
     "execution_count": 78,
     "metadata": {},
     "output_type": "execute_result"
    },
    {
     "data": {
      "image/png": "[encoded data removed]",
      "text/plain": [
       "<Figure size 660x350 with 4 Axes>"
      ]
     },
     "metadata": {},
     "output_type": "display_data"
    }
   ],
   "source": [
    "plotting.plot_roi(atlas_filename, title=\"Harvard-Oxford Sub-cortical Atlas\", display_mode=\"ortho\", draw_cross=True)"
   ]
  },
  {
   "cell_type": "code",
   "execution_count": 80,
   "metadata": {},
   "outputs": [
    {
     "data": {
      "text/plain": [
       "<nilearn.plotting.displays._slicers.OrthoSlicer at 0x7141884c7400>"
      ]
     },
     "execution_count": 80,
     "metadata": {},
     "output_type": "execute_result"
    },
    {
     "data": {
      "image/png": "[encoded data removed]",
      "text/plain": [
       "<Figure size 660x350 with 4 Axes>"
      ]
     },
     "metadata": {},
     "output_type": "display_data"
    }
   ],
   "source": [
    "plotting.plot_roi(atlas_img_cortex, title=\"Harvard-Oxford Sub-cortical Atlas\", display_mode=\"ortho\", draw_cross=True)\n"
   ]
  },
  {
   "cell_type": "code",
   "execution_count": 79,
   "metadata": {},
   "outputs": [
    {
     "data": {
      "text/plain": [
       "<nilearn.plotting.displays._slicers.OrthoSlicer at 0x7141885d76d0>"
      ]
     },
     "execution_count": 79,
     "metadata": {},
     "output_type": "execute_result"
    },
    {
     "data": {
      "image/png": "[encoded data removed]",
      "text/plain": [
       "<Figure size 660x350 with 4 Axes>"
      ]
     },
     "metadata": {},
     "output_type": "display_data"
    }
   ],
   "source": [
    "plotting.plot_roi(atlas_img_subcortical, title=\"Harvard-Oxford Sub-cortical Atlas\", display_mode=\"ortho\", draw_cross=True)\n"
   ]
  },
  {
   "cell_type": "code",
   "execution_count": 71,
   "metadata": {},
   "outputs": [
    {
     "name": "stdout",
     "output_type": "stream",
     "text": [
      "Harvard-Oxford Sub-cortical Atlas\n",
      "\n",
      "y=-19 x=8 °\n",
      "\n",
      "z=-13\n",
      "\n",
      "Extracted coordinates: x = 8, y = -19, z = -13\n"
     ]
    }
   ],
   "source": [
    "\n",
    "# Load the image\n",
    "image_path = \"../img/brain_atlas.png\"\n",
    "image = Image.open(image_path)\n",
    "\n",
    "# Use pytesseract to extract text from the image\n",
    "extracted_text = pytesseract.image_to_string(image)\n",
    "\n",
    "# Print the extracted text to see the output\n",
    "print(extracted_text)\n",
    "\n",
    "# Example of extracted text\n",
    "extracted_text = \"Some other information x = 8, y = -19, z = -13 more text.\"\n",
    "\n",
    "# Regex to find the x, y, z coordinates\n",
    "coordinates = re.findall(r\"x\\s*=\\s*(-?\\d+),\\s*y\\s*=\\s*(-?\\d+),\\s*z\\s*=\\s*(-?\\d+)\", extracted_text)\n",
    "\n",
    "if coordinates:\n",
    "    x, y, z = map(int, coordinates[0])  # Convert extracted coordinates to integers\n",
    "    print(f\"Extracted coordinates: x = {x}, y = {y}, z = {z}\")"
   ]
  },
  {
   "cell_type": "code",
   "execution_count": 76,
   "metadata": {},
   "outputs": [
    {
     "data": {
      "text/html": [
       "<pre style=\"white-space:pre;overflow-x:auto;line-height:normal;font-family:Menlo,'DejaVu Sans Mono',consolas,'Courier New',monospace\"><span style=\"color: #000080; text-decoration-color: #000080; font-weight: bold\">[</span><span style=\"color: #000080; text-decoration-color: #000080\">get_dataset_dir</span><span style=\"color: #000080; text-decoration-color: #000080; font-weight: bold\">]</span> Dataset found in <span style=\"color: #800080; text-decoration-color: #800080\">/home/linux-pc/nilearn_data/</span><span style=\"color: #ff00ff; text-decoration-color: #ff00ff\">fsl</span>\n",
       "</pre>\n"
      ],
      "text/plain": [
       "\u001b[1;34m[\u001b[0m\u001b[34mget_dataset_dir\u001b[0m\u001b[1;34m]\u001b[0m Dataset found in \u001b[35m/home/linux-pc/nilearn_data/\u001b[0m\u001b[95mfsl\u001b[0m\n"
      ]
     },
     "metadata": {},
     "output_type": "display_data"
    },
    {
     "data": {
      "text/html": [
       "<pre style=\"white-space:pre;overflow-x:auto;line-height:normal;font-family:Menlo,'DejaVu Sans Mono',consolas,'Courier New',monospace\"><span style=\"color: #000080; text-decoration-color: #000080; font-weight: bold\">[</span><span style=\"color: #000080; text-decoration-color: #000080\">get_dataset_dir</span><span style=\"color: #000080; text-decoration-color: #000080; font-weight: bold\">]</span> Dataset found in <span style=\"color: #800080; text-decoration-color: #800080\">/home/linux-pc/nilearn_data/</span><span style=\"color: #ff00ff; text-decoration-color: #ff00ff\">fsl</span>\n",
       "</pre>\n"
      ],
      "text/plain": [
       "\u001b[1;34m[\u001b[0m\u001b[34mget_dataset_dir\u001b[0m\u001b[1;34m]\u001b[0m Dataset found in \u001b[35m/home/linux-pc/nilearn_data/\u001b[0m\u001b[95mfsl\u001b[0m\n"
      ]
     },
     "metadata": {},
     "output_type": "display_data"
    }
   ],
   "source": [
    "# Fetch the atlas (cortical or subcortical)\n",
    "atlas_cortex = fetch_atlas_harvard_oxford('cort-maxprob-thr25-1mm')  # 1mm resolution\n",
    "atlas_img_cortex = atlas_cortex.filename\n",
    "\n",
    "# Fetch the sub-cortical atlas\n",
    "atlas_subcortical = fetch_atlas_harvard_oxford('sub-maxprob-thr25-1mm')\n",
    "atlas_img_subcortical = atlas_subcortical.filename\n"
   ]
  },
  {
   "cell_type": "code",
   "execution_count": 37,
   "metadata": {},
   "outputs": [],
   "source": [
    "region_coordinate_df = pd.DataFrame(['Frontal Pole', 'Insular Cortex', 'Superior Frontal Gyrus', 'Middle Frontal Gyrus', 'Inferior Frontal Gyrus, pars triangularis', 'Inferior Frontal Gyrus, pars opercularis', 'Precentral Gyrus', 'Temporal Pole', 'Superior Temporal Gyrus, anterior division', 'Superior Temporal Gyrus, posterior division', 'Middle Temporal Gyrus, anterior division', 'Middle Temporal Gyrus, posterior division', 'Middle Temporal Gyrus, temporooccipital part', 'Inferior Temporal Gyrus, anterior division', 'Inferior Temporal Gyrus, posterior division', 'Inferior Temporal Gyrus, temporooccipital part', 'Postcentral Gyrus', 'Superior Parietal Lobule', 'Supramarginal Gyrus, anterior division', 'Supramarginal Gyrus, posterior division', 'Angular Gyrus', 'Lateral Occipital Cortex, superior division', 'Lateral Occipital Cortex, inferior division', 'Intracalcarine Cortex', 'Frontal Medial Cortex', 'Juxtapositional Lobule Cortex (formerly Supplementary Motor Cortex)', 'Subcallosal Cortex', 'Paracingulate Gyrus', 'Cingulate Gyrus, anterior division', 'Cingulate Gyrus, posterior division', 'Precuneous Cortex', 'Cuneal Cortex', 'Frontal Orbital Cortex', 'Parahippocampal Gyrus, anterior division', 'Parahippocampal Gyrus, posterior division', 'Lingual Gyrus', 'Temporal Fusiform Cortex, anterior division', 'Temporal Fusiform Cortex, posterior division', 'Temporal Occipital Fusiform Cortex', 'Occipital Fusiform Gyrus', 'Frontal Opercular Cortex', 'Central Opercular Cortex', 'Parietal Opercular Cortex', 'Planum Polare', \"Heschl's Gyrus (includes H1 and H2)\", 'Planum Temporale', 'Supracalcarine Cortex', 'Occipital Pole', 'Left Cerebral White Matter', 'Left Cerebral Cortex', 'Left Lateral Ventricle', 'Left Thalamus', 'Left Caudate', 'Left Putamen', 'Left Pallidum', 'Brain-Stem', 'Left Hippocampus', 'Left Amygdala', 'Left Accumbens', 'Right Cerebral White Matter', 'Right Cerebral Cortex', 'Right Lateral Ventricle', 'Right Thalamus', 'Right Caudate', 'Right Putamen', 'Right Pallidum', 'Right Hippocampus', 'Right Amygdala', 'Right Accumbens', 'Substantia Nigra Right', 'Substantia Nigra Left'], columns=[\"Region\"])"
   ]
  },
  {
   "cell_type": "code",
   "execution_count": 83,
   "metadata": {},
   "outputs": [
    {
     "data": {
      "text/plain": [
       "'../data/atlas/NMS-SNc-atlas-master/SN_R_probatlas27_50.nii.gz'"
      ]
     },
     "execution_count": 83,
     "metadata": {},
     "output_type": "execute_result"
    }
   ],
   "source": [
    "atlas_filename"
   ]
  },
  {
   "cell_type": "code",
   "execution_count": 86,
   "metadata": {},
   "outputs": [],
   "source": [
    "atlas_data = nib.load(atlas_filename).get_fdata()"
   ]
  },
  {
   "cell_type": "code",
   "execution_count": null,
   "metadata": {},
   "outputs": [],
   "source": []
  },
  {
   "cell_type": "code",
   "execution_count": null,
   "metadata": {},
   "outputs": [
    {
     "data": {
      "text/plain": [
       "array([[[0., 0., 0., ..., 0., 0., 0.],\n",
       "        [0., 0., 0., ..., 0., 0., 0.],\n",
       "        [0., 0., 0., ..., 0., 0., 0.],\n",
       "        ...,\n",
       "        [0., 0., 0., ..., 0., 0., 0.],\n",
       "        [0., 0., 0., ..., 0., 0., 0.],\n",
       "        [0., 0., 0., ..., 0., 0., 0.]],\n",
       "\n",
       "       [[0., 0., 0., ..., 0., 0., 0.],\n",
       "        [0., 0., 0., ..., 0., 0., 0.],\n",
       "        [0., 0., 0., ..., 0., 0., 0.],\n",
       "        ...,\n",
       "        [0., 0., 0., ..., 0., 0., 0.],\n",
       "        [0., 0., 0., ..., 0., 0., 0.],\n",
       "        [0., 0., 0., ..., 0., 0., 0.]],\n",
       "\n",
       "       [[0., 0., 0., ..., 0., 0., 0.],\n",
       "        [0., 0., 0., ..., 0., 0., 0.],\n",
       "        [0., 0., 0., ..., 0., 0., 0.],\n",
       "        ...,\n",
       "        [0., 0., 0., ..., 0., 0., 0.],\n",
       "        [0., 0., 0., ..., 0., 0., 0.],\n",
       "        [0., 0., 0., ..., 0., 0., 0.]],\n",
       "\n",
       "       ...,\n",
       "\n",
       "       [[0., 0., 0., ..., 0., 0., 0.],\n",
       "        [0., 0., 0., ..., 0., 0., 0.],\n",
       "        [0., 0., 0., ..., 0., 0., 0.],\n",
       "        ...,\n",
       "        [0., 0., 0., ..., 0., 0., 0.],\n",
       "        [0., 0., 0., ..., 0., 0., 0.],\n",
       "        [0., 0., 0., ..., 0., 0., 0.]],\n",
       "\n",
       "       [[0., 0., 0., ..., 0., 0., 0.],\n",
       "        [0., 0., 0., ..., 0., 0., 0.],\n",
       "        [0., 0., 0., ..., 0., 0., 0.],\n",
       "        ...,\n",
       "        [0., 0., 0., ..., 0., 0., 0.],\n",
       "        [0., 0., 0., ..., 0., 0., 0.],\n",
       "        [0., 0., 0., ..., 0., 0., 0.]],\n",
       "\n",
       "       [[0., 0., 0., ..., 0., 0., 0.],\n",
       "        [0., 0., 0., ..., 0., 0., 0.],\n",
       "        [0., 0., 0., ..., 0., 0., 0.],\n",
       "        ...,\n",
       "        [0., 0., 0., ..., 0., 0., 0.],\n",
       "        [0., 0., 0., ..., 0., 0., 0.],\n",
       "        [0., 0., 0., ..., 0., 0., 0.]]])"
      ]
     },
     "execution_count": 87,
     "metadata": {},
     "output_type": "execute_result"
    }
   ],
   "source": [
    "atlas_data"
   ]
  },
  {
   "cell_type": "code",
   "execution_count": 91,
   "metadata": {},
   "outputs": [
    {
     "data": {
      "text/plain": [
       "['Left Cerebral White Matter',\n",
       " 'Left Cerebral Cortex',\n",
       " 'Left Lateral Ventricle',\n",
       " 'Left Thalamus',\n",
       " 'Left Caudate',\n",
       " 'Left Putamen',\n",
       " 'Left Pallidum',\n",
       " 'Brain-Stem',\n",
       " 'Left Hippocampus',\n",
       " 'Left Amygdala',\n",
       " 'Left Accumbens',\n",
       " 'Right Cerebral White Matter',\n",
       " 'Right Cerebral Cortex',\n",
       " 'Right Lateral Ventricle',\n",
       " 'Right Thalamus',\n",
       " 'Right Caudate',\n",
       " 'Right Putamen',\n",
       " 'Right Pallidum',\n",
       " 'Right Hippocampus',\n",
       " 'Right Amygdala',\n",
       " 'Right Accumbens']"
      ]
     },
     "execution_count": 91,
     "metadata": {},
     "output_type": "execute_result"
    }
   ],
   "source": [
    "atlas.labels[1:]"
   ]
  },
  {
   "cell_type": "code",
   "execution_count": 82,
   "metadata": {},
   "outputs": [
    {
     "name": "stdout",
     "output_type": "stream",
     "text": [
      "Coordinates for 'Frontal Pole': []\n"
     ]
    }
   ],
   "source": [
    "import nibabel as nib\n",
    "from nilearn import plotting\n",
    "from nilearn import image\n",
    "import numpy as np\n",
    "\n",
    "# Load an MNI template (standard brain template)\n",
    "mni_template = nib.load(atlas_filename)  # Use the path to the MNI template file\n",
    "data = mni_template.get_fdata()\n",
    "\n",
    "# Define a function to extract coordinates for specific brain regions from an atlas\n",
    "def get_coordinates(region_name):\n",
    "    # Load the brain atlas (ensure you have an atlas like Harvard-Oxford or similar)\n",
    "    atlas_path = atlas_filename  # Replace with the actual atlas file path\n",
    "    atlas = nib.load(atlas_path)\n",
    "    atlas_data = atlas.get_fdata()\n",
    "\n",
    "    # Lookup for the region in the atlas (you would need to map region names to specific voxel values)\n",
    "    # Assuming the region is encoded by a unique value in the atlas\n",
    "    region_label = None  # Get the corresponding label (this depends on your atlas)\n",
    "    region_indices = np.where(atlas_data == region_label)\n",
    "\n",
    "    # Convert voxel indices to MNI space (you can use nibabel for this)\n",
    "    mni_coords = nib.affines.apply_affine(mni_template.affine, np.array(region_indices).T)\n",
    "\n",
    "    return mni_coords\n",
    "\n",
    "# Example: Get coordinates for the 'Frontal Pole'\n",
    "coordinates = get_coordinates('Substantia Nigra Right')\n",
    "print(f\"Coordinates for 'Frontal Pole': {coordinates}\")\n"
   ]
  },
  {
   "cell_type": "code",
   "execution_count": 44,
   "metadata": {},
   "outputs": [],
   "source": [
    "x = np.array([0 for index in range(71)])\n",
    "y = np.array([0 for index in range(71)])\n",
    "z = np.array([0 for index in range(71)])"
   ]
  },
  {
   "cell_type": "code",
   "execution_count": 45,
   "metadata": {},
   "outputs": [],
   "source": [
    "region_coordinate_df[\"x\"] = x\n",
    "region_coordinate_df[\"y\"] = y\n",
    "region_coordinate_df[\"z\"] = z"
   ]
  },
  {
   "cell_type": "code",
   "execution_count": 57,
   "metadata": {},
   "outputs": [
    {
     "data": {
      "text/plain": [
       "Region    Substantia Nigra Right\n",
       "x                              0\n",
       "y                              0\n",
       "z                              0\n",
       "Name: 69, dtype: object"
      ]
     },
     "execution_count": 57,
     "metadata": {},
     "output_type": "execute_result"
    }
   ],
   "source": [
    "region_coordinate_df.iloc[69, :]"
   ]
  },
  {
   "cell_type": "code",
   "execution_count": 60,
   "metadata": {},
   "outputs": [],
   "source": [
    "region = \"Substantia Nigra Right\""
   ]
  },
  {
   "cell_type": "code",
   "execution_count": 62,
   "metadata": {},
   "outputs": [
    {
     "data": {
      "text/html": [
       "<div>\n",
       "<style scoped>\n",
       "    .dataframe tbody tr th:only-of-type {\n",
       "        vertical-align: middle;\n",
       "    }\n",
       "\n",
       "    .dataframe tbody tr th {\n",
       "        vertical-align: top;\n",
       "    }\n",
       "\n",
       "    .dataframe thead th {\n",
       "        text-align: right;\n",
       "    }\n",
       "</style>\n",
       "<table border=\"1\" class=\"dataframe\">\n",
       "  <thead>\n",
       "    <tr style=\"text-align: right;\">\n",
       "      <th></th>\n",
       "      <th>Region</th>\n",
       "      <th>x</th>\n",
       "      <th>y</th>\n",
       "      <th>z</th>\n",
       "    </tr>\n",
       "  </thead>\n",
       "  <tbody>\n",
       "    <tr>\n",
       "      <th>69</th>\n",
       "      <td>Substantia Nigra Right</td>\n",
       "      <td>0</td>\n",
       "      <td>0</td>\n",
       "      <td>0</td>\n",
       "    </tr>\n",
       "  </tbody>\n",
       "</table>\n",
       "</div>"
      ],
      "text/plain": [
       "                    Region  x  y  z\n",
       "69  Substantia Nigra Right  0  0  0"
      ]
     },
     "execution_count": 62,
     "metadata": {},
     "output_type": "execute_result"
    }
   ],
   "source": [
    "region_coordinate_df.loc[region_coordinate_df[\"Region\"] == region, :]"
   ]
  },
  {
   "cell_type": "code",
   "execution_count": null,
   "metadata": {},
   "outputs": [
    {
     "ename": "ValueError",
     "evalue": "Invalid atlas name: sub-cortical. Please choose an atlas among:\ncort-maxprob-thr0-1mm\ncort-maxprob-thr0-2mm\ncort-maxprob-thr25-1mm\ncort-maxprob-thr25-2mm\ncort-maxprob-thr50-1mm\ncort-maxprob-thr50-2mm\ncort-prob-1mm\ncort-prob-2mm\ncortl-maxprob-thr0-1mm\ncortl-maxprob-thr0-2mm\ncortl-maxprob-thr25-1mm\ncortl-maxprob-thr25-2mm\ncortl-maxprob-thr50-1mm\ncortl-maxprob-thr50-2mm\ncortl-prob-1mm\ncortl-prob-2mm\nsub-maxprob-thr0-1mm\nsub-maxprob-thr0-2mm\nsub-maxprob-thr25-1mm\nsub-maxprob-thr25-2mm\nsub-maxprob-thr50-1mm\nsub-maxprob-thr50-2mm\nsub-prob-1mm\nsub-prob-2mm",
     "output_type": "error",
     "traceback": [
      "\u001b[0;31m---------------------------------------------------------------------------\u001b[0m\n",
      "\u001b[0;31mValueError\u001b[0m                                Traceback (most recent call last)\n",
      "Cell \u001b[0;32mIn[5], line 1\u001b[0m\n",
      "\u001b[0;32m----> 1\u001b[0m atlas_filename \u001b[38;5;241m=\u001b[39m \u001b[43mdatasets\u001b[49m\u001b[38;5;241;43m.\u001b[39;49m\u001b[43mfetch_atlas_harvard_oxford\u001b[49m\u001b[43m(\u001b[49m\u001b[38;5;124;43m'\u001b[39;49m\u001b[38;5;124;43msub-cortical\u001b[39;49m\u001b[38;5;124;43m'\u001b[39;49m\u001b[43m)\u001b[49m[\u001b[38;5;124m'\u001b[39m\u001b[38;5;124mfilename\u001b[39m\u001b[38;5;124m'\u001b[39m]\n",
      "\n",
      "File \u001b[0;32m~/anaconda3/envs/torch/lib/python3.10/site-packages/nilearn/datasets/atlas.py:487\u001b[0m, in \u001b[0;36mfetch_atlas_harvard_oxford\u001b[0;34m(atlas_name, data_dir, symmetric_split, resume, verbose)\u001b[0m\n",
      "\u001b[1;32m    485\u001b[0m \u001b[38;5;28;01mif\u001b[39;00m atlas_name \u001b[38;5;129;01mnot\u001b[39;00m \u001b[38;5;129;01min\u001b[39;00m atlases:\n",
      "\u001b[1;32m    486\u001b[0m     atlases \u001b[38;5;241m=\u001b[39m \u001b[38;5;124m\"\u001b[39m\u001b[38;5;130;01m\\n\u001b[39;00m\u001b[38;5;124m\"\u001b[39m\u001b[38;5;241m.\u001b[39mjoin(atlases)\n",
      "\u001b[0;32m--> 487\u001b[0m     \u001b[38;5;28;01mraise\u001b[39;00m \u001b[38;5;167;01mValueError\u001b[39;00m(\n",
      "\u001b[1;32m    488\u001b[0m         \u001b[38;5;124mf\u001b[39m\u001b[38;5;124m\"\u001b[39m\u001b[38;5;124mInvalid atlas name: \u001b[39m\u001b[38;5;132;01m{\u001b[39;00matlas_name\u001b[38;5;132;01m}\u001b[39;00m\u001b[38;5;124m. \u001b[39m\u001b[38;5;124m\"\u001b[39m\n",
      "\u001b[1;32m    489\u001b[0m         \u001b[38;5;124mf\u001b[39m\u001b[38;5;124m\"\u001b[39m\u001b[38;5;124mPlease choose an atlas among:\u001b[39m\u001b[38;5;130;01m\\n\u001b[39;00m\u001b[38;5;132;01m{\u001b[39;00matlases\u001b[38;5;132;01m}\u001b[39;00m\u001b[38;5;124m\"\u001b[39m\n",
      "\u001b[1;32m    490\u001b[0m     )\n",
      "\u001b[1;32m    491\u001b[0m is_probabilistic \u001b[38;5;241m=\u001b[39m \u001b[38;5;124m\"\u001b[39m\u001b[38;5;124m-prob-\u001b[39m\u001b[38;5;124m\"\u001b[39m \u001b[38;5;129;01min\u001b[39;00m atlas_name\n",
      "\u001b[1;32m    492\u001b[0m \u001b[38;5;28;01mif\u001b[39;00m is_probabilistic \u001b[38;5;129;01mand\u001b[39;00m symmetric_split:\n",
      "\n",
      "\u001b[0;31mValueError\u001b[0m: Invalid atlas name: sub-cortical. Please choose an atlas among:\n",
      "cort-maxprob-thr0-1mm\n",
      "cort-maxprob-thr0-2mm\n",
      "cort-maxprob-thr25-1mm\n",
      "cort-maxprob-thr25-2mm\n",
      "cort-maxprob-thr50-1mm\n",
      "cort-maxprob-thr50-2mm\n",
      "cort-prob-1mm\n",
      "cort-prob-2mm\n",
      "cortl-maxprob-thr0-1mm\n",
      "cortl-maxprob-thr0-2mm\n",
      "cortl-maxprob-thr25-1mm\n",
      "cortl-maxprob-thr25-2mm\n",
      "cortl-maxprob-thr50-1mm\n",
      "cortl-maxprob-thr50-2mm\n",
      "cortl-prob-1mm\n",
      "cortl-prob-2mm\n",
      "sub-maxprob-thr0-1mm\n",
      "sub-maxprob-thr0-2mm\n",
      "sub-maxprob-thr25-1mm\n",
      "sub-maxprob-thr25-2mm\n",
      "sub-maxprob-thr50-1mm\n",
      "sub-maxprob-thr50-2mm\n",
      "sub-prob-1mm\n",
      "sub-prob-2mm"
     ]
    }
   ],
   "source": [
    "atlas_filename = datasets.fetch_atlas_harvard_oxford('sub-cortical')['filename']"
   ]
  },
  {
   "cell_type": "code",
   "execution_count": 33,
   "metadata": {},
   "outputs": [
    {
     "data": {
      "text/plain": [
       "'../data/atlas/NMS-SNc-atlas-master/SN_L_probatlas27_50.nii.gz'"
      ]
     },
     "execution_count": 33,
     "metadata": {},
     "output_type": "execute_result"
    }
   ],
   "source": [
    "atlas_filename"
   ]
  },
  {
   "cell_type": "code",
   "execution_count": 32,
   "metadata": {},
   "outputs": [
    {
     "name": "stdout",
     "output_type": "stream",
     "text": [
      "[[ -2. -21. -18.]\n",
      " [ -2. -21. -17.]\n",
      " [ -2. -20. -17.]\n",
      " [ -2. -20. -16.]\n",
      " [ -2. -19. -16.]\n",
      " [ -2. -19. -15.]\n",
      " [ -3. -22. -19.]\n",
      " [ -3. -22. -18.]\n",
      " [ -3. -21. -19.]\n",
      " [ -3. -21. -18.]]\n"
     ]
    }
   ],
   "source": [
    "import nibabel as nib\n",
    "import numpy as np\n",
    "\n",
    "# Load the atlas NIfTI image\n",
    "atlas_img = nib.load(atlas_filename)\n",
    "\n",
    "# Get the image data as a numpy array\n",
    "atlas_data = atlas_img.get_fdata()\n",
    "\n",
    "# Find the nonzero voxel coordinates (i.e., where the atlas has nonzero values)\n",
    "voxel_coords = np.argwhere(atlas_data > 0)\n",
    "\n",
    "# Convert voxel coordinates to real-world (MNI or scanner) space\n",
    "affine = atlas_img.affine\n",
    "world_coords = nib.affines.apply_affine(affine, voxel_coords)\n",
    "\n",
    "# Print first few coordinates\n",
    "print(world_coords[:10])\n"
   ]
  },
  {
   "cell_type": "code",
   "execution_count": 30,
   "metadata": {},
   "outputs": [
    {
     "data": {
      "text/html": [
       "<pre style=\"white-space:pre;overflow-x:auto;line-height:normal;font-family:Menlo,'DejaVu Sans Mono',consolas,'Courier New',monospace\"><span style=\"color: #000080; text-decoration-color: #000080; font-weight: bold\">[</span><span style=\"color: #000080; text-decoration-color: #000080\">get_dataset_dir</span><span style=\"color: #000080; text-decoration-color: #000080; font-weight: bold\">]</span> Dataset found in <span style=\"color: #800080; text-decoration-color: #800080\">/home/linux-pc/nilearn_data/</span><span style=\"color: #ff00ff; text-decoration-color: #ff00ff\">aal_SPM12</span>\n",
       "</pre>\n"
      ],
      "text/plain": [
       "\u001b[1;34m[\u001b[0m\u001b[34mget_dataset_dir\u001b[0m\u001b[1;34m]\u001b[0m Dataset found in \u001b[35m/home/linux-pc/nilearn_data/\u001b[0m\u001b[95maal_SPM12\u001b[0m\n"
      ]
     },
     "metadata": {},
     "output_type": "display_data"
    },
    {
     "data": {
      "text/html": [
       "<pre style=\"white-space:pre;overflow-x:auto;line-height:normal;font-family:Menlo,'DejaVu Sans Mono',consolas,'Courier New',monospace\"><span style=\"color: #000080; text-decoration-color: #000080; font-weight: bold\">[</span><span style=\"color: #000080; text-decoration-color: #000080\">fetch_single_file</span><span style=\"color: #000080; text-decoration-color: #000080; font-weight: bold\">]</span> Downloading data from <span style=\"color: #0000ff; text-decoration-color: #0000ff; text-decoration: underline\">https://www.gin.cnrs.fr/AAL_files/aal_for_SPM12.tar.gz</span> <span style=\"color: #808000; text-decoration-color: #808000\">...</span>\n",
       "</pre>\n"
      ],
      "text/plain": [
       "\u001b[1;34m[\u001b[0m\u001b[34mfetch_single_file\u001b[0m\u001b[1;34m]\u001b[0m Downloading data from \u001b[4;94mhttps://www.gin.cnrs.fr/AAL_files/aal_for_SPM12.tar.gz\u001b[0m \u001b[33m...\u001b[0m\n"
      ]
     },
     "metadata": {},
     "output_type": "display_data"
    },
    {
     "data": {
      "text/html": [
       "<pre style=\"white-space:pre;overflow-x:auto;line-height:normal;font-family:Menlo,'DejaVu Sans Mono',consolas,'Courier New',monospace\"><span style=\"color: #000080; text-decoration-color: #000080; font-weight: bold\">[</span><span style=\"color: #000080; text-decoration-color: #000080\">fetch_single_file</span><span style=\"color: #000080; text-decoration-color: #000080; font-weight: bold\">]</span> Error while fetching file aal_for_SPM12.tar.gz; dataset fetching aborted.\n",
       "</pre>\n"
      ],
      "text/plain": [
       "\u001b[1;34m[\u001b[0m\u001b[34mfetch_single_file\u001b[0m\u001b[1;34m]\u001b[0m Error while fetching file aal_for_SPM12.tar.gz; dataset fetching aborted.\n"
      ]
     },
     "metadata": {},
     "output_type": "display_data"
    },
    {
     "ename": "SSLError",
     "evalue": "HTTPSConnectionPool(host='www.gin.cnrs.fr', port=443): Max retries exceeded with url: /AAL_files/aal_for_SPM12.tar.gz (Caused by SSLError(SSLCertVerificationError(1, \"[SSL: CERTIFICATE_VERIFY_FAILED] certificate verify failed: Hostname mismatch, certificate is not valid for 'www.gin.cnrs.fr'. (_ssl.c:1007)\")))",
     "output_type": "error",
     "traceback": [
      "\u001b[0;31m---------------------------------------------------------------------------\u001b[0m",
      "\u001b[0;31mSSLCertVerificationError\u001b[0m                  Traceback (most recent call last)",
      "File \u001b[0;32m~/anaconda3/envs/torch/lib/python3.10/site-packages/urllib3/connectionpool.py:464\u001b[0m, in \u001b[0;36mHTTPConnectionPool._make_request\u001b[0;34m(self, conn, method, url, body, headers, retries, timeout, chunked, response_conn, preload_content, decode_content, enforce_content_length)\u001b[0m\n\u001b[1;32m    463\u001b[0m \u001b[38;5;28;01mtry\u001b[39;00m:\n\u001b[0;32m--> 464\u001b[0m     \u001b[38;5;28;43mself\u001b[39;49m\u001b[38;5;241;43m.\u001b[39;49m\u001b[43m_validate_conn\u001b[49m\u001b[43m(\u001b[49m\u001b[43mconn\u001b[49m\u001b[43m)\u001b[49m\n\u001b[1;32m    465\u001b[0m \u001b[38;5;28;01mexcept\u001b[39;00m (SocketTimeout, BaseSSLError) \u001b[38;5;28;01mas\u001b[39;00m e:\n",
      "File \u001b[0;32m~/anaconda3/envs/torch/lib/python3.10/site-packages/urllib3/connectionpool.py:1093\u001b[0m, in \u001b[0;36mHTTPSConnectionPool._validate_conn\u001b[0;34m(self, conn)\u001b[0m\n\u001b[1;32m   1092\u001b[0m \u001b[38;5;28;01mif\u001b[39;00m conn\u001b[38;5;241m.\u001b[39mis_closed:\n\u001b[0;32m-> 1093\u001b[0m     \u001b[43mconn\u001b[49m\u001b[38;5;241;43m.\u001b[39;49m\u001b[43mconnect\u001b[49m\u001b[43m(\u001b[49m\u001b[43m)\u001b[49m\n\u001b[1;32m   1095\u001b[0m \u001b[38;5;66;03m# TODO revise this, see https://github.com/urllib3/urllib3/issues/2791\u001b[39;00m\n",
      "File \u001b[0;32m~/anaconda3/envs/torch/lib/python3.10/site-packages/urllib3/connection.py:741\u001b[0m, in \u001b[0;36mHTTPSConnection.connect\u001b[0;34m(self)\u001b[0m\n\u001b[1;32m    739\u001b[0m server_hostname_rm_dot \u001b[38;5;241m=\u001b[39m server_hostname\u001b[38;5;241m.\u001b[39mrstrip(\u001b[38;5;124m\"\u001b[39m\u001b[38;5;124m.\u001b[39m\u001b[38;5;124m\"\u001b[39m)\n\u001b[0;32m--> 741\u001b[0m sock_and_verified \u001b[38;5;241m=\u001b[39m \u001b[43m_ssl_wrap_socket_and_match_hostname\u001b[49m\u001b[43m(\u001b[49m\n\u001b[1;32m    742\u001b[0m \u001b[43m    \u001b[49m\u001b[43msock\u001b[49m\u001b[38;5;241;43m=\u001b[39;49m\u001b[43msock\u001b[49m\u001b[43m,\u001b[49m\n\u001b[1;32m    743\u001b[0m \u001b[43m    \u001b[49m\u001b[43mcert_reqs\u001b[49m\u001b[38;5;241;43m=\u001b[39;49m\u001b[38;5;28;43mself\u001b[39;49m\u001b[38;5;241;43m.\u001b[39;49m\u001b[43mcert_reqs\u001b[49m\u001b[43m,\u001b[49m\n\u001b[1;32m    744\u001b[0m \u001b[43m    \u001b[49m\u001b[43mssl_version\u001b[49m\u001b[38;5;241;43m=\u001b[39;49m\u001b[38;5;28;43mself\u001b[39;49m\u001b[38;5;241;43m.\u001b[39;49m\u001b[43mssl_version\u001b[49m\u001b[43m,\u001b[49m\n\u001b[1;32m    745\u001b[0m \u001b[43m    \u001b[49m\u001b[43mssl_minimum_version\u001b[49m\u001b[38;5;241;43m=\u001b[39;49m\u001b[38;5;28;43mself\u001b[39;49m\u001b[38;5;241;43m.\u001b[39;49m\u001b[43mssl_minimum_version\u001b[49m\u001b[43m,\u001b[49m\n\u001b[1;32m    746\u001b[0m \u001b[43m    \u001b[49m\u001b[43mssl_maximum_version\u001b[49m\u001b[38;5;241;43m=\u001b[39;49m\u001b[38;5;28;43mself\u001b[39;49m\u001b[38;5;241;43m.\u001b[39;49m\u001b[43mssl_maximum_version\u001b[49m\u001b[43m,\u001b[49m\n\u001b[1;32m    747\u001b[0m \u001b[43m    \u001b[49m\u001b[43mca_certs\u001b[49m\u001b[38;5;241;43m=\u001b[39;49m\u001b[38;5;28;43mself\u001b[39;49m\u001b[38;5;241;43m.\u001b[39;49m\u001b[43mca_certs\u001b[49m\u001b[43m,\u001b[49m\n\u001b[1;32m    748\u001b[0m \u001b[43m    \u001b[49m\u001b[43mca_cert_dir\u001b[49m\u001b[38;5;241;43m=\u001b[39;49m\u001b[38;5;28;43mself\u001b[39;49m\u001b[38;5;241;43m.\u001b[39;49m\u001b[43mca_cert_dir\u001b[49m\u001b[43m,\u001b[49m\n\u001b[1;32m    749\u001b[0m \u001b[43m    \u001b[49m\u001b[43mca_cert_data\u001b[49m\u001b[38;5;241;43m=\u001b[39;49m\u001b[38;5;28;43mself\u001b[39;49m\u001b[38;5;241;43m.\u001b[39;49m\u001b[43mca_cert_data\u001b[49m\u001b[43m,\u001b[49m\n\u001b[1;32m    750\u001b[0m \u001b[43m    \u001b[49m\u001b[43mcert_file\u001b[49m\u001b[38;5;241;43m=\u001b[39;49m\u001b[38;5;28;43mself\u001b[39;49m\u001b[38;5;241;43m.\u001b[39;49m\u001b[43mcert_file\u001b[49m\u001b[43m,\u001b[49m\n\u001b[1;32m    751\u001b[0m \u001b[43m    \u001b[49m\u001b[43mkey_file\u001b[49m\u001b[38;5;241;43m=\u001b[39;49m\u001b[38;5;28;43mself\u001b[39;49m\u001b[38;5;241;43m.\u001b[39;49m\u001b[43mkey_file\u001b[49m\u001b[43m,\u001b[49m\n\u001b[1;32m    752\u001b[0m \u001b[43m    \u001b[49m\u001b[43mkey_password\u001b[49m\u001b[38;5;241;43m=\u001b[39;49m\u001b[38;5;28;43mself\u001b[39;49m\u001b[38;5;241;43m.\u001b[39;49m\u001b[43mkey_password\u001b[49m\u001b[43m,\u001b[49m\n\u001b[1;32m    753\u001b[0m \u001b[43m    \u001b[49m\u001b[43mserver_hostname\u001b[49m\u001b[38;5;241;43m=\u001b[39;49m\u001b[43mserver_hostname_rm_dot\u001b[49m\u001b[43m,\u001b[49m\n\u001b[1;32m    754\u001b[0m \u001b[43m    \u001b[49m\u001b[43mssl_context\u001b[49m\u001b[38;5;241;43m=\u001b[39;49m\u001b[38;5;28;43mself\u001b[39;49m\u001b[38;5;241;43m.\u001b[39;49m\u001b[43mssl_context\u001b[49m\u001b[43m,\u001b[49m\n\u001b[1;32m    755\u001b[0m \u001b[43m    \u001b[49m\u001b[43mtls_in_tls\u001b[49m\u001b[38;5;241;43m=\u001b[39;49m\u001b[43mtls_in_tls\u001b[49m\u001b[43m,\u001b[49m\n\u001b[1;32m    756\u001b[0m \u001b[43m    \u001b[49m\u001b[43massert_hostname\u001b[49m\u001b[38;5;241;43m=\u001b[39;49m\u001b[38;5;28;43mself\u001b[39;49m\u001b[38;5;241;43m.\u001b[39;49m\u001b[43massert_hostname\u001b[49m\u001b[43m,\u001b[49m\n\u001b[1;32m    757\u001b[0m \u001b[43m    \u001b[49m\u001b[43massert_fingerprint\u001b[49m\u001b[38;5;241;43m=\u001b[39;49m\u001b[38;5;28;43mself\u001b[39;49m\u001b[38;5;241;43m.\u001b[39;49m\u001b[43massert_fingerprint\u001b[49m\u001b[43m,\u001b[49m\n\u001b[1;32m    758\u001b[0m \u001b[43m\u001b[49m\u001b[43m)\u001b[49m\n\u001b[1;32m    759\u001b[0m \u001b[38;5;28mself\u001b[39m\u001b[38;5;241m.\u001b[39msock \u001b[38;5;241m=\u001b[39m sock_and_verified\u001b[38;5;241m.\u001b[39msocket\n",
      "File \u001b[0;32m~/anaconda3/envs/torch/lib/python3.10/site-packages/urllib3/connection.py:920\u001b[0m, in \u001b[0;36m_ssl_wrap_socket_and_match_hostname\u001b[0;34m(sock, cert_reqs, ssl_version, ssl_minimum_version, ssl_maximum_version, cert_file, key_file, key_password, ca_certs, ca_cert_dir, ca_cert_data, assert_hostname, assert_fingerprint, server_hostname, ssl_context, tls_in_tls)\u001b[0m\n\u001b[1;32m    918\u001b[0m         server_hostname \u001b[38;5;241m=\u001b[39m normalized\n\u001b[0;32m--> 920\u001b[0m ssl_sock \u001b[38;5;241m=\u001b[39m \u001b[43mssl_wrap_socket\u001b[49m\u001b[43m(\u001b[49m\n\u001b[1;32m    921\u001b[0m \u001b[43m    \u001b[49m\u001b[43msock\u001b[49m\u001b[38;5;241;43m=\u001b[39;49m\u001b[43msock\u001b[49m\u001b[43m,\u001b[49m\n\u001b[1;32m    922\u001b[0m \u001b[43m    \u001b[49m\u001b[43mkeyfile\u001b[49m\u001b[38;5;241;43m=\u001b[39;49m\u001b[43mkey_file\u001b[49m\u001b[43m,\u001b[49m\n\u001b[1;32m    923\u001b[0m \u001b[43m    \u001b[49m\u001b[43mcertfile\u001b[49m\u001b[38;5;241;43m=\u001b[39;49m\u001b[43mcert_file\u001b[49m\u001b[43m,\u001b[49m\n\u001b[1;32m    924\u001b[0m \u001b[43m    \u001b[49m\u001b[43mkey_password\u001b[49m\u001b[38;5;241;43m=\u001b[39;49m\u001b[43mkey_password\u001b[49m\u001b[43m,\u001b[49m\n\u001b[1;32m    925\u001b[0m \u001b[43m    \u001b[49m\u001b[43mca_certs\u001b[49m\u001b[38;5;241;43m=\u001b[39;49m\u001b[43mca_certs\u001b[49m\u001b[43m,\u001b[49m\n\u001b[1;32m    926\u001b[0m \u001b[43m    \u001b[49m\u001b[43mca_cert_dir\u001b[49m\u001b[38;5;241;43m=\u001b[39;49m\u001b[43mca_cert_dir\u001b[49m\u001b[43m,\u001b[49m\n\u001b[1;32m    927\u001b[0m \u001b[43m    \u001b[49m\u001b[43mca_cert_data\u001b[49m\u001b[38;5;241;43m=\u001b[39;49m\u001b[43mca_cert_data\u001b[49m\u001b[43m,\u001b[49m\n\u001b[1;32m    928\u001b[0m \u001b[43m    \u001b[49m\u001b[43mserver_hostname\u001b[49m\u001b[38;5;241;43m=\u001b[39;49m\u001b[43mserver_hostname\u001b[49m\u001b[43m,\u001b[49m\n\u001b[1;32m    929\u001b[0m \u001b[43m    \u001b[49m\u001b[43mssl_context\u001b[49m\u001b[38;5;241;43m=\u001b[39;49m\u001b[43mcontext\u001b[49m\u001b[43m,\u001b[49m\n\u001b[1;32m    930\u001b[0m \u001b[43m    \u001b[49m\u001b[43mtls_in_tls\u001b[49m\u001b[38;5;241;43m=\u001b[39;49m\u001b[43mtls_in_tls\u001b[49m\u001b[43m,\u001b[49m\n\u001b[1;32m    931\u001b[0m \u001b[43m\u001b[49m\u001b[43m)\u001b[49m\n\u001b[1;32m    933\u001b[0m \u001b[38;5;28;01mtry\u001b[39;00m:\n",
      "File \u001b[0;32m~/anaconda3/envs/torch/lib/python3.10/site-packages/urllib3/util/ssl_.py:460\u001b[0m, in \u001b[0;36mssl_wrap_socket\u001b[0;34m(sock, keyfile, certfile, cert_reqs, ca_certs, server_hostname, ssl_version, ciphers, ssl_context, ca_cert_dir, key_password, ca_cert_data, tls_in_tls)\u001b[0m\n\u001b[1;32m    458\u001b[0m context\u001b[38;5;241m.\u001b[39mset_alpn_protocols(ALPN_PROTOCOLS)\n\u001b[0;32m--> 460\u001b[0m ssl_sock \u001b[38;5;241m=\u001b[39m \u001b[43m_ssl_wrap_socket_impl\u001b[49m\u001b[43m(\u001b[49m\u001b[43msock\u001b[49m\u001b[43m,\u001b[49m\u001b[43m \u001b[49m\u001b[43mcontext\u001b[49m\u001b[43m,\u001b[49m\u001b[43m \u001b[49m\u001b[43mtls_in_tls\u001b[49m\u001b[43m,\u001b[49m\u001b[43m \u001b[49m\u001b[43mserver_hostname\u001b[49m\u001b[43m)\u001b[49m\n\u001b[1;32m    461\u001b[0m \u001b[38;5;28;01mreturn\u001b[39;00m ssl_sock\n",
      "File \u001b[0;32m~/anaconda3/envs/torch/lib/python3.10/site-packages/urllib3/util/ssl_.py:504\u001b[0m, in \u001b[0;36m_ssl_wrap_socket_impl\u001b[0;34m(sock, ssl_context, tls_in_tls, server_hostname)\u001b[0m\n\u001b[1;32m    502\u001b[0m     \u001b[38;5;28;01mreturn\u001b[39;00m SSLTransport(sock, ssl_context, server_hostname)\n\u001b[0;32m--> 504\u001b[0m \u001b[38;5;28;01mreturn\u001b[39;00m \u001b[43mssl_context\u001b[49m\u001b[38;5;241;43m.\u001b[39;49m\u001b[43mwrap_socket\u001b[49m\u001b[43m(\u001b[49m\u001b[43msock\u001b[49m\u001b[43m,\u001b[49m\u001b[43m \u001b[49m\u001b[43mserver_hostname\u001b[49m\u001b[38;5;241;43m=\u001b[39;49m\u001b[43mserver_hostname\u001b[49m\u001b[43m)\u001b[49m\n",
      "File \u001b[0;32m~/anaconda3/envs/torch/lib/python3.10/ssl.py:513\u001b[0m, in \u001b[0;36mSSLContext.wrap_socket\u001b[0;34m(self, sock, server_side, do_handshake_on_connect, suppress_ragged_eofs, server_hostname, session)\u001b[0m\n\u001b[1;32m    507\u001b[0m \u001b[38;5;28;01mdef\u001b[39;00m\u001b[38;5;250m \u001b[39m\u001b[38;5;21mwrap_socket\u001b[39m(\u001b[38;5;28mself\u001b[39m, sock, server_side\u001b[38;5;241m=\u001b[39m\u001b[38;5;28;01mFalse\u001b[39;00m,\n\u001b[1;32m    508\u001b[0m                 do_handshake_on_connect\u001b[38;5;241m=\u001b[39m\u001b[38;5;28;01mTrue\u001b[39;00m,\n\u001b[1;32m    509\u001b[0m                 suppress_ragged_eofs\u001b[38;5;241m=\u001b[39m\u001b[38;5;28;01mTrue\u001b[39;00m,\n\u001b[1;32m    510\u001b[0m                 server_hostname\u001b[38;5;241m=\u001b[39m\u001b[38;5;28;01mNone\u001b[39;00m, session\u001b[38;5;241m=\u001b[39m\u001b[38;5;28;01mNone\u001b[39;00m):\n\u001b[1;32m    511\u001b[0m     \u001b[38;5;66;03m# SSLSocket class handles server_hostname encoding before it calls\u001b[39;00m\n\u001b[1;32m    512\u001b[0m     \u001b[38;5;66;03m# ctx._wrap_socket()\u001b[39;00m\n\u001b[0;32m--> 513\u001b[0m     \u001b[38;5;28;01mreturn\u001b[39;00m \u001b[38;5;28;43mself\u001b[39;49m\u001b[38;5;241;43m.\u001b[39;49m\u001b[43msslsocket_class\u001b[49m\u001b[38;5;241;43m.\u001b[39;49m\u001b[43m_create\u001b[49m\u001b[43m(\u001b[49m\n\u001b[1;32m    514\u001b[0m \u001b[43m        \u001b[49m\u001b[43msock\u001b[49m\u001b[38;5;241;43m=\u001b[39;49m\u001b[43msock\u001b[49m\u001b[43m,\u001b[49m\n\u001b[1;32m    515\u001b[0m \u001b[43m        \u001b[49m\u001b[43mserver_side\u001b[49m\u001b[38;5;241;43m=\u001b[39;49m\u001b[43mserver_side\u001b[49m\u001b[43m,\u001b[49m\n\u001b[1;32m    516\u001b[0m \u001b[43m        \u001b[49m\u001b[43mdo_handshake_on_connect\u001b[49m\u001b[38;5;241;43m=\u001b[39;49m\u001b[43mdo_handshake_on_connect\u001b[49m\u001b[43m,\u001b[49m\n\u001b[1;32m    517\u001b[0m \u001b[43m        \u001b[49m\u001b[43msuppress_ragged_eofs\u001b[49m\u001b[38;5;241;43m=\u001b[39;49m\u001b[43msuppress_ragged_eofs\u001b[49m\u001b[43m,\u001b[49m\n\u001b[1;32m    518\u001b[0m \u001b[43m        \u001b[49m\u001b[43mserver_hostname\u001b[49m\u001b[38;5;241;43m=\u001b[39;49m\u001b[43mserver_hostname\u001b[49m\u001b[43m,\u001b[49m\n\u001b[1;32m    519\u001b[0m \u001b[43m        \u001b[49m\u001b[43mcontext\u001b[49m\u001b[38;5;241;43m=\u001b[39;49m\u001b[38;5;28;43mself\u001b[39;49m\u001b[43m,\u001b[49m\n\u001b[1;32m    520\u001b[0m \u001b[43m        \u001b[49m\u001b[43msession\u001b[49m\u001b[38;5;241;43m=\u001b[39;49m\u001b[43msession\u001b[49m\n\u001b[1;32m    521\u001b[0m \u001b[43m    \u001b[49m\u001b[43m)\u001b[49m\n",
      "File \u001b[0;32m~/anaconda3/envs/torch/lib/python3.10/ssl.py:1104\u001b[0m, in \u001b[0;36mSSLSocket._create\u001b[0;34m(cls, sock, server_side, do_handshake_on_connect, suppress_ragged_eofs, server_hostname, context, session)\u001b[0m\n\u001b[1;32m   1103\u001b[0m             \u001b[38;5;28;01mraise\u001b[39;00m \u001b[38;5;167;01mValueError\u001b[39;00m(\u001b[38;5;124m\"\u001b[39m\u001b[38;5;124mdo_handshake_on_connect should not be specified for non-blocking sockets\u001b[39m\u001b[38;5;124m\"\u001b[39m)\n\u001b[0;32m-> 1104\u001b[0m         \u001b[38;5;28;43mself\u001b[39;49m\u001b[38;5;241;43m.\u001b[39;49m\u001b[43mdo_handshake\u001b[49m\u001b[43m(\u001b[49m\u001b[43m)\u001b[49m\n\u001b[1;32m   1105\u001b[0m \u001b[38;5;28;01mexcept\u001b[39;00m (\u001b[38;5;167;01mOSError\u001b[39;00m, \u001b[38;5;167;01mValueError\u001b[39;00m):\n",
      "File \u001b[0;32m~/anaconda3/envs/torch/lib/python3.10/ssl.py:1375\u001b[0m, in \u001b[0;36mSSLSocket.do_handshake\u001b[0;34m(self, block)\u001b[0m\n\u001b[1;32m   1374\u001b[0m         \u001b[38;5;28mself\u001b[39m\u001b[38;5;241m.\u001b[39msettimeout(\u001b[38;5;28;01mNone\u001b[39;00m)\n\u001b[0;32m-> 1375\u001b[0m     \u001b[38;5;28;43mself\u001b[39;49m\u001b[38;5;241;43m.\u001b[39;49m\u001b[43m_sslobj\u001b[49m\u001b[38;5;241;43m.\u001b[39;49m\u001b[43mdo_handshake\u001b[49m\u001b[43m(\u001b[49m\u001b[43m)\u001b[49m\n\u001b[1;32m   1376\u001b[0m \u001b[38;5;28;01mfinally\u001b[39;00m:\n",
      "\u001b[0;31mSSLCertVerificationError\u001b[0m: [SSL: CERTIFICATE_VERIFY_FAILED] certificate verify failed: Hostname mismatch, certificate is not valid for 'www.gin.cnrs.fr'. (_ssl.c:1007)",
      "\nDuring handling of the above exception, another exception occurred:\n",
      "\u001b[0;31mSSLError\u001b[0m                                  Traceback (most recent call last)",
      "File \u001b[0;32m~/anaconda3/envs/torch/lib/python3.10/site-packages/urllib3/connectionpool.py:787\u001b[0m, in \u001b[0;36mHTTPConnectionPool.urlopen\u001b[0;34m(self, method, url, body, headers, retries, redirect, assert_same_host, timeout, pool_timeout, release_conn, chunked, body_pos, preload_content, decode_content, **response_kw)\u001b[0m\n\u001b[1;32m    786\u001b[0m \u001b[38;5;66;03m# Make the request on the HTTPConnection object\u001b[39;00m\n\u001b[0;32m--> 787\u001b[0m response \u001b[38;5;241m=\u001b[39m \u001b[38;5;28;43mself\u001b[39;49m\u001b[38;5;241;43m.\u001b[39;49m\u001b[43m_make_request\u001b[49m\u001b[43m(\u001b[49m\n\u001b[1;32m    788\u001b[0m \u001b[43m    \u001b[49m\u001b[43mconn\u001b[49m\u001b[43m,\u001b[49m\n\u001b[1;32m    789\u001b[0m \u001b[43m    \u001b[49m\u001b[43mmethod\u001b[49m\u001b[43m,\u001b[49m\n\u001b[1;32m    790\u001b[0m \u001b[43m    \u001b[49m\u001b[43murl\u001b[49m\u001b[43m,\u001b[49m\n\u001b[1;32m    791\u001b[0m \u001b[43m    \u001b[49m\u001b[43mtimeout\u001b[49m\u001b[38;5;241;43m=\u001b[39;49m\u001b[43mtimeout_obj\u001b[49m\u001b[43m,\u001b[49m\n\u001b[1;32m    792\u001b[0m \u001b[43m    \u001b[49m\u001b[43mbody\u001b[49m\u001b[38;5;241;43m=\u001b[39;49m\u001b[43mbody\u001b[49m\u001b[43m,\u001b[49m\n\u001b[1;32m    793\u001b[0m \u001b[43m    \u001b[49m\u001b[43mheaders\u001b[49m\u001b[38;5;241;43m=\u001b[39;49m\u001b[43mheaders\u001b[49m\u001b[43m,\u001b[49m\n\u001b[1;32m    794\u001b[0m \u001b[43m    \u001b[49m\u001b[43mchunked\u001b[49m\u001b[38;5;241;43m=\u001b[39;49m\u001b[43mchunked\u001b[49m\u001b[43m,\u001b[49m\n\u001b[1;32m    795\u001b[0m \u001b[43m    \u001b[49m\u001b[43mretries\u001b[49m\u001b[38;5;241;43m=\u001b[39;49m\u001b[43mretries\u001b[49m\u001b[43m,\u001b[49m\n\u001b[1;32m    796\u001b[0m \u001b[43m    \u001b[49m\u001b[43mresponse_conn\u001b[49m\u001b[38;5;241;43m=\u001b[39;49m\u001b[43mresponse_conn\u001b[49m\u001b[43m,\u001b[49m\n\u001b[1;32m    797\u001b[0m \u001b[43m    \u001b[49m\u001b[43mpreload_content\u001b[49m\u001b[38;5;241;43m=\u001b[39;49m\u001b[43mpreload_content\u001b[49m\u001b[43m,\u001b[49m\n\u001b[1;32m    798\u001b[0m \u001b[43m    \u001b[49m\u001b[43mdecode_content\u001b[49m\u001b[38;5;241;43m=\u001b[39;49m\u001b[43mdecode_content\u001b[49m\u001b[43m,\u001b[49m\n\u001b[1;32m    799\u001b[0m \u001b[43m    \u001b[49m\u001b[38;5;241;43m*\u001b[39;49m\u001b[38;5;241;43m*\u001b[39;49m\u001b[43mresponse_kw\u001b[49m\u001b[43m,\u001b[49m\n\u001b[1;32m    800\u001b[0m \u001b[43m\u001b[49m\u001b[43m)\u001b[49m\n\u001b[1;32m    802\u001b[0m \u001b[38;5;66;03m# Everything went great!\u001b[39;00m\n",
      "File \u001b[0;32m~/anaconda3/envs/torch/lib/python3.10/site-packages/urllib3/connectionpool.py:488\u001b[0m, in \u001b[0;36mHTTPConnectionPool._make_request\u001b[0;34m(self, conn, method, url, body, headers, retries, timeout, chunked, response_conn, preload_content, decode_content, enforce_content_length)\u001b[0m\n\u001b[1;32m    487\u001b[0m         new_e \u001b[38;5;241m=\u001b[39m _wrap_proxy_error(new_e, conn\u001b[38;5;241m.\u001b[39mproxy\u001b[38;5;241m.\u001b[39mscheme)\n\u001b[0;32m--> 488\u001b[0m     \u001b[38;5;28;01mraise\u001b[39;00m new_e\n\u001b[1;32m    490\u001b[0m \u001b[38;5;66;03m# conn.request() calls http.client.*.request, not the method in\u001b[39;00m\n\u001b[1;32m    491\u001b[0m \u001b[38;5;66;03m# urllib3.request. It also calls makefile (recv) on the socket.\u001b[39;00m\n",
      "\u001b[0;31mSSLError\u001b[0m: [SSL: CERTIFICATE_VERIFY_FAILED] certificate verify failed: Hostname mismatch, certificate is not valid for 'www.gin.cnrs.fr'. (_ssl.c:1007)",
      "\nThe above exception was the direct cause of the following exception:\n",
      "\u001b[0;31mMaxRetryError\u001b[0m                             Traceback (most recent call last)",
      "File \u001b[0;32m~/anaconda3/envs/torch/lib/python3.10/site-packages/requests/adapters.py:667\u001b[0m, in \u001b[0;36mHTTPAdapter.send\u001b[0;34m(self, request, stream, timeout, verify, cert, proxies)\u001b[0m\n\u001b[1;32m    666\u001b[0m \u001b[38;5;28;01mtry\u001b[39;00m:\n\u001b[0;32m--> 667\u001b[0m     resp \u001b[38;5;241m=\u001b[39m \u001b[43mconn\u001b[49m\u001b[38;5;241;43m.\u001b[39;49m\u001b[43murlopen\u001b[49m\u001b[43m(\u001b[49m\n\u001b[1;32m    668\u001b[0m \u001b[43m        \u001b[49m\u001b[43mmethod\u001b[49m\u001b[38;5;241;43m=\u001b[39;49m\u001b[43mrequest\u001b[49m\u001b[38;5;241;43m.\u001b[39;49m\u001b[43mmethod\u001b[49m\u001b[43m,\u001b[49m\n\u001b[1;32m    669\u001b[0m \u001b[43m        \u001b[49m\u001b[43murl\u001b[49m\u001b[38;5;241;43m=\u001b[39;49m\u001b[43murl\u001b[49m\u001b[43m,\u001b[49m\n\u001b[1;32m    670\u001b[0m \u001b[43m        \u001b[49m\u001b[43mbody\u001b[49m\u001b[38;5;241;43m=\u001b[39;49m\u001b[43mrequest\u001b[49m\u001b[38;5;241;43m.\u001b[39;49m\u001b[43mbody\u001b[49m\u001b[43m,\u001b[49m\n\u001b[1;32m    671\u001b[0m \u001b[43m        \u001b[49m\u001b[43mheaders\u001b[49m\u001b[38;5;241;43m=\u001b[39;49m\u001b[43mrequest\u001b[49m\u001b[38;5;241;43m.\u001b[39;49m\u001b[43mheaders\u001b[49m\u001b[43m,\u001b[49m\n\u001b[1;32m    672\u001b[0m \u001b[43m        \u001b[49m\u001b[43mredirect\u001b[49m\u001b[38;5;241;43m=\u001b[39;49m\u001b[38;5;28;43;01mFalse\u001b[39;49;00m\u001b[43m,\u001b[49m\n\u001b[1;32m    673\u001b[0m \u001b[43m        \u001b[49m\u001b[43massert_same_host\u001b[49m\u001b[38;5;241;43m=\u001b[39;49m\u001b[38;5;28;43;01mFalse\u001b[39;49;00m\u001b[43m,\u001b[49m\n\u001b[1;32m    674\u001b[0m \u001b[43m        \u001b[49m\u001b[43mpreload_content\u001b[49m\u001b[38;5;241;43m=\u001b[39;49m\u001b[38;5;28;43;01mFalse\u001b[39;49;00m\u001b[43m,\u001b[49m\n\u001b[1;32m    675\u001b[0m \u001b[43m        \u001b[49m\u001b[43mdecode_content\u001b[49m\u001b[38;5;241;43m=\u001b[39;49m\u001b[38;5;28;43;01mFalse\u001b[39;49;00m\u001b[43m,\u001b[49m\n\u001b[1;32m    676\u001b[0m \u001b[43m        \u001b[49m\u001b[43mretries\u001b[49m\u001b[38;5;241;43m=\u001b[39;49m\u001b[38;5;28;43mself\u001b[39;49m\u001b[38;5;241;43m.\u001b[39;49m\u001b[43mmax_retries\u001b[49m\u001b[43m,\u001b[49m\n\u001b[1;32m    677\u001b[0m \u001b[43m        \u001b[49m\u001b[43mtimeout\u001b[49m\u001b[38;5;241;43m=\u001b[39;49m\u001b[43mtimeout\u001b[49m\u001b[43m,\u001b[49m\n\u001b[1;32m    678\u001b[0m \u001b[43m        \u001b[49m\u001b[43mchunked\u001b[49m\u001b[38;5;241;43m=\u001b[39;49m\u001b[43mchunked\u001b[49m\u001b[43m,\u001b[49m\n\u001b[1;32m    679\u001b[0m \u001b[43m    \u001b[49m\u001b[43m)\u001b[49m\n\u001b[1;32m    681\u001b[0m \u001b[38;5;28;01mexcept\u001b[39;00m (ProtocolError, \u001b[38;5;167;01mOSError\u001b[39;00m) \u001b[38;5;28;01mas\u001b[39;00m err:\n",
      "File \u001b[0;32m~/anaconda3/envs/torch/lib/python3.10/site-packages/urllib3/connectionpool.py:841\u001b[0m, in \u001b[0;36mHTTPConnectionPool.urlopen\u001b[0;34m(self, method, url, body, headers, retries, redirect, assert_same_host, timeout, pool_timeout, release_conn, chunked, body_pos, preload_content, decode_content, **response_kw)\u001b[0m\n\u001b[1;32m    839\u001b[0m     new_e \u001b[38;5;241m=\u001b[39m ProtocolError(\u001b[38;5;124m\"\u001b[39m\u001b[38;5;124mConnection aborted.\u001b[39m\u001b[38;5;124m\"\u001b[39m, new_e)\n\u001b[0;32m--> 841\u001b[0m retries \u001b[38;5;241m=\u001b[39m \u001b[43mretries\u001b[49m\u001b[38;5;241;43m.\u001b[39;49m\u001b[43mincrement\u001b[49m\u001b[43m(\u001b[49m\n\u001b[1;32m    842\u001b[0m \u001b[43m    \u001b[49m\u001b[43mmethod\u001b[49m\u001b[43m,\u001b[49m\u001b[43m \u001b[49m\u001b[43murl\u001b[49m\u001b[43m,\u001b[49m\u001b[43m \u001b[49m\u001b[43merror\u001b[49m\u001b[38;5;241;43m=\u001b[39;49m\u001b[43mnew_e\u001b[49m\u001b[43m,\u001b[49m\u001b[43m \u001b[49m\u001b[43m_pool\u001b[49m\u001b[38;5;241;43m=\u001b[39;49m\u001b[38;5;28;43mself\u001b[39;49m\u001b[43m,\u001b[49m\u001b[43m \u001b[49m\u001b[43m_stacktrace\u001b[49m\u001b[38;5;241;43m=\u001b[39;49m\u001b[43msys\u001b[49m\u001b[38;5;241;43m.\u001b[39;49m\u001b[43mexc_info\u001b[49m\u001b[43m(\u001b[49m\u001b[43m)\u001b[49m\u001b[43m[\u001b[49m\u001b[38;5;241;43m2\u001b[39;49m\u001b[43m]\u001b[49m\n\u001b[1;32m    843\u001b[0m \u001b[43m\u001b[49m\u001b[43m)\u001b[49m\n\u001b[1;32m    844\u001b[0m retries\u001b[38;5;241m.\u001b[39msleep()\n",
      "File \u001b[0;32m~/anaconda3/envs/torch/lib/python3.10/site-packages/urllib3/util/retry.py:519\u001b[0m, in \u001b[0;36mRetry.increment\u001b[0;34m(self, method, url, response, error, _pool, _stacktrace)\u001b[0m\n\u001b[1;32m    518\u001b[0m     reason \u001b[38;5;241m=\u001b[39m error \u001b[38;5;129;01mor\u001b[39;00m ResponseError(cause)\n\u001b[0;32m--> 519\u001b[0m     \u001b[38;5;28;01mraise\u001b[39;00m MaxRetryError(_pool, url, reason) \u001b[38;5;28;01mfrom\u001b[39;00m\u001b[38;5;250m \u001b[39m\u001b[38;5;21;01mreason\u001b[39;00m  \u001b[38;5;66;03m# type: ignore[arg-type]\u001b[39;00m\n\u001b[1;32m    521\u001b[0m log\u001b[38;5;241m.\u001b[39mdebug(\u001b[38;5;124m\"\u001b[39m\u001b[38;5;124mIncremented Retry for (url=\u001b[39m\u001b[38;5;124m'\u001b[39m\u001b[38;5;132;01m%s\u001b[39;00m\u001b[38;5;124m'\u001b[39m\u001b[38;5;124m): \u001b[39m\u001b[38;5;132;01m%r\u001b[39;00m\u001b[38;5;124m\"\u001b[39m, url, new_retry)\n",
      "\u001b[0;31mMaxRetryError\u001b[0m: HTTPSConnectionPool(host='www.gin.cnrs.fr', port=443): Max retries exceeded with url: /AAL_files/aal_for_SPM12.tar.gz (Caused by SSLError(SSLCertVerificationError(1, \"[SSL: CERTIFICATE_VERIFY_FAILED] certificate verify failed: Hostname mismatch, certificate is not valid for 'www.gin.cnrs.fr'. (_ssl.c:1007)\")))",
      "\nDuring handling of the above exception, another exception occurred:\n",
      "\u001b[0;31mSSLError\u001b[0m                                  Traceback (most recent call last)",
      "Cell \u001b[0;32mIn[30], line 2\u001b[0m\n\u001b[1;32m      1\u001b[0m \u001b[38;5;66;03m# Load the AAL Atlas\u001b[39;00m\n\u001b[0;32m----> 2\u001b[0m atlas \u001b[38;5;241m=\u001b[39m \u001b[43mdatasets\u001b[49m\u001b[38;5;241;43m.\u001b[39;49m\u001b[43mfetch_atlas_aal\u001b[49m\u001b[43m(\u001b[49m\u001b[43m)\u001b[49m\n",
      "File \u001b[0;32m~/anaconda3/envs/torch/lib/python3.10/site-packages/nilearn/datasets/atlas.py:1323\u001b[0m, in \u001b[0;36mfetch_atlas_aal\u001b[0;34m(version, data_dir, url, resume, verbose)\u001b[0m\n\u001b[1;32m   1316\u001b[0m         filenames \u001b[38;5;241m=\u001b[39m [\n\u001b[1;32m   1317\u001b[0m             (Path(\u001b[38;5;124mf\u001b[39m\u001b[38;5;124m\"\u001b[39m\u001b[38;5;124maal_for_\u001b[39m\u001b[38;5;132;01m{\u001b[39;00mversion\u001b[38;5;132;01m}\u001b[39;00m\u001b[38;5;124m\"\u001b[39m, f), url, opts) \u001b[38;5;28;01mfor\u001b[39;00m f \u001b[38;5;129;01min\u001b[39;00m basenames\n\u001b[1;32m   1318\u001b[0m         ]\n\u001b[1;32m   1320\u001b[0m data_dir \u001b[38;5;241m=\u001b[39m get_dataset_dir(\n\u001b[1;32m   1321\u001b[0m     dataset_name, data_dir\u001b[38;5;241m=\u001b[39mdata_dir, verbose\u001b[38;5;241m=\u001b[39mverbose\n\u001b[1;32m   1322\u001b[0m )\n\u001b[0;32m-> 1323\u001b[0m atlas_img, labels_file \u001b[38;5;241m=\u001b[39m \u001b[43mfetch_files\u001b[49m\u001b[43m(\u001b[49m\n\u001b[1;32m   1324\u001b[0m \u001b[43m    \u001b[49m\u001b[43mdata_dir\u001b[49m\u001b[43m,\u001b[49m\u001b[43m \u001b[49m\u001b[43mfilenames\u001b[49m\u001b[43m,\u001b[49m\u001b[43m \u001b[49m\u001b[43mresume\u001b[49m\u001b[38;5;241;43m=\u001b[39;49m\u001b[43mresume\u001b[49m\u001b[43m,\u001b[49m\u001b[43m \u001b[49m\u001b[43mverbose\u001b[49m\u001b[38;5;241;43m=\u001b[39;49m\u001b[43mverbose\u001b[49m\n\u001b[1;32m   1325\u001b[0m \u001b[43m\u001b[49m\u001b[43m)\u001b[49m\n\u001b[1;32m   1326\u001b[0m fdescr \u001b[38;5;241m=\u001b[39m get_dataset_descr(\u001b[38;5;124m\"\u001b[39m\u001b[38;5;124maal\u001b[39m\u001b[38;5;124m\"\u001b[39m)\n\u001b[1;32m   1327\u001b[0m labels \u001b[38;5;241m=\u001b[39m []\n",
      "File \u001b[0;32m~/anaconda3/envs/torch/lib/python3.10/site-packages/nilearn/datasets/_utils.py:770\u001b[0m, in \u001b[0;36mfetch_files\u001b[0;34m(data_dir, files, resume, verbose, session)\u001b[0m\n\u001b[1;32m    768\u001b[0m     \u001b[38;5;28;01mwith\u001b[39;00m requests\u001b[38;5;241m.\u001b[39mSession() \u001b[38;5;28;01mas\u001b[39;00m sess:\n\u001b[1;32m    769\u001b[0m         sess\u001b[38;5;241m.\u001b[39mmount(\u001b[38;5;124m\"\u001b[39m\u001b[38;5;124mftp:\u001b[39m\u001b[38;5;124m\"\u001b[39m, _NaiveFTPAdapter())\n\u001b[0;32m--> 770\u001b[0m         \u001b[38;5;28;01mreturn\u001b[39;00m \u001b[43mfetch_files\u001b[49m\u001b[43m(\u001b[49m\n\u001b[1;32m    771\u001b[0m \u001b[43m            \u001b[49m\u001b[43mdata_dir\u001b[49m\u001b[43m,\u001b[49m\n\u001b[1;32m    772\u001b[0m \u001b[43m            \u001b[49m\u001b[43mfiles\u001b[49m\u001b[43m,\u001b[49m\n\u001b[1;32m    773\u001b[0m \u001b[43m            \u001b[49m\u001b[43mresume\u001b[49m\u001b[38;5;241;43m=\u001b[39;49m\u001b[43mresume\u001b[49m\u001b[43m,\u001b[49m\n\u001b[1;32m    774\u001b[0m \u001b[43m            \u001b[49m\u001b[43mverbose\u001b[49m\u001b[38;5;241;43m=\u001b[39;49m\u001b[43mverbose\u001b[49m\u001b[43m,\u001b[49m\n\u001b[1;32m    775\u001b[0m \u001b[43m            \u001b[49m\u001b[43msession\u001b[49m\u001b[38;5;241;43m=\u001b[39;49m\u001b[43msess\u001b[49m\u001b[43m,\u001b[49m\n\u001b[1;32m    776\u001b[0m \u001b[43m        \u001b[49m\u001b[43m)\u001b[49m\n\u001b[1;32m    777\u001b[0m \u001b[38;5;66;03m# There are two working directories here:\u001b[39;00m\n\u001b[1;32m    778\u001b[0m \u001b[38;5;66;03m# - data_dir is the destination directory of the dataset\u001b[39;00m\n\u001b[1;32m    779\u001b[0m \u001b[38;5;66;03m# - temp_dir is a temporary directory dedicated to this fetching call. All\u001b[39;00m\n\u001b[1;32m    780\u001b[0m \u001b[38;5;66;03m#   files that must be downloaded will be in this directory. If a corrupted\u001b[39;00m\n\u001b[1;32m    781\u001b[0m \u001b[38;5;66;03m#   file is found, or a file is missing, this working directory will be\u001b[39;00m\n\u001b[1;32m    782\u001b[0m \u001b[38;5;66;03m#   deleted.\u001b[39;00m\n\u001b[1;32m    783\u001b[0m files \u001b[38;5;241m=\u001b[39m \u001b[38;5;28mlist\u001b[39m(files)\n",
      "File \u001b[0;32m~/anaconda3/envs/torch/lib/python3.10/site-packages/nilearn/datasets/_utils.py:825\u001b[0m, in \u001b[0;36mfetch_files\u001b[0;34m(data_dir, files, resume, verbose, session)\u001b[0m\n\u001b[1;32m    822\u001b[0m temp_dir\u001b[38;5;241m.\u001b[39mmkdir(parents\u001b[38;5;241m=\u001b[39m\u001b[38;5;28;01mTrue\u001b[39;00m, exist_ok\u001b[38;5;241m=\u001b[39m\u001b[38;5;28;01mTrue\u001b[39;00m)\n\u001b[1;32m    823\u001b[0m md5sum \u001b[38;5;241m=\u001b[39m opts\u001b[38;5;241m.\u001b[39mget(\u001b[38;5;124m\"\u001b[39m\u001b[38;5;124mmd5sum\u001b[39m\u001b[38;5;124m\"\u001b[39m, \u001b[38;5;28;01mNone\u001b[39;00m)\n\u001b[0;32m--> 825\u001b[0m dl_file \u001b[38;5;241m=\u001b[39m \u001b[43mfetch_single_file\u001b[49m\u001b[43m(\u001b[49m\n\u001b[1;32m    826\u001b[0m \u001b[43m    \u001b[49m\u001b[43murl\u001b[49m\u001b[43m,\u001b[49m\n\u001b[1;32m    827\u001b[0m \u001b[43m    \u001b[49m\u001b[43mtemp_dir\u001b[49m\u001b[43m,\u001b[49m\n\u001b[1;32m    828\u001b[0m \u001b[43m    \u001b[49m\u001b[43mresume\u001b[49m\u001b[38;5;241;43m=\u001b[39;49m\u001b[43mresume\u001b[49m\u001b[43m,\u001b[49m\n\u001b[1;32m    829\u001b[0m \u001b[43m    \u001b[49m\u001b[43mverbose\u001b[49m\u001b[38;5;241;43m=\u001b[39;49m\u001b[43mverbose\u001b[49m\u001b[43m,\u001b[49m\n\u001b[1;32m    830\u001b[0m \u001b[43m    \u001b[49m\u001b[43mmd5sum\u001b[49m\u001b[38;5;241;43m=\u001b[39;49m\u001b[43mmd5sum\u001b[49m\u001b[43m,\u001b[49m\n\u001b[1;32m    831\u001b[0m \u001b[43m    \u001b[49m\u001b[43musername\u001b[49m\u001b[38;5;241;43m=\u001b[39;49m\u001b[43mopts\u001b[49m\u001b[38;5;241;43m.\u001b[39;49m\u001b[43mget\u001b[49m\u001b[43m(\u001b[49m\u001b[38;5;124;43m\"\u001b[39;49m\u001b[38;5;124;43musername\u001b[39;49m\u001b[38;5;124;43m\"\u001b[39;49m\u001b[43m,\u001b[49m\u001b[43m \u001b[49m\u001b[38;5;28;43;01mNone\u001b[39;49;00m\u001b[43m)\u001b[49m\u001b[43m,\u001b[49m\n\u001b[1;32m    832\u001b[0m \u001b[43m    \u001b[49m\u001b[43mpassword\u001b[49m\u001b[38;5;241;43m=\u001b[39;49m\u001b[43mopts\u001b[49m\u001b[38;5;241;43m.\u001b[39;49m\u001b[43mget\u001b[49m\u001b[43m(\u001b[49m\u001b[38;5;124;43m\"\u001b[39;49m\u001b[38;5;124;43mpassword\u001b[39;49m\u001b[38;5;124;43m\"\u001b[39;49m\u001b[43m,\u001b[49m\u001b[43m \u001b[49m\u001b[38;5;28;43;01mNone\u001b[39;49;00m\u001b[43m)\u001b[49m\u001b[43m,\u001b[49m\n\u001b[1;32m    833\u001b[0m \u001b[43m    \u001b[49m\u001b[43msession\u001b[49m\u001b[38;5;241;43m=\u001b[39;49m\u001b[43msession\u001b[49m\u001b[43m,\u001b[49m\n\u001b[1;32m    834\u001b[0m \u001b[43m    \u001b[49m\u001b[43moverwrite\u001b[49m\u001b[38;5;241;43m=\u001b[39;49m\u001b[43moverwrite\u001b[49m\u001b[43m,\u001b[49m\n\u001b[1;32m    835\u001b[0m \u001b[43m\u001b[49m\u001b[43m)\u001b[49m\n\u001b[1;32m    836\u001b[0m \u001b[38;5;28;01mif\u001b[39;00m \u001b[38;5;124m\"\u001b[39m\u001b[38;5;124mmove\u001b[39m\u001b[38;5;124m\"\u001b[39m \u001b[38;5;129;01min\u001b[39;00m opts:\n\u001b[1;32m    837\u001b[0m     \u001b[38;5;66;03m# XXX: here, move is supposed to be a dir, it can be a name\u001b[39;00m\n\u001b[1;32m    838\u001b[0m     move \u001b[38;5;241m=\u001b[39m temp_dir \u001b[38;5;241m/\u001b[39m opts[\u001b[38;5;124m\"\u001b[39m\u001b[38;5;124mmove\u001b[39m\u001b[38;5;124m\"\u001b[39m]\n",
      "File \u001b[0;32m~/anaconda3/envs/torch/lib/python3.10/site-packages/nilearn/datasets/_utils.py:644\u001b[0m, in \u001b[0;36mfetch_single_file\u001b[0;34m(url, data_dir, resume, overwrite, md5sum, username, password, verbose, session)\u001b[0m\n\u001b[1;32m    640\u001b[0m req \u001b[38;5;241m=\u001b[39m requests\u001b[38;5;241m.\u001b[39mRequest(\n\u001b[1;32m    641\u001b[0m     method\u001b[38;5;241m=\u001b[39m\u001b[38;5;124m\"\u001b[39m\u001b[38;5;124mGET\u001b[39m\u001b[38;5;124m\"\u001b[39m, url\u001b[38;5;241m=\u001b[39murl, headers\u001b[38;5;241m=\u001b[39mheaders, auth\u001b[38;5;241m=\u001b[39mauth\n\u001b[1;32m    642\u001b[0m )\n\u001b[1;32m    643\u001b[0m prepped \u001b[38;5;241m=\u001b[39m session\u001b[38;5;241m.\u001b[39mprepare_request(req)\n\u001b[0;32m--> 644\u001b[0m \u001b[38;5;28;01mwith\u001b[39;00m \u001b[43msession\u001b[49m\u001b[38;5;241;43m.\u001b[39;49m\u001b[43msend\u001b[49m\u001b[43m(\u001b[49m\n\u001b[1;32m    645\u001b[0m \u001b[43m    \u001b[49m\u001b[43mprepped\u001b[49m\u001b[43m,\u001b[49m\u001b[43m \u001b[49m\u001b[43mstream\u001b[49m\u001b[38;5;241;43m=\u001b[39;49m\u001b[38;5;28;43;01mTrue\u001b[39;49;00m\u001b[43m,\u001b[49m\u001b[43m \u001b[49m\u001b[43mtimeout\u001b[49m\u001b[38;5;241;43m=\u001b[39;49m\u001b[43m_REQUESTS_TIMEOUT\u001b[49m\n\u001b[1;32m    646\u001b[0m \u001b[43m\u001b[49m\u001b[43m)\u001b[49m \u001b[38;5;28;01mas\u001b[39;00m resp:\n\u001b[1;32m    647\u001b[0m     resp\u001b[38;5;241m.\u001b[39mraise_for_status()\n\u001b[1;32m    648\u001b[0m     \u001b[38;5;28;01mwith\u001b[39;00m temp_full_name\u001b[38;5;241m.\u001b[39mopen(\u001b[38;5;124m\"\u001b[39m\u001b[38;5;124mwb\u001b[39m\u001b[38;5;124m\"\u001b[39m) \u001b[38;5;28;01mas\u001b[39;00m fh:\n",
      "File \u001b[0;32m~/anaconda3/envs/torch/lib/python3.10/site-packages/requests/sessions.py:703\u001b[0m, in \u001b[0;36mSession.send\u001b[0;34m(self, request, **kwargs)\u001b[0m\n\u001b[1;32m    700\u001b[0m start \u001b[38;5;241m=\u001b[39m preferred_clock()\n\u001b[1;32m    702\u001b[0m \u001b[38;5;66;03m# Send the request\u001b[39;00m\n\u001b[0;32m--> 703\u001b[0m r \u001b[38;5;241m=\u001b[39m \u001b[43madapter\u001b[49m\u001b[38;5;241;43m.\u001b[39;49m\u001b[43msend\u001b[49m\u001b[43m(\u001b[49m\u001b[43mrequest\u001b[49m\u001b[43m,\u001b[49m\u001b[43m \u001b[49m\u001b[38;5;241;43m*\u001b[39;49m\u001b[38;5;241;43m*\u001b[39;49m\u001b[43mkwargs\u001b[49m\u001b[43m)\u001b[49m\n\u001b[1;32m    705\u001b[0m \u001b[38;5;66;03m# Total elapsed time of the request (approximately)\u001b[39;00m\n\u001b[1;32m    706\u001b[0m elapsed \u001b[38;5;241m=\u001b[39m preferred_clock() \u001b[38;5;241m-\u001b[39m start\n",
      "File \u001b[0;32m~/anaconda3/envs/torch/lib/python3.10/site-packages/requests/adapters.py:698\u001b[0m, in \u001b[0;36mHTTPAdapter.send\u001b[0;34m(self, request, stream, timeout, verify, cert, proxies)\u001b[0m\n\u001b[1;32m    694\u001b[0m         \u001b[38;5;28;01mraise\u001b[39;00m ProxyError(e, request\u001b[38;5;241m=\u001b[39mrequest)\n\u001b[1;32m    696\u001b[0m     \u001b[38;5;28;01mif\u001b[39;00m \u001b[38;5;28misinstance\u001b[39m(e\u001b[38;5;241m.\u001b[39mreason, _SSLError):\n\u001b[1;32m    697\u001b[0m         \u001b[38;5;66;03m# This branch is for urllib3 v1.22 and later.\u001b[39;00m\n\u001b[0;32m--> 698\u001b[0m         \u001b[38;5;28;01mraise\u001b[39;00m SSLError(e, request\u001b[38;5;241m=\u001b[39mrequest)\n\u001b[1;32m    700\u001b[0m     \u001b[38;5;28;01mraise\u001b[39;00m \u001b[38;5;167;01mConnectionError\u001b[39;00m(e, request\u001b[38;5;241m=\u001b[39mrequest)\n\u001b[1;32m    702\u001b[0m \u001b[38;5;28;01mexcept\u001b[39;00m ClosedPoolError \u001b[38;5;28;01mas\u001b[39;00m e:\n",
      "\u001b[0;31mSSLError\u001b[0m: HTTPSConnectionPool(host='www.gin.cnrs.fr', port=443): Max retries exceeded with url: /AAL_files/aal_for_SPM12.tar.gz (Caused by SSLError(SSLCertVerificationError(1, \"[SSL: CERTIFICATE_VERIFY_FAILED] certificate verify failed: Hostname mismatch, certificate is not valid for 'www.gin.cnrs.fr'. (_ssl.c:1007)\")))"
     ]
    }
   ],
   "source": [
    "\n",
    "# Load the AAL Atlas\n",
    "atlas = datasets.fetch_atlas_aal()"
   ]
  },
  {
   "cell_type": "code",
   "execution_count": 29,
   "metadata": {},
   "outputs": [],
   "source": [
    "pd.DataFrame(flat_list).to_csv(\"temp.csv\", index=False)"
   ]
  },
  {
   "cell_type": "code",
   "execution_count": 23,
   "metadata": {},
   "outputs": [
    {
     "name": "stdout",
     "output_type": "stream",
     "text": [
      "[]\n"
     ]
    }
   ],
   "source": [
    "matches = [(i, item) for i, item in enumerate(flat_list) if \"Substantia Nigra\" in item]\n",
    "\n",
    "print(matches)  \n",
    "# Output: [(2, 'Substantia Nigra Left'), (4, 'Substantia Nigra Right')]\n"
   ]
  },
  {
   "cell_type": "code",
   "execution_count": 5,
   "metadata": {},
   "outputs": [
    {
     "ename": "ValueError",
     "evalue": "Invalid atlas name: sub-cortical. Please choose an atlas among:\ncort-maxprob-thr0-1mm\ncort-maxprob-thr0-2mm\ncort-maxprob-thr25-1mm\ncort-maxprob-thr25-2mm\ncort-maxprob-thr50-1mm\ncort-maxprob-thr50-2mm\ncort-prob-1mm\ncort-prob-2mm\ncortl-maxprob-thr0-1mm\ncortl-maxprob-thr0-2mm\ncortl-maxprob-thr25-1mm\ncortl-maxprob-thr25-2mm\ncortl-maxprob-thr50-1mm\ncortl-maxprob-thr50-2mm\ncortl-prob-1mm\ncortl-prob-2mm\nsub-maxprob-thr0-1mm\nsub-maxprob-thr0-2mm\nsub-maxprob-thr25-1mm\nsub-maxprob-thr25-2mm\nsub-maxprob-thr50-1mm\nsub-maxprob-thr50-2mm\nsub-prob-1mm\nsub-prob-2mm",
     "output_type": "error",
     "traceback": [
      "\u001b[0;31m---------------------------------------------------------------------------\u001b[0m",
      "\u001b[0;31mValueError\u001b[0m                                Traceback (most recent call last)",
      "Cell \u001b[0;32mIn[5], line 1\u001b[0m\n\u001b[0;32m----> 1\u001b[0m atlas_filename \u001b[38;5;241m=\u001b[39m \u001b[43mdatasets\u001b[49m\u001b[38;5;241;43m.\u001b[39;49m\u001b[43mfetch_atlas_harvard_oxford\u001b[49m\u001b[43m(\u001b[49m\u001b[38;5;124;43m'\u001b[39;49m\u001b[38;5;124;43msub-cortical\u001b[39;49m\u001b[38;5;124;43m'\u001b[39;49m\u001b[43m)\u001b[49m[\u001b[38;5;124m'\u001b[39m\u001b[38;5;124mfilename\u001b[39m\u001b[38;5;124m'\u001b[39m]\n",
      "File \u001b[0;32m~/anaconda3/envs/torch/lib/python3.10/site-packages/nilearn/datasets/atlas.py:487\u001b[0m, in \u001b[0;36mfetch_atlas_harvard_oxford\u001b[0;34m(atlas_name, data_dir, symmetric_split, resume, verbose)\u001b[0m\n\u001b[1;32m    485\u001b[0m \u001b[38;5;28;01mif\u001b[39;00m atlas_name \u001b[38;5;129;01mnot\u001b[39;00m \u001b[38;5;129;01min\u001b[39;00m atlases:\n\u001b[1;32m    486\u001b[0m     atlases \u001b[38;5;241m=\u001b[39m \u001b[38;5;124m\"\u001b[39m\u001b[38;5;130;01m\\n\u001b[39;00m\u001b[38;5;124m\"\u001b[39m\u001b[38;5;241m.\u001b[39mjoin(atlases)\n\u001b[0;32m--> 487\u001b[0m     \u001b[38;5;28;01mraise\u001b[39;00m \u001b[38;5;167;01mValueError\u001b[39;00m(\n\u001b[1;32m    488\u001b[0m         \u001b[38;5;124mf\u001b[39m\u001b[38;5;124m\"\u001b[39m\u001b[38;5;124mInvalid atlas name: \u001b[39m\u001b[38;5;132;01m{\u001b[39;00matlas_name\u001b[38;5;132;01m}\u001b[39;00m\u001b[38;5;124m. \u001b[39m\u001b[38;5;124m\"\u001b[39m\n\u001b[1;32m    489\u001b[0m         \u001b[38;5;124mf\u001b[39m\u001b[38;5;124m\"\u001b[39m\u001b[38;5;124mPlease choose an atlas among:\u001b[39m\u001b[38;5;130;01m\\n\u001b[39;00m\u001b[38;5;132;01m{\u001b[39;00matlases\u001b[38;5;132;01m}\u001b[39;00m\u001b[38;5;124m\"\u001b[39m\n\u001b[1;32m    490\u001b[0m     )\n\u001b[1;32m    491\u001b[0m is_probabilistic \u001b[38;5;241m=\u001b[39m \u001b[38;5;124m\"\u001b[39m\u001b[38;5;124m-prob-\u001b[39m\u001b[38;5;124m\"\u001b[39m \u001b[38;5;129;01min\u001b[39;00m atlas_name\n\u001b[1;32m    492\u001b[0m \u001b[38;5;28;01mif\u001b[39;00m is_probabilistic \u001b[38;5;129;01mand\u001b[39;00m symmetric_split:\n",
      "\u001b[0;31mValueError\u001b[0m: Invalid atlas name: sub-cortical. Please choose an atlas among:\ncort-maxprob-thr0-1mm\ncort-maxprob-thr0-2mm\ncort-maxprob-thr25-1mm\ncort-maxprob-thr25-2mm\ncort-maxprob-thr50-1mm\ncort-maxprob-thr50-2mm\ncort-prob-1mm\ncort-prob-2mm\ncortl-maxprob-thr0-1mm\ncortl-maxprob-thr0-2mm\ncortl-maxprob-thr25-1mm\ncortl-maxprob-thr25-2mm\ncortl-maxprob-thr50-1mm\ncortl-maxprob-thr50-2mm\ncortl-prob-1mm\ncortl-prob-2mm\nsub-maxprob-thr0-1mm\nsub-maxprob-thr0-2mm\nsub-maxprob-thr25-1mm\nsub-maxprob-thr25-2mm\nsub-maxprob-thr50-1mm\nsub-maxprob-thr50-2mm\nsub-prob-1mm\nsub-prob-2mm"
     ]
    }
   ],
   "source": [
    "atlas_filename = datasets.fetch_atlas_harvard_oxford('sub-cortical')['filename']"
   ]
  },
  {
   "cell_type": "code",
   "execution_count": 12,
   "metadata": {},
   "outputs": [
    {
     "data": {
      "text/html": [
       "<pre style=\"white-space:pre;overflow-x:auto;line-height:normal;font-family:Menlo,'DejaVu Sans Mono',consolas,'Courier New',monospace\"><span style=\"color: #000080; text-decoration-color: #000080; font-weight: bold\">[</span><span style=\"color: #000080; text-decoration-color: #000080\">get_dataset_dir</span><span style=\"color: #000080; text-decoration-color: #000080; font-weight: bold\">]</span> Dataset found in <span style=\"color: #800080; text-decoration-color: #800080\">/home/linux-pc/nilearn_data/</span><span style=\"color: #ff00ff; text-decoration-color: #ff00ff\">fsl</span>\n",
       "</pre>\n"
      ],
      "text/plain": [
       "\u001b[1;34m[\u001b[0m\u001b[34mget_dataset_dir\u001b[0m\u001b[1;34m]\u001b[0m Dataset found in \u001b[35m/home/linux-pc/nilearn_data/\u001b[0m\u001b[95mfsl\u001b[0m\n"
      ]
     },
     "metadata": {},
     "output_type": "display_data"
    },
    {
     "data": {
      "text/html": [
       "<pre style=\"white-space:pre;overflow-x:auto;line-height:normal;font-family:Menlo,'DejaVu Sans Mono',consolas,'Courier New',monospace\"><span style=\"color: #000080; text-decoration-color: #000080; font-weight: bold\">[</span><span style=\"color: #000080; text-decoration-color: #000080\">get_dataset_dir</span><span style=\"color: #000080; text-decoration-color: #000080; font-weight: bold\">]</span> Dataset found in <span style=\"color: #800080; text-decoration-color: #800080\">/home/linux-pc/nilearn_data/</span><span style=\"color: #ff00ff; text-decoration-color: #ff00ff\">fsl</span>\n",
       "</pre>\n"
      ],
      "text/plain": [
       "\u001b[1;34m[\u001b[0m\u001b[34mget_dataset_dir\u001b[0m\u001b[1;34m]\u001b[0m Dataset found in \u001b[35m/home/linux-pc/nilearn_data/\u001b[0m\u001b[95mfsl\u001b[0m\n"
      ]
     },
     "metadata": {},
     "output_type": "display_data"
    },
    {
     "name": "stdout",
     "output_type": "stream",
     "text": [
      "Func files without mask: ['../data/sub-0270/ses-01/func/sub-0270_ses-01_task-rest_bold.nii.gz', '../data/sub-0205/ses-01/func/sub-0205_ses-01_task-rest_bold.nii.gz', '../data/sub-0231/ses-01/func/sub-0231_ses-01_task-rest_bold.nii.gz', '../data/sub-0240/ses-01/func/sub-0240_ses-01_task-rest_bold.nii.gz', '../data/sub-0238/ses-01/func/sub-0238_ses-01_task-rest_bold.nii.gz', '../data/sub-0252/ses-01/func/sub-0252_ses-01_task-rest_bold.nii.gz', '../data/sub-2132/ses-01/func/sub-2132_ses-01_task-rest_bold.nii.gz', '../data/sub-2122/ses-01/func/sub-2122_ses-01_task-rest_bold.nii.gz', '../data/sub-0272/ses-01/func/sub-0272_ses-01_task-rest_bold.nii.gz', '../data/sub-2130/ses-01/func/sub-2130_ses-01_task-rest_bold.nii.gz', '../data/sub-2145/ses-01/func/sub-2145_ses-01_task-rest_bold.nii.gz', '../data/sub-0264/ses-01/func/sub-0264_ses-01_task-rest_bold.nii.gz', '../data/sub-2134/ses-01/func/sub-2134_ses-01_task-rest_bold.nii.gz', '../data/sub-0202/ses-01/func/sub-0202_ses-01_task-rest_bold.nii.gz', '../data/sub-2141/ses-01/func/sub-2141_ses-01_task-rest_bold.nii.gz', '../data/sub-0203/ses-01/func/sub-0203_ses-01_task-rest_bold.nii.gz', '../data/sub-0222/ses-01/func/sub-0222_ses-01_task-rest_bold.nii.gz', '../data/sub-0224/ses-01/func/sub-0224_ses-01_task-rest_bold.nii.gz', '../data/sub-2128/ses-01/func/sub-2128_ses-01_task-rest_bold.nii.gz', '../data/sub-0267/ses-01/func/sub-0267_ses-01_task-rest_bold.nii.gz', '../data/sub-0206/ses-01/func/sub-0206_ses-01_task-rest_bold.nii.gz', '../data/sub-0243/ses-01/func/sub-0243_ses-01_task-rest_bold.nii.gz', '../data/sub-0230/ses-01/func/sub-0230_ses-01_task-rest_bold.nii.gz', '../data/sub-0210/ses-01/func/sub-0210_ses-01_task-rest_bold.nii.gz', '../data/sub-0207/ses-01/func/sub-0207_ses-01_task-rest_bold.nii.gz', '../data/sub-2148/ses-01/func/sub-2148_ses-01_task-rest_bold.nii.gz', '../data/sub-0212/ses-01/func/sub-0212_ses-01_task-rest_bold.nii.gz', '../data/sub-0257/ses-01/func/sub-0257_ses-01_task-rest_bold.nii.gz', '../data/sub-0213/ses-01/func/sub-0213_ses-01_task-rest_bold.nii.gz', '../data/sub-0226/ses-01/func/sub-0226_ses-01_task-rest_bold.nii.gz', '../data/sub-0214/ses-01/func/sub-0214_ses-01_task-rest_bold.nii.gz', '../data/sub-0235/ses-01/func/sub-0235_ses-01_task-rest_bold.nii.gz', '../data/sub-2125/ses-01/func/sub-2125_ses-01_task-rest_bold.nii.gz', '../data/sub-2139/ses-01/func/sub-2139_ses-01_task-rest_bold.nii.gz', '../data/sub-0265/ses-01/func/sub-0265_ses-01_task-rest_bold.nii.gz', '../data/sub-0209/ses-01/func/sub-0209_ses-01_task-rest_bold.nii.gz', '../data/sub-0247/ses-01/func/sub-0247_ses-01_task-rest_bold.nii.gz', '../data/sub-2137/ses-01/func/sub-2137_ses-01_task-rest_bold.nii.gz', '../data/sub-2131/ses-01/func/sub-2131_ses-01_task-rest_bold.nii.gz', '../data/sub-0256/ses-01/func/sub-0256_ses-01_task-rest_bold.nii.gz', '../data/sub-0246/ses-01/func/sub-0246_ses-01_task-rest_bold.nii.gz', '../data/sub-0253/ses-01/func/sub-0253_ses-01_task-rest_bold.nii.gz', '../data/sub-0232/ses-01/func/sub-0232_ses-01_task-rest_bold.nii.gz', '../data/sub-0227/ses-01/func/sub-0227_ses-01_task-rest_bold.nii.gz', '../data/sub-0242/ses-01/func/sub-0242_ses-01_task-rest_bold.nii.gz', '../data/sub-0263/ses-01/func/sub-0263_ses-01_task-rest_bold.nii.gz', '../data/sub-0237/ses-01/func/sub-0237_ses-01_task-rest_bold.nii.gz', '../data/sub-2129/ses-01/func/sub-2129_ses-01_task-rest_bold.nii.gz', '../data/sub-0249/ses-01/func/sub-0249_ses-01_task-rest_bold.nii.gz', '../data/sub-2136/ses-01/func/sub-2136_ses-01_task-rest_bold.nii.gz', '../data/sub-0234/ses-01/func/sub-0234_ses-01_task-rest_bold.nii.gz', '../data/sub-2154/ses-01/func/sub-2154_ses-01_task-rest_bold.nii.gz', '../data/sub-0250/ses-01/func/sub-0250_ses-01_task-rest_bold.nii.gz', '../data/sub-0255/ses-01/func/sub-0255_ses-01_task-rest_bold.nii.gz', '../data/sub-0233/ses-01/func/sub-0233_ses-01_task-rest_bold.nii.gz', '../data/sub-0258/ses-01/func/sub-0258_ses-01_task-rest_bold.nii.gz', '../data/sub-0204/ses-01/func/sub-0204_ses-01_task-rest_bold.nii.gz', '../data/sub-2140/ses-01/func/sub-2140_ses-01_task-rest_bold.nii.gz']\n",
      "Anat files: ['../data/sub-0270/ses-01/anat/sub-0270_ses-01_T1w.nii.gz', '../data/sub-0205/ses-01/anat/sub-0205_ses-01_T1w.nii.gz', '../data/sub-0231/ses-01/anat/sub-0231_ses-01_T1w.nii.gz', '../data/sub-0240/ses-01/anat/sub-0240_ses-01_T1w.nii.gz', '../data/sub-0238/ses-01/anat/sub-0238_ses-01_T1w.nii.gz', '../data/sub-0252/ses-01/anat/sub-0252_ses-01_T1w.nii.gz', '../data/sub-2132/ses-01/anat/sub-2132_ses-01_T1w.nii.gz', '../data/sub-2122/ses-01/anat/sub-2122_ses-01_T1w.nii.gz', '../data/sub-0272/ses-01/anat/sub-0272_ses-01_T1w.nii.gz', '../data/sub-2130/ses-01/anat/sub-2130_ses-01_T1w.nii.gz', '../data/sub-2145/ses-01/anat/sub-2145_ses-01_T1w.nii.gz', '../data/sub-0264/ses-01/anat/sub-0264_ses-01_T1w.nii.gz', '../data/sub-2134/ses-01/anat/sub-2134_ses-01_T1w.nii.gz', '../data/sub-0202/ses-01/anat/sub-0202_ses-01_T1w.nii.gz', '../data/sub-2141/ses-01/anat/sub-2141_ses-01_T1w.nii.gz', '../data/sub-0203/ses-01/anat/sub-0203_ses-01_T1w.nii.gz', '../data/sub-0222/ses-01/anat/sub-0222_ses-01_T1w.nii.gz', '../data/sub-0224/ses-01/anat/sub-0224_ses-01_T1w.nii.gz', '../data/sub-2128/ses-01/anat/sub-2128_ses-01_T1w.nii.gz', '../data/sub-0267/ses-01/anat/sub-0267_ses-01_T1w.nii.gz', '../data/sub-0206/ses-01/anat/sub-0206_ses-01_T1w.nii.gz', '../data/sub-0243/ses-01/anat/sub-0243_ses-01_T1w.nii.gz', '../data/sub-0230/ses-01/anat/sub-0230_ses-01_T1w.nii.gz', '../data/sub-0210/ses-01/anat/sub-0210_ses-01_T1w.nii.gz', '../data/sub-0207/ses-01/anat/sub-0207_ses-01_T1w.nii.gz', '../data/sub-2148/ses-01/anat/sub-2148_ses-01_T1w.nii.gz', '../data/sub-0212/ses-01/anat/sub-0212_ses-01_T1w.nii.gz', '../data/sub-0257/ses-01/anat/sub-0257_ses-01_T1w.nii.gz', '../data/sub-0213/ses-01/anat/sub-0213_ses-01_T1w.nii.gz', '../data/sub-0226/ses-01/anat/sub-0226_ses-01_T1w.nii.gz', '../data/sub-0214/ses-01/anat/sub-0214_ses-01_T1w.nii.gz', '../data/sub-0235/ses-01/anat/sub-0235_ses-01_T1w.nii.gz', '../data/sub-2125/ses-01/anat/sub-2125_ses-01_T1w.nii.gz', '../data/sub-2139/ses-01/anat/sub-2139_ses-01_T1w.nii.gz', '../data/sub-0265/ses-01/anat/sub-0265_ses-01_T1w.nii.gz', '../data/sub-0209/ses-01/anat/sub-0209_ses-01_T1w.nii.gz', '../data/sub-0247/ses-01/anat/sub-0247_ses-01_T1w.nii.gz', '../data/sub-2137/ses-01/anat/sub-2137_ses-01_T1w.nii.gz', '../data/sub-2131/ses-01/anat/sub-2131_ses-01_T1w.nii.gz', '../data/sub-0256/ses-01/anat/sub-0256_ses-01_T1w.nii.gz', '../data/sub-0246/ses-01/anat/sub-0246_ses-01_T1w.nii.gz', '../data/sub-0253/ses-01/anat/sub-0253_ses-01_T1w.nii.gz', '../data/sub-0232/ses-01/anat/sub-0232_ses-01_T1w.nii.gz', '../data/sub-0227/ses-01/anat/sub-0227_ses-01_T1w.nii.gz', '../data/sub-0242/ses-01/anat/sub-0242_ses-01_T1w.nii.gz', '../data/sub-0263/ses-01/anat/sub-0263_ses-01_T1w.nii.gz', '../data/sub-0237/ses-01/anat/sub-0237_ses-01_T1w.nii.gz', '../data/sub-2129/ses-01/anat/sub-2129_ses-01_T1w.nii.gz', '../data/sub-0249/ses-01/anat/sub-0249_ses-01_T1w.nii.gz', '../data/sub-2136/ses-01/anat/sub-2136_ses-01_T1w.nii.gz', '../data/sub-0234/ses-01/anat/sub-0234_ses-01_T1w.nii.gz', '../data/sub-2154/ses-01/anat/sub-2154_ses-01_T1w.nii.gz', '../data/sub-0250/ses-01/anat/sub-0250_ses-01_T1w.nii.gz', '../data/sub-0255/ses-01/anat/sub-0255_ses-01_T1w.nii.gz', '../data/sub-0233/ses-01/anat/sub-0233_ses-01_T1w.nii.gz', '../data/sub-0258/ses-01/anat/sub-0258_ses-01_T1w.nii.gz', '../data/sub-0204/ses-01/anat/sub-0204_ses-01_T1w.nii.gz', '../data/sub-2140/ses-01/anat/sub-2140_ses-01_T1w.nii.gz']\n",
      "Func mask files: []\n"
     ]
    }
   ],
   "source": [
    "# Fetch the atlas (cortical or subcortical)\n",
    "atlas_cortex = fetch_atlas_harvard_oxford('cort-maxprob-thr25-1mm')  # 1mm resolution\n",
    "atlas_img_cortex = atlas_cortex.filename\n",
    "\n",
    "# Fetch the sub-cortical atlas\n",
    "atlas_subcortical = fetch_atlas_harvard_oxford('sub-maxprob-thr25-1mm')\n",
    "atlas_img_subcortical = atlas_subcortical.filename\n",
    "\n",
    "# Load the Harvard-Oxford Sub-cortical Atlas\n",
    "# from nilearn import datasets\n",
    "# atlas_filename = datasets.fetch_atlas_harvard_oxford('sub-cortical')['filename']\n",
    "\n",
    "# Plot the Harvard-Oxford Sub-cortical Atlas overlaid on the fMRI data\n",
    "# plotting.plot_roi(atlas_filename, bg_img=fmri_data, title=\"Harvard-Oxford Sub-cortical Atlas\")\n",
    "\n",
    "\n",
    "atlas_labels = atlas_cortex.labels[1:] + atlas_subcortical.labels[1:]\n",
    "\n",
    "# Root directory is 'data'\n",
    "root_dir = '../data'\n",
    "\n",
    "# Glob all files that end in .nii under any 'func' directory (in nested subfolders)\n",
    "func_files = glob.glob(os.path.join(root_dir, '**', 'func', '**', '*.nii.gz'), recursive=True)\n",
    "\n",
    "# Filter out files that contain the word 'mask' from the func_files list\n",
    "func_files_without_mask = [file for file in func_files if 'mask' not in file]\n",
    "\n",
    "# Glob all files that end in .nii under any 'anat' directory (in nested subfolders)\n",
    "anat_files = glob.glob(os.path.join(root_dir, '**', 'anat', '**', '*.nii.gz'), recursive=True)\n",
    "\n",
    "# Glob all files that contain the word \"mask\" that end in .nii and are located under any 'func' directory (in nested subfolders)\n",
    "func_mask_files = glob.glob(os.path.join(root_dir, '**', 'func', '**', '*mask*.nii.gz'), recursive=True)\n",
    "\n",
    "# Output the results\n",
    "print(\"Func files without mask:\", func_files_without_mask)\n",
    "print(\"Anat files:\", anat_files)\n",
    "print(\"Func mask files:\", func_mask_files)"
   ]
  },
  {
   "cell_type": "code",
   "execution_count": null,
   "metadata": {},
   "outputs": [],
   "source": [
    "# Load the 4D fMRI data and 3D anatomical data for each brain\n",
    "brains_fmri = func_files_without_mask\n",
    "brains_anatomical = anat_files"
   ]
  },
  {
   "cell_type": "code",
   "execution_count": null,
   "metadata": {},
   "outputs": [],
   "source": [
    "len(brains_anatomical)"
   ]
  },
  {
   "cell_type": "code",
   "execution_count": null,
   "metadata": {},
   "outputs": [],
   "source": [
    "len(brains_fmri)"
   ]
  },
  {
   "cell_type": "code",
   "execution_count": null,
   "metadata": {},
   "outputs": [],
   "source": [
    "# Create Bold Signals For All Subcortical and Cortical Regions\n",
    "for person in tqdm(range(len(brains_fmri))):\n",
    "    bold_signal_dir = os.path.dirname(os.path.dirname(brains_fmri[person]))\n",
    "    subject_name = os.path.basename(os.path.dirname(os.path.dirname(os.path.dirname(brains_fmri[person]))))\n",
    "    # Example: Load the first brain's fMRI and anatomical data\n",
    "    fmri_data, fmri_affine = load_nii(brains_fmri[person])  # Shape: (x, y, z, t)\n",
    "    anatomical_data, anatomical_affine = load_nii(brains_anatomical[person])  # Shape: (x, y, z)\n",
    "    anatomical_nii = nib.load(brains_anatomical[person])\n",
    "    \n",
    "    # Resample the atlas to match the anatomical image (cortical)\n",
    "    resampled_atlas_cortex = resample_to_img(atlas_img_cortex, anatomical_nii , interpolation='nearest')\n",
    "    resampled_atlas_subcortex = resample_to_img(atlas_img_subcortical, anatomical_nii , interpolation='nearest')\n",
    "    \n",
    "    # Save the new resampled atlas\n",
    "    # resampled_atlas.to_filename(\"registered_atlas.nii.gz\")\n",
    "    \n",
    "    # Convert the resampled atlas image to a NumPy array\n",
    "    atlas_data_cortex = resampled_atlas_cortex.get_fdata()\n",
    "    atlas_data_subcortex = resampled_atlas_subcortex.get_fdata()\n",
    "    \n",
    "    # Extract unique region labels from the atlas\n",
    "    roi_labels_cortex = np.unique(atlas_data_cortex)[1:]  # Ignore background (0)\n",
    "    roi_labels_subcortex = np.unique(atlas_data_subcortex)[1:]  # Ignore background (0)roi_labels_cortex = np.unique(atlas_data_cortex)[1:]  # Ignore background (0)\n",
    "\n",
    "    # Step 1: Resample the atlas to match the spatial dimensions of fmri_data (64, 64, 34)\n",
    "    # Determine the scaling factors for each spatial dimension\n",
    "    scaling_factors = np.array(fmri_data.shape[:3]) / np.array(atlas_data_cortex.shape)\n",
    "\n",
    "    # Resample the atlas using the scaling factors (linear interpolation)\n",
    "    resampled_atlas_cortex = zoom(atlas_data_cortex, scaling_factors, order=1)  # Using linear interpolation\n",
    "    resampled_atlas_subcortex = zoom(atlas_data_subcortex, scaling_factors, order=1) # Using linear inerpolation\n",
    "\n",
    "    # Round and cast the resampled atlas to integers\n",
    "    resampled_atlas_cortex = np.round(resampled_atlas_cortex).astype(int)\n",
    "    resampled_atlas_subcortex = np.round(resampled_atlas_subcortex).astype(int)\n",
    "\n",
    "    # Step 2: Extract unique region labels from the resampled atlas (skip background 0)\n",
    "    # roi_labels = np.unique(resampled_atlas)[np.unique(resampled_atlas) > 0]\n",
    "\n",
    "    # Create a dictionary to store extracted time series for each ROI\n",
    "    roi_time_series = {}\n",
    "\n",
    "    # Step 3: Extract fMRI time series for each ROI\n",
    "    for roi in tqdm(roi_labels_cortex, desc=\"Processing ROIs\"):\n",
    "        # Get the voxel indices for the current ROI in the resampled atlas\n",
    "        roi_voxels = np.where(resampled_atlas_cortex == roi)\n",
    "\n",
    "        # Ensure the voxel indices are valid within the spatial dimensions of fmri_data\n",
    "        # Extract the fMRI signal corresponding to these voxels for each time point\n",
    "        roi_signal = fmri_data[roi_voxels].mean(axis=0)  # Averaging across voxels (axis 0 refers to spatial)\n",
    "\n",
    "        # Store the resulting time series for the current ROI\n",
    "        roi_time_series[roi] = roi_signal\n",
    "\n",
    "    # Convert to DataFrame\n",
    "    roi_cortex_df = pd.DataFrame(roi_time_series)\n",
    "\n",
    "    # Create a dictionary to store extracted time series for each ROI\n",
    "    roi_time_series = {}\n",
    "\n",
    "    # Step 3: Extract fMRI time series for each ROI\n",
    "    for roi in tqdm(roi_labels_subcortex, desc=\"Processing ROIs\"):\n",
    "        # Get the voxel indices for the current ROI in the resampled atlas\n",
    "        roi_voxels = np.where(resampled_atlas_subcortex == roi)\n",
    "\n",
    "        # Ensure the voxel indices are valid within the spatial dimensions of fmri_data\n",
    "        # Extract the fMRI signal corresponding to these voxels for each time point\n",
    "        roi_signal = fmri_data[roi_voxels].mean(axis=0)  # Averaging across voxels (axis 0 refers to spatial)\n",
    "\n",
    "        # Store the resulting time series for the current ROI\n",
    "        roi_time_series[roi] = roi_signal\n",
    "\n",
    "    # Convert to DataFrame\n",
    "    roi_subcortex_df = pd.DataFrame(roi_time_series)\n",
    "    roi_df = pd.concat([roi_cortex_df, roi_subcortex_df], axis=1)\n",
    "    roi_df.columns = atlas_labels\n",
    "\n",
    "    f_path = bold_signal_dir + '/' + subject_name + \"_roi_BOLD_activity.csv\"\n",
    "\n",
    "    # Save as CSV\n",
    "    bold_signal_dir\n",
    "    # roi_df.to_csv(f_path, index=False)\n"
   ]
  },
  {
   "cell_type": "markdown",
   "metadata": {},
   "source": [
    "## Collecting CSV of BOLD Activity"
   ]
  },
  {
   "cell_type": "code",
   "execution_count": null,
   "metadata": {},
   "outputs": [],
   "source": [
    "# Load the 4D fMRI data and 3D anatomical data for each brain\n",
    "brains_fmri = func_files_without_mask\n",
    "brains_anatomical = anat_files"
   ]
  },
  {
   "cell_type": "code",
   "execution_count": null,
   "metadata": {},
   "outputs": [],
   "source": [
    "BOLD_activity_csv_list =[f for f in glob.glob(\"data/**/*.csv\", recursive=True) if \"dataframes\" not in f ]"
   ]
  },
  {
   "cell_type": "code",
   "execution_count": null,
   "metadata": {},
   "outputs": [],
   "source": [
    "BOLD_activity_csv_list"
   ]
  },
  {
   "cell_type": "code",
   "execution_count": null,
   "metadata": {},
   "outputs": [],
   "source": [
    "# Fetch the atlas (cortical or subcortical)\n",
    "atlas_cortex = fetch_atlas_harvard_oxford('cort-maxprob-thr25-1mm')  # 1mm resolution\n",
    "atlas_img_cortex = atlas_cortex.filename\n",
    "\n",
    "# Fetch the sub-cortical atlas\n",
    "atlas_subcortical = fetch_atlas_harvard_oxford('sub-maxprob-thr25-1mm')\n",
    "atlas_img_subcortical = atlas_subcortical.filename\n",
    "\n",
    "atlas_labels = atlas_cortex.labels[1:] + atlas_subcortical.labels[1:]\n",
    "atlas_labels"
   ]
  },
  {
   "cell_type": "code",
   "execution_count": null,
   "metadata": {},
   "outputs": [],
   "source": [
    "BOLD_activity_df_list = []\n",
    "for person in BOLD_activity_csv_list:\n",
    "    BOLD_activity_df_list.append(pd.read_csv(person))"
   ]
  },
  {
   "cell_type": "markdown",
   "metadata": {},
   "source": [
    "##### Computing fractional Amplitude Low Frequency Fluctuations & Coefficient of Variance"
   ]
  },
  {
   "cell_type": "code",
   "execution_count": null,
   "metadata": {},
   "outputs": [],
   "source": [
    "fALFF_df = pd.DataFrame(columns=[\"Subject\"] + atlas_labels)\n",
    "cv_df = pd.DataFrame(columns=[\"Subject\"] + atlas_labels)"
   ]
  },
  {
   "cell_type": "code",
   "execution_count": null,
   "metadata": {},
   "outputs": [],
   "source": [
    "# Parameters\n",
    "TR = 2 # Repetition time (in seconds)\n",
    "low_freq_band = (0.01, 0.1) # Low-frequency range for ALFF (Hz)\n",
    "n_timepoints = 300\n",
    "frequencies = fftfreq(n_timepoints, d=TR)\n",
    "# Create a mask for the low-frequency band\n",
    "low_freq_mask = np.logical_and(frequencies >= low_freq_band[0], frequencies <= low_freq_band[1])"
   ]
  },
  {
   "cell_type": "code",
   "execution_count": null,
   "metadata": {},
   "outputs": [],
   "source": [
    "fft(BOLD_activity_df_list[0].iloc[:, 1], axis=-1)"
   ]
  },
  {
   "cell_type": "code",
   "execution_count": null,
   "metadata": {},
   "outputs": [],
   "source": [
    "for temp_df in BOLD_activity_df_list:\n",
    "    for region in range(len(temp_df.columns)):\n",
    "        # print(temp_df.iloc[:, region])\n",
    "        print(temp_df.columns)"
   ]
  },
  {
   "cell_type": "code",
   "execution_count": null,
   "metadata": {},
   "outputs": [],
   "source": [
    "temp_df.columns"
   ]
  },
  {
   "cell_type": "code",
   "execution_count": null,
   "metadata": {},
   "outputs": [],
   "source": [
    "temp_df.iloc[:]"
   ]
  },
  {
   "cell_type": "code",
   "execution_count": null,
   "metadata": {},
   "outputs": [],
   "source": [
    "for temp_df in BOLD_activity_df_list:\n",
    "    for region in range(len(temp_df.columns)):\n",
    "        print(temp_df.iloc[:, region])\n",
    "        print(type(region))\n",
    "        # fft_data = fft(temp_df.iloc[:, region], axis=-1)"
   ]
  },
  {
   "cell_type": "code",
   "execution_count": null,
   "metadata": {},
   "outputs": [],
   "source": [
    "# Calculate Frequencies and CV\n",
    "person = 0\n",
    "for temp_df in tqdm(BOLD_activity_df_list):\n",
    "    subject_name = os.path.basename(os.path.dirname(os.path.dirname(os.path.dirname(brains_fmri[person]))))\n",
    "    fALFF_values = []\n",
    "    cv_values = []\n",
    "    for region in range(len(temp_df.columns)):\n",
    "        fft_data = fft(temp_df.iloc[:, region], axis=-1)\n",
    "        \n",
    "        # Compute the ALFF: average amplitude in the low-frequency band\n",
    "        alff = np.abs(fft_data)[..., low_freq_mask].mean(axis=-1)\n",
    "\n",
    "        # For fALFF: Compute the total power in the 0.01-0.25 Hz range\n",
    "        total_power = np.abs(fft_data)[..., (frequencies >= 0.01) & (frequencies <= 0.25)].sum(axis=-1)\n",
    "\n",
    "        # Compute fALFF: Normalized ALFF\n",
    "        falff = alff / total_power\n",
    "        fALFF_values.append(falff)\n",
    "        \n",
    "        # BOLD Signal Variability (e.g., using Coefficient of Variation)\n",
    "        cv = np.std(temp_df.iloc[:, region]) / np.mean(temp_df.iloc[:, region])\n",
    "        cv_values.append(cv)\n",
    "    \n",
    "    # Create the new row with \"Subject\" and the numerical values\n",
    "    new_row = {'Subject': subject_name}  # Add the string value for 'Subject'\n",
    "    new_row.update(dict(zip(atlas_labels, fALFF_values)))  # Add numerical values to the other columns\n",
    "    fALFF_df.loc[len(fALFF_df)] = new_row\n",
    "    \n",
    "    new_row = {'Subject': subject_name}\n",
    "    new_row.update(dict(zip(atlas_labels, cv_values)))\n",
    "    cv_df.loc[len(cv_df)] = new_row\n",
    "    person+=1\n",
    "        \n"
   ]
  },
  {
   "cell_type": "code",
   "execution_count": null,
   "metadata": {},
   "outputs": [],
   "source": [
    "len(BOLD_activity_df_list)"
   ]
  },
  {
   "cell_type": "code",
   "execution_count": null,
   "metadata": {},
   "outputs": [],
   "source": [
    "len(subject_name_l)"
   ]
  },
  {
   "cell_type": "code",
   "execution_count": null,
   "metadata": {},
   "outputs": [],
   "source": [
    "df_dir = \"data/dataframes/BOLD/\"\n",
    "for df in tqdm(range(len(BOLD_activity_df_list))):\n",
    "    BOLD_activity_df_list[df].to_csv(df_dir + subject_name_l[df] + \"_BOLD.csv\", index=False)\n",
    "    "
   ]
  },
  {
   "cell_type": "code",
   "execution_count": null,
   "metadata": {},
   "outputs": [],
   "source": [
    "fALFF_df.head()"
   ]
  },
  {
   "cell_type": "code",
   "execution_count": null,
   "metadata": {},
   "outputs": [],
   "source": [
    "cv_df.head()"
   ]
  },
  {
   "cell_type": "code",
   "execution_count": null,
   "metadata": {},
   "outputs": [],
   "source": [
    "# Set the 'Subject' column as the index for easy access\n",
    "fALFF_df.set_index('Subject', inplace=True)\n",
    "cv_df.set_index('Subject', inplace=True)\n"
   ]
  },
  {
   "cell_type": "code",
   "execution_count": null,
   "metadata": {},
   "outputs": [],
   "source": [
    "# save fALFF_df & cv df\n",
    "fALFF_df.to_csv(\"data/dataframes/fALFF.csv\")  # Save without the index\n",
    "cv_df.to_csv(\"data/dataframes/cv_df.csv\")\n"
   ]
  },
  {
   "cell_type": "code",
   "execution_count": null,
   "metadata": {},
   "outputs": [],
   "source": [
    "# Acquiring subject names:\n",
    "subject_name_l = []\n",
    "for person in range(len(brains_fmri)):\n",
    "    subject_name = os.path.basename(os.path.dirname(os.path.dirname(os.path.dirname(brains_fmri[person]))))\n",
    "    subject_name_l.append(subject_name)"
   ]
  },
  {
   "cell_type": "code",
   "execution_count": null,
   "metadata": {},
   "outputs": [],
   "source": [
    "subject_name_df = pd.DataFrame(subject_name_l, columns=['Name'])"
   ]
  },
  {
   "cell_type": "code",
   "execution_count": null,
   "metadata": {},
   "outputs": [],
   "source": [
    "subject_name_df.head()"
   ]
  },
  {
   "cell_type": "code",
   "execution_count": null,
   "metadata": {},
   "outputs": [],
   "source": [
    "subject_name_df.to_csv(\"data/dataframes/subject_name_df.csv\", index = False)"
   ]
  },
  {
   "cell_type": "markdown",
   "metadata": {},
   "source": [
    "## Visualize the fALFF & CV"
   ]
  },
  {
   "cell_type": "code",
   "execution_count": null,
   "metadata": {},
   "outputs": [],
   "source": [
    "# Load fALFF & CV\n",
    "fALFF_df = pd.read_csv(\"data/dataframes/fALFF.csv\", index_col=0)\n",
    "cv_df = pd.read_csv(\"data/dataframes/cv_df.csv\", index_col=0)\n",
    "subject_name_df = pd.read_csv(\"data/dataframes/subject_name_df.csv\")"
   ]
  },
  {
   "cell_type": "code",
   "execution_count": null,
   "metadata": {},
   "outputs": [],
   "source": [
    "subject_name_df.head()"
   ]
  },
  {
   "cell_type": "code",
   "execution_count": null,
   "metadata": {},
   "outputs": [],
   "source": [
    "fALFF_df.head()"
   ]
  },
  {
   "cell_type": "code",
   "execution_count": null,
   "metadata": {},
   "outputs": [],
   "source": [
    "cv_df.head()"
   ]
  },
  {
   "cell_type": "code",
   "execution_count": null,
   "metadata": {},
   "outputs": [],
   "source": [
    "BOLD_activity_df_list[0]"
   ]
  },
  {
   "cell_type": "code",
   "execution_count": null,
   "metadata": {},
   "outputs": [],
   "source": [
    "# Create an empty bipartite graph\n",
    "B = nx.Graph()\n",
    "\n",
    "# Add nodes for subjects (bipartite set 1)\n",
    "B.add_nodes_from(fALFF_df.index, bipartite=0)\n",
    "\n",
    "# Add nodes for regions (bipartite set 2)\n",
    "regions = fALFF_df.columns.tolist()  # All regions are the columns of fALFF_df\n",
    "B.add_nodes_from(regions, bipartite=1)\n",
    "\n",
    "# Add edges between subjects and regions with two distinct weights (one from fALFF_df and one from cv_df)\n",
    "for subject in fALFF_df.index:\n",
    "    for region in fALFF_df.columns:\n",
    "        weight1 = fALFF_df.at[subject, region]  # Weight from fALFF_df\n",
    "        weight2 = cv_df.at[subject, region]  # Weight from cv_df\n",
    "        \n",
    "        # Add an edge with two distinct weights\n",
    "        B.add_edge(subject, region, weight_fALFF=weight1, weight_cv=weight2)\n",
    "\n",
    "# Now the graph B contains bipartite nodes (subjects and regions) with edges having two distinct weights\n",
    "\n",
    "# Example: Print the edges with weights from both dataframes\n",
    "for u, v, data in B.edges(data=True):\n",
    "    print(f\"Edge ({u}, {v}) - Weight from fALFF_df: {data['weight_fALFF']}, Weight from cv_df: {data['weight_cv']}\")\n"
   ]
  },
  {
   "cell_type": "code",
   "execution_count": null,
   "metadata": {},
   "outputs": [],
   "source": [
    "import networkx as nx\n",
    "import matplotlib.pyplot as plt\n",
    "import numpy as np\n",
    "import matplotlib.colors as mcolors\n",
    "import matplotlib.cm as cm\n",
    "\n",
    "# Set positions for bipartite layout with increased spacing\n",
    "pos = {}\n",
    "pos.update((node, (1, index * 2.5)) for index, node in enumerate(fALFF_df.index))  # Subjects (left side)\n",
    "pos.update((node, (4, index * 2.5)) for index, node in enumerate(regions))  # Regions (right side)\n",
    "\n",
    "# Get edge weights from the fALFF_df's weight column\n",
    "edge_weights = [B[u][v]['weight_fALFF'] for u, v in B.edges()]\n",
    "\n",
    "# Normalize edge thickness for better visibility\n",
    "max_weight = max(edge_weights) if edge_weights else 1  # Avoid division by zero\n",
    "edge_widths = [1 + 6 * (w / max_weight) for w in edge_weights]  # Scale thickness between 1 and 7\n",
    "\n",
    "# Normalize edge color mapping\n",
    "norm = mcolors.Normalize(vmin=min(edge_weights), vmax=max(edge_weights))\n",
    "cmap = cm.Blues\n",
    "edge_colors = [cmap(norm(w)) for w in edge_weights]\n",
    "\n",
    "# Set larger figure size\n",
    "plt.figure(figsize=(24, 16))  # Bigger canvas for better visibility\n",
    "\n",
    "# Draw the bipartite graph with smaller nodes\n",
    "edges = nx.draw_networkx_edges(\n",
    "    B, pos, edge_color=edge_colors, width=edge_widths, edge_cmap=cmap, alpha=0.8\n",
    ")\n",
    "nodes = nx.draw_networkx_nodes(B, pos, node_size=800, node_color='skyblue')  # Smaller nodes\n",
    "labels = nx.draw_networkx_labels(B, pos, font_size=12, font_weight='bold')\n",
    "\n",
    "# Add colorbar legend for edge weights\n",
    "sm = cm.ScalarMappable(cmap=cmap, norm=norm)\n",
    "sm.set_array([])\n",
    "cbar = plt.colorbar(sm, ax=plt.gca(), orientation='vertical', fraction=0.02, pad=0.02)\n",
    "cbar.set_label(\"Edge Weight (fALFF)\", fontsize=14)\n",
    "\n",
    "# Title\n",
    "plt.title(\"Optimized Bipartite Graph with Improved Spacing and Smaller Nodes\", fontsize=16)\n",
    "\n",
    "# Show the plot\n",
    "plt.show()\n",
    "\n"
   ]
  },
  {
   "cell_type": "code",
   "execution_count": null,
   "metadata": {},
   "outputs": [],
   "source": [
    "# Select the region to visualize\n",
    "region_to_visualize = \"Frontal Pole\"\n",
    "\n",
    "# Create an empty graph\n",
    "B = nx.Graph()\n",
    "\n",
    "# Add the central brain region node\n",
    "B.add_node(region_to_visualize, color='Teal', size=3000)\n",
    "\n",
    "# Add subject nodes and edges\n",
    "for subject in fALFF_df.index:\n",
    "    weight1 = fALFF_df.at[subject, region_to_visualize]  # fALFF weight\n",
    "    weight2 = cv_df.at[subject, region_to_visualize] if region_to_visualize in cv_df.columns else 0  # CV weight\n",
    "    \n",
    "    B.add_node(subject, color='green', size=1500)  # Subject nodes\n",
    "    B.add_edge(subject, region_to_visualize, weight1=weight1, weight2=weight2)  # Edge with weights\n",
    "\n",
    "# Set figure size **before drawing**\n",
    "plt.figure(figsize=(18, 14))  # Larger figure size for better visibility\n",
    "\n",
    "# Positioning: Use `spring_layout` with a **higher `k` value** to spread nodes more\n",
    "pos = nx.spring_layout(B, seed=42, k=1.5)  # Increase k for wider spacing\n",
    "\n",
    "# Draw nodes with custom sizes and colors\n",
    "node_colors = [B.nodes[node]['color'] for node in B.nodes()]\n",
    "node_sizes = [B.nodes[node]['size'] for node in B.nodes()]\n",
    "nx.draw(B, pos, with_labels=True, node_size=node_sizes, node_color=node_colors, font_size=12, font_weight='bold')\n",
    "\n",
    "# Draw edges with labels (4 decimal places)\n",
    "edge_labels = {\n",
    "    (u, v): f\"fALFF: {B[u][v]['weight1']:.4f}\\nCV: {B[u][v]['weight2']:.4f}\" \n",
    "    for u, v in B.edges()\n",
    "}\n",
    "nx.draw_networkx_edge_labels(B, pos, edge_labels=edge_labels, font_size=10)\n",
    "\n",
    "# Title\n",
    "plt.title(f\"Graph Representation: '{region_to_visualize}' Connected to Subjects\", fontsize=14)\n",
    "\n",
    "# Show the plot\n",
    "plt.show()\n"
   ]
  },
  {
   "cell_type": "markdown",
   "metadata": {
    "vscode": {
     "languageId": "javascript"
    }
   },
   "source": [
    "# Mapping the Brain STL to the harvard-oxford atlases and identifying region coordinates"
   ]
  },
  {
   "cell_type": "code",
   "execution_count": 4,
   "metadata": {},
   "outputs": [],
   "source": [
    "graph_data = \"../data/graphs/cognitively_normal_pdd_stat_sign_corr_graph.json\"\n",
    "detailed_brain_stl = \"../data/stl/brain_20human_NIH3D_detailed.stl\"\n",
    "less_detailed_brain_stl = \"../data/stl/human_brain_NIH3D_less_detailed.stl\""
   ]
  },
  {
   "cell_type": "code",
   "execution_count": 2,
   "metadata": {},
   "outputs": [],
   "source": [
    "\n",
    "def stl_to_nifti(stl_file, voxel_resolution=64):\n",
    "    # Step 1: Load the STL file using trimesh\n",
    "    mesh = trimesh.load_mesh(stl_file)\n",
    "    \n",
    "    # Step 2: Create a voxel grid from the mesh\n",
    "    # Voxelize the mesh\n",
    "    voxel_grid = mesh.voxelized(pitch=1.0/voxel_resolution)  # Create a voxel grid with a given resolution\n",
    "    \n",
    "    # Step 3: Convert voxel grid to a numpy array\n",
    "    # Get the numpy array representing the voxel grid (1 = inside the object, 0 = outside)\n",
    "    voxel_data = voxel_grid.matrix.astype(np.uint8)\n",
    "    \n",
    "    # Step 4: Create NIFTI image from the numpy array\n",
    "    nifti_img = nib.Nifti1Image(voxel_data, np.eye(4))  # Identity matrix for no transformation\n",
    "    \n",
    "    # Step 5: Save the NIFTI image\n",
    "    nifti_file = stl_file.replace('.stl', '.nii')\n",
    "    nib.save(nifti_img, nifti_file)\n",
    "    print(f\"Saved NIFTI file as {nifti_file}\")\n",
    "\n",
    "# Example usage\n",
    "# stl_to_nifti(detailed_brain_stl, voxel_resolution=64)\n"
   ]
  },
  {
   "cell_type": "code",
   "execution_count": 4,
   "metadata": {},
   "outputs": [],
   "source": [
    "stl_file = detailed_brain_stl\n",
    "voxel_resolution=256\n"
   ]
  },
  {
   "cell_type": "code",
   "execution_count": 8,
   "metadata": {},
   "outputs": [],
   "source": [
    "\n",
    "# Step 1: Load the STL file using trimesh\n",
    "mesh = trimesh.load_mesh(stl_file)\n"
   ]
  },
  {
   "cell_type": "code",
   "execution_count": 9,
   "metadata": {},
   "outputs": [
    {
     "data": {
      "text/plain": [
       "<trimesh.Trimesh(vertices.shape=(188749, 3), faces.shape=(377701, 3))>"
      ]
     },
     "execution_count": 9,
     "metadata": {},
     "output_type": "execute_result"
    }
   ],
   "source": [
    "mesh"
   ]
  },
  {
   "cell_type": "code",
   "execution_count": null,
   "metadata": {},
   "outputs": [],
   "source": []
  },
  {
   "cell_type": "code",
   "execution_count": null,
   "metadata": {},
   "outputs": [
    {
     "name": "stdout",
     "output_type": "stream",
     "text": [
      "Simplified mesh saved as ../data/stl/human_brain_NIH3D_less_detailed_simplified.stl\n",
      "Saved NIFTI file as ../data/stl/human_brain_NIH3D_less_detailed.nii\n"
     ]
    }
   ],
   "source": [
    "\n",
    "\n",
    "# Example usage\n",
    "stl_to_nifti(less_detailed_brain_stl, voxel_resolution=256, target_faces=50000)\n"
   ]
  },
  {
   "cell_type": "code",
   "execution_count": 8,
   "metadata": {},
   "outputs": [],
   "source": [
    "stl_nifti = \"../data/stl/human_brain_NIH3D_less_detailed.nii\""
   ]
  },
  {
   "cell_type": "code",
   "execution_count": 10,
   "metadata": {},
   "outputs": [],
   "source": [
    "nifti_img = nib.load(stl_nifti)"
   ]
  },
  {
   "cell_type": "code",
   "execution_count": 14,
   "metadata": {},
   "outputs": [
    {
     "data": {
      "text/html": [
       "<pre style=\"white-space:pre;overflow-x:auto;line-height:normal;font-family:Menlo,'DejaVu Sans Mono',consolas,'Courier New',monospace\"><span style=\"color: #000080; text-decoration-color: #000080; font-weight: bold\">[</span><span style=\"color: #000080; text-decoration-color: #000080\">get_dataset_dir</span><span style=\"color: #000080; text-decoration-color: #000080; font-weight: bold\">]</span> Dataset found in <span style=\"color: #800080; text-decoration-color: #800080\">/home/linux-pc/nilearn_data/</span><span style=\"color: #ff00ff; text-decoration-color: #ff00ff\">fsl</span>\n",
       "</pre>\n"
      ],
      "text/plain": [
       "\u001b[1;34m[\u001b[0m\u001b[34mget_dataset_dir\u001b[0m\u001b[1;34m]\u001b[0m Dataset found in \u001b[35m/home/linux-pc/nilearn_data/\u001b[0m\u001b[95mfsl\u001b[0m\n"
      ]
     },
     "metadata": {},
     "output_type": "display_data"
    },
    {
     "data": {
      "text/html": [
       "<pre style=\"white-space:pre;overflow-x:auto;line-height:normal;font-family:Menlo,'DejaVu Sans Mono',consolas,'Courier New',monospace\"><span style=\"color: #000080; text-decoration-color: #000080; font-weight: bold\">[</span><span style=\"color: #000080; text-decoration-color: #000080\">get_dataset_dir</span><span style=\"color: #000080; text-decoration-color: #000080; font-weight: bold\">]</span> Dataset found in <span style=\"color: #800080; text-decoration-color: #800080\">/home/linux-pc/nilearn_data/</span><span style=\"color: #ff00ff; text-decoration-color: #ff00ff\">fsl</span>\n",
       "</pre>\n"
      ],
      "text/plain": [
       "\u001b[1;34m[\u001b[0m\u001b[34mget_dataset_dir\u001b[0m\u001b[1;34m]\u001b[0m Dataset found in \u001b[35m/home/linux-pc/nilearn_data/\u001b[0m\u001b[95mfsl\u001b[0m\n"
      ]
     },
     "metadata": {},
     "output_type": "display_data"
    }
   ],
   "source": [
    "# Fetch the atlas (cortical or subcortical)\n",
    "atlas_cortex = fetch_atlas_harvard_oxford('cort-maxprob-thr25-1mm')  # 1mm resolution\n",
    "atlas_img_cortex = atlas_cortex.filename\n",
    "\n",
    "# Fetch the sub-cortical atlas\n",
    "atlas_subcortical = fetch_atlas_harvard_oxford('sub-maxprob-thr25-1mm')\n",
    "atlas_img_subcortical = atlas_subcortical.filename\n",
    "\n",
    "atlas_sn_l = \"../data/atlas/NMS-SNc-atlas-master/SN_L_probatlas27_50.nii.gz\"\n",
    "atlas_sn_r = \"../data/atlas/NMS-SNc-atlas-master/SN_R_probatlas27_50.nii.gz\""
   ]
  },
  {
   "cell_type": "code",
   "execution_count": 15,
   "metadata": {},
   "outputs": [],
   "source": [
    "\n",
    "atlas_labels = atlas_cortex.labels[1:] + atlas_subcortical.labels[1:]\n"
   ]
  },
  {
   "cell_type": "code",
   "execution_count": 16,
   "metadata": {},
   "outputs": [],
   "source": [
    "atlas_labels.append(\"Substantia Nigria Left\")\n",
    "atlas_labels.append(\"Substantia Nigria Right\")"
   ]
  },
  {
   "cell_type": "code",
   "execution_count": 17,
   "metadata": {},
   "outputs": [
    {
     "name": "stdout",
     "output_type": "stream",
     "text": [
      "Func files without mask: ['../data/sub-0270/ses-01/func/sub-0270_ses-01_task-rest_bold.nii.gz', '../data/sub-0205/ses-01/func/sub-0205_ses-01_task-rest_bold.nii.gz', '../data/sub-0231/ses-01/func/sub-0231_ses-01_task-rest_bold.nii.gz', '../data/sub-0240/ses-01/func/sub-0240_ses-01_task-rest_bold.nii.gz', '../data/sub-0238/ses-01/func/sub-0238_ses-01_task-rest_bold.nii.gz', '../data/sub-0252/ses-01/func/sub-0252_ses-01_task-rest_bold.nii.gz', '../data/sub-2132/ses-01/func/sub-2132_ses-01_task-rest_bold.nii.gz', '../data/sub-2122/ses-01/func/sub-2122_ses-01_task-rest_bold.nii.gz', '../data/sub-0272/ses-01/func/sub-0272_ses-01_task-rest_bold.nii.gz', '../data/sub-2130/ses-01/func/sub-2130_ses-01_task-rest_bold.nii.gz', '../data/sub-2145/ses-01/func/sub-2145_ses-01_task-rest_bold.nii.gz', '../data/sub-0264/ses-01/func/sub-0264_ses-01_task-rest_bold.nii.gz', '../data/sub-2134/ses-01/func/sub-2134_ses-01_task-rest_bold.nii.gz', '../data/sub-0202/ses-01/func/sub-0202_ses-01_task-rest_bold.nii.gz', '../data/sub-2141/ses-01/func/sub-2141_ses-01_task-rest_bold.nii.gz', '../data/sub-0203/ses-01/func/sub-0203_ses-01_task-rest_bold.nii.gz', '../data/sub-0222/ses-01/func/sub-0222_ses-01_task-rest_bold.nii.gz', '../data/sub-0224/ses-01/func/sub-0224_ses-01_task-rest_bold.nii.gz', '../data/sub-2128/ses-01/func/sub-2128_ses-01_task-rest_bold.nii.gz', '../data/sub-0267/ses-01/func/sub-0267_ses-01_task-rest_bold.nii.gz', '../data/sub-0206/ses-01/func/sub-0206_ses-01_task-rest_bold.nii.gz', '../data/sub-0243/ses-01/func/sub-0243_ses-01_task-rest_bold.nii.gz', '../data/sub-0230/ses-01/func/sub-0230_ses-01_task-rest_bold.nii.gz', '../data/sub-0210/ses-01/func/sub-0210_ses-01_task-rest_bold.nii.gz', '../data/sub-0207/ses-01/func/sub-0207_ses-01_task-rest_bold.nii.gz', '../data/sub-2148/ses-01/func/sub-2148_ses-01_task-rest_bold.nii.gz', '../data/sub-0212/ses-01/func/sub-0212_ses-01_task-rest_bold.nii.gz', '../data/sub-0257/ses-01/func/sub-0257_ses-01_task-rest_bold.nii.gz', '../data/sub-0213/ses-01/func/sub-0213_ses-01_task-rest_bold.nii.gz', '../data/sub-0226/ses-01/func/sub-0226_ses-01_task-rest_bold.nii.gz', '../data/sub-0214/ses-01/func/sub-0214_ses-01_task-rest_bold.nii.gz', '../data/sub-0235/ses-01/func/sub-0235_ses-01_task-rest_bold.nii.gz', '../data/sub-2125/ses-01/func/sub-2125_ses-01_task-rest_bold.nii.gz', '../data/sub-2139/ses-01/func/sub-2139_ses-01_task-rest_bold.nii.gz', '../data/sub-0265/ses-01/func/sub-0265_ses-01_task-rest_bold.nii.gz', '../data/sub-0209/ses-01/func/sub-0209_ses-01_task-rest_bold.nii.gz', '../data/sub-0247/ses-01/func/sub-0247_ses-01_task-rest_bold.nii.gz', '../data/sub-2137/ses-01/func/sub-2137_ses-01_task-rest_bold.nii.gz', '../data/sub-2131/ses-01/func/sub-2131_ses-01_task-rest_bold.nii.gz', '../data/sub-0256/ses-01/func/sub-0256_ses-01_task-rest_bold.nii.gz', '../data/sub-0246/ses-01/func/sub-0246_ses-01_task-rest_bold.nii.gz', '../data/sub-0253/ses-01/func/sub-0253_ses-01_task-rest_bold.nii.gz', '../data/sub-0232/ses-01/func/sub-0232_ses-01_task-rest_bold.nii.gz', '../data/sub-0227/ses-01/func/sub-0227_ses-01_task-rest_bold.nii.gz', '../data/sub-0242/ses-01/func/sub-0242_ses-01_task-rest_bold.nii.gz', '../data/sub-0263/ses-01/func/sub-0263_ses-01_task-rest_bold.nii.gz', '../data/sub-0237/ses-01/func/sub-0237_ses-01_task-rest_bold.nii.gz', '../data/sub-2129/ses-01/func/sub-2129_ses-01_task-rest_bold.nii.gz', '../data/sub-0249/ses-01/func/sub-0249_ses-01_task-rest_bold.nii.gz', '../data/sub-2136/ses-01/func/sub-2136_ses-01_task-rest_bold.nii.gz', '../data/sub-0234/ses-01/func/sub-0234_ses-01_task-rest_bold.nii.gz', '../data/sub-2154/ses-01/func/sub-2154_ses-01_task-rest_bold.nii.gz', '../data/sub-0250/ses-01/func/sub-0250_ses-01_task-rest_bold.nii.gz', '../data/sub-0255/ses-01/func/sub-0255_ses-01_task-rest_bold.nii.gz', '../data/sub-0233/ses-01/func/sub-0233_ses-01_task-rest_bold.nii.gz', '../data/sub-0258/ses-01/func/sub-0258_ses-01_task-rest_bold.nii.gz', '../data/sub-0204/ses-01/func/sub-0204_ses-01_task-rest_bold.nii.gz', '../data/sub-2140/ses-01/func/sub-2140_ses-01_task-rest_bold.nii.gz']\n",
      "Anat files: ['../data/sub-0270/ses-01/anat/sub-0270_ses-01_T1w.nii.gz', '../data/sub-0205/ses-01/anat/sub-0205_ses-01_T1w.nii.gz', '../data/sub-0231/ses-01/anat/sub-0231_ses-01_T1w.nii.gz', '../data/sub-0240/ses-01/anat/sub-0240_ses-01_T1w.nii.gz', '../data/sub-0238/ses-01/anat/sub-0238_ses-01_T1w.nii.gz', '../data/sub-0252/ses-01/anat/sub-0252_ses-01_T1w.nii.gz', '../data/sub-2132/ses-01/anat/sub-2132_ses-01_T1w.nii.gz', '../data/sub-2122/ses-01/anat/sub-2122_ses-01_T1w.nii.gz', '../data/sub-0272/ses-01/anat/sub-0272_ses-01_T1w.nii.gz', '../data/sub-2130/ses-01/anat/sub-2130_ses-01_T1w.nii.gz', '../data/sub-2145/ses-01/anat/sub-2145_ses-01_T1w.nii.gz', '../data/sub-0264/ses-01/anat/sub-0264_ses-01_T1w.nii.gz', '../data/sub-2134/ses-01/anat/sub-2134_ses-01_T1w.nii.gz', '../data/sub-0202/ses-01/anat/sub-0202_ses-01_T1w.nii.gz', '../data/sub-2141/ses-01/anat/sub-2141_ses-01_T1w.nii.gz', '../data/sub-0203/ses-01/anat/sub-0203_ses-01_T1w.nii.gz', '../data/sub-0222/ses-01/anat/sub-0222_ses-01_T1w.nii.gz', '../data/sub-0224/ses-01/anat/sub-0224_ses-01_T1w.nii.gz', '../data/sub-2128/ses-01/anat/sub-2128_ses-01_T1w.nii.gz', '../data/sub-0267/ses-01/anat/sub-0267_ses-01_T1w.nii.gz', '../data/sub-0206/ses-01/anat/sub-0206_ses-01_T1w.nii.gz', '../data/sub-0243/ses-01/anat/sub-0243_ses-01_T1w.nii.gz', '../data/sub-0230/ses-01/anat/sub-0230_ses-01_T1w.nii.gz', '../data/sub-0210/ses-01/anat/sub-0210_ses-01_T1w.nii.gz', '../data/sub-0207/ses-01/anat/sub-0207_ses-01_T1w.nii.gz', '../data/sub-2148/ses-01/anat/sub-2148_ses-01_T1w.nii.gz', '../data/sub-0212/ses-01/anat/sub-0212_ses-01_T1w.nii.gz', '../data/sub-0257/ses-01/anat/sub-0257_ses-01_T1w.nii.gz', '../data/sub-0213/ses-01/anat/sub-0213_ses-01_T1w.nii.gz', '../data/sub-0226/ses-01/anat/sub-0226_ses-01_T1w.nii.gz', '../data/sub-0214/ses-01/anat/sub-0214_ses-01_T1w.nii.gz', '../data/sub-0235/ses-01/anat/sub-0235_ses-01_T1w.nii.gz', '../data/sub-2125/ses-01/anat/sub-2125_ses-01_T1w.nii.gz', '../data/sub-2139/ses-01/anat/sub-2139_ses-01_T1w.nii.gz', '../data/sub-0265/ses-01/anat/sub-0265_ses-01_T1w.nii.gz', '../data/sub-0209/ses-01/anat/sub-0209_ses-01_T1w.nii.gz', '../data/sub-0247/ses-01/anat/sub-0247_ses-01_T1w.nii.gz', '../data/sub-2137/ses-01/anat/sub-2137_ses-01_T1w.nii.gz', '../data/sub-2131/ses-01/anat/sub-2131_ses-01_T1w.nii.gz', '../data/sub-0256/ses-01/anat/sub-0256_ses-01_T1w.nii.gz', '../data/sub-0246/ses-01/anat/sub-0246_ses-01_T1w.nii.gz', '../data/sub-0253/ses-01/anat/sub-0253_ses-01_T1w.nii.gz', '../data/sub-0232/ses-01/anat/sub-0232_ses-01_T1w.nii.gz', '../data/sub-0227/ses-01/anat/sub-0227_ses-01_T1w.nii.gz', '../data/sub-0242/ses-01/anat/sub-0242_ses-01_T1w.nii.gz', '../data/sub-0263/ses-01/anat/sub-0263_ses-01_T1w.nii.gz', '../data/sub-0237/ses-01/anat/sub-0237_ses-01_T1w.nii.gz', '../data/sub-2129/ses-01/anat/sub-2129_ses-01_T1w.nii.gz', '../data/sub-0249/ses-01/anat/sub-0249_ses-01_T1w.nii.gz', '../data/sub-2136/ses-01/anat/sub-2136_ses-01_T1w.nii.gz', '../data/sub-0234/ses-01/anat/sub-0234_ses-01_T1w.nii.gz', '../data/sub-2154/ses-01/anat/sub-2154_ses-01_T1w.nii.gz', '../data/sub-0250/ses-01/anat/sub-0250_ses-01_T1w.nii.gz', '../data/sub-0255/ses-01/anat/sub-0255_ses-01_T1w.nii.gz', '../data/sub-0233/ses-01/anat/sub-0233_ses-01_T1w.nii.gz', '../data/sub-0258/ses-01/anat/sub-0258_ses-01_T1w.nii.gz', '../data/sub-0204/ses-01/anat/sub-0204_ses-01_T1w.nii.gz', '../data/sub-2140/ses-01/anat/sub-2140_ses-01_T1w.nii.gz']\n",
      "Func mask files: []\n"
     ]
    }
   ],
   "source": [
    "# Root directory is 'data'\n",
    "root_dir = '../data'\n",
    "\n",
    "# Glob all files that end in .nii under any 'func' directory (in nested subfolders)\n",
    "func_files = glob.glob(os.path.join(root_dir, '**', 'func', '**', '*.nii.gz'), recursive=True)\n",
    "\n",
    "# Filter out files that contain the word 'mask' from the func_files list\n",
    "func_files_without_mask = [file for file in func_files if 'mask' not in file]\n",
    "\n",
    "# Glob all files that end in .nii under any 'anat' directory (in nested subfolders)\n",
    "anat_files = glob.glob(os.path.join(root_dir, '**', 'anat', '**', '*.nii.gz'), recursive=True)\n",
    "\n",
    "# Glob all files that contain the word \"mask\" that end in .nii and are located under any 'func' directory (in nested subfolders)\n",
    "func_mask_files = glob.glob(os.path.join(root_dir, '**', 'func', '**', '*mask*.nii.gz'), recursive=True)\n",
    "\n",
    "# Output the results\n",
    "print(\"Func files without mask:\", func_files_without_mask)\n",
    "print(\"Anat files:\", anat_files)\n",
    "print(\"Func mask files:\", func_mask_files)"
   ]
  },
  {
   "cell_type": "code",
   "execution_count": 18,
   "metadata": {},
   "outputs": [],
   "source": [
    "# Load the 4D fMRI data and 3D anatomical data for each brain\n",
    "brains_fmri = func_files_without_mask\n",
    "brains_anatomical = anat_files"
   ]
  },
  {
   "cell_type": "code",
   "execution_count": 21,
   "metadata": {},
   "outputs": [],
   "source": [
    "# Load fMRI and anatomical data\n",
    "def load_fmri_data(fmri_filepath):\n",
    "    fmri_img = nib.load(fmri_filepath)\n",
    "    fmri_data = fmri_img.get_fdata()\n",
    "    return fmri_data\n",
    "\n",
    "def load_anatomical_data(anatomical_filepath):\n",
    "    anatomical_img = nib.load(anatomical_filepath)\n",
    "    anatomical_data = anatomical_img.get_fdata()\n",
    "    return anatomical_data\n",
    "\n",
    "def load_nii(file_path):\n",
    "    \"\"\"Load .nii file using nibabel and return data as numpy array.\"\"\"\n",
    "    nii_data = nib.load(file_path)\n",
    "    return nii_data.get_fdata(), nii_data.affine"
   ]
  },
  {
   "cell_type": "code",
   "execution_count": 34,
   "metadata": {},
   "outputs": [],
   "source": [
    "anatomical_nii = nib.load(brains_anatomical[0])"
   ]
  },
  {
   "cell_type": "code",
   "execution_count": 43,
   "metadata": {},
   "outputs": [],
   "source": [
    "# Resample the atlas to match the anatomical image (cortical)\n",
    "resampled_atlas_cortex = resample_to_img(atlas_img_cortex, anatomical_nii , interpolation='nearest')\n",
    "resampled_atlas_subcortex = resample_to_img(atlas_img_subcortical, anatomical_nii , interpolation='nearest')\n",
    "resampled_atlas_sn_l = resample_to_img(atlas_sn_l, anatomical_nii, interpolation=\"nearest\")\n",
    "resampled_atlas_sn_r = resample_to_img(atlas_sn_r, anatomical_nii, interpolation=\"nearest\")"
   ]
  },
  {
   "cell_type": "code",
   "execution_count": 44,
   "metadata": {},
   "outputs": [],
   "source": [
    "# Convert the resampled atlas image to a NumPy array\n",
    "atlas_data_cortex = resampled_atlas_cortex.get_fdata()\n",
    "atlas_data_subcortex = resampled_atlas_subcortex.get_fdata()\n",
    "atlas_data_sn_l = resampled_atlas_sn_l.get_fdata()\n",
    "atlas_data_sn_r = resampled_atlas_sn_r.get_fdata()"
   ]
  },
  {
   "cell_type": "code",
   "execution_count": null,
   "metadata": {},
   "outputs": [],
   "source": [
    "# Extract unique region labels from the atlas\n",
    "roi_labels_cortex = np.unique(atlas_data_cortex)[1:]  # Ignore background (0)\n",
    "roi_labels_subcortex = np.unique(atlas_data_subcortex)[1:]  # Ignore background (0)roi_labels_cortex = np.unique(atlas_data_cortex)[1:]  # Ignore background (0)\n",
    "roi_labels_sn_l = np.unique(atlas_data_sn_l)[1:]  # Ignore background (0)\n",
    "roi_labels_sn_r = np.unique(atlas_data_sn_r)[1:]  # Ignore background (0)"
   ]
  },
  {
   "cell_type": "code",
   "execution_count": 40,
   "metadata": {},
   "outputs": [],
   "source": [
    "fmri_data, fmri_affine = load_nii(brains_fmri[0])  # Shape: (x, y, z, t)"
   ]
  },
  {
   "cell_type": "code",
   "execution_count": 41,
   "metadata": {},
   "outputs": [],
   "source": [
    "scaling_factors = np.array(fmri_data.shape[:3]) / np.array(atlas_data_cortex.shape)"
   ]
  },
  {
   "cell_type": "code",
   "execution_count": null,
   "metadata": {},
   "outputs": [],
   "source": [
    "# Resample the atlas using the scaling factors (linear interpolation)\n",
    "resampled_atlas_cortex = zoom(atlas_data_cortex, scaling_factors, order=1)  # Using linear interpolation\n",
    "resampled_atlas_subcortex = zoom(atlas_data_subcortex, scaling_factors, order=1) # Using linear inerpolation\n",
    "resampled_atlas_sn_l = zoom(atlas_data_sn_l, scaling_factors, order=1)  # Using linear interpolation\n",
    "resampled_atlas_sn_r = zoom(atlas_data_sn_r, scaling_factors, order=1) # Using linear inerpolation\n",
    "\n",
    "# Round and cast the resampled atlas to integers\n",
    "resampled_atlas_cortex = np.round(resampled_atlas_cortex).astype(int)\n",
    "resampled_atlas_subcortex = np.round(resampled_atlas_subcortex).astype(int)\n",
    "resampled_atlas_sn_l = np.round(resampled_atlas_sn_l).astype(int)\n",
    "resampled_atlas_sn_r = np.round(resampled_atlas_sn_r).astype(int)\n"
   ]
  },
  {
   "cell_type": "code",
   "execution_count": 53,
   "metadata": {},
   "outputs": [
    {
     "data": {
      "text/plain": [
       "48"
      ]
     },
     "execution_count": 53,
     "metadata": {},
     "output_type": "execute_result"
    }
   ],
   "source": [
    "len(atlas_cortex.labels[1:])"
   ]
  },
  {
   "cell_type": "markdown",
   "metadata": {},
   "source": [
    "### Calculating Coordinates for Cortex Regions"
   ]
  },
  {
   "cell_type": "code",
   "execution_count": 152,
   "metadata": {},
   "outputs": [
    {
     "name": "stderr",
     "output_type": "stream",
     "text": [
      "Processing ROIs: 100%|██████████| 48/48 [00:00<00:00, 3597.24it/s]\n"
     ]
    }
   ],
   "source": [
    "# Create a dictionary to store extracted time series for each ROI\n",
    "roi_time_series = {}\n",
    "# Step 3: Extract fMRI time series for each ROI\n",
    "for roi in tqdm(roi_labels_cortex, desc=\"Processing ROIs\"):\n",
    "    # Get the voxel indices for the current ROI in the resampled atlas\n",
    "    roi_voxels = np.where(resampled_atlas_cortex == roi)\n",
    "    \n",
    "    # Ensure the voxel indices are valid within the spatial dimensions of fmri_data\n",
    "    # Extract the fMRI signal corresponding to these voxels for each time point\n",
    "    # roi_signal = fmri_data[roi_voxels].mean(axis=0)  # Averaging across voxels (axis 0 refers to spatial)\n",
    "    x = roi_voxels[0].mean(axis=0)\n",
    "    y = roi_voxels[1].mean(axis=0)\n",
    "    z = roi_voxels[2].mean(axis=0)\n",
    "    region_coordinates = [x, y, z] # Compute Centroid\n",
    "    # Store the resulting time series for the current ROI\n",
    "    roi_time_series[roi] = region_coordinates\n",
    "\n",
    "# Convert to DataFrame\n",
    "roi_cortex_df = pd.DataFrame(roi_time_series)\n",
    "# Create a dictionary to store extracted time series for each ROI\n"
   ]
  },
  {
   "cell_type": "code",
   "execution_count": 154,
   "metadata": {},
   "outputs": [
    {
     "data": {
      "text/html": [
       "<div>\n",
       "<style scoped>\n",
       "    .dataframe tbody tr th:only-of-type {\n",
       "        vertical-align: middle;\n",
       "    }\n",
       "\n",
       "    .dataframe tbody tr th {\n",
       "        vertical-align: top;\n",
       "    }\n",
       "\n",
       "    .dataframe thead th {\n",
       "        text-align: right;\n",
       "    }\n",
       "</style>\n",
       "<table border=\"1\" class=\"dataframe\">\n",
       "  <thead>\n",
       "    <tr style=\"text-align: right;\">\n",
       "      <th></th>\n",
       "      <th>1.0</th>\n",
       "      <th>2.0</th>\n",
       "      <th>3.0</th>\n",
       "      <th>4.0</th>\n",
       "      <th>5.0</th>\n",
       "      <th>6.0</th>\n",
       "      <th>7.0</th>\n",
       "      <th>8.0</th>\n",
       "      <th>9.0</th>\n",
       "      <th>10.0</th>\n",
       "      <th>...</th>\n",
       "      <th>39.0</th>\n",
       "      <th>40.0</th>\n",
       "      <th>41.0</th>\n",
       "      <th>42.0</th>\n",
       "      <th>43.0</th>\n",
       "      <th>44.0</th>\n",
       "      <th>45.0</th>\n",
       "      <th>46.0</th>\n",
       "      <th>47.0</th>\n",
       "      <th>48.0</th>\n",
       "    </tr>\n",
       "  </thead>\n",
       "  <tbody>\n",
       "    <tr>\n",
       "      <th>0</th>\n",
       "      <td>32.075305</td>\n",
       "      <td>32.065104</td>\n",
       "      <td>31.322160</td>\n",
       "      <td>31.405018</td>\n",
       "      <td>30.449735</td>\n",
       "      <td>31.753555</td>\n",
       "      <td>31.266106</td>\n",
       "      <td>32.181384</td>\n",
       "      <td>32.043478</td>\n",
       "      <td>31.065574</td>\n",
       "      <td>...</td>\n",
       "      <td>32.080</td>\n",
       "      <td>31.456522</td>\n",
       "      <td>29.792453</td>\n",
       "      <td>31.288889</td>\n",
       "      <td>31.254902</td>\n",
       "      <td>32.178571</td>\n",
       "      <td>29.125000</td>\n",
       "      <td>31.854545</td>\n",
       "      <td>32.0625</td>\n",
       "      <td>31.383978</td>\n",
       "    </tr>\n",
       "    <tr>\n",
       "      <th>1</th>\n",
       "      <td>45.544098</td>\n",
       "      <td>33.643229</td>\n",
       "      <td>36.957169</td>\n",
       "      <td>37.216846</td>\n",
       "      <td>35.460317</td>\n",
       "      <td>34.312796</td>\n",
       "      <td>31.658263</td>\n",
       "      <td>36.985680</td>\n",
       "      <td>31.413043</td>\n",
       "      <td>27.647541</td>\n",
       "      <td>...</td>\n",
       "      <td>22.608</td>\n",
       "      <td>18.427536</td>\n",
       "      <td>35.358491</td>\n",
       "      <td>32.207407</td>\n",
       "      <td>26.803922</td>\n",
       "      <td>32.089286</td>\n",
       "      <td>28.458333</td>\n",
       "      <td>27.672727</td>\n",
       "      <td>15.4375</td>\n",
       "      <td>11.303867</td>\n",
       "    </tr>\n",
       "    <tr>\n",
       "      <th>2</th>\n",
       "      <td>17.024423</td>\n",
       "      <td>17.343750</td>\n",
       "      <td>23.363128</td>\n",
       "      <td>21.381720</td>\n",
       "      <td>17.661376</td>\n",
       "      <td>17.440758</td>\n",
       "      <td>22.473389</td>\n",
       "      <td>10.985680</td>\n",
       "      <td>15.271739</td>\n",
       "      <td>16.754098</td>\n",
       "      <td>...</td>\n",
       "      <td>12.072</td>\n",
       "      <td>12.376812</td>\n",
       "      <td>15.792453</td>\n",
       "      <td>16.777778</td>\n",
       "      <td>17.627451</td>\n",
       "      <td>14.357143</td>\n",
       "      <td>16.125000</td>\n",
       "      <td>16.600000</td>\n",
       "      <td>16.3750</td>\n",
       "      <td>15.220994</td>\n",
       "    </tr>\n",
       "  </tbody>\n",
       "</table>\n",
       "<p>3 rows × 48 columns</p>\n",
       "</div>"
      ],
      "text/plain": [
       "        1.0        2.0        3.0        4.0        5.0        6.0   \\\n",
       "0  32.075305  32.065104  31.322160  31.405018  30.449735  31.753555   \n",
       "1  45.544098  33.643229  36.957169  37.216846  35.460317  34.312796   \n",
       "2  17.024423  17.343750  23.363128  21.381720  17.661376  17.440758   \n",
       "\n",
       "        7.0        8.0        9.0        10.0  ...    39.0       40.0  \\\n",
       "0  31.266106  32.181384  32.043478  31.065574  ...  32.080  31.456522   \n",
       "1  31.658263  36.985680  31.413043  27.647541  ...  22.608  18.427536   \n",
       "2  22.473389  10.985680  15.271739  16.754098  ...  12.072  12.376812   \n",
       "\n",
       "        41.0       42.0       43.0       44.0       45.0       46.0     47.0  \\\n",
       "0  29.792453  31.288889  31.254902  32.178571  29.125000  31.854545  32.0625   \n",
       "1  35.358491  32.207407  26.803922  32.089286  28.458333  27.672727  15.4375   \n",
       "2  15.792453  16.777778  17.627451  14.357143  16.125000  16.600000  16.3750   \n",
       "\n",
       "        48.0  \n",
       "0  31.383978  \n",
       "1  11.303867  \n",
       "2  15.220994  \n",
       "\n",
       "[3 rows x 48 columns]"
      ]
     },
     "execution_count": 154,
     "metadata": {},
     "output_type": "execute_result"
    }
   ],
   "source": [
    "roi_cortex_df.head()"
   ]
  },
  {
   "cell_type": "code",
   "execution_count": 155,
   "metadata": {},
   "outputs": [],
   "source": [
    "cortex_column_labels = atlas_cortex.labels[1:]"
   ]
  },
  {
   "cell_type": "code",
   "execution_count": 156,
   "metadata": {},
   "outputs": [],
   "source": [
    "keys = np.arange(1, 49, step=1.0)"
   ]
  },
  {
   "cell_type": "code",
   "execution_count": 160,
   "metadata": {},
   "outputs": [],
   "source": [
    "roi_cortex_columns_dict = {}\n",
    "for index, region in enumerate(cortex_column_labels):\n",
    "    roi_cortex_columns_dict[keys[index]] = region\n"
   ]
  },
  {
   "cell_type": "code",
   "execution_count": null,
   "metadata": {},
   "outputs": [
    {
     "data": {
      "text/html": [
       "<div>\n",
       "<style scoped>\n",
       "    .dataframe tbody tr th:only-of-type {\n",
       "        vertical-align: middle;\n",
       "    }\n",
       "\n",
       "    .dataframe tbody tr th {\n",
       "        vertical-align: top;\n",
       "    }\n",
       "\n",
       "    .dataframe thead th {\n",
       "        text-align: right;\n",
       "    }\n",
       "</style>\n",
       "<table border=\"1\" class=\"dataframe\">\n",
       "  <thead>\n",
       "    <tr style=\"text-align: right;\">\n",
       "      <th></th>\n",
       "      <th>Frontal Pole</th>\n",
       "      <th>Insular Cortex</th>\n",
       "      <th>Superior Frontal Gyrus</th>\n",
       "      <th>Middle Frontal Gyrus</th>\n",
       "      <th>Inferior Frontal Gyrus, pars triangularis</th>\n",
       "      <th>Inferior Frontal Gyrus, pars opercularis</th>\n",
       "      <th>Precentral Gyrus</th>\n",
       "      <th>Temporal Pole</th>\n",
       "      <th>Superior Temporal Gyrus, anterior division</th>\n",
       "      <th>Superior Temporal Gyrus, posterior division</th>\n",
       "      <th>...</th>\n",
       "      <th>Temporal Occipital Fusiform Cortex</th>\n",
       "      <th>Occipital Fusiform Gyrus</th>\n",
       "      <th>Frontal Opercular Cortex</th>\n",
       "      <th>Central Opercular Cortex</th>\n",
       "      <th>Parietal Opercular Cortex</th>\n",
       "      <th>Planum Polare</th>\n",
       "      <th>Heschl's Gyrus (includes H1 and H2)</th>\n",
       "      <th>Planum Temporale</th>\n",
       "      <th>Supracalcarine Cortex</th>\n",
       "      <th>Occipital Pole</th>\n",
       "    </tr>\n",
       "  </thead>\n",
       "  <tbody>\n",
       "    <tr>\n",
       "      <th>x</th>\n",
       "      <td>32.075305</td>\n",
       "      <td>32.065104</td>\n",
       "      <td>31.322160</td>\n",
       "      <td>31.405018</td>\n",
       "      <td>30.449735</td>\n",
       "      <td>31.753555</td>\n",
       "      <td>31.266106</td>\n",
       "      <td>32.181384</td>\n",
       "      <td>32.043478</td>\n",
       "      <td>31.065574</td>\n",
       "      <td>...</td>\n",
       "      <td>32.080</td>\n",
       "      <td>31.456522</td>\n",
       "      <td>29.792453</td>\n",
       "      <td>31.288889</td>\n",
       "      <td>31.254902</td>\n",
       "      <td>32.178571</td>\n",
       "      <td>29.125000</td>\n",
       "      <td>31.854545</td>\n",
       "      <td>32.0625</td>\n",
       "      <td>31.383978</td>\n",
       "    </tr>\n",
       "    <tr>\n",
       "      <th>y</th>\n",
       "      <td>45.544098</td>\n",
       "      <td>33.643229</td>\n",
       "      <td>36.957169</td>\n",
       "      <td>37.216846</td>\n",
       "      <td>35.460317</td>\n",
       "      <td>34.312796</td>\n",
       "      <td>31.658263</td>\n",
       "      <td>36.985680</td>\n",
       "      <td>31.413043</td>\n",
       "      <td>27.647541</td>\n",
       "      <td>...</td>\n",
       "      <td>22.608</td>\n",
       "      <td>18.427536</td>\n",
       "      <td>35.358491</td>\n",
       "      <td>32.207407</td>\n",
       "      <td>26.803922</td>\n",
       "      <td>32.089286</td>\n",
       "      <td>28.458333</td>\n",
       "      <td>27.672727</td>\n",
       "      <td>15.4375</td>\n",
       "      <td>11.303867</td>\n",
       "    </tr>\n",
       "    <tr>\n",
       "      <th>z</th>\n",
       "      <td>17.024423</td>\n",
       "      <td>17.343750</td>\n",
       "      <td>23.363128</td>\n",
       "      <td>21.381720</td>\n",
       "      <td>17.661376</td>\n",
       "      <td>17.440758</td>\n",
       "      <td>22.473389</td>\n",
       "      <td>10.985680</td>\n",
       "      <td>15.271739</td>\n",
       "      <td>16.754098</td>\n",
       "      <td>...</td>\n",
       "      <td>12.072</td>\n",
       "      <td>12.376812</td>\n",
       "      <td>15.792453</td>\n",
       "      <td>16.777778</td>\n",
       "      <td>17.627451</td>\n",
       "      <td>14.357143</td>\n",
       "      <td>16.125000</td>\n",
       "      <td>16.600000</td>\n",
       "      <td>16.3750</td>\n",
       "      <td>15.220994</td>\n",
       "    </tr>\n",
       "  </tbody>\n",
       "</table>\n",
       "<p>3 rows × 48 columns</p>\n",
       "</div>"
      ],
      "text/plain": [
       "   Frontal Pole  Insular Cortex  Superior Frontal Gyrus  Middle Frontal Gyrus  \\\n",
       "x     32.075305       32.065104               31.322160             31.405018   \n",
       "y     45.544098       33.643229               36.957169             37.216846   \n",
       "z     17.024423       17.343750               23.363128             21.381720   \n",
       "\n",
       "   Inferior Frontal Gyrus, pars triangularis  \\\n",
       "x                                  30.449735   \n",
       "y                                  35.460317   \n",
       "z                                  17.661376   \n",
       "\n",
       "   Inferior Frontal Gyrus, pars opercularis  Precentral Gyrus  Temporal Pole  \\\n",
       "x                                 31.753555         31.266106      32.181384   \n",
       "y                                 34.312796         31.658263      36.985680   \n",
       "z                                 17.440758         22.473389      10.985680   \n",
       "\n",
       "   Superior Temporal Gyrus, anterior division  \\\n",
       "x                                   32.043478   \n",
       "y                                   31.413043   \n",
       "z                                   15.271739   \n",
       "\n",
       "   Superior Temporal Gyrus, posterior division  ...  \\\n",
       "x                                    31.065574  ...   \n",
       "y                                    27.647541  ...   \n",
       "z                                    16.754098  ...   \n",
       "\n",
       "   Temporal Occipital Fusiform Cortex  Occipital Fusiform Gyrus  \\\n",
       "x                              32.080                 31.456522   \n",
       "y                              22.608                 18.427536   \n",
       "z                              12.072                 12.376812   \n",
       "\n",
       "   Frontal Opercular Cortex  Central Opercular Cortex  \\\n",
       "x                 29.792453                 31.288889   \n",
       "y                 35.358491                 32.207407   \n",
       "z                 15.792453                 16.777778   \n",
       "\n",
       "   Parietal Opercular Cortex  Planum Polare  \\\n",
       "x                  31.254902      32.178571   \n",
       "y                  26.803922      32.089286   \n",
       "z                  17.627451      14.357143   \n",
       "\n",
       "   Heschl's Gyrus (includes H1 and H2)  Planum Temporale  \\\n",
       "x                            29.125000         31.854545   \n",
       "y                            28.458333         27.672727   \n",
       "z                            16.125000         16.600000   \n",
       "\n",
       "   Supracalcarine Cortex  Occipital Pole  \n",
       "x                32.0625       31.383978  \n",
       "y                15.4375       11.303867  \n",
       "z                16.3750       15.220994  \n",
       "\n",
       "[3 rows x 48 columns]"
      ]
     },
     "execution_count": 161,
     "metadata": {},
     "output_type": "execute_result"
    }
   ],
   "source": [
    "roi_cortex_df.rename(columns=roi_cortex_columns_dict, inplace=True)\n",
    "roi_cortex_df = roi_cortex_df.T\n",
    "roi_cortex_df.rename(columns = {0:\"x\", 1:\"y\", 2:\"z\"}, inplace=True)\n",
    "roi_cortex_df.head()\n"
   ]
  },
  {
   "cell_type": "markdown",
   "metadata": {},
   "source": [
    "### Calculating Subcortex"
   ]
  },
  {
   "cell_type": "code",
   "execution_count": 162,
   "metadata": {},
   "outputs": [
    {
     "data": {
      "text/plain": [
       "array([ 1.,  2.,  3.,  4.,  5.,  6.,  7.,  8.,  9., 10., 11., 12., 13.,\n",
       "       14., 15., 16., 17., 18., 19., 20., 21.])"
      ]
     },
     "execution_count": 162,
     "metadata": {},
     "output_type": "execute_result"
    }
   ],
   "source": [
    "roi_labels_subcortex"
   ]
  },
  {
   "cell_type": "code",
   "execution_count": 163,
   "metadata": {},
   "outputs": [],
   "source": [
    "keys = np.arange(1, 22, step=1.0)"
   ]
  },
  {
   "cell_type": "code",
   "execution_count": 164,
   "metadata": {},
   "outputs": [],
   "source": [
    "subcortex_column_labels = atlas_subcortical.labels[1:]"
   ]
  },
  {
   "cell_type": "code",
   "execution_count": 165,
   "metadata": {},
   "outputs": [
    {
     "name": "stderr",
     "output_type": "stream",
     "text": [
      "Processing ROIs: 100%|██████████| 21/21 [00:00<00:00, 3232.07it/s]\n"
     ]
    }
   ],
   "source": [
    "roi_time_series = {}\n",
    "# Step 3: Extract fMRI time series for each ROI\n",
    "for roi in tqdm(roi_labels_subcortex, desc=\"Processing ROIs\"):\n",
    "    # Get the voxel indices for the current ROI in the resampled atlas\n",
    "    roi_voxels = np.where(resampled_atlas_subcortex == roi)\n",
    "    # Ensure the voxel indices are valid within the spatial dimensions of fmri_data\n",
    "    # Extract the fMRI signal corresponding to these voxels for each time point\n",
    "    # roi_signal = fmri_data[roi_voxels].mean(axis=0)  # Averaging across voxels (axis 0 refers to spatial)\n",
    "    x = roi_voxels[0].mean(axis=0)\n",
    "    y = roi_voxels[1].mean(axis=0)\n",
    "    z = roi_voxels[2].mean(axis=0)\n",
    "    region_coordinates = [x, y, z] # Compute Centroid\n",
    "    # Store the resulting time series for the current ROI\n",
    "    roi_time_series[roi] = region_coordinates\n"
   ]
  },
  {
   "cell_type": "code",
   "execution_count": 166,
   "metadata": {},
   "outputs": [],
   "source": [
    "roi_subcortex_df = pd.DataFrame(roi_time_series)"
   ]
  },
  {
   "cell_type": "code",
   "execution_count": 167,
   "metadata": {},
   "outputs": [
    {
     "data": {
      "text/plain": [
       "21"
      ]
     },
     "execution_count": 167,
     "metadata": {},
     "output_type": "execute_result"
    }
   ],
   "source": [
    "len(subcortex_column_labels)"
   ]
  },
  {
   "cell_type": "code",
   "execution_count": 170,
   "metadata": {},
   "outputs": [
    {
     "data": {
      "text/html": [
       "<div>\n",
       "<style scoped>\n",
       "    .dataframe tbody tr th:only-of-type {\n",
       "        vertical-align: middle;\n",
       "    }\n",
       "\n",
       "    .dataframe tbody tr th {\n",
       "        vertical-align: top;\n",
       "    }\n",
       "\n",
       "    .dataframe thead th {\n",
       "        text-align: right;\n",
       "    }\n",
       "</style>\n",
       "<table border=\"1\" class=\"dataframe\">\n",
       "  <thead>\n",
       "    <tr style=\"text-align: right;\">\n",
       "      <th></th>\n",
       "      <th>Left Cerebral White Matter</th>\n",
       "      <th>Left Cerebral Cortex</th>\n",
       "      <th>Left Lateral Ventricle</th>\n",
       "      <th>Left Thalamus</th>\n",
       "      <th>Left Caudate</th>\n",
       "      <th>Left Putamen</th>\n",
       "      <th>Left Pallidum</th>\n",
       "      <th>Brain-Stem</th>\n",
       "      <th>Left Hippocampus</th>\n",
       "      <th>Left Amygdala</th>\n",
       "      <th>...</th>\n",
       "      <th>Right Cerebral White Matter</th>\n",
       "      <th>Right Cerebral Cortex</th>\n",
       "      <th>Right Lateral Ventricle</th>\n",
       "      <th>Right Thalamus</th>\n",
       "      <th>Right Caudate</th>\n",
       "      <th>Right Putamen</th>\n",
       "      <th>Right Pallidum</th>\n",
       "      <th>Right Hippocampus</th>\n",
       "      <th>Right Amygdala</th>\n",
       "      <th>Right Accumbens</th>\n",
       "    </tr>\n",
       "  </thead>\n",
       "  <tbody>\n",
       "    <tr>\n",
       "      <th>x</th>\n",
       "      <td>25.335163</td>\n",
       "      <td>23.742642</td>\n",
       "      <td>30.688889</td>\n",
       "      <td>30.931677</td>\n",
       "      <td>32.622222</td>\n",
       "      <td>29.715517</td>\n",
       "      <td>33.378378</td>\n",
       "      <td>32.250580</td>\n",
       "      <td>36.864662</td>\n",
       "      <td>36.9625</td>\n",
       "      <td>...</td>\n",
       "      <td>38.203613</td>\n",
       "      <td>39.401403</td>\n",
       "      <td>34.915789</td>\n",
       "      <td>34.483607</td>\n",
       "      <td>35.302326</td>\n",
       "      <td>37.779412</td>\n",
       "      <td>36.766667</td>\n",
       "      <td>38.136364</td>\n",
       "      <td>37.444444</td>\n",
       "      <td>34.4</td>\n",
       "    </tr>\n",
       "    <tr>\n",
       "      <th>y</th>\n",
       "      <td>30.656947</td>\n",
       "      <td>30.275660</td>\n",
       "      <td>31.125926</td>\n",
       "      <td>30.490683</td>\n",
       "      <td>32.200000</td>\n",
       "      <td>33.655172</td>\n",
       "      <td>31.986486</td>\n",
       "      <td>28.447796</td>\n",
       "      <td>28.007519</td>\n",
       "      <td>33.1500</td>\n",
       "      <td>...</td>\n",
       "      <td>31.134362</td>\n",
       "      <td>30.714926</td>\n",
       "      <td>31.978947</td>\n",
       "      <td>31.524590</td>\n",
       "      <td>37.372093</td>\n",
       "      <td>34.955882</td>\n",
       "      <td>33.200000</td>\n",
       "      <td>29.977273</td>\n",
       "      <td>34.481481</td>\n",
       "      <td>38.6</td>\n",
       "    </tr>\n",
       "    <tr>\n",
       "      <th>z</th>\n",
       "      <td>17.779417</td>\n",
       "      <td>17.667170</td>\n",
       "      <td>15.814815</td>\n",
       "      <td>15.440994</td>\n",
       "      <td>15.166667</td>\n",
       "      <td>15.094828</td>\n",
       "      <td>15.324324</td>\n",
       "      <td>9.584687</td>\n",
       "      <td>14.000000</td>\n",
       "      <td>16.0500</td>\n",
       "      <td>...</td>\n",
       "      <td>17.937147</td>\n",
       "      <td>17.807872</td>\n",
       "      <td>16.831579</td>\n",
       "      <td>15.844262</td>\n",
       "      <td>16.302326</td>\n",
       "      <td>14.573529</td>\n",
       "      <td>13.800000</td>\n",
       "      <td>12.295455</td>\n",
       "      <td>11.703704</td>\n",
       "      <td>14.0</td>\n",
       "    </tr>\n",
       "  </tbody>\n",
       "</table>\n",
       "<p>3 rows × 21 columns</p>\n",
       "</div>"
      ],
      "text/plain": [
       "   Left Cerebral White Matter  Left Cerebral Cortex  Left Lateral Ventricle  \\\n",
       "x                   25.335163             23.742642               30.688889   \n",
       "y                   30.656947             30.275660               31.125926   \n",
       "z                   17.779417             17.667170               15.814815   \n",
       "\n",
       "   Left Thalamus  Left Caudate  Left Putamen  Left Pallidum  Brain-Stem  \\\n",
       "x      30.931677     32.622222     29.715517      33.378378   32.250580   \n",
       "y      30.490683     32.200000     33.655172      31.986486   28.447796   \n",
       "z      15.440994     15.166667     15.094828      15.324324    9.584687   \n",
       "\n",
       "   Left Hippocampus  Left Amygdala  ...  Right Cerebral White Matter  \\\n",
       "x         36.864662        36.9625  ...                    38.203613   \n",
       "y         28.007519        33.1500  ...                    31.134362   \n",
       "z         14.000000        16.0500  ...                    17.937147   \n",
       "\n",
       "   Right Cerebral Cortex  Right Lateral Ventricle  Right Thalamus  \\\n",
       "x              39.401403                34.915789       34.483607   \n",
       "y              30.714926                31.978947       31.524590   \n",
       "z              17.807872                16.831579       15.844262   \n",
       "\n",
       "   Right Caudate  Right Putamen  Right Pallidum  Right Hippocampus  \\\n",
       "x      35.302326      37.779412       36.766667          38.136364   \n",
       "y      37.372093      34.955882       33.200000          29.977273   \n",
       "z      16.302326      14.573529       13.800000          12.295455   \n",
       "\n",
       "   Right Amygdala  Right Accumbens  \n",
       "x       37.444444             34.4  \n",
       "y       34.481481             38.6  \n",
       "z       11.703704             14.0  \n",
       "\n",
       "[3 rows x 21 columns]"
      ]
     },
     "execution_count": 170,
     "metadata": {},
     "output_type": "execute_result"
    }
   ],
   "source": [
    "roi_subcortex_columns_dict = {}\n",
    "for index, region in enumerate(subcortex_column_labels):\n",
    "    roi_subcortex_columns_dict[keys[index]] = region\n",
    "\n",
    "roi_subcortex_df.rename(columns=roi_subcortex_columns_dict, inplace=True)\n",
    "roi_subcortex_df = roi_subcortex_df.T\n",
    "roi_subcortex_df.rename(columns = {0:\"x\", 1:\"y\", 2:\"z\"}, inplace=True)\n",
    "roi_subcortex_df.head()\n"
   ]
  },
  {
   "cell_type": "markdown",
   "metadata": {},
   "source": [
    "### Calculating Centroids of Substantia Nigra Left"
   ]
  },
  {
   "cell_type": "code",
   "execution_count": 174,
   "metadata": {},
   "outputs": [
    {
     "name": "stderr",
     "output_type": "stream",
     "text": [
      "Processing ROIs: 100%|██████████| 1/1 [00:00<00:00, 2197.12it/s]\n"
     ]
    }
   ],
   "source": [
    "roi_time_series = {}\n",
    "# Step 3: Extract fMRI time series for each ROI\n",
    "for roi in tqdm(roi_labels_sn_l, desc=\"Processing ROIs\"):\n",
    "    # Get the voxel indices for the current ROI in the resampled atlas\n",
    "    roi_voxels = np.where(resampled_atlas_sn_l == roi)\n",
    "    # Ensure the voxel indices are valid within the spatial dimensions of fmri_data\n",
    "    # Extract the fMRI signal corresponding to these voxels for each time point\n",
    "    # roi_signal = fmri_data[roi_voxels].mean(axis=0)  # Averaging across voxels (axis 0 refers to spatial)\n",
    "    x = roi_voxels[0].mean(axis=0)\n",
    "    y = roi_voxels[1].mean(axis=0)\n",
    "    z = roi_voxels[2].mean(axis=0)\n",
    "    region_coordinates = [x, y, z] # Compute Centroid\n",
    "    # Store the resulting time series for the current ROI\n",
    "    roi_time_series[roi] = region_coordinates\n"
   ]
  },
  {
   "cell_type": "code",
   "execution_count": 175,
   "metadata": {},
   "outputs": [],
   "source": [
    "roi_sn_l_df = pd.DataFrame(roi_time_series)"
   ]
  },
  {
   "cell_type": "code",
   "execution_count": 176,
   "metadata": {},
   "outputs": [
    {
     "data": {
      "text/html": [
       "<div>\n",
       "<style scoped>\n",
       "    .dataframe tbody tr th:only-of-type {\n",
       "        vertical-align: middle;\n",
       "    }\n",
       "\n",
       "    .dataframe tbody tr th {\n",
       "        vertical-align: top;\n",
       "    }\n",
       "\n",
       "    .dataframe thead th {\n",
       "        text-align: right;\n",
       "    }\n",
       "</style>\n",
       "<table border=\"1\" class=\"dataframe\">\n",
       "  <thead>\n",
       "    <tr style=\"text-align: right;\">\n",
       "      <th></th>\n",
       "      <th>1.0</th>\n",
       "    </tr>\n",
       "  </thead>\n",
       "  <tbody>\n",
       "    <tr>\n",
       "      <th>0</th>\n",
       "      <td>30.0</td>\n",
       "    </tr>\n",
       "    <tr>\n",
       "      <th>1</th>\n",
       "      <td>30.5</td>\n",
       "    </tr>\n",
       "    <tr>\n",
       "      <th>2</th>\n",
       "      <td>12.0</td>\n",
       "    </tr>\n",
       "  </tbody>\n",
       "</table>\n",
       "</div>"
      ],
      "text/plain": [
       "    1.0\n",
       "0  30.0\n",
       "1  30.5\n",
       "2  12.0"
      ]
     },
     "execution_count": 176,
     "metadata": {},
     "output_type": "execute_result"
    }
   ],
   "source": [
    "roi_sn_l_df"
   ]
  },
  {
   "cell_type": "code",
   "execution_count": 177,
   "metadata": {},
   "outputs": [
    {
     "data": {
      "text/html": [
       "<div>\n",
       "<style scoped>\n",
       "    .dataframe tbody tr th:only-of-type {\n",
       "        vertical-align: middle;\n",
       "    }\n",
       "\n",
       "    .dataframe tbody tr th {\n",
       "        vertical-align: top;\n",
       "    }\n",
       "\n",
       "    .dataframe thead th {\n",
       "        text-align: right;\n",
       "    }\n",
       "</style>\n",
       "<table border=\"1\" class=\"dataframe\">\n",
       "  <thead>\n",
       "    <tr style=\"text-align: right;\">\n",
       "      <th></th>\n",
       "      <th>x</th>\n",
       "      <th>y</th>\n",
       "      <th>z</th>\n",
       "    </tr>\n",
       "  </thead>\n",
       "  <tbody>\n",
       "    <tr>\n",
       "      <th>Substantia Nigra Left</th>\n",
       "      <td>30.0</td>\n",
       "      <td>30.5</td>\n",
       "      <td>12.0</td>\n",
       "    </tr>\n",
       "  </tbody>\n",
       "</table>\n",
       "</div>"
      ],
      "text/plain": [
       "                          x     y     z\n",
       "Substantia Nigra Left  30.0  30.5  12.0"
      ]
     },
     "execution_count": 177,
     "metadata": {},
     "output_type": "execute_result"
    }
   ],
   "source": [
    "roi_sn_l_df.rename(columns={1:\"Substantia Nigra Left\"}, inplace=True)\n",
    "roi_sn_l_df = roi_sn_l_df.T\n",
    "roi_sn_l_df.rename(columns = {0:\"x\", 1:\"y\", 2:\"z\"}, inplace=True)\n",
    "roi_sn_l_df.head()"
   ]
  },
  {
   "cell_type": "markdown",
   "metadata": {},
   "source": [
    "### Calculating Centroids of Substantia Nigra Right"
   ]
  },
  {
   "cell_type": "code",
   "execution_count": 178,
   "metadata": {},
   "outputs": [
    {
     "name": "stderr",
     "output_type": "stream",
     "text": [
      "Processing ROIs: 100%|██████████| 1/1 [00:00<00:00, 1682.43it/s]\n"
     ]
    }
   ],
   "source": [
    "roi_time_series = {}\n",
    "# Step 3: Extract fMRI time series for each ROI\n",
    "for roi in tqdm(roi_labels_sn_r, desc=\"Processing ROIs\"):\n",
    "    # Get the voxel indices for the current ROI in the resampled atlas\n",
    "    roi_voxels = np.where(resampled_atlas_sn_r == roi)\n",
    "    # Ensure the voxel indices are valid within the spatial dimensions of fmri_data\n",
    "    # Extract the fMRI signal corresponding to these voxels for each time point\n",
    "    # roi_signal = fmri_data[roi_voxels].mean(axis=0)  # Averaging across voxels (axis 0 refers to spatial)\n",
    "    x = roi_voxels[0].mean(axis=0)\n",
    "    y = roi_voxels[1].mean(axis=0)\n",
    "    z = roi_voxels[2].mean(axis=0)\n",
    "    region_coordinates = [x, y, z] # Compute Centroid\n",
    "    # Store the resulting time series for the current ROI\n",
    "    roi_time_series[roi] = region_coordinates"
   ]
  },
  {
   "cell_type": "code",
   "execution_count": 180,
   "metadata": {},
   "outputs": [],
   "source": [
    "roi_sn_r_df = pd.DataFrame(roi_time_series)"
   ]
  },
  {
   "cell_type": "code",
   "execution_count": 181,
   "metadata": {},
   "outputs": [
    {
     "data": {
      "text/html": [
       "<div>\n",
       "<style scoped>\n",
       "    .dataframe tbody tr th:only-of-type {\n",
       "        vertical-align: middle;\n",
       "    }\n",
       "\n",
       "    .dataframe tbody tr th {\n",
       "        vertical-align: top;\n",
       "    }\n",
       "\n",
       "    .dataframe thead th {\n",
       "        text-align: right;\n",
       "    }\n",
       "</style>\n",
       "<table border=\"1\" class=\"dataframe\">\n",
       "  <thead>\n",
       "    <tr style=\"text-align: right;\">\n",
       "      <th></th>\n",
       "      <th>x</th>\n",
       "      <th>y</th>\n",
       "      <th>z</th>\n",
       "    </tr>\n",
       "  </thead>\n",
       "  <tbody>\n",
       "    <tr>\n",
       "      <th>Substantia Nigra Right</th>\n",
       "      <td>33.5</td>\n",
       "      <td>30.5</td>\n",
       "      <td>12.0</td>\n",
       "    </tr>\n",
       "  </tbody>\n",
       "</table>\n",
       "</div>"
      ],
      "text/plain": [
       "                           x     y     z\n",
       "Substantia Nigra Right  33.5  30.5  12.0"
      ]
     },
     "execution_count": 181,
     "metadata": {},
     "output_type": "execute_result"
    }
   ],
   "source": [
    "roi_sn_r_df.rename(columns={1:\"Substantia Nigra Right\"}, inplace=True)\n",
    "roi_sn_r_df = roi_sn_r_df.T\n",
    "roi_sn_r_df.rename(columns = {0:\"x\", 1:\"y\", 2:\"z\"}, inplace=True)\n",
    "roi_sn_r_df.head()"
   ]
  },
  {
   "cell_type": "markdown",
   "metadata": {},
   "source": [
    "### Combining DataFrames of Coordinates"
   ]
  },
  {
   "cell_type": "code",
   "execution_count": null,
   "metadata": {},
   "outputs": [],
   "source": [
    "# roi_subcortex_df = roi_subcortex_df.T"
   ]
  },
  {
   "cell_type": "code",
   "execution_count": null,
   "metadata": {},
   "outputs": [],
   "source": [
    "# roi_cortex_df = roi_cortex_df.T"
   ]
  },
  {
   "cell_type": "code",
   "execution_count": 188,
   "metadata": {},
   "outputs": [
    {
     "data": {
      "text/html": [
       "<div>\n",
       "<style scoped>\n",
       "    .dataframe tbody tr th:only-of-type {\n",
       "        vertical-align: middle;\n",
       "    }\n",
       "\n",
       "    .dataframe tbody tr th {\n",
       "        vertical-align: top;\n",
       "    }\n",
       "\n",
       "    .dataframe thead th {\n",
       "        text-align: right;\n",
       "    }\n",
       "</style>\n",
       "<table border=\"1\" class=\"dataframe\">\n",
       "  <thead>\n",
       "    <tr style=\"text-align: right;\">\n",
       "      <th></th>\n",
       "      <th>x</th>\n",
       "      <th>y</th>\n",
       "      <th>z</th>\n",
       "    </tr>\n",
       "  </thead>\n",
       "  <tbody>\n",
       "    <tr>\n",
       "      <th>Frontal Pole</th>\n",
       "      <td>32.075305</td>\n",
       "      <td>45.544098</td>\n",
       "      <td>17.024423</td>\n",
       "    </tr>\n",
       "    <tr>\n",
       "      <th>Insular Cortex</th>\n",
       "      <td>32.065104</td>\n",
       "      <td>33.643229</td>\n",
       "      <td>17.343750</td>\n",
       "    </tr>\n",
       "    <tr>\n",
       "      <th>Superior Frontal Gyrus</th>\n",
       "      <td>31.322160</td>\n",
       "      <td>36.957169</td>\n",
       "      <td>23.363128</td>\n",
       "    </tr>\n",
       "    <tr>\n",
       "      <th>Middle Frontal Gyrus</th>\n",
       "      <td>31.405018</td>\n",
       "      <td>37.216846</td>\n",
       "      <td>21.381720</td>\n",
       "    </tr>\n",
       "    <tr>\n",
       "      <th>Inferior Frontal Gyrus, pars triangularis</th>\n",
       "      <td>30.449735</td>\n",
       "      <td>35.460317</td>\n",
       "      <td>17.661376</td>\n",
       "    </tr>\n",
       "  </tbody>\n",
       "</table>\n",
       "</div>"
      ],
      "text/plain": [
       "                                                   x          y          z\n",
       "Frontal Pole                               32.075305  45.544098  17.024423\n",
       "Insular Cortex                             32.065104  33.643229  17.343750\n",
       "Superior Frontal Gyrus                     31.322160  36.957169  23.363128\n",
       "Middle Frontal Gyrus                       31.405018  37.216846  21.381720\n",
       "Inferior Frontal Gyrus, pars triangularis  30.449735  35.460317  17.661376"
      ]
     },
     "execution_count": 188,
     "metadata": {},
     "output_type": "execute_result"
    }
   ],
   "source": [
    "roi_cortex_df.head()"
   ]
  },
  {
   "cell_type": "code",
   "execution_count": 184,
   "metadata": {},
   "outputs": [
    {
     "data": {
      "text/html": [
       "<div>\n",
       "<style scoped>\n",
       "    .dataframe tbody tr th:only-of-type {\n",
       "        vertical-align: middle;\n",
       "    }\n",
       "\n",
       "    .dataframe tbody tr th {\n",
       "        vertical-align: top;\n",
       "    }\n",
       "\n",
       "    .dataframe thead th {\n",
       "        text-align: right;\n",
       "    }\n",
       "</style>\n",
       "<table border=\"1\" class=\"dataframe\">\n",
       "  <thead>\n",
       "    <tr style=\"text-align: right;\">\n",
       "      <th></th>\n",
       "      <th>x</th>\n",
       "      <th>y</th>\n",
       "      <th>z</th>\n",
       "    </tr>\n",
       "  </thead>\n",
       "  <tbody>\n",
       "    <tr>\n",
       "      <th>Substantia Nigra Left</th>\n",
       "      <td>30.0</td>\n",
       "      <td>30.5</td>\n",
       "      <td>12.0</td>\n",
       "    </tr>\n",
       "  </tbody>\n",
       "</table>\n",
       "</div>"
      ],
      "text/plain": [
       "                          x     y     z\n",
       "Substantia Nigra Left  30.0  30.5  12.0"
      ]
     },
     "execution_count": 184,
     "metadata": {},
     "output_type": "execute_result"
    }
   ],
   "source": [
    "roi_sn_l_df.head()"
   ]
  },
  {
   "cell_type": "code",
   "execution_count": 185,
   "metadata": {},
   "outputs": [
    {
     "data": {
      "text/html": [
       "<div>\n",
       "<style scoped>\n",
       "    .dataframe tbody tr th:only-of-type {\n",
       "        vertical-align: middle;\n",
       "    }\n",
       "\n",
       "    .dataframe tbody tr th {\n",
       "        vertical-align: top;\n",
       "    }\n",
       "\n",
       "    .dataframe thead th {\n",
       "        text-align: right;\n",
       "    }\n",
       "</style>\n",
       "<table border=\"1\" class=\"dataframe\">\n",
       "  <thead>\n",
       "    <tr style=\"text-align: right;\">\n",
       "      <th></th>\n",
       "      <th>x</th>\n",
       "      <th>y</th>\n",
       "      <th>z</th>\n",
       "    </tr>\n",
       "  </thead>\n",
       "  <tbody>\n",
       "    <tr>\n",
       "      <th>Substantia Nigra Right</th>\n",
       "      <td>33.5</td>\n",
       "      <td>30.5</td>\n",
       "      <td>12.0</td>\n",
       "    </tr>\n",
       "  </tbody>\n",
       "</table>\n",
       "</div>"
      ],
      "text/plain": [
       "                           x     y     z\n",
       "Substantia Nigra Right  33.5  30.5  12.0"
      ]
     },
     "execution_count": 185,
     "metadata": {},
     "output_type": "execute_result"
    }
   ],
   "source": [
    "roi_sn_r_df.head()"
   ]
  },
  {
   "cell_type": "code",
   "execution_count": 192,
   "metadata": {},
   "outputs": [],
   "source": [
    "roi_coordinate_df = pd.concat([roi_cortex_df, roi_subcortex_df, roi_sn_r_df, roi_sn_l_df], axis=0)"
   ]
  },
  {
   "cell_type": "code",
   "execution_count": null,
   "metadata": {},
   "outputs": [],
   "source": [
    "# roi_coordinate_df.to_csv(\"../data/dataframes/roi_anatomical_coordinates.csv\", index=True)"
   ]
  }
 ],
 "metadata": {
  "kernelspec": {
   "display_name": "torch",
   "language": "python",
   "name": "python3"
  },
  "language_info": {
   "codemirror_mode": {
    "name": "ipython",
    "version": 3
   },
   "file_extension": ".py",
   "mimetype": "text/x-python",
   "name": "python",
   "nbconvert_exporter": "python",
   "pygments_lexer": "ipython3",
   "version": "3.10.16"
  }
 },
 "nbformat": 4,
 "nbformat_minor": 2
}

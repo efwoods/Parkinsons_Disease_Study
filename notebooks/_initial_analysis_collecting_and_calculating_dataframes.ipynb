{
 "cells": [
  {
   "cell_type": "markdown",
   "metadata": {},
   "source": [
    "# Example Proof-of-Concept "
   ]
  },
  {
   "cell_type": "markdown",
   "metadata": {},
   "source": [
    "## Imports, Functions, & Settings"
   ]
  },
  {
   "cell_type": "code",
   "execution_count": 1,
   "metadata": {},
   "outputs": [],
   "source": [
    "import pandas as pd\n",
    "import numpy as np\n",
    "import matplotlib.pyplot as plt\n",
    "import nibabel as nib\n",
    "import glob\n",
    "import os\n",
    "import shutil\n",
    "import gzip\n",
    "from nilearn import image, masking, plotting, datasets\n",
    "from nilearn.input_data import NiftiMasker\n",
    "import networkx as nx\n",
    "from tqdm import tqdm\n",
    "\n",
    "\n",
    "##########################################\n",
    "\n",
    "import nibabel as nib\n",
    "import numpy as np\n",
    "import networkx as nx\n",
    "import matplotlib.pyplot as plt\n",
    "from nilearn import plotting\n",
    "from nilearn import image\n",
    "from nilearn import regions\n",
    "from mpl_toolkits.mplot3d import Axes3D\n",
    "\n",
    "##########################################\n",
    "\n",
    "from sklearn.neighbors import NearestNeighbors\n",
    "import matplotlib.pyplot as plt\n",
    "\n",
    "from nilearn.datasets import fetch_atlas_harvard_oxford\n",
    "from scipy.ndimage import zoom\n",
    "from tqdm import tqdm\n",
    "\n",
    "from nilearn.datasets import load_mni152_template\n",
    "from nilearn import plotting\n",
    "from nilearn import datasets\n",
    "from nilearn import plotting\n",
    "\n",
    "\n",
    "from nilearn.plotting import plot_roi\n",
    "\n",
    "from nilearn.image import resample_to_img\n",
    "\n",
    "from scipy.fft import fft, fftfreq\n",
    "\n",
    "\n",
    "import pytesseract\n",
    "from PIL import Image\n",
    "\n",
    "import re\n",
    "\n",
    "import pyvista as pv\n",
    "\n",
    "import trimesh\n",
    "import pymeshlab\n",
    "import numpy as np\n",
    "import nibabel as nib"
   ]
  },
  {
   "cell_type": "code",
   "execution_count": 2,
   "metadata": {},
   "outputs": [],
   "source": [
    "def simplify_mesh(stl_file, target_faces=50000):\n",
    "    \"\"\"Simplify an STL mesh using PyMeshLab.\"\"\"\n",
    "    # Load mesh in PyMeshLab\n",
    "    ms = pymeshlab.MeshSet()\n",
    "    ms.load_new_mesh(stl_file)\n",
    "\n",
    "    # Apply quadratic decimation to reduce face count\n",
    "    ms.meshing_decimation_quadric_edge_collapse(targetfacenum=target_faces)\n",
    "\n",
    "    # Save the simplified mesh\n",
    "    simplified_file = stl_file.replace('.stl', '_simplified.stl')\n",
    "    ms.save_current_mesh(simplified_file)\n",
    "    print(f\"Simplified mesh saved as {simplified_file}\")\n",
    "\n",
    "    return simplified_file\n",
    "\n",
    "def stl_to_nifti(stl_file, voxel_resolution=128, target_faces=50000):\n",
    "    \"\"\"Convert STL to NIFTI after mesh simplification.\"\"\"\n",
    "    # Simplify the mesh\n",
    "    simplified_stl = simplify_mesh(stl_file, target_faces)\n",
    "\n",
    "    # Load the simplified STL using trimesh\n",
    "    mesh = trimesh.load_mesh(simplified_stl)\n",
    "\n",
    "    # Voxelize the mesh at the specified resolution\n",
    "    voxel_grid = mesh.voxelized(pitch=1.0/voxel_resolution)\n",
    "\n",
    "    # Convert voxel grid to a numpy array\n",
    "    voxel_data = voxel_grid.matrix.astype(np.uint8)\n",
    "\n",
    "    # Create and save NIFTI file\n",
    "    nifti_img = nib.Nifti1Image(voxel_data, np.eye(4))\n",
    "    nifti_file = stl_file.replace('.stl', '.nii')\n",
    "    nib.save(nifti_img, nifti_file)\n",
    "    print(f\"Saved NIFTI file as {nifti_file}\")"
   ]
  },
  {
   "cell_type": "code",
   "execution_count": 3,
   "metadata": {},
   "outputs": [],
   "source": [
    "# Load fMRI and anatomical data\n",
    "def load_fmri_data(fmri_filepath):\n",
    "    fmri_img = nib.load(fmri_filepath)\n",
    "    fmri_data = fmri_img.get_fdata()\n",
    "    return fmri_data\n",
    "\n",
    "def load_anatomical_data(anatomical_filepath):\n",
    "    anatomical_img = nib.load(anatomical_filepath)\n",
    "    anatomical_data = anatomical_img.get_fdata()\n",
    "    return anatomical_data\n",
    "\n",
    "def load_nii(file_path):\n",
    "    \"\"\"Load .nii file using nibabel and return data as numpy array.\"\"\"\n",
    "    nii_data = nib.load(file_path)\n",
    "    return nii_data.get_fdata(), nii_data.affine"
   ]
  },
  {
   "cell_type": "markdown",
   "metadata": {},
   "source": [
    "## Data Extraction"
   ]
  },
  {
   "cell_type": "code",
   "execution_count": null,
   "metadata": {},
   "outputs": [],
   "source": [
    "# gz_files = [f for f in glob(f\"./data/**/*.gz\", recursive=True) if os.path.isfile(f)]\n",
    "# gz_files\n",
    "# Extract each .gz file\n",
    "# for gz_file in gz_files:\n",
    "#     output_file = gz_file[:-3]  # Remove \".gz\" extension\n",
    "\n",
    "#     # Decompress the .gz file\n",
    "#     with gzip.open(gz_file, 'rb') as f_in:\n",
    "#         with open(output_file, 'wb') as f_out:\n",
    "#             shutil.copyfileobj(f_in, f_out)\n",
    "\n",
    "#     print(f\"Extracted: {gz_file} -> {output_file}\")\n"
   ]
  },
  {
   "cell_type": "markdown",
   "metadata": {},
   "source": [
    "## Data Declaration"
   ]
  },
  {
   "cell_type": "code",
   "execution_count": null,
   "metadata": {},
   "outputs": [
    {
     "data": {
      "text/plain": [
       "['../data/sub-0270/ses-01/func/sub-0270_ses-01_task-rest_bold.nii.gz',\n",
       " '../data/sub-0205/ses-01/func/sub-0205_ses-01_task-rest_bold.nii.gz',\n",
       " '../data/sub-0231/ses-01/func/sub-0231_ses-01_task-rest_bold.nii.gz',\n",
       " '../data/sub-0240/ses-01/func/sub-0240_ses-01_task-rest_bold.nii.gz',\n",
       " '../data/sub-0238/ses-01/func/sub-0238_ses-01_task-rest_bold.nii.gz',\n",
       " '../data/sub-0252/ses-01/func/sub-0252_ses-01_task-rest_bold.nii.gz',\n",
       " '../data/sub-2132/ses-01/func/sub-2132_ses-01_task-rest_bold.nii.gz',\n",
       " '../data/sub-2122/ses-01/func/sub-2122_ses-01_task-rest_bold.nii.gz',\n",
       " '../data/sub-0272/ses-01/func/sub-0272_ses-01_task-rest_bold.nii.gz',\n",
       " '../data/sub-2130/ses-01/func/sub-2130_ses-01_task-rest_bold.nii.gz',\n",
       " '../data/sub-2145/ses-01/func/sub-2145_ses-01_task-rest_bold.nii.gz',\n",
       " '../data/sub-0264/ses-01/func/sub-0264_ses-01_task-rest_bold.nii.gz',\n",
       " '../data/sub-2134/ses-01/func/sub-2134_ses-01_task-rest_bold.nii.gz',\n",
       " '../data/sub-0202/ses-01/func/sub-0202_ses-01_task-rest_bold.nii.gz',\n",
       " '../data/sub-2141/ses-01/func/sub-2141_ses-01_task-rest_bold.nii.gz',\n",
       " '../data/sub-0203/ses-01/func/sub-0203_ses-01_task-rest_bold.nii.gz',\n",
       " '../data/sub-0222/ses-01/func/sub-0222_ses-01_task-rest_bold.nii.gz',\n",
       " '../data/sub-0224/ses-01/func/sub-0224_ses-01_task-rest_bold.nii.gz',\n",
       " '../data/sub-2128/ses-01/func/sub-2128_ses-01_task-rest_bold.nii.gz',\n",
       " '../data/sub-0267/ses-01/func/sub-0267_ses-01_task-rest_bold.nii.gz',\n",
       " '../data/sub-0206/ses-01/func/sub-0206_ses-01_task-rest_bold.nii.gz',\n",
       " '../data/sub-0243/ses-01/func/sub-0243_ses-01_task-rest_bold.nii.gz',\n",
       " '../data/sub-0230/ses-01/func/sub-0230_ses-01_task-rest_bold.nii.gz',\n",
       " '../data/sub-0210/ses-01/func/sub-0210_ses-01_task-rest_bold.nii.gz',\n",
       " '../data/sub-0207/ses-01/func/sub-0207_ses-01_task-rest_bold.nii.gz',\n",
       " '../data/sub-2148/ses-01/func/sub-2148_ses-01_task-rest_bold.nii.gz',\n",
       " '../data/sub-0212/ses-01/func/sub-0212_ses-01_task-rest_bold.nii.gz',\n",
       " '../data/sub-0257/ses-01/func/sub-0257_ses-01_task-rest_bold.nii.gz',\n",
       " '../data/sub-0213/ses-01/func/sub-0213_ses-01_task-rest_bold.nii.gz',\n",
       " '../data/sub-0226/ses-01/func/sub-0226_ses-01_task-rest_bold.nii.gz',\n",
       " '../data/sub-0214/ses-01/func/sub-0214_ses-01_task-rest_bold.nii.gz',\n",
       " '../data/sub-0235/ses-01/func/sub-0235_ses-01_task-rest_bold.nii.gz',\n",
       " '../data/sub-2125/ses-01/func/sub-2125_ses-01_task-rest_bold.nii.gz',\n",
       " '../data/sub-2139/ses-01/func/sub-2139_ses-01_task-rest_bold.nii.gz',\n",
       " '../data/sub-0265/ses-01/func/sub-0265_ses-01_task-rest_bold.nii.gz',\n",
       " '../data/sub-0209/ses-01/func/sub-0209_ses-01_task-rest_bold.nii.gz',\n",
       " '../data/sub-0247/ses-01/func/sub-0247_ses-01_task-rest_bold.nii.gz',\n",
       " '../data/sub-2137/ses-01/func/sub-2137_ses-01_task-rest_bold.nii.gz',\n",
       " '../data/sub-2131/ses-01/func/sub-2131_ses-01_task-rest_bold.nii.gz',\n",
       " '../data/sub-0256/ses-01/func/sub-0256_ses-01_task-rest_bold.nii.gz',\n",
       " '../data/sub-0246/ses-01/func/sub-0246_ses-01_task-rest_bold.nii.gz',\n",
       " '../data/sub-0253/ses-01/func/sub-0253_ses-01_task-rest_bold.nii.gz',\n",
       " '../data/sub-0232/ses-01/func/sub-0232_ses-01_task-rest_bold.nii.gz',\n",
       " '../data/sub-0227/ses-01/func/sub-0227_ses-01_task-rest_bold.nii.gz',\n",
       " '../data/sub-0242/ses-01/func/sub-0242_ses-01_task-rest_bold.nii.gz',\n",
       " '../data/sub-0263/ses-01/func/sub-0263_ses-01_task-rest_bold.nii.gz',\n",
       " '../data/sub-0237/ses-01/func/sub-0237_ses-01_task-rest_bold.nii.gz',\n",
       " '../data/sub-2129/ses-01/func/sub-2129_ses-01_task-rest_bold.nii.gz',\n",
       " '../data/sub-0249/ses-01/func/sub-0249_ses-01_task-rest_bold.nii.gz',\n",
       " '../data/sub-2136/ses-01/func/sub-2136_ses-01_task-rest_bold.nii.gz',\n",
       " '../data/sub-0234/ses-01/func/sub-0234_ses-01_task-rest_bold.nii.gz',\n",
       " '../data/sub-2154/ses-01/func/sub-2154_ses-01_task-rest_bold.nii.gz',\n",
       " '../data/sub-0250/ses-01/func/sub-0250_ses-01_task-rest_bold.nii.gz',\n",
       " '../data/sub-0255/ses-01/func/sub-0255_ses-01_task-rest_bold.nii.gz',\n",
       " '../data/sub-0233/ses-01/func/sub-0233_ses-01_task-rest_bold.nii.gz',\n",
       " '../data/sub-0258/ses-01/func/sub-0258_ses-01_task-rest_bold.nii.gz',\n",
       " '../data/sub-0204/ses-01/func/sub-0204_ses-01_task-rest_bold.nii.gz',\n",
       " '../data/sub-2140/ses-01/func/sub-2140_ses-01_task-rest_bold.nii.gz']"
      ]
     },
     "execution_count": 14,
     "metadata": {},
     "output_type": "execute_result"
    }
   ],
   "source": [
    "# glob.glob(os.path.join(root_dir, \"**\", \"func\", \"**\", \"*.nii.gz\"), recursive=True)"
   ]
  },
  {
   "cell_type": "code",
   "execution_count": 4,
   "metadata": {},
   "outputs": [
    {
     "name": "stdout",
     "output_type": "stream",
     "text": [
      "Func files without mask: ['../data/sub-0270/ses-01/func/sub-0270_ses-01_task-rest_bold.nii.gz', '../data/sub-0205/ses-01/func/sub-0205_ses-01_task-rest_bold.nii.gz', '../data/sub-0231/ses-01/func/sub-0231_ses-01_task-rest_bold.nii.gz', '../data/sub-0240/ses-01/func/sub-0240_ses-01_task-rest_bold.nii.gz', '../data/sub-0238/ses-01/func/sub-0238_ses-01_task-rest_bold.nii.gz', '../data/sub-0252/ses-01/func/sub-0252_ses-01_task-rest_bold.nii.gz', '../data/sub-2132/ses-01/func/sub-2132_ses-01_task-rest_bold.nii.gz', '../data/sub-2122/ses-01/func/sub-2122_ses-01_task-rest_bold.nii.gz', '../data/sub-0272/ses-01/func/sub-0272_ses-01_task-rest_bold.nii.gz', '../data/sub-2130/ses-01/func/sub-2130_ses-01_task-rest_bold.nii.gz', '../data/sub-2145/ses-01/func/sub-2145_ses-01_task-rest_bold.nii.gz', '../data/sub-0264/ses-01/func/sub-0264_ses-01_task-rest_bold.nii.gz', '../data/sub-2134/ses-01/func/sub-2134_ses-01_task-rest_bold.nii.gz', '../data/sub-0202/ses-01/func/sub-0202_ses-01_task-rest_bold.nii.gz', '../data/sub-2141/ses-01/func/sub-2141_ses-01_task-rest_bold.nii.gz', '../data/sub-0203/ses-01/func/sub-0203_ses-01_task-rest_bold.nii.gz', '../data/sub-0222/ses-01/func/sub-0222_ses-01_task-rest_bold.nii.gz', '../data/sub-0224/ses-01/func/sub-0224_ses-01_task-rest_bold.nii.gz', '../data/sub-2128/ses-01/func/sub-2128_ses-01_task-rest_bold.nii.gz', '../data/sub-0267/ses-01/func/sub-0267_ses-01_task-rest_bold.nii.gz', '../data/sub-0206/ses-01/func/sub-0206_ses-01_task-rest_bold.nii.gz', '../data/sub-0243/ses-01/func/sub-0243_ses-01_task-rest_bold.nii.gz', '../data/sub-0230/ses-01/func/sub-0230_ses-01_task-rest_bold.nii.gz', '../data/sub-0210/ses-01/func/sub-0210_ses-01_task-rest_bold.nii.gz', '../data/sub-0207/ses-01/func/sub-0207_ses-01_task-rest_bold.nii.gz', '../data/sub-2148/ses-01/func/sub-2148_ses-01_task-rest_bold.nii.gz', '../data/sub-0212/ses-01/func/sub-0212_ses-01_task-rest_bold.nii.gz', '../data/sub-0257/ses-01/func/sub-0257_ses-01_task-rest_bold.nii.gz', '../data/sub-0213/ses-01/func/sub-0213_ses-01_task-rest_bold.nii.gz', '../data/sub-0226/ses-01/func/sub-0226_ses-01_task-rest_bold.nii.gz', '../data/sub-0214/ses-01/func/sub-0214_ses-01_task-rest_bold.nii.gz', '../data/sub-0235/ses-01/func/sub-0235_ses-01_task-rest_bold.nii.gz', '../data/sub-2125/ses-01/func/sub-2125_ses-01_task-rest_bold.nii.gz', '../data/sub-2139/ses-01/func/sub-2139_ses-01_task-rest_bold.nii.gz', '../data/sub-0265/ses-01/func/sub-0265_ses-01_task-rest_bold.nii.gz', '../data/sub-0209/ses-01/func/sub-0209_ses-01_task-rest_bold.nii.gz', '../data/sub-0247/ses-01/func/sub-0247_ses-01_task-rest_bold.nii.gz', '../data/sub-2137/ses-01/func/sub-2137_ses-01_task-rest_bold.nii.gz', '../data/sub-2131/ses-01/func/sub-2131_ses-01_task-rest_bold.nii.gz', '../data/sub-0256/ses-01/func/sub-0256_ses-01_task-rest_bold.nii.gz', '../data/sub-0246/ses-01/func/sub-0246_ses-01_task-rest_bold.nii.gz', '../data/sub-0253/ses-01/func/sub-0253_ses-01_task-rest_bold.nii.gz', '../data/sub-0232/ses-01/func/sub-0232_ses-01_task-rest_bold.nii.gz', '../data/sub-0227/ses-01/func/sub-0227_ses-01_task-rest_bold.nii.gz', '../data/sub-0242/ses-01/func/sub-0242_ses-01_task-rest_bold.nii.gz', '../data/sub-0263/ses-01/func/sub-0263_ses-01_task-rest_bold.nii.gz', '../data/sub-0237/ses-01/func/sub-0237_ses-01_task-rest_bold.nii.gz', '../data/sub-2129/ses-01/func/sub-2129_ses-01_task-rest_bold.nii.gz', '../data/sub-0249/ses-01/func/sub-0249_ses-01_task-rest_bold.nii.gz', '../data/sub-2136/ses-01/func/sub-2136_ses-01_task-rest_bold.nii.gz', '../data/sub-0234/ses-01/func/sub-0234_ses-01_task-rest_bold.nii.gz', '../data/sub-2154/ses-01/func/sub-2154_ses-01_task-rest_bold.nii.gz', '../data/sub-0250/ses-01/func/sub-0250_ses-01_task-rest_bold.nii.gz', '../data/sub-0255/ses-01/func/sub-0255_ses-01_task-rest_bold.nii.gz', '../data/sub-0233/ses-01/func/sub-0233_ses-01_task-rest_bold.nii.gz', '../data/sub-0258/ses-01/func/sub-0258_ses-01_task-rest_bold.nii.gz', '../data/sub-0204/ses-01/func/sub-0204_ses-01_task-rest_bold.nii.gz', '../data/sub-2140/ses-01/func/sub-2140_ses-01_task-rest_bold.nii.gz']\n",
      "Anat files: ['../data/sub-0270/ses-01/anat/sub-0270_ses-01_T1w.nii.gz', '../data/sub-0205/ses-01/anat/sub-0205_ses-01_T1w.nii.gz', '../data/sub-0231/ses-01/anat/sub-0231_ses-01_T1w.nii.gz', '../data/sub-0240/ses-01/anat/sub-0240_ses-01_T1w.nii.gz', '../data/sub-0238/ses-01/anat/sub-0238_ses-01_T1w.nii.gz', '../data/sub-0252/ses-01/anat/sub-0252_ses-01_T1w.nii.gz', '../data/sub-2132/ses-01/anat/sub-2132_ses-01_T1w.nii.gz', '../data/sub-2122/ses-01/anat/sub-2122_ses-01_T1w.nii.gz', '../data/sub-0272/ses-01/anat/sub-0272_ses-01_T1w.nii.gz', '../data/sub-2130/ses-01/anat/sub-2130_ses-01_T1w.nii.gz', '../data/sub-2145/ses-01/anat/sub-2145_ses-01_T1w.nii.gz', '../data/sub-0264/ses-01/anat/sub-0264_ses-01_T1w.nii.gz', '../data/sub-2134/ses-01/anat/sub-2134_ses-01_T1w.nii.gz', '../data/sub-0202/ses-01/anat/sub-0202_ses-01_T1w.nii.gz', '../data/sub-2141/ses-01/anat/sub-2141_ses-01_T1w.nii.gz', '../data/sub-0203/ses-01/anat/sub-0203_ses-01_T1w.nii.gz', '../data/sub-0222/ses-01/anat/sub-0222_ses-01_T1w.nii.gz', '../data/sub-0224/ses-01/anat/sub-0224_ses-01_T1w.nii.gz', '../data/sub-2128/ses-01/anat/sub-2128_ses-01_T1w.nii.gz', '../data/sub-0267/ses-01/anat/sub-0267_ses-01_T1w.nii.gz', '../data/sub-0206/ses-01/anat/sub-0206_ses-01_T1w.nii.gz', '../data/sub-0243/ses-01/anat/sub-0243_ses-01_T1w.nii.gz', '../data/sub-0230/ses-01/anat/sub-0230_ses-01_T1w.nii.gz', '../data/sub-0210/ses-01/anat/sub-0210_ses-01_T1w.nii.gz', '../data/sub-0207/ses-01/anat/sub-0207_ses-01_T1w.nii.gz', '../data/sub-2148/ses-01/anat/sub-2148_ses-01_T1w.nii.gz', '../data/sub-0212/ses-01/anat/sub-0212_ses-01_T1w.nii.gz', '../data/sub-0257/ses-01/anat/sub-0257_ses-01_T1w.nii.gz', '../data/sub-0213/ses-01/anat/sub-0213_ses-01_T1w.nii.gz', '../data/sub-0226/ses-01/anat/sub-0226_ses-01_T1w.nii.gz', '../data/sub-0214/ses-01/anat/sub-0214_ses-01_T1w.nii.gz', '../data/sub-0235/ses-01/anat/sub-0235_ses-01_T1w.nii.gz', '../data/sub-2125/ses-01/anat/sub-2125_ses-01_T1w.nii.gz', '../data/sub-2139/ses-01/anat/sub-2139_ses-01_T1w.nii.gz', '../data/sub-0265/ses-01/anat/sub-0265_ses-01_T1w.nii.gz', '../data/sub-0209/ses-01/anat/sub-0209_ses-01_T1w.nii.gz', '../data/sub-0247/ses-01/anat/sub-0247_ses-01_T1w.nii.gz', '../data/sub-2137/ses-01/anat/sub-2137_ses-01_T1w.nii.gz', '../data/sub-2131/ses-01/anat/sub-2131_ses-01_T1w.nii.gz', '../data/sub-0256/ses-01/anat/sub-0256_ses-01_T1w.nii.gz', '../data/sub-0246/ses-01/anat/sub-0246_ses-01_T1w.nii.gz', '../data/sub-0253/ses-01/anat/sub-0253_ses-01_T1w.nii.gz', '../data/sub-0232/ses-01/anat/sub-0232_ses-01_T1w.nii.gz', '../data/sub-0227/ses-01/anat/sub-0227_ses-01_T1w.nii.gz', '../data/sub-0242/ses-01/anat/sub-0242_ses-01_T1w.nii.gz', '../data/sub-0263/ses-01/anat/sub-0263_ses-01_T1w.nii.gz', '../data/sub-0237/ses-01/anat/sub-0237_ses-01_T1w.nii.gz', '../data/sub-2129/ses-01/anat/sub-2129_ses-01_T1w.nii.gz', '../data/sub-0249/ses-01/anat/sub-0249_ses-01_T1w.nii.gz', '../data/sub-2136/ses-01/anat/sub-2136_ses-01_T1w.nii.gz', '../data/sub-0234/ses-01/anat/sub-0234_ses-01_T1w.nii.gz', '../data/sub-2154/ses-01/anat/sub-2154_ses-01_T1w.nii.gz', '../data/sub-0250/ses-01/anat/sub-0250_ses-01_T1w.nii.gz', '../data/sub-0255/ses-01/anat/sub-0255_ses-01_T1w.nii.gz', '../data/sub-0233/ses-01/anat/sub-0233_ses-01_T1w.nii.gz', '../data/sub-0258/ses-01/anat/sub-0258_ses-01_T1w.nii.gz', '../data/sub-0204/ses-01/anat/sub-0204_ses-01_T1w.nii.gz', '../data/sub-2140/ses-01/anat/sub-2140_ses-01_T1w.nii.gz']\n",
      "Func mask files: []\n"
     ]
    }
   ],
   "source": [
    "\n",
    "# Root directory is 'data'\n",
    "root_dir = '../data/'\n",
    "\n",
    "# Glob all files that end in .nii under any 'func' directory (in nested subfolders)\n",
    "func_files = glob.glob(os.path.join(root_dir, '**', 'func', '**', '*.nii.gz'), recursive=True)\n",
    "\n",
    "# Filter out files that contain the word 'mask' from the func_files list\n",
    "func_files_without_mask = [file for file in func_files if 'mask' not in file]\n",
    "\n",
    "# Glob all files that end in .nii under any 'anat' directory (in nested subfolders)\n",
    "anat_files = glob.glob(os.path.join(root_dir, '**', 'anat', '**', '*.nii.gz'), recursive=True)\n",
    "\n",
    "# Glob all files that contain the word \"mask\" that end in .nii and are located under any 'func' directory (in nested subfolders)\n",
    "func_mask_files = glob.glob(os.path.join(root_dir, '**', 'func', '**', '*mask*.nii.gz'), recursive=True)\n",
    "\n",
    "# Output the results\n",
    "print(\"Func files without mask:\", func_files_without_mask)\n",
    "print(\"Anat files:\", anat_files)\n",
    "print(\"Func mask files:\", func_mask_files)\n"
   ]
  },
  {
   "cell_type": "markdown",
   "metadata": {},
   "source": [
    "## Data Visualization"
   ]
  },
  {
   "cell_type": "markdown",
   "metadata": {},
   "source": [
    "### Anatomical Data Visualization"
   ]
  },
  {
   "cell_type": "code",
   "execution_count": null,
   "metadata": {},
   "outputs": [],
   "source": [
    "index = 0\n",
    "file_list_len = len(func_files_without_mask)"
   ]
  },
  {
   "cell_type": "code",
   "execution_count": null,
   "metadata": {},
   "outputs": [],
   "source": [
    "index += 1\n",
    "index %= file_list_len\n",
    "# Load the compressed NIfTI file\n",
    "img = nib.load(anat_files[index])\n",
    "\n",
    "# Get image data as a NumPy array\n",
    "data = img.get_fdata()\n",
    "\n",
    "# Display a middle slice of the brain\n",
    "slice_index = data.shape[2] // 2  # Middle slice in the z-dimension\n",
    "\n",
    "plt.imshow(data[:, :, slice_index], cmap=\"gray\")\n",
    "plt.axis(\"off\")\n",
    "plt.title(f\"T1-Weighted MRI Slice: \\n{anat_files[index]}\\n index: {index}\")\n",
    "plt.show()\n"
   ]
  },
  {
   "cell_type": "code",
   "execution_count": null,
   "metadata": {},
   "outputs": [],
   "source": [
    "data.shape"
   ]
  },
  {
   "cell_type": "code",
   "execution_count": null,
   "metadata": {},
   "outputs": [],
   "source": [
    "anat_files[index]"
   ]
  },
  {
   "cell_type": "code",
   "execution_count": null,
   "metadata": {},
   "outputs": [],
   "source": [
    "img"
   ]
  },
  {
   "cell_type": "code",
   "execution_count": null,
   "metadata": {},
   "outputs": [],
   "source": [
    "plotting.plot_anat(anat_files[index], title=f\"3D Brain Visualization: \\n{anat_files[index]}\", threshold=0.5)"
   ]
  },
  {
   "cell_type": "code",
   "execution_count": null,
   "metadata": {},
   "outputs": [],
   "source": [
    "anat_data_f_name = anat_files[index]\n",
    "func_data_f_name = func_files_without_mask[index]\n",
    "\n",
    "# Load the compressed NIfTI file\n",
    "img = nib.load(anat_data_f_name)\n",
    "\n",
    "# Get image data as a NumPy array\n",
    "anat_data = img.get_fdata()\n",
    "\n",
    "# Load the compressed NIfTI file\n",
    "img = nib.load(func_data_f_name)\n",
    "\n",
    "# Get image data as a NumPy array\n",
    "func_data = img.get_fdata()\n"
   ]
  },
  {
   "cell_type": "markdown",
   "metadata": {},
   "source": [
    "## Creating A Graph Representation"
   ]
  },
  {
   "cell_type": "markdown",
   "metadata": {},
   "source": [
    "#### [Process](https://chatgpt.com/share/67dccc80-8f9c-8011-97b0-f044a525470d)"
   ]
  },
  {
   "cell_type": "code",
   "execution_count": null,
   "metadata": {},
   "outputs": [],
   "source": [
    "# Intended Result:\n",
    "# This method allows you to visualize the differences in brain activity between individuals using the networkx graph in a 3D space. By using Three.js, you can provide an interactive and detailed representation of the anatomical brain regions and their connections, colored by activity differences."
   ]
  },
  {
   "cell_type": "markdown",
   "metadata": {},
   "source": [
    "### Load & Preprocess Data"
   ]
  },
  {
   "cell_type": "code",
   "execution_count": null,
   "metadata": {},
   "outputs": [],
   "source": [
    "# Load the 4D fMRI data and 3D anatomical data for each brain\n",
    "brains_fmri = func_files_without_mask\n",
    "brains_anatomical = anat_files"
   ]
  },
  {
   "cell_type": "code",
   "execution_count": null,
   "metadata": {},
   "outputs": [],
   "source": [
    "\n",
    "# Example: Load the first brain's fMRI and anatomical data\n",
    "fmri_data, fmri_affine = load_nii(brains_fmri[0])  # Shape: (x, y, z, t)\n",
    "anatomical_data, anatomical_affine = load_nii(brains_anatomical[0])  # Shape: (x, y, z)\n"
   ]
  },
  {
   "cell_type": "code",
   "execution_count": null,
   "metadata": {},
   "outputs": [],
   "source": [
    "\n",
    "# Extract regions of interest (ROIs) from anatomical data\n",
    "# For simplicity, use a predefined atlas (e.g., Harvard-Oxford or AAL)\n",
    "# from nilearn.datasets import load_mni152_template\n",
    "# from nilearn import plotting\n",
    "\n",
    "# Load the MNI template (in standard space) for visualization\n",
    "# mni_template = load_mni152_template()\n",
    "\n",
    "# Load an atlas, for example, Harvard-Oxford sub-cortical regions\n",
    "# from nilearn import datasets\n",
    "# from nilearn import plotting\n",
    "\n",
    "# Load Harvard-Oxford sub-cortical regions (valid name: sub-maxprob-thr50-1mm)\n",
    "atlas = datasets.fetch_atlas_harvard_oxford('sub-maxprob-thr50-1mm')\n"
   ]
  },
  {
   "cell_type": "code",
   "execution_count": null,
   "metadata": {},
   "outputs": [],
   "source": [
    "\n",
    "# The atlas is returned as a dictionary with paths to the data\n",
    "print(atlas.filename)  # This is the file path to the MNI space atlas\n"
   ]
  },
  {
   "cell_type": "code",
   "execution_count": null,
   "metadata": {},
   "outputs": [],
   "source": [
    "\n",
    "# Visualize the Harvard-Oxford sub-cortical regions\n",
    "plotting.plot_roi(atlas.filename, title=\"Harvard-Oxford Sub-Cortical Regions\", display_mode='ortho', draw_cross=True)\n",
    "plotting.show()"
   ]
  },
  {
   "cell_type": "code",
   "execution_count": null,
   "metadata": {},
   "outputs": [],
   "source": [
    "# Convert the NumPy array (anatomical_data) to a NIfTI image using the affine matrix\n",
    "anat_img = nib.Nifti1Image(anatomical_data, anatomical_affine)"
   ]
  },
  {
   "cell_type": "code",
   "execution_count": null,
   "metadata": {},
   "outputs": [],
   "source": [
    "\n",
    "# Plot the anatomical image\n",
    "plotting.plot_anat(anat_img, title=\"Brain Anatomy\")\n",
    "plotting.show()"
   ]
  },
  {
   "cell_type": "markdown",
   "metadata": {},
   "source": [
    "## Extract Region Activity"
   ]
  },
  {
   "cell_type": "code",
   "execution_count": 5,
   "metadata": {},
   "outputs": [],
   "source": [
    "# Load the 4D fMRI data and 3D anatomical data for each brain\n",
    "brains_fmri = func_files_without_mask\n",
    "brains_anatomical = anat_files"
   ]
  },
  {
   "cell_type": "code",
   "execution_count": 6,
   "metadata": {},
   "outputs": [
    {
     "name": "stdout",
     "output_type": "stream",
     "text": [
      "brains_fmri: ../data/sub-0270/ses-01/func/sub-0270_ses-01_task-rest_bold.nii.gz\n",
      "brains_anatomical: ../data/sub-0270/ses-01/anat/sub-0270_ses-01_T1w.nii.gz\n"
     ]
    }
   ],
   "source": [
    "print(f\"brains_fmri: {brains_fmri[0]}\")\n",
    "print(f\"brains_anatomical: {brains_anatomical[0]}\")"
   ]
  },
  {
   "cell_type": "code",
   "execution_count": 7,
   "metadata": {},
   "outputs": [],
   "source": [
    "# Example: Load the first brain's fMRI and anatomical data\n",
    "fmri_data, fmri_affine = load_nii(brains_fmri[0])  # Shape: (x, y, z, t)\n",
    "anatomical_data, anatomical_affine = load_nii(brains_anatomical[0])  # Shape: (x, y, z)\n",
    "anatomical_nii = nib.load(brains_anatomical[0])"
   ]
  },
  {
   "cell_type": "code",
   "execution_count": 8,
   "metadata": {},
   "outputs": [
    {
     "name": "stdout",
     "output_type": "stream",
     "text": [
      "Atlas shape: (256, 256, 192)\n",
      "fMRI shape: (64, 64, 34, 300)\n"
     ]
    }
   ],
   "source": [
    "print(\"Atlas shape:\", anatomical_data.shape)  # Should be (X, Y, Z)\n",
    "print(\"fMRI shape:\", fmri_data.shape)  # Should be (X, Y, Z, Time)"
   ]
  },
  {
   "cell_type": "code",
   "execution_count": 9,
   "metadata": {},
   "outputs": [
    {
     "data": {
      "text/html": [
       "<pre style=\"white-space:pre;overflow-x:auto;line-height:normal;font-family:Menlo,'DejaVu Sans Mono',consolas,'Courier New',monospace\"><span style=\"color: #000080; text-decoration-color: #000080; font-weight: bold\">[</span><span style=\"color: #000080; text-decoration-color: #000080\">get_dataset_dir</span><span style=\"color: #000080; text-decoration-color: #000080; font-weight: bold\">]</span> Dataset found in <span style=\"color: #800080; text-decoration-color: #800080\">/home/linux-pc/nilearn_data/</span><span style=\"color: #ff00ff; text-decoration-color: #ff00ff\">fsl</span>\n",
       "</pre>\n"
      ],
      "text/plain": [
       "\u001b[1;34m[\u001b[0m\u001b[34mget_dataset_dir\u001b[0m\u001b[1;34m]\u001b[0m Dataset found in \u001b[35m/home/linux-pc/nilearn_data/\u001b[0m\u001b[95mfsl\u001b[0m\n"
      ]
     },
     "metadata": {},
     "output_type": "display_data"
    },
    {
     "data": {
      "text/plain": [
       "<nilearn.plotting.displays._slicers.OrthoSlicer at 0x7ff1423466b0>"
      ]
     },
     "execution_count": 9,
     "metadata": {},
     "output_type": "execute_result"
    },
    {
     "data": {
      "image/png": "[encoded data removed]",
      "text/plain": [
       "<Figure size 660x350 with 4 Axes>"
      ]
     },
     "metadata": {},
     "output_type": "display_data"
    }
   ],
   "source": [
    "# Fetch the atlas (cortical or subcortical)\n",
    "\n",
    "# atlas = fetch_atlas_harvard_oxford('cort-maxprob-thr25-1mm')  # 1mm resolution\n",
    "# atlas_img = atlas.maps\n",
    "\n",
    "# Fetch the cortical atlas\n",
    "atlas_cortex = fetch_atlas_harvard_oxford('cort-maxprob-thr25-1mm')\n",
    "atlas_img_cortex = atlas_cortex.maps\n",
    "\n",
    "# Resample the atlas to match the anatomical image\n",
    "resampled_atlas = resample_to_img(atlas_img_cortex, anatomical_nii, interpolation='nearest')\n",
    "# resampled_atlas = resample_to_img(atlas_img, anatomical_nii , interpolation='nearest')\n",
    "\n",
    "# Save the new resampled atlas\n",
    "resampled_atlas.to_filename(\"registered_atlas.nii.gz\")\n",
    "plot_roi(resampled_atlas, bg_img=anatomical_nii, title=\"Registered Harvard-Oxford Atlas\")"
   ]
  },
  {
   "cell_type": "code",
   "execution_count": 10,
   "metadata": {},
   "outputs": [
    {
     "data": {
      "text/html": [
       "<pre style=\"white-space:pre;overflow-x:auto;line-height:normal;font-family:Menlo,'DejaVu Sans Mono',consolas,'Courier New',monospace\"><span style=\"color: #000080; text-decoration-color: #000080; font-weight: bold\">[</span><span style=\"color: #000080; text-decoration-color: #000080\">get_dataset_dir</span><span style=\"color: #000080; text-decoration-color: #000080; font-weight: bold\">]</span> Dataset found in <span style=\"color: #800080; text-decoration-color: #800080\">/home/linux-pc/nilearn_data/</span><span style=\"color: #ff00ff; text-decoration-color: #ff00ff\">fsl</span>\n",
       "</pre>\n"
      ],
      "text/plain": [
       "\u001b[1;34m[\u001b[0m\u001b[34mget_dataset_dir\u001b[0m\u001b[1;34m]\u001b[0m Dataset found in \u001b[35m/home/linux-pc/nilearn_data/\u001b[0m\u001b[95mfsl\u001b[0m\n"
      ]
     },
     "metadata": {},
     "output_type": "display_data"
    },
    {
     "data": {
      "text/plain": [
       "<nilearn.plotting.displays._slicers.OrthoSlicer at 0x7ff13dfcbc70>"
      ]
     },
     "execution_count": 10,
     "metadata": {},
     "output_type": "execute_result"
    },
    {
     "data": {
      "image/png": "[encoded data removed]",
      "text/plain": [
       "<Figure size 660x350 with 4 Axes>"
      ]
     },
     "metadata": {},
     "output_type": "display_data"
    }
   ],
   "source": [
    "# Fetch the sub-cortical atlas\n",
    "atlas_subcortical = fetch_atlas_harvard_oxford('sub-maxprob-thr25-1mm')\n",
    "atlas_img_subcortical = atlas_subcortical.filename\n",
    "\n",
    "# Resample the atlas to match the anatomical image\n",
    "resampled_atlas = resample_to_img(atlas_img_subcortical, anatomical_nii, interpolation='nearest')\n",
    "# resampled_atlas = resample_to_img(atlas_img, anatomical_nii , interpolation='nearest')\n",
    "\n",
    "# Save the new resampled atlas\n",
    "resampled_atlas.to_filename(\"registered_atlas.nii.gz\")\n",
    "plot_roi(resampled_atlas, bg_img=anatomical_nii, title=\"Registered Harvard-Oxford Atlas\")\n"
   ]
  },
  {
   "cell_type": "markdown",
   "metadata": {},
   "source": [
    "#### Defining Regions of Interest"
   ]
  },
  {
   "cell_type": "code",
   "execution_count": 11,
   "metadata": {},
   "outputs": [],
   "source": [
    "# Convert the resampled atlas image to a NumPy array\n",
    "atlas_data = resampled_atlas.get_fdata()\n",
    "\n",
    "# Extract unique region labels from the atlas\n",
    "roi_labels = np.unique(atlas_data)[1:]  # Ignore background (0)\n"
   ]
  },
  {
   "cell_type": "code",
   "execution_count": 12,
   "metadata": {},
   "outputs": [
    {
     "data": {
      "text/plain": [
       "(64, 64, 34, 300)"
      ]
     },
     "execution_count": 12,
     "metadata": {},
     "output_type": "execute_result"
    }
   ],
   "source": [
    "fmri_data.shape\n"
   ]
  },
  {
   "cell_type": "code",
   "execution_count": 13,
   "metadata": {},
   "outputs": [
    {
     "data": {
      "text/plain": [
       "(256, 256, 192)"
      ]
     },
     "execution_count": 13,
     "metadata": {},
     "output_type": "execute_result"
    }
   ],
   "source": [
    "atlas_data.shape"
   ]
  },
  {
   "cell_type": "code",
   "execution_count": 14,
   "metadata": {},
   "outputs": [
    {
     "data": {
      "text/plain": [
       "(array([ 67,  67,  67, ..., 129, 129, 129]),\n",
       " array([105, 106, 107, ..., 163, 163, 164]),\n",
       " array([ 76,  77,  77, ..., 103, 104, 104]))"
      ]
     },
     "execution_count": 14,
     "metadata": {},
     "output_type": "execute_result"
    }
   ],
   "source": [
    "np.where(atlas_data == 1.0)"
   ]
  },
  {
   "cell_type": "code",
   "execution_count": 15,
   "metadata": {},
   "outputs": [
    {
     "name": "stderr",
     "output_type": "stream",
     "text": [
      "Processing ROIs: 100%|██████████| 21/21 [00:00<00:00, 235.89it/s]\n"
     ]
    }
   ],
   "source": [
    "# Step 1: Resample the atlas to match the spatial dimensions of fmri_data (64, 64, 34)\n",
    "# Determine the scaling factors for each spatial dimension\n",
    "scaling_factors = np.array(fmri_data.shape[:3]) / np.array(atlas_data.shape)\n",
    "\n",
    "# Resample the atlas using the scaling factors (linear interpolation)\n",
    "resampled_atlas = zoom(atlas_data, scaling_factors, order=1)  # Using linear interpolation\n",
    "\n",
    "# Round and cast the resampled atlas to integers\n",
    "resampled_atlas = np.round(resampled_atlas).astype(int)\n",
    "\n",
    "# Step 2: Extract unique region labels from the resampled atlas (skip background 0)\n",
    "roi_labels = np.unique(resampled_atlas)[np.unique(resampled_atlas) > 0]\n",
    "\n",
    "# Create a dictionary to store extracted time series for each ROI\n",
    "roi_time_series = {}\n",
    "\n",
    "# Step 3: Extract fMRI time series for each ROI\n",
    "for roi in tqdm(roi_labels, desc=\"Processing ROIs\"):\n",
    "    # Get the voxel indices for the current ROI in the resampled atlas\n",
    "    roi_voxels = np.where(resampled_atlas == roi)\n",
    "\n",
    "    # Ensure the voxel indices are valid within the spatial dimensions of fmri_data\n",
    "    # Extract the fMRI signal corresponding to these voxels for each time point\n",
    "    roi_signal = fmri_data[roi_voxels].mean(axis=0)  # Averaging across voxels (axis 0 refers to spatial)\n",
    "\n",
    "    # Store the resulting time series for the current ROI\n",
    "    roi_time_series[roi] = roi_signal\n"
   ]
  },
  {
   "cell_type": "code",
   "execution_count": 16,
   "metadata": {},
   "outputs": [
    {
     "data": {
      "text/plain": [
       "array([ 1,  2,  3,  4,  5,  6,  7,  8,  9, 10, 11, 12, 13, 14, 15, 16, 17,\n",
       "       18, 19, 20, 21])"
      ]
     },
     "execution_count": 16,
     "metadata": {},
     "output_type": "execute_result"
    }
   ],
   "source": [
    "roi_labels"
   ]
  },
  {
   "cell_type": "code",
   "execution_count": 17,
   "metadata": {},
   "outputs": [
    {
     "data": {
      "text/plain": [
       "{1: array([720.64699828, 719.03979417, 719.01132075, 718.87787307,\n",
       "        720.16123499, 720.10806175, 721.27135506, 720.07924528,\n",
       "        721.7238422 , 722.99245283, 721.73584906, 720.70428816,\n",
       "        718.232247  , 719.69639794, 719.07169811, 718.39622642,\n",
       "        717.82813036, 717.96363636, 718.56672384, 718.80686106,\n",
       "        718.65523156, 719.66655232, 718.91492281, 720.48953688,\n",
       "        720.73584906, 719.3890223 , 719.41269297, 719.97118353,\n",
       "        719.83979417, 719.67958834, 718.31972556, 718.59108062,\n",
       "        718.55574614, 719.14991424, 719.6109777 , 719.78524871,\n",
       "        719.36809605, 718.78456261, 718.44288165, 718.71183533,\n",
       "        717.70428816, 718.29982847, 718.90222985, 719.00445969,\n",
       "        718.58765009, 719.1728988 , 719.49090909, 718.62332762,\n",
       "        719.20789022, 719.11012007, 719.02161235, 718.6922813 ,\n",
       "        719.14168096, 719.13138937, 719.52349914, 721.69639794,\n",
       "        720.1077187 , 719.44288165, 719.36157804, 721.56295026,\n",
       "        720.88953688, 719.26174957, 717.3890223 , 717.06037736,\n",
       "        716.74957118, 717.14819897, 717.88850772, 718.93996569,\n",
       "        719.19279588, 719.45008576, 719.92727273, 720.43876501,\n",
       "        720.02298456, 720.60205832, 720.45214408, 720.20823328,\n",
       "        720.19313894, 719.95403087, 719.62504288, 719.15368782,\n",
       "        719.51595197, 719.60137221, 719.05660377, 719.36672384,\n",
       "        719.81475129, 719.2       , 718.90566038, 719.21680961,\n",
       "        719.08404803, 719.72246998, 719.05317324, 719.64631218,\n",
       "        719.52487136, 719.52109777, 720.21818182, 722.00068611,\n",
       "        724.51457976, 721.43396226, 719.04562607, 719.9348199 ,\n",
       "        718.92041166, 718.53070326, 719.16535163, 721.10017153,\n",
       "        722.06415094, 721.7135506 , 721.49502573, 721.82435678,\n",
       "        721.46655232, 721.40857633, 721.16329331, 722.41715266,\n",
       "        721.98113208, 721.14785592, 721.82778731, 721.61818182,\n",
       "        721.17632933, 721.60377358, 721.72144082, 721.08885077,\n",
       "        721.3567753 , 721.52349914, 721.82744425, 723.93722127,\n",
       "        722.13687822, 721.34236707, 722.20137221, 723.02538593,\n",
       "        722.92041166, 721.29811321, 719.48610635, 719.26209262,\n",
       "        719.38662093, 720.95506003, 721.69845626, 721.7728988 ,\n",
       "        721.6651801 , 720.83945111, 720.75265866, 721.24116638,\n",
       "        721.39210978, 721.71457976, 722.50360206, 723.0813036 ,\n",
       "        722.80240137, 722.04871355, 722.40411664, 722.28576329,\n",
       "        721.35334477, 721.32658662, 721.21783877, 721.4754717 ,\n",
       "        721.74373928, 722.11698113, 722.03156089, 721.87924528,\n",
       "        721.9296741 , 722.1457976 , 722.54133791, 722.61166381,\n",
       "        723.40548885, 722.46929674, 722.7025729 , 722.50703259,\n",
       "        722.60411664, 722.67272727, 722.12761578, 720.96123499,\n",
       "        721.26586621, 722.09262436, 722.28816467, 726.15608919,\n",
       "        726.62538593, 727.47101201, 723.81989708, 723.39759863,\n",
       "        724.61852487, 722.36020583, 720.41886792, 720.53344768,\n",
       "        720.35403087, 720.91595197, 721.46929674, 722.40720412,\n",
       "        723.26209262, 724.19279588, 725.24150943, 724.86243568,\n",
       "        725.6761578 , 724.76363636, 725.08473413, 724.68782161,\n",
       "        724.45077187, 724.50291595, 725.07581475, 724.97598628,\n",
       "        725.78216123, 725.44150943, 725.50531732, 725.49433962,\n",
       "        724.92898799, 725.33653516, 725.44871355, 725.30085763,\n",
       "        724.24974271, 724.03259005, 724.04802744, 723.88576329,\n",
       "        723.93653516, 723.63602058, 723.97255575, 723.54305317,\n",
       "        723.40205832, 725.44768439, 726.29193825, 724.65763293,\n",
       "        724.12692967, 724.94373928, 726.38936535, 726.21578045,\n",
       "        725.69262436, 724.78113208, 724.10806175, 723.20102916,\n",
       "        724.34408233, 724.57735849, 725.79279588, 725.69296741,\n",
       "        725.11114923, 725.74716981, 725.55540309, 725.87650086,\n",
       "        725.58593482, 725.29536878, 724.51629503, 724.72590051,\n",
       "        725.08267581, 725.2535163 , 724.80343053, 724.34854202,\n",
       "        724.57324185, 724.15814751, 723.64665523, 724.16946827,\n",
       "        723.9728988 , 723.71629503, 723.80617496, 724.2271012 ,\n",
       "        724.15368782, 724.64562607, 724.5728988 , 724.34168096,\n",
       "        724.08267581, 723.97049743, 724.75265866, 724.0271012 ,\n",
       "        724.56603774, 724.85763293, 724.66586621, 724.8329331 ,\n",
       "        724.72590051, 724.43259005, 724.24048027, 725.58250429,\n",
       "        727.86346484, 726.66346484, 723.56843911, 724.34716981,\n",
       "        725.62572899, 725.61132075, 724.93516295, 723.57701544,\n",
       "        722.60720412, 722.39451115, 722.35231561, 723.43361921,\n",
       "        725.46552316, 724.7238422 , 725.35780446, 726.67444254,\n",
       "        728.51629503, 729.0102916 , 728.54339623, 727.50085763,\n",
       "        727.19108062, 726.98250429, 726.75711835, 726.56466552,\n",
       "        726.53138937, 726.64768439, 726.79897084, 725.38421955,\n",
       "        725.32144082, 725.53104631, 725.39965695, 725.95574614,\n",
       "        725.79039451, 725.62572899, 725.84939966, 725.75300172]),\n",
       " 2: array([808.78056604, 807.0745283 , 807.5409434 , 806.84018868,\n",
       "        809.56037736, 809.21150943, 811.74603774, 809.95867925,\n",
       "        812.80981132, 812.03716981, 811.65886792, 807.90566038,\n",
       "        804.51415094, 810.99849057, 807.30584906, 806.71716981,\n",
       "        806.91471698, 804.42811321, 806.69622642, 804.89811321,\n",
       "        805.95886792, 808.27377358, 807.15264151, 812.24075472,\n",
       "        808.73433962, 807.79075472, 808.1645283 , 807.17339623,\n",
       "        807.30886792, 807.52      , 805.67245283, 804.79754717,\n",
       "        804.77188679, 806.07264151, 807.93433962, 808.47528302,\n",
       "        809.00169811, 807.75339623, 806.39830189, 805.5854717 ,\n",
       "        805.07981132, 805.51339623, 805.89433962, 805.64754717,\n",
       "        805.16037736, 805.13339623, 805.49150943, 805.41169811,\n",
       "        805.56037736, 805.53433962, 804.90320755, 804.53698113,\n",
       "        805.04037736, 805.10830189, 805.64660377, 805.94886792,\n",
       "        805.19566038, 804.24622642, 805.57301887, 808.08566038,\n",
       "        805.63339623, 803.05698113, 800.38811321, 800.47339623,\n",
       "        800.87490566, 801.08867925, 801.21566038, 802.81867925,\n",
       "        803.69377358, 803.7209434 , 805.18471698, 806.35320755,\n",
       "        805.70716981, 806.90245283, 806.37396226, 805.73320755,\n",
       "        806.12811321, 805.51283019, 804.02792453, 803.52716981,\n",
       "        803.72811321, 803.79490566, 803.16849057, 803.31698113,\n",
       "        803.79396226, 803.49264151, 802.31301887, 802.89924528,\n",
       "        803.17792453, 802.97037736, 802.15867925, 803.20188679,\n",
       "        803.75679245, 803.85339623, 804.54037736, 806.72660377,\n",
       "        807.04622642, 802.20924528, 801.00283019, 805.46056604,\n",
       "        802.55018868, 802.36150943, 802.98037736, 805.56075472,\n",
       "        806.20415094, 805.86698113, 805.67698113, 805.52377358,\n",
       "        806.05471698, 805.78018868, 805.50150943, 806.40113208,\n",
       "        804.52698113, 803.79679245, 804.54226415, 804.39283019,\n",
       "        802.99283019, 804.06018868, 803.90377358, 803.66773585,\n",
       "        803.94698113, 804.40716981, 805.03264151, 806.46415094,\n",
       "        805.50490566, 803.78339623, 805.20792453, 806.67811321,\n",
       "        805.97018868, 803.96943396, 801.17226415, 801.16660377,\n",
       "        802.31679245, 804.34169811, 803.79698113, 804.40264151,\n",
       "        803.0890566 , 803.30075472, 803.08245283, 802.84962264,\n",
       "        803.80283019, 803.74490566, 804.09433962, 804.98264151,\n",
       "        804.28603774, 803.28924528, 804.17566038, 803.1045283 ,\n",
       "        802.28735849, 801.80943396, 801.18113208, 801.97660377,\n",
       "        802.20150943, 801.94603774, 802.58754717, 802.30584906,\n",
       "        801.88396226, 802.54169811, 802.72283019, 802.60509434,\n",
       "        804.05660377, 803.22716981, 803.45528302, 803.43169811,\n",
       "        802.75490566, 802.4790566 , 801.39471698, 800.12792453,\n",
       "        800.30056604, 801.65830189, 802.12471698, 808.74188679,\n",
       "        807.28490566, 803.61113208, 807.44339623, 805.85773585,\n",
       "        806.61132075, 801.54962264, 797.11603774, 799.36773585,\n",
       "        799.53867925, 800.67490566, 802.68584906, 802.38113208,\n",
       "        803.35471698, 804.70622642, 806.77886792, 806.07849057,\n",
       "        807.18320755, 805.63886792, 805.76264151, 804.65358491,\n",
       "        804.00075472, 804.65886792, 804.75245283, 805.81943396,\n",
       "        806.4654717 , 805.96377358, 806.54      , 806.68528302,\n",
       "        806.51792453, 806.30037736, 806.43358491, 807.23566038,\n",
       "        804.80886792, 804.44037736, 804.55056604, 804.1309434 ,\n",
       "        803.94981132, 803.81301887, 803.98339623, 803.38132075,\n",
       "        803.08792453, 806.50566038, 804.72056604, 805.28471698,\n",
       "        804.99245283, 807.39433962, 809.50603774, 808.92207547,\n",
       "        806.8154717 , 805.94773585, 805.52698113, 804.65603774,\n",
       "        806.54792453, 807.05018868, 807.74226415, 807.75962264,\n",
       "        807.08415094, 807.85603774, 807.47584906, 807.79792453,\n",
       "        807.58377358, 807.15132075, 806.4354717 , 806.35962264,\n",
       "        806.94207547, 807.16433962, 806.23660377, 805.45415094,\n",
       "        805.77773585, 805.19924528, 804.4       , 804.73490566,\n",
       "        804.65264151, 804.75358491, 804.55132075, 805.06811321,\n",
       "        805.20358491, 805.42490566, 805.79169811, 805.16981132,\n",
       "        804.51716981, 804.70886792, 804.0909434 , 804.03377358,\n",
       "        804.46490566, 804.32358491, 804.58037736, 805.4045283 ,\n",
       "        805.14490566, 804.87075472, 805.25735849, 808.58226415,\n",
       "        813.32735849, 810.48245283, 806.01113208, 806.70698113,\n",
       "        809.85056604, 808.98679245, 807.77886792, 805.03320755,\n",
       "        802.85169811, 802.77754717, 804.24415094, 805.6654717 ,\n",
       "        809.37      , 807.85830189, 809.90226415, 810.70226415,\n",
       "        814.8645283 , 814.88320755, 813.78150943, 812.6445283 ,\n",
       "        812.61773585, 811.73056604, 810.93132075, 810.69245283,\n",
       "        809.59660377, 809.12792453, 806.9654717 , 805.9609434 ,\n",
       "        806.36113208, 806.78622642, 806.95943396, 807.66716981,\n",
       "        807.30339623, 806.82698113, 808.18      , 808.17716981]),\n",
       " 3: array([789.57777778, 782.62222222, 779.44444444, 778.68148148,\n",
       "        779.26666667, 780.95555556, 781.3037037 , 779.04444444,\n",
       "        779.64444444, 782.75555556, 776.57777778, 775.22222222,\n",
       "        771.33333333, 782.33333333, 780.54814815, 772.64444444,\n",
       "        772.41481481, 770.35555556, 775.06666667, 770.83703704,\n",
       "        773.35555556, 774.7037037 , 775.22962963, 784.00740741,\n",
       "        776.48888889, 773.43703704, 774.20740741, 771.6962963 ,\n",
       "        774.08148148, 771.57037037, 775.65185185, 771.35555556,\n",
       "        770.63703704, 772.78518519, 773.13333333, 775.17777778,\n",
       "        777.6       , 776.06666667, 773.07407407, 773.31111111,\n",
       "        772.77037037, 774.85925926, 772.4       , 772.39259259,\n",
       "        773.25185185, 772.51851852, 772.77777778, 772.42222222,\n",
       "        772.74814815, 773.9037037 , 771.08888889, 770.63703704,\n",
       "        770.48888889, 768.80740741, 768.96296296, 768.04444444,\n",
       "        767.4962963 , 767.75555556, 769.00740741, 770.11851852,\n",
       "        770.46666667, 769.39259259, 766.63703704, 766.2       ,\n",
       "        766.91851852, 764.22962963, 763.74814815, 765.41481481,\n",
       "        766.83703704, 768.65185185, 770.14074074, 769.14814815,\n",
       "        769.37037037, 769.20740741, 770.91851852, 769.68888889,\n",
       "        769.76296296, 771.36296296, 767.02962963, 768.92592593,\n",
       "        766.87407407, 767.11111111, 766.56296296, 767.37037037,\n",
       "        767.87407407, 765.58518519, 766.51111111, 766.91111111,\n",
       "        766.54074074, 764.60740741, 765.14074074, 766.17777778,\n",
       "        765.37777778, 764.86666667, 765.97777778, 767.95555556,\n",
       "        771.26666667, 758.5037037 , 760.23703704, 764.77777778,\n",
       "        761.43703704, 761.78518519, 761.85925926, 762.97777778,\n",
       "        765.39259259, 767.14814815, 766.60740741, 765.61481481,\n",
       "        767.17777778, 764.74074074, 765.28888889, 768.02222222,\n",
       "        763.73333333, 762.74814815, 765.77037037, 765.83703704,\n",
       "        763.82222222, 764.93333333, 763.2       , 764.82962963,\n",
       "        763.08148148, 764.31111111, 762.82962963, 765.2962963 ,\n",
       "        764.76296296, 763.00740741, 763.78518519, 765.94074074,\n",
       "        765.04444444, 766.06666667, 763.31111111, 763.20740741,\n",
       "        762.07407407, 761.7037037 , 763.7037037 , 764.83703704,\n",
       "        764.31851852, 764.73333333, 764.00740741, 759.51111111,\n",
       "        762.68148148, 761.08888889, 763.14814815, 764.31851852,\n",
       "        762.85185185, 763.9037037 , 763.35555556, 761.71111111,\n",
       "        760.51111111, 759.61481481, 758.77037037, 760.05925926,\n",
       "        758.84444444, 760.42222222, 760.91851852, 760.83703704,\n",
       "        760.31111111, 761.95555556, 761.08148148, 761.24444444,\n",
       "        761.8       , 762.66666667, 762.91111111, 761.28148148,\n",
       "        761.80740741, 763.80740741, 760.14814815, 759.28148148,\n",
       "        759.16296296, 759.59259259, 760.39259259, 769.08148148,\n",
       "        765.11851852, 752.37037037, 764.32592593, 756.2962963 ,\n",
       "        759.87407407, 757.43703704, 751.95555556, 759.5037037 ,\n",
       "        754.32592593, 753.37037037, 756.39259259, 755.77777778,\n",
       "        757.94814815, 758.85925926, 760.94814815, 761.35555556,\n",
       "        760.6962963 , 758.64444444, 759.74074074, 758.22962963,\n",
       "        758.92592593, 758.47407407, 757.94814815, 758.58518519,\n",
       "        759.48148148, 760.05185185, 760.51851852, 759.08888889,\n",
       "        760.61481481, 760.96296296, 759.62222222, 760.44444444,\n",
       "        758.54074074, 758.86666667, 758.85925926, 757.99259259,\n",
       "        759.77777778, 758.56296296, 757.73333333, 757.97037037,\n",
       "        758.12592593, 760.17777778, 757.59259259, 763.77037037,\n",
       "        760.67407407, 760.0962963 , 763.2962963 , 765.40740741,\n",
       "        764.65185185, 762.9037037 , 761.72592593, 761.52592593,\n",
       "        761.65925926, 761.8       , 761.56296296, 763.25925926,\n",
       "        765.06666667, 762.82962963, 763.96296296, 765.79259259,\n",
       "        763.31851852, 763.81481481, 763.62962963, 762.25925926,\n",
       "        763.42962963, 762.17037037, 762.40740741, 763.72592593,\n",
       "        763.53333333, 762.20740741, 762.65925926, 760.93333333,\n",
       "        760.34814815, 761.53333333, 762.58518519, 759.98518519,\n",
       "        761.65925926, 763.42222222, 762.60740741, 761.93333333,\n",
       "        761.42962963, 760.94814815, 758.17777778, 759.85185185,\n",
       "        762.11111111, 760.13333333, 759.94074074, 761.22222222,\n",
       "        762.03703704, 762.28888889, 763.16296296, 767.22962963,\n",
       "        771.42962963, 766.2       , 764.11111111, 763.        ,\n",
       "        767.33333333, 767.77037037, 766.1037037 , 762.76296296,\n",
       "        761.23703704, 760.85925926, 760.56296296, 761.77037037,\n",
       "        768.86666667, 764.26666667, 767.2       , 768.22962963,\n",
       "        772.8962963 , 772.01481481, 772.08148148, 772.77037037,\n",
       "        772.52592593, 768.56296296, 766.87407407, 768.06666667,\n",
       "        765.61481481, 765.88148148, 762.71851852, 763.17037037,\n",
       "        764.08888889, 762.13333333, 764.55555556, 764.0962963 ,\n",
       "        764.04444444, 764.25925926, 765.15555556, 765.19259259]),\n",
       " 4: array([628.64596273, 627.65217391, 627.80124224, 628.59627329,\n",
       "        632.85714286, 630.74534161, 634.02484472, 633.47826087,\n",
       "        635.94409938, 634.46583851, 634.1242236 , 631.47826087,\n",
       "        626.19254658, 635.85714286, 628.44099379, 625.04347826,\n",
       "        626.64596273, 623.36024845, 626.67080745, 624.93167702,\n",
       "        626.89440994, 631.9068323 , 629.0310559 , 636.27950311,\n",
       "        628.45341615, 629.75776398, 630.56521739, 627.89440994,\n",
       "        630.01242236, 629.77018634, 624.28571429, 625.52173913,\n",
       "        626.0931677 , 628.75776398, 629.77018634, 630.76397516,\n",
       "        630.39130435, 628.75776398, 627.39751553, 627.50310559,\n",
       "        627.01242236, 628.59627329, 628.70186335, 628.44720497,\n",
       "        627.71428571, 627.40993789, 626.94409938, 627.64596273,\n",
       "        628.00621118, 628.72049689, 627.63354037, 626.13043478,\n",
       "        628.56521739, 627.66459627, 628.14285714, 628.37888199,\n",
       "        631.0310559 , 631.08074534, 630.31055901, 632.42857143,\n",
       "        630.46583851, 624.85093168, 622.93167702, 623.0310559 ,\n",
       "        622.49689441, 623.42857143, 623.17391304, 625.74534161,\n",
       "        627.98757764, 626.45962733, 629.25465839, 629.28571429,\n",
       "        628.17391304, 630.        , 629.13664596, 629.72049689,\n",
       "        629.72049689, 628.54658385, 628.92546584, 627.55900621,\n",
       "        628.98757764, 628.2484472 , 627.7515528 , 628.08074534,\n",
       "        629.25465839, 628.08074534, 626.52173913, 627.21118012,\n",
       "        626.58385093, 625.14906832, 623.57763975, 626.1242236 ,\n",
       "        626.64596273, 628.30434783, 628.08695652, 632.58385093,\n",
       "        626.28571429, 623.57142857, 621.86335404, 625.80745342,\n",
       "        618.34782609, 622.11180124, 623.73913043, 626.8136646 ,\n",
       "        627.19875776, 627.99378882, 625.90062112, 628.16770186,\n",
       "        629.78881988, 628.29192547, 627.54658385, 629.76397516,\n",
       "        627.31055901, 626.40993789, 626.54658385, 626.24223602,\n",
       "        624.55900621, 625.16149068, 624.08695652, 625.40372671,\n",
       "        626.9068323 , 625.46583851, 626.78881988, 627.40372671,\n",
       "        629.70807453, 626.95031056, 626.73913043, 629.37267081,\n",
       "        627.96273292, 624.64596273, 621.69565217, 623.8447205 ,\n",
       "        623.70186335, 626.8757764 , 624.11801242, 626.83229814,\n",
       "        624.48447205, 622.44720497, 622.27950311, 623.57763975,\n",
       "        621.49068323, 623.28571429, 623.69565217, 625.19254658,\n",
       "        625.75776398, 623.73913043, 624.17391304, 623.1552795 ,\n",
       "        621.63354037, 621.66459627, 622.50310559, 622.0621118 ,\n",
       "        623.1863354 , 624.37888199, 625.02484472, 624.2173913 ,\n",
       "        623.79503106, 623.52173913, 623.09937888, 623.99378882,\n",
       "        625.05590062, 624.8757764 , 625.01242236, 625.17391304,\n",
       "        623.86956522, 624.27950311, 621.80124224, 620.1863354 ,\n",
       "        621.99378882, 623.44720497, 624.25465839, 633.19875776,\n",
       "        628.10559006, 621.73913043, 632.22981366, 628.22981366,\n",
       "        630.57142857, 621.83229814, 617.08074534, 622.9689441 ,\n",
       "        621.59627329, 622.81987578, 624.14906832, 624.56521739,\n",
       "        626.91304348, 628.59627329, 631.1552795 , 630.91925466,\n",
       "        630.40372671, 628.54037267, 628.95652174, 628.52173913,\n",
       "        626.01242236, 626.44099379, 626.62732919, 627.98757764,\n",
       "        629.29813665, 629.59627329, 631.11801242, 631.88198758,\n",
       "        629.98757764, 631.13664596, 631.51552795, 630.42236025,\n",
       "        628.8136646 , 628.44720497, 629.44099379, 628.07453416,\n",
       "        628.11180124, 627.70807453, 627.05590062, 626.70186335,\n",
       "        626.2484472 , 629.71428571, 627.22360248, 628.8136646 ,\n",
       "        627.57142857, 630.22360248, 633.86335404, 631.83229814,\n",
       "        629.65838509, 628.24223602, 628.29813665, 623.16770186,\n",
       "        628.23602484, 628.55279503, 629.99378882, 629.33540373,\n",
       "        629.68322981, 629.47204969, 629.01242236, 629.7826087 ,\n",
       "        628.37888199, 626.63975155, 625.31055901, 627.0310559 ,\n",
       "        626.79503106, 626.03726708, 627.86956522, 626.61490683,\n",
       "        626.02484472, 626.29813665, 625.42236025, 624.49689441,\n",
       "        624.62732919, 624.23602484, 623.64596273, 626.56521739,\n",
       "        627.63975155, 627.06832298, 628.02484472, 628.59006211,\n",
       "        626.27950311, 626.88198758, 626.83850932, 625.58385093,\n",
       "        625.48447205, 625.90062112, 628.18012422, 627.26086957,\n",
       "        626.20496894, 628.27329193, 627.33540373, 630.38509317,\n",
       "        635.81987578, 633.42857143, 626.82608696, 630.19254658,\n",
       "        634.44720497, 632.13664596, 629.53416149, 627.02484472,\n",
       "        624.91925466, 626.07453416, 625.43478261, 628.01242236,\n",
       "        632.60248447, 628.36024845, 633.31055901, 633.06832298,\n",
       "        637.82608696, 635.81987578, 635.45341615, 634.63975155,\n",
       "        636.27950311, 634.8447205 , 632.45341615, 633.61490683,\n",
       "        631.67701863, 629.18012422, 625.91304348, 625.17391304,\n",
       "        626.47826087, 628.63975155, 627.32298137, 627.85714286,\n",
       "        627.41614907, 628.67701863, 629.88198758, 629.29192547]),\n",
       " 5: array([715.53333333, 713.98888889, 713.86666667, 712.68888889,\n",
       "        718.93333333, 717.63333333, 720.48888889, 718.65555556,\n",
       "        717.52222222, 718.38888889, 716.95555556, 715.62222222,\n",
       "        709.48888889, 721.54444444, 713.01111111, 710.7       ,\n",
       "        713.96666667, 705.32222222, 710.06666667, 704.81111111,\n",
       "        708.13333333, 715.82222222, 710.42222222, 725.02222222,\n",
       "        712.1       , 712.88888889, 713.42222222, 706.96666667,\n",
       "        711.2       , 713.08888889, 707.17777778, 705.32222222,\n",
       "        705.82222222, 706.85555556, 710.31111111, 712.87777778,\n",
       "        713.68888889, 712.48888889, 706.93333333, 709.95555556,\n",
       "        710.26666667, 708.22222222, 709.75555556, 708.13333333,\n",
       "        707.68888889, 705.1       , 707.16666667, 707.48888889,\n",
       "        708.68888889, 706.67777778, 708.3       , 706.03333333,\n",
       "        705.35555556, 705.18888889, 708.45555556, 703.42222222,\n",
       "        706.24444444, 704.73333333, 703.56666667, 710.88888889,\n",
       "        706.68888889, 703.16666667, 700.04444444, 699.        ,\n",
       "        700.93333333, 702.44444444, 702.24444444, 701.97777778,\n",
       "        704.5       , 702.75555556, 705.26666667, 707.17777778,\n",
       "        706.        , 705.23333333, 706.11111111, 707.96666667,\n",
       "        704.84444444, 705.27777778, 706.4       , 705.44444444,\n",
       "        703.15555556, 705.26666667, 704.3       , 704.83333333,\n",
       "        704.18888889, 703.64444444, 701.73333333, 703.41111111,\n",
       "        700.78888889, 700.15555556, 699.48888889, 700.68888889,\n",
       "        702.84444444, 703.74444444, 704.05555556, 705.08888889,\n",
       "        697.5       , 696.36666667, 693.7       , 698.35555556,\n",
       "        693.75555556, 695.55555556, 696.38888889, 700.85555556,\n",
       "        702.77777778, 706.03333333, 703.4       , 702.18888889,\n",
       "        703.4       , 704.83333333, 703.58888889, 703.36666667,\n",
       "        699.94444444, 699.26666667, 699.04444444, 700.08888889,\n",
       "        698.32222222, 697.91111111, 696.63333333, 698.93333333,\n",
       "        698.77777778, 698.06666667, 701.52222222, 698.95555556,\n",
       "        700.76666667, 697.15555556, 700.78888889, 703.17777778,\n",
       "        701.66666667, 697.43333333, 696.84444444, 699.92222222,\n",
       "        699.4       , 700.95555556, 699.84444444, 700.36666667,\n",
       "        697.16666667, 697.44444444, 696.41111111, 698.2       ,\n",
       "        697.1       , 696.94444444, 697.17777778, 698.06666667,\n",
       "        698.73333333, 697.26666667, 696.02222222, 697.2       ,\n",
       "        694.71111111, 694.85555556, 693.01111111, 695.18888889,\n",
       "        694.96666667, 696.03333333, 696.92222222, 696.61111111,\n",
       "        696.25555556, 698.57777778, 697.22222222, 696.73333333,\n",
       "        699.67777778, 696.78888889, 695.64444444, 697.81111111,\n",
       "        697.93333333, 696.37777778, 695.53333333, 692.04444444,\n",
       "        693.64444444, 696.63333333, 698.14444444, 703.23333333,\n",
       "        696.52222222, 693.61111111, 702.55555556, 696.11111111,\n",
       "        697.94444444, 690.81111111, 688.53333333, 693.67777778,\n",
       "        693.51111111, 696.23333333, 696.07777778, 694.71111111,\n",
       "        698.67777778, 701.        , 702.24444444, 700.41111111,\n",
       "        701.72222222, 699.12222222, 698.97777778, 698.66666667,\n",
       "        697.82222222, 695.83333333, 699.3       , 697.91111111,\n",
       "        699.15555556, 699.34444444, 701.75555556, 702.78888889,\n",
       "        701.78888889, 699.23333333, 700.63333333, 701.72222222,\n",
       "        698.23333333, 695.76666667, 699.93333333, 698.31111111,\n",
       "        696.87777778, 698.11111111, 698.65555556, 696.76666667,\n",
       "        695.44444444, 702.04444444, 695.53333333, 697.7       ,\n",
       "        696.86666667, 701.8       , 705.36666667, 703.27777778,\n",
       "        700.22222222, 701.34444444, 700.63333333, 698.15555556,\n",
       "        699.06666667, 701.04444444, 701.7       , 700.06666667,\n",
       "        698.48888889, 701.85555556, 701.38888889, 701.13333333,\n",
       "        700.46666667, 698.68888889, 697.26666667, 700.42222222,\n",
       "        698.47777778, 698.34444444, 699.14444444, 698.35555556,\n",
       "        698.03333333, 699.4       , 697.75555556, 697.52222222,\n",
       "        698.58888889, 697.17777778, 696.32222222, 698.33333333,\n",
       "        699.41111111, 698.08888889, 699.18888889, 700.67777778,\n",
       "        699.75555556, 696.01111111, 699.27777778, 695.52222222,\n",
       "        695.4       , 698.65555556, 698.86666667, 699.12222222,\n",
       "        696.88888889, 699.22222222, 699.05555556, 701.8       ,\n",
       "        707.71111111, 705.42222222, 697.48888889, 699.61111111,\n",
       "        706.11111111, 703.7       , 705.06666667, 699.04444444,\n",
       "        698.45555556, 698.75555556, 699.57777778, 699.07777778,\n",
       "        706.3       , 702.67777778, 706.66666667, 707.02222222,\n",
       "        710.11111111, 713.37777778, 709.83333333, 710.21111111,\n",
       "        710.41111111, 710.66666667, 707.21111111, 705.56666667,\n",
       "        705.66666667, 700.83333333, 698.47777778, 697.77777778,\n",
       "        698.05555556, 700.16666667, 701.83333333, 699.66666667,\n",
       "        701.7       , 700.31111111, 701.83333333, 702.21111111]),\n",
       " 6: array([574.34482759, 575.87931034, 576.26724138, 574.03448276,\n",
       "        577.68103448, 576.12931034, 576.95689655, 578.05172414,\n",
       "        577.8362069 , 573.84482759, 576.63793103, 574.93965517,\n",
       "        572.10344828, 576.28448276, 573.44827586, 574.82758621,\n",
       "        573.53448276, 573.65517241, 574.68103448, 574.77586207,\n",
       "        573.73275862, 576.94827586, 577.5       , 578.43965517,\n",
       "        578.67241379, 578.07758621, 578.23275862, 574.62931034,\n",
       "        575.75862069, 577.20689655, 576.65517241, 575.19827586,\n",
       "        574.30172414, 573.21551724, 574.97413793, 575.64655172,\n",
       "        576.29310345, 575.72413793, 572.6637931 , 574.49137931,\n",
       "        576.00862069, 574.52586207, 575.49137931, 575.92241379,\n",
       "        575.02586207, 573.76724138, 574.73275862, 574.60344828,\n",
       "        573.93965517, 573.67241379, 573.81034483, 573.29310345,\n",
       "        573.97413793, 572.02586207, 572.10344828, 573.20689655,\n",
       "        573.0862069 , 572.46551724, 570.3362069 , 575.62931034,\n",
       "        571.69827586, 569.87931034, 569.5       , 569.54310345,\n",
       "        567.75      , 569.90517241, 571.28448276, 572.19827586,\n",
       "        573.10344828, 573.11206897, 572.82758621, 574.82758621,\n",
       "        574.59482759, 574.06896552, 573.9137931 , 573.40517241,\n",
       "        572.72413793, 573.53448276, 572.74137931, 572.27586207,\n",
       "        569.20689655, 572.43965517, 573.31896552, 570.99137931,\n",
       "        572.37068966, 572.06896552, 571.01724138, 570.71551724,\n",
       "        571.12068966, 571.20689655, 570.49137931, 570.39655172,\n",
       "        569.05172414, 571.88793103, 571.99137931, 574.18965517,\n",
       "        565.87068966, 574.43965517, 569.37068966, 572.45689655,\n",
       "        567.84482759, 569.04310345, 570.06896552, 572.62068966,\n",
       "        573.29310345, 574.74137931, 576.07758621, 575.01724138,\n",
       "        572.79310345, 574.25      , 574.07758621, 573.5862069 ,\n",
       "        572.71551724, 572.43965517, 571.06896552, 571.65517241,\n",
       "        571.57758621, 569.18965517, 569.60344828, 570.95689655,\n",
       "        570.76724138, 570.25      , 570.55172414, 569.42241379,\n",
       "        571.93103448, 571.42241379, 571.61206897, 572.34482759,\n",
       "        573.67241379, 570.81896552, 571.94827586, 568.10344828,\n",
       "        572.40517241, 575.38793103, 574.17241379, 571.85344828,\n",
       "        570.31896552, 571.29310345, 570.07758621, 569.93103448,\n",
       "        571.9137931 , 569.44827586, 572.03448276, 570.84482759,\n",
       "        571.39655172, 568.36206897, 569.5862069 , 570.        ,\n",
       "        568.14655172, 567.13793103, 566.54310345, 567.93965517,\n",
       "        567.45689655, 567.74137931, 568.61206897, 567.43103448,\n",
       "        567.59482759, 569.44827586, 567.95689655, 566.67241379,\n",
       "        572.47413793, 567.73275862, 568.06896552, 570.02586207,\n",
       "        568.18103448, 567.72413793, 566.04310345, 567.12931034,\n",
       "        565.06896552, 568.43103448, 571.93965517, 573.56896552,\n",
       "        569.3362069 , 563.95689655, 574.99137931, 568.45689655,\n",
       "        565.18103448, 563.97413793, 564.28448276, 565.05172414,\n",
       "        564.73275862, 566.60344828, 570.85344828, 567.71551724,\n",
       "        570.93965517, 571.81034483, 574.        , 570.93965517,\n",
       "        573.81896552, 570.96551724, 571.52586207, 568.44827586,\n",
       "        568.52586207, 569.28448276, 569.37068966, 567.95689655,\n",
       "        569.02586207, 570.36206897, 568.97413793, 571.62068966,\n",
       "        572.65517241, 569.68103448, 569.34482759, 573.61206897,\n",
       "        569.30172414, 566.96551724, 569.1637931 , 569.71551724,\n",
       "        567.11206897, 567.70689655, 569.21551724, 568.04310345,\n",
       "        565.72413793, 571.98275862, 564.53448276, 571.63793103,\n",
       "        571.78448276, 572.04310345, 575.99137931, 574.71551724,\n",
       "        572.79310345, 572.56896552, 573.34482759, 573.81896552,\n",
       "        574.06034483, 573.9137931 , 576.9137931 , 576.31034483,\n",
       "        573.97413793, 575.63793103, 577.        , 575.31896552,\n",
       "        572.88793103, 574.32758621, 571.20689655, 573.63793103,\n",
       "        573.13793103, 571.37931034, 573.18965517, 571.64655172,\n",
       "        572.23275862, 573.38793103, 571.54310345, 570.5       ,\n",
       "        572.        , 572.14655172, 570.11206897, 572.72413793,\n",
       "        573.15517241, 572.69827586, 571.84482759, 573.05172414,\n",
       "        570.26724138, 569.36206897, 566.8362069 , 566.88793103,\n",
       "        567.73275862, 568.92241379, 569.93965517, 571.71551724,\n",
       "        573.18103448, 572.61206897, 573.09482759, 573.79310345,\n",
       "        575.25      , 577.84482759, 571.47413793, 572.39655172,\n",
       "        572.93103448, 571.79310345, 572.95689655, 571.71551724,\n",
       "        570.03448276, 569.6637931 , 572.99137931, 572.29310345,\n",
       "        577.28448276, 575.46551724, 578.0862069 , 576.57758621,\n",
       "        581.46551724, 579.84482759, 581.63793103, 578.53448276,\n",
       "        577.98275862, 576.77586207, 576.86206897, 576.25862069,\n",
       "        574.81896552, 574.73275862, 573.38793103, 573.24137931,\n",
       "        572.00862069, 575.09482759, 572.63793103, 572.19827586,\n",
       "        573.95689655, 572.0862069 , 573.75862069, 574.73275862]),\n",
       " 7: array([735.17567568, 731.2027027 , 730.93243243, 731.54054054,\n",
       "        734.86486486, 735.54054054, 733.89189189, 733.75675676,\n",
       "        737.33783784, 737.35135135, 734.77027027, 732.77027027,\n",
       "        731.5       , 736.17567568, 729.32432432, 726.12162162,\n",
       "        726.87837838, 722.94594595, 725.60810811, 729.14864865,\n",
       "        729.        , 730.55405405, 729.09459459, 735.35135135,\n",
       "        732.83783784, 730.71621622, 730.91891892, 734.40540541,\n",
       "        734.98648649, 732.71621622, 731.94594595, 733.35135135,\n",
       "        731.44594595, 734.14864865, 736.52702703, 734.2972973 ,\n",
       "        732.39189189, 732.54054054, 732.25675676, 730.86486486,\n",
       "        733.39189189, 731.47297297, 733.28378378, 731.        ,\n",
       "        731.85135135, 731.83783784, 731.02702703, 729.64864865,\n",
       "        733.10810811, 731.10810811, 729.78378378, 732.97297297,\n",
       "        734.97297297, 734.7972973 , 731.71621622, 735.90540541,\n",
       "        735.21621622, 735.13513514, 735.12162162, 736.86486486,\n",
       "        736.28378378, 732.21621622, 729.67567568, 730.89189189,\n",
       "        730.02702703, 729.2972973 , 730.51351351, 732.16216216,\n",
       "        731.51351351, 733.05405405, 734.62162162, 734.24324324,\n",
       "        733.17567568, 736.21621622, 733.83783784, 734.78378378,\n",
       "        734.77027027, 735.14864865, 732.89189189, 732.14864865,\n",
       "        735.67567568, 733.01351351, 731.95945946, 733.52702703,\n",
       "        735.55405405, 733.60810811, 731.08108108, 733.39189189,\n",
       "        733.33783784, 730.25675676, 731.18918919, 731.7972973 ,\n",
       "        732.18918919, 732.2027027 , 733.7972973 , 735.16216216,\n",
       "        736.82432432, 727.21621622, 722.91891892, 729.7972973 ,\n",
       "        730.64864865, 732.2972973 , 730.08108108, 734.43243243,\n",
       "        737.56756757, 734.7972973 , 735.86486486, 737.71621622,\n",
       "        737.86486486, 737.17567568, 736.01351351, 738.        ,\n",
       "        734.59459459, 734.18918919, 736.2972973 , 732.74324324,\n",
       "        732.75675676, 733.85135135, 730.39189189, 730.16216216,\n",
       "        733.18918919, 732.04054054, 731.22972973, 736.5       ,\n",
       "        736.97297297, 732.81081081, 735.91891892, 733.78378378,\n",
       "        735.41891892, 737.36486486, 733.74324324, 733.08108108,\n",
       "        730.85135135, 730.87837838, 734.60810811, 734.78378378,\n",
       "        732.16216216, 733.14864865, 732.83783784, 730.02702703,\n",
       "        730.90540541, 730.77027027, 732.74324324, 733.44594595,\n",
       "        731.60810811, 733.7972973 , 733.63513514, 730.48648649,\n",
       "        731.25675676, 732.2972973 , 726.37837838, 731.47297297,\n",
       "        730.83783784, 729.97297297, 733.55405405, 731.85135135,\n",
       "        729.01351351, 729.78378378, 731.62162162, 730.33783784,\n",
       "        731.36486486, 733.        , 733.97297297, 729.18918919,\n",
       "        733.71621622, 732.78378378, 732.21621622, 729.39189189,\n",
       "        732.89189189, 729.77027027, 730.32432432, 740.39189189,\n",
       "        739.91891892, 732.63513514, 736.85135135, 736.59459459,\n",
       "        737.21621622, 735.7972973 , 731.95945946, 731.78378378,\n",
       "        734.08108108, 733.94594595, 737.47297297, 738.39189189,\n",
       "        737.81081081, 737.33783784, 740.06756757, 741.71621622,\n",
       "        738.48648649, 740.35135135, 738.71621622, 735.67567568,\n",
       "        737.78378378, 735.28378378, 732.82432432, 735.82432432,\n",
       "        735.25675676, 735.41891892, 739.2972973 , 738.47297297,\n",
       "        738.18918919, 740.44594595, 737.2027027 , 738.33783784,\n",
       "        738.78378378, 737.16216216, 735.25675676, 734.08108108,\n",
       "        739.18918919, 733.82432432, 735.83783784, 737.75675676,\n",
       "        736.83783784, 736.05405405, 737.68918919, 735.98648649,\n",
       "        736.45945946, 733.10810811, 738.2972973 , 739.28378378,\n",
       "        740.83783784, 738.08108108, 735.87837838, 738.14864865,\n",
       "        737.14864865, 739.2027027 , 738.41891892, 739.75675676,\n",
       "        739.47297297, 734.93243243, 738.83783784, 736.05405405,\n",
       "        735.93243243, 737.24324324, 734.86486486, 735.2972973 ,\n",
       "        735.43243243, 737.02702703, 732.85135135, 735.14864865,\n",
       "        734.06756757, 731.82432432, 735.27027027, 733.94594595,\n",
       "        730.39189189, 734.51351351, 734.51351351, 732.24324324,\n",
       "        737.55405405, 738.40540541, 735.81081081, 736.28378378,\n",
       "        738.77027027, 736.5       , 731.68918919, 733.16216216,\n",
       "        735.27027027, 730.36486486, 732.01351351, 738.67567568,\n",
       "        735.18918919, 735.40540541, 734.63513514, 737.14864865,\n",
       "        739.22972973, 736.06756757, 739.27027027, 737.5       ,\n",
       "        739.83783784, 739.63513514, 739.25675676, 734.37837838,\n",
       "        734.51351351, 733.54054054, 732.47297297, 735.10810811,\n",
       "        736.59459459, 733.91891892, 742.32432432, 740.91891892,\n",
       "        742.59459459, 744.24324324, 742.7027027 , 742.54054054,\n",
       "        742.59459459, 739.7972973 , 742.56756757, 743.12162162,\n",
       "        740.33783784, 740.13513514, 735.41891892, 733.05405405,\n",
       "        735.51351351, 731.89189189, 735.98648649, 735.18918919,\n",
       "        735.86486486, 737.08108108, 737.08108108, 738.41891892]),\n",
       " 8: array([524.63109049, 522.9025522 , 523.32946636, 522.77726218,\n",
       "        524.86078886, 525.21113689, 526.63341067, 524.225058  ,\n",
       "        527.49883991, 527.27146172, 528.38979118, 525.17865429,\n",
       "        524.23665893, 527.00928074, 522.96983759, 521.86078886,\n",
       "        522.90023202, 521.57540603, 525.0324826 , 523.60788863,\n",
       "        524.63805104, 525.48027842, 525.0812065 , 526.9350348 ,\n",
       "        523.30162413, 525.6450116 , 525.39443155, 526.34570766,\n",
       "        525.50812065, 526.25986079, 522.51740139, 524.35266821,\n",
       "        525.58932715, 523.97215777, 524.45011601, 526.21345708,\n",
       "        524.34106729, 525.47331787, 523.78190255, 523.75174014,\n",
       "        523.54988399, 524.53596288, 523.28306265, 524.51972158,\n",
       "        524.99071926, 524.29234339, 524.83758701, 523.96287703,\n",
       "        525.90487239, 523.82598608, 524.9837587 , 523.35730858,\n",
       "        525.05336427, 522.37354988, 524.2900232 , 524.47331787,\n",
       "        528.22273782, 524.46171694, 523.21113689, 526.37587007,\n",
       "        526.77030162, 524.05336427, 522.17865429, 523.57772622,\n",
       "        522.63805104, 522.11832947, 523.27842227, 523.99303944,\n",
       "        524.5800464 , 524.6450116 , 526.61948956, 526.47563805,\n",
       "        525.00232019, 527.47795824, 525.76334107, 525.36658933,\n",
       "        526.29930394, 525.28074246, 525.50348028, 524.39907193,\n",
       "        525.65429234, 524.75406032, 523.64037123, 524.89559165,\n",
       "        523.72157773, 525.45939675, 522.82366589, 525.2575406 ,\n",
       "        522.69141531, 524.23897912, 522.96983759, 525.58236659,\n",
       "        523.52436195, 525.13225058, 525.29930394, 526.89327146,\n",
       "        528.36890951, 528.72157773, 524.2737819 , 524.92807425,\n",
       "        524.92575406, 523.30394432, 524.27842227, 525.20417633,\n",
       "        527.43851508, 527.21809745, 526.48259861, 527.07424594,\n",
       "        526.06032483, 527.09280742, 526.29234339, 527.86774942,\n",
       "        525.66821346, 525.70765661, 527.82134571, 526.41763341,\n",
       "        525.6450116 , 527.3225058 , 526.00928074, 526.62412993,\n",
       "        527.5962877 , 525.95591647, 527.50812065, 527.19025522,\n",
       "        529.61020882, 525.84918794, 526.04176334, 529.05800464,\n",
       "        528.82598608, 527.08352668, 523.43155452, 524.67285383,\n",
       "        525.28538283, 526.30394432, 527.47331787, 527.26682135,\n",
       "        526.02320186, 526.83294664, 527.26218097, 526.50812065,\n",
       "        527.38051044, 526.96055684, 527.5962877 , 528.74709977,\n",
       "        527.46403712, 528.0812065 , 526.97911833, 527.6612529 ,\n",
       "        526.45011601, 525.93039443, 525.41067285, 527.16937355,\n",
       "        525.46171694, 527.02088167, 527.73085847, 526.72853828,\n",
       "        525.75406032, 526.6287703 , 528.42227378, 527.09280742,\n",
       "        527.81670534, 528.83526682, 526.01856148, 527.33410673,\n",
       "        527.44083527, 527.73085847, 526.22737819, 526.12296984,\n",
       "        527.56844548, 525.83062645, 526.48491879, 531.24361949,\n",
       "        530.51508121, 530.5800464 , 531.72853828, 530.01160093,\n",
       "        532.55916473, 529.16009281, 523.27146172, 524.05568445,\n",
       "        524.22969838, 525.50348028, 526.86542923, 527.13457077,\n",
       "        527.67285383, 528.43851508, 530.01160093, 530.5638051 ,\n",
       "        530.06264501, 529.18097448, 530.87935035, 528.9187935 ,\n",
       "        529.19953596, 530.08352668, 529.31322506, 531.16473318,\n",
       "        530.20417633, 530.45707657, 532.46403712, 530.00464037,\n",
       "        530.94431555, 532.28538283, 529.43387471, 530.28074246,\n",
       "        529.73085847, 529.7424594 , 528.7099768 , 529.42459397,\n",
       "        529.80278422, 528.10440835, 529.33178654, 528.37587007,\n",
       "        529.18097448, 528.09512761, 528.76798144, 532.04640371,\n",
       "        529.31090487, 529.14153132, 530.85846868, 531.08352668,\n",
       "        531.02552204, 528.29698376, 529.91415313, 528.03016241,\n",
       "        530.97679814, 530.29234339, 531.82598608, 532.05104408,\n",
       "        532.58700696, 531.50348028, 533.18561485, 532.99303944,\n",
       "        531.89327146, 532.00464037, 530.69141531, 529.42227378,\n",
       "        530.63573086, 529.74941995, 529.80046404, 530.20185615,\n",
       "        530.05800464, 530.05568445, 530.26450116, 529.04176334,\n",
       "        528.85846868, 530.61948956, 528.90719258, 529.93967517,\n",
       "        529.60324826, 530.20649652, 528.51044084, 528.71229698,\n",
       "        529.16937355, 527.81670534, 528.89559165, 529.25522042,\n",
       "        530.07888631, 528.45939675, 529.24825986, 530.9350348 ,\n",
       "        529.80974478, 530.05104408, 530.70533643, 530.74941995,\n",
       "        533.87006961, 531.03944316, 530.02552204, 530.41531323,\n",
       "        530.82598608, 533.22273782, 531.63341067, 528.19025522,\n",
       "        528.27610209, 526.34106729, 526.19025522, 530.83526682,\n",
       "        530.21345708, 528.79118329, 530.53364269, 534.16241299,\n",
       "        534.12761021, 536.18097448, 534.32714617, 534.71229698,\n",
       "        532.0487239 , 532.38051044, 531.68445476, 531.94431555,\n",
       "        531.89095128, 532.42227378, 531.61020882, 531.48027842,\n",
       "        533.48027842, 531.47099768, 531.53364269, 531.81438515,\n",
       "        533.00464037, 533.42691415, 532.32946636, 532.66589327]),\n",
       " 9: array([671.42857143, 669.23308271, 668.58646617, 669.33082707,\n",
       "        668.38345865, 670.42105263, 670.84210526, 670.61654135,\n",
       "        675.18045113, 674.54135338, 675.79699248, 671.92481203,\n",
       "        670.77443609, 675.09022556, 669.79699248, 667.06766917,\n",
       "        666.15789474, 666.27819549, 667.19548872, 666.95488722,\n",
       "        668.2406015 , 670.17293233, 670.56390977, 670.95488722,\n",
       "        672.63157895, 671.06766917, 672.93233083, 671.7593985 ,\n",
       "        672.93233083, 671.2481203 , 668.7443609 , 670.21804511,\n",
       "        671.53383459, 671.77443609, 673.85714286, 671.12030075,\n",
       "        668.88721805, 670.27067669, 667.84210526, 669.81954887,\n",
       "        668.64661654, 668.57894737, 670.15789474, 669.38345865,\n",
       "        669.72932331, 669.70676692, 669.87969925, 668.62406015,\n",
       "        670.21052632, 670.39097744, 668.48120301, 667.05263158,\n",
       "        669.12030075, 670.79699248, 668.84210526, 670.91729323,\n",
       "        672.39849624, 670.30827068, 671.63157895, 676.78195489,\n",
       "        675.67669173, 670.96240602, 667.16541353, 666.33082707,\n",
       "        667.36842105, 667.2556391 , 667.72932331, 670.76691729,\n",
       "        669.39097744, 669.23308271, 672.38345865, 673.23308271,\n",
       "        670.66917293, 672.51879699, 672.92481203, 672.39849624,\n",
       "        672.13533835, 673.11278195, 671.03759398, 670.70676692,\n",
       "        671.7518797 , 671.21804511, 669.90977444, 670.4887218 ,\n",
       "        671.10526316, 670.23308271, 668.26315789, 668.7518797 ,\n",
       "        669.39849624, 669.06015038, 668.40601504, 670.16541353,\n",
       "        669.68421053, 668.0075188 , 670.95488722, 671.44360902,\n",
       "        674.30827068, 668.82706767, 669.76691729, 671.08270677,\n",
       "        668.56390977, 668.31578947, 667.79699248, 671.84210526,\n",
       "        673.07518797, 672.22556391, 674.56390977, 674.83458647,\n",
       "        672.7443609 , 671.88721805, 673.04511278, 674.15037594,\n",
       "        674.87218045, 671.21052632, 673.41353383, 674.03759398,\n",
       "        671.22556391, 673.45864662, 672.83458647, 670.72932331,\n",
       "        671.87969925, 671.27819549, 670.73684211, 673.09022556,\n",
       "        671.02255639, 669.48120301, 673.32330827, 676.06015038,\n",
       "        675.33834586, 672.77443609, 666.85714286, 668.87218045,\n",
       "        668.98496241, 671.7443609 , 671.64661654, 672.14285714,\n",
       "        671.73684211, 671.33834586, 672.67669173, 671.54887218,\n",
       "        671.03007519, 672.69172932, 672.95488722, 673.97744361,\n",
       "        672.95488722, 673.09022556, 673.98496241, 671.69172932,\n",
       "        670.97744361, 670.81954887, 668.2406015 , 668.66165414,\n",
       "        671.10526316, 672.12030075, 671.57142857, 671.13533835,\n",
       "        672.2556391 , 672.33834586, 673.61654135, 675.53383459,\n",
       "        673.07518797, 673.62406015, 674.38345865, 672.69172932,\n",
       "        673.76691729, 674.66917293, 672.79699248, 668.51879699,\n",
       "        669.70676692, 670.92481203, 669.77443609, 676.21052632,\n",
       "        677.60150376, 676.10526316, 676.4887218 , 677.57894737,\n",
       "        679.87218045, 673.69924812, 666.31578947, 668.9924812 ,\n",
       "        669.30827068, 671.15037594, 670.90225564, 671.61654135,\n",
       "        675.65413534, 675.57894737, 678.15037594, 680.36842105,\n",
       "        681.06015038, 678.40601504, 677.57142857, 677.72180451,\n",
       "        677.60150376, 678.87218045, 676.47368421, 675.36842105,\n",
       "        678.48120301, 677.43609023, 677.2481203 , 678.2406015 ,\n",
       "        678.27819549, 677.98496241, 678.13533835, 676.30075188,\n",
       "        675.84210526, 676.16541353, 674.98496241, 674.54135338,\n",
       "        675.66165414, 676.90977444, 673.87218045, 673.72180451,\n",
       "        674.63157895, 676.29323308, 677.32330827, 676.09774436,\n",
       "        674.85714286, 674.7518797 , 680.06766917, 680.09022556,\n",
       "        678.56390977, 676.76691729, 675.30827068, 675.13533835,\n",
       "        676.98496241, 679.06766917, 679.62406015, 680.21804511,\n",
       "        679.63909774, 680.39097744, 679.03007519, 679.0075188 ,\n",
       "        679.06015038, 677.79699248, 676.78195489, 676.90225564,\n",
       "        675.84962406, 677.15789474, 674.47368421, 674.72932331,\n",
       "        676.38345865, 673.19548872, 675.06015038, 676.27819549,\n",
       "        673.69924812, 674.69172932, 675.64661654, 676.04511278,\n",
       "        677.55639098, 676.87218045, 675.71428571, 676.2556391 ,\n",
       "        676.19548872, 676.22556391, 675.5112782 , 673.84210526,\n",
       "        673.58646617, 676.15789474, 675.30827068, 676.45864662,\n",
       "        676.90225564, 674.97744361, 675.63909774, 673.7518797 ,\n",
       "        678.05263158, 679.28571429, 674.5037594 , 677.7518797 ,\n",
       "        682.63909774, 682.78947368, 677.71428571, 673.48120301,\n",
       "        672.21052632, 673.37593985, 672.87969925, 677.07518797,\n",
       "        680.63157895, 675.03007519, 680.54135338, 681.69172932,\n",
       "        684.07518797, 685.06766917, 682.33082707, 684.13533835,\n",
       "        683.32330827, 679.28571429, 680.39849624, 680.9924812 ,\n",
       "        679.2556391 , 681.39849624, 679.70676692, 677.95488722,\n",
       "        680.03007519, 677.69924812, 679.21052632, 680.54135338,\n",
       "        677.51879699, 677.85714286, 681.03007519, 678.09774436]),\n",
       " 10: array([742.2875, 737.6625, 736.625 , 736.5125, 732.525 , 737.8625,\n",
       "        735.175 , 737.3625, 738.7125, 744.25  , 738.5875, 740.2875,\n",
       "        739.275 , 733.85  , 733.75  , 729.625 , 731.6   , 739.4625,\n",
       "        735.2125, 736.4875, 735.975 , 738.9625, 738.175 , 736.45  ,\n",
       "        737.7125, 737.675 , 740.5125, 741.45  , 741.4875, 740.6125,\n",
       "        740.0375, 739.9   , 737.525 , 740.6125, 737.4   , 738.4125,\n",
       "        740.4625, 736.5   , 738.9875, 738.3125, 741.5125, 736.1375,\n",
       "        738.25  , 741.5125, 738.4   , 741.225 , 740.7625, 741.825 ,\n",
       "        739.5125, 741.175 , 740.55  , 741.025 , 737.9625, 739.475 ,\n",
       "        741.675 , 741.9375, 742.0625, 742.6875, 743.175 , 743.8625,\n",
       "        741.2   , 740.7875, 739.7625, 737.475 , 735.    , 742.1875,\n",
       "        738.6875, 741.7   , 742.4375, 741.375 , 741.5875, 742.5875,\n",
       "        743.1   , 742.3875, 742.975 , 741.55  , 741.725 , 742.8   ,\n",
       "        741.325 , 740.4875, 743.925 , 740.475 , 742.8375, 740.7   ,\n",
       "        742.75  , 741.775 , 741.5875, 738.2125, 740.2   , 740.725 ,\n",
       "        744.3625, 740.1625, 741.6375, 742.575 , 742.675 , 742.7125,\n",
       "        757.8125, 745.025 , 743.6   , 739.425 , 736.925 , 738.425 ,\n",
       "        738.85  , 743.875 , 745.55  , 745.1875, 748.125 , 744.575 ,\n",
       "        746.7875, 746.3625, 744.6625, 745.85  , 747.2   , 747.425 ,\n",
       "        745.05  , 745.7125, 747.5125, 745.8125, 745.225 , 745.5625,\n",
       "        742.8375, 744.8125, 745.15  , 749.7625, 744.85  , 744.825 ,\n",
       "        745.1125, 747.625 , 750.175 , 742.4375, 740.3   , 741.3   ,\n",
       "        743.8625, 746.9375, 743.9625, 745.6625, 746.9875, 747.125 ,\n",
       "        746.2625, 746.8625, 745.125 , 747.4125, 747.5   , 749.775 ,\n",
       "        746.65  , 745.2875, 747.55  , 745.625 , 743.125 , 745.225 ,\n",
       "        745.8375, 743.975 , 746.6375, 744.9375, 745.4625, 746.3875,\n",
       "        747.2875, 751.0875, 748.475 , 749.075 , 747.95  , 746.5375,\n",
       "        750.7125, 746.6625, 746.775 , 748.15  , 747.1625, 750.5   ,\n",
       "        745.0875, 747.175 , 748.875 , 750.0375, 757.6375, 755.575 ,\n",
       "        757.4375, 748.825 , 750.7125, 744.1125, 742.4375, 743.0125,\n",
       "        747.25  , 749.95  , 749.    , 748.875 , 749.575 , 751.9875,\n",
       "        751.9125, 753.225 , 754.8375, 757.1625, 757.2   , 754.725 ,\n",
       "        752.35  , 753.6   , 751.9375, 753.3625, 754.5625, 755.1625,\n",
       "        753.6125, 755.2125, 754.6375, 754.175 , 752.9875, 754.45  ,\n",
       "        751.625 , 753.425 , 751.4625, 753.075 , 749.65  , 751.4125,\n",
       "        752.7125, 748.825 , 750.175 , 750.3   , 753.4   , 748.35  ,\n",
       "        752.05  , 749.8   , 752.7375, 753.475 , 751.1375, 748.7125,\n",
       "        750.    , 750.0875, 748.375 , 752.95  , 752.3625, 751.9   ,\n",
       "        751.475 , 754.175 , 754.2875, 752.525 , 751.2875, 750.2125,\n",
       "        750.7625, 748.7125, 747.7625, 751.1875, 749.4375, 747.1375,\n",
       "        750.    , 749.3   , 745.9375, 749.55  , 748.9   , 748.3   ,\n",
       "        751.4875, 749.75  , 749.975 , 748.1   , 750.6625, 750.575 ,\n",
       "        749.6625, 751.8   , 748.7625, 749.95  , 748.2   , 749.4875,\n",
       "        749.725 , 750.2625, 750.725 , 749.375 , 748.4375, 748.65  ,\n",
       "        755.9875, 751.8625, 748.175 , 747.6875, 750.775 , 747.1375,\n",
       "        746.1375, 747.1875, 743.175 , 743.4875, 749.8625, 747.875 ,\n",
       "        749.5875, 748.9625, 750.775 , 753.3875, 753.575 , 755.8375,\n",
       "        756.125 , 752.0375, 751.075 , 753.85  , 750.675 , 753.4   ,\n",
       "        754.1125, 751.8875, 753.475 , 754.55  , 752.6   , 752.5375,\n",
       "        752.85  , 753.1   , 755.0875, 752.4125, 754.0625, 756.35  ]),\n",
       " 11: array([766.25    , 764.015625, 766.875   , 766.796875, 771.078125,\n",
       "        766.578125, 767.078125, 769.734375, 772.046875, 759.671875,\n",
       "        764.015625, 766.5     , 762.234375, 765.234375, 764.015625,\n",
       "        759.75    , 763.1875  , 760.578125, 767.484375, 763.078125,\n",
       "        763.625   , 769.03125 , 769.0625  , 775.265625, 769.0625  ,\n",
       "        769.171875, 770.15625 , 769.4375  , 769.      , 769.609375,\n",
       "        770.078125, 769.359375, 766.6875  , 767.890625, 769.34375 ,\n",
       "        769.46875 , 771.390625, 769.140625, 765.296875, 766.109375,\n",
       "        765.671875, 765.46875 , 767.65625 , 768.671875, 765.859375,\n",
       "        767.34375 , 767.3125  , 769.140625, 769.6875  , 767.40625 ,\n",
       "        768.34375 , 765.828125, 770.171875, 766.609375, 767.296875,\n",
       "        761.828125, 764.59375 , 761.6875  , 763.609375, 766.953125,\n",
       "        767.421875, 763.53125 , 763.09375 , 763.59375 , 759.296875,\n",
       "        764.      , 764.453125, 766.484375, 766.671875, 768.890625,\n",
       "        773.78125 , 770.09375 , 771.71875 , 772.890625, 768.546875,\n",
       "        768.953125, 770.921875, 769.359375, 769.453125, 767.75    ,\n",
       "        766.828125, 763.765625, 765.546875, 764.953125, 764.90625 ,\n",
       "        762.75    , 764.234375, 766.09375 , 762.40625 , 763.734375,\n",
       "        763.15625 , 765.859375, 761.46875 , 765.875   , 766.234375,\n",
       "        771.03125 , 763.828125, 769.328125, 762.875   , 769.6875  ,\n",
       "        767.375   , 766.796875, 768.484375, 769.234375, 769.984375,\n",
       "        771.03125 , 773.359375, 774.109375, 772.578125, 771.1875  ,\n",
       "        774.046875, 776.6875  , 768.      , 768.234375, 772.640625,\n",
       "        766.515625, 765.859375, 770.3125  , 765.34375 , 767.03125 ,\n",
       "        768.234375, 766.109375, 766.640625, 766.3125  , 767.      ,\n",
       "        764.3125  , 764.71875 , 770.84375 , 772.359375, 771.34375 ,\n",
       "        767.0625  , 764.21875 , 765.890625, 772.125   , 771.5     ,\n",
       "        771.8125  , 769.234375, 770.140625, 768.484375, 768.671875,\n",
       "        771.      , 768.1875  , 771.46875 , 772.5625  , 770.609375,\n",
       "        769.296875, 768.875   , 767.375   , 765.140625, 763.609375,\n",
       "        762.28125 , 765.5625  , 762.53125 , 764.65625 , 766.703125,\n",
       "        766.0625  , 759.96875 , 765.015625, 767.65625 , 763.234375,\n",
       "        766.453125, 766.75    , 766.703125, 763.78125 , 765.421875,\n",
       "        764.984375, 761.671875, 762.296875, 766.921875, 761.984375,\n",
       "        763.296875, 771.890625, 766.46875 , 762.328125, 766.09375 ,\n",
       "        770.40625 , 769.921875, 770.578125, 760.5625  , 763.34375 ,\n",
       "        763.15625 , 766.96875 , 769.890625, 769.859375, 770.125   ,\n",
       "        770.8125  , 774.78125 , 775.546875, 773.21875 , 771.5625  ,\n",
       "        774.875   , 769.09375 , 769.3125  , 769.21875 , 765.65625 ,\n",
       "        772.90625 , 769.203125, 766.421875, 770.4375  , 766.09375 ,\n",
       "        768.015625, 770.171875, 764.      , 767.96875 , 767.34375 ,\n",
       "        766.53125 , 763.71875 , 763.984375, 767.125   , 763.9375  ,\n",
       "        764.5     , 765.171875, 766.859375, 763.78125 , 762.515625,\n",
       "        769.      , 764.796875, 763.28125 , 769.390625, 773.859375,\n",
       "        772.953125, 766.828125, 770.28125 , 770.53125 , 775.234375,\n",
       "        770.859375, 774.109375, 775.75    , 775.6875  , 771.5625  ,\n",
       "        777.125   , 776.828125, 773.328125, 772.921875, 771.46875 ,\n",
       "        771.5     , 772.796875, 771.578125, 769.578125, 772.15625 ,\n",
       "        771.390625, 768.21875 , 769.984375, 768.25    , 768.234375,\n",
       "        770.421875, 767.65625 , 769.96875 , 766.5625  , 771.015625,\n",
       "        765.5625  , 768.75    , 769.21875 , 769.5     , 765.109375,\n",
       "        768.1875  , 766.875   , 764.9375  , 765.      , 772.109375,\n",
       "        770.71875 , 772.828125, 773.640625, 773.703125, 773.609375,\n",
       "        773.421875, 774.5     , 770.59375 , 771.90625 , 770.5625  ,\n",
       "        773.0625  , 769.734375, 767.140625, 765.9375  , 768.3125  ,\n",
       "        774.1875  , 775.75    , 774.921875, 778.890625, 780.234375,\n",
       "        782.796875, 782.328125, 783.46875 , 782.21875 , 777.953125,\n",
       "        776.1875  , 778.8125  , 775.75    , 775.8125  , 778.71875 ,\n",
       "        773.84375 , 774.75    , 775.15625 , 773.390625, 775.671875,\n",
       "        776.984375, 775.265625, 775.328125, 775.03125 , 776.40625 ]),\n",
       " 12: array([692.44523899, 690.18441852, 689.8554761 , 689.74482499,\n",
       "        691.21452766, 691.1129093 , 691.95558901, 691.08091833,\n",
       "        692.41851712, 691.51147911, 690.91832894, 690.63643207,\n",
       "        688.47948814, 691.25065864, 689.85735792, 688.24388408,\n",
       "        688.09032744, 687.85773429, 689.67068122, 689.58298833,\n",
       "        690.37749341, 691.09333835, 690.84117426, 693.13737298,\n",
       "        691.39480617, 690.67482123, 690.79525781, 690.98042906,\n",
       "        690.80353782, 690.85208882, 690.11140384, 690.64471208,\n",
       "        690.14640572, 689.99247271, 689.9894618 , 690.45577719,\n",
       "        690.34926609, 689.58938653, 689.06849831, 689.63680843,\n",
       "        689.91870531, 689.45238991, 689.82611968, 690.68084306,\n",
       "        690.39217162, 690.47421904, 690.64508845, 690.15844938,\n",
       "        690.62100113, 690.44975536, 690.56191193, 689.77982687,\n",
       "        689.78283779, 688.63567934, 688.87467068, 689.88031615,\n",
       "        688.57771923, 688.50922093, 688.8185924 , 691.45088446,\n",
       "        690.89123071, 689.88069251, 687.09032744, 687.28227324,\n",
       "        686.74181408, 687.06097102, 687.28340233, 688.70944674,\n",
       "        689.66654121, 689.58976289, 690.89800527, 691.17049304,\n",
       "        689.88558525, 690.28528416, 690.82197968, 690.23899134,\n",
       "        690.48249906, 689.97064358, 689.27060595, 689.00075273,\n",
       "        688.67256304, 688.53895371, 688.39932254, 688.91268348,\n",
       "        689.49228453, 688.79488145, 688.17312759, 688.56304102,\n",
       "        688.4230335 , 688.91908167, 688.6255175 , 688.99962364,\n",
       "        688.38727889, 688.61460294, 689.46480994, 691.1825367 ,\n",
       "        692.98193451, 690.15769665, 688.92660896, 688.65525028,\n",
       "        688.048551  , 687.90176891, 687.30711329, 689.32292059,\n",
       "        691.02935642, 691.2036131 , 690.6635303 , 691.4441099 ,\n",
       "        690.46443357, 690.94843809, 691.05833647, 692.09785472,\n",
       "        691.56003011, 690.65525028, 690.97440723, 690.64508845,\n",
       "        690.11215657, 690.82009785, 690.39179526, 690.0158073 ,\n",
       "        690.11667294, 690.67369213, 690.38878434, 692.03650734,\n",
       "        689.21565676, 689.39894618, 691.66164848, 692.92133986,\n",
       "        693.03951825, 690.81558148, 688.65939029, 689.07866014,\n",
       "        689.28227324, 691.0538201 , 691.41400075, 691.35415883,\n",
       "        691.78095597, 690.60105382, 689.9894618 , 690.35528792,\n",
       "        690.48400452, 691.12457659, 691.35302973, 691.96537448,\n",
       "        692.16748212, 691.5664283 , 691.92660896, 690.83515243,\n",
       "        689.40459164, 689.32517877, 689.25442228, 689.47685359,\n",
       "        689.9894618 , 690.36808431, 690.39292435, 689.7911178 ,\n",
       "        690.54610463, 690.70380128, 691.19232217, 692.05306737,\n",
       "        692.64998118, 691.89649981, 691.69439217, 691.73805043,\n",
       "        691.77305231, 691.78133233, 690.93601807, 689.35980429,\n",
       "        689.77643959, 690.50169364, 690.7384268 , 694.05720738,\n",
       "        695.0801656 , 694.20436583, 693.14076026, 692.26947685,\n",
       "        692.66917576, 690.27399323, 687.68724125, 688.19269853,\n",
       "        688.16108393, 689.04252917, 689.28039142, 689.72374859,\n",
       "        691.44373353, 692.37335341, 692.92849078, 693.38916071,\n",
       "        693.96800903, 692.89537072, 693.08957471, 692.20737674,\n",
       "        692.05946556, 691.94429808, 692.28114415, 692.17576214,\n",
       "        692.85773429, 692.78547234, 693.24388408, 693.35604065,\n",
       "        692.73993225, 693.15016936, 692.81144148, 693.02672187,\n",
       "        692.15619119, 691.73692134, 691.91569439, 691.98607452,\n",
       "        691.51449003, 691.60707565, 691.68949944, 691.08957471,\n",
       "        691.66277757, 692.66729394, 694.77756869, 692.46179902,\n",
       "        692.21151675, 693.27775687, 695.17877305, 694.97515995,\n",
       "        694.33684607, 693.30673692, 693.45389537, 692.01392548,\n",
       "        693.40910802, 694.20812947, 695.50508092, 695.52502823,\n",
       "        695.47196086, 696.33421152, 695.87391795, 695.65675574,\n",
       "        695.22130222, 694.49190817, 693.99209635, 693.91682349,\n",
       "        693.81031238, 693.99736545, 694.23823861, 693.50922093,\n",
       "        694.1339857 , 693.92924351, 692.96273993, 693.27587505,\n",
       "        693.33421152, 693.53142642, 693.69363944, 693.93978171,\n",
       "        693.251035  , 694.23296951, 693.9736545 , 693.43319533,\n",
       "        693.00301091, 693.13360933, 692.198344  , 692.33270606,\n",
       "        692.66164848, 693.30222055, 693.80767783, 694.66277757,\n",
       "        694.6529921 , 694.5769665 , 694.08844562, 693.80993602,\n",
       "        696.14640572, 694.02070004, 692.69363944, 693.65336846,\n",
       "        694.90590892, 695.42566805, 694.1287166 , 692.29130598,\n",
       "        691.58901016, 691.91494166, 692.24313135, 694.1023711 ,\n",
       "        695.47685359, 694.74407226, 696.07263831, 697.21678585,\n",
       "        699.57357922, 699.68009033, 698.61799021, 697.88257433,\n",
       "        697.39367708, 696.62965751, 696.10048927, 696.0959729 ,\n",
       "        695.99962364, 696.96951449, 696.79939782, 695.33270606,\n",
       "        695.95709447, 695.45427174, 695.42943169, 696.19984945,\n",
       "        695.51787731, 695.68724125, 696.22506586, 695.9578472 ]),\n",
       " 13: array([779.44836321, 776.48226812, 775.75370226, 775.42848792,\n",
       "        777.13737334, 777.5185113 , 778.87451286, 778.19290725,\n",
       "        779.5317615 , 778.58690569, 777.3055339 , 776.15705378,\n",
       "        773.70518316, 778.63561964, 775.22876072, 772.34586906,\n",
       "        772.45596259, 772.18706157, 774.84508963, 773.437841  ,\n",
       "        774.6710834 , 776.54481684, 776.61009353, 781.05494934,\n",
       "        777.48070928, 776.583788  , 776.76714731, 776.30105222,\n",
       "        776.59080281, 776.15198753, 776.08320343, 775.29033515,\n",
       "        774.56098987, 775.16777085, 775.56995323, 776.07443492,\n",
       "        777.00740452, 775.81858924, 774.624318  , 774.6944661 ,\n",
       "        775.10814497, 774.30397506, 774.92868277, 775.65491037,\n",
       "        775.16835542, 775.58359314, 775.6728371 , 776.        ,\n",
       "        776.3774357 , 775.8994544 , 775.55066251, 774.91679657,\n",
       "        774.41816056, 773.20323461, 773.43998441, 774.28117693,\n",
       "        772.71102884, 772.94427124, 773.61983632, 776.39185503,\n",
       "        774.29949337, 772.64984412, 770.35911925, 770.21531567,\n",
       "        769.31449727, 770.32112237, 770.57404521, 771.87392829,\n",
       "        773.0872954 , 773.7416212 , 775.81780982, 776.46200312,\n",
       "        774.91212003, 775.2248636 , 775.48168355, 775.39848012,\n",
       "        775.79812938, 775.17166797, 773.87529228, 773.75058457,\n",
       "        773.49590803, 772.9413484 , 772.6829696 , 772.85463757,\n",
       "        773.08417771, 772.55046765, 771.79384256, 771.94485581,\n",
       "        771.92673422, 771.98869836, 771.69992206, 772.09002338,\n",
       "        772.12996882, 772.50389712, 773.72057677, 775.10989867,\n",
       "        775.79637568, 771.84333593, 770.67731878, 772.6089244 ,\n",
       "        770.17731878, 771.06586126, 770.22466875, 773.1829696 ,\n",
       "        774.26890101, 773.82833203, 774.14828527, 774.89088075,\n",
       "        774.36282151, 774.69953235, 775.11632892, 776.00779423,\n",
       "        773.82696804, 773.03332034, 773.5872954 , 773.33476228,\n",
       "        772.67030398, 773.13347623, 772.77630553, 772.82424006,\n",
       "        773.07969602, 772.98850351, 773.12392829, 774.45362432,\n",
       "        771.95323461, 771.3589244 , 774.20693687, 776.10853468,\n",
       "        775.479735  , 773.55767732, 771.2332424 , 771.43141076,\n",
       "        771.89497272, 774.56605612, 773.90081839, 774.04754482,\n",
       "        773.07424006, 773.20109119, 772.18374903, 771.90997662,\n",
       "        772.66679657, 772.74961029, 773.30319564, 774.28234606,\n",
       "        774.23402182, 773.61106781, 773.68706157, 772.23090413,\n",
       "        770.8589244 , 770.4849961 , 769.83807482, 770.73226812,\n",
       "        770.68335931, 771.0317615 , 771.97388932, 771.69349182,\n",
       "        771.73947779, 772.60795012, 772.89750585, 773.57950117,\n",
       "        774.10872954, 773.66718628, 773.2817615 , 773.15510522,\n",
       "        773.61184723, 773.46336711, 771.95011691, 770.63074825,\n",
       "        770.89282931, 771.51169135, 771.68433359, 776.28390491,\n",
       "        776.39555729, 773.01617303, 777.1997272 , 774.47876072,\n",
       "        774.80611847, 770.40413094, 766.99376461, 768.68803585,\n",
       "        768.75915822, 769.95654716, 771.84275136, 771.13678878,\n",
       "        772.86165238, 774.05455963, 776.26208106, 775.73382697,\n",
       "        776.24318005, 775.42595479, 775.3941933 , 773.60561185,\n",
       "        773.55280592, 773.6208106 , 773.28215121, 774.10307872,\n",
       "        774.51656274, 774.94056898, 775.65568979, 775.85600156,\n",
       "        775.69699922, 775.83164458, 774.90685892, 775.59158223,\n",
       "        774.291894  , 773.60132502, 773.89341387, 773.66738114,\n",
       "        773.20752143, 772.78273578, 772.7583788 , 772.98908807,\n",
       "        772.95576773, 774.97272019, 775.01071707, 774.2464926 ,\n",
       "        774.05728761, 775.33476228, 778.35171473, 778.28936087,\n",
       "        776.50643024, 775.38717849, 775.23304754, 774.63113796,\n",
       "        776.15530008, 776.67965705, 777.75331255, 778.64068589,\n",
       "        778.0520265 , 778.57501949, 778.79988309, 778.75876851,\n",
       "        777.21667966, 776.83398285, 775.82599376, 775.70771629,\n",
       "        775.91601715, 775.91952455, 775.76169135, 775.32560405,\n",
       "        775.31449727, 775.21726422, 774.729735  , 774.73441154,\n",
       "        774.81352299, 775.51890101, 775.22895557, 775.14789556,\n",
       "        775.23168355, 776.2733827 , 776.28897116, 775.50116913,\n",
       "        775.05085737, 774.9193297 , 773.24707716, 773.95498831,\n",
       "        774.06274357, 774.59918161, 775.2685113 , 776.86515978,\n",
       "        776.5806703 , 776.30066251, 777.1895947 , 776.99785659,\n",
       "        779.73850351, 778.32014809, 775.75584567, 776.4964926 ,\n",
       "        779.39750585, 779.07248636, 776.54325799, 773.69232268,\n",
       "        772.93219018, 773.4329696 , 774.5754092 , 776.76071707,\n",
       "        779.12022603, 777.85132502, 780.62704599, 781.6309431 ,\n",
       "        784.72622759, 785.09976617, 783.67088854, 782.73090413,\n",
       "        782.28273578, 780.8893219 , 780.79637568, 780.43433359,\n",
       "        779.8840608 , 780.36574435, 778.23304754, 777.02572097,\n",
       "        777.74279034, 777.91952455, 778.17517537, 778.71453624,\n",
       "        778.45420889, 778.27630553, 779.1022993 , 778.96706937]),\n",
       " 14: array([772.62105263, 764.09473684, 761.66315789, 760.90526316,\n",
       "        761.6       , 763.38947368, 761.48421053, 762.51578947,\n",
       "        765.13684211, 768.        , 765.83157895, 763.48421053,\n",
       "        761.35789474, 764.70526316, 760.43157895, 758.56842105,\n",
       "        756.13684211, 760.46315789, 759.47368421, 759.55789474,\n",
       "        758.75789474, 759.72631579, 761.        , 758.50526316,\n",
       "        761.24210526, 758.8       , 760.07368421, 762.22105263,\n",
       "        762.03157895, 760.41052632, 760.26315789, 762.44210526,\n",
       "        760.61052632, 761.31578947, 761.92631579, 763.65263158,\n",
       "        761.30526316, 760.13684211, 759.93684211, 758.94736842,\n",
       "        758.49473684, 760.68421053, 759.36842105, 757.62105263,\n",
       "        760.58947368, 759.52631579, 758.32631579, 758.95789474,\n",
       "        758.26315789, 759.36842105, 758.65263158, 761.24210526,\n",
       "        760.94736842, 760.51578947, 758.86315789, 764.34736842,\n",
       "        759.22105263, 762.37894737, 761.53684211, 762.73684211,\n",
       "        765.56842105, 763.92631579, 763.61052632, 759.74736842,\n",
       "        760.        , 759.08421053, 760.12631579, 759.8       ,\n",
       "        759.04210526, 761.34736842, 761.74736842, 760.13684211,\n",
       "        761.31578947, 760.51578947, 760.54736842, 760.03157895,\n",
       "        763.06315789, 761.50526316, 759.84210526, 761.71578947,\n",
       "        761.8       , 759.65263158, 761.02105263, 760.97894737,\n",
       "        761.47368421, 760.56842105, 760.88421053, 759.74736842,\n",
       "        761.33684211, 760.31578947, 761.24210526, 760.62105263,\n",
       "        759.51578947, 759.62105263, 760.58947368, 761.94736842,\n",
       "        768.42105263, 757.11578947, 756.46315789, 759.42105263,\n",
       "        759.31578947, 761.09473684, 760.14736842, 760.24210526,\n",
       "        762.68421053, 764.38947368, 765.8       , 765.32631579,\n",
       "        764.86315789, 761.09473684, 761.63157895, 764.71578947,\n",
       "        763.12631579, 761.63157895, 762.50526316, 762.45263158,\n",
       "        763.08421053, 761.24210526, 760.55789474, 763.02105263,\n",
       "        761.10526316, 761.76842105, 762.18947368, 764.91578947,\n",
       "        761.18947368, 760.95789474, 761.15789474, 761.25263158,\n",
       "        765.90526316, 764.6       , 760.63157895, 762.42105263,\n",
       "        760.35789474, 760.14736842, 763.03157895, 763.4       ,\n",
       "        762.42105263, 762.93684211, 761.92631579, 760.87368421,\n",
       "        759.47368421, 759.30526316, 761.98947368, 760.92631579,\n",
       "        762.87368421, 761.66315789, 761.90526316, 759.97894737,\n",
       "        758.22105263, 758.31578947, 758.2       , 757.91578947,\n",
       "        759.90526316, 761.66315789, 760.44210526, 760.31578947,\n",
       "        758.91578947, 760.6       , 760.11578947, 759.71578947,\n",
       "        761.27368421, 759.67368421, 759.69473684, 760.08421053,\n",
       "        762.14736842, 763.51578947, 759.96842105, 760.45263158,\n",
       "        757.58947368, 756.66315789, 758.97894737, 766.97894737,\n",
       "        765.18947368, 755.96842105, 761.35789474, 757.37894737,\n",
       "        760.33684211, 759.94736842, 759.89473684, 765.41052632,\n",
       "        762.73684211, 760.63157895, 762.53684211, 761.65263158,\n",
       "        761.98947368, 764.26315789, 768.43157895, 766.67368421,\n",
       "        764.53684211, 766.03157895, 764.05263158, 760.96842105,\n",
       "        764.16842105, 763.06315789, 763.87368421, 763.01052632,\n",
       "        760.96842105, 762.71578947, 762.34736842, 761.30526316,\n",
       "        763.34736842, 763.47368421, 762.4       , 761.03157895,\n",
       "        762.28421053, 761.73684211, 759.70526316, 760.75789474,\n",
       "        762.16842105, 761.93684211, 761.61052632, 760.76842105,\n",
       "        760.8       , 760.01052632, 762.70526316, 762.06315789,\n",
       "        760.32631579, 759.48421053, 762.55789474, 765.95789474,\n",
       "        766.53684211, 765.46315789, 764.48421053, 763.37894737,\n",
       "        762.67368421, 763.54736842, 762.50526316, 765.34736842,\n",
       "        763.97894737, 762.17894737, 763.83157895, 764.23157895,\n",
       "        762.46315789, 764.17894737, 761.49473684, 760.30526316,\n",
       "        761.13684211, 763.24210526, 760.35789474, 761.10526316,\n",
       "        761.74736842, 759.06315789, 761.12631579, 760.76842105,\n",
       "        758.98947368, 760.46315789, 760.45263158, 758.96842105,\n",
       "        763.43157895, 763.45263158, 760.94736842, 762.76842105,\n",
       "        761.26315789, 759.93684211, 757.48421053, 757.98947368,\n",
       "        759.82105263, 758.43157895, 759.17894737, 759.24210526,\n",
       "        758.05263158, 760.28421053, 760.56842105, 761.4       ,\n",
       "        765.90526316, 762.83157895, 761.95789474, 760.17894737,\n",
       "        762.86315789, 764.38947368, 765.04210526, 765.72631579,\n",
       "        762.71578947, 760.69473684, 761.22105263, 760.36842105,\n",
       "        765.        , 761.44210526, 765.51578947, 766.64210526,\n",
       "        768.2       , 769.03157895, 771.33684211, 768.85263158,\n",
       "        769.86315789, 767.35789474, 768.04210526, 766.84210526,\n",
       "        766.68421053, 765.28421053, 764.08421053, 763.84210526,\n",
       "        763.4       , 760.86315789, 764.11578947, 762.8       ,\n",
       "        762.57894737, 762.95789474, 762.75789474, 762.55789474]),\n",
       " 15: array([611.49180328, 608.28688525, 610.08196721, 611.42622951,\n",
       "        611.40983607, 610.97540984, 612.28688525, 612.73770492,\n",
       "        612.24590164, 611.14754098, 609.32786885, 613.80327869,\n",
       "        608.95081967, 608.52459016, 605.97540984, 600.23770492,\n",
       "        599.32786885, 602.73770492, 605.00819672, 605.56557377,\n",
       "        606.17213115, 607.8442623 , 610.49180328, 611.02459016,\n",
       "        608.57377049, 606.90163934, 610.29508197, 607.81967213,\n",
       "        608.30327869, 607.37704918, 606.05737705, 608.56557377,\n",
       "        605.67213115, 605.81967213, 606.25409836, 606.05737705,\n",
       "        607.78688525, 605.2295082 , 603.91803279, 603.72131148,\n",
       "        606.83606557, 603.76229508, 604.40983607, 605.82786885,\n",
       "        607.04918033, 604.2295082 , 605.00819672, 607.27868852,\n",
       "        606.01639344, 606.54918033, 605.68852459, 607.18852459,\n",
       "        603.22131148, 603.22131148, 603.47540984, 606.42622951,\n",
       "        607.13934426, 606.90163934, 607.6147541 , 610.80327869,\n",
       "        610.37704918, 607.41803279, 604.92622951, 599.12295082,\n",
       "        598.36065574, 599.60655738, 602.2704918 , 601.7295082 ,\n",
       "        603.54918033, 608.2295082 , 608.02459016, 607.64754098,\n",
       "        609.06557377, 607.19672131, 608.81967213, 606.95901639,\n",
       "        606.90983607, 606.51639344, 606.55737705, 607.90163934,\n",
       "        602.63934426, 603.95901639, 606.12295082, 603.95081967,\n",
       "        605.08196721, 603.6557377 , 605.60655738, 602.41803279,\n",
       "        602.49180328, 602.55737705, 606.12295082, 601.93442623,\n",
       "        603.66393443, 604.04918033, 606.80327869, 606.68032787,\n",
       "        604.94262295, 603.20491803, 604.73770492, 602.91803279,\n",
       "        598.54918033, 597.99180328, 598.37704918, 602.46721311,\n",
       "        605.57377049, 608.46721311, 608.1147541 , 607.86885246,\n",
       "        607.18032787, 604.20491803, 608.54918033, 608.18852459,\n",
       "        607.09836066, 607.85245902, 604.8852459 , 604.62295082,\n",
       "        607.19672131, 603.86885246, 603.42622951, 604.31147541,\n",
       "        604.21311475, 603.26229508, 603.13114754, 606.72131148,\n",
       "        605.77868852, 603.81967213, 605.42622951, 608.10655738,\n",
       "        609.8852459 , 605.03278689, 599.13114754, 600.98360656,\n",
       "        601.54098361, 606.62295082, 609.02459016, 606.48360656,\n",
       "        605.30327869, 607.50819672, 603.31967213, 601.97540984,\n",
       "        603.13114754, 603.29508197, 608.82786885, 606.52459016,\n",
       "        606.3852459 , 607.24590164, 603.19672131, 602.2704918 ,\n",
       "        600.72131148, 599.13114754, 602.31147541, 602.81147541,\n",
       "        602.08196721, 604.54098361, 607.36885246, 602.63114754,\n",
       "        604.30327869, 606.09016393, 602.01639344, 605.27868852,\n",
       "        608.86885246, 606.52459016, 605.37704918, 603.3442623 ,\n",
       "        606.2295082 , 602.32786885, 601.92622951, 602.6147541 ,\n",
       "        600.35245902, 603.36065574, 605.99180328, 609.09016393,\n",
       "        608.44262295, 603.09836066, 610.8852459 , 605.53278689,\n",
       "        605.54098361, 597.85245902, 594.46721311, 597.59836066,\n",
       "        595.56557377, 598.39344262, 602.68852459, 600.5       ,\n",
       "        602.00819672, 606.3442623 , 611.80327869, 609.02459016,\n",
       "        608.52459016, 609.86065574, 604.64754098, 604.95081967,\n",
       "        607.12295082, 604.16393443, 604.74590164, 608.08196721,\n",
       "        605.54918033, 609.81967213, 607.6147541 , 608.98360656,\n",
       "        611.45081967, 607.80327869, 607.25409836, 608.3852459 ,\n",
       "        606.92622951, 603.54098361, 605.28688525, 607.        ,\n",
       "        605.56557377, 604.26229508, 604.98360656, 605.83606557,\n",
       "        603.54918033, 606.7295082 , 605.64754098, 609.32786885,\n",
       "        605.09836066, 607.13934426, 611.29508197, 615.57377049,\n",
       "        608.83606557, 605.53278689, 605.7295082 , 605.14754098,\n",
       "        605.19672131, 608.35245902, 609.28688525, 613.86065574,\n",
       "        611.54098361, 610.98360656, 613.63114754, 610.05737705,\n",
       "        609.44262295, 610.09016393, 606.42622951, 606.8852459 ,\n",
       "        607.81967213, 605.40983607, 606.09836066, 608.28688525,\n",
       "        605.45901639, 605.36065574, 605.43442623, 603.49180328,\n",
       "        605.16393443, 607.3852459 , 603.53278689, 604.52459016,\n",
       "        608.04098361, 606.09016393, 606.19672131, 606.        ,\n",
       "        605.10655738, 602.22131148, 601.3852459 , 605.73770492,\n",
       "        601.86885246, 602.85245902, 604.75409836, 606.1147541 ,\n",
       "        605.25409836, 605.56557377, 608.92622951, 606.77868852,\n",
       "        609.41803279, 612.46721311, 607.46721311, 605.73770492,\n",
       "        607.25409836, 608.24590164, 606.37704918, 603.7295082 ,\n",
       "        600.87704918, 599.72131148, 601.71311475, 604.09836066,\n",
       "        608.8442623 , 606.87704918, 614.64754098, 612.99180328,\n",
       "        617.09836066, 615.6557377 , 616.64754098, 612.85245902,\n",
       "        611.60655738, 609.7704918 , 610.70491803, 607.7295082 ,\n",
       "        608.58196721, 610.07377049, 606.12295082, 606.79508197,\n",
       "        605.10655738, 604.68852459, 609.21311475, 608.63114754,\n",
       "        608.63934426, 609.6557377 , 609.12295082, 610.86065574]),\n",
       " 16: array([828.27906977, 820.25581395, 818.62790698, 816.04651163,\n",
       "        824.58139535, 817.09302326, 821.72093023, 820.53488372,\n",
       "        815.39534884, 807.06976744, 808.18604651, 810.27906977,\n",
       "        804.46511628, 830.93023256, 810.90697674, 803.74418605,\n",
       "        810.1627907 , 805.39534884, 811.39534884, 810.20930233,\n",
       "        812.55813953, 818.23255814, 812.65116279, 830.27906977,\n",
       "        811.30232558, 810.51162791, 811.02325581, 811.72093023,\n",
       "        810.18604651, 812.09302326, 814.81395349, 808.27906977,\n",
       "        810.90697674, 812.27906977, 812.23255814, 816.18604651,\n",
       "        821.76744186, 815.81395349, 810.60465116, 812.51162791,\n",
       "        815.74418605, 813.8372093 , 814.60465116, 812.41860465,\n",
       "        811.41860465, 810.09302326, 813.76744186, 811.02325581,\n",
       "        812.81395349, 811.58139535, 811.25581395, 808.97674419,\n",
       "        811.48837209, 809.        , 804.13953488, 794.18604651,\n",
       "        802.02325581, 804.48837209, 806.44186047, 809.8372093 ,\n",
       "        806.37209302, 807.34883721, 804.44186047, 806.06976744,\n",
       "        804.11627907, 805.93023256, 803.72093023, 805.02325581,\n",
       "        810.3255814 , 803.76744186, 810.76744186, 810.69767442,\n",
       "        806.34883721, 807.88372093, 807.41860465, 805.46511628,\n",
       "        806.51162791, 806.72093023, 804.62790698, 805.88372093,\n",
       "        804.37209302, 804.27906977, 805.58139535, 805.27906977,\n",
       "        804.55813953, 801.60465116, 801.44186047, 804.48837209,\n",
       "        804.58139535, 800.25581395, 800.62790698, 800.13953488,\n",
       "        801.48837209, 803.53488372, 802.86046512, 803.04651163,\n",
       "        782.02325581, 785.20930233, 789.48837209, 799.30232558,\n",
       "        793.3255814 , 800.81395349, 795.27906977, 801.39534884,\n",
       "        803.23255814, 805.02325581, 802.02325581, 801.3255814 ,\n",
       "        803.18604651, 803.88372093, 800.74418605, 803.48837209,\n",
       "        796.48837209, 795.1627907 , 802.34883721, 798.11627907,\n",
       "        795.30232558, 797.62790698, 793.44186047, 798.02325581,\n",
       "        796.72093023, 796.3255814 , 796.37209302, 785.97674419,\n",
       "        796.51162791, 793.76744186, 797.30232558, 799.8372093 ,\n",
       "        800.13953488, 799.18604651, 803.39534884, 800.6744186 ,\n",
       "        800.79069767, 801.58139535, 798.81395349, 798.93023256,\n",
       "        796.20930233, 796.58139535, 794.97674419, 792.74418605,\n",
       "        793.62790698, 791.76744186, 793.20930233, 795.        ,\n",
       "        792.44186047, 791.60465116, 790.37209302, 789.53488372,\n",
       "        788.20930233, 784.95348837, 787.23255814, 789.20930233,\n",
       "        785.58139535, 784.74418605, 792.25581395, 790.34883721,\n",
       "        788.13953488, 789.58139535, 789.06976744, 787.30232558,\n",
       "        791.13953488, 789.37209302, 789.39534884, 790.09302326,\n",
       "        788.76744186, 791.41860465, 786.55813953, 788.53488372,\n",
       "        787.88372093, 792.20930233, 792.37209302, 803.23255814,\n",
       "        783.74418605, 765.81395349, 798.02325581, 782.44186047,\n",
       "        786.44186047, 785.69767442, 785.53488372, 793.27906977,\n",
       "        789.65116279, 791.51162791, 796.51162791, 791.95348837,\n",
       "        793.62790698, 797.46511628, 798.41860465, 794.55813953,\n",
       "        793.72093023, 793.72093023, 788.86046512, 788.81395349,\n",
       "        790.        , 788.8372093 , 789.60465116, 789.34883721,\n",
       "        787.74418605, 789.13953488, 788.69767442, 790.74418605,\n",
       "        789.44186047, 786.46511628, 789.02325581, 793.60465116,\n",
       "        784.88372093, 786.51162791, 787.93023256, 787.46511628,\n",
       "        790.3255814 , 787.04651163, 787.62790698, 787.72093023,\n",
       "        786.58139535, 791.55813953, 779.51162791, 790.93023256,\n",
       "        789.06976744, 790.86046512, 795.53488372, 798.04651163,\n",
       "        798.13953488, 794.58139535, 796.79069767, 796.1627907 ,\n",
       "        799.34883721, 799.30232558, 796.8372093 , 796.90697674,\n",
       "        797.18604651, 795.11627907, 797.41860465, 796.88372093,\n",
       "        793.11627907, 793.6744186 , 792.11627907, 793.13953488,\n",
       "        793.76744186, 792.37209302, 789.39534884, 790.58139535,\n",
       "        791.06976744, 792.18604651, 792.06976744, 788.62790698,\n",
       "        793.46511628, 792.58139535, 788.34883721, 791.48837209,\n",
       "        791.48837209, 795.8372093 , 794.04651163, 792.6744186 ,\n",
       "        790.34883721, 791.76744186, 790.09302326, 788.74418605,\n",
       "        790.62790698, 787.79069767, 794.06976744, 793.34883721,\n",
       "        793.86046512, 792.13953488, 792.79069767, 795.65116279,\n",
       "        796.41860465, 795.3255814 , 790.3255814 , 794.97674419,\n",
       "        801.72093023, 801.6744186 , 803.23255814, 794.41860465,\n",
       "        797.48837209, 799.8372093 , 800.1627907 , 801.88372093,\n",
       "        809.60465116, 807.37209302, 808.44186047, 807.04651163,\n",
       "        811.58139535, 810.46511628, 808.93023256, 810.1627907 ,\n",
       "        812.81395349, 806.6744186 , 804.72093023, 807.53488372,\n",
       "        805.79069767, 799.        , 794.18604651, 794.6744186 ,\n",
       "        797.02325581, 799.25581395, 794.72093023, 798.46511628,\n",
       "        798.8372093 , 796.69767442, 798.25581395, 801.02325581]),\n",
       " 17: array([457.20588235, 456.75      , 459.01470588, 457.75      ,\n",
       "        459.29411765, 459.33823529, 461.91176471, 459.36764706,\n",
       "        460.17647059, 457.67647059, 461.26470588, 460.51470588,\n",
       "        455.05882353, 459.75      , 457.47058824, 454.80882353,\n",
       "        457.10294118, 458.36764706, 459.32352941, 458.29411765,\n",
       "        457.79411765, 460.94117647, 458.85294118, 461.52941176,\n",
       "        458.07352941, 460.30882353, 459.20588235, 459.39705882,\n",
       "        459.26470588, 459.55882353, 455.05882353, 455.97058824,\n",
       "        457.92647059, 456.76470588, 456.29411765, 456.22058824,\n",
       "        457.54411765, 459.63235294, 456.13235294, 456.73529412,\n",
       "        458.07352941, 455.54411765, 457.11764706, 459.02941176,\n",
       "        456.63235294, 455.91176471, 456.36764706, 456.88235294,\n",
       "        457.48529412, 456.69117647, 457.92647059, 455.69117647,\n",
       "        453.67647059, 454.47058824, 455.72058824, 454.89705882,\n",
       "        456.19117647, 453.83823529, 453.55882353, 456.02941176,\n",
       "        453.76470588, 453.26470588, 451.        , 452.19117647,\n",
       "        452.76470588, 451.67647059, 452.97058824, 456.14705882,\n",
       "        455.30882353, 454.38235294, 455.83823529, 455.72058824,\n",
       "        454.88235294, 456.44117647, 457.58823529, 456.47058824,\n",
       "        455.04411765, 454.11764706, 454.5       , 453.20588235,\n",
       "        453.04411765, 453.5       , 452.85294118, 451.97058824,\n",
       "        454.55882353, 453.67647059, 453.32352941, 453.69117647,\n",
       "        453.07352941, 451.08823529, 451.85294118, 450.57352941,\n",
       "        453.61764706, 456.61764706, 454.33823529, 457.14705882,\n",
       "        455.98529412, 454.36764706, 450.45588235, 447.85294118,\n",
       "        445.01470588, 447.70588235, 450.72058824, 453.        ,\n",
       "        453.82352941, 454.38235294, 452.51470588, 453.67647059,\n",
       "        452.83823529, 453.58823529, 452.41176471, 454.61764706,\n",
       "        452.23529412, 453.42647059, 452.33823529, 452.70588235,\n",
       "        452.30882353, 452.02941176, 450.83823529, 451.86764706,\n",
       "        451.92647059, 451.75      , 452.79411765, 452.67647059,\n",
       "        452.45588235, 451.97058824, 452.52941176, 453.55882353,\n",
       "        453.        , 450.33823529, 449.47058824, 451.02941176,\n",
       "        453.77941176, 455.10294118, 453.60294118, 454.27941176,\n",
       "        453.22058824, 451.73529412, 450.77941176, 450.76470588,\n",
       "        451.32352941, 450.88235294, 451.63235294, 451.51470588,\n",
       "        452.67647059, 449.25      , 450.14705882, 451.33823529,\n",
       "        448.39705882, 448.04411765, 450.75      , 447.51470588,\n",
       "        449.51470588, 451.25      , 450.44117647, 448.94117647,\n",
       "        449.05882353, 450.58823529, 447.36764706, 449.05882353,\n",
       "        451.23529412, 450.77941176, 450.95588235, 451.13235294,\n",
       "        448.42647059, 448.73529412, 448.25      , 449.17647059,\n",
       "        449.14705882, 450.41176471, 451.77941176, 455.04411765,\n",
       "        454.14705882, 454.38235294, 456.05882353, 449.55882353,\n",
       "        447.27941176, 445.14705882, 441.77941176, 445.51470588,\n",
       "        446.35294118, 448.39705882, 448.11764706, 449.69117647,\n",
       "        450.32352941, 450.98529412, 451.69117647, 451.11764706,\n",
       "        453.        , 449.85294118, 448.88235294, 449.66176471,\n",
       "        450.45588235, 447.97058824, 448.73529412, 450.        ,\n",
       "        450.76470588, 451.94117647, 450.92647059, 452.27941176,\n",
       "        451.52941176, 450.57352941, 449.55882353, 454.67647059,\n",
       "        451.5       , 450.76470588, 449.79411765, 452.89705882,\n",
       "        450.72058824, 448.45588235, 451.83823529, 451.22058824,\n",
       "        450.35294118, 450.02941176, 451.42647059, 452.27941176,\n",
       "        451.19117647, 453.29411765, 453.94117647, 451.91176471,\n",
       "        452.20588235, 452.30882353, 452.57352941, 449.02941176,\n",
       "        452.22058824, 452.55882353, 455.05882353, 453.79411765,\n",
       "        454.02941176, 454.13235294, 453.67647059, 454.82352941,\n",
       "        452.70588235, 453.11764706, 451.19117647, 453.07352941,\n",
       "        451.60294118, 450.75      , 452.30882353, 450.26470588,\n",
       "        450.89705882, 453.80882353, 450.85294118, 450.80882353,\n",
       "        453.72058824, 450.01470588, 450.72058824, 451.92647059,\n",
       "        450.41176471, 451.88235294, 452.55882353, 455.10294118,\n",
       "        450.16176471, 450.64705882, 450.73529412, 452.07352941,\n",
       "        450.80882353, 448.91176471, 453.27941176, 451.76470588,\n",
       "        452.29411765, 452.        , 452.86764706, 452.55882353,\n",
       "        455.83823529, 457.41176471, 452.97058824, 456.01470588,\n",
       "        453.91176471, 453.        , 452.17647059, 450.54411765,\n",
       "        452.25      , 451.57352941, 452.54411765, 455.61764706,\n",
       "        457.94117647, 455.11764706, 456.91176471, 456.98529412,\n",
       "        461.27941176, 459.29411765, 457.66176471, 457.01470588,\n",
       "        458.14705882, 457.41176471, 456.66176471, 453.97058824,\n",
       "        454.36764706, 455.35294118, 453.07352941, 453.60294118,\n",
       "        452.41176471, 454.25      , 454.05882353, 453.04411765,\n",
       "        454.10294118, 455.39705882, 453.72058824, 454.38235294]),\n",
       " 18: array([393.33333333, 391.86666667, 391.36666667, 394.4       ,\n",
       "        395.5       , 393.16666667, 394.4       , 393.8       ,\n",
       "        397.3       , 387.13333333, 390.93333333, 392.8       ,\n",
       "        389.23333333, 395.        , 391.1       , 392.56666667,\n",
       "        394.53333333, 390.13333333, 394.5       , 391.43333333,\n",
       "        390.5       , 395.06666667, 392.76666667, 396.73333333,\n",
       "        395.06666667, 394.9       , 392.26666667, 390.43333333,\n",
       "        390.36666667, 396.66666667, 393.8       , 389.26666667,\n",
       "        390.23333333, 391.76666667, 388.7       , 391.26666667,\n",
       "        395.73333333, 393.66666667, 393.33333333, 392.23333333,\n",
       "        392.96666667, 393.36666667, 389.93333333, 394.33333333,\n",
       "        388.86666667, 390.9       , 390.5       , 392.73333333,\n",
       "        390.13333333, 390.26666667, 391.5       , 387.23333333,\n",
       "        385.26666667, 387.3       , 385.46666667, 379.9       ,\n",
       "        383.06666667, 383.86666667, 384.03333333, 385.93333333,\n",
       "        384.76666667, 381.73333333, 383.96666667, 384.63333333,\n",
       "        381.93333333, 384.73333333, 384.5       , 384.93333333,\n",
       "        386.13333333, 386.46666667, 386.06666667, 388.46666667,\n",
       "        389.36666667, 389.        , 386.3       , 387.5       ,\n",
       "        387.03333333, 386.7       , 385.06666667, 386.2       ,\n",
       "        386.2       , 385.96666667, 386.43333333, 381.23333333,\n",
       "        385.7       , 386.2       , 387.06666667, 380.1       ,\n",
       "        381.7       , 384.43333333, 381.5       , 378.8       ,\n",
       "        379.56666667, 384.13333333, 381.36666667, 381.96666667,\n",
       "        377.        , 379.6       , 378.2       , 379.96666667,\n",
       "        380.53333333, 381.2       , 380.76666667, 384.76666667,\n",
       "        384.96666667, 387.16666667, 385.23333333, 384.43333333,\n",
       "        385.46666667, 387.76666667, 385.16666667, 383.66666667,\n",
       "        381.63333333, 380.86666667, 381.2       , 380.43333333,\n",
       "        378.53333333, 381.36666667, 379.73333333, 380.93333333,\n",
       "        378.56666667, 377.93333333, 380.76666667, 377.1       ,\n",
       "        377.36666667, 380.93333333, 381.43333333, 384.46666667,\n",
       "        381.26666667, 378.63333333, 379.5       , 380.73333333,\n",
       "        387.13333333, 384.36666667, 379.83333333, 381.16666667,\n",
       "        383.03333333, 378.8       , 376.03333333, 380.83333333,\n",
       "        377.93333333, 382.2       , 379.1       , 379.1       ,\n",
       "        377.36666667, 374.96666667, 375.2       , 377.13333333,\n",
       "        374.3       , 374.03333333, 375.6       , 373.5       ,\n",
       "        376.16666667, 376.06666667, 376.33333333, 372.83333333,\n",
       "        376.06666667, 376.03333333, 373.33333333, 374.3       ,\n",
       "        380.23333333, 375.03333333, 375.9       , 378.9       ,\n",
       "        372.56666667, 374.36666667, 374.76666667, 373.76666667,\n",
       "        372.06666667, 376.3       , 377.56666667, 377.63333333,\n",
       "        374.9       , 371.        , 375.03333333, 374.93333333,\n",
       "        376.33333333, 369.1       , 371.2       , 374.6       ,\n",
       "        372.56666667, 375.66666667, 376.66666667, 375.1       ,\n",
       "        377.46666667, 381.5       , 377.9       , 374.26666667,\n",
       "        379.63333333, 374.53333333, 374.1       , 375.        ,\n",
       "        376.6       , 372.53333333, 377.33333333, 373.63333333,\n",
       "        374.        , 377.1       , 373.43333333, 375.36666667,\n",
       "        376.6       , 373.43333333, 372.8       , 376.63333333,\n",
       "        373.7       , 371.86666667, 375.33333333, 375.23333333,\n",
       "        373.53333333, 371.46666667, 374.03333333, 373.7       ,\n",
       "        373.56666667, 374.83333333, 375.1       , 375.83333333,\n",
       "        371.76666667, 376.13333333, 379.23333333, 378.2       ,\n",
       "        377.        , 375.5       , 377.73333333, 379.16666667,\n",
       "        377.36666667, 382.4       , 380.9       , 380.8       ,\n",
       "        377.8       , 380.2       , 378.76666667, 378.73333333,\n",
       "        379.03333333, 381.53333333, 376.6       , 379.46666667,\n",
       "        377.66666667, 377.6       , 378.76666667, 376.6       ,\n",
       "        377.06666667, 377.        , 375.86666667, 375.33333333,\n",
       "        377.73333333, 379.9       , 376.2       , 376.53333333,\n",
       "        376.3       , 376.43333333, 377.13333333, 377.1       ,\n",
       "        375.06666667, 375.8       , 375.5       , 375.46666667,\n",
       "        372.56666667, 376.8       , 376.73333333, 377.3       ,\n",
       "        376.76666667, 378.86666667, 379.2       , 375.9       ,\n",
       "        383.3       , 383.9       , 376.9       , 378.46666667,\n",
       "        381.2       , 381.83333333, 382.        , 379.03333333,\n",
       "        377.86666667, 380.5       , 384.46666667, 382.2       ,\n",
       "        384.63333333, 387.33333333, 385.9       , 386.9       ,\n",
       "        387.7       , 393.        , 387.8       , 387.63333333,\n",
       "        390.23333333, 390.63333333, 384.73333333, 386.93333333,\n",
       "        385.5       , 381.03333333, 381.1       , 381.16666667,\n",
       "        377.33333333, 383.36666667, 380.5       , 380.06666667,\n",
       "        383.9       , 379.76666667, 380.56666667, 381.4       ]),\n",
       " 19: array([429.09090909, 428.47727273, 427.36363636, 429.25      ,\n",
       "        432.27272727, 433.65909091, 433.11363636, 431.27272727,\n",
       "        434.79545455, 435.79545455, 430.72727273, 434.38636364,\n",
       "        427.93181818, 429.22727273, 438.81818182, 428.88636364,\n",
       "        424.93181818, 426.47727273, 430.43181818, 431.15909091,\n",
       "        430.75      , 429.61363636, 427.47727273, 433.65909091,\n",
       "        435.15909091, 427.72727273, 428.86363636, 429.06818182,\n",
       "        432.61363636, 431.36363636, 422.93181818, 428.34090909,\n",
       "        426.63636364, 428.70454545, 430.20454545, 423.72727273,\n",
       "        424.81818182, 426.38636364, 427.68181818, 424.88636364,\n",
       "        424.04545455, 426.11363636, 427.22727273, 425.63636364,\n",
       "        423.40909091, 429.61363636, 427.45454545, 424.93181818,\n",
       "        423.75      , 430.31818182, 423.77272727, 422.04545455,\n",
       "        426.86363636, 427.11363636, 426.59090909, 430.95454545,\n",
       "        433.06818182, 431.36363636, 429.40909091, 431.22727273,\n",
       "        432.09090909, 427.61363636, 423.59090909, 425.45454545,\n",
       "        426.52272727, 426.06818182, 423.09090909, 431.04545455,\n",
       "        426.59090909, 426.63636364, 429.97727273, 427.75      ,\n",
       "        427.93181818, 430.06818182, 429.84090909, 425.09090909,\n",
       "        427.        , 431.5       , 426.5       , 423.81818182,\n",
       "        430.5       , 427.38636364, 425.29545455, 424.52272727,\n",
       "        432.25      , 424.81818182, 423.77272727, 426.61363636,\n",
       "        427.54545455, 424.86363636, 426.02272727, 425.29545455,\n",
       "        428.86363636, 428.22727273, 427.36363636, 439.06818182,\n",
       "        446.40909091, 435.02272727, 432.70454545, 429.68181818,\n",
       "        427.65909091, 426.65909091, 432.90909091, 436.61363636,\n",
       "        435.18181818, 436.40909091, 432.18181818, 433.09090909,\n",
       "        436.47727273, 430.40909091, 432.43181818, 438.93181818,\n",
       "        435.97727273, 432.56818182, 433.04545455, 432.45454545,\n",
       "        429.59090909, 434.5       , 432.34090909, 427.18181818,\n",
       "        433.86363636, 438.        , 432.95454545, 439.61363636,\n",
       "        439.        , 438.02272727, 435.59090909, 437.11363636,\n",
       "        436.68181818, 434.15909091, 425.84090909, 431.15909091,\n",
       "        430.47727273, 432.04545455, 431.90909091, 436.25      ,\n",
       "        435.90909091, 435.22727273, 438.11363636, 436.86363636,\n",
       "        436.13636364, 437.27272727, 436.68181818, 440.72727273,\n",
       "        434.29545455, 433.09090909, 441.95454545, 434.81818182,\n",
       "        432.34090909, 436.09090909, 435.70454545, 431.61363636,\n",
       "        438.84090909, 436.68181818, 434.40909091, 437.93181818,\n",
       "        436.13636364, 436.43181818, 436.77272727, 438.22727273,\n",
       "        436.29545455, 436.25      , 439.72727273, 434.31818182,\n",
       "        433.81818182, 440.06818182, 436.84090909, 431.20454545,\n",
       "        436.70454545, 437.88636364, 433.86363636, 434.63636364,\n",
       "        443.75      , 452.47727273, 441.59090909, 440.84090909,\n",
       "        445.54545455, 438.47727273, 433.90909091, 435.5       ,\n",
       "        432.93181818, 434.70454545, 435.18181818, 438.09090909,\n",
       "        442.22727273, 438.47727273, 435.43181818, 441.68181818,\n",
       "        442.5       , 440.77272727, 444.90909091, 441.79545455,\n",
       "        440.22727273, 444.52272727, 440.75      , 439.29545455,\n",
       "        444.59090909, 440.59090909, 445.79545455, 444.52272727,\n",
       "        440.15909091, 444.86363636, 444.38636364, 440.54545455,\n",
       "        440.15909091, 445.52272727, 443.65909091, 440.47727273,\n",
       "        439.        , 442.25      , 441.97727273, 435.72727273,\n",
       "        444.20454545, 439.77272727, 444.09090909, 441.11363636,\n",
       "        443.65909091, 441.95454545, 442.40909091, 441.90909091,\n",
       "        444.59090909, 441.65909091, 440.86363636, 431.36363636,\n",
       "        444.15909091, 441.40909091, 442.90909091, 442.34090909,\n",
       "        445.34090909, 447.27272727, 441.61363636, 447.04545455,\n",
       "        444.18181818, 440.34090909, 440.45454545, 439.95454545,\n",
       "        440.34090909, 444.40909091, 439.68181818, 437.68181818,\n",
       "        445.61363636, 440.36363636, 435.84090909, 442.15909091,\n",
       "        441.22727273, 437.61363636, 441.45454545, 439.15909091,\n",
       "        437.68181818, 441.90909091, 438.11363636, 434.79545455,\n",
       "        436.79545455, 442.25      , 439.25      , 437.06818182,\n",
       "        438.77272727, 440.93181818, 435.77272727, 436.18181818,\n",
       "        439.22727273, 438.11363636, 438.09090909, 442.56818182,\n",
       "        436.90909091, 436.54545455, 436.29545455, 436.93181818,\n",
       "        441.43181818, 437.63636364, 433.13636364, 431.34090909,\n",
       "        432.52272727, 432.38636364, 430.59090909, 435.34090909,\n",
       "        438.56818182, 431.02272727, 430.72727273, 438.04545455,\n",
       "        439.36363636, 438.29545455, 437.97727273, 433.72727273,\n",
       "        435.45454545, 431.45454545, 434.72727273, 434.15909091,\n",
       "        434.75      , 441.5       , 440.93181818, 436.88636364,\n",
       "        440.56818182, 435.81818182, 436.47727273, 441.22727273,\n",
       "        434.95454545, 435.81818182, 438.79545455, 435.81818182]),\n",
       " 20: array([429.        , 429.81481481, 426.44444444, 432.22222222,\n",
       "        440.03703704, 437.96296296, 439.18518519, 435.85185185,\n",
       "        447.62962963, 442.40740741, 438.74074074, 435.25925926,\n",
       "        433.88888889, 443.11111111, 439.85185185, 431.74074074,\n",
       "        428.96296296, 429.74074074, 436.51851852, 440.11111111,\n",
       "        434.37037037, 433.40740741, 432.51851852, 443.11111111,\n",
       "        433.44444444, 434.81481481, 436.37037037, 441.        ,\n",
       "        441.07407407, 434.        , 418.55555556, 439.66666667,\n",
       "        438.7037037 , 436.77777778, 432.2962963 , 427.48148148,\n",
       "        432.7037037 , 438.77777778, 433.66666667, 427.77777778,\n",
       "        427.88888889, 435.48148148, 433.51851852, 427.11111111,\n",
       "        432.14814815, 436.25925926, 428.48148148, 430.14814815,\n",
       "        433.14814815, 430.55555556, 422.03703704, 422.        ,\n",
       "        438.18518519, 433.44444444, 430.14814815, 451.2962963 ,\n",
       "        449.77777778, 438.03703704, 430.66666667, 435.59259259,\n",
       "        435.77777778, 432.40740741, 433.92592593, 439.2962963 ,\n",
       "        430.44444444, 430.25925926, 434.18518519, 436.48148148,\n",
       "        430.51851852, 432.88888889, 440.44444444, 430.18518519,\n",
       "        433.33333333, 443.66666667, 430.22222222, 428.85185185,\n",
       "        438.14814815, 436.59259259, 429.18518519, 434.37037037,\n",
       "        435.07407407, 428.85185185, 429.18518519, 436.51851852,\n",
       "        433.59259259, 427.37037037, 430.66666667, 436.59259259,\n",
       "        434.        , 430.2962963 , 433.96296296, 441.44444444,\n",
       "        437.40740741, 432.81481481, 440.92592593, 450.48148148,\n",
       "        465.33333333, 452.03703704, 443.22222222, 435.85185185,\n",
       "        435.59259259, 438.07407407, 444.62962963, 442.33333333,\n",
       "        441.37037037, 443.66666667, 441.25925926, 452.22222222,\n",
       "        447.11111111, 438.03703704, 444.81481481, 450.92592593,\n",
       "        442.74074074, 449.37037037, 453.33333333, 437.55555556,\n",
       "        444.62962963, 451.62962963, 439.96296296, 443.14814815,\n",
       "        451.40740741, 451.14814815, 444.        , 468.96296296,\n",
       "        452.92592593, 451.11111111, 440.66666667, 442.14814815,\n",
       "        448.74074074, 453.03703704, 433.03703704, 441.48148148,\n",
       "        436.14814815, 441.96296296, 447.74074074, 443.81481481,\n",
       "        445.51851852, 452.55555556, 451.44444444, 447.        ,\n",
       "        457.14814815, 448.81481481, 454.2962963 , 451.55555556,\n",
       "        443.62962963, 457.7037037 , 455.18518519, 445.25925926,\n",
       "        455.59259259, 452.25925926, 447.81481481, 454.37037037,\n",
       "        455.25925926, 454.33333333, 460.11111111, 450.2962963 ,\n",
       "        453.03703704, 455.51851852, 455.        , 454.48148148,\n",
       "        451.48148148, 459.51851852, 458.37037037, 444.48148148,\n",
       "        458.55555556, 456.03703704, 451.40740741, 448.59259259,\n",
       "        460.51851852, 449.37037037, 448.37037037, 458.92592593,\n",
       "        469.2962963 , 482.48148148, 463.7037037 , 461.55555556,\n",
       "        468.85185185, 458.07407407, 440.96296296, 448.25925926,\n",
       "        443.96296296, 448.25925926, 453.40740741, 459.14814815,\n",
       "        458.25925926, 450.66666667, 454.03703704, 460.51851852,\n",
       "        455.7037037 , 463.11111111, 463.        , 459.88888889,\n",
       "        467.37037037, 463.96296296, 457.7037037 , 468.85185185,\n",
       "        465.18518519, 461.55555556, 475.48148148, 465.33333333,\n",
       "        465.88888889, 472.74074074, 461.7037037 , 459.40740741,\n",
       "        471.62962963, 467.77777778, 461.85185185, 461.85185185,\n",
       "        469.74074074, 467.59259259, 457.03703704, 463.88888889,\n",
       "        465.37037037, 454.96296296, 473.33333333, 467.85185185,\n",
       "        458.11111111, 454.55555556, 456.66666667, 459.25925926,\n",
       "        467.48148148, 462.51851852, 455.62962963, 449.74074074,\n",
       "        464.48148148, 456.48148148, 454.62962963, 460.2962963 ,\n",
       "        462.81481481, 458.74074074, 459.59259259, 464.33333333,\n",
       "        458.7037037 , 461.66666667, 451.2962963 , 453.22222222,\n",
       "        463.66666667, 461.48148148, 451.88888889, 465.37037037,\n",
       "        462.74074074, 453.33333333, 457.7037037 , 460.74074074,\n",
       "        452.7037037 , 456.88888889, 454.92592593, 453.77777778,\n",
       "        453.77777778, 459.03703704, 452.62962963, 449.88888889,\n",
       "        465.40740741, 460.07407407, 454.14814815, 460.81481481,\n",
       "        463.59259259, 457.62962963, 453.18518519, 461.25925926,\n",
       "        453.66666667, 451.22222222, 463.7037037 , 454.03703704,\n",
       "        451.11111111, 455.40740741, 455.96296296, 453.11111111,\n",
       "        448.7037037 , 446.14814815, 443.51851852, 449.51851852,\n",
       "        449.92592593, 442.22222222, 439.33333333, 446.81481481,\n",
       "        441.03703704, 433.11111111, 445.18518519, 448.07407407,\n",
       "        448.11111111, 444.2962963 , 445.        , 450.55555556,\n",
       "        443.14814815, 439.77777778, 450.59259259, 445.96296296,\n",
       "        444.18518519, 459.25925926, 456.55555556, 460.44444444,\n",
       "        454.2962963 , 447.77777778, 454.85185185, 455.59259259,\n",
       "        445.81481481, 458.48148148, 449.55555556, 446.81481481]),\n",
       " 21: array([469.2, 475.4, 475.6, 484.2, 494.6, 491.4, 474.6, 488.6, 476.4,\n",
       "        420.8, 469.8, 468.4, 469. , 500.8, 465.8, 475.4, 485.6, 468. ,\n",
       "        480.2, 485.2, 479.2, 488.2, 483.6, 502. , 469.6, 478.8, 484.8,\n",
       "        483.8, 484.8, 492.2, 487. , 486.8, 491.8, 485.8, 489.4, 488.6,\n",
       "        493.6, 492.8, 484.8, 482.2, 482.2, 489.8, 482.8, 482.2, 474.4,\n",
       "        475.2, 476.4, 471.4, 478.6, 468.8, 479.8, 468.6, 461.2, 466. ,\n",
       "        455.2, 409.4, 441.2, 459.4, 479.8, 475.8, 471.2, 474.6, 473.2,\n",
       "        477.4, 478. , 477.8, 477.2, 477. , 474.2, 464.4, 474.8, 477.4,\n",
       "        463.6, 474. , 463.2, 466. , 467. , 465. , 453.8, 451.6, 457.2,\n",
       "        453.2, 459.8, 456.4, 454. , 446.8, 439. , 454.8, 450.8, 441.4,\n",
       "        434.4, 436.4, 437.6, 446.6, 442. , 430.2, 326.8, 414. , 426.2,\n",
       "        465. , 446.8, 466.4, 459.4, 476.8, 466.6, 472.6, 482.8, 473.4,\n",
       "        479.8, 476.6, 468.8, 465. , 452.2, 443. , 454.4, 446.6, 438.4,\n",
       "        438. , 434.2, 436.8, 428.8, 440. , 435.8, 390.4, 439. , 439.4,\n",
       "        449.4, 452.2, 457.2, 459. , 478.4, 464. , 461.6, 470.2, 462.2,\n",
       "        462.4, 443.4, 443.2, 444.4, 432.6, 430.2, 425.6, 415.6, 421.2,\n",
       "        415.2, 411.6, 402.2, 405.6, 405.2, 397.8, 395.8, 408.2, 412. ,\n",
       "        394. , 406.4, 399.2, 397. , 399.6, 399.4, 386. , 404.6, 398. ,\n",
       "        401.8, 404. , 396.2, 395.2, 398.6, 396.2, 399.6, 399.6, 410. ,\n",
       "        423.8, 360.4, 323.8, 427.6, 434.2, 427.6, 431. , 437. , 460.4,\n",
       "        453.4, 452. , 474. , 459. , 471.2, 460.6, 468.2, 461.4, 462.4,\n",
       "        447.2, 445.8, 432.2, 430.8, 434.2, 426.4, 425.6, 417.2, 418.6,\n",
       "        413.6, 410.4, 429.8, 411.8, 413.4, 426.8, 411.2, 414.8, 408.6,\n",
       "        411.2, 419. , 416.2, 414.8, 420. , 405.8, 411.8, 352.4, 409.6,\n",
       "        406.8, 415.8, 440.4, 444.4, 447.4, 454.4, 455.4, 459.6, 463.2,\n",
       "        464.6, 453.6, 459.2, 440.2, 435.4, 439.2, 433.6, 427.8, 431.8,\n",
       "        423. , 417.2, 414. , 418.2, 422.2, 414.4, 410.2, 409.8, 413.8,\n",
       "        395. , 405.6, 405.2, 410.6, 417.2, 417. , 420. , 421.6, 421.8,\n",
       "        423. , 428.6, 416.6, 411.6, 404.8, 391.4, 406.4, 415. , 420. ,\n",
       "        409.4, 401. , 417. , 424.8, 429.8, 437. , 456.4, 461.2, 472.8,\n",
       "        476.8, 467. , 471.6, 473. , 470.6, 479.4, 484. , 477.8, 496.8,\n",
       "        488. , 488. , 487.4, 494.6, 498.2, 496.6, 496. , 493. , 501.6,\n",
       "        479.2, 464.6, 446.4, 453. , 455.6, 459.4, 454.6, 446.8, 450.8,\n",
       "        452.6, 444. , 448.2])}"
      ]
     },
     "execution_count": 17,
     "metadata": {},
     "output_type": "execute_result"
    }
   ],
   "source": [
    "roi_time_series"
   ]
  },
  {
   "cell_type": "code",
   "execution_count": 18,
   "metadata": {},
   "outputs": [],
   "source": [
    "# Convert to DataFrame\n",
    "roi_df = pd.DataFrame(roi_time_series)\n"
   ]
  },
  {
   "cell_type": "code",
   "execution_count": 19,
   "metadata": {},
   "outputs": [
    {
     "data": {
      "text/html": [
       "<div>\n",
       "<style scoped>\n",
       "    .dataframe tbody tr th:only-of-type {\n",
       "        vertical-align: middle;\n",
       "    }\n",
       "\n",
       "    .dataframe tbody tr th {\n",
       "        vertical-align: top;\n",
       "    }\n",
       "\n",
       "    .dataframe thead th {\n",
       "        text-align: right;\n",
       "    }\n",
       "</style>\n",
       "<table border=\"1\" class=\"dataframe\">\n",
       "  <thead>\n",
       "    <tr style=\"text-align: right;\">\n",
       "      <th></th>\n",
       "      <th>1</th>\n",
       "      <th>2</th>\n",
       "      <th>3</th>\n",
       "      <th>4</th>\n",
       "      <th>5</th>\n",
       "      <th>6</th>\n",
       "      <th>7</th>\n",
       "      <th>8</th>\n",
       "      <th>9</th>\n",
       "      <th>10</th>\n",
       "      <th>...</th>\n",
       "      <th>12</th>\n",
       "      <th>13</th>\n",
       "      <th>14</th>\n",
       "      <th>15</th>\n",
       "      <th>16</th>\n",
       "      <th>17</th>\n",
       "      <th>18</th>\n",
       "      <th>19</th>\n",
       "      <th>20</th>\n",
       "      <th>21</th>\n",
       "    </tr>\n",
       "  </thead>\n",
       "  <tbody>\n",
       "    <tr>\n",
       "      <th>0</th>\n",
       "      <td>720.646998</td>\n",
       "      <td>808.780566</td>\n",
       "      <td>789.577778</td>\n",
       "      <td>628.645963</td>\n",
       "      <td>715.533333</td>\n",
       "      <td>574.344828</td>\n",
       "      <td>735.175676</td>\n",
       "      <td>524.631090</td>\n",
       "      <td>671.428571</td>\n",
       "      <td>742.2875</td>\n",
       "      <td>...</td>\n",
       "      <td>692.445239</td>\n",
       "      <td>779.448363</td>\n",
       "      <td>772.621053</td>\n",
       "      <td>611.491803</td>\n",
       "      <td>828.279070</td>\n",
       "      <td>457.205882</td>\n",
       "      <td>393.333333</td>\n",
       "      <td>429.090909</td>\n",
       "      <td>429.000000</td>\n",
       "      <td>469.2</td>\n",
       "    </tr>\n",
       "    <tr>\n",
       "      <th>1</th>\n",
       "      <td>719.039794</td>\n",
       "      <td>807.074528</td>\n",
       "      <td>782.622222</td>\n",
       "      <td>627.652174</td>\n",
       "      <td>713.988889</td>\n",
       "      <td>575.879310</td>\n",
       "      <td>731.202703</td>\n",
       "      <td>522.902552</td>\n",
       "      <td>669.233083</td>\n",
       "      <td>737.6625</td>\n",
       "      <td>...</td>\n",
       "      <td>690.184419</td>\n",
       "      <td>776.482268</td>\n",
       "      <td>764.094737</td>\n",
       "      <td>608.286885</td>\n",
       "      <td>820.255814</td>\n",
       "      <td>456.750000</td>\n",
       "      <td>391.866667</td>\n",
       "      <td>428.477273</td>\n",
       "      <td>429.814815</td>\n",
       "      <td>475.4</td>\n",
       "    </tr>\n",
       "    <tr>\n",
       "      <th>2</th>\n",
       "      <td>719.011321</td>\n",
       "      <td>807.540943</td>\n",
       "      <td>779.444444</td>\n",
       "      <td>627.801242</td>\n",
       "      <td>713.866667</td>\n",
       "      <td>576.267241</td>\n",
       "      <td>730.932432</td>\n",
       "      <td>523.329466</td>\n",
       "      <td>668.586466</td>\n",
       "      <td>736.6250</td>\n",
       "      <td>...</td>\n",
       "      <td>689.855476</td>\n",
       "      <td>775.753702</td>\n",
       "      <td>761.663158</td>\n",
       "      <td>610.081967</td>\n",
       "      <td>818.627907</td>\n",
       "      <td>459.014706</td>\n",
       "      <td>391.366667</td>\n",
       "      <td>427.363636</td>\n",
       "      <td>426.444444</td>\n",
       "      <td>475.6</td>\n",
       "    </tr>\n",
       "    <tr>\n",
       "      <th>3</th>\n",
       "      <td>718.877873</td>\n",
       "      <td>806.840189</td>\n",
       "      <td>778.681481</td>\n",
       "      <td>628.596273</td>\n",
       "      <td>712.688889</td>\n",
       "      <td>574.034483</td>\n",
       "      <td>731.540541</td>\n",
       "      <td>522.777262</td>\n",
       "      <td>669.330827</td>\n",
       "      <td>736.5125</td>\n",
       "      <td>...</td>\n",
       "      <td>689.744825</td>\n",
       "      <td>775.428488</td>\n",
       "      <td>760.905263</td>\n",
       "      <td>611.426230</td>\n",
       "      <td>816.046512</td>\n",
       "      <td>457.750000</td>\n",
       "      <td>394.400000</td>\n",
       "      <td>429.250000</td>\n",
       "      <td>432.222222</td>\n",
       "      <td>484.2</td>\n",
       "    </tr>\n",
       "    <tr>\n",
       "      <th>4</th>\n",
       "      <td>720.161235</td>\n",
       "      <td>809.560377</td>\n",
       "      <td>779.266667</td>\n",
       "      <td>632.857143</td>\n",
       "      <td>718.933333</td>\n",
       "      <td>577.681034</td>\n",
       "      <td>734.864865</td>\n",
       "      <td>524.860789</td>\n",
       "      <td>668.383459</td>\n",
       "      <td>732.5250</td>\n",
       "      <td>...</td>\n",
       "      <td>691.214528</td>\n",
       "      <td>777.137373</td>\n",
       "      <td>761.600000</td>\n",
       "      <td>611.409836</td>\n",
       "      <td>824.581395</td>\n",
       "      <td>459.294118</td>\n",
       "      <td>395.500000</td>\n",
       "      <td>432.272727</td>\n",
       "      <td>440.037037</td>\n",
       "      <td>494.6</td>\n",
       "    </tr>\n",
       "  </tbody>\n",
       "</table>\n",
       "<p>5 rows × 21 columns</p>\n",
       "</div>"
      ],
      "text/plain": [
       "           1           2           3           4           5           6   \\\n",
       "0  720.646998  808.780566  789.577778  628.645963  715.533333  574.344828   \n",
       "1  719.039794  807.074528  782.622222  627.652174  713.988889  575.879310   \n",
       "2  719.011321  807.540943  779.444444  627.801242  713.866667  576.267241   \n",
       "3  718.877873  806.840189  778.681481  628.596273  712.688889  574.034483   \n",
       "4  720.161235  809.560377  779.266667  632.857143  718.933333  577.681034   \n",
       "\n",
       "           7           8           9         10  ...          12          13  \\\n",
       "0  735.175676  524.631090  671.428571  742.2875  ...  692.445239  779.448363   \n",
       "1  731.202703  522.902552  669.233083  737.6625  ...  690.184419  776.482268   \n",
       "2  730.932432  523.329466  668.586466  736.6250  ...  689.855476  775.753702   \n",
       "3  731.540541  522.777262  669.330827  736.5125  ...  689.744825  775.428488   \n",
       "4  734.864865  524.860789  668.383459  732.5250  ...  691.214528  777.137373   \n",
       "\n",
       "           14          15          16          17          18          19  \\\n",
       "0  772.621053  611.491803  828.279070  457.205882  393.333333  429.090909   \n",
       "1  764.094737  608.286885  820.255814  456.750000  391.866667  428.477273   \n",
       "2  761.663158  610.081967  818.627907  459.014706  391.366667  427.363636   \n",
       "3  760.905263  611.426230  816.046512  457.750000  394.400000  429.250000   \n",
       "4  761.600000  611.409836  824.581395  459.294118  395.500000  432.272727   \n",
       "\n",
       "           20     21  \n",
       "0  429.000000  469.2  \n",
       "1  429.814815  475.4  \n",
       "2  426.444444  475.6  \n",
       "3  432.222222  484.2  \n",
       "4  440.037037  494.6  \n",
       "\n",
       "[5 rows x 21 columns]"
      ]
     },
     "execution_count": 19,
     "metadata": {},
     "output_type": "execute_result"
    }
   ],
   "source": [
    "roi_df.head()"
   ]
  },
  {
   "cell_type": "code",
   "execution_count": 20,
   "metadata": {},
   "outputs": [
    {
     "data": {
      "text/html": [
       "<div>\n",
       "<style scoped>\n",
       "    .dataframe tbody tr th:only-of-type {\n",
       "        vertical-align: middle;\n",
       "    }\n",
       "\n",
       "    .dataframe tbody tr th {\n",
       "        vertical-align: top;\n",
       "    }\n",
       "\n",
       "    .dataframe thead th {\n",
       "        text-align: right;\n",
       "    }\n",
       "</style>\n",
       "<table border=\"1\" class=\"dataframe\">\n",
       "  <thead>\n",
       "    <tr style=\"text-align: right;\">\n",
       "      <th></th>\n",
       "      <th>1</th>\n",
       "      <th>2</th>\n",
       "      <th>3</th>\n",
       "      <th>4</th>\n",
       "      <th>5</th>\n",
       "      <th>6</th>\n",
       "      <th>7</th>\n",
       "      <th>8</th>\n",
       "      <th>9</th>\n",
       "      <th>10</th>\n",
       "      <th>...</th>\n",
       "      <th>12</th>\n",
       "      <th>13</th>\n",
       "      <th>14</th>\n",
       "      <th>15</th>\n",
       "      <th>16</th>\n",
       "      <th>17</th>\n",
       "      <th>18</th>\n",
       "      <th>19</th>\n",
       "      <th>20</th>\n",
       "      <th>21</th>\n",
       "    </tr>\n",
       "  </thead>\n",
       "  <tbody>\n",
       "    <tr>\n",
       "      <th>0</th>\n",
       "      <td>720.646998</td>\n",
       "      <td>808.780566</td>\n",
       "      <td>789.577778</td>\n",
       "      <td>628.645963</td>\n",
       "      <td>715.533333</td>\n",
       "      <td>574.344828</td>\n",
       "      <td>735.175676</td>\n",
       "      <td>524.631090</td>\n",
       "      <td>671.428571</td>\n",
       "      <td>742.2875</td>\n",
       "      <td>...</td>\n",
       "      <td>692.445239</td>\n",
       "      <td>779.448363</td>\n",
       "      <td>772.621053</td>\n",
       "      <td>611.491803</td>\n",
       "      <td>828.279070</td>\n",
       "      <td>457.205882</td>\n",
       "      <td>393.333333</td>\n",
       "      <td>429.090909</td>\n",
       "      <td>429.000000</td>\n",
       "      <td>469.2</td>\n",
       "    </tr>\n",
       "    <tr>\n",
       "      <th>1</th>\n",
       "      <td>719.039794</td>\n",
       "      <td>807.074528</td>\n",
       "      <td>782.622222</td>\n",
       "      <td>627.652174</td>\n",
       "      <td>713.988889</td>\n",
       "      <td>575.879310</td>\n",
       "      <td>731.202703</td>\n",
       "      <td>522.902552</td>\n",
       "      <td>669.233083</td>\n",
       "      <td>737.6625</td>\n",
       "      <td>...</td>\n",
       "      <td>690.184419</td>\n",
       "      <td>776.482268</td>\n",
       "      <td>764.094737</td>\n",
       "      <td>608.286885</td>\n",
       "      <td>820.255814</td>\n",
       "      <td>456.750000</td>\n",
       "      <td>391.866667</td>\n",
       "      <td>428.477273</td>\n",
       "      <td>429.814815</td>\n",
       "      <td>475.4</td>\n",
       "    </tr>\n",
       "    <tr>\n",
       "      <th>2</th>\n",
       "      <td>719.011321</td>\n",
       "      <td>807.540943</td>\n",
       "      <td>779.444444</td>\n",
       "      <td>627.801242</td>\n",
       "      <td>713.866667</td>\n",
       "      <td>576.267241</td>\n",
       "      <td>730.932432</td>\n",
       "      <td>523.329466</td>\n",
       "      <td>668.586466</td>\n",
       "      <td>736.6250</td>\n",
       "      <td>...</td>\n",
       "      <td>689.855476</td>\n",
       "      <td>775.753702</td>\n",
       "      <td>761.663158</td>\n",
       "      <td>610.081967</td>\n",
       "      <td>818.627907</td>\n",
       "      <td>459.014706</td>\n",
       "      <td>391.366667</td>\n",
       "      <td>427.363636</td>\n",
       "      <td>426.444444</td>\n",
       "      <td>475.6</td>\n",
       "    </tr>\n",
       "    <tr>\n",
       "      <th>3</th>\n",
       "      <td>718.877873</td>\n",
       "      <td>806.840189</td>\n",
       "      <td>778.681481</td>\n",
       "      <td>628.596273</td>\n",
       "      <td>712.688889</td>\n",
       "      <td>574.034483</td>\n",
       "      <td>731.540541</td>\n",
       "      <td>522.777262</td>\n",
       "      <td>669.330827</td>\n",
       "      <td>736.5125</td>\n",
       "      <td>...</td>\n",
       "      <td>689.744825</td>\n",
       "      <td>775.428488</td>\n",
       "      <td>760.905263</td>\n",
       "      <td>611.426230</td>\n",
       "      <td>816.046512</td>\n",
       "      <td>457.750000</td>\n",
       "      <td>394.400000</td>\n",
       "      <td>429.250000</td>\n",
       "      <td>432.222222</td>\n",
       "      <td>484.2</td>\n",
       "    </tr>\n",
       "    <tr>\n",
       "      <th>4</th>\n",
       "      <td>720.161235</td>\n",
       "      <td>809.560377</td>\n",
       "      <td>779.266667</td>\n",
       "      <td>632.857143</td>\n",
       "      <td>718.933333</td>\n",
       "      <td>577.681034</td>\n",
       "      <td>734.864865</td>\n",
       "      <td>524.860789</td>\n",
       "      <td>668.383459</td>\n",
       "      <td>732.5250</td>\n",
       "      <td>...</td>\n",
       "      <td>691.214528</td>\n",
       "      <td>777.137373</td>\n",
       "      <td>761.600000</td>\n",
       "      <td>611.409836</td>\n",
       "      <td>824.581395</td>\n",
       "      <td>459.294118</td>\n",
       "      <td>395.500000</td>\n",
       "      <td>432.272727</td>\n",
       "      <td>440.037037</td>\n",
       "      <td>494.6</td>\n",
       "    </tr>\n",
       "    <tr>\n",
       "      <th>...</th>\n",
       "      <td>...</td>\n",
       "      <td>...</td>\n",
       "      <td>...</td>\n",
       "      <td>...</td>\n",
       "      <td>...</td>\n",
       "      <td>...</td>\n",
       "      <td>...</td>\n",
       "      <td>...</td>\n",
       "      <td>...</td>\n",
       "      <td>...</td>\n",
       "      <td>...</td>\n",
       "      <td>...</td>\n",
       "      <td>...</td>\n",
       "      <td>...</td>\n",
       "      <td>...</td>\n",
       "      <td>...</td>\n",
       "      <td>...</td>\n",
       "      <td>...</td>\n",
       "      <td>...</td>\n",
       "      <td>...</td>\n",
       "      <td>...</td>\n",
       "    </tr>\n",
       "    <tr>\n",
       "      <th>295</th>\n",
       "      <td>725.955746</td>\n",
       "      <td>807.667170</td>\n",
       "      <td>764.096296</td>\n",
       "      <td>627.857143</td>\n",
       "      <td>699.666667</td>\n",
       "      <td>572.198276</td>\n",
       "      <td>735.189189</td>\n",
       "      <td>531.814385</td>\n",
       "      <td>680.541353</td>\n",
       "      <td>753.1000</td>\n",
       "      <td>...</td>\n",
       "      <td>696.199849</td>\n",
       "      <td>778.714536</td>\n",
       "      <td>762.800000</td>\n",
       "      <td>608.631148</td>\n",
       "      <td>798.465116</td>\n",
       "      <td>453.044118</td>\n",
       "      <td>380.066667</td>\n",
       "      <td>441.227273</td>\n",
       "      <td>455.592593</td>\n",
       "      <td>446.8</td>\n",
       "    </tr>\n",
       "    <tr>\n",
       "      <th>296</th>\n",
       "      <td>725.790395</td>\n",
       "      <td>807.303396</td>\n",
       "      <td>764.044444</td>\n",
       "      <td>627.416149</td>\n",
       "      <td>701.700000</td>\n",
       "      <td>573.956897</td>\n",
       "      <td>735.864865</td>\n",
       "      <td>533.004640</td>\n",
       "      <td>677.518797</td>\n",
       "      <td>755.0875</td>\n",
       "      <td>...</td>\n",
       "      <td>695.517877</td>\n",
       "      <td>778.454209</td>\n",
       "      <td>762.578947</td>\n",
       "      <td>608.639344</td>\n",
       "      <td>798.837209</td>\n",
       "      <td>454.102941</td>\n",
       "      <td>383.900000</td>\n",
       "      <td>434.954545</td>\n",
       "      <td>445.814815</td>\n",
       "      <td>450.8</td>\n",
       "    </tr>\n",
       "    <tr>\n",
       "      <th>297</th>\n",
       "      <td>725.625729</td>\n",
       "      <td>806.826981</td>\n",
       "      <td>764.259259</td>\n",
       "      <td>628.677019</td>\n",
       "      <td>700.311111</td>\n",
       "      <td>572.086207</td>\n",
       "      <td>737.081081</td>\n",
       "      <td>533.426914</td>\n",
       "      <td>677.857143</td>\n",
       "      <td>752.4125</td>\n",
       "      <td>...</td>\n",
       "      <td>695.687241</td>\n",
       "      <td>778.276306</td>\n",
       "      <td>762.957895</td>\n",
       "      <td>609.655738</td>\n",
       "      <td>796.697674</td>\n",
       "      <td>455.397059</td>\n",
       "      <td>379.766667</td>\n",
       "      <td>435.818182</td>\n",
       "      <td>458.481481</td>\n",
       "      <td>452.6</td>\n",
       "    </tr>\n",
       "    <tr>\n",
       "      <th>298</th>\n",
       "      <td>725.849400</td>\n",
       "      <td>808.180000</td>\n",
       "      <td>765.155556</td>\n",
       "      <td>629.881988</td>\n",
       "      <td>701.833333</td>\n",
       "      <td>573.758621</td>\n",
       "      <td>737.081081</td>\n",
       "      <td>532.329466</td>\n",
       "      <td>681.030075</td>\n",
       "      <td>754.0625</td>\n",
       "      <td>...</td>\n",
       "      <td>696.225066</td>\n",
       "      <td>779.102299</td>\n",
       "      <td>762.757895</td>\n",
       "      <td>609.122951</td>\n",
       "      <td>798.255814</td>\n",
       "      <td>453.720588</td>\n",
       "      <td>380.566667</td>\n",
       "      <td>438.795455</td>\n",
       "      <td>449.555556</td>\n",
       "      <td>444.0</td>\n",
       "    </tr>\n",
       "    <tr>\n",
       "      <th>299</th>\n",
       "      <td>725.753002</td>\n",
       "      <td>808.177170</td>\n",
       "      <td>765.192593</td>\n",
       "      <td>629.291925</td>\n",
       "      <td>702.211111</td>\n",
       "      <td>574.732759</td>\n",
       "      <td>738.418919</td>\n",
       "      <td>532.665893</td>\n",
       "      <td>678.097744</td>\n",
       "      <td>756.3500</td>\n",
       "      <td>...</td>\n",
       "      <td>695.957847</td>\n",
       "      <td>778.967069</td>\n",
       "      <td>762.557895</td>\n",
       "      <td>610.860656</td>\n",
       "      <td>801.023256</td>\n",
       "      <td>454.382353</td>\n",
       "      <td>381.400000</td>\n",
       "      <td>435.818182</td>\n",
       "      <td>446.814815</td>\n",
       "      <td>448.2</td>\n",
       "    </tr>\n",
       "  </tbody>\n",
       "</table>\n",
       "<p>300 rows × 21 columns</p>\n",
       "</div>"
      ],
      "text/plain": [
       "             1           2           3           4           5           6   \\\n",
       "0    720.646998  808.780566  789.577778  628.645963  715.533333  574.344828   \n",
       "1    719.039794  807.074528  782.622222  627.652174  713.988889  575.879310   \n",
       "2    719.011321  807.540943  779.444444  627.801242  713.866667  576.267241   \n",
       "3    718.877873  806.840189  778.681481  628.596273  712.688889  574.034483   \n",
       "4    720.161235  809.560377  779.266667  632.857143  718.933333  577.681034   \n",
       "..          ...         ...         ...         ...         ...         ...   \n",
       "295  725.955746  807.667170  764.096296  627.857143  699.666667  572.198276   \n",
       "296  725.790395  807.303396  764.044444  627.416149  701.700000  573.956897   \n",
       "297  725.625729  806.826981  764.259259  628.677019  700.311111  572.086207   \n",
       "298  725.849400  808.180000  765.155556  629.881988  701.833333  573.758621   \n",
       "299  725.753002  808.177170  765.192593  629.291925  702.211111  574.732759   \n",
       "\n",
       "             7           8           9         10  ...          12  \\\n",
       "0    735.175676  524.631090  671.428571  742.2875  ...  692.445239   \n",
       "1    731.202703  522.902552  669.233083  737.6625  ...  690.184419   \n",
       "2    730.932432  523.329466  668.586466  736.6250  ...  689.855476   \n",
       "3    731.540541  522.777262  669.330827  736.5125  ...  689.744825   \n",
       "4    734.864865  524.860789  668.383459  732.5250  ...  691.214528   \n",
       "..          ...         ...         ...       ...  ...         ...   \n",
       "295  735.189189  531.814385  680.541353  753.1000  ...  696.199849   \n",
       "296  735.864865  533.004640  677.518797  755.0875  ...  695.517877   \n",
       "297  737.081081  533.426914  677.857143  752.4125  ...  695.687241   \n",
       "298  737.081081  532.329466  681.030075  754.0625  ...  696.225066   \n",
       "299  738.418919  532.665893  678.097744  756.3500  ...  695.957847   \n",
       "\n",
       "             13          14          15          16          17          18  \\\n",
       "0    779.448363  772.621053  611.491803  828.279070  457.205882  393.333333   \n",
       "1    776.482268  764.094737  608.286885  820.255814  456.750000  391.866667   \n",
       "2    775.753702  761.663158  610.081967  818.627907  459.014706  391.366667   \n",
       "3    775.428488  760.905263  611.426230  816.046512  457.750000  394.400000   \n",
       "4    777.137373  761.600000  611.409836  824.581395  459.294118  395.500000   \n",
       "..          ...         ...         ...         ...         ...         ...   \n",
       "295  778.714536  762.800000  608.631148  798.465116  453.044118  380.066667   \n",
       "296  778.454209  762.578947  608.639344  798.837209  454.102941  383.900000   \n",
       "297  778.276306  762.957895  609.655738  796.697674  455.397059  379.766667   \n",
       "298  779.102299  762.757895  609.122951  798.255814  453.720588  380.566667   \n",
       "299  778.967069  762.557895  610.860656  801.023256  454.382353  381.400000   \n",
       "\n",
       "             19          20     21  \n",
       "0    429.090909  429.000000  469.2  \n",
       "1    428.477273  429.814815  475.4  \n",
       "2    427.363636  426.444444  475.6  \n",
       "3    429.250000  432.222222  484.2  \n",
       "4    432.272727  440.037037  494.6  \n",
       "..          ...         ...    ...  \n",
       "295  441.227273  455.592593  446.8  \n",
       "296  434.954545  445.814815  450.8  \n",
       "297  435.818182  458.481481  452.6  \n",
       "298  438.795455  449.555556  444.0  \n",
       "299  435.818182  446.814815  448.2  \n",
       "\n",
       "[300 rows x 21 columns]"
      ]
     },
     "execution_count": 20,
     "metadata": {},
     "output_type": "execute_result"
    }
   ],
   "source": [
    "roi_df"
   ]
  },
  {
   "cell_type": "code",
   "execution_count": 21,
   "metadata": {},
   "outputs": [
    {
     "data": {
      "text/plain": [
       "0      720.646998\n",
       "1      719.039794\n",
       "2      719.011321\n",
       "3      718.877873\n",
       "4      720.161235\n",
       "          ...    \n",
       "295    725.955746\n",
       "296    725.790395\n",
       "297    725.625729\n",
       "298    725.849400\n",
       "299    725.753002\n",
       "Name: 1, Length: 300, dtype: float64"
      ]
     },
     "execution_count": 21,
     "metadata": {},
     "output_type": "execute_result"
    }
   ],
   "source": [
    "roi_df.iloc[:, 0]"
   ]
  },
  {
   "cell_type": "code",
   "execution_count": null,
   "metadata": {},
   "outputs": [],
   "source": [
    "# Save as CSV\n",
    "roi_df.to_csv(\"roi_activity.csv\", index=False)\n"
   ]
  },
  {
   "cell_type": "code",
   "execution_count": 54,
   "metadata": {},
   "outputs": [
    {
     "data": {
      "image/png": "[encoded data removed]",
      "text/plain": [
       "<Figure size 640x480 with 1 Axes>"
      ]
     },
     "metadata": {},
     "output_type": "display_data"
    }
   ],
   "source": [
    "# Plot an example ROI signal\n",
    "plt.plot(roi_df.iloc[:, 0], label = atlas_subcortical.labels[1])  # Plot the first region\n",
    "plt.xlabel(\"Time\")\n",
    "plt.ylabel(\"BOLD Signal\")\n",
    "plt.title(\"Region Activity Over Time\")\n",
    "plt.legend()\n",
    "plt.show()"
   ]
  },
  {
   "cell_type": "code",
   "execution_count": 24,
   "metadata": {},
   "outputs": [],
   "source": [
    "index = 0"
   ]
  },
  {
   "cell_type": "code",
   "execution_count": 59,
   "metadata": {},
   "outputs": [
    {
     "data": {
      "image/png": "[encoded data removed]",
      "text/plain": [
       "<Figure size 640x480 with 1 Axes>"
      ]
     },
     "metadata": {},
     "output_type": "display_data"
    }
   ],
   "source": [
    "# Plot an example ROI signal\n",
    "plt.plot(roi_df.iloc[:, index], label = atlas_subcortical.labels[index+1])  # Plot the first region\n",
    "plt.xlabel(\"Time\")\n",
    "plt.ylabel(\"BOLD Signal\")\n",
    "plt.title(f\"{atlas_subcortical.labels[index+1]} Region Activity Over Time\")\n",
    "plt.legend()\n",
    "plt.grid(True)\n",
    "plt.show()\n",
    "index +=1\n",
    "index %= roi_df.shape[1]"
   ]
  },
  {
   "cell_type": "markdown",
   "metadata": {},
   "source": [
    "### Calculating the ALFF/fALFF and the Bold Variability"
   ]
  },
  {
   "cell_type": "code",
   "execution_count": null,
   "metadata": {},
   "outputs": [],
   "source": [
    "index = 0"
   ]
  },
  {
   "cell_type": "code",
   "execution_count": null,
   "metadata": {},
   "outputs": [],
   "source": [
    "roi_df.iloc[:, index]"
   ]
  },
  {
   "cell_type": "code",
   "execution_count": null,
   "metadata": {},
   "outputs": [],
   "source": [
    "# Parameters\n",
    "TR = 2 # Repetition time (in seconds)\n",
    "low_freq_band = (0.01, 0.1) # Low-frequency range for ALFF (Hz)\n",
    "n_timepoints = roi_df.shape[0]\n",
    "frequencies = fftfreq(n_timepoints, d=TR)\n",
    "fft_data = fft(roi_df.iloc[:, index], axis=-1)\n"
   ]
  },
  {
   "cell_type": "code",
   "execution_count": null,
   "metadata": {},
   "outputs": [],
   "source": [
    "roi_df.iloc[:, 0]"
   ]
  },
  {
   "cell_type": "code",
   "execution_count": null,
   "metadata": {},
   "outputs": [],
   "source": [
    "\n",
    "# Create a mask for the low-frequency band\n",
    "low_freq_mask = np.logical_and(frequencies >= low_freq_band[0], frequencies <= low_freq_band[1])\n",
    "\n",
    "# Compute the ALFF: average amplitude in the low-frequency band\n",
    "alff = np.abs(fft_data)[..., low_freq_mask].mean(axis=-1)\n",
    "\n",
    "# For fALFF: Compute the total power in the 0.01-0.25 Hz range\n",
    "total_power = np.abs(fft_data)[..., (frequencies >= 0.01) & (frequencies <= 0.25)].sum(axis=-1)\n",
    "\n",
    "# Compute fALFF: Normalized ALFF\n",
    "falff = alff / total_power\n"
   ]
  },
  {
   "cell_type": "code",
   "execution_count": null,
   "metadata": {},
   "outputs": [],
   "source": [
    "# BOLD Signal Variability (e.g., using Coefficient of Variation)\n",
    "cv = np.std(roi_df.iloc[:, index]) / np.mean(roi_df.iloc[:, index])"
   ]
  },
  {
   "cell_type": "code",
   "execution_count": null,
   "metadata": {},
   "outputs": [],
   "source": [
    "falff"
   ]
  },
  {
   "cell_type": "code",
   "execution_count": null,
   "metadata": {},
   "outputs": [],
   "source": [
    "cv"
   ]
  },
  {
   "cell_type": "markdown",
   "metadata": {},
   "source": [
    "# Next Steps"
   ]
  },
  {
   "cell_type": "markdown",
   "metadata": {},
   "source": [
    "\n",
    "- [ ] Creating region_activities all_brains:  a list of dictionaries, where each dictionary maps region names to activity levels\n",
    "- [ ] regions: atlas.labels[1:]\n",
    "- [ ] brains_fmri: exists\n",
    "- [ ] Improvement: increase granularity by having multiple signals from regions where regions correspond to Link-sized regions with 1024 BOLD temporal signals\n",
    "- [ ] Compute the Activity Difference\n",
    "- [ ] Create the Graph\n",
    "- [ ] Export the graph data\n",
    "- [ ] visualize\n",
    "- [ ] host visualization on github pages\n",
    "- [ ] include sub-cortical regions\n",
    "- [ ] cluster the data by age, handedness, sex, and education\n",
    "- [ ] cluster by health, MCI, and Demented\n",
    "- [ ] evaluate level of stimulation to apply to achieve normal cognitive status\n",
    "- [ ] simulate applying stimulation to MCI or Demented to achieve Healthy Cognitive Function\n"
   ]
  },
  {
   "cell_type": "markdown",
   "metadata": {},
   "source": [
    "## Acquiring All Signals For all Brains"
   ]
  },
  {
   "cell_type": "code",
   "execution_count": 73,
   "metadata": {},
   "outputs": [],
   "source": [
    "from nilearn import datasets, plotting\n",
    "\n",
    "# Fetch the Harvard-Oxford sub-cortical atlas (probabilistic)\n",
    "atlas_filename = \"../data/atlas/NMS-SNc-atlas-master/SN_R_probatlas27_50.nii.gz\"\n",
    "\n",
    "# Plot the atlas to view the regions including substantia nigra\n",
    "plotting.plot_roi(atlas_filename, title=\"Harvard-Oxford Sub-cortical Atlas\", display_mode=\"ortho\", draw_cross=True, output_file=\"../img/brain_atlas.png\")\n",
    "plotting.show()"
   ]
  },
  {
   "cell_type": "code",
   "execution_count": 78,
   "metadata": {},
   "outputs": [
    {
     "data": {
      "text/plain": [
       "<nilearn.plotting.displays._slicers.OrthoSlicer at 0x7141886c3c40>"
      ]
     },
     "execution_count": 78,
     "metadata": {},
     "output_type": "execute_result"
    },
    {
     "data": {
      "image/png": "[encoded data removed]",
      "text/plain": [
       "<Figure size 660x350 with 4 Axes>"
      ]
     },
     "metadata": {},
     "output_type": "display_data"
    }
   ],
   "source": [
    "plotting.plot_roi(atlas_filename, title=\"Harvard-Oxford Sub-cortical Atlas\", display_mode=\"ortho\", draw_cross=True)"
   ]
  },
  {
   "cell_type": "code",
   "execution_count": 80,
   "metadata": {},
   "outputs": [
    {
     "data": {
      "text/plain": [
       "<nilearn.plotting.displays._slicers.OrthoSlicer at 0x7141884c7400>"
      ]
     },
     "execution_count": 80,
     "metadata": {},
     "output_type": "execute_result"
    },
    {
     "data": {
      "image/png": "[encoded data removed]",
      "text/plain": [
       "<Figure size 660x350 with 4 Axes>"
      ]
     },
     "metadata": {},
     "output_type": "display_data"
    }
   ],
   "source": [
    "plotting.plot_roi(atlas_img_cortex, title=\"Harvard-Oxford Sub-cortical Atlas\", display_mode=\"ortho\", draw_cross=True)\n"
   ]
  },
  {
   "cell_type": "code",
   "execution_count": 79,
   "metadata": {},
   "outputs": [
    {
     "data": {
      "text/plain": [
       "<nilearn.plotting.displays._slicers.OrthoSlicer at 0x7141885d76d0>"
      ]
     },
     "execution_count": 79,
     "metadata": {},
     "output_type": "execute_result"
    },
    {
     "data": {
      "image/png": "[encoded data removed]",
      "text/plain": [
       "<Figure size 660x350 with 4 Axes>"
      ]
     },
     "metadata": {},
     "output_type": "display_data"
    }
   ],
   "source": [
    "plotting.plot_roi(atlas_img_subcortical, title=\"Harvard-Oxford Sub-cortical Atlas\", display_mode=\"ortho\", draw_cross=True)\n"
   ]
  },
  {
   "cell_type": "code",
   "execution_count": 71,
   "metadata": {},
   "outputs": [
    {
     "name": "stdout",
     "output_type": "stream",
     "text": [
      "Harvard-Oxford Sub-cortical Atlas\n",
      "\n",
      "y=-19 x=8 °\n",
      "\n",
      "z=-13\n",
      "\n",
      "Extracted coordinates: x = 8, y = -19, z = -13\n"
     ]
    }
   ],
   "source": [
    "\n",
    "# Load the image\n",
    "image_path = \"../img/brain_atlas.png\"\n",
    "image = Image.open(image_path)\n",
    "\n",
    "# Use pytesseract to extract text from the image\n",
    "extracted_text = pytesseract.image_to_string(image)\n",
    "\n",
    "# Print the extracted text to see the output\n",
    "print(extracted_text)\n",
    "\n",
    "# Example of extracted text\n",
    "extracted_text = \"Some other information x = 8, y = -19, z = -13 more text.\"\n",
    "\n",
    "# Regex to find the x, y, z coordinates\n",
    "coordinates = re.findall(r\"x\\s*=\\s*(-?\\d+),\\s*y\\s*=\\s*(-?\\d+),\\s*z\\s*=\\s*(-?\\d+)\", extracted_text)\n",
    "\n",
    "if coordinates:\n",
    "    x, y, z = map(int, coordinates[0])  # Convert extracted coordinates to integers\n",
    "    print(f\"Extracted coordinates: x = {x}, y = {y}, z = {z}\")"
   ]
  },
  {
   "cell_type": "code",
   "execution_count": 76,
   "metadata": {},
   "outputs": [
    {
     "data": {
      "text/html": [
       "<pre style=\"white-space:pre;overflow-x:auto;line-height:normal;font-family:Menlo,'DejaVu Sans Mono',consolas,'Courier New',monospace\"><span style=\"color: #000080; text-decoration-color: #000080; font-weight: bold\">[</span><span style=\"color: #000080; text-decoration-color: #000080\">get_dataset_dir</span><span style=\"color: #000080; text-decoration-color: #000080; font-weight: bold\">]</span> Dataset found in <span style=\"color: #800080; text-decoration-color: #800080\">/home/linux-pc/nilearn_data/</span><span style=\"color: #ff00ff; text-decoration-color: #ff00ff\">fsl</span>\n",
       "</pre>\n"
      ],
      "text/plain": [
       "\u001b[1;34m[\u001b[0m\u001b[34mget_dataset_dir\u001b[0m\u001b[1;34m]\u001b[0m Dataset found in \u001b[35m/home/linux-pc/nilearn_data/\u001b[0m\u001b[95mfsl\u001b[0m\n"
      ]
     },
     "metadata": {},
     "output_type": "display_data"
    },
    {
     "data": {
      "text/html": [
       "<pre style=\"white-space:pre;overflow-x:auto;line-height:normal;font-family:Menlo,'DejaVu Sans Mono',consolas,'Courier New',monospace\"><span style=\"color: #000080; text-decoration-color: #000080; font-weight: bold\">[</span><span style=\"color: #000080; text-decoration-color: #000080\">get_dataset_dir</span><span style=\"color: #000080; text-decoration-color: #000080; font-weight: bold\">]</span> Dataset found in <span style=\"color: #800080; text-decoration-color: #800080\">/home/linux-pc/nilearn_data/</span><span style=\"color: #ff00ff; text-decoration-color: #ff00ff\">fsl</span>\n",
       "</pre>\n"
      ],
      "text/plain": [
       "\u001b[1;34m[\u001b[0m\u001b[34mget_dataset_dir\u001b[0m\u001b[1;34m]\u001b[0m Dataset found in \u001b[35m/home/linux-pc/nilearn_data/\u001b[0m\u001b[95mfsl\u001b[0m\n"
      ]
     },
     "metadata": {},
     "output_type": "display_data"
    }
   ],
   "source": [
    "# Fetch the atlas (cortical or subcortical)\n",
    "atlas_cortex = fetch_atlas_harvard_oxford('cort-maxprob-thr25-1mm')  # 1mm resolution\n",
    "atlas_img_cortex = atlas_cortex.filename\n",
    "\n",
    "# Fetch the sub-cortical atlas\n",
    "atlas_subcortical = fetch_atlas_harvard_oxford('sub-maxprob-thr25-1mm')\n",
    "atlas_img_subcortical = atlas_subcortical.filename\n"
   ]
  },
  {
   "cell_type": "code",
   "execution_count": 37,
   "metadata": {},
   "outputs": [],
   "source": [
    "region_coordinate_df = pd.DataFrame(['Frontal Pole', 'Insular Cortex', 'Superior Frontal Gyrus', 'Middle Frontal Gyrus', 'Inferior Frontal Gyrus, pars triangularis', 'Inferior Frontal Gyrus, pars opercularis', 'Precentral Gyrus', 'Temporal Pole', 'Superior Temporal Gyrus, anterior division', 'Superior Temporal Gyrus, posterior division', 'Middle Temporal Gyrus, anterior division', 'Middle Temporal Gyrus, posterior division', 'Middle Temporal Gyrus, temporooccipital part', 'Inferior Temporal Gyrus, anterior division', 'Inferior Temporal Gyrus, posterior division', 'Inferior Temporal Gyrus, temporooccipital part', 'Postcentral Gyrus', 'Superior Parietal Lobule', 'Supramarginal Gyrus, anterior division', 'Supramarginal Gyrus, posterior division', 'Angular Gyrus', 'Lateral Occipital Cortex, superior division', 'Lateral Occipital Cortex, inferior division', 'Intracalcarine Cortex', 'Frontal Medial Cortex', 'Juxtapositional Lobule Cortex (formerly Supplementary Motor Cortex)', 'Subcallosal Cortex', 'Paracingulate Gyrus', 'Cingulate Gyrus, anterior division', 'Cingulate Gyrus, posterior division', 'Precuneous Cortex', 'Cuneal Cortex', 'Frontal Orbital Cortex', 'Parahippocampal Gyrus, anterior division', 'Parahippocampal Gyrus, posterior division', 'Lingual Gyrus', 'Temporal Fusiform Cortex, anterior division', 'Temporal Fusiform Cortex, posterior division', 'Temporal Occipital Fusiform Cortex', 'Occipital Fusiform Gyrus', 'Frontal Opercular Cortex', 'Central Opercular Cortex', 'Parietal Opercular Cortex', 'Planum Polare', \"Heschl's Gyrus (includes H1 and H2)\", 'Planum Temporale', 'Supracalcarine Cortex', 'Occipital Pole', 'Left Cerebral White Matter', 'Left Cerebral Cortex', 'Left Lateral Ventricle', 'Left Thalamus', 'Left Caudate', 'Left Putamen', 'Left Pallidum', 'Brain-Stem', 'Left Hippocampus', 'Left Amygdala', 'Left Accumbens', 'Right Cerebral White Matter', 'Right Cerebral Cortex', 'Right Lateral Ventricle', 'Right Thalamus', 'Right Caudate', 'Right Putamen', 'Right Pallidum', 'Right Hippocampus', 'Right Amygdala', 'Right Accumbens', 'Substantia Nigra Right', 'Substantia Nigra Left'], columns=[\"Region\"])"
   ]
  },
  {
   "cell_type": "code",
   "execution_count": 83,
   "metadata": {},
   "outputs": [
    {
     "data": {
      "text/plain": [
       "'../data/atlas/NMS-SNc-atlas-master/SN_R_probatlas27_50.nii.gz'"
      ]
     },
     "execution_count": 83,
     "metadata": {},
     "output_type": "execute_result"
    }
   ],
   "source": [
    "atlas_filename"
   ]
  },
  {
   "cell_type": "code",
   "execution_count": 86,
   "metadata": {},
   "outputs": [],
   "source": [
    "atlas_data = nib.load(atlas_filename).get_fdata()"
   ]
  },
  {
   "cell_type": "code",
   "execution_count": null,
   "metadata": {},
   "outputs": [],
   "source": []
  },
  {
   "cell_type": "code",
   "execution_count": null,
   "metadata": {},
   "outputs": [
    {
     "data": {
      "text/plain": [
       "array([[[0., 0., 0., ..., 0., 0., 0.],\n",
       "        [0., 0., 0., ..., 0., 0., 0.],\n",
       "        [0., 0., 0., ..., 0., 0., 0.],\n",
       "        ...,\n",
       "        [0., 0., 0., ..., 0., 0., 0.],\n",
       "        [0., 0., 0., ..., 0., 0., 0.],\n",
       "        [0., 0., 0., ..., 0., 0., 0.]],\n",
       "\n",
       "       [[0., 0., 0., ..., 0., 0., 0.],\n",
       "        [0., 0., 0., ..., 0., 0., 0.],\n",
       "        [0., 0., 0., ..., 0., 0., 0.],\n",
       "        ...,\n",
       "        [0., 0., 0., ..., 0., 0., 0.],\n",
       "        [0., 0., 0., ..., 0., 0., 0.],\n",
       "        [0., 0., 0., ..., 0., 0., 0.]],\n",
       "\n",
       "       [[0., 0., 0., ..., 0., 0., 0.],\n",
       "        [0., 0., 0., ..., 0., 0., 0.],\n",
       "        [0., 0., 0., ..., 0., 0., 0.],\n",
       "        ...,\n",
       "        [0., 0., 0., ..., 0., 0., 0.],\n",
       "        [0., 0., 0., ..., 0., 0., 0.],\n",
       "        [0., 0., 0., ..., 0., 0., 0.]],\n",
       "\n",
       "       ...,\n",
       "\n",
       "       [[0., 0., 0., ..., 0., 0., 0.],\n",
       "        [0., 0., 0., ..., 0., 0., 0.],\n",
       "        [0., 0., 0., ..., 0., 0., 0.],\n",
       "        ...,\n",
       "        [0., 0., 0., ..., 0., 0., 0.],\n",
       "        [0., 0., 0., ..., 0., 0., 0.],\n",
       "        [0., 0., 0., ..., 0., 0., 0.]],\n",
       "\n",
       "       [[0., 0., 0., ..., 0., 0., 0.],\n",
       "        [0., 0., 0., ..., 0., 0., 0.],\n",
       "        [0., 0., 0., ..., 0., 0., 0.],\n",
       "        ...,\n",
       "        [0., 0., 0., ..., 0., 0., 0.],\n",
       "        [0., 0., 0., ..., 0., 0., 0.],\n",
       "        [0., 0., 0., ..., 0., 0., 0.]],\n",
       "\n",
       "       [[0., 0., 0., ..., 0., 0., 0.],\n",
       "        [0., 0., 0., ..., 0., 0., 0.],\n",
       "        [0., 0., 0., ..., 0., 0., 0.],\n",
       "        ...,\n",
       "        [0., 0., 0., ..., 0., 0., 0.],\n",
       "        [0., 0., 0., ..., 0., 0., 0.],\n",
       "        [0., 0., 0., ..., 0., 0., 0.]]])"
      ]
     },
     "execution_count": 87,
     "metadata": {},
     "output_type": "execute_result"
    }
   ],
   "source": [
    "atlas_data"
   ]
  },
  {
   "cell_type": "code",
   "execution_count": 91,
   "metadata": {},
   "outputs": [
    {
     "data": {
      "text/plain": [
       "['Left Cerebral White Matter',\n",
       " 'Left Cerebral Cortex',\n",
       " 'Left Lateral Ventricle',\n",
       " 'Left Thalamus',\n",
       " 'Left Caudate',\n",
       " 'Left Putamen',\n",
       " 'Left Pallidum',\n",
       " 'Brain-Stem',\n",
       " 'Left Hippocampus',\n",
       " 'Left Amygdala',\n",
       " 'Left Accumbens',\n",
       " 'Right Cerebral White Matter',\n",
       " 'Right Cerebral Cortex',\n",
       " 'Right Lateral Ventricle',\n",
       " 'Right Thalamus',\n",
       " 'Right Caudate',\n",
       " 'Right Putamen',\n",
       " 'Right Pallidum',\n",
       " 'Right Hippocampus',\n",
       " 'Right Amygdala',\n",
       " 'Right Accumbens']"
      ]
     },
     "execution_count": 91,
     "metadata": {},
     "output_type": "execute_result"
    }
   ],
   "source": [
    "atlas.labels[1:]"
   ]
  },
  {
   "cell_type": "code",
   "execution_count": 82,
   "metadata": {},
   "outputs": [
    {
     "name": "stdout",
     "output_type": "stream",
     "text": [
      "Coordinates for 'Frontal Pole': []\n"
     ]
    }
   ],
   "source": [
    "import nibabel as nib\n",
    "from nilearn import plotting\n",
    "from nilearn import image\n",
    "import numpy as np\n",
    "\n",
    "# Load an MNI template (standard brain template)\n",
    "mni_template = nib.load(atlas_filename)  # Use the path to the MNI template file\n",
    "data = mni_template.get_fdata()\n",
    "\n",
    "# Define a function to extract coordinates for specific brain regions from an atlas\n",
    "def get_coordinates(region_name):\n",
    "    # Load the brain atlas (ensure you have an atlas like Harvard-Oxford or similar)\n",
    "    atlas_path = atlas_filename  # Replace with the actual atlas file path\n",
    "    atlas = nib.load(atlas_path)\n",
    "    atlas_data = atlas.get_fdata()\n",
    "\n",
    "    # Lookup for the region in the atlas (you would need to map region names to specific voxel values)\n",
    "    # Assuming the region is encoded by a unique value in the atlas\n",
    "    region_label = None  # Get the corresponding label (this depends on your atlas)\n",
    "    region_indices = np.where(atlas_data == region_label)\n",
    "\n",
    "    # Convert voxel indices to MNI space (you can use nibabel for this)\n",
    "    mni_coords = nib.affines.apply_affine(mni_template.affine, np.array(region_indices).T)\n",
    "\n",
    "    return mni_coords\n",
    "\n",
    "# Example: Get coordinates for the 'Frontal Pole'\n",
    "coordinates = get_coordinates('Substantia Nigra Right')\n",
    "print(f\"Coordinates for 'Frontal Pole': {coordinates}\")\n"
   ]
  },
  {
   "cell_type": "code",
   "execution_count": 44,
   "metadata": {},
   "outputs": [],
   "source": [
    "x = np.array([0 for index in range(71)])\n",
    "y = np.array([0 for index in range(71)])\n",
    "z = np.array([0 for index in range(71)])"
   ]
  },
  {
   "cell_type": "code",
   "execution_count": 45,
   "metadata": {},
   "outputs": [],
   "source": [
    "region_coordinate_df[\"x\"] = x\n",
    "region_coordinate_df[\"y\"] = y\n",
    "region_coordinate_df[\"z\"] = z"
   ]
  },
  {
   "cell_type": "code",
   "execution_count": 57,
   "metadata": {},
   "outputs": [
    {
     "data": {
      "text/plain": [
       "Region    Substantia Nigra Right\n",
       "x                              0\n",
       "y                              0\n",
       "z                              0\n",
       "Name: 69, dtype: object"
      ]
     },
     "execution_count": 57,
     "metadata": {},
     "output_type": "execute_result"
    }
   ],
   "source": [
    "region_coordinate_df.iloc[69, :]"
   ]
  },
  {
   "cell_type": "code",
   "execution_count": 60,
   "metadata": {},
   "outputs": [],
   "source": [
    "region = \"Substantia Nigra Right\""
   ]
  },
  {
   "cell_type": "code",
   "execution_count": 62,
   "metadata": {},
   "outputs": [
    {
     "data": {
      "text/html": [
       "<div>\n",
       "<style scoped>\n",
       "    .dataframe tbody tr th:only-of-type {\n",
       "        vertical-align: middle;\n",
       "    }\n",
       "\n",
       "    .dataframe tbody tr th {\n",
       "        vertical-align: top;\n",
       "    }\n",
       "\n",
       "    .dataframe thead th {\n",
       "        text-align: right;\n",
       "    }\n",
       "</style>\n",
       "<table border=\"1\" class=\"dataframe\">\n",
       "  <thead>\n",
       "    <tr style=\"text-align: right;\">\n",
       "      <th></th>\n",
       "      <th>Region</th>\n",
       "      <th>x</th>\n",
       "      <th>y</th>\n",
       "      <th>z</th>\n",
       "    </tr>\n",
       "  </thead>\n",
       "  <tbody>\n",
       "    <tr>\n",
       "      <th>69</th>\n",
       "      <td>Substantia Nigra Right</td>\n",
       "      <td>0</td>\n",
       "      <td>0</td>\n",
       "      <td>0</td>\n",
       "    </tr>\n",
       "  </tbody>\n",
       "</table>\n",
       "</div>"
      ],
      "text/plain": [
       "                    Region  x  y  z\n",
       "69  Substantia Nigra Right  0  0  0"
      ]
     },
     "execution_count": 62,
     "metadata": {},
     "output_type": "execute_result"
    }
   ],
   "source": [
    "region_coordinate_df.loc[region_coordinate_df[\"Region\"] == region, :]"
   ]
  },
  {
   "cell_type": "code",
   "execution_count": null,
   "metadata": {},
   "outputs": [
    {
     "ename": "ValueError",
     "evalue": "Invalid atlas name: sub-cortical. Please choose an atlas among:\ncort-maxprob-thr0-1mm\ncort-maxprob-thr0-2mm\ncort-maxprob-thr25-1mm\ncort-maxprob-thr25-2mm\ncort-maxprob-thr50-1mm\ncort-maxprob-thr50-2mm\ncort-prob-1mm\ncort-prob-2mm\ncortl-maxprob-thr0-1mm\ncortl-maxprob-thr0-2mm\ncortl-maxprob-thr25-1mm\ncortl-maxprob-thr25-2mm\ncortl-maxprob-thr50-1mm\ncortl-maxprob-thr50-2mm\ncortl-prob-1mm\ncortl-prob-2mm\nsub-maxprob-thr0-1mm\nsub-maxprob-thr0-2mm\nsub-maxprob-thr25-1mm\nsub-maxprob-thr25-2mm\nsub-maxprob-thr50-1mm\nsub-maxprob-thr50-2mm\nsub-prob-1mm\nsub-prob-2mm",
     "output_type": "error",
     "traceback": [
      "\u001b[0;31m---------------------------------------------------------------------------\u001b[0m\n",
      "\u001b[0;31mValueError\u001b[0m                                Traceback (most recent call last)\n",
      "Cell \u001b[0;32mIn[5], line 1\u001b[0m\n",
      "\u001b[0;32m----> 1\u001b[0m atlas_filename \u001b[38;5;241m=\u001b[39m \u001b[43mdatasets\u001b[49m\u001b[38;5;241;43m.\u001b[39;49m\u001b[43mfetch_atlas_harvard_oxford\u001b[49m\u001b[43m(\u001b[49m\u001b[38;5;124;43m'\u001b[39;49m\u001b[38;5;124;43msub-cortical\u001b[39;49m\u001b[38;5;124;43m'\u001b[39;49m\u001b[43m)\u001b[49m[\u001b[38;5;124m'\u001b[39m\u001b[38;5;124mfilename\u001b[39m\u001b[38;5;124m'\u001b[39m]\n",
      "\n",
      "File \u001b[0;32m~/anaconda3/envs/torch/lib/python3.10/site-packages/nilearn/datasets/atlas.py:487\u001b[0m, in \u001b[0;36mfetch_atlas_harvard_oxford\u001b[0;34m(atlas_name, data_dir, symmetric_split, resume, verbose)\u001b[0m\n",
      "\u001b[1;32m    485\u001b[0m \u001b[38;5;28;01mif\u001b[39;00m atlas_name \u001b[38;5;129;01mnot\u001b[39;00m \u001b[38;5;129;01min\u001b[39;00m atlases:\n",
      "\u001b[1;32m    486\u001b[0m     atlases \u001b[38;5;241m=\u001b[39m \u001b[38;5;124m\"\u001b[39m\u001b[38;5;130;01m\\n\u001b[39;00m\u001b[38;5;124m\"\u001b[39m\u001b[38;5;241m.\u001b[39mjoin(atlases)\n",
      "\u001b[0;32m--> 487\u001b[0m     \u001b[38;5;28;01mraise\u001b[39;00m \u001b[38;5;167;01mValueError\u001b[39;00m(\n",
      "\u001b[1;32m    488\u001b[0m         \u001b[38;5;124mf\u001b[39m\u001b[38;5;124m\"\u001b[39m\u001b[38;5;124mInvalid atlas name: \u001b[39m\u001b[38;5;132;01m{\u001b[39;00matlas_name\u001b[38;5;132;01m}\u001b[39;00m\u001b[38;5;124m. \u001b[39m\u001b[38;5;124m\"\u001b[39m\n",
      "\u001b[1;32m    489\u001b[0m         \u001b[38;5;124mf\u001b[39m\u001b[38;5;124m\"\u001b[39m\u001b[38;5;124mPlease choose an atlas among:\u001b[39m\u001b[38;5;130;01m\\n\u001b[39;00m\u001b[38;5;132;01m{\u001b[39;00matlases\u001b[38;5;132;01m}\u001b[39;00m\u001b[38;5;124m\"\u001b[39m\n",
      "\u001b[1;32m    490\u001b[0m     )\n",
      "\u001b[1;32m    491\u001b[0m is_probabilistic \u001b[38;5;241m=\u001b[39m \u001b[38;5;124m\"\u001b[39m\u001b[38;5;124m-prob-\u001b[39m\u001b[38;5;124m\"\u001b[39m \u001b[38;5;129;01min\u001b[39;00m atlas_name\n",
      "\u001b[1;32m    492\u001b[0m \u001b[38;5;28;01mif\u001b[39;00m is_probabilistic \u001b[38;5;129;01mand\u001b[39;00m symmetric_split:\n",
      "\n",
      "\u001b[0;31mValueError\u001b[0m: Invalid atlas name: sub-cortical. Please choose an atlas among:\n",
      "cort-maxprob-thr0-1mm\n",
      "cort-maxprob-thr0-2mm\n",
      "cort-maxprob-thr25-1mm\n",
      "cort-maxprob-thr25-2mm\n",
      "cort-maxprob-thr50-1mm\n",
      "cort-maxprob-thr50-2mm\n",
      "cort-prob-1mm\n",
      "cort-prob-2mm\n",
      "cortl-maxprob-thr0-1mm\n",
      "cortl-maxprob-thr0-2mm\n",
      "cortl-maxprob-thr25-1mm\n",
      "cortl-maxprob-thr25-2mm\n",
      "cortl-maxprob-thr50-1mm\n",
      "cortl-maxprob-thr50-2mm\n",
      "cortl-prob-1mm\n",
      "cortl-prob-2mm\n",
      "sub-maxprob-thr0-1mm\n",
      "sub-maxprob-thr0-2mm\n",
      "sub-maxprob-thr25-1mm\n",
      "sub-maxprob-thr25-2mm\n",
      "sub-maxprob-thr50-1mm\n",
      "sub-maxprob-thr50-2mm\n",
      "sub-prob-1mm\n",
      "sub-prob-2mm"
     ]
    }
   ],
   "source": [
    "atlas_filename = datasets.fetch_atlas_harvard_oxford('sub-cortical')['filename']"
   ]
  },
  {
   "cell_type": "code",
   "execution_count": 33,
   "metadata": {},
   "outputs": [
    {
     "data": {
      "text/plain": [
       "'../data/atlas/NMS-SNc-atlas-master/SN_L_probatlas27_50.nii.gz'"
      ]
     },
     "execution_count": 33,
     "metadata": {},
     "output_type": "execute_result"
    }
   ],
   "source": [
    "atlas_filename"
   ]
  },
  {
   "cell_type": "code",
   "execution_count": 32,
   "metadata": {},
   "outputs": [
    {
     "name": "stdout",
     "output_type": "stream",
     "text": [
      "[[ -2. -21. -18.]\n",
      " [ -2. -21. -17.]\n",
      " [ -2. -20. -17.]\n",
      " [ -2. -20. -16.]\n",
      " [ -2. -19. -16.]\n",
      " [ -2. -19. -15.]\n",
      " [ -3. -22. -19.]\n",
      " [ -3. -22. -18.]\n",
      " [ -3. -21. -19.]\n",
      " [ -3. -21. -18.]]\n"
     ]
    }
   ],
   "source": [
    "import nibabel as nib\n",
    "import numpy as np\n",
    "\n",
    "# Load the atlas NIfTI image\n",
    "atlas_img = nib.load(atlas_filename)\n",
    "\n",
    "# Get the image data as a numpy array\n",
    "atlas_data = atlas_img.get_fdata()\n",
    "\n",
    "# Find the nonzero voxel coordinates (i.e., where the atlas has nonzero values)\n",
    "voxel_coords = np.argwhere(atlas_data > 0)\n",
    "\n",
    "# Convert voxel coordinates to real-world (MNI or scanner) space\n",
    "affine = atlas_img.affine\n",
    "world_coords = nib.affines.apply_affine(affine, voxel_coords)\n",
    "\n",
    "# Print first few coordinates\n",
    "print(world_coords[:10])\n"
   ]
  },
  {
   "cell_type": "code",
   "execution_count": 30,
   "metadata": {},
   "outputs": [
    {
     "data": {
      "text/html": [
       "<pre style=\"white-space:pre;overflow-x:auto;line-height:normal;font-family:Menlo,'DejaVu Sans Mono',consolas,'Courier New',monospace\"><span style=\"color: #000080; text-decoration-color: #000080; font-weight: bold\">[</span><span style=\"color: #000080; text-decoration-color: #000080\">get_dataset_dir</span><span style=\"color: #000080; text-decoration-color: #000080; font-weight: bold\">]</span> Dataset found in <span style=\"color: #800080; text-decoration-color: #800080\">/home/linux-pc/nilearn_data/</span><span style=\"color: #ff00ff; text-decoration-color: #ff00ff\">aal_SPM12</span>\n",
       "</pre>\n"
      ],
      "text/plain": [
       "\u001b[1;34m[\u001b[0m\u001b[34mget_dataset_dir\u001b[0m\u001b[1;34m]\u001b[0m Dataset found in \u001b[35m/home/linux-pc/nilearn_data/\u001b[0m\u001b[95maal_SPM12\u001b[0m\n"
      ]
     },
     "metadata": {},
     "output_type": "display_data"
    },
    {
     "data": {
      "text/html": [
       "<pre style=\"white-space:pre;overflow-x:auto;line-height:normal;font-family:Menlo,'DejaVu Sans Mono',consolas,'Courier New',monospace\"><span style=\"color: #000080; text-decoration-color: #000080; font-weight: bold\">[</span><span style=\"color: #000080; text-decoration-color: #000080\">fetch_single_file</span><span style=\"color: #000080; text-decoration-color: #000080; font-weight: bold\">]</span> Downloading data from <span style=\"color: #0000ff; text-decoration-color: #0000ff; text-decoration: underline\">https://www.gin.cnrs.fr/AAL_files/aal_for_SPM12.tar.gz</span> <span style=\"color: #808000; text-decoration-color: #808000\">...</span>\n",
       "</pre>\n"
      ],
      "text/plain": [
       "\u001b[1;34m[\u001b[0m\u001b[34mfetch_single_file\u001b[0m\u001b[1;34m]\u001b[0m Downloading data from \u001b[4;94mhttps://www.gin.cnrs.fr/AAL_files/aal_for_SPM12.tar.gz\u001b[0m \u001b[33m...\u001b[0m\n"
      ]
     },
     "metadata": {},
     "output_type": "display_data"
    },
    {
     "data": {
      "text/html": [
       "<pre style=\"white-space:pre;overflow-x:auto;line-height:normal;font-family:Menlo,'DejaVu Sans Mono',consolas,'Courier New',monospace\"><span style=\"color: #000080; text-decoration-color: #000080; font-weight: bold\">[</span><span style=\"color: #000080; text-decoration-color: #000080\">fetch_single_file</span><span style=\"color: #000080; text-decoration-color: #000080; font-weight: bold\">]</span> Error while fetching file aal_for_SPM12.tar.gz; dataset fetching aborted.\n",
       "</pre>\n"
      ],
      "text/plain": [
       "\u001b[1;34m[\u001b[0m\u001b[34mfetch_single_file\u001b[0m\u001b[1;34m]\u001b[0m Error while fetching file aal_for_SPM12.tar.gz; dataset fetching aborted.\n"
      ]
     },
     "metadata": {},
     "output_type": "display_data"
    },
    {
     "ename": "SSLError",
     "evalue": "HTTPSConnectionPool(host='www.gin.cnrs.fr', port=443): Max retries exceeded with url: /AAL_files/aal_for_SPM12.tar.gz (Caused by SSLError(SSLCertVerificationError(1, \"[SSL: CERTIFICATE_VERIFY_FAILED] certificate verify failed: Hostname mismatch, certificate is not valid for 'www.gin.cnrs.fr'. (_ssl.c:1007)\")))",
     "output_type": "error",
     "traceback": [
      "\u001b[0;31m---------------------------------------------------------------------------\u001b[0m",
      "\u001b[0;31mSSLCertVerificationError\u001b[0m                  Traceback (most recent call last)",
      "File \u001b[0;32m~/anaconda3/envs/torch/lib/python3.10/site-packages/urllib3/connectionpool.py:464\u001b[0m, in \u001b[0;36mHTTPConnectionPool._make_request\u001b[0;34m(self, conn, method, url, body, headers, retries, timeout, chunked, response_conn, preload_content, decode_content, enforce_content_length)\u001b[0m\n\u001b[1;32m    463\u001b[0m \u001b[38;5;28;01mtry\u001b[39;00m:\n\u001b[0;32m--> 464\u001b[0m     \u001b[38;5;28;43mself\u001b[39;49m\u001b[38;5;241;43m.\u001b[39;49m\u001b[43m_validate_conn\u001b[49m\u001b[43m(\u001b[49m\u001b[43mconn\u001b[49m\u001b[43m)\u001b[49m\n\u001b[1;32m    465\u001b[0m \u001b[38;5;28;01mexcept\u001b[39;00m (SocketTimeout, BaseSSLError) \u001b[38;5;28;01mas\u001b[39;00m e:\n",
      "File \u001b[0;32m~/anaconda3/envs/torch/lib/python3.10/site-packages/urllib3/connectionpool.py:1093\u001b[0m, in \u001b[0;36mHTTPSConnectionPool._validate_conn\u001b[0;34m(self, conn)\u001b[0m\n\u001b[1;32m   1092\u001b[0m \u001b[38;5;28;01mif\u001b[39;00m conn\u001b[38;5;241m.\u001b[39mis_closed:\n\u001b[0;32m-> 1093\u001b[0m     \u001b[43mconn\u001b[49m\u001b[38;5;241;43m.\u001b[39;49m\u001b[43mconnect\u001b[49m\u001b[43m(\u001b[49m\u001b[43m)\u001b[49m\n\u001b[1;32m   1095\u001b[0m \u001b[38;5;66;03m# TODO revise this, see https://github.com/urllib3/urllib3/issues/2791\u001b[39;00m\n",
      "File \u001b[0;32m~/anaconda3/envs/torch/lib/python3.10/site-packages/urllib3/connection.py:741\u001b[0m, in \u001b[0;36mHTTPSConnection.connect\u001b[0;34m(self)\u001b[0m\n\u001b[1;32m    739\u001b[0m server_hostname_rm_dot \u001b[38;5;241m=\u001b[39m server_hostname\u001b[38;5;241m.\u001b[39mrstrip(\u001b[38;5;124m\"\u001b[39m\u001b[38;5;124m.\u001b[39m\u001b[38;5;124m\"\u001b[39m)\n\u001b[0;32m--> 741\u001b[0m sock_and_verified \u001b[38;5;241m=\u001b[39m \u001b[43m_ssl_wrap_socket_and_match_hostname\u001b[49m\u001b[43m(\u001b[49m\n\u001b[1;32m    742\u001b[0m \u001b[43m    \u001b[49m\u001b[43msock\u001b[49m\u001b[38;5;241;43m=\u001b[39;49m\u001b[43msock\u001b[49m\u001b[43m,\u001b[49m\n\u001b[1;32m    743\u001b[0m \u001b[43m    \u001b[49m\u001b[43mcert_reqs\u001b[49m\u001b[38;5;241;43m=\u001b[39;49m\u001b[38;5;28;43mself\u001b[39;49m\u001b[38;5;241;43m.\u001b[39;49m\u001b[43mcert_reqs\u001b[49m\u001b[43m,\u001b[49m\n\u001b[1;32m    744\u001b[0m \u001b[43m    \u001b[49m\u001b[43mssl_version\u001b[49m\u001b[38;5;241;43m=\u001b[39;49m\u001b[38;5;28;43mself\u001b[39;49m\u001b[38;5;241;43m.\u001b[39;49m\u001b[43mssl_version\u001b[49m\u001b[43m,\u001b[49m\n\u001b[1;32m    745\u001b[0m \u001b[43m    \u001b[49m\u001b[43mssl_minimum_version\u001b[49m\u001b[38;5;241;43m=\u001b[39;49m\u001b[38;5;28;43mself\u001b[39;49m\u001b[38;5;241;43m.\u001b[39;49m\u001b[43mssl_minimum_version\u001b[49m\u001b[43m,\u001b[49m\n\u001b[1;32m    746\u001b[0m \u001b[43m    \u001b[49m\u001b[43mssl_maximum_version\u001b[49m\u001b[38;5;241;43m=\u001b[39;49m\u001b[38;5;28;43mself\u001b[39;49m\u001b[38;5;241;43m.\u001b[39;49m\u001b[43mssl_maximum_version\u001b[49m\u001b[43m,\u001b[49m\n\u001b[1;32m    747\u001b[0m \u001b[43m    \u001b[49m\u001b[43mca_certs\u001b[49m\u001b[38;5;241;43m=\u001b[39;49m\u001b[38;5;28;43mself\u001b[39;49m\u001b[38;5;241;43m.\u001b[39;49m\u001b[43mca_certs\u001b[49m\u001b[43m,\u001b[49m\n\u001b[1;32m    748\u001b[0m \u001b[43m    \u001b[49m\u001b[43mca_cert_dir\u001b[49m\u001b[38;5;241;43m=\u001b[39;49m\u001b[38;5;28;43mself\u001b[39;49m\u001b[38;5;241;43m.\u001b[39;49m\u001b[43mca_cert_dir\u001b[49m\u001b[43m,\u001b[49m\n\u001b[1;32m    749\u001b[0m \u001b[43m    \u001b[49m\u001b[43mca_cert_data\u001b[49m\u001b[38;5;241;43m=\u001b[39;49m\u001b[38;5;28;43mself\u001b[39;49m\u001b[38;5;241;43m.\u001b[39;49m\u001b[43mca_cert_data\u001b[49m\u001b[43m,\u001b[49m\n\u001b[1;32m    750\u001b[0m \u001b[43m    \u001b[49m\u001b[43mcert_file\u001b[49m\u001b[38;5;241;43m=\u001b[39;49m\u001b[38;5;28;43mself\u001b[39;49m\u001b[38;5;241;43m.\u001b[39;49m\u001b[43mcert_file\u001b[49m\u001b[43m,\u001b[49m\n\u001b[1;32m    751\u001b[0m \u001b[43m    \u001b[49m\u001b[43mkey_file\u001b[49m\u001b[38;5;241;43m=\u001b[39;49m\u001b[38;5;28;43mself\u001b[39;49m\u001b[38;5;241;43m.\u001b[39;49m\u001b[43mkey_file\u001b[49m\u001b[43m,\u001b[49m\n\u001b[1;32m    752\u001b[0m \u001b[43m    \u001b[49m\u001b[43mkey_password\u001b[49m\u001b[38;5;241;43m=\u001b[39;49m\u001b[38;5;28;43mself\u001b[39;49m\u001b[38;5;241;43m.\u001b[39;49m\u001b[43mkey_password\u001b[49m\u001b[43m,\u001b[49m\n\u001b[1;32m    753\u001b[0m \u001b[43m    \u001b[49m\u001b[43mserver_hostname\u001b[49m\u001b[38;5;241;43m=\u001b[39;49m\u001b[43mserver_hostname_rm_dot\u001b[49m\u001b[43m,\u001b[49m\n\u001b[1;32m    754\u001b[0m \u001b[43m    \u001b[49m\u001b[43mssl_context\u001b[49m\u001b[38;5;241;43m=\u001b[39;49m\u001b[38;5;28;43mself\u001b[39;49m\u001b[38;5;241;43m.\u001b[39;49m\u001b[43mssl_context\u001b[49m\u001b[43m,\u001b[49m\n\u001b[1;32m    755\u001b[0m \u001b[43m    \u001b[49m\u001b[43mtls_in_tls\u001b[49m\u001b[38;5;241;43m=\u001b[39;49m\u001b[43mtls_in_tls\u001b[49m\u001b[43m,\u001b[49m\n\u001b[1;32m    756\u001b[0m \u001b[43m    \u001b[49m\u001b[43massert_hostname\u001b[49m\u001b[38;5;241;43m=\u001b[39;49m\u001b[38;5;28;43mself\u001b[39;49m\u001b[38;5;241;43m.\u001b[39;49m\u001b[43massert_hostname\u001b[49m\u001b[43m,\u001b[49m\n\u001b[1;32m    757\u001b[0m \u001b[43m    \u001b[49m\u001b[43massert_fingerprint\u001b[49m\u001b[38;5;241;43m=\u001b[39;49m\u001b[38;5;28;43mself\u001b[39;49m\u001b[38;5;241;43m.\u001b[39;49m\u001b[43massert_fingerprint\u001b[49m\u001b[43m,\u001b[49m\n\u001b[1;32m    758\u001b[0m \u001b[43m\u001b[49m\u001b[43m)\u001b[49m\n\u001b[1;32m    759\u001b[0m \u001b[38;5;28mself\u001b[39m\u001b[38;5;241m.\u001b[39msock \u001b[38;5;241m=\u001b[39m sock_and_verified\u001b[38;5;241m.\u001b[39msocket\n",
      "File \u001b[0;32m~/anaconda3/envs/torch/lib/python3.10/site-packages/urllib3/connection.py:920\u001b[0m, in \u001b[0;36m_ssl_wrap_socket_and_match_hostname\u001b[0;34m(sock, cert_reqs, ssl_version, ssl_minimum_version, ssl_maximum_version, cert_file, key_file, key_password, ca_certs, ca_cert_dir, ca_cert_data, assert_hostname, assert_fingerprint, server_hostname, ssl_context, tls_in_tls)\u001b[0m\n\u001b[1;32m    918\u001b[0m         server_hostname \u001b[38;5;241m=\u001b[39m normalized\n\u001b[0;32m--> 920\u001b[0m ssl_sock \u001b[38;5;241m=\u001b[39m \u001b[43mssl_wrap_socket\u001b[49m\u001b[43m(\u001b[49m\n\u001b[1;32m    921\u001b[0m \u001b[43m    \u001b[49m\u001b[43msock\u001b[49m\u001b[38;5;241;43m=\u001b[39;49m\u001b[43msock\u001b[49m\u001b[43m,\u001b[49m\n\u001b[1;32m    922\u001b[0m \u001b[43m    \u001b[49m\u001b[43mkeyfile\u001b[49m\u001b[38;5;241;43m=\u001b[39;49m\u001b[43mkey_file\u001b[49m\u001b[43m,\u001b[49m\n\u001b[1;32m    923\u001b[0m \u001b[43m    \u001b[49m\u001b[43mcertfile\u001b[49m\u001b[38;5;241;43m=\u001b[39;49m\u001b[43mcert_file\u001b[49m\u001b[43m,\u001b[49m\n\u001b[1;32m    924\u001b[0m \u001b[43m    \u001b[49m\u001b[43mkey_password\u001b[49m\u001b[38;5;241;43m=\u001b[39;49m\u001b[43mkey_password\u001b[49m\u001b[43m,\u001b[49m\n\u001b[1;32m    925\u001b[0m \u001b[43m    \u001b[49m\u001b[43mca_certs\u001b[49m\u001b[38;5;241;43m=\u001b[39;49m\u001b[43mca_certs\u001b[49m\u001b[43m,\u001b[49m\n\u001b[1;32m    926\u001b[0m \u001b[43m    \u001b[49m\u001b[43mca_cert_dir\u001b[49m\u001b[38;5;241;43m=\u001b[39;49m\u001b[43mca_cert_dir\u001b[49m\u001b[43m,\u001b[49m\n\u001b[1;32m    927\u001b[0m \u001b[43m    \u001b[49m\u001b[43mca_cert_data\u001b[49m\u001b[38;5;241;43m=\u001b[39;49m\u001b[43mca_cert_data\u001b[49m\u001b[43m,\u001b[49m\n\u001b[1;32m    928\u001b[0m \u001b[43m    \u001b[49m\u001b[43mserver_hostname\u001b[49m\u001b[38;5;241;43m=\u001b[39;49m\u001b[43mserver_hostname\u001b[49m\u001b[43m,\u001b[49m\n\u001b[1;32m    929\u001b[0m \u001b[43m    \u001b[49m\u001b[43mssl_context\u001b[49m\u001b[38;5;241;43m=\u001b[39;49m\u001b[43mcontext\u001b[49m\u001b[43m,\u001b[49m\n\u001b[1;32m    930\u001b[0m \u001b[43m    \u001b[49m\u001b[43mtls_in_tls\u001b[49m\u001b[38;5;241;43m=\u001b[39;49m\u001b[43mtls_in_tls\u001b[49m\u001b[43m,\u001b[49m\n\u001b[1;32m    931\u001b[0m \u001b[43m\u001b[49m\u001b[43m)\u001b[49m\n\u001b[1;32m    933\u001b[0m \u001b[38;5;28;01mtry\u001b[39;00m:\n",
      "File \u001b[0;32m~/anaconda3/envs/torch/lib/python3.10/site-packages/urllib3/util/ssl_.py:460\u001b[0m, in \u001b[0;36mssl_wrap_socket\u001b[0;34m(sock, keyfile, certfile, cert_reqs, ca_certs, server_hostname, ssl_version, ciphers, ssl_context, ca_cert_dir, key_password, ca_cert_data, tls_in_tls)\u001b[0m\n\u001b[1;32m    458\u001b[0m context\u001b[38;5;241m.\u001b[39mset_alpn_protocols(ALPN_PROTOCOLS)\n\u001b[0;32m--> 460\u001b[0m ssl_sock \u001b[38;5;241m=\u001b[39m \u001b[43m_ssl_wrap_socket_impl\u001b[49m\u001b[43m(\u001b[49m\u001b[43msock\u001b[49m\u001b[43m,\u001b[49m\u001b[43m \u001b[49m\u001b[43mcontext\u001b[49m\u001b[43m,\u001b[49m\u001b[43m \u001b[49m\u001b[43mtls_in_tls\u001b[49m\u001b[43m,\u001b[49m\u001b[43m \u001b[49m\u001b[43mserver_hostname\u001b[49m\u001b[43m)\u001b[49m\n\u001b[1;32m    461\u001b[0m \u001b[38;5;28;01mreturn\u001b[39;00m ssl_sock\n",
      "File \u001b[0;32m~/anaconda3/envs/torch/lib/python3.10/site-packages/urllib3/util/ssl_.py:504\u001b[0m, in \u001b[0;36m_ssl_wrap_socket_impl\u001b[0;34m(sock, ssl_context, tls_in_tls, server_hostname)\u001b[0m\n\u001b[1;32m    502\u001b[0m     \u001b[38;5;28;01mreturn\u001b[39;00m SSLTransport(sock, ssl_context, server_hostname)\n\u001b[0;32m--> 504\u001b[0m \u001b[38;5;28;01mreturn\u001b[39;00m \u001b[43mssl_context\u001b[49m\u001b[38;5;241;43m.\u001b[39;49m\u001b[43mwrap_socket\u001b[49m\u001b[43m(\u001b[49m\u001b[43msock\u001b[49m\u001b[43m,\u001b[49m\u001b[43m \u001b[49m\u001b[43mserver_hostname\u001b[49m\u001b[38;5;241;43m=\u001b[39;49m\u001b[43mserver_hostname\u001b[49m\u001b[43m)\u001b[49m\n",
      "File \u001b[0;32m~/anaconda3/envs/torch/lib/python3.10/ssl.py:513\u001b[0m, in \u001b[0;36mSSLContext.wrap_socket\u001b[0;34m(self, sock, server_side, do_handshake_on_connect, suppress_ragged_eofs, server_hostname, session)\u001b[0m\n\u001b[1;32m    507\u001b[0m \u001b[38;5;28;01mdef\u001b[39;00m\u001b[38;5;250m \u001b[39m\u001b[38;5;21mwrap_socket\u001b[39m(\u001b[38;5;28mself\u001b[39m, sock, server_side\u001b[38;5;241m=\u001b[39m\u001b[38;5;28;01mFalse\u001b[39;00m,\n\u001b[1;32m    508\u001b[0m                 do_handshake_on_connect\u001b[38;5;241m=\u001b[39m\u001b[38;5;28;01mTrue\u001b[39;00m,\n\u001b[1;32m    509\u001b[0m                 suppress_ragged_eofs\u001b[38;5;241m=\u001b[39m\u001b[38;5;28;01mTrue\u001b[39;00m,\n\u001b[1;32m    510\u001b[0m                 server_hostname\u001b[38;5;241m=\u001b[39m\u001b[38;5;28;01mNone\u001b[39;00m, session\u001b[38;5;241m=\u001b[39m\u001b[38;5;28;01mNone\u001b[39;00m):\n\u001b[1;32m    511\u001b[0m     \u001b[38;5;66;03m# SSLSocket class handles server_hostname encoding before it calls\u001b[39;00m\n\u001b[1;32m    512\u001b[0m     \u001b[38;5;66;03m# ctx._wrap_socket()\u001b[39;00m\n\u001b[0;32m--> 513\u001b[0m     \u001b[38;5;28;01mreturn\u001b[39;00m \u001b[38;5;28;43mself\u001b[39;49m\u001b[38;5;241;43m.\u001b[39;49m\u001b[43msslsocket_class\u001b[49m\u001b[38;5;241;43m.\u001b[39;49m\u001b[43m_create\u001b[49m\u001b[43m(\u001b[49m\n\u001b[1;32m    514\u001b[0m \u001b[43m        \u001b[49m\u001b[43msock\u001b[49m\u001b[38;5;241;43m=\u001b[39;49m\u001b[43msock\u001b[49m\u001b[43m,\u001b[49m\n\u001b[1;32m    515\u001b[0m \u001b[43m        \u001b[49m\u001b[43mserver_side\u001b[49m\u001b[38;5;241;43m=\u001b[39;49m\u001b[43mserver_side\u001b[49m\u001b[43m,\u001b[49m\n\u001b[1;32m    516\u001b[0m \u001b[43m        \u001b[49m\u001b[43mdo_handshake_on_connect\u001b[49m\u001b[38;5;241;43m=\u001b[39;49m\u001b[43mdo_handshake_on_connect\u001b[49m\u001b[43m,\u001b[49m\n\u001b[1;32m    517\u001b[0m \u001b[43m        \u001b[49m\u001b[43msuppress_ragged_eofs\u001b[49m\u001b[38;5;241;43m=\u001b[39;49m\u001b[43msuppress_ragged_eofs\u001b[49m\u001b[43m,\u001b[49m\n\u001b[1;32m    518\u001b[0m \u001b[43m        \u001b[49m\u001b[43mserver_hostname\u001b[49m\u001b[38;5;241;43m=\u001b[39;49m\u001b[43mserver_hostname\u001b[49m\u001b[43m,\u001b[49m\n\u001b[1;32m    519\u001b[0m \u001b[43m        \u001b[49m\u001b[43mcontext\u001b[49m\u001b[38;5;241;43m=\u001b[39;49m\u001b[38;5;28;43mself\u001b[39;49m\u001b[43m,\u001b[49m\n\u001b[1;32m    520\u001b[0m \u001b[43m        \u001b[49m\u001b[43msession\u001b[49m\u001b[38;5;241;43m=\u001b[39;49m\u001b[43msession\u001b[49m\n\u001b[1;32m    521\u001b[0m \u001b[43m    \u001b[49m\u001b[43m)\u001b[49m\n",
      "File \u001b[0;32m~/anaconda3/envs/torch/lib/python3.10/ssl.py:1104\u001b[0m, in \u001b[0;36mSSLSocket._create\u001b[0;34m(cls, sock, server_side, do_handshake_on_connect, suppress_ragged_eofs, server_hostname, context, session)\u001b[0m\n\u001b[1;32m   1103\u001b[0m             \u001b[38;5;28;01mraise\u001b[39;00m \u001b[38;5;167;01mValueError\u001b[39;00m(\u001b[38;5;124m\"\u001b[39m\u001b[38;5;124mdo_handshake_on_connect should not be specified for non-blocking sockets\u001b[39m\u001b[38;5;124m\"\u001b[39m)\n\u001b[0;32m-> 1104\u001b[0m         \u001b[38;5;28;43mself\u001b[39;49m\u001b[38;5;241;43m.\u001b[39;49m\u001b[43mdo_handshake\u001b[49m\u001b[43m(\u001b[49m\u001b[43m)\u001b[49m\n\u001b[1;32m   1105\u001b[0m \u001b[38;5;28;01mexcept\u001b[39;00m (\u001b[38;5;167;01mOSError\u001b[39;00m, \u001b[38;5;167;01mValueError\u001b[39;00m):\n",
      "File \u001b[0;32m~/anaconda3/envs/torch/lib/python3.10/ssl.py:1375\u001b[0m, in \u001b[0;36mSSLSocket.do_handshake\u001b[0;34m(self, block)\u001b[0m\n\u001b[1;32m   1374\u001b[0m         \u001b[38;5;28mself\u001b[39m\u001b[38;5;241m.\u001b[39msettimeout(\u001b[38;5;28;01mNone\u001b[39;00m)\n\u001b[0;32m-> 1375\u001b[0m     \u001b[38;5;28;43mself\u001b[39;49m\u001b[38;5;241;43m.\u001b[39;49m\u001b[43m_sslobj\u001b[49m\u001b[38;5;241;43m.\u001b[39;49m\u001b[43mdo_handshake\u001b[49m\u001b[43m(\u001b[49m\u001b[43m)\u001b[49m\n\u001b[1;32m   1376\u001b[0m \u001b[38;5;28;01mfinally\u001b[39;00m:\n",
      "\u001b[0;31mSSLCertVerificationError\u001b[0m: [SSL: CERTIFICATE_VERIFY_FAILED] certificate verify failed: Hostname mismatch, certificate is not valid for 'www.gin.cnrs.fr'. (_ssl.c:1007)",
      "\nDuring handling of the above exception, another exception occurred:\n",
      "\u001b[0;31mSSLError\u001b[0m                                  Traceback (most recent call last)",
      "File \u001b[0;32m~/anaconda3/envs/torch/lib/python3.10/site-packages/urllib3/connectionpool.py:787\u001b[0m, in \u001b[0;36mHTTPConnectionPool.urlopen\u001b[0;34m(self, method, url, body, headers, retries, redirect, assert_same_host, timeout, pool_timeout, release_conn, chunked, body_pos, preload_content, decode_content, **response_kw)\u001b[0m\n\u001b[1;32m    786\u001b[0m \u001b[38;5;66;03m# Make the request on the HTTPConnection object\u001b[39;00m\n\u001b[0;32m--> 787\u001b[0m response \u001b[38;5;241m=\u001b[39m \u001b[38;5;28;43mself\u001b[39;49m\u001b[38;5;241;43m.\u001b[39;49m\u001b[43m_make_request\u001b[49m\u001b[43m(\u001b[49m\n\u001b[1;32m    788\u001b[0m \u001b[43m    \u001b[49m\u001b[43mconn\u001b[49m\u001b[43m,\u001b[49m\n\u001b[1;32m    789\u001b[0m \u001b[43m    \u001b[49m\u001b[43mmethod\u001b[49m\u001b[43m,\u001b[49m\n\u001b[1;32m    790\u001b[0m \u001b[43m    \u001b[49m\u001b[43murl\u001b[49m\u001b[43m,\u001b[49m\n\u001b[1;32m    791\u001b[0m \u001b[43m    \u001b[49m\u001b[43mtimeout\u001b[49m\u001b[38;5;241;43m=\u001b[39;49m\u001b[43mtimeout_obj\u001b[49m\u001b[43m,\u001b[49m\n\u001b[1;32m    792\u001b[0m \u001b[43m    \u001b[49m\u001b[43mbody\u001b[49m\u001b[38;5;241;43m=\u001b[39;49m\u001b[43mbody\u001b[49m\u001b[43m,\u001b[49m\n\u001b[1;32m    793\u001b[0m \u001b[43m    \u001b[49m\u001b[43mheaders\u001b[49m\u001b[38;5;241;43m=\u001b[39;49m\u001b[43mheaders\u001b[49m\u001b[43m,\u001b[49m\n\u001b[1;32m    794\u001b[0m \u001b[43m    \u001b[49m\u001b[43mchunked\u001b[49m\u001b[38;5;241;43m=\u001b[39;49m\u001b[43mchunked\u001b[49m\u001b[43m,\u001b[49m\n\u001b[1;32m    795\u001b[0m \u001b[43m    \u001b[49m\u001b[43mretries\u001b[49m\u001b[38;5;241;43m=\u001b[39;49m\u001b[43mretries\u001b[49m\u001b[43m,\u001b[49m\n\u001b[1;32m    796\u001b[0m \u001b[43m    \u001b[49m\u001b[43mresponse_conn\u001b[49m\u001b[38;5;241;43m=\u001b[39;49m\u001b[43mresponse_conn\u001b[49m\u001b[43m,\u001b[49m\n\u001b[1;32m    797\u001b[0m \u001b[43m    \u001b[49m\u001b[43mpreload_content\u001b[49m\u001b[38;5;241;43m=\u001b[39;49m\u001b[43mpreload_content\u001b[49m\u001b[43m,\u001b[49m\n\u001b[1;32m    798\u001b[0m \u001b[43m    \u001b[49m\u001b[43mdecode_content\u001b[49m\u001b[38;5;241;43m=\u001b[39;49m\u001b[43mdecode_content\u001b[49m\u001b[43m,\u001b[49m\n\u001b[1;32m    799\u001b[0m \u001b[43m    \u001b[49m\u001b[38;5;241;43m*\u001b[39;49m\u001b[38;5;241;43m*\u001b[39;49m\u001b[43mresponse_kw\u001b[49m\u001b[43m,\u001b[49m\n\u001b[1;32m    800\u001b[0m \u001b[43m\u001b[49m\u001b[43m)\u001b[49m\n\u001b[1;32m    802\u001b[0m \u001b[38;5;66;03m# Everything went great!\u001b[39;00m\n",
      "File \u001b[0;32m~/anaconda3/envs/torch/lib/python3.10/site-packages/urllib3/connectionpool.py:488\u001b[0m, in \u001b[0;36mHTTPConnectionPool._make_request\u001b[0;34m(self, conn, method, url, body, headers, retries, timeout, chunked, response_conn, preload_content, decode_content, enforce_content_length)\u001b[0m\n\u001b[1;32m    487\u001b[0m         new_e \u001b[38;5;241m=\u001b[39m _wrap_proxy_error(new_e, conn\u001b[38;5;241m.\u001b[39mproxy\u001b[38;5;241m.\u001b[39mscheme)\n\u001b[0;32m--> 488\u001b[0m     \u001b[38;5;28;01mraise\u001b[39;00m new_e\n\u001b[1;32m    490\u001b[0m \u001b[38;5;66;03m# conn.request() calls http.client.*.request, not the method in\u001b[39;00m\n\u001b[1;32m    491\u001b[0m \u001b[38;5;66;03m# urllib3.request. It also calls makefile (recv) on the socket.\u001b[39;00m\n",
      "\u001b[0;31mSSLError\u001b[0m: [SSL: CERTIFICATE_VERIFY_FAILED] certificate verify failed: Hostname mismatch, certificate is not valid for 'www.gin.cnrs.fr'. (_ssl.c:1007)",
      "\nThe above exception was the direct cause of the following exception:\n",
      "\u001b[0;31mMaxRetryError\u001b[0m                             Traceback (most recent call last)",
      "File \u001b[0;32m~/anaconda3/envs/torch/lib/python3.10/site-packages/requests/adapters.py:667\u001b[0m, in \u001b[0;36mHTTPAdapter.send\u001b[0;34m(self, request, stream, timeout, verify, cert, proxies)\u001b[0m\n\u001b[1;32m    666\u001b[0m \u001b[38;5;28;01mtry\u001b[39;00m:\n\u001b[0;32m--> 667\u001b[0m     resp \u001b[38;5;241m=\u001b[39m \u001b[43mconn\u001b[49m\u001b[38;5;241;43m.\u001b[39;49m\u001b[43murlopen\u001b[49m\u001b[43m(\u001b[49m\n\u001b[1;32m    668\u001b[0m \u001b[43m        \u001b[49m\u001b[43mmethod\u001b[49m\u001b[38;5;241;43m=\u001b[39;49m\u001b[43mrequest\u001b[49m\u001b[38;5;241;43m.\u001b[39;49m\u001b[43mmethod\u001b[49m\u001b[43m,\u001b[49m\n\u001b[1;32m    669\u001b[0m \u001b[43m        \u001b[49m\u001b[43murl\u001b[49m\u001b[38;5;241;43m=\u001b[39;49m\u001b[43murl\u001b[49m\u001b[43m,\u001b[49m\n\u001b[1;32m    670\u001b[0m \u001b[43m        \u001b[49m\u001b[43mbody\u001b[49m\u001b[38;5;241;43m=\u001b[39;49m\u001b[43mrequest\u001b[49m\u001b[38;5;241;43m.\u001b[39;49m\u001b[43mbody\u001b[49m\u001b[43m,\u001b[49m\n\u001b[1;32m    671\u001b[0m \u001b[43m        \u001b[49m\u001b[43mheaders\u001b[49m\u001b[38;5;241;43m=\u001b[39;49m\u001b[43mrequest\u001b[49m\u001b[38;5;241;43m.\u001b[39;49m\u001b[43mheaders\u001b[49m\u001b[43m,\u001b[49m\n\u001b[1;32m    672\u001b[0m \u001b[43m        \u001b[49m\u001b[43mredirect\u001b[49m\u001b[38;5;241;43m=\u001b[39;49m\u001b[38;5;28;43;01mFalse\u001b[39;49;00m\u001b[43m,\u001b[49m\n\u001b[1;32m    673\u001b[0m \u001b[43m        \u001b[49m\u001b[43massert_same_host\u001b[49m\u001b[38;5;241;43m=\u001b[39;49m\u001b[38;5;28;43;01mFalse\u001b[39;49;00m\u001b[43m,\u001b[49m\n\u001b[1;32m    674\u001b[0m \u001b[43m        \u001b[49m\u001b[43mpreload_content\u001b[49m\u001b[38;5;241;43m=\u001b[39;49m\u001b[38;5;28;43;01mFalse\u001b[39;49;00m\u001b[43m,\u001b[49m\n\u001b[1;32m    675\u001b[0m \u001b[43m        \u001b[49m\u001b[43mdecode_content\u001b[49m\u001b[38;5;241;43m=\u001b[39;49m\u001b[38;5;28;43;01mFalse\u001b[39;49;00m\u001b[43m,\u001b[49m\n\u001b[1;32m    676\u001b[0m \u001b[43m        \u001b[49m\u001b[43mretries\u001b[49m\u001b[38;5;241;43m=\u001b[39;49m\u001b[38;5;28;43mself\u001b[39;49m\u001b[38;5;241;43m.\u001b[39;49m\u001b[43mmax_retries\u001b[49m\u001b[43m,\u001b[49m\n\u001b[1;32m    677\u001b[0m \u001b[43m        \u001b[49m\u001b[43mtimeout\u001b[49m\u001b[38;5;241;43m=\u001b[39;49m\u001b[43mtimeout\u001b[49m\u001b[43m,\u001b[49m\n\u001b[1;32m    678\u001b[0m \u001b[43m        \u001b[49m\u001b[43mchunked\u001b[49m\u001b[38;5;241;43m=\u001b[39;49m\u001b[43mchunked\u001b[49m\u001b[43m,\u001b[49m\n\u001b[1;32m    679\u001b[0m \u001b[43m    \u001b[49m\u001b[43m)\u001b[49m\n\u001b[1;32m    681\u001b[0m \u001b[38;5;28;01mexcept\u001b[39;00m (ProtocolError, \u001b[38;5;167;01mOSError\u001b[39;00m) \u001b[38;5;28;01mas\u001b[39;00m err:\n",
      "File \u001b[0;32m~/anaconda3/envs/torch/lib/python3.10/site-packages/urllib3/connectionpool.py:841\u001b[0m, in \u001b[0;36mHTTPConnectionPool.urlopen\u001b[0;34m(self, method, url, body, headers, retries, redirect, assert_same_host, timeout, pool_timeout, release_conn, chunked, body_pos, preload_content, decode_content, **response_kw)\u001b[0m\n\u001b[1;32m    839\u001b[0m     new_e \u001b[38;5;241m=\u001b[39m ProtocolError(\u001b[38;5;124m\"\u001b[39m\u001b[38;5;124mConnection aborted.\u001b[39m\u001b[38;5;124m\"\u001b[39m, new_e)\n\u001b[0;32m--> 841\u001b[0m retries \u001b[38;5;241m=\u001b[39m \u001b[43mretries\u001b[49m\u001b[38;5;241;43m.\u001b[39;49m\u001b[43mincrement\u001b[49m\u001b[43m(\u001b[49m\n\u001b[1;32m    842\u001b[0m \u001b[43m    \u001b[49m\u001b[43mmethod\u001b[49m\u001b[43m,\u001b[49m\u001b[43m \u001b[49m\u001b[43murl\u001b[49m\u001b[43m,\u001b[49m\u001b[43m \u001b[49m\u001b[43merror\u001b[49m\u001b[38;5;241;43m=\u001b[39;49m\u001b[43mnew_e\u001b[49m\u001b[43m,\u001b[49m\u001b[43m \u001b[49m\u001b[43m_pool\u001b[49m\u001b[38;5;241;43m=\u001b[39;49m\u001b[38;5;28;43mself\u001b[39;49m\u001b[43m,\u001b[49m\u001b[43m \u001b[49m\u001b[43m_stacktrace\u001b[49m\u001b[38;5;241;43m=\u001b[39;49m\u001b[43msys\u001b[49m\u001b[38;5;241;43m.\u001b[39;49m\u001b[43mexc_info\u001b[49m\u001b[43m(\u001b[49m\u001b[43m)\u001b[49m\u001b[43m[\u001b[49m\u001b[38;5;241;43m2\u001b[39;49m\u001b[43m]\u001b[49m\n\u001b[1;32m    843\u001b[0m \u001b[43m\u001b[49m\u001b[43m)\u001b[49m\n\u001b[1;32m    844\u001b[0m retries\u001b[38;5;241m.\u001b[39msleep()\n",
      "File \u001b[0;32m~/anaconda3/envs/torch/lib/python3.10/site-packages/urllib3/util/retry.py:519\u001b[0m, in \u001b[0;36mRetry.increment\u001b[0;34m(self, method, url, response, error, _pool, _stacktrace)\u001b[0m\n\u001b[1;32m    518\u001b[0m     reason \u001b[38;5;241m=\u001b[39m error \u001b[38;5;129;01mor\u001b[39;00m ResponseError(cause)\n\u001b[0;32m--> 519\u001b[0m     \u001b[38;5;28;01mraise\u001b[39;00m MaxRetryError(_pool, url, reason) \u001b[38;5;28;01mfrom\u001b[39;00m\u001b[38;5;250m \u001b[39m\u001b[38;5;21;01mreason\u001b[39;00m  \u001b[38;5;66;03m# type: ignore[arg-type]\u001b[39;00m\n\u001b[1;32m    521\u001b[0m log\u001b[38;5;241m.\u001b[39mdebug(\u001b[38;5;124m\"\u001b[39m\u001b[38;5;124mIncremented Retry for (url=\u001b[39m\u001b[38;5;124m'\u001b[39m\u001b[38;5;132;01m%s\u001b[39;00m\u001b[38;5;124m'\u001b[39m\u001b[38;5;124m): \u001b[39m\u001b[38;5;132;01m%r\u001b[39;00m\u001b[38;5;124m\"\u001b[39m, url, new_retry)\n",
      "\u001b[0;31mMaxRetryError\u001b[0m: HTTPSConnectionPool(host='www.gin.cnrs.fr', port=443): Max retries exceeded with url: /AAL_files/aal_for_SPM12.tar.gz (Caused by SSLError(SSLCertVerificationError(1, \"[SSL: CERTIFICATE_VERIFY_FAILED] certificate verify failed: Hostname mismatch, certificate is not valid for 'www.gin.cnrs.fr'. (_ssl.c:1007)\")))",
      "\nDuring handling of the above exception, another exception occurred:\n",
      "\u001b[0;31mSSLError\u001b[0m                                  Traceback (most recent call last)",
      "Cell \u001b[0;32mIn[30], line 2\u001b[0m\n\u001b[1;32m      1\u001b[0m \u001b[38;5;66;03m# Load the AAL Atlas\u001b[39;00m\n\u001b[0;32m----> 2\u001b[0m atlas \u001b[38;5;241m=\u001b[39m \u001b[43mdatasets\u001b[49m\u001b[38;5;241;43m.\u001b[39;49m\u001b[43mfetch_atlas_aal\u001b[49m\u001b[43m(\u001b[49m\u001b[43m)\u001b[49m\n",
      "File \u001b[0;32m~/anaconda3/envs/torch/lib/python3.10/site-packages/nilearn/datasets/atlas.py:1323\u001b[0m, in \u001b[0;36mfetch_atlas_aal\u001b[0;34m(version, data_dir, url, resume, verbose)\u001b[0m\n\u001b[1;32m   1316\u001b[0m         filenames \u001b[38;5;241m=\u001b[39m [\n\u001b[1;32m   1317\u001b[0m             (Path(\u001b[38;5;124mf\u001b[39m\u001b[38;5;124m\"\u001b[39m\u001b[38;5;124maal_for_\u001b[39m\u001b[38;5;132;01m{\u001b[39;00mversion\u001b[38;5;132;01m}\u001b[39;00m\u001b[38;5;124m\"\u001b[39m, f), url, opts) \u001b[38;5;28;01mfor\u001b[39;00m f \u001b[38;5;129;01min\u001b[39;00m basenames\n\u001b[1;32m   1318\u001b[0m         ]\n\u001b[1;32m   1320\u001b[0m data_dir \u001b[38;5;241m=\u001b[39m get_dataset_dir(\n\u001b[1;32m   1321\u001b[0m     dataset_name, data_dir\u001b[38;5;241m=\u001b[39mdata_dir, verbose\u001b[38;5;241m=\u001b[39mverbose\n\u001b[1;32m   1322\u001b[0m )\n\u001b[0;32m-> 1323\u001b[0m atlas_img, labels_file \u001b[38;5;241m=\u001b[39m \u001b[43mfetch_files\u001b[49m\u001b[43m(\u001b[49m\n\u001b[1;32m   1324\u001b[0m \u001b[43m    \u001b[49m\u001b[43mdata_dir\u001b[49m\u001b[43m,\u001b[49m\u001b[43m \u001b[49m\u001b[43mfilenames\u001b[49m\u001b[43m,\u001b[49m\u001b[43m \u001b[49m\u001b[43mresume\u001b[49m\u001b[38;5;241;43m=\u001b[39;49m\u001b[43mresume\u001b[49m\u001b[43m,\u001b[49m\u001b[43m \u001b[49m\u001b[43mverbose\u001b[49m\u001b[38;5;241;43m=\u001b[39;49m\u001b[43mverbose\u001b[49m\n\u001b[1;32m   1325\u001b[0m \u001b[43m\u001b[49m\u001b[43m)\u001b[49m\n\u001b[1;32m   1326\u001b[0m fdescr \u001b[38;5;241m=\u001b[39m get_dataset_descr(\u001b[38;5;124m\"\u001b[39m\u001b[38;5;124maal\u001b[39m\u001b[38;5;124m\"\u001b[39m)\n\u001b[1;32m   1327\u001b[0m labels \u001b[38;5;241m=\u001b[39m []\n",
      "File \u001b[0;32m~/anaconda3/envs/torch/lib/python3.10/site-packages/nilearn/datasets/_utils.py:770\u001b[0m, in \u001b[0;36mfetch_files\u001b[0;34m(data_dir, files, resume, verbose, session)\u001b[0m\n\u001b[1;32m    768\u001b[0m     \u001b[38;5;28;01mwith\u001b[39;00m requests\u001b[38;5;241m.\u001b[39mSession() \u001b[38;5;28;01mas\u001b[39;00m sess:\n\u001b[1;32m    769\u001b[0m         sess\u001b[38;5;241m.\u001b[39mmount(\u001b[38;5;124m\"\u001b[39m\u001b[38;5;124mftp:\u001b[39m\u001b[38;5;124m\"\u001b[39m, _NaiveFTPAdapter())\n\u001b[0;32m--> 770\u001b[0m         \u001b[38;5;28;01mreturn\u001b[39;00m \u001b[43mfetch_files\u001b[49m\u001b[43m(\u001b[49m\n\u001b[1;32m    771\u001b[0m \u001b[43m            \u001b[49m\u001b[43mdata_dir\u001b[49m\u001b[43m,\u001b[49m\n\u001b[1;32m    772\u001b[0m \u001b[43m            \u001b[49m\u001b[43mfiles\u001b[49m\u001b[43m,\u001b[49m\n\u001b[1;32m    773\u001b[0m \u001b[43m            \u001b[49m\u001b[43mresume\u001b[49m\u001b[38;5;241;43m=\u001b[39;49m\u001b[43mresume\u001b[49m\u001b[43m,\u001b[49m\n\u001b[1;32m    774\u001b[0m \u001b[43m            \u001b[49m\u001b[43mverbose\u001b[49m\u001b[38;5;241;43m=\u001b[39;49m\u001b[43mverbose\u001b[49m\u001b[43m,\u001b[49m\n\u001b[1;32m    775\u001b[0m \u001b[43m            \u001b[49m\u001b[43msession\u001b[49m\u001b[38;5;241;43m=\u001b[39;49m\u001b[43msess\u001b[49m\u001b[43m,\u001b[49m\n\u001b[1;32m    776\u001b[0m \u001b[43m        \u001b[49m\u001b[43m)\u001b[49m\n\u001b[1;32m    777\u001b[0m \u001b[38;5;66;03m# There are two working directories here:\u001b[39;00m\n\u001b[1;32m    778\u001b[0m \u001b[38;5;66;03m# - data_dir is the destination directory of the dataset\u001b[39;00m\n\u001b[1;32m    779\u001b[0m \u001b[38;5;66;03m# - temp_dir is a temporary directory dedicated to this fetching call. All\u001b[39;00m\n\u001b[1;32m    780\u001b[0m \u001b[38;5;66;03m#   files that must be downloaded will be in this directory. If a corrupted\u001b[39;00m\n\u001b[1;32m    781\u001b[0m \u001b[38;5;66;03m#   file is found, or a file is missing, this working directory will be\u001b[39;00m\n\u001b[1;32m    782\u001b[0m \u001b[38;5;66;03m#   deleted.\u001b[39;00m\n\u001b[1;32m    783\u001b[0m files \u001b[38;5;241m=\u001b[39m \u001b[38;5;28mlist\u001b[39m(files)\n",
      "File \u001b[0;32m~/anaconda3/envs/torch/lib/python3.10/site-packages/nilearn/datasets/_utils.py:825\u001b[0m, in \u001b[0;36mfetch_files\u001b[0;34m(data_dir, files, resume, verbose, session)\u001b[0m\n\u001b[1;32m    822\u001b[0m temp_dir\u001b[38;5;241m.\u001b[39mmkdir(parents\u001b[38;5;241m=\u001b[39m\u001b[38;5;28;01mTrue\u001b[39;00m, exist_ok\u001b[38;5;241m=\u001b[39m\u001b[38;5;28;01mTrue\u001b[39;00m)\n\u001b[1;32m    823\u001b[0m md5sum \u001b[38;5;241m=\u001b[39m opts\u001b[38;5;241m.\u001b[39mget(\u001b[38;5;124m\"\u001b[39m\u001b[38;5;124mmd5sum\u001b[39m\u001b[38;5;124m\"\u001b[39m, \u001b[38;5;28;01mNone\u001b[39;00m)\n\u001b[0;32m--> 825\u001b[0m dl_file \u001b[38;5;241m=\u001b[39m \u001b[43mfetch_single_file\u001b[49m\u001b[43m(\u001b[49m\n\u001b[1;32m    826\u001b[0m \u001b[43m    \u001b[49m\u001b[43murl\u001b[49m\u001b[43m,\u001b[49m\n\u001b[1;32m    827\u001b[0m \u001b[43m    \u001b[49m\u001b[43mtemp_dir\u001b[49m\u001b[43m,\u001b[49m\n\u001b[1;32m    828\u001b[0m \u001b[43m    \u001b[49m\u001b[43mresume\u001b[49m\u001b[38;5;241;43m=\u001b[39;49m\u001b[43mresume\u001b[49m\u001b[43m,\u001b[49m\n\u001b[1;32m    829\u001b[0m \u001b[43m    \u001b[49m\u001b[43mverbose\u001b[49m\u001b[38;5;241;43m=\u001b[39;49m\u001b[43mverbose\u001b[49m\u001b[43m,\u001b[49m\n\u001b[1;32m    830\u001b[0m \u001b[43m    \u001b[49m\u001b[43mmd5sum\u001b[49m\u001b[38;5;241;43m=\u001b[39;49m\u001b[43mmd5sum\u001b[49m\u001b[43m,\u001b[49m\n\u001b[1;32m    831\u001b[0m \u001b[43m    \u001b[49m\u001b[43musername\u001b[49m\u001b[38;5;241;43m=\u001b[39;49m\u001b[43mopts\u001b[49m\u001b[38;5;241;43m.\u001b[39;49m\u001b[43mget\u001b[49m\u001b[43m(\u001b[49m\u001b[38;5;124;43m\"\u001b[39;49m\u001b[38;5;124;43musername\u001b[39;49m\u001b[38;5;124;43m\"\u001b[39;49m\u001b[43m,\u001b[49m\u001b[43m \u001b[49m\u001b[38;5;28;43;01mNone\u001b[39;49;00m\u001b[43m)\u001b[49m\u001b[43m,\u001b[49m\n\u001b[1;32m    832\u001b[0m \u001b[43m    \u001b[49m\u001b[43mpassword\u001b[49m\u001b[38;5;241;43m=\u001b[39;49m\u001b[43mopts\u001b[49m\u001b[38;5;241;43m.\u001b[39;49m\u001b[43mget\u001b[49m\u001b[43m(\u001b[49m\u001b[38;5;124;43m\"\u001b[39;49m\u001b[38;5;124;43mpassword\u001b[39;49m\u001b[38;5;124;43m\"\u001b[39;49m\u001b[43m,\u001b[49m\u001b[43m \u001b[49m\u001b[38;5;28;43;01mNone\u001b[39;49;00m\u001b[43m)\u001b[49m\u001b[43m,\u001b[49m\n\u001b[1;32m    833\u001b[0m \u001b[43m    \u001b[49m\u001b[43msession\u001b[49m\u001b[38;5;241;43m=\u001b[39;49m\u001b[43msession\u001b[49m\u001b[43m,\u001b[49m\n\u001b[1;32m    834\u001b[0m \u001b[43m    \u001b[49m\u001b[43moverwrite\u001b[49m\u001b[38;5;241;43m=\u001b[39;49m\u001b[43moverwrite\u001b[49m\u001b[43m,\u001b[49m\n\u001b[1;32m    835\u001b[0m \u001b[43m\u001b[49m\u001b[43m)\u001b[49m\n\u001b[1;32m    836\u001b[0m \u001b[38;5;28;01mif\u001b[39;00m \u001b[38;5;124m\"\u001b[39m\u001b[38;5;124mmove\u001b[39m\u001b[38;5;124m\"\u001b[39m \u001b[38;5;129;01min\u001b[39;00m opts:\n\u001b[1;32m    837\u001b[0m     \u001b[38;5;66;03m# XXX: here, move is supposed to be a dir, it can be a name\u001b[39;00m\n\u001b[1;32m    838\u001b[0m     move \u001b[38;5;241m=\u001b[39m temp_dir \u001b[38;5;241m/\u001b[39m opts[\u001b[38;5;124m\"\u001b[39m\u001b[38;5;124mmove\u001b[39m\u001b[38;5;124m\"\u001b[39m]\n",
      "File \u001b[0;32m~/anaconda3/envs/torch/lib/python3.10/site-packages/nilearn/datasets/_utils.py:644\u001b[0m, in \u001b[0;36mfetch_single_file\u001b[0;34m(url, data_dir, resume, overwrite, md5sum, username, password, verbose, session)\u001b[0m\n\u001b[1;32m    640\u001b[0m req \u001b[38;5;241m=\u001b[39m requests\u001b[38;5;241m.\u001b[39mRequest(\n\u001b[1;32m    641\u001b[0m     method\u001b[38;5;241m=\u001b[39m\u001b[38;5;124m\"\u001b[39m\u001b[38;5;124mGET\u001b[39m\u001b[38;5;124m\"\u001b[39m, url\u001b[38;5;241m=\u001b[39murl, headers\u001b[38;5;241m=\u001b[39mheaders, auth\u001b[38;5;241m=\u001b[39mauth\n\u001b[1;32m    642\u001b[0m )\n\u001b[1;32m    643\u001b[0m prepped \u001b[38;5;241m=\u001b[39m session\u001b[38;5;241m.\u001b[39mprepare_request(req)\n\u001b[0;32m--> 644\u001b[0m \u001b[38;5;28;01mwith\u001b[39;00m \u001b[43msession\u001b[49m\u001b[38;5;241;43m.\u001b[39;49m\u001b[43msend\u001b[49m\u001b[43m(\u001b[49m\n\u001b[1;32m    645\u001b[0m \u001b[43m    \u001b[49m\u001b[43mprepped\u001b[49m\u001b[43m,\u001b[49m\u001b[43m \u001b[49m\u001b[43mstream\u001b[49m\u001b[38;5;241;43m=\u001b[39;49m\u001b[38;5;28;43;01mTrue\u001b[39;49;00m\u001b[43m,\u001b[49m\u001b[43m \u001b[49m\u001b[43mtimeout\u001b[49m\u001b[38;5;241;43m=\u001b[39;49m\u001b[43m_REQUESTS_TIMEOUT\u001b[49m\n\u001b[1;32m    646\u001b[0m \u001b[43m\u001b[49m\u001b[43m)\u001b[49m \u001b[38;5;28;01mas\u001b[39;00m resp:\n\u001b[1;32m    647\u001b[0m     resp\u001b[38;5;241m.\u001b[39mraise_for_status()\n\u001b[1;32m    648\u001b[0m     \u001b[38;5;28;01mwith\u001b[39;00m temp_full_name\u001b[38;5;241m.\u001b[39mopen(\u001b[38;5;124m\"\u001b[39m\u001b[38;5;124mwb\u001b[39m\u001b[38;5;124m\"\u001b[39m) \u001b[38;5;28;01mas\u001b[39;00m fh:\n",
      "File \u001b[0;32m~/anaconda3/envs/torch/lib/python3.10/site-packages/requests/sessions.py:703\u001b[0m, in \u001b[0;36mSession.send\u001b[0;34m(self, request, **kwargs)\u001b[0m\n\u001b[1;32m    700\u001b[0m start \u001b[38;5;241m=\u001b[39m preferred_clock()\n\u001b[1;32m    702\u001b[0m \u001b[38;5;66;03m# Send the request\u001b[39;00m\n\u001b[0;32m--> 703\u001b[0m r \u001b[38;5;241m=\u001b[39m \u001b[43madapter\u001b[49m\u001b[38;5;241;43m.\u001b[39;49m\u001b[43msend\u001b[49m\u001b[43m(\u001b[49m\u001b[43mrequest\u001b[49m\u001b[43m,\u001b[49m\u001b[43m \u001b[49m\u001b[38;5;241;43m*\u001b[39;49m\u001b[38;5;241;43m*\u001b[39;49m\u001b[43mkwargs\u001b[49m\u001b[43m)\u001b[49m\n\u001b[1;32m    705\u001b[0m \u001b[38;5;66;03m# Total elapsed time of the request (approximately)\u001b[39;00m\n\u001b[1;32m    706\u001b[0m elapsed \u001b[38;5;241m=\u001b[39m preferred_clock() \u001b[38;5;241m-\u001b[39m start\n",
      "File \u001b[0;32m~/anaconda3/envs/torch/lib/python3.10/site-packages/requests/adapters.py:698\u001b[0m, in \u001b[0;36mHTTPAdapter.send\u001b[0;34m(self, request, stream, timeout, verify, cert, proxies)\u001b[0m\n\u001b[1;32m    694\u001b[0m         \u001b[38;5;28;01mraise\u001b[39;00m ProxyError(e, request\u001b[38;5;241m=\u001b[39mrequest)\n\u001b[1;32m    696\u001b[0m     \u001b[38;5;28;01mif\u001b[39;00m \u001b[38;5;28misinstance\u001b[39m(e\u001b[38;5;241m.\u001b[39mreason, _SSLError):\n\u001b[1;32m    697\u001b[0m         \u001b[38;5;66;03m# This branch is for urllib3 v1.22 and later.\u001b[39;00m\n\u001b[0;32m--> 698\u001b[0m         \u001b[38;5;28;01mraise\u001b[39;00m SSLError(e, request\u001b[38;5;241m=\u001b[39mrequest)\n\u001b[1;32m    700\u001b[0m     \u001b[38;5;28;01mraise\u001b[39;00m \u001b[38;5;167;01mConnectionError\u001b[39;00m(e, request\u001b[38;5;241m=\u001b[39mrequest)\n\u001b[1;32m    702\u001b[0m \u001b[38;5;28;01mexcept\u001b[39;00m ClosedPoolError \u001b[38;5;28;01mas\u001b[39;00m e:\n",
      "\u001b[0;31mSSLError\u001b[0m: HTTPSConnectionPool(host='www.gin.cnrs.fr', port=443): Max retries exceeded with url: /AAL_files/aal_for_SPM12.tar.gz (Caused by SSLError(SSLCertVerificationError(1, \"[SSL: CERTIFICATE_VERIFY_FAILED] certificate verify failed: Hostname mismatch, certificate is not valid for 'www.gin.cnrs.fr'. (_ssl.c:1007)\")))"
     ]
    }
   ],
   "source": [
    "\n",
    "# Load the AAL Atlas\n",
    "atlas = datasets.fetch_atlas_aal()"
   ]
  },
  {
   "cell_type": "code",
   "execution_count": 29,
   "metadata": {},
   "outputs": [],
   "source": [
    "pd.DataFrame(flat_list).to_csv(\"temp.csv\", index=False)"
   ]
  },
  {
   "cell_type": "code",
   "execution_count": 23,
   "metadata": {},
   "outputs": [
    {
     "name": "stdout",
     "output_type": "stream",
     "text": [
      "[]\n"
     ]
    }
   ],
   "source": [
    "matches = [(i, item) for i, item in enumerate(flat_list) if \"Substantia Nigra\" in item]\n",
    "\n",
    "print(matches)  \n",
    "# Output: [(2, 'Substantia Nigra Left'), (4, 'Substantia Nigra Right')]\n"
   ]
  },
  {
   "cell_type": "code",
   "execution_count": 5,
   "metadata": {},
   "outputs": [
    {
     "ename": "ValueError",
     "evalue": "Invalid atlas name: sub-cortical. Please choose an atlas among:\ncort-maxprob-thr0-1mm\ncort-maxprob-thr0-2mm\ncort-maxprob-thr25-1mm\ncort-maxprob-thr25-2mm\ncort-maxprob-thr50-1mm\ncort-maxprob-thr50-2mm\ncort-prob-1mm\ncort-prob-2mm\ncortl-maxprob-thr0-1mm\ncortl-maxprob-thr0-2mm\ncortl-maxprob-thr25-1mm\ncortl-maxprob-thr25-2mm\ncortl-maxprob-thr50-1mm\ncortl-maxprob-thr50-2mm\ncortl-prob-1mm\ncortl-prob-2mm\nsub-maxprob-thr0-1mm\nsub-maxprob-thr0-2mm\nsub-maxprob-thr25-1mm\nsub-maxprob-thr25-2mm\nsub-maxprob-thr50-1mm\nsub-maxprob-thr50-2mm\nsub-prob-1mm\nsub-prob-2mm",
     "output_type": "error",
     "traceback": [
      "\u001b[0;31m---------------------------------------------------------------------------\u001b[0m",
      "\u001b[0;31mValueError\u001b[0m                                Traceback (most recent call last)",
      "Cell \u001b[0;32mIn[5], line 1\u001b[0m\n\u001b[0;32m----> 1\u001b[0m atlas_filename \u001b[38;5;241m=\u001b[39m \u001b[43mdatasets\u001b[49m\u001b[38;5;241;43m.\u001b[39;49m\u001b[43mfetch_atlas_harvard_oxford\u001b[49m\u001b[43m(\u001b[49m\u001b[38;5;124;43m'\u001b[39;49m\u001b[38;5;124;43msub-cortical\u001b[39;49m\u001b[38;5;124;43m'\u001b[39;49m\u001b[43m)\u001b[49m[\u001b[38;5;124m'\u001b[39m\u001b[38;5;124mfilename\u001b[39m\u001b[38;5;124m'\u001b[39m]\n",
      "File \u001b[0;32m~/anaconda3/envs/torch/lib/python3.10/site-packages/nilearn/datasets/atlas.py:487\u001b[0m, in \u001b[0;36mfetch_atlas_harvard_oxford\u001b[0;34m(atlas_name, data_dir, symmetric_split, resume, verbose)\u001b[0m\n\u001b[1;32m    485\u001b[0m \u001b[38;5;28;01mif\u001b[39;00m atlas_name \u001b[38;5;129;01mnot\u001b[39;00m \u001b[38;5;129;01min\u001b[39;00m atlases:\n\u001b[1;32m    486\u001b[0m     atlases \u001b[38;5;241m=\u001b[39m \u001b[38;5;124m\"\u001b[39m\u001b[38;5;130;01m\\n\u001b[39;00m\u001b[38;5;124m\"\u001b[39m\u001b[38;5;241m.\u001b[39mjoin(atlases)\n\u001b[0;32m--> 487\u001b[0m     \u001b[38;5;28;01mraise\u001b[39;00m \u001b[38;5;167;01mValueError\u001b[39;00m(\n\u001b[1;32m    488\u001b[0m         \u001b[38;5;124mf\u001b[39m\u001b[38;5;124m\"\u001b[39m\u001b[38;5;124mInvalid atlas name: \u001b[39m\u001b[38;5;132;01m{\u001b[39;00matlas_name\u001b[38;5;132;01m}\u001b[39;00m\u001b[38;5;124m. \u001b[39m\u001b[38;5;124m\"\u001b[39m\n\u001b[1;32m    489\u001b[0m         \u001b[38;5;124mf\u001b[39m\u001b[38;5;124m\"\u001b[39m\u001b[38;5;124mPlease choose an atlas among:\u001b[39m\u001b[38;5;130;01m\\n\u001b[39;00m\u001b[38;5;132;01m{\u001b[39;00matlases\u001b[38;5;132;01m}\u001b[39;00m\u001b[38;5;124m\"\u001b[39m\n\u001b[1;32m    490\u001b[0m     )\n\u001b[1;32m    491\u001b[0m is_probabilistic \u001b[38;5;241m=\u001b[39m \u001b[38;5;124m\"\u001b[39m\u001b[38;5;124m-prob-\u001b[39m\u001b[38;5;124m\"\u001b[39m \u001b[38;5;129;01min\u001b[39;00m atlas_name\n\u001b[1;32m    492\u001b[0m \u001b[38;5;28;01mif\u001b[39;00m is_probabilistic \u001b[38;5;129;01mand\u001b[39;00m symmetric_split:\n",
      "\u001b[0;31mValueError\u001b[0m: Invalid atlas name: sub-cortical. Please choose an atlas among:\ncort-maxprob-thr0-1mm\ncort-maxprob-thr0-2mm\ncort-maxprob-thr25-1mm\ncort-maxprob-thr25-2mm\ncort-maxprob-thr50-1mm\ncort-maxprob-thr50-2mm\ncort-prob-1mm\ncort-prob-2mm\ncortl-maxprob-thr0-1mm\ncortl-maxprob-thr0-2mm\ncortl-maxprob-thr25-1mm\ncortl-maxprob-thr25-2mm\ncortl-maxprob-thr50-1mm\ncortl-maxprob-thr50-2mm\ncortl-prob-1mm\ncortl-prob-2mm\nsub-maxprob-thr0-1mm\nsub-maxprob-thr0-2mm\nsub-maxprob-thr25-1mm\nsub-maxprob-thr25-2mm\nsub-maxprob-thr50-1mm\nsub-maxprob-thr50-2mm\nsub-prob-1mm\nsub-prob-2mm"
     ]
    }
   ],
   "source": [
    "atlas_filename = datasets.fetch_atlas_harvard_oxford('sub-cortical')['filename']"
   ]
  },
  {
   "cell_type": "code",
   "execution_count": 12,
   "metadata": {},
   "outputs": [
    {
     "data": {
      "text/html": [
       "<pre style=\"white-space:pre;overflow-x:auto;line-height:normal;font-family:Menlo,'DejaVu Sans Mono',consolas,'Courier New',monospace\"><span style=\"color: #000080; text-decoration-color: #000080; font-weight: bold\">[</span><span style=\"color: #000080; text-decoration-color: #000080\">get_dataset_dir</span><span style=\"color: #000080; text-decoration-color: #000080; font-weight: bold\">]</span> Dataset found in <span style=\"color: #800080; text-decoration-color: #800080\">/home/linux-pc/nilearn_data/</span><span style=\"color: #ff00ff; text-decoration-color: #ff00ff\">fsl</span>\n",
       "</pre>\n"
      ],
      "text/plain": [
       "\u001b[1;34m[\u001b[0m\u001b[34mget_dataset_dir\u001b[0m\u001b[1;34m]\u001b[0m Dataset found in \u001b[35m/home/linux-pc/nilearn_data/\u001b[0m\u001b[95mfsl\u001b[0m\n"
      ]
     },
     "metadata": {},
     "output_type": "display_data"
    },
    {
     "data": {
      "text/html": [
       "<pre style=\"white-space:pre;overflow-x:auto;line-height:normal;font-family:Menlo,'DejaVu Sans Mono',consolas,'Courier New',monospace\"><span style=\"color: #000080; text-decoration-color: #000080; font-weight: bold\">[</span><span style=\"color: #000080; text-decoration-color: #000080\">get_dataset_dir</span><span style=\"color: #000080; text-decoration-color: #000080; font-weight: bold\">]</span> Dataset found in <span style=\"color: #800080; text-decoration-color: #800080\">/home/linux-pc/nilearn_data/</span><span style=\"color: #ff00ff; text-decoration-color: #ff00ff\">fsl</span>\n",
       "</pre>\n"
      ],
      "text/plain": [
       "\u001b[1;34m[\u001b[0m\u001b[34mget_dataset_dir\u001b[0m\u001b[1;34m]\u001b[0m Dataset found in \u001b[35m/home/linux-pc/nilearn_data/\u001b[0m\u001b[95mfsl\u001b[0m\n"
      ]
     },
     "metadata": {},
     "output_type": "display_data"
    },
    {
     "name": "stdout",
     "output_type": "stream",
     "text": [
      "Func files without mask: ['../data/sub-0270/ses-01/func/sub-0270_ses-01_task-rest_bold.nii.gz', '../data/sub-0205/ses-01/func/sub-0205_ses-01_task-rest_bold.nii.gz', '../data/sub-0231/ses-01/func/sub-0231_ses-01_task-rest_bold.nii.gz', '../data/sub-0240/ses-01/func/sub-0240_ses-01_task-rest_bold.nii.gz', '../data/sub-0238/ses-01/func/sub-0238_ses-01_task-rest_bold.nii.gz', '../data/sub-0252/ses-01/func/sub-0252_ses-01_task-rest_bold.nii.gz', '../data/sub-2132/ses-01/func/sub-2132_ses-01_task-rest_bold.nii.gz', '../data/sub-2122/ses-01/func/sub-2122_ses-01_task-rest_bold.nii.gz', '../data/sub-0272/ses-01/func/sub-0272_ses-01_task-rest_bold.nii.gz', '../data/sub-2130/ses-01/func/sub-2130_ses-01_task-rest_bold.nii.gz', '../data/sub-2145/ses-01/func/sub-2145_ses-01_task-rest_bold.nii.gz', '../data/sub-0264/ses-01/func/sub-0264_ses-01_task-rest_bold.nii.gz', '../data/sub-2134/ses-01/func/sub-2134_ses-01_task-rest_bold.nii.gz', '../data/sub-0202/ses-01/func/sub-0202_ses-01_task-rest_bold.nii.gz', '../data/sub-2141/ses-01/func/sub-2141_ses-01_task-rest_bold.nii.gz', '../data/sub-0203/ses-01/func/sub-0203_ses-01_task-rest_bold.nii.gz', '../data/sub-0222/ses-01/func/sub-0222_ses-01_task-rest_bold.nii.gz', '../data/sub-0224/ses-01/func/sub-0224_ses-01_task-rest_bold.nii.gz', '../data/sub-2128/ses-01/func/sub-2128_ses-01_task-rest_bold.nii.gz', '../data/sub-0267/ses-01/func/sub-0267_ses-01_task-rest_bold.nii.gz', '../data/sub-0206/ses-01/func/sub-0206_ses-01_task-rest_bold.nii.gz', '../data/sub-0243/ses-01/func/sub-0243_ses-01_task-rest_bold.nii.gz', '../data/sub-0230/ses-01/func/sub-0230_ses-01_task-rest_bold.nii.gz', '../data/sub-0210/ses-01/func/sub-0210_ses-01_task-rest_bold.nii.gz', '../data/sub-0207/ses-01/func/sub-0207_ses-01_task-rest_bold.nii.gz', '../data/sub-2148/ses-01/func/sub-2148_ses-01_task-rest_bold.nii.gz', '../data/sub-0212/ses-01/func/sub-0212_ses-01_task-rest_bold.nii.gz', '../data/sub-0257/ses-01/func/sub-0257_ses-01_task-rest_bold.nii.gz', '../data/sub-0213/ses-01/func/sub-0213_ses-01_task-rest_bold.nii.gz', '../data/sub-0226/ses-01/func/sub-0226_ses-01_task-rest_bold.nii.gz', '../data/sub-0214/ses-01/func/sub-0214_ses-01_task-rest_bold.nii.gz', '../data/sub-0235/ses-01/func/sub-0235_ses-01_task-rest_bold.nii.gz', '../data/sub-2125/ses-01/func/sub-2125_ses-01_task-rest_bold.nii.gz', '../data/sub-2139/ses-01/func/sub-2139_ses-01_task-rest_bold.nii.gz', '../data/sub-0265/ses-01/func/sub-0265_ses-01_task-rest_bold.nii.gz', '../data/sub-0209/ses-01/func/sub-0209_ses-01_task-rest_bold.nii.gz', '../data/sub-0247/ses-01/func/sub-0247_ses-01_task-rest_bold.nii.gz', '../data/sub-2137/ses-01/func/sub-2137_ses-01_task-rest_bold.nii.gz', '../data/sub-2131/ses-01/func/sub-2131_ses-01_task-rest_bold.nii.gz', '../data/sub-0256/ses-01/func/sub-0256_ses-01_task-rest_bold.nii.gz', '../data/sub-0246/ses-01/func/sub-0246_ses-01_task-rest_bold.nii.gz', '../data/sub-0253/ses-01/func/sub-0253_ses-01_task-rest_bold.nii.gz', '../data/sub-0232/ses-01/func/sub-0232_ses-01_task-rest_bold.nii.gz', '../data/sub-0227/ses-01/func/sub-0227_ses-01_task-rest_bold.nii.gz', '../data/sub-0242/ses-01/func/sub-0242_ses-01_task-rest_bold.nii.gz', '../data/sub-0263/ses-01/func/sub-0263_ses-01_task-rest_bold.nii.gz', '../data/sub-0237/ses-01/func/sub-0237_ses-01_task-rest_bold.nii.gz', '../data/sub-2129/ses-01/func/sub-2129_ses-01_task-rest_bold.nii.gz', '../data/sub-0249/ses-01/func/sub-0249_ses-01_task-rest_bold.nii.gz', '../data/sub-2136/ses-01/func/sub-2136_ses-01_task-rest_bold.nii.gz', '../data/sub-0234/ses-01/func/sub-0234_ses-01_task-rest_bold.nii.gz', '../data/sub-2154/ses-01/func/sub-2154_ses-01_task-rest_bold.nii.gz', '../data/sub-0250/ses-01/func/sub-0250_ses-01_task-rest_bold.nii.gz', '../data/sub-0255/ses-01/func/sub-0255_ses-01_task-rest_bold.nii.gz', '../data/sub-0233/ses-01/func/sub-0233_ses-01_task-rest_bold.nii.gz', '../data/sub-0258/ses-01/func/sub-0258_ses-01_task-rest_bold.nii.gz', '../data/sub-0204/ses-01/func/sub-0204_ses-01_task-rest_bold.nii.gz', '../data/sub-2140/ses-01/func/sub-2140_ses-01_task-rest_bold.nii.gz']\n",
      "Anat files: ['../data/sub-0270/ses-01/anat/sub-0270_ses-01_T1w.nii.gz', '../data/sub-0205/ses-01/anat/sub-0205_ses-01_T1w.nii.gz', '../data/sub-0231/ses-01/anat/sub-0231_ses-01_T1w.nii.gz', '../data/sub-0240/ses-01/anat/sub-0240_ses-01_T1w.nii.gz', '../data/sub-0238/ses-01/anat/sub-0238_ses-01_T1w.nii.gz', '../data/sub-0252/ses-01/anat/sub-0252_ses-01_T1w.nii.gz', '../data/sub-2132/ses-01/anat/sub-2132_ses-01_T1w.nii.gz', '../data/sub-2122/ses-01/anat/sub-2122_ses-01_T1w.nii.gz', '../data/sub-0272/ses-01/anat/sub-0272_ses-01_T1w.nii.gz', '../data/sub-2130/ses-01/anat/sub-2130_ses-01_T1w.nii.gz', '../data/sub-2145/ses-01/anat/sub-2145_ses-01_T1w.nii.gz', '../data/sub-0264/ses-01/anat/sub-0264_ses-01_T1w.nii.gz', '../data/sub-2134/ses-01/anat/sub-2134_ses-01_T1w.nii.gz', '../data/sub-0202/ses-01/anat/sub-0202_ses-01_T1w.nii.gz', '../data/sub-2141/ses-01/anat/sub-2141_ses-01_T1w.nii.gz', '../data/sub-0203/ses-01/anat/sub-0203_ses-01_T1w.nii.gz', '../data/sub-0222/ses-01/anat/sub-0222_ses-01_T1w.nii.gz', '../data/sub-0224/ses-01/anat/sub-0224_ses-01_T1w.nii.gz', '../data/sub-2128/ses-01/anat/sub-2128_ses-01_T1w.nii.gz', '../data/sub-0267/ses-01/anat/sub-0267_ses-01_T1w.nii.gz', '../data/sub-0206/ses-01/anat/sub-0206_ses-01_T1w.nii.gz', '../data/sub-0243/ses-01/anat/sub-0243_ses-01_T1w.nii.gz', '../data/sub-0230/ses-01/anat/sub-0230_ses-01_T1w.nii.gz', '../data/sub-0210/ses-01/anat/sub-0210_ses-01_T1w.nii.gz', '../data/sub-0207/ses-01/anat/sub-0207_ses-01_T1w.nii.gz', '../data/sub-2148/ses-01/anat/sub-2148_ses-01_T1w.nii.gz', '../data/sub-0212/ses-01/anat/sub-0212_ses-01_T1w.nii.gz', '../data/sub-0257/ses-01/anat/sub-0257_ses-01_T1w.nii.gz', '../data/sub-0213/ses-01/anat/sub-0213_ses-01_T1w.nii.gz', '../data/sub-0226/ses-01/anat/sub-0226_ses-01_T1w.nii.gz', '../data/sub-0214/ses-01/anat/sub-0214_ses-01_T1w.nii.gz', '../data/sub-0235/ses-01/anat/sub-0235_ses-01_T1w.nii.gz', '../data/sub-2125/ses-01/anat/sub-2125_ses-01_T1w.nii.gz', '../data/sub-2139/ses-01/anat/sub-2139_ses-01_T1w.nii.gz', '../data/sub-0265/ses-01/anat/sub-0265_ses-01_T1w.nii.gz', '../data/sub-0209/ses-01/anat/sub-0209_ses-01_T1w.nii.gz', '../data/sub-0247/ses-01/anat/sub-0247_ses-01_T1w.nii.gz', '../data/sub-2137/ses-01/anat/sub-2137_ses-01_T1w.nii.gz', '../data/sub-2131/ses-01/anat/sub-2131_ses-01_T1w.nii.gz', '../data/sub-0256/ses-01/anat/sub-0256_ses-01_T1w.nii.gz', '../data/sub-0246/ses-01/anat/sub-0246_ses-01_T1w.nii.gz', '../data/sub-0253/ses-01/anat/sub-0253_ses-01_T1w.nii.gz', '../data/sub-0232/ses-01/anat/sub-0232_ses-01_T1w.nii.gz', '../data/sub-0227/ses-01/anat/sub-0227_ses-01_T1w.nii.gz', '../data/sub-0242/ses-01/anat/sub-0242_ses-01_T1w.nii.gz', '../data/sub-0263/ses-01/anat/sub-0263_ses-01_T1w.nii.gz', '../data/sub-0237/ses-01/anat/sub-0237_ses-01_T1w.nii.gz', '../data/sub-2129/ses-01/anat/sub-2129_ses-01_T1w.nii.gz', '../data/sub-0249/ses-01/anat/sub-0249_ses-01_T1w.nii.gz', '../data/sub-2136/ses-01/anat/sub-2136_ses-01_T1w.nii.gz', '../data/sub-0234/ses-01/anat/sub-0234_ses-01_T1w.nii.gz', '../data/sub-2154/ses-01/anat/sub-2154_ses-01_T1w.nii.gz', '../data/sub-0250/ses-01/anat/sub-0250_ses-01_T1w.nii.gz', '../data/sub-0255/ses-01/anat/sub-0255_ses-01_T1w.nii.gz', '../data/sub-0233/ses-01/anat/sub-0233_ses-01_T1w.nii.gz', '../data/sub-0258/ses-01/anat/sub-0258_ses-01_T1w.nii.gz', '../data/sub-0204/ses-01/anat/sub-0204_ses-01_T1w.nii.gz', '../data/sub-2140/ses-01/anat/sub-2140_ses-01_T1w.nii.gz']\n",
      "Func mask files: []\n"
     ]
    }
   ],
   "source": [
    "# Fetch the atlas (cortical or subcortical)\n",
    "atlas_cortex = fetch_atlas_harvard_oxford('cort-maxprob-thr25-1mm')  # 1mm resolution\n",
    "atlas_img_cortex = atlas_cortex.filename\n",
    "\n",
    "# Fetch the sub-cortical atlas\n",
    "atlas_subcortical = fetch_atlas_harvard_oxford('sub-maxprob-thr25-1mm')\n",
    "atlas_img_subcortical = atlas_subcortical.filename\n",
    "\n",
    "# Load the Harvard-Oxford Sub-cortical Atlas\n",
    "# from nilearn import datasets\n",
    "# atlas_filename = datasets.fetch_atlas_harvard_oxford('sub-cortical')['filename']\n",
    "\n",
    "# Plot the Harvard-Oxford Sub-cortical Atlas overlaid on the fMRI data\n",
    "# plotting.plot_roi(atlas_filename, bg_img=fmri_data, title=\"Harvard-Oxford Sub-cortical Atlas\")\n",
    "\n",
    "\n",
    "atlas_labels = atlas_cortex.labels[1:] + atlas_subcortical.labels[1:]\n",
    "\n",
    "# Root directory is 'data'\n",
    "root_dir = '../data'\n",
    "\n",
    "# Glob all files that end in .nii under any 'func' directory (in nested subfolders)\n",
    "func_files = glob.glob(os.path.join(root_dir, '**', 'func', '**', '*.nii.gz'), recursive=True)\n",
    "\n",
    "# Filter out files that contain the word 'mask' from the func_files list\n",
    "func_files_without_mask = [file for file in func_files if 'mask' not in file]\n",
    "\n",
    "# Glob all files that end in .nii under any 'anat' directory (in nested subfolders)\n",
    "anat_files = glob.glob(os.path.join(root_dir, '**', 'anat', '**', '*.nii.gz'), recursive=True)\n",
    "\n",
    "# Glob all files that contain the word \"mask\" that end in .nii and are located under any 'func' directory (in nested subfolders)\n",
    "func_mask_files = glob.glob(os.path.join(root_dir, '**', 'func', '**', '*mask*.nii.gz'), recursive=True)\n",
    "\n",
    "# Output the results\n",
    "print(\"Func files without mask:\", func_files_without_mask)\n",
    "print(\"Anat files:\", anat_files)\n",
    "print(\"Func mask files:\", func_mask_files)"
   ]
  },
  {
   "cell_type": "code",
   "execution_count": null,
   "metadata": {},
   "outputs": [],
   "source": [
    "# Load the 4D fMRI data and 3D anatomical data for each brain\n",
    "brains_fmri = func_files_without_mask\n",
    "brains_anatomical = anat_files"
   ]
  },
  {
   "cell_type": "code",
   "execution_count": null,
   "metadata": {},
   "outputs": [],
   "source": [
    "len(brains_anatomical)"
   ]
  },
  {
   "cell_type": "code",
   "execution_count": null,
   "metadata": {},
   "outputs": [],
   "source": [
    "len(brains_fmri)"
   ]
  },
  {
   "cell_type": "code",
   "execution_count": null,
   "metadata": {},
   "outputs": [],
   "source": [
    "# Create Bold Signals For All Subcortical and Cortical Regions\n",
    "for person in tqdm(range(len(brains_fmri))):\n",
    "    bold_signal_dir = os.path.dirname(os.path.dirname(brains_fmri[person]))\n",
    "    subject_name = os.path.basename(os.path.dirname(os.path.dirname(os.path.dirname(brains_fmri[person]))))\n",
    "    # Example: Load the first brain's fMRI and anatomical data\n",
    "    fmri_data, fmri_affine = load_nii(brains_fmri[person])  # Shape: (x, y, z, t)\n",
    "    anatomical_data, anatomical_affine = load_nii(brains_anatomical[person])  # Shape: (x, y, z)\n",
    "    anatomical_nii = nib.load(brains_anatomical[person])\n",
    "    \n",
    "    # Resample the atlas to match the anatomical image (cortical)\n",
    "    resampled_atlas_cortex = resample_to_img(atlas_img_cortex, anatomical_nii , interpolation='nearest')\n",
    "    resampled_atlas_subcortex = resample_to_img(atlas_img_subcortical, anatomical_nii , interpolation='nearest')\n",
    "    \n",
    "    # Save the new resampled atlas\n",
    "    # resampled_atlas.to_filename(\"registered_atlas.nii.gz\")\n",
    "    \n",
    "    # Convert the resampled atlas image to a NumPy array\n",
    "    atlas_data_cortex = resampled_atlas_cortex.get_fdata()\n",
    "    atlas_data_subcortex = resampled_atlas_subcortex.get_fdata()\n",
    "    \n",
    "    # Extract unique region labels from the atlas\n",
    "    roi_labels_cortex = np.unique(atlas_data_cortex)[1:]  # Ignore background (0)\n",
    "    roi_labels_subcortex = np.unique(atlas_data_subcortex)[1:]  # Ignore background (0)roi_labels_cortex = np.unique(atlas_data_cortex)[1:]  # Ignore background (0)\n",
    "\n",
    "    # Step 1: Resample the atlas to match the spatial dimensions of fmri_data (64, 64, 34)\n",
    "    # Determine the scaling factors for each spatial dimension\n",
    "    scaling_factors = np.array(fmri_data.shape[:3]) / np.array(atlas_data_cortex.shape)\n",
    "\n",
    "    # Resample the atlas using the scaling factors (linear interpolation)\n",
    "    resampled_atlas_cortex = zoom(atlas_data_cortex, scaling_factors, order=1)  # Using linear interpolation\n",
    "    resampled_atlas_subcortex = zoom(atlas_data_subcortex, scaling_factors, order=1) # Using linear inerpolation\n",
    "\n",
    "    # Round and cast the resampled atlas to integers\n",
    "    resampled_atlas_cortex = np.round(resampled_atlas_cortex).astype(int)\n",
    "    resampled_atlas_subcortex = np.round(resampled_atlas_subcortex).astype(int)\n",
    "\n",
    "    # Step 2: Extract unique region labels from the resampled atlas (skip background 0)\n",
    "    # roi_labels = np.unique(resampled_atlas)[np.unique(resampled_atlas) > 0]\n",
    "\n",
    "    # Create a dictionary to store extracted time series for each ROI\n",
    "    roi_time_series = {}\n",
    "\n",
    "    # Step 3: Extract fMRI time series for each ROI\n",
    "    for roi in tqdm(roi_labels_cortex, desc=\"Processing ROIs\"):\n",
    "        # Get the voxel indices for the current ROI in the resampled atlas\n",
    "        roi_voxels = np.where(resampled_atlas_cortex == roi)\n",
    "\n",
    "        # Ensure the voxel indices are valid within the spatial dimensions of fmri_data\n",
    "        # Extract the fMRI signal corresponding to these voxels for each time point\n",
    "        roi_signal = fmri_data[roi_voxels].mean(axis=0)  # Averaging across voxels (axis 0 refers to spatial)\n",
    "\n",
    "        # Store the resulting time series for the current ROI\n",
    "        roi_time_series[roi] = roi_signal\n",
    "\n",
    "    # Convert to DataFrame\n",
    "    roi_cortex_df = pd.DataFrame(roi_time_series)\n",
    "\n",
    "    # Create a dictionary to store extracted time series for each ROI\n",
    "    roi_time_series = {}\n",
    "\n",
    "    # Step 3: Extract fMRI time series for each ROI\n",
    "    for roi in tqdm(roi_labels_subcortex, desc=\"Processing ROIs\"):\n",
    "        # Get the voxel indices for the current ROI in the resampled atlas\n",
    "        roi_voxels = np.where(resampled_atlas_subcortex == roi)\n",
    "\n",
    "        # Ensure the voxel indices are valid within the spatial dimensions of fmri_data\n",
    "        # Extract the fMRI signal corresponding to these voxels for each time point\n",
    "        roi_signal = fmri_data[roi_voxels].mean(axis=0)  # Averaging across voxels (axis 0 refers to spatial)\n",
    "\n",
    "        # Store the resulting time series for the current ROI\n",
    "        roi_time_series[roi] = roi_signal\n",
    "\n",
    "    # Convert to DataFrame\n",
    "    roi_subcortex_df = pd.DataFrame(roi_time_series)\n",
    "    roi_df = pd.concat([roi_cortex_df, roi_subcortex_df], axis=1)\n",
    "    roi_df.columns = atlas_labels\n",
    "\n",
    "    f_path = bold_signal_dir + '/' + subject_name + \"_roi_BOLD_activity.csv\"\n",
    "\n",
    "    # Save as CSV\n",
    "    bold_signal_dir\n",
    "    # roi_df.to_csv(f_path, index=False)\n"
   ]
  },
  {
   "cell_type": "markdown",
   "metadata": {},
   "source": [
    "## Collecting CSV of BOLD Activity"
   ]
  },
  {
   "cell_type": "code",
   "execution_count": null,
   "metadata": {},
   "outputs": [],
   "source": [
    "# Load the 4D fMRI data and 3D anatomical data for each brain\n",
    "brains_fmri = func_files_without_mask\n",
    "brains_anatomical = anat_files"
   ]
  },
  {
   "cell_type": "code",
   "execution_count": null,
   "metadata": {},
   "outputs": [],
   "source": [
    "BOLD_activity_csv_list =[f for f in glob.glob(\"data/**/*.csv\", recursive=True) if \"dataframes\" not in f ]"
   ]
  },
  {
   "cell_type": "code",
   "execution_count": null,
   "metadata": {},
   "outputs": [],
   "source": [
    "BOLD_activity_csv_list"
   ]
  },
  {
   "cell_type": "code",
   "execution_count": null,
   "metadata": {},
   "outputs": [],
   "source": [
    "# Fetch the atlas (cortical or subcortical)\n",
    "atlas_cortex = fetch_atlas_harvard_oxford('cort-maxprob-thr25-1mm')  # 1mm resolution\n",
    "atlas_img_cortex = atlas_cortex.filename\n",
    "\n",
    "# Fetch the sub-cortical atlas\n",
    "atlas_subcortical = fetch_atlas_harvard_oxford('sub-maxprob-thr25-1mm')\n",
    "atlas_img_subcortical = atlas_subcortical.filename\n",
    "\n",
    "atlas_labels = atlas_cortex.labels[1:] + atlas_subcortical.labels[1:]\n",
    "atlas_labels"
   ]
  },
  {
   "cell_type": "code",
   "execution_count": null,
   "metadata": {},
   "outputs": [],
   "source": [
    "BOLD_activity_df_list = []\n",
    "for person in BOLD_activity_csv_list:\n",
    "    BOLD_activity_df_list.append(pd.read_csv(person))"
   ]
  },
  {
   "cell_type": "markdown",
   "metadata": {},
   "source": [
    "##### Computing fractional Amplitude Low Frequency Fluctuations & Coefficient of Variance"
   ]
  },
  {
   "cell_type": "code",
   "execution_count": null,
   "metadata": {},
   "outputs": [],
   "source": [
    "fALFF_df = pd.DataFrame(columns=[\"Subject\"] + atlas_labels)\n",
    "cv_df = pd.DataFrame(columns=[\"Subject\"] + atlas_labels)"
   ]
  },
  {
   "cell_type": "code",
   "execution_count": null,
   "metadata": {},
   "outputs": [],
   "source": [
    "# Parameters\n",
    "TR = 2 # Repetition time (in seconds)\n",
    "low_freq_band = (0.01, 0.1) # Low-frequency range for ALFF (Hz)\n",
    "n_timepoints = 300\n",
    "frequencies = fftfreq(n_timepoints, d=TR)\n",
    "# Create a mask for the low-frequency band\n",
    "low_freq_mask = np.logical_and(frequencies >= low_freq_band[0], frequencies <= low_freq_band[1])"
   ]
  },
  {
   "cell_type": "code",
   "execution_count": null,
   "metadata": {},
   "outputs": [],
   "source": [
    "fft(BOLD_activity_df_list[0].iloc[:, 1], axis=-1)"
   ]
  },
  {
   "cell_type": "code",
   "execution_count": null,
   "metadata": {},
   "outputs": [],
   "source": [
    "for temp_df in BOLD_activity_df_list:\n",
    "    for region in range(len(temp_df.columns)):\n",
    "        # print(temp_df.iloc[:, region])\n",
    "        print(temp_df.columns)"
   ]
  },
  {
   "cell_type": "code",
   "execution_count": null,
   "metadata": {},
   "outputs": [],
   "source": [
    "temp_df.columns"
   ]
  },
  {
   "cell_type": "code",
   "execution_count": null,
   "metadata": {},
   "outputs": [],
   "source": [
    "temp_df.iloc[:]"
   ]
  },
  {
   "cell_type": "code",
   "execution_count": null,
   "metadata": {},
   "outputs": [],
   "source": [
    "for temp_df in BOLD_activity_df_list:\n",
    "    for region in range(len(temp_df.columns)):\n",
    "        print(temp_df.iloc[:, region])\n",
    "        print(type(region))\n",
    "        # fft_data = fft(temp_df.iloc[:, region], axis=-1)"
   ]
  },
  {
   "cell_type": "code",
   "execution_count": null,
   "metadata": {},
   "outputs": [],
   "source": [
    "# Calculate Frequencies and CV\n",
    "person = 0\n",
    "for temp_df in tqdm(BOLD_activity_df_list):\n",
    "    subject_name = os.path.basename(os.path.dirname(os.path.dirname(os.path.dirname(brains_fmri[person]))))\n",
    "    fALFF_values = []\n",
    "    cv_values = []\n",
    "    for region in range(len(temp_df.columns)):\n",
    "        fft_data = fft(temp_df.iloc[:, region], axis=-1)\n",
    "        \n",
    "        # Compute the ALFF: average amplitude in the low-frequency band\n",
    "        alff = np.abs(fft_data)[..., low_freq_mask].mean(axis=-1)\n",
    "\n",
    "        # For fALFF: Compute the total power in the 0.01-0.25 Hz range\n",
    "        total_power = np.abs(fft_data)[..., (frequencies >= 0.01) & (frequencies <= 0.25)].sum(axis=-1)\n",
    "\n",
    "        # Compute fALFF: Normalized ALFF\n",
    "        falff = alff / total_power\n",
    "        fALFF_values.append(falff)\n",
    "        \n",
    "        # BOLD Signal Variability (e.g., using Coefficient of Variation)\n",
    "        cv = np.std(temp_df.iloc[:, region]) / np.mean(temp_df.iloc[:, region])\n",
    "        cv_values.append(cv)\n",
    "    \n",
    "    # Create the new row with \"Subject\" and the numerical values\n",
    "    new_row = {'Subject': subject_name}  # Add the string value for 'Subject'\n",
    "    new_row.update(dict(zip(atlas_labels, fALFF_values)))  # Add numerical values to the other columns\n",
    "    fALFF_df.loc[len(fALFF_df)] = new_row\n",
    "    \n",
    "    new_row = {'Subject': subject_name}\n",
    "    new_row.update(dict(zip(atlas_labels, cv_values)))\n",
    "    cv_df.loc[len(cv_df)] = new_row\n",
    "    person+=1\n",
    "        \n"
   ]
  },
  {
   "cell_type": "code",
   "execution_count": null,
   "metadata": {},
   "outputs": [],
   "source": [
    "len(BOLD_activity_df_list)"
   ]
  },
  {
   "cell_type": "code",
   "execution_count": null,
   "metadata": {},
   "outputs": [],
   "source": [
    "len(subject_name_l)"
   ]
  },
  {
   "cell_type": "code",
   "execution_count": null,
   "metadata": {},
   "outputs": [],
   "source": [
    "df_dir = \"data/dataframes/BOLD/\"\n",
    "for df in tqdm(range(len(BOLD_activity_df_list))):\n",
    "    BOLD_activity_df_list[df].to_csv(df_dir + subject_name_l[df] + \"_BOLD.csv\", index=False)\n",
    "    "
   ]
  },
  {
   "cell_type": "code",
   "execution_count": null,
   "metadata": {},
   "outputs": [],
   "source": [
    "fALFF_df.head()"
   ]
  },
  {
   "cell_type": "code",
   "execution_count": null,
   "metadata": {},
   "outputs": [],
   "source": [
    "cv_df.head()"
   ]
  },
  {
   "cell_type": "code",
   "execution_count": null,
   "metadata": {},
   "outputs": [],
   "source": [
    "# Set the 'Subject' column as the index for easy access\n",
    "fALFF_df.set_index('Subject', inplace=True)\n",
    "cv_df.set_index('Subject', inplace=True)\n"
   ]
  },
  {
   "cell_type": "code",
   "execution_count": null,
   "metadata": {},
   "outputs": [],
   "source": [
    "# save fALFF_df & cv df\n",
    "fALFF_df.to_csv(\"data/dataframes/fALFF.csv\")  # Save without the index\n",
    "cv_df.to_csv(\"data/dataframes/cv_df.csv\")\n"
   ]
  },
  {
   "cell_type": "code",
   "execution_count": null,
   "metadata": {},
   "outputs": [],
   "source": [
    "# Acquiring subject names:\n",
    "subject_name_l = []\n",
    "for person in range(len(brains_fmri)):\n",
    "    subject_name = os.path.basename(os.path.dirname(os.path.dirname(os.path.dirname(brains_fmri[person]))))\n",
    "    subject_name_l.append(subject_name)"
   ]
  },
  {
   "cell_type": "code",
   "execution_count": null,
   "metadata": {},
   "outputs": [],
   "source": [
    "subject_name_df = pd.DataFrame(subject_name_l, columns=['Name'])"
   ]
  },
  {
   "cell_type": "code",
   "execution_count": null,
   "metadata": {},
   "outputs": [],
   "source": [
    "subject_name_df.head()"
   ]
  },
  {
   "cell_type": "code",
   "execution_count": null,
   "metadata": {},
   "outputs": [],
   "source": [
    "subject_name_df.to_csv(\"data/dataframes/subject_name_df.csv\", index = False)"
   ]
  },
  {
   "cell_type": "markdown",
   "metadata": {},
   "source": [
    "## Visualize the fALFF & CV"
   ]
  },
  {
   "cell_type": "code",
   "execution_count": null,
   "metadata": {},
   "outputs": [],
   "source": [
    "# Load fALFF & CV\n",
    "fALFF_df = pd.read_csv(\"data/dataframes/fALFF.csv\", index_col=0)\n",
    "cv_df = pd.read_csv(\"data/dataframes/cv_df.csv\", index_col=0)\n",
    "subject_name_df = pd.read_csv(\"data/dataframes/subject_name_df.csv\")"
   ]
  },
  {
   "cell_type": "code",
   "execution_count": null,
   "metadata": {},
   "outputs": [],
   "source": [
    "subject_name_df.head()"
   ]
  },
  {
   "cell_type": "code",
   "execution_count": null,
   "metadata": {},
   "outputs": [],
   "source": [
    "fALFF_df.head()"
   ]
  },
  {
   "cell_type": "code",
   "execution_count": null,
   "metadata": {},
   "outputs": [],
   "source": [
    "cv_df.head()"
   ]
  },
  {
   "cell_type": "code",
   "execution_count": null,
   "metadata": {},
   "outputs": [],
   "source": [
    "BOLD_activity_df_list[0]"
   ]
  },
  {
   "cell_type": "code",
   "execution_count": null,
   "metadata": {},
   "outputs": [],
   "source": [
    "# Create an empty bipartite graph\n",
    "B = nx.Graph()\n",
    "\n",
    "# Add nodes for subjects (bipartite set 1)\n",
    "B.add_nodes_from(fALFF_df.index, bipartite=0)\n",
    "\n",
    "# Add nodes for regions (bipartite set 2)\n",
    "regions = fALFF_df.columns.tolist()  # All regions are the columns of fALFF_df\n",
    "B.add_nodes_from(regions, bipartite=1)\n",
    "\n",
    "# Add edges between subjects and regions with two distinct weights (one from fALFF_df and one from cv_df)\n",
    "for subject in fALFF_df.index:\n",
    "    for region in fALFF_df.columns:\n",
    "        weight1 = fALFF_df.at[subject, region]  # Weight from fALFF_df\n",
    "        weight2 = cv_df.at[subject, region]  # Weight from cv_df\n",
    "        \n",
    "        # Add an edge with two distinct weights\n",
    "        B.add_edge(subject, region, weight_fALFF=weight1, weight_cv=weight2)\n",
    "\n",
    "# Now the graph B contains bipartite nodes (subjects and regions) with edges having two distinct weights\n",
    "\n",
    "# Example: Print the edges with weights from both dataframes\n",
    "for u, v, data in B.edges(data=True):\n",
    "    print(f\"Edge ({u}, {v}) - Weight from fALFF_df: {data['weight_fALFF']}, Weight from cv_df: {data['weight_cv']}\")\n"
   ]
  },
  {
   "cell_type": "code",
   "execution_count": null,
   "metadata": {},
   "outputs": [],
   "source": [
    "import networkx as nx\n",
    "import matplotlib.pyplot as plt\n",
    "import numpy as np\n",
    "import matplotlib.colors as mcolors\n",
    "import matplotlib.cm as cm\n",
    "\n",
    "# Set positions for bipartite layout with increased spacing\n",
    "pos = {}\n",
    "pos.update((node, (1, index * 2.5)) for index, node in enumerate(fALFF_df.index))  # Subjects (left side)\n",
    "pos.update((node, (4, index * 2.5)) for index, node in enumerate(regions))  # Regions (right side)\n",
    "\n",
    "# Get edge weights from the fALFF_df's weight column\n",
    "edge_weights = [B[u][v]['weight_fALFF'] for u, v in B.edges()]\n",
    "\n",
    "# Normalize edge thickness for better visibility\n",
    "max_weight = max(edge_weights) if edge_weights else 1  # Avoid division by zero\n",
    "edge_widths = [1 + 6 * (w / max_weight) for w in edge_weights]  # Scale thickness between 1 and 7\n",
    "\n",
    "# Normalize edge color mapping\n",
    "norm = mcolors.Normalize(vmin=min(edge_weights), vmax=max(edge_weights))\n",
    "cmap = cm.Blues\n",
    "edge_colors = [cmap(norm(w)) for w in edge_weights]\n",
    "\n",
    "# Set larger figure size\n",
    "plt.figure(figsize=(24, 16))  # Bigger canvas for better visibility\n",
    "\n",
    "# Draw the bipartite graph with smaller nodes\n",
    "edges = nx.draw_networkx_edges(\n",
    "    B, pos, edge_color=edge_colors, width=edge_widths, edge_cmap=cmap, alpha=0.8\n",
    ")\n",
    "nodes = nx.draw_networkx_nodes(B, pos, node_size=800, node_color='skyblue')  # Smaller nodes\n",
    "labels = nx.draw_networkx_labels(B, pos, font_size=12, font_weight='bold')\n",
    "\n",
    "# Add colorbar legend for edge weights\n",
    "sm = cm.ScalarMappable(cmap=cmap, norm=norm)\n",
    "sm.set_array([])\n",
    "cbar = plt.colorbar(sm, ax=plt.gca(), orientation='vertical', fraction=0.02, pad=0.02)\n",
    "cbar.set_label(\"Edge Weight (fALFF)\", fontsize=14)\n",
    "\n",
    "# Title\n",
    "plt.title(\"Optimized Bipartite Graph with Improved Spacing and Smaller Nodes\", fontsize=16)\n",
    "\n",
    "# Show the plot\n",
    "plt.show()\n",
    "\n"
   ]
  },
  {
   "cell_type": "code",
   "execution_count": null,
   "metadata": {},
   "outputs": [],
   "source": [
    "# Select the region to visualize\n",
    "region_to_visualize = \"Frontal Pole\"\n",
    "\n",
    "# Create an empty graph\n",
    "B = nx.Graph()\n",
    "\n",
    "# Add the central brain region node\n",
    "B.add_node(region_to_visualize, color='Teal', size=3000)\n",
    "\n",
    "# Add subject nodes and edges\n",
    "for subject in fALFF_df.index:\n",
    "    weight1 = fALFF_df.at[subject, region_to_visualize]  # fALFF weight\n",
    "    weight2 = cv_df.at[subject, region_to_visualize] if region_to_visualize in cv_df.columns else 0  # CV weight\n",
    "    \n",
    "    B.add_node(subject, color='green', size=1500)  # Subject nodes\n",
    "    B.add_edge(subject, region_to_visualize, weight1=weight1, weight2=weight2)  # Edge with weights\n",
    "\n",
    "# Set figure size **before drawing**\n",
    "plt.figure(figsize=(18, 14))  # Larger figure size for better visibility\n",
    "\n",
    "# Positioning: Use `spring_layout` with a **higher `k` value** to spread nodes more\n",
    "pos = nx.spring_layout(B, seed=42, k=1.5)  # Increase k for wider spacing\n",
    "\n",
    "# Draw nodes with custom sizes and colors\n",
    "node_colors = [B.nodes[node]['color'] for node in B.nodes()]\n",
    "node_sizes = [B.nodes[node]['size'] for node in B.nodes()]\n",
    "nx.draw(B, pos, with_labels=True, node_size=node_sizes, node_color=node_colors, font_size=12, font_weight='bold')\n",
    "\n",
    "# Draw edges with labels (4 decimal places)\n",
    "edge_labels = {\n",
    "    (u, v): f\"fALFF: {B[u][v]['weight1']:.4f}\\nCV: {B[u][v]['weight2']:.4f}\" \n",
    "    for u, v in B.edges()\n",
    "}\n",
    "nx.draw_networkx_edge_labels(B, pos, edge_labels=edge_labels, font_size=10)\n",
    "\n",
    "# Title\n",
    "plt.title(f\"Graph Representation: '{region_to_visualize}' Connected to Subjects\", fontsize=14)\n",
    "\n",
    "# Show the plot\n",
    "plt.show()\n"
   ]
  },
  {
   "cell_type": "markdown",
   "metadata": {
    "vscode": {
     "languageId": "javascript"
    }
   },
   "source": [
    "# Mapping the Brain STL to the harvard-oxford atlases and identifying region coordinates"
   ]
  },
  {
   "cell_type": "code",
   "execution_count": 4,
   "metadata": {},
   "outputs": [],
   "source": [
    "graph_data = \"../data/graphs/cognitively_normal_pdd_stat_sign_corr_graph.json\"\n",
    "detailed_brain_stl = \"../data/stl/brain_20human_NIH3D_detailed.stl\"\n",
    "less_detailed_brain_stl = \"../data/stl/human_brain_NIH3D_less_detailed.stl\""
   ]
  },
  {
   "cell_type": "code",
   "execution_count": 2,
   "metadata": {},
   "outputs": [],
   "source": [
    "\n",
    "def stl_to_nifti(stl_file, voxel_resolution=64):\n",
    "    # Step 1: Load the STL file using trimesh\n",
    "    mesh = trimesh.load_mesh(stl_file)\n",
    "    \n",
    "    # Step 2: Create a voxel grid from the mesh\n",
    "    # Voxelize the mesh\n",
    "    voxel_grid = mesh.voxelized(pitch=1.0/voxel_resolution)  # Create a voxel grid with a given resolution\n",
    "    \n",
    "    # Step 3: Convert voxel grid to a numpy array\n",
    "    # Get the numpy array representing the voxel grid (1 = inside the object, 0 = outside)\n",
    "    voxel_data = voxel_grid.matrix.astype(np.uint8)\n",
    "    \n",
    "    # Step 4: Create NIFTI image from the numpy array\n",
    "    nifti_img = nib.Nifti1Image(voxel_data, np.eye(4))  # Identity matrix for no transformation\n",
    "    \n",
    "    # Step 5: Save the NIFTI image\n",
    "    nifti_file = stl_file.replace('.stl', '.nii')\n",
    "    nib.save(nifti_img, nifti_file)\n",
    "    print(f\"Saved NIFTI file as {nifti_file}\")\n",
    "\n",
    "# Example usage\n",
    "# stl_to_nifti(detailed_brain_stl, voxel_resolution=64)\n"
   ]
  },
  {
   "cell_type": "code",
   "execution_count": 4,
   "metadata": {},
   "outputs": [],
   "source": [
    "stl_file = detailed_brain_stl\n",
    "voxel_resolution=256\n"
   ]
  },
  {
   "cell_type": "code",
   "execution_count": 8,
   "metadata": {},
   "outputs": [],
   "source": [
    "\n",
    "# Step 1: Load the STL file using trimesh\n",
    "mesh = trimesh.load_mesh(stl_file)\n"
   ]
  },
  {
   "cell_type": "code",
   "execution_count": 9,
   "metadata": {},
   "outputs": [
    {
     "data": {
      "text/plain": [
       "<trimesh.Trimesh(vertices.shape=(188749, 3), faces.shape=(377701, 3))>"
      ]
     },
     "execution_count": 9,
     "metadata": {},
     "output_type": "execute_result"
    }
   ],
   "source": [
    "mesh"
   ]
  },
  {
   "cell_type": "code",
   "execution_count": null,
   "metadata": {},
   "outputs": [],
   "source": []
  },
  {
   "cell_type": "code",
   "execution_count": null,
   "metadata": {},
   "outputs": [
    {
     "name": "stdout",
     "output_type": "stream",
     "text": [
      "Simplified mesh saved as ../data/stl/human_brain_NIH3D_less_detailed_simplified.stl\n",
      "Saved NIFTI file as ../data/stl/human_brain_NIH3D_less_detailed.nii\n"
     ]
    }
   ],
   "source": [
    "\n",
    "\n",
    "# Example usage\n",
    "stl_to_nifti(less_detailed_brain_stl, voxel_resolution=256, target_faces=50000)\n"
   ]
  },
  {
   "cell_type": "code",
   "execution_count": 8,
   "metadata": {},
   "outputs": [],
   "source": [
    "stl_nifti = \"../data/stl/human_brain_NIH3D_less_detailed.nii\""
   ]
  },
  {
   "cell_type": "code",
   "execution_count": 10,
   "metadata": {},
   "outputs": [],
   "source": [
    "nifti_img = nib.load(stl_nifti)"
   ]
  },
  {
   "cell_type": "code",
   "execution_count": 14,
   "metadata": {},
   "outputs": [
    {
     "data": {
      "text/html": [
       "<pre style=\"white-space:pre;overflow-x:auto;line-height:normal;font-family:Menlo,'DejaVu Sans Mono',consolas,'Courier New',monospace\"><span style=\"color: #000080; text-decoration-color: #000080; font-weight: bold\">[</span><span style=\"color: #000080; text-decoration-color: #000080\">get_dataset_dir</span><span style=\"color: #000080; text-decoration-color: #000080; font-weight: bold\">]</span> Dataset found in <span style=\"color: #800080; text-decoration-color: #800080\">/home/linux-pc/nilearn_data/</span><span style=\"color: #ff00ff; text-decoration-color: #ff00ff\">fsl</span>\n",
       "</pre>\n"
      ],
      "text/plain": [
       "\u001b[1;34m[\u001b[0m\u001b[34mget_dataset_dir\u001b[0m\u001b[1;34m]\u001b[0m Dataset found in \u001b[35m/home/linux-pc/nilearn_data/\u001b[0m\u001b[95mfsl\u001b[0m\n"
      ]
     },
     "metadata": {},
     "output_type": "display_data"
    },
    {
     "data": {
      "text/html": [
       "<pre style=\"white-space:pre;overflow-x:auto;line-height:normal;font-family:Menlo,'DejaVu Sans Mono',consolas,'Courier New',monospace\"><span style=\"color: #000080; text-decoration-color: #000080; font-weight: bold\">[</span><span style=\"color: #000080; text-decoration-color: #000080\">get_dataset_dir</span><span style=\"color: #000080; text-decoration-color: #000080; font-weight: bold\">]</span> Dataset found in <span style=\"color: #800080; text-decoration-color: #800080\">/home/linux-pc/nilearn_data/</span><span style=\"color: #ff00ff; text-decoration-color: #ff00ff\">fsl</span>\n",
       "</pre>\n"
      ],
      "text/plain": [
       "\u001b[1;34m[\u001b[0m\u001b[34mget_dataset_dir\u001b[0m\u001b[1;34m]\u001b[0m Dataset found in \u001b[35m/home/linux-pc/nilearn_data/\u001b[0m\u001b[95mfsl\u001b[0m\n"
      ]
     },
     "metadata": {},
     "output_type": "display_data"
    }
   ],
   "source": [
    "# Fetch the atlas (cortical or subcortical)\n",
    "atlas_cortex = fetch_atlas_harvard_oxford('cort-maxprob-thr25-1mm')  # 1mm resolution\n",
    "atlas_img_cortex = atlas_cortex.filename\n",
    "\n",
    "# Fetch the sub-cortical atlas\n",
    "atlas_subcortical = fetch_atlas_harvard_oxford('sub-maxprob-thr25-1mm')\n",
    "atlas_img_subcortical = atlas_subcortical.filename\n",
    "\n",
    "atlas_sn_l = \"../data/atlas/NMS-SNc-atlas-master/SN_L_probatlas27_50.nii.gz\"\n",
    "atlas_sn_r = \"../data/atlas/NMS-SNc-atlas-master/SN_R_probatlas27_50.nii.gz\""
   ]
  },
  {
   "cell_type": "code",
   "execution_count": 15,
   "metadata": {},
   "outputs": [],
   "source": [
    "\n",
    "atlas_labels = atlas_cortex.labels[1:] + atlas_subcortical.labels[1:]\n"
   ]
  },
  {
   "cell_type": "code",
   "execution_count": 16,
   "metadata": {},
   "outputs": [],
   "source": [
    "atlas_labels.append(\"Substantia Nigria Left\")\n",
    "atlas_labels.append(\"Substantia Nigria Right\")"
   ]
  },
  {
   "cell_type": "code",
   "execution_count": 17,
   "metadata": {},
   "outputs": [
    {
     "name": "stdout",
     "output_type": "stream",
     "text": [
      "Func files without mask: ['../data/sub-0270/ses-01/func/sub-0270_ses-01_task-rest_bold.nii.gz', '../data/sub-0205/ses-01/func/sub-0205_ses-01_task-rest_bold.nii.gz', '../data/sub-0231/ses-01/func/sub-0231_ses-01_task-rest_bold.nii.gz', '../data/sub-0240/ses-01/func/sub-0240_ses-01_task-rest_bold.nii.gz', '../data/sub-0238/ses-01/func/sub-0238_ses-01_task-rest_bold.nii.gz', '../data/sub-0252/ses-01/func/sub-0252_ses-01_task-rest_bold.nii.gz', '../data/sub-2132/ses-01/func/sub-2132_ses-01_task-rest_bold.nii.gz', '../data/sub-2122/ses-01/func/sub-2122_ses-01_task-rest_bold.nii.gz', '../data/sub-0272/ses-01/func/sub-0272_ses-01_task-rest_bold.nii.gz', '../data/sub-2130/ses-01/func/sub-2130_ses-01_task-rest_bold.nii.gz', '../data/sub-2145/ses-01/func/sub-2145_ses-01_task-rest_bold.nii.gz', '../data/sub-0264/ses-01/func/sub-0264_ses-01_task-rest_bold.nii.gz', '../data/sub-2134/ses-01/func/sub-2134_ses-01_task-rest_bold.nii.gz', '../data/sub-0202/ses-01/func/sub-0202_ses-01_task-rest_bold.nii.gz', '../data/sub-2141/ses-01/func/sub-2141_ses-01_task-rest_bold.nii.gz', '../data/sub-0203/ses-01/func/sub-0203_ses-01_task-rest_bold.nii.gz', '../data/sub-0222/ses-01/func/sub-0222_ses-01_task-rest_bold.nii.gz', '../data/sub-0224/ses-01/func/sub-0224_ses-01_task-rest_bold.nii.gz', '../data/sub-2128/ses-01/func/sub-2128_ses-01_task-rest_bold.nii.gz', '../data/sub-0267/ses-01/func/sub-0267_ses-01_task-rest_bold.nii.gz', '../data/sub-0206/ses-01/func/sub-0206_ses-01_task-rest_bold.nii.gz', '../data/sub-0243/ses-01/func/sub-0243_ses-01_task-rest_bold.nii.gz', '../data/sub-0230/ses-01/func/sub-0230_ses-01_task-rest_bold.nii.gz', '../data/sub-0210/ses-01/func/sub-0210_ses-01_task-rest_bold.nii.gz', '../data/sub-0207/ses-01/func/sub-0207_ses-01_task-rest_bold.nii.gz', '../data/sub-2148/ses-01/func/sub-2148_ses-01_task-rest_bold.nii.gz', '../data/sub-0212/ses-01/func/sub-0212_ses-01_task-rest_bold.nii.gz', '../data/sub-0257/ses-01/func/sub-0257_ses-01_task-rest_bold.nii.gz', '../data/sub-0213/ses-01/func/sub-0213_ses-01_task-rest_bold.nii.gz', '../data/sub-0226/ses-01/func/sub-0226_ses-01_task-rest_bold.nii.gz', '../data/sub-0214/ses-01/func/sub-0214_ses-01_task-rest_bold.nii.gz', '../data/sub-0235/ses-01/func/sub-0235_ses-01_task-rest_bold.nii.gz', '../data/sub-2125/ses-01/func/sub-2125_ses-01_task-rest_bold.nii.gz', '../data/sub-2139/ses-01/func/sub-2139_ses-01_task-rest_bold.nii.gz', '../data/sub-0265/ses-01/func/sub-0265_ses-01_task-rest_bold.nii.gz', '../data/sub-0209/ses-01/func/sub-0209_ses-01_task-rest_bold.nii.gz', '../data/sub-0247/ses-01/func/sub-0247_ses-01_task-rest_bold.nii.gz', '../data/sub-2137/ses-01/func/sub-2137_ses-01_task-rest_bold.nii.gz', '../data/sub-2131/ses-01/func/sub-2131_ses-01_task-rest_bold.nii.gz', '../data/sub-0256/ses-01/func/sub-0256_ses-01_task-rest_bold.nii.gz', '../data/sub-0246/ses-01/func/sub-0246_ses-01_task-rest_bold.nii.gz', '../data/sub-0253/ses-01/func/sub-0253_ses-01_task-rest_bold.nii.gz', '../data/sub-0232/ses-01/func/sub-0232_ses-01_task-rest_bold.nii.gz', '../data/sub-0227/ses-01/func/sub-0227_ses-01_task-rest_bold.nii.gz', '../data/sub-0242/ses-01/func/sub-0242_ses-01_task-rest_bold.nii.gz', '../data/sub-0263/ses-01/func/sub-0263_ses-01_task-rest_bold.nii.gz', '../data/sub-0237/ses-01/func/sub-0237_ses-01_task-rest_bold.nii.gz', '../data/sub-2129/ses-01/func/sub-2129_ses-01_task-rest_bold.nii.gz', '../data/sub-0249/ses-01/func/sub-0249_ses-01_task-rest_bold.nii.gz', '../data/sub-2136/ses-01/func/sub-2136_ses-01_task-rest_bold.nii.gz', '../data/sub-0234/ses-01/func/sub-0234_ses-01_task-rest_bold.nii.gz', '../data/sub-2154/ses-01/func/sub-2154_ses-01_task-rest_bold.nii.gz', '../data/sub-0250/ses-01/func/sub-0250_ses-01_task-rest_bold.nii.gz', '../data/sub-0255/ses-01/func/sub-0255_ses-01_task-rest_bold.nii.gz', '../data/sub-0233/ses-01/func/sub-0233_ses-01_task-rest_bold.nii.gz', '../data/sub-0258/ses-01/func/sub-0258_ses-01_task-rest_bold.nii.gz', '../data/sub-0204/ses-01/func/sub-0204_ses-01_task-rest_bold.nii.gz', '../data/sub-2140/ses-01/func/sub-2140_ses-01_task-rest_bold.nii.gz']\n",
      "Anat files: ['../data/sub-0270/ses-01/anat/sub-0270_ses-01_T1w.nii.gz', '../data/sub-0205/ses-01/anat/sub-0205_ses-01_T1w.nii.gz', '../data/sub-0231/ses-01/anat/sub-0231_ses-01_T1w.nii.gz', '../data/sub-0240/ses-01/anat/sub-0240_ses-01_T1w.nii.gz', '../data/sub-0238/ses-01/anat/sub-0238_ses-01_T1w.nii.gz', '../data/sub-0252/ses-01/anat/sub-0252_ses-01_T1w.nii.gz', '../data/sub-2132/ses-01/anat/sub-2132_ses-01_T1w.nii.gz', '../data/sub-2122/ses-01/anat/sub-2122_ses-01_T1w.nii.gz', '../data/sub-0272/ses-01/anat/sub-0272_ses-01_T1w.nii.gz', '../data/sub-2130/ses-01/anat/sub-2130_ses-01_T1w.nii.gz', '../data/sub-2145/ses-01/anat/sub-2145_ses-01_T1w.nii.gz', '../data/sub-0264/ses-01/anat/sub-0264_ses-01_T1w.nii.gz', '../data/sub-2134/ses-01/anat/sub-2134_ses-01_T1w.nii.gz', '../data/sub-0202/ses-01/anat/sub-0202_ses-01_T1w.nii.gz', '../data/sub-2141/ses-01/anat/sub-2141_ses-01_T1w.nii.gz', '../data/sub-0203/ses-01/anat/sub-0203_ses-01_T1w.nii.gz', '../data/sub-0222/ses-01/anat/sub-0222_ses-01_T1w.nii.gz', '../data/sub-0224/ses-01/anat/sub-0224_ses-01_T1w.nii.gz', '../data/sub-2128/ses-01/anat/sub-2128_ses-01_T1w.nii.gz', '../data/sub-0267/ses-01/anat/sub-0267_ses-01_T1w.nii.gz', '../data/sub-0206/ses-01/anat/sub-0206_ses-01_T1w.nii.gz', '../data/sub-0243/ses-01/anat/sub-0243_ses-01_T1w.nii.gz', '../data/sub-0230/ses-01/anat/sub-0230_ses-01_T1w.nii.gz', '../data/sub-0210/ses-01/anat/sub-0210_ses-01_T1w.nii.gz', '../data/sub-0207/ses-01/anat/sub-0207_ses-01_T1w.nii.gz', '../data/sub-2148/ses-01/anat/sub-2148_ses-01_T1w.nii.gz', '../data/sub-0212/ses-01/anat/sub-0212_ses-01_T1w.nii.gz', '../data/sub-0257/ses-01/anat/sub-0257_ses-01_T1w.nii.gz', '../data/sub-0213/ses-01/anat/sub-0213_ses-01_T1w.nii.gz', '../data/sub-0226/ses-01/anat/sub-0226_ses-01_T1w.nii.gz', '../data/sub-0214/ses-01/anat/sub-0214_ses-01_T1w.nii.gz', '../data/sub-0235/ses-01/anat/sub-0235_ses-01_T1w.nii.gz', '../data/sub-2125/ses-01/anat/sub-2125_ses-01_T1w.nii.gz', '../data/sub-2139/ses-01/anat/sub-2139_ses-01_T1w.nii.gz', '../data/sub-0265/ses-01/anat/sub-0265_ses-01_T1w.nii.gz', '../data/sub-0209/ses-01/anat/sub-0209_ses-01_T1w.nii.gz', '../data/sub-0247/ses-01/anat/sub-0247_ses-01_T1w.nii.gz', '../data/sub-2137/ses-01/anat/sub-2137_ses-01_T1w.nii.gz', '../data/sub-2131/ses-01/anat/sub-2131_ses-01_T1w.nii.gz', '../data/sub-0256/ses-01/anat/sub-0256_ses-01_T1w.nii.gz', '../data/sub-0246/ses-01/anat/sub-0246_ses-01_T1w.nii.gz', '../data/sub-0253/ses-01/anat/sub-0253_ses-01_T1w.nii.gz', '../data/sub-0232/ses-01/anat/sub-0232_ses-01_T1w.nii.gz', '../data/sub-0227/ses-01/anat/sub-0227_ses-01_T1w.nii.gz', '../data/sub-0242/ses-01/anat/sub-0242_ses-01_T1w.nii.gz', '../data/sub-0263/ses-01/anat/sub-0263_ses-01_T1w.nii.gz', '../data/sub-0237/ses-01/anat/sub-0237_ses-01_T1w.nii.gz', '../data/sub-2129/ses-01/anat/sub-2129_ses-01_T1w.nii.gz', '../data/sub-0249/ses-01/anat/sub-0249_ses-01_T1w.nii.gz', '../data/sub-2136/ses-01/anat/sub-2136_ses-01_T1w.nii.gz', '../data/sub-0234/ses-01/anat/sub-0234_ses-01_T1w.nii.gz', '../data/sub-2154/ses-01/anat/sub-2154_ses-01_T1w.nii.gz', '../data/sub-0250/ses-01/anat/sub-0250_ses-01_T1w.nii.gz', '../data/sub-0255/ses-01/anat/sub-0255_ses-01_T1w.nii.gz', '../data/sub-0233/ses-01/anat/sub-0233_ses-01_T1w.nii.gz', '../data/sub-0258/ses-01/anat/sub-0258_ses-01_T1w.nii.gz', '../data/sub-0204/ses-01/anat/sub-0204_ses-01_T1w.nii.gz', '../data/sub-2140/ses-01/anat/sub-2140_ses-01_T1w.nii.gz']\n",
      "Func mask files: []\n"
     ]
    }
   ],
   "source": [
    "# Root directory is 'data'\n",
    "root_dir = '../data'\n",
    "\n",
    "# Glob all files that end in .nii under any 'func' directory (in nested subfolders)\n",
    "func_files = glob.glob(os.path.join(root_dir, '**', 'func', '**', '*.nii.gz'), recursive=True)\n",
    "\n",
    "# Filter out files that contain the word 'mask' from the func_files list\n",
    "func_files_without_mask = [file for file in func_files if 'mask' not in file]\n",
    "\n",
    "# Glob all files that end in .nii under any 'anat' directory (in nested subfolders)\n",
    "anat_files = glob.glob(os.path.join(root_dir, '**', 'anat', '**', '*.nii.gz'), recursive=True)\n",
    "\n",
    "# Glob all files that contain the word \"mask\" that end in .nii and are located under any 'func' directory (in nested subfolders)\n",
    "func_mask_files = glob.glob(os.path.join(root_dir, '**', 'func', '**', '*mask*.nii.gz'), recursive=True)\n",
    "\n",
    "# Output the results\n",
    "print(\"Func files without mask:\", func_files_without_mask)\n",
    "print(\"Anat files:\", anat_files)\n",
    "print(\"Func mask files:\", func_mask_files)"
   ]
  },
  {
   "cell_type": "code",
   "execution_count": 18,
   "metadata": {},
   "outputs": [],
   "source": [
    "# Load the 4D fMRI data and 3D anatomical data for each brain\n",
    "brains_fmri = func_files_without_mask\n",
    "brains_anatomical = anat_files"
   ]
  },
  {
   "cell_type": "code",
   "execution_count": 21,
   "metadata": {},
   "outputs": [],
   "source": [
    "# Load fMRI and anatomical data\n",
    "def load_fmri_data(fmri_filepath):\n",
    "    fmri_img = nib.load(fmri_filepath)\n",
    "    fmri_data = fmri_img.get_fdata()\n",
    "    return fmri_data\n",
    "\n",
    "def load_anatomical_data(anatomical_filepath):\n",
    "    anatomical_img = nib.load(anatomical_filepath)\n",
    "    anatomical_data = anatomical_img.get_fdata()\n",
    "    return anatomical_data\n",
    "\n",
    "def load_nii(file_path):\n",
    "    \"\"\"Load .nii file using nibabel and return data as numpy array.\"\"\"\n",
    "    nii_data = nib.load(file_path)\n",
    "    return nii_data.get_fdata(), nii_data.affine"
   ]
  },
  {
   "cell_type": "code",
   "execution_count": 34,
   "metadata": {},
   "outputs": [],
   "source": [
    "anatomical_nii = nib.load(brains_anatomical[0])"
   ]
  },
  {
   "cell_type": "code",
   "execution_count": 43,
   "metadata": {},
   "outputs": [],
   "source": [
    "# Resample the atlas to match the anatomical image (cortical)\n",
    "resampled_atlas_cortex = resample_to_img(atlas_img_cortex, anatomical_nii , interpolation='nearest')\n",
    "resampled_atlas_subcortex = resample_to_img(atlas_img_subcortical, anatomical_nii , interpolation='nearest')\n",
    "resampled_atlas_sn_l = resample_to_img(atlas_sn_l, anatomical_nii, interpolation=\"nearest\")\n",
    "resampled_atlas_sn_r = resample_to_img(atlas_sn_r, anatomical_nii, interpolation=\"nearest\")"
   ]
  },
  {
   "cell_type": "code",
   "execution_count": 44,
   "metadata": {},
   "outputs": [],
   "source": [
    "# Convert the resampled atlas image to a NumPy array\n",
    "atlas_data_cortex = resampled_atlas_cortex.get_fdata()\n",
    "atlas_data_subcortex = resampled_atlas_subcortex.get_fdata()\n",
    "atlas_data_sn_l = resampled_atlas_sn_l.get_fdata()\n",
    "atlas_data_sn_r = resampled_atlas_sn_r.get_fdata()"
   ]
  },
  {
   "cell_type": "code",
   "execution_count": null,
   "metadata": {},
   "outputs": [],
   "source": [
    "# Extract unique region labels from the atlas\n",
    "roi_labels_cortex = np.unique(atlas_data_cortex)[1:]  # Ignore background (0)\n",
    "roi_labels_subcortex = np.unique(atlas_data_subcortex)[1:]  # Ignore background (0)roi_labels_cortex = np.unique(atlas_data_cortex)[1:]  # Ignore background (0)\n",
    "roi_labels_sn_l = np.unique(atlas_data_sn_l)[1:]  # Ignore background (0)\n",
    "roi_labels_sn_r = np.unique(atlas_data_sn_r)[1:]  # Ignore background (0)"
   ]
  },
  {
   "cell_type": "code",
   "execution_count": 40,
   "metadata": {},
   "outputs": [],
   "source": [
    "fmri_data, fmri_affine = load_nii(brains_fmri[0])  # Shape: (x, y, z, t)"
   ]
  },
  {
   "cell_type": "code",
   "execution_count": 41,
   "metadata": {},
   "outputs": [],
   "source": [
    "scaling_factors = np.array(fmri_data.shape[:3]) / np.array(atlas_data_cortex.shape)"
   ]
  },
  {
   "cell_type": "code",
   "execution_count": null,
   "metadata": {},
   "outputs": [],
   "source": [
    "# Resample the atlas using the scaling factors (linear interpolation)\n",
    "resampled_atlas_cortex = zoom(atlas_data_cortex, scaling_factors, order=1)  # Using linear interpolation\n",
    "resampled_atlas_subcortex = zoom(atlas_data_subcortex, scaling_factors, order=1) # Using linear inerpolation\n",
    "resampled_atlas_sn_l = zoom(atlas_data_sn_l, scaling_factors, order=1)  # Using linear interpolation\n",
    "resampled_atlas_sn_r = zoom(atlas_data_sn_r, scaling_factors, order=1) # Using linear inerpolation\n",
    "\n",
    "# Round and cast the resampled atlas to integers\n",
    "resampled_atlas_cortex = np.round(resampled_atlas_cortex).astype(int)\n",
    "resampled_atlas_subcortex = np.round(resampled_atlas_subcortex).astype(int)\n",
    "resampled_atlas_sn_l = np.round(resampled_atlas_sn_l).astype(int)\n",
    "resampled_atlas_sn_r = np.round(resampled_atlas_sn_r).astype(int)\n"
   ]
  },
  {
   "cell_type": "code",
   "execution_count": 53,
   "metadata": {},
   "outputs": [
    {
     "data": {
      "text/plain": [
       "48"
      ]
     },
     "execution_count": 53,
     "metadata": {},
     "output_type": "execute_result"
    }
   ],
   "source": [
    "len(atlas_cortex.labels[1:])"
   ]
  },
  {
   "cell_type": "markdown",
   "metadata": {},
   "source": [
    "### Calculating Coordinates for Cortex Regions"
   ]
  },
  {
   "cell_type": "code",
   "execution_count": 152,
   "metadata": {},
   "outputs": [
    {
     "name": "stderr",
     "output_type": "stream",
     "text": [
      "Processing ROIs: 100%|██████████| 48/48 [00:00<00:00, 3597.24it/s]\n"
     ]
    }
   ],
   "source": [
    "# Create a dictionary to store extracted time series for each ROI\n",
    "roi_time_series = {}\n",
    "# Step 3: Extract fMRI time series for each ROI\n",
    "for roi in tqdm(roi_labels_cortex, desc=\"Processing ROIs\"):\n",
    "    # Get the voxel indices for the current ROI in the resampled atlas\n",
    "    roi_voxels = np.where(resampled_atlas_cortex == roi)\n",
    "    \n",
    "    # Ensure the voxel indices are valid within the spatial dimensions of fmri_data\n",
    "    # Extract the fMRI signal corresponding to these voxels for each time point\n",
    "    # roi_signal = fmri_data[roi_voxels].mean(axis=0)  # Averaging across voxels (axis 0 refers to spatial)\n",
    "    x = roi_voxels[0].mean(axis=0)\n",
    "    y = roi_voxels[1].mean(axis=0)\n",
    "    z = roi_voxels[2].mean(axis=0)\n",
    "    region_coordinates = [x, y, z] # Compute Centroid\n",
    "    # Store the resulting time series for the current ROI\n",
    "    roi_time_series[roi] = region_coordinates\n",
    "\n",
    "# Convert to DataFrame\n",
    "roi_cortex_df = pd.DataFrame(roi_time_series)\n",
    "# Create a dictionary to store extracted time series for each ROI\n"
   ]
  },
  {
   "cell_type": "code",
   "execution_count": 154,
   "metadata": {},
   "outputs": [
    {
     "data": {
      "text/html": [
       "<div>\n",
       "<style scoped>\n",
       "    .dataframe tbody tr th:only-of-type {\n",
       "        vertical-align: middle;\n",
       "    }\n",
       "\n",
       "    .dataframe tbody tr th {\n",
       "        vertical-align: top;\n",
       "    }\n",
       "\n",
       "    .dataframe thead th {\n",
       "        text-align: right;\n",
       "    }\n",
       "</style>\n",
       "<table border=\"1\" class=\"dataframe\">\n",
       "  <thead>\n",
       "    <tr style=\"text-align: right;\">\n",
       "      <th></th>\n",
       "      <th>1.0</th>\n",
       "      <th>2.0</th>\n",
       "      <th>3.0</th>\n",
       "      <th>4.0</th>\n",
       "      <th>5.0</th>\n",
       "      <th>6.0</th>\n",
       "      <th>7.0</th>\n",
       "      <th>8.0</th>\n",
       "      <th>9.0</th>\n",
       "      <th>10.0</th>\n",
       "      <th>...</th>\n",
       "      <th>39.0</th>\n",
       "      <th>40.0</th>\n",
       "      <th>41.0</th>\n",
       "      <th>42.0</th>\n",
       "      <th>43.0</th>\n",
       "      <th>44.0</th>\n",
       "      <th>45.0</th>\n",
       "      <th>46.0</th>\n",
       "      <th>47.0</th>\n",
       "      <th>48.0</th>\n",
       "    </tr>\n",
       "  </thead>\n",
       "  <tbody>\n",
       "    <tr>\n",
       "      <th>0</th>\n",
       "      <td>32.075305</td>\n",
       "      <td>32.065104</td>\n",
       "      <td>31.322160</td>\n",
       "      <td>31.405018</td>\n",
       "      <td>30.449735</td>\n",
       "      <td>31.753555</td>\n",
       "      <td>31.266106</td>\n",
       "      <td>32.181384</td>\n",
       "      <td>32.043478</td>\n",
       "      <td>31.065574</td>\n",
       "      <td>...</td>\n",
       "      <td>32.080</td>\n",
       "      <td>31.456522</td>\n",
       "      <td>29.792453</td>\n",
       "      <td>31.288889</td>\n",
       "      <td>31.254902</td>\n",
       "      <td>32.178571</td>\n",
       "      <td>29.125000</td>\n",
       "      <td>31.854545</td>\n",
       "      <td>32.0625</td>\n",
       "      <td>31.383978</td>\n",
       "    </tr>\n",
       "    <tr>\n",
       "      <th>1</th>\n",
       "      <td>45.544098</td>\n",
       "      <td>33.643229</td>\n",
       "      <td>36.957169</td>\n",
       "      <td>37.216846</td>\n",
       "      <td>35.460317</td>\n",
       "      <td>34.312796</td>\n",
       "      <td>31.658263</td>\n",
       "      <td>36.985680</td>\n",
       "      <td>31.413043</td>\n",
       "      <td>27.647541</td>\n",
       "      <td>...</td>\n",
       "      <td>22.608</td>\n",
       "      <td>18.427536</td>\n",
       "      <td>35.358491</td>\n",
       "      <td>32.207407</td>\n",
       "      <td>26.803922</td>\n",
       "      <td>32.089286</td>\n",
       "      <td>28.458333</td>\n",
       "      <td>27.672727</td>\n",
       "      <td>15.4375</td>\n",
       "      <td>11.303867</td>\n",
       "    </tr>\n",
       "    <tr>\n",
       "      <th>2</th>\n",
       "      <td>17.024423</td>\n",
       "      <td>17.343750</td>\n",
       "      <td>23.363128</td>\n",
       "      <td>21.381720</td>\n",
       "      <td>17.661376</td>\n",
       "      <td>17.440758</td>\n",
       "      <td>22.473389</td>\n",
       "      <td>10.985680</td>\n",
       "      <td>15.271739</td>\n",
       "      <td>16.754098</td>\n",
       "      <td>...</td>\n",
       "      <td>12.072</td>\n",
       "      <td>12.376812</td>\n",
       "      <td>15.792453</td>\n",
       "      <td>16.777778</td>\n",
       "      <td>17.627451</td>\n",
       "      <td>14.357143</td>\n",
       "      <td>16.125000</td>\n",
       "      <td>16.600000</td>\n",
       "      <td>16.3750</td>\n",
       "      <td>15.220994</td>\n",
       "    </tr>\n",
       "  </tbody>\n",
       "</table>\n",
       "<p>3 rows × 48 columns</p>\n",
       "</div>"
      ],
      "text/plain": [
       "        1.0        2.0        3.0        4.0        5.0        6.0   \\\n",
       "0  32.075305  32.065104  31.322160  31.405018  30.449735  31.753555   \n",
       "1  45.544098  33.643229  36.957169  37.216846  35.460317  34.312796   \n",
       "2  17.024423  17.343750  23.363128  21.381720  17.661376  17.440758   \n",
       "\n",
       "        7.0        8.0        9.0        10.0  ...    39.0       40.0  \\\n",
       "0  31.266106  32.181384  32.043478  31.065574  ...  32.080  31.456522   \n",
       "1  31.658263  36.985680  31.413043  27.647541  ...  22.608  18.427536   \n",
       "2  22.473389  10.985680  15.271739  16.754098  ...  12.072  12.376812   \n",
       "\n",
       "        41.0       42.0       43.0       44.0       45.0       46.0     47.0  \\\n",
       "0  29.792453  31.288889  31.254902  32.178571  29.125000  31.854545  32.0625   \n",
       "1  35.358491  32.207407  26.803922  32.089286  28.458333  27.672727  15.4375   \n",
       "2  15.792453  16.777778  17.627451  14.357143  16.125000  16.600000  16.3750   \n",
       "\n",
       "        48.0  \n",
       "0  31.383978  \n",
       "1  11.303867  \n",
       "2  15.220994  \n",
       "\n",
       "[3 rows x 48 columns]"
      ]
     },
     "execution_count": 154,
     "metadata": {},
     "output_type": "execute_result"
    }
   ],
   "source": [
    "roi_cortex_df.head()"
   ]
  },
  {
   "cell_type": "code",
   "execution_count": 155,
   "metadata": {},
   "outputs": [],
   "source": [
    "cortex_column_labels = atlas_cortex.labels[1:]"
   ]
  },
  {
   "cell_type": "code",
   "execution_count": 156,
   "metadata": {},
   "outputs": [],
   "source": [
    "keys = np.arange(1, 49, step=1.0)"
   ]
  },
  {
   "cell_type": "code",
   "execution_count": 160,
   "metadata": {},
   "outputs": [],
   "source": [
    "roi_cortex_columns_dict = {}\n",
    "for index, region in enumerate(cortex_column_labels):\n",
    "    roi_cortex_columns_dict[keys[index]] = region\n"
   ]
  },
  {
   "cell_type": "code",
   "execution_count": null,
   "metadata": {},
   "outputs": [
    {
     "data": {
      "text/html": [
       "<div>\n",
       "<style scoped>\n",
       "    .dataframe tbody tr th:only-of-type {\n",
       "        vertical-align: middle;\n",
       "    }\n",
       "\n",
       "    .dataframe tbody tr th {\n",
       "        vertical-align: top;\n",
       "    }\n",
       "\n",
       "    .dataframe thead th {\n",
       "        text-align: right;\n",
       "    }\n",
       "</style>\n",
       "<table border=\"1\" class=\"dataframe\">\n",
       "  <thead>\n",
       "    <tr style=\"text-align: right;\">\n",
       "      <th></th>\n",
       "      <th>Frontal Pole</th>\n",
       "      <th>Insular Cortex</th>\n",
       "      <th>Superior Frontal Gyrus</th>\n",
       "      <th>Middle Frontal Gyrus</th>\n",
       "      <th>Inferior Frontal Gyrus, pars triangularis</th>\n",
       "      <th>Inferior Frontal Gyrus, pars opercularis</th>\n",
       "      <th>Precentral Gyrus</th>\n",
       "      <th>Temporal Pole</th>\n",
       "      <th>Superior Temporal Gyrus, anterior division</th>\n",
       "      <th>Superior Temporal Gyrus, posterior division</th>\n",
       "      <th>...</th>\n",
       "      <th>Temporal Occipital Fusiform Cortex</th>\n",
       "      <th>Occipital Fusiform Gyrus</th>\n",
       "      <th>Frontal Opercular Cortex</th>\n",
       "      <th>Central Opercular Cortex</th>\n",
       "      <th>Parietal Opercular Cortex</th>\n",
       "      <th>Planum Polare</th>\n",
       "      <th>Heschl's Gyrus (includes H1 and H2)</th>\n",
       "      <th>Planum Temporale</th>\n",
       "      <th>Supracalcarine Cortex</th>\n",
       "      <th>Occipital Pole</th>\n",
       "    </tr>\n",
       "  </thead>\n",
       "  <tbody>\n",
       "    <tr>\n",
       "      <th>x</th>\n",
       "      <td>32.075305</td>\n",
       "      <td>32.065104</td>\n",
       "      <td>31.322160</td>\n",
       "      <td>31.405018</td>\n",
       "      <td>30.449735</td>\n",
       "      <td>31.753555</td>\n",
       "      <td>31.266106</td>\n",
       "      <td>32.181384</td>\n",
       "      <td>32.043478</td>\n",
       "      <td>31.065574</td>\n",
       "      <td>...</td>\n",
       "      <td>32.080</td>\n",
       "      <td>31.456522</td>\n",
       "      <td>29.792453</td>\n",
       "      <td>31.288889</td>\n",
       "      <td>31.254902</td>\n",
       "      <td>32.178571</td>\n",
       "      <td>29.125000</td>\n",
       "      <td>31.854545</td>\n",
       "      <td>32.0625</td>\n",
       "      <td>31.383978</td>\n",
       "    </tr>\n",
       "    <tr>\n",
       "      <th>y</th>\n",
       "      <td>45.544098</td>\n",
       "      <td>33.643229</td>\n",
       "      <td>36.957169</td>\n",
       "      <td>37.216846</td>\n",
       "      <td>35.460317</td>\n",
       "      <td>34.312796</td>\n",
       "      <td>31.658263</td>\n",
       "      <td>36.985680</td>\n",
       "      <td>31.413043</td>\n",
       "      <td>27.647541</td>\n",
       "      <td>...</td>\n",
       "      <td>22.608</td>\n",
       "      <td>18.427536</td>\n",
       "      <td>35.358491</td>\n",
       "      <td>32.207407</td>\n",
       "      <td>26.803922</td>\n",
       "      <td>32.089286</td>\n",
       "      <td>28.458333</td>\n",
       "      <td>27.672727</td>\n",
       "      <td>15.4375</td>\n",
       "      <td>11.303867</td>\n",
       "    </tr>\n",
       "    <tr>\n",
       "      <th>z</th>\n",
       "      <td>17.024423</td>\n",
       "      <td>17.343750</td>\n",
       "      <td>23.363128</td>\n",
       "      <td>21.381720</td>\n",
       "      <td>17.661376</td>\n",
       "      <td>17.440758</td>\n",
       "      <td>22.473389</td>\n",
       "      <td>10.985680</td>\n",
       "      <td>15.271739</td>\n",
       "      <td>16.754098</td>\n",
       "      <td>...</td>\n",
       "      <td>12.072</td>\n",
       "      <td>12.376812</td>\n",
       "      <td>15.792453</td>\n",
       "      <td>16.777778</td>\n",
       "      <td>17.627451</td>\n",
       "      <td>14.357143</td>\n",
       "      <td>16.125000</td>\n",
       "      <td>16.600000</td>\n",
       "      <td>16.3750</td>\n",
       "      <td>15.220994</td>\n",
       "    </tr>\n",
       "  </tbody>\n",
       "</table>\n",
       "<p>3 rows × 48 columns</p>\n",
       "</div>"
      ],
      "text/plain": [
       "   Frontal Pole  Insular Cortex  Superior Frontal Gyrus  Middle Frontal Gyrus  \\\n",
       "x     32.075305       32.065104               31.322160             31.405018   \n",
       "y     45.544098       33.643229               36.957169             37.216846   \n",
       "z     17.024423       17.343750               23.363128             21.381720   \n",
       "\n",
       "   Inferior Frontal Gyrus, pars triangularis  \\\n",
       "x                                  30.449735   \n",
       "y                                  35.460317   \n",
       "z                                  17.661376   \n",
       "\n",
       "   Inferior Frontal Gyrus, pars opercularis  Precentral Gyrus  Temporal Pole  \\\n",
       "x                                 31.753555         31.266106      32.181384   \n",
       "y                                 34.312796         31.658263      36.985680   \n",
       "z                                 17.440758         22.473389      10.985680   \n",
       "\n",
       "   Superior Temporal Gyrus, anterior division  \\\n",
       "x                                   32.043478   \n",
       "y                                   31.413043   \n",
       "z                                   15.271739   \n",
       "\n",
       "   Superior Temporal Gyrus, posterior division  ...  \\\n",
       "x                                    31.065574  ...   \n",
       "y                                    27.647541  ...   \n",
       "z                                    16.754098  ...   \n",
       "\n",
       "   Temporal Occipital Fusiform Cortex  Occipital Fusiform Gyrus  \\\n",
       "x                              32.080                 31.456522   \n",
       "y                              22.608                 18.427536   \n",
       "z                              12.072                 12.376812   \n",
       "\n",
       "   Frontal Opercular Cortex  Central Opercular Cortex  \\\n",
       "x                 29.792453                 31.288889   \n",
       "y                 35.358491                 32.207407   \n",
       "z                 15.792453                 16.777778   \n",
       "\n",
       "   Parietal Opercular Cortex  Planum Polare  \\\n",
       "x                  31.254902      32.178571   \n",
       "y                  26.803922      32.089286   \n",
       "z                  17.627451      14.357143   \n",
       "\n",
       "   Heschl's Gyrus (includes H1 and H2)  Planum Temporale  \\\n",
       "x                            29.125000         31.854545   \n",
       "y                            28.458333         27.672727   \n",
       "z                            16.125000         16.600000   \n",
       "\n",
       "   Supracalcarine Cortex  Occipital Pole  \n",
       "x                32.0625       31.383978  \n",
       "y                15.4375       11.303867  \n",
       "z                16.3750       15.220994  \n",
       "\n",
       "[3 rows x 48 columns]"
      ]
     },
     "execution_count": 161,
     "metadata": {},
     "output_type": "execute_result"
    }
   ],
   "source": [
    "roi_cortex_df.rename(columns=roi_cortex_columns_dict, inplace=True)\n",
    "roi_cortex_df = roi_cortex_df.T\n",
    "roi_cortex_df.rename(columns = {0:\"x\", 1:\"y\", 2:\"z\"}, inplace=True)\n",
    "roi_cortex_df.head()\n"
   ]
  },
  {
   "cell_type": "markdown",
   "metadata": {},
   "source": [
    "### Calculating Subcortex"
   ]
  },
  {
   "cell_type": "code",
   "execution_count": 162,
   "metadata": {},
   "outputs": [
    {
     "data": {
      "text/plain": [
       "array([ 1.,  2.,  3.,  4.,  5.,  6.,  7.,  8.,  9., 10., 11., 12., 13.,\n",
       "       14., 15., 16., 17., 18., 19., 20., 21.])"
      ]
     },
     "execution_count": 162,
     "metadata": {},
     "output_type": "execute_result"
    }
   ],
   "source": [
    "roi_labels_subcortex"
   ]
  },
  {
   "cell_type": "code",
   "execution_count": 163,
   "metadata": {},
   "outputs": [],
   "source": [
    "keys = np.arange(1, 22, step=1.0)"
   ]
  },
  {
   "cell_type": "code",
   "execution_count": 164,
   "metadata": {},
   "outputs": [],
   "source": [
    "subcortex_column_labels = atlas_subcortical.labels[1:]"
   ]
  },
  {
   "cell_type": "code",
   "execution_count": 165,
   "metadata": {},
   "outputs": [
    {
     "name": "stderr",
     "output_type": "stream",
     "text": [
      "Processing ROIs: 100%|██████████| 21/21 [00:00<00:00, 3232.07it/s]\n"
     ]
    }
   ],
   "source": [
    "roi_time_series = {}\n",
    "# Step 3: Extract fMRI time series for each ROI\n",
    "for roi in tqdm(roi_labels_subcortex, desc=\"Processing ROIs\"):\n",
    "    # Get the voxel indices for the current ROI in the resampled atlas\n",
    "    roi_voxels = np.where(resampled_atlas_subcortex == roi)\n",
    "    # Ensure the voxel indices are valid within the spatial dimensions of fmri_data\n",
    "    # Extract the fMRI signal corresponding to these voxels for each time point\n",
    "    # roi_signal = fmri_data[roi_voxels].mean(axis=0)  # Averaging across voxels (axis 0 refers to spatial)\n",
    "    x = roi_voxels[0].mean(axis=0)\n",
    "    y = roi_voxels[1].mean(axis=0)\n",
    "    z = roi_voxels[2].mean(axis=0)\n",
    "    region_coordinates = [x, y, z] # Compute Centroid\n",
    "    # Store the resulting time series for the current ROI\n",
    "    roi_time_series[roi] = region_coordinates\n"
   ]
  },
  {
   "cell_type": "code",
   "execution_count": 166,
   "metadata": {},
   "outputs": [],
   "source": [
    "roi_subcortex_df = pd.DataFrame(roi_time_series)"
   ]
  },
  {
   "cell_type": "code",
   "execution_count": 167,
   "metadata": {},
   "outputs": [
    {
     "data": {
      "text/plain": [
       "21"
      ]
     },
     "execution_count": 167,
     "metadata": {},
     "output_type": "execute_result"
    }
   ],
   "source": [
    "len(subcortex_column_labels)"
   ]
  },
  {
   "cell_type": "code",
   "execution_count": 170,
   "metadata": {},
   "outputs": [
    {
     "data": {
      "text/html": [
       "<div>\n",
       "<style scoped>\n",
       "    .dataframe tbody tr th:only-of-type {\n",
       "        vertical-align: middle;\n",
       "    }\n",
       "\n",
       "    .dataframe tbody tr th {\n",
       "        vertical-align: top;\n",
       "    }\n",
       "\n",
       "    .dataframe thead th {\n",
       "        text-align: right;\n",
       "    }\n",
       "</style>\n",
       "<table border=\"1\" class=\"dataframe\">\n",
       "  <thead>\n",
       "    <tr style=\"text-align: right;\">\n",
       "      <th></th>\n",
       "      <th>Left Cerebral White Matter</th>\n",
       "      <th>Left Cerebral Cortex</th>\n",
       "      <th>Left Lateral Ventricle</th>\n",
       "      <th>Left Thalamus</th>\n",
       "      <th>Left Caudate</th>\n",
       "      <th>Left Putamen</th>\n",
       "      <th>Left Pallidum</th>\n",
       "      <th>Brain-Stem</th>\n",
       "      <th>Left Hippocampus</th>\n",
       "      <th>Left Amygdala</th>\n",
       "      <th>...</th>\n",
       "      <th>Right Cerebral White Matter</th>\n",
       "      <th>Right Cerebral Cortex</th>\n",
       "      <th>Right Lateral Ventricle</th>\n",
       "      <th>Right Thalamus</th>\n",
       "      <th>Right Caudate</th>\n",
       "      <th>Right Putamen</th>\n",
       "      <th>Right Pallidum</th>\n",
       "      <th>Right Hippocampus</th>\n",
       "      <th>Right Amygdala</th>\n",
       "      <th>Right Accumbens</th>\n",
       "    </tr>\n",
       "  </thead>\n",
       "  <tbody>\n",
       "    <tr>\n",
       "      <th>x</th>\n",
       "      <td>25.335163</td>\n",
       "      <td>23.742642</td>\n",
       "      <td>30.688889</td>\n",
       "      <td>30.931677</td>\n",
       "      <td>32.622222</td>\n",
       "      <td>29.715517</td>\n",
       "      <td>33.378378</td>\n",
       "      <td>32.250580</td>\n",
       "      <td>36.864662</td>\n",
       "      <td>36.9625</td>\n",
       "      <td>...</td>\n",
       "      <td>38.203613</td>\n",
       "      <td>39.401403</td>\n",
       "      <td>34.915789</td>\n",
       "      <td>34.483607</td>\n",
       "      <td>35.302326</td>\n",
       "      <td>37.779412</td>\n",
       "      <td>36.766667</td>\n",
       "      <td>38.136364</td>\n",
       "      <td>37.444444</td>\n",
       "      <td>34.4</td>\n",
       "    </tr>\n",
       "    <tr>\n",
       "      <th>y</th>\n",
       "      <td>30.656947</td>\n",
       "      <td>30.275660</td>\n",
       "      <td>31.125926</td>\n",
       "      <td>30.490683</td>\n",
       "      <td>32.200000</td>\n",
       "      <td>33.655172</td>\n",
       "      <td>31.986486</td>\n",
       "      <td>28.447796</td>\n",
       "      <td>28.007519</td>\n",
       "      <td>33.1500</td>\n",
       "      <td>...</td>\n",
       "      <td>31.134362</td>\n",
       "      <td>30.714926</td>\n",
       "      <td>31.978947</td>\n",
       "      <td>31.524590</td>\n",
       "      <td>37.372093</td>\n",
       "      <td>34.955882</td>\n",
       "      <td>33.200000</td>\n",
       "      <td>29.977273</td>\n",
       "      <td>34.481481</td>\n",
       "      <td>38.6</td>\n",
       "    </tr>\n",
       "    <tr>\n",
       "      <th>z</th>\n",
       "      <td>17.779417</td>\n",
       "      <td>17.667170</td>\n",
       "      <td>15.814815</td>\n",
       "      <td>15.440994</td>\n",
       "      <td>15.166667</td>\n",
       "      <td>15.094828</td>\n",
       "      <td>15.324324</td>\n",
       "      <td>9.584687</td>\n",
       "      <td>14.000000</td>\n",
       "      <td>16.0500</td>\n",
       "      <td>...</td>\n",
       "      <td>17.937147</td>\n",
       "      <td>17.807872</td>\n",
       "      <td>16.831579</td>\n",
       "      <td>15.844262</td>\n",
       "      <td>16.302326</td>\n",
       "      <td>14.573529</td>\n",
       "      <td>13.800000</td>\n",
       "      <td>12.295455</td>\n",
       "      <td>11.703704</td>\n",
       "      <td>14.0</td>\n",
       "    </tr>\n",
       "  </tbody>\n",
       "</table>\n",
       "<p>3 rows × 21 columns</p>\n",
       "</div>"
      ],
      "text/plain": [
       "   Left Cerebral White Matter  Left Cerebral Cortex  Left Lateral Ventricle  \\\n",
       "x                   25.335163             23.742642               30.688889   \n",
       "y                   30.656947             30.275660               31.125926   \n",
       "z                   17.779417             17.667170               15.814815   \n",
       "\n",
       "   Left Thalamus  Left Caudate  Left Putamen  Left Pallidum  Brain-Stem  \\\n",
       "x      30.931677     32.622222     29.715517      33.378378   32.250580   \n",
       "y      30.490683     32.200000     33.655172      31.986486   28.447796   \n",
       "z      15.440994     15.166667     15.094828      15.324324    9.584687   \n",
       "\n",
       "   Left Hippocampus  Left Amygdala  ...  Right Cerebral White Matter  \\\n",
       "x         36.864662        36.9625  ...                    38.203613   \n",
       "y         28.007519        33.1500  ...                    31.134362   \n",
       "z         14.000000        16.0500  ...                    17.937147   \n",
       "\n",
       "   Right Cerebral Cortex  Right Lateral Ventricle  Right Thalamus  \\\n",
       "x              39.401403                34.915789       34.483607   \n",
       "y              30.714926                31.978947       31.524590   \n",
       "z              17.807872                16.831579       15.844262   \n",
       "\n",
       "   Right Caudate  Right Putamen  Right Pallidum  Right Hippocampus  \\\n",
       "x      35.302326      37.779412       36.766667          38.136364   \n",
       "y      37.372093      34.955882       33.200000          29.977273   \n",
       "z      16.302326      14.573529       13.800000          12.295455   \n",
       "\n",
       "   Right Amygdala  Right Accumbens  \n",
       "x       37.444444             34.4  \n",
       "y       34.481481             38.6  \n",
       "z       11.703704             14.0  \n",
       "\n",
       "[3 rows x 21 columns]"
      ]
     },
     "execution_count": 170,
     "metadata": {},
     "output_type": "execute_result"
    }
   ],
   "source": [
    "roi_subcortex_columns_dict = {}\n",
    "for index, region in enumerate(subcortex_column_labels):\n",
    "    roi_subcortex_columns_dict[keys[index]] = region\n",
    "\n",
    "roi_subcortex_df.rename(columns=roi_subcortex_columns_dict, inplace=True)\n",
    "roi_subcortex_df = roi_subcortex_df.T\n",
    "roi_subcortex_df.rename(columns = {0:\"x\", 1:\"y\", 2:\"z\"}, inplace=True)\n",
    "roi_subcortex_df.head()\n"
   ]
  },
  {
   "cell_type": "markdown",
   "metadata": {},
   "source": [
    "### Calculating Centroids of Substantia Nigra Left"
   ]
  },
  {
   "cell_type": "code",
   "execution_count": 174,
   "metadata": {},
   "outputs": [
    {
     "name": "stderr",
     "output_type": "stream",
     "text": [
      "Processing ROIs: 100%|██████████| 1/1 [00:00<00:00, 2197.12it/s]\n"
     ]
    }
   ],
   "source": [
    "roi_time_series = {}\n",
    "# Step 3: Extract fMRI time series for each ROI\n",
    "for roi in tqdm(roi_labels_sn_l, desc=\"Processing ROIs\"):\n",
    "    # Get the voxel indices for the current ROI in the resampled atlas\n",
    "    roi_voxels = np.where(resampled_atlas_sn_l == roi)\n",
    "    # Ensure the voxel indices are valid within the spatial dimensions of fmri_data\n",
    "    # Extract the fMRI signal corresponding to these voxels for each time point\n",
    "    # roi_signal = fmri_data[roi_voxels].mean(axis=0)  # Averaging across voxels (axis 0 refers to spatial)\n",
    "    x = roi_voxels[0].mean(axis=0)\n",
    "    y = roi_voxels[1].mean(axis=0)\n",
    "    z = roi_voxels[2].mean(axis=0)\n",
    "    region_coordinates = [x, y, z] # Compute Centroid\n",
    "    # Store the resulting time series for the current ROI\n",
    "    roi_time_series[roi] = region_coordinates\n"
   ]
  },
  {
   "cell_type": "code",
   "execution_count": 175,
   "metadata": {},
   "outputs": [],
   "source": [
    "roi_sn_l_df = pd.DataFrame(roi_time_series)"
   ]
  },
  {
   "cell_type": "code",
   "execution_count": 176,
   "metadata": {},
   "outputs": [
    {
     "data": {
      "text/html": [
       "<div>\n",
       "<style scoped>\n",
       "    .dataframe tbody tr th:only-of-type {\n",
       "        vertical-align: middle;\n",
       "    }\n",
       "\n",
       "    .dataframe tbody tr th {\n",
       "        vertical-align: top;\n",
       "    }\n",
       "\n",
       "    .dataframe thead th {\n",
       "        text-align: right;\n",
       "    }\n",
       "</style>\n",
       "<table border=\"1\" class=\"dataframe\">\n",
       "  <thead>\n",
       "    <tr style=\"text-align: right;\">\n",
       "      <th></th>\n",
       "      <th>1.0</th>\n",
       "    </tr>\n",
       "  </thead>\n",
       "  <tbody>\n",
       "    <tr>\n",
       "      <th>0</th>\n",
       "      <td>30.0</td>\n",
       "    </tr>\n",
       "    <tr>\n",
       "      <th>1</th>\n",
       "      <td>30.5</td>\n",
       "    </tr>\n",
       "    <tr>\n",
       "      <th>2</th>\n",
       "      <td>12.0</td>\n",
       "    </tr>\n",
       "  </tbody>\n",
       "</table>\n",
       "</div>"
      ],
      "text/plain": [
       "    1.0\n",
       "0  30.0\n",
       "1  30.5\n",
       "2  12.0"
      ]
     },
     "execution_count": 176,
     "metadata": {},
     "output_type": "execute_result"
    }
   ],
   "source": [
    "roi_sn_l_df"
   ]
  },
  {
   "cell_type": "code",
   "execution_count": 177,
   "metadata": {},
   "outputs": [
    {
     "data": {
      "text/html": [
       "<div>\n",
       "<style scoped>\n",
       "    .dataframe tbody tr th:only-of-type {\n",
       "        vertical-align: middle;\n",
       "    }\n",
       "\n",
       "    .dataframe tbody tr th {\n",
       "        vertical-align: top;\n",
       "    }\n",
       "\n",
       "    .dataframe thead th {\n",
       "        text-align: right;\n",
       "    }\n",
       "</style>\n",
       "<table border=\"1\" class=\"dataframe\">\n",
       "  <thead>\n",
       "    <tr style=\"text-align: right;\">\n",
       "      <th></th>\n",
       "      <th>x</th>\n",
       "      <th>y</th>\n",
       "      <th>z</th>\n",
       "    </tr>\n",
       "  </thead>\n",
       "  <tbody>\n",
       "    <tr>\n",
       "      <th>Substantia Nigra Left</th>\n",
       "      <td>30.0</td>\n",
       "      <td>30.5</td>\n",
       "      <td>12.0</td>\n",
       "    </tr>\n",
       "  </tbody>\n",
       "</table>\n",
       "</div>"
      ],
      "text/plain": [
       "                          x     y     z\n",
       "Substantia Nigra Left  30.0  30.5  12.0"
      ]
     },
     "execution_count": 177,
     "metadata": {},
     "output_type": "execute_result"
    }
   ],
   "source": [
    "roi_sn_l_df.rename(columns={1:\"Substantia Nigra Left\"}, inplace=True)\n",
    "roi_sn_l_df = roi_sn_l_df.T\n",
    "roi_sn_l_df.rename(columns = {0:\"x\", 1:\"y\", 2:\"z\"}, inplace=True)\n",
    "roi_sn_l_df.head()"
   ]
  },
  {
   "cell_type": "markdown",
   "metadata": {},
   "source": [
    "### Calculating Centroids of Substantia Nigra Right"
   ]
  },
  {
   "cell_type": "code",
   "execution_count": 178,
   "metadata": {},
   "outputs": [
    {
     "name": "stderr",
     "output_type": "stream",
     "text": [
      "Processing ROIs: 100%|██████████| 1/1 [00:00<00:00, 1682.43it/s]\n"
     ]
    }
   ],
   "source": [
    "roi_time_series = {}\n",
    "# Step 3: Extract fMRI time series for each ROI\n",
    "for roi in tqdm(roi_labels_sn_r, desc=\"Processing ROIs\"):\n",
    "    # Get the voxel indices for the current ROI in the resampled atlas\n",
    "    roi_voxels = np.where(resampled_atlas_sn_r == roi)\n",
    "    # Ensure the voxel indices are valid within the spatial dimensions of fmri_data\n",
    "    # Extract the fMRI signal corresponding to these voxels for each time point\n",
    "    # roi_signal = fmri_data[roi_voxels].mean(axis=0)  # Averaging across voxels (axis 0 refers to spatial)\n",
    "    x = roi_voxels[0].mean(axis=0)\n",
    "    y = roi_voxels[1].mean(axis=0)\n",
    "    z = roi_voxels[2].mean(axis=0)\n",
    "    region_coordinates = [x, y, z] # Compute Centroid\n",
    "    # Store the resulting time series for the current ROI\n",
    "    roi_time_series[roi] = region_coordinates"
   ]
  },
  {
   "cell_type": "code",
   "execution_count": 180,
   "metadata": {},
   "outputs": [],
   "source": [
    "roi_sn_r_df = pd.DataFrame(roi_time_series)"
   ]
  },
  {
   "cell_type": "code",
   "execution_count": 181,
   "metadata": {},
   "outputs": [
    {
     "data": {
      "text/html": [
       "<div>\n",
       "<style scoped>\n",
       "    .dataframe tbody tr th:only-of-type {\n",
       "        vertical-align: middle;\n",
       "    }\n",
       "\n",
       "    .dataframe tbody tr th {\n",
       "        vertical-align: top;\n",
       "    }\n",
       "\n",
       "    .dataframe thead th {\n",
       "        text-align: right;\n",
       "    }\n",
       "</style>\n",
       "<table border=\"1\" class=\"dataframe\">\n",
       "  <thead>\n",
       "    <tr style=\"text-align: right;\">\n",
       "      <th></th>\n",
       "      <th>x</th>\n",
       "      <th>y</th>\n",
       "      <th>z</th>\n",
       "    </tr>\n",
       "  </thead>\n",
       "  <tbody>\n",
       "    <tr>\n",
       "      <th>Substantia Nigra Right</th>\n",
       "      <td>33.5</td>\n",
       "      <td>30.5</td>\n",
       "      <td>12.0</td>\n",
       "    </tr>\n",
       "  </tbody>\n",
       "</table>\n",
       "</div>"
      ],
      "text/plain": [
       "                           x     y     z\n",
       "Substantia Nigra Right  33.5  30.5  12.0"
      ]
     },
     "execution_count": 181,
     "metadata": {},
     "output_type": "execute_result"
    }
   ],
   "source": [
    "roi_sn_r_df.rename(columns={1:\"Substantia Nigra Right\"}, inplace=True)\n",
    "roi_sn_r_df = roi_sn_r_df.T\n",
    "roi_sn_r_df.rename(columns = {0:\"x\", 1:\"y\", 2:\"z\"}, inplace=True)\n",
    "roi_sn_r_df.head()"
   ]
  },
  {
   "cell_type": "markdown",
   "metadata": {},
   "source": [
    "### Combining DataFrames of Coordinates"
   ]
  },
  {
   "cell_type": "code",
   "execution_count": null,
   "metadata": {},
   "outputs": [],
   "source": [
    "# roi_subcortex_df = roi_subcortex_df.T"
   ]
  },
  {
   "cell_type": "code",
   "execution_count": null,
   "metadata": {},
   "outputs": [],
   "source": [
    "# roi_cortex_df = roi_cortex_df.T"
   ]
  },
  {
   "cell_type": "code",
   "execution_count": 188,
   "metadata": {},
   "outputs": [
    {
     "data": {
      "text/html": [
       "<div>\n",
       "<style scoped>\n",
       "    .dataframe tbody tr th:only-of-type {\n",
       "        vertical-align: middle;\n",
       "    }\n",
       "\n",
       "    .dataframe tbody tr th {\n",
       "        vertical-align: top;\n",
       "    }\n",
       "\n",
       "    .dataframe thead th {\n",
       "        text-align: right;\n",
       "    }\n",
       "</style>\n",
       "<table border=\"1\" class=\"dataframe\">\n",
       "  <thead>\n",
       "    <tr style=\"text-align: right;\">\n",
       "      <th></th>\n",
       "      <th>x</th>\n",
       "      <th>y</th>\n",
       "      <th>z</th>\n",
       "    </tr>\n",
       "  </thead>\n",
       "  <tbody>\n",
       "    <tr>\n",
       "      <th>Frontal Pole</th>\n",
       "      <td>32.075305</td>\n",
       "      <td>45.544098</td>\n",
       "      <td>17.024423</td>\n",
       "    </tr>\n",
       "    <tr>\n",
       "      <th>Insular Cortex</th>\n",
       "      <td>32.065104</td>\n",
       "      <td>33.643229</td>\n",
       "      <td>17.343750</td>\n",
       "    </tr>\n",
       "    <tr>\n",
       "      <th>Superior Frontal Gyrus</th>\n",
       "      <td>31.322160</td>\n",
       "      <td>36.957169</td>\n",
       "      <td>23.363128</td>\n",
       "    </tr>\n",
       "    <tr>\n",
       "      <th>Middle Frontal Gyrus</th>\n",
       "      <td>31.405018</td>\n",
       "      <td>37.216846</td>\n",
       "      <td>21.381720</td>\n",
       "    </tr>\n",
       "    <tr>\n",
       "      <th>Inferior Frontal Gyrus, pars triangularis</th>\n",
       "      <td>30.449735</td>\n",
       "      <td>35.460317</td>\n",
       "      <td>17.661376</td>\n",
       "    </tr>\n",
       "  </tbody>\n",
       "</table>\n",
       "</div>"
      ],
      "text/plain": [
       "                                                   x          y          z\n",
       "Frontal Pole                               32.075305  45.544098  17.024423\n",
       "Insular Cortex                             32.065104  33.643229  17.343750\n",
       "Superior Frontal Gyrus                     31.322160  36.957169  23.363128\n",
       "Middle Frontal Gyrus                       31.405018  37.216846  21.381720\n",
       "Inferior Frontal Gyrus, pars triangularis  30.449735  35.460317  17.661376"
      ]
     },
     "execution_count": 188,
     "metadata": {},
     "output_type": "execute_result"
    }
   ],
   "source": [
    "roi_cortex_df.head()"
   ]
  },
  {
   "cell_type": "code",
   "execution_count": 184,
   "metadata": {},
   "outputs": [
    {
     "data": {
      "text/html": [
       "<div>\n",
       "<style scoped>\n",
       "    .dataframe tbody tr th:only-of-type {\n",
       "        vertical-align: middle;\n",
       "    }\n",
       "\n",
       "    .dataframe tbody tr th {\n",
       "        vertical-align: top;\n",
       "    }\n",
       "\n",
       "    .dataframe thead th {\n",
       "        text-align: right;\n",
       "    }\n",
       "</style>\n",
       "<table border=\"1\" class=\"dataframe\">\n",
       "  <thead>\n",
       "    <tr style=\"text-align: right;\">\n",
       "      <th></th>\n",
       "      <th>x</th>\n",
       "      <th>y</th>\n",
       "      <th>z</th>\n",
       "    </tr>\n",
       "  </thead>\n",
       "  <tbody>\n",
       "    <tr>\n",
       "      <th>Substantia Nigra Left</th>\n",
       "      <td>30.0</td>\n",
       "      <td>30.5</td>\n",
       "      <td>12.0</td>\n",
       "    </tr>\n",
       "  </tbody>\n",
       "</table>\n",
       "</div>"
      ],
      "text/plain": [
       "                          x     y     z\n",
       "Substantia Nigra Left  30.0  30.5  12.0"
      ]
     },
     "execution_count": 184,
     "metadata": {},
     "output_type": "execute_result"
    }
   ],
   "source": [
    "roi_sn_l_df.head()"
   ]
  },
  {
   "cell_type": "code",
   "execution_count": 185,
   "metadata": {},
   "outputs": [
    {
     "data": {
      "text/html": [
       "<div>\n",
       "<style scoped>\n",
       "    .dataframe tbody tr th:only-of-type {\n",
       "        vertical-align: middle;\n",
       "    }\n",
       "\n",
       "    .dataframe tbody tr th {\n",
       "        vertical-align: top;\n",
       "    }\n",
       "\n",
       "    .dataframe thead th {\n",
       "        text-align: right;\n",
       "    }\n",
       "</style>\n",
       "<table border=\"1\" class=\"dataframe\">\n",
       "  <thead>\n",
       "    <tr style=\"text-align: right;\">\n",
       "      <th></th>\n",
       "      <th>x</th>\n",
       "      <th>y</th>\n",
       "      <th>z</th>\n",
       "    </tr>\n",
       "  </thead>\n",
       "  <tbody>\n",
       "    <tr>\n",
       "      <th>Substantia Nigra Right</th>\n",
       "      <td>33.5</td>\n",
       "      <td>30.5</td>\n",
       "      <td>12.0</td>\n",
       "    </tr>\n",
       "  </tbody>\n",
       "</table>\n",
       "</div>"
      ],
      "text/plain": [
       "                           x     y     z\n",
       "Substantia Nigra Right  33.5  30.5  12.0"
      ]
     },
     "execution_count": 185,
     "metadata": {},
     "output_type": "execute_result"
    }
   ],
   "source": [
    "roi_sn_r_df.head()"
   ]
  },
  {
   "cell_type": "code",
   "execution_count": 192,
   "metadata": {},
   "outputs": [],
   "source": [
    "roi_coordinate_df = pd.concat([roi_cortex_df, roi_subcortex_df, roi_sn_r_df, roi_sn_l_df], axis=0)"
   ]
  },
  {
   "cell_type": "code",
   "execution_count": null,
   "metadata": {},
   "outputs": [],
   "source": [
    "# roi_coordinate_df.to_csv(\"../data/dataframes/roi_anatomical_coordinates.csv\", index=True)"
   ]
  }
 ],
 "metadata": {
  "kernelspec": {
   "display_name": "torch",
   "language": "python",
   "name": "python3"
  },
  "language_info": {
   "codemirror_mode": {
    "name": "ipython",
    "version": 3
   },
   "file_extension": ".py",
   "mimetype": "text/x-python",
   "name": "python",
   "nbconvert_exporter": "python",
   "pygments_lexer": "ipython3",
   "version": "3.10.16"
  }
 },
 "nbformat": 4,
 "nbformat_minor": 2
}

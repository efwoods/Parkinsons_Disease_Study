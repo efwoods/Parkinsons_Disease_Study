{
 "cells": [
  {
   "cell_type": "code",
   "execution_count": 7,
   "metadata": {},
   "outputs": [],
   "source": [
    "from nilearn.datasets import fetch_atlas_harvard_oxford"
   ]
  },
  {
   "cell_type": "code",
   "execution_count": null,
   "metadata": {},
   "outputs": [
    {
     "data": {
      "application/vnd.plotly.v1+json": {
       "config": {
        "plotlyServerURL": "https://plot.ly"
       },
       "data": [
        {
         "marker": {
          "color": "blue",
          "size": 5
         },
         "mode": "markers",
         "type": "scatter3d",
         "x": {
          "bdata": "QNH4f2v3L0DKATrLM2FCQABSkBdmgdA/7DgoniINT8AKMJ72GKpAwDA/6IdyeEhAeLSGIX7yTMBQatP0m8NKQFxMnOr6tj7A0LSvNvW9JEA=",
          "dtype": "f8"
         },
         "y": {
          "bdata": "TqrgmPNaTMDmicCvAb5CwCQ02BpFMjpAzCfhXKSbQsDbu4HWfWRAwCgZY5LaKDlAfgwLRyX6QsBUU4BryO1TQFgiKNjg7SzAp2+FhHT4TMA=",
          "dtype": "f8"
         },
         "z": {
          "bdata": "UMbLubkLRUD4mi6w5go3QPDEK8UwIDdAvHxDvjXuNED0FdRpL65NwPLQ1iVOdE7AGNhw27G1TcDogDyYrvpPwMB9CPdBLFPAxCL7sCW3UkA=",
          "dtype": "f8"
         }
        }
       ],
       "layout": {
        "scene": {
         "xaxis": {
          "title": {
           "text": "X"
          }
         },
         "yaxis": {
          "title": {
           "text": "Y"
          }
         },
         "zaxis": {
          "title": {
           "text": "Z"
          }
         }
        },
        "template": {
         "data": {
          "bar": [
           {
            "error_x": {
             "color": "#2a3f5f"
            },
            "error_y": {
             "color": "#2a3f5f"
            },
            "marker": {
             "line": {
              "color": "#E5ECF6",
              "width": 0.5
             },
             "pattern": {
              "fillmode": "overlay",
              "size": 10,
              "solidity": 0.2
             }
            },
            "type": "bar"
           }
          ],
          "barpolar": [
           {
            "marker": {
             "line": {
              "color": "#E5ECF6",
              "width": 0.5
             },
             "pattern": {
              "fillmode": "overlay",
              "size": 10,
              "solidity": 0.2
             }
            },
            "type": "barpolar"
           }
          ],
          "carpet": [
           {
            "aaxis": {
             "endlinecolor": "#2a3f5f",
             "gridcolor": "white",
             "linecolor": "white",
             "minorgridcolor": "white",
             "startlinecolor": "#2a3f5f"
            },
            "baxis": {
             "endlinecolor": "#2a3f5f",
             "gridcolor": "white",
             "linecolor": "white",
             "minorgridcolor": "white",
             "startlinecolor": "#2a3f5f"
            },
            "type": "carpet"
           }
          ],
          "choropleth": [
           {
            "colorbar": {
             "outlinewidth": 0,
             "ticks": ""
            },
            "type": "choropleth"
           }
          ],
          "contour": [
           {
            "colorbar": {
             "outlinewidth": 0,
             "ticks": ""
            },
            "colorscale": [
             [
              0,
              "#0d0887"
             ],
             [
              0.1111111111111111,
              "#46039f"
             ],
             [
              0.2222222222222222,
              "#7201a8"
             ],
             [
              0.3333333333333333,
              "#9c179e"
             ],
             [
              0.4444444444444444,
              "#bd3786"
             ],
             [
              0.5555555555555556,
              "#d8576b"
             ],
             [
              0.6666666666666666,
              "#ed7953"
             ],
             [
              0.7777777777777778,
              "#fb9f3a"
             ],
             [
              0.8888888888888888,
              "#fdca26"
             ],
             [
              1,
              "#f0f921"
             ]
            ],
            "type": "contour"
           }
          ],
          "contourcarpet": [
           {
            "colorbar": {
             "outlinewidth": 0,
             "ticks": ""
            },
            "type": "contourcarpet"
           }
          ],
          "heatmap": [
           {
            "colorbar": {
             "outlinewidth": 0,
             "ticks": ""
            },
            "colorscale": [
             [
              0,
              "#0d0887"
             ],
             [
              0.1111111111111111,
              "#46039f"
             ],
             [
              0.2222222222222222,
              "#7201a8"
             ],
             [
              0.3333333333333333,
              "#9c179e"
             ],
             [
              0.4444444444444444,
              "#bd3786"
             ],
             [
              0.5555555555555556,
              "#d8576b"
             ],
             [
              0.6666666666666666,
              "#ed7953"
             ],
             [
              0.7777777777777778,
              "#fb9f3a"
             ],
             [
              0.8888888888888888,
              "#fdca26"
             ],
             [
              1,
              "#f0f921"
             ]
            ],
            "type": "heatmap"
           }
          ],
          "histogram": [
           {
            "marker": {
             "pattern": {
              "fillmode": "overlay",
              "size": 10,
              "solidity": 0.2
             }
            },
            "type": "histogram"
           }
          ],
          "histogram2d": [
           {
            "colorbar": {
             "outlinewidth": 0,
             "ticks": ""
            },
            "colorscale": [
             [
              0,
              "#0d0887"
             ],
             [
              0.1111111111111111,
              "#46039f"
             ],
             [
              0.2222222222222222,
              "#7201a8"
             ],
             [
              0.3333333333333333,
              "#9c179e"
             ],
             [
              0.4444444444444444,
              "#bd3786"
             ],
             [
              0.5555555555555556,
              "#d8576b"
             ],
             [
              0.6666666666666666,
              "#ed7953"
             ],
             [
              0.7777777777777778,
              "#fb9f3a"
             ],
             [
              0.8888888888888888,
              "#fdca26"
             ],
             [
              1,
              "#f0f921"
             ]
            ],
            "type": "histogram2d"
           }
          ],
          "histogram2dcontour": [
           {
            "colorbar": {
             "outlinewidth": 0,
             "ticks": ""
            },
            "colorscale": [
             [
              0,
              "#0d0887"
             ],
             [
              0.1111111111111111,
              "#46039f"
             ],
             [
              0.2222222222222222,
              "#7201a8"
             ],
             [
              0.3333333333333333,
              "#9c179e"
             ],
             [
              0.4444444444444444,
              "#bd3786"
             ],
             [
              0.5555555555555556,
              "#d8576b"
             ],
             [
              0.6666666666666666,
              "#ed7953"
             ],
             [
              0.7777777777777778,
              "#fb9f3a"
             ],
             [
              0.8888888888888888,
              "#fdca26"
             ],
             [
              1,
              "#f0f921"
             ]
            ],
            "type": "histogram2dcontour"
           }
          ],
          "mesh3d": [
           {
            "colorbar": {
             "outlinewidth": 0,
             "ticks": ""
            },
            "type": "mesh3d"
           }
          ],
          "parcoords": [
           {
            "line": {
             "colorbar": {
              "outlinewidth": 0,
              "ticks": ""
             }
            },
            "type": "parcoords"
           }
          ],
          "pie": [
           {
            "automargin": true,
            "type": "pie"
           }
          ],
          "scatter": [
           {
            "fillpattern": {
             "fillmode": "overlay",
             "size": 10,
             "solidity": 0.2
            },
            "type": "scatter"
           }
          ],
          "scatter3d": [
           {
            "line": {
             "colorbar": {
              "outlinewidth": 0,
              "ticks": ""
             }
            },
            "marker": {
             "colorbar": {
              "outlinewidth": 0,
              "ticks": ""
             }
            },
            "type": "scatter3d"
           }
          ],
          "scattercarpet": [
           {
            "marker": {
             "colorbar": {
              "outlinewidth": 0,
              "ticks": ""
             }
            },
            "type": "scattercarpet"
           }
          ],
          "scattergeo": [
           {
            "marker": {
             "colorbar": {
              "outlinewidth": 0,
              "ticks": ""
             }
            },
            "type": "scattergeo"
           }
          ],
          "scattergl": [
           {
            "marker": {
             "colorbar": {
              "outlinewidth": 0,
              "ticks": ""
             }
            },
            "type": "scattergl"
           }
          ],
          "scattermap": [
           {
            "marker": {
             "colorbar": {
              "outlinewidth": 0,
              "ticks": ""
             }
            },
            "type": "scattermap"
           }
          ],
          "scattermapbox": [
           {
            "marker": {
             "colorbar": {
              "outlinewidth": 0,
              "ticks": ""
             }
            },
            "type": "scattermapbox"
           }
          ],
          "scatterpolar": [
           {
            "marker": {
             "colorbar": {
              "outlinewidth": 0,
              "ticks": ""
             }
            },
            "type": "scatterpolar"
           }
          ],
          "scatterpolargl": [
           {
            "marker": {
             "colorbar": {
              "outlinewidth": 0,
              "ticks": ""
             }
            },
            "type": "scatterpolargl"
           }
          ],
          "scatterternary": [
           {
            "marker": {
             "colorbar": {
              "outlinewidth": 0,
              "ticks": ""
             }
            },
            "type": "scatterternary"
           }
          ],
          "surface": [
           {
            "colorbar": {
             "outlinewidth": 0,
             "ticks": ""
            },
            "colorscale": [
             [
              0,
              "#0d0887"
             ],
             [
              0.1111111111111111,
              "#46039f"
             ],
             [
              0.2222222222222222,
              "#7201a8"
             ],
             [
              0.3333333333333333,
              "#9c179e"
             ],
             [
              0.4444444444444444,
              "#bd3786"
             ],
             [
              0.5555555555555556,
              "#d8576b"
             ],
             [
              0.6666666666666666,
              "#ed7953"
             ],
             [
              0.7777777777777778,
              "#fb9f3a"
             ],
             [
              0.8888888888888888,
              "#fdca26"
             ],
             [
              1,
              "#f0f921"
             ]
            ],
            "type": "surface"
           }
          ],
          "table": [
           {
            "cells": {
             "fill": {
              "color": "#EBF0F8"
             },
             "line": {
              "color": "white"
             }
            },
            "header": {
             "fill": {
              "color": "#C8D4E3"
             },
             "line": {
              "color": "white"
             }
            },
            "type": "table"
           }
          ]
         },
         "layout": {
          "annotationdefaults": {
           "arrowcolor": "#2a3f5f",
           "arrowhead": 0,
           "arrowwidth": 1
          },
          "autotypenumbers": "strict",
          "coloraxis": {
           "colorbar": {
            "outlinewidth": 0,
            "ticks": ""
           }
          },
          "colorscale": {
           "diverging": [
            [
             0,
             "#8e0152"
            ],
            [
             0.1,
             "#c51b7d"
            ],
            [
             0.2,
             "#de77ae"
            ],
            [
             0.3,
             "#f1b6da"
            ],
            [
             0.4,
             "#fde0ef"
            ],
            [
             0.5,
             "#f7f7f7"
            ],
            [
             0.6,
             "#e6f5d0"
            ],
            [
             0.7,
             "#b8e186"
            ],
            [
             0.8,
             "#7fbc41"
            ],
            [
             0.9,
             "#4d9221"
            ],
            [
             1,
             "#276419"
            ]
           ],
           "sequential": [
            [
             0,
             "#0d0887"
            ],
            [
             0.1111111111111111,
             "#46039f"
            ],
            [
             0.2222222222222222,
             "#7201a8"
            ],
            [
             0.3333333333333333,
             "#9c179e"
            ],
            [
             0.4444444444444444,
             "#bd3786"
            ],
            [
             0.5555555555555556,
             "#d8576b"
            ],
            [
             0.6666666666666666,
             "#ed7953"
            ],
            [
             0.7777777777777778,
             "#fb9f3a"
            ],
            [
             0.8888888888888888,
             "#fdca26"
            ],
            [
             1,
             "#f0f921"
            ]
           ],
           "sequentialminus": [
            [
             0,
             "#0d0887"
            ],
            [
             0.1111111111111111,
             "#46039f"
            ],
            [
             0.2222222222222222,
             "#7201a8"
            ],
            [
             0.3333333333333333,
             "#9c179e"
            ],
            [
             0.4444444444444444,
             "#bd3786"
            ],
            [
             0.5555555555555556,
             "#d8576b"
            ],
            [
             0.6666666666666666,
             "#ed7953"
            ],
            [
             0.7777777777777778,
             "#fb9f3a"
            ],
            [
             0.8888888888888888,
             "#fdca26"
            ],
            [
             1,
             "#f0f921"
            ]
           ]
          },
          "colorway": [
           "#636efa",
           "#EF553B",
           "#00cc96",
           "#ab63fa",
           "#FFA15A",
           "#19d3f3",
           "#FF6692",
           "#B6E880",
           "#FF97FF",
           "#FECB52"
          ],
          "font": {
           "color": "#2a3f5f"
          },
          "geo": {
           "bgcolor": "white",
           "lakecolor": "white",
           "landcolor": "#E5ECF6",
           "showlakes": true,
           "showland": true,
           "subunitcolor": "white"
          },
          "hoverlabel": {
           "align": "left"
          },
          "hovermode": "closest",
          "mapbox": {
           "style": "light"
          },
          "paper_bgcolor": "white",
          "plot_bgcolor": "#E5ECF6",
          "polar": {
           "angularaxis": {
            "gridcolor": "white",
            "linecolor": "white",
            "ticks": ""
           },
           "bgcolor": "#E5ECF6",
           "radialaxis": {
            "gridcolor": "white",
            "linecolor": "white",
            "ticks": ""
           }
          },
          "scene": {
           "xaxis": {
            "backgroundcolor": "#E5ECF6",
            "gridcolor": "white",
            "gridwidth": 2,
            "linecolor": "white",
            "showbackground": true,
            "ticks": "",
            "zerolinecolor": "white"
           },
           "yaxis": {
            "backgroundcolor": "#E5ECF6",
            "gridcolor": "white",
            "gridwidth": 2,
            "linecolor": "white",
            "showbackground": true,
            "ticks": "",
            "zerolinecolor": "white"
           },
           "zaxis": {
            "backgroundcolor": "#E5ECF6",
            "gridcolor": "white",
            "gridwidth": 2,
            "linecolor": "white",
            "showbackground": true,
            "ticks": "",
            "zerolinecolor": "white"
           }
          },
          "shapedefaults": {
           "line": {
            "color": "#2a3f5f"
           }
          },
          "ternary": {
           "aaxis": {
            "gridcolor": "white",
            "linecolor": "white",
            "ticks": ""
           },
           "baxis": {
            "gridcolor": "white",
            "linecolor": "white",
            "ticks": ""
           },
           "bgcolor": "#E5ECF6",
           "caxis": {
            "gridcolor": "white",
            "linecolor": "white",
            "ticks": ""
           }
          },
          "title": {
           "x": 0.05
          },
          "xaxis": {
           "automargin": true,
           "gridcolor": "white",
           "linecolor": "white",
           "ticks": "",
           "title": {
            "standoff": 15
           },
           "zerolinecolor": "white",
           "zerolinewidth": 2
          },
          "yaxis": {
           "automargin": true,
           "gridcolor": "white",
           "linecolor": "white",
           "ticks": "",
           "title": {
            "standoff": 15
           },
           "zerolinecolor": "white",
           "zerolinewidth": 2
          }
         }
        },
        "title": {
         "text": "3D Brain Data Visualization"
        }
       }
      }
     },
     "metadata": {},
     "output_type": "display_data"
    }
   ],
   "source": [
    "import plotly.graph_objs as go\n",
    "import numpy as np\n",
    "\n",
    "# Example of creating a 3D plot of brain data\n",
    "# Replace this with actual brain data coordinates for better representation\n",
    "\n",
    "# Random coordinates for demonstration purposes\n",
    "x = np.random.uniform(-80, 80, 10)  # Example x-coordinates\n",
    "y = np.random.uniform(-80, 80, 10)  # Example y-coordinates\n",
    "z = np.random.uniform(-80, 80, 10)  # Example z-coordinates\n",
    "\n",
    "trace = go.Scatter3d(\n",
    "    x=x, y=y, z=z,\n",
    "    mode='markers',\n",
    "    marker=dict(size=5, color='blue')\n",
    ")\n",
    "\n",
    "layout = go.Layout(\n",
    "    title=\"3D Brain Data Visualization\",\n",
    "    scene=dict(\n",
    "        xaxis=dict(title='X'),\n",
    "        yaxis=dict(title='Y'),\n",
    "        zaxis=dict(title='Z')\n",
    "    )\n",
    ")\n",
    "\n",
    "fig = go.Figure(data=[trace], layout=layout)\n",
    "fig.show()\n"
   ]
  },
  {
   "cell_type": "code",
   "execution_count": 3,
   "metadata": {},
   "outputs": [
    {
     "data": {
      "application/vnd.plotly.v1+json": {
       "config": {
        "plotlyServerURL": "https://plot.ly"
       },
       "data": [
        {
         "color": "lightblue",
         "opacity": 0.3,
         "showscale": false,
         "type": "mesh3d",
         "x": {
          "bdata": "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",
          "dtype": "f8"
         },
         "y": {
          "bdata": "AAAAAAAAAAAAAAAAAAAAAAAAAAAAAAAAAAAAAAAAAAAAAAAAAAAAAAAAAAAAAAAAAAAAAAAAAAAAAAAAAAAAAAAAAAAAAAAAAAAAAAAAAAAAAAAAAAAAAAAAAAAAAAAAAAAAAAAAAAAAAAAAAAAAAAAAAAAAAAAAAAAAAAAAAAAAAAAAAAAAAAAAAAAAAAAAAAAAAAAAAAAAAAAAAAAAAAAAAAAAAAAAAAAAAAAAAAAAAAAAAAAAAAAAAAAAAAAAAAAAAAAAAAAAAAAAAAAAAAAAAAAAAAAAAAAAAAAAAAAAAAAAAAAAAAAAAAAAAAAAAAAAAAAAAAAAAAAAAAAAAAAAAAAAAAAAAAAAAAAAAAAAAAAAAAAAAAAAAAAAAAAAAAAAAAAAAAAAAAAAAAAAAAAAAAAAAAAAAAAAAAAAAAAAAAAAAAAAAAAAAAAAAAAAAAAAAAAAAAAAAAAAAAAAAAAAAAAAAAAAAAAAAAAAAAAAAAAAAAAAAAAAAAAAAAAAAAAAAAAAAAAAAAAAAAAAAAAAAAAAAAAAAAAAAAAAAAAAAAAAAAAAAAAAAAAAAAAAAAAAAAAAAAAAAAAAAAAAAAAAAAAAAAAAAAAAAAAAAAAAAAAAAAAAAAAAAAAAAAAAAAAAAAAAAAAAAAAAAAAAAAAAAAAAAAAAAAAAAAAAAAAAAAAAAAAAAAAAAAAAAAAAAAAAAAAAAAAAAAAAAAAAAAAAAAAAAAAAAAAAAAAAAAAAAAAAAAAAAAAAAAAAAAAAAAAAAAAAAAAAAAAAAAAAAAAAAAAAAAAAAAAAAAAAAAAAAAAAAAAAAAAAAAAAAAAAAAAAAAAAAAAAAAAAAAAAAAAAAAAAAAAAAAAAAAAAAAAAAAAAAAAAAAAAAAAAAAAAAAAAAAAAAAAAAAAAAAAAAAAAAAAAAAAAAAAAAAAAAAAAAAAAAAAAAAAAAAAAAAAAAAAAAAAAAAAAAAAAAAAAAAAAAAAAAAAAAAAAAAAAAAAAAAAAAAAAAAAAAAAAAAAAAAAAAAAAAAAAAAAAAAAAAAAAAAAAAAAAAAAAAAAAAAAAAAAAAAAAANKpQ1Emm6Q/nb/RbX6YtD/xIF+bGt6+P3Jht+3gjcQ/PVSaMminyT+wQpOVUrrOP4l9HqKo4tE/GnBwu4tj1D8UZx9jLd/WP4gTXMDpVNk/2Alkfx7E2z/qmFn7KizeP4FH1jM4RuA/5J+E/Chy4T8an+GGmpniP7Cv2KpAvOM/6V+4fNDZ5D9eVoJgAPLlP+i95ByIBOc/BEXY7SAR6D8E5N2WhRfpP0m213RyF+o/9Ex4j6UQ6z9g/EOq3gLsP2LCH1Xf7ew/kYBp/GrR7T+GZJX4Rq3uP7x3TJ06ge8/ljgEpIcm8D9xghQ3SIjwP/6HP9XF5fA/uRElZeg+8T8witLsmJPxPwgvr5fB4/E/+KMcvE0v8j+AdMrgKXbyP8Qku8FDuPI/ZYb5VIr18j+ZGv3O7S3zP6pfvKZfYfM/N/1rmdKP8z/01+mtOrnzP1wr0zeN3fM/m91E2sD88z88WEWKzRb0P0JG15CsK/Q/5q60jFg79D+9+rFzzUX0P82HyJMIS/Q/zYfIkwhL9D+9+rFzzUX0P+autIxYO/Q/QkbXkKwr9D88WEWKzRb0P5vdRNrA/PM/XCvTN43d8z/01+mtOrnzPzf9a5nSj/M/ql+8pl9h8z+ZGv3O7S3zP2WG+VSK9fI/xCS7wUO48j+AdMrgKXbyP/ijHLxNL/I/CC+vl8Hj8T8vitLsmJPxP7gRJWXoPvE//oc/1cXl8D9yghQ3SIjwP5U4BKSHJvA/vHdMnTqB7z+GZJX4Rq3uP5KAafxq0e0/YMIfVd/t7D9f/EOq3gLsP/ZMeI+lEOs/S7bXdHIX6j8C5N2WhRfpPwRF2O0gEeg/6b3kHIgE5z9cVoJgAPLlP+lfuHzQ2eQ/sK/YqkC84z8cn+GGmpniP+KfhPwocuE/gEfWMzhG4D/qmFn7KizeP9wJZH8exNs/hBNcwOlU2T8UZx9jLd/WPxtwcLuLY9Q/jX0eoqji0T+qQpOVUrrOPz1UmjJop8k/d2G37eCNxD/cIF+bGt6+P5O/0W1+mLQ/06lDUSabpD8w/Gy2LGOmPAAAAAAAAAAAB0y9coeQtD9yYbft4I3EP7M+68Yxzs4/PxE+5kiD1D/FRfZIL5rZP9IgTDJ8qt4/mkg2vnDZ4T9w2pKFCVnkP7BDwZBj0+Y/gQRlW9tH6T8K+2XlzrXrP6mpstydHO4/BNJJ49Q98D8SvkIUK2nxP7VTR1gEkPI/InuDrhSy8z+ALuNREc/0P1l6WMyw5vU/+CHLCav49j9TBq1quQT4P26FLtaWCvk/siAOzP8J+j8z0/51sgL7P26boLhu9Ps/vtgGRPbe/D8OOsijDML9P8YZlE53nf4/uUJJtf1w/z8gHcWoNB4AQMym5dnCfwBAY2FrSBDdAEC82GHnBDYBQPwVrsiJigFAHcP3IonaAUB610ZX7iUCQLZaVPalbAJASt+MxZ2uAkAVasPDxOsCQP2Qky0LJANALa9xgWJXA0D7ImiDvYUDQKKegEAQrwNAuqrYEVDTA0Abj2Cfc/IDQCHtQ+JyDARALGz7JkchBEAF8AYP6zAEQAjnT5JaOwRA0VQzAJNABEDRVDMAk0AEQAjnT5JaOwRABfAGD+swBEAsbPsmRyEEQCHtQ+JyDARAG49gn3PyA0C6qtgRUNMDQKKegEAQrwNA+yJog72FA0Atr3GBYlcDQP2Qky0LJANAFWrDw8TrAkBJ34zFna4CQLdaVPalbAJAetdGV+4lAkAdw/ciidoBQPoVrsiJigFAvNhh5wQ2AUBjYWtIEN0AQMym5dnCfwBAIB3FqDQeAEC5Qkm1/XD/P8YZlE53nf4/DzrIowzC/T+82AZE9t78P22boLhu9Ps/NNP+dbIC+z+0IA7M/wn6P2yFLtaWCvk/UwatarkE+D/5IcsJq/j2P1h6WMyw5vU/gC7jURHP9D8ie4OuFLLzP7dTR1gEkPI/EL5CFCtp8T8C0knj1D3wP6mpstydHO4/Dvtl5c616z99BGVb20fpP7BDwZBj0+Y/ctqShQlZ5D+dSDa+cNnhP8wgTDJ8qt4/xUX2SC+a2T9EET7mSIPUP54+68Yxzs4/aGG37eCNxD8ITL1yh5C0P1Bbm82iV7Y8AAAAAAAAAABzXHfySL6+P7BCk5VSus4/jNDNfsoG1z/SIEwyfKrePzeDSiMjI+M/ZBJNUxns5j/QJy3kJq/qP+Dc0pZTa+4/DUgGedQP8T8rvQtBmeXyP2Zx0Qt/tvQ/GtoeAw6C9j98LQ+xz0f4PwWAmh5PB/o/+TC88RjA+z+W4C6Lu3H9P7dFtiPHG/8/I6t39OZeAEB+qs8MsisBQEU8vRAQ9AFAlIEtWs23AkBO43B0t3YDQNqbPCmdMARASC5ajU7lBEDmhQENnZQFQPCO2ndbPgZAXzCjDF7iBkDkpXaEeoAHQPxRsx2IGAhA4Th8pl+qCEAeb9OG2zUJQAzhSsrXuglAxvNIKTI5CkDwm94RyrAKQEmjLLCAIQtA8fJV9jiLC0AX1vyj1+0LQLFGSU1DSQxA+HR2YWSdDEDj2OUwJeoMQBw9tvJxLw1AUFLdyThtDUBvesLJaaMNQAGcWfr20Q1AoO68W9T4DUAD00Tp9xcOQIDqHJxZLw5AoMNVbfM+DkAnk3JXwUYOQCeTclfBRg5AoMNVbfM+DkCA6hycWS8OQAPTROn3Fw5AoO68W9T4DUABnFn69tENQG96wslpow1AUFLdyThtDUAcPbbycS8NQOPY5TAl6gxA+HR2YWSdDECyRklNQ0kMQBbW/KPX7QtA8vJV9jiLC0BJoyywgCELQPCb3hHKsApAxPNIKTI5CkAK4UrK17oJQB5v04bbNQlA4jh8pl+qCED7UbMdiBgIQOSldoR6gAdAXzCjDF7iBkDxjtp3Wz4GQOOFAQ2dlAVASC5ajU7lBEDamzwpnTAEQFDjcHS3dgNAk4EtWs23AkBFPL0QEPQBQH+qzwyyKwFAIqt39OZeAEC3RbYjxxv/P5bgLou7cf0/+jC88RjA+z8BgJoeTwf6P3otD7HPR/g/GtoeAw6C9j9ocdELf7b0Pyi9C0GZ5fI/DUgGedQP8T/h3NKWU2vuP9YnLeQmr+o/YBJNUxns5j83g0ojIyPjP9ogTDJ8qt4/fNDNfsoG1z+hQpOVUrrOP3Zcd/JIvr4/jJGoqVOzwDwAAAAAAAAAANhMAcssZsQ/GnBwu4tj1D8zPr2fv47eP3DakoUJWeQ/Mu0Yf3Rl6T/g3NKWU2vuP11lkKuttPE/JdnoJyEv9D91Y4e1YKT2P0jG1SDKE/k/Anhit7x8+z9b6Exxmd79Py7oIY1hHABATn4FPU9FAUC/Dz8+yWkCQJYtgyyEiQNAuCu83DWkBEBibyhwlbkFQHQTI2dbyQZARwuSs0HTB0CfA/XKA9cIQDRaELhe1AlA4J0vLBHLCkCJJPuP27oLQNlf3BOAowxAJrfsv8KEDUD9ymqDaV4OQHQmskM8MA9AXIKx6gT6D0AS8G26x10QQC9ySP9UuhBACn58aJISEUA2/ig3aWYRQHGI1M7DtRFAMXn/uo0AEkD1w2m0s0YSQHwcC6YjiBJA4DC8sczEEkAawY80n/wSQOp02sqMLxNANmboU4hdE0Aha1/1hYYTQIJATR57qhNAG8vgiV7JE0Dnu81BKOMTQLr5WaDR9xNA4UgUUlUHFECRvzNXrxEUQKesnwTdFhRAp6yfBN0WFECRvzNXrxEUQOFIFFJVBxRAuvlZoNH3E0Dnu81BKOMTQBvL4IleyRNAgkBNHnuqE0Aha1/1hYYTQDZm6FOIXRNA6nTayowvE0AawY80n/wSQOEwvLHMxBJAfBwLpiOIEkD2w2m0s0YSQDF5/7qNABJAcYjUzsO1EUA1/ig3aWYRQAl+fGiSEhFAL3JI/1S6EEAT8G26x10QQFqCseoE+g9AdCayQzwwD0D9ymqDaV4OQCe37L/ChA1A1l/cE4CjDECIJPuP27oLQOGdLywRywpANloQuF7UCUCeA/XKA9cIQEcLkrNB0wdAdhMjZ1vJBkBhbyhwlbkFQLgrvNw1pARAli2DLISJA0DADz8+yWkCQEx+BT1PRQFALOghjWEcAEBb6Exxmd79PwZ4Yre8fPs/RMbVIMoT+T91Y4e1YKT2PybZ6CchL/Q/YGWQq6208T/a3NKWU2vuPzLtGH90Zek/dtqShQlZ5D8ePr2fv47ePxBwcLuLY9Q/2kwByyxmxD/M9Q/TninGPAAAAAAAAAAAToE9+y1YyT+IE1zA6VTZPyNYcnKa++I/gQRlW9tH6T+Z5rQDmI3vPyu9C0GZ5fI/Jkb9gof/9T9IxtUgyhP5P1GV7OmVIfw/VAQqWCEo/z804fxhUhMBQGX04EstjgJAArVowT8EBEDBYdxVKXUFQGr7//CK4AZAZn2W5wZGCEBWAIcTQaUJQLmNneve/QpA3IThmodPDEBQjXsX5JkNQL8vJTmf3A5APyaO57ILEEDQY8pa86QQQIlxUXXpORFAfHFM0W7KEUAGXuktXlYSQOpY9XiT3RJAs/go2OtfE0CvLiSyRd0TQNN0F7eAVRRA1AcY6X3IFED9Bx2kHzYVQH5xo6VJnhVACPT2E+EAFkAMyR2FzF0WQNi/ZQX0tBZAQc+QHUEGF0CGlZ/YnlEXQDVIOMn5lhdAj6+oDkDWF0AN44FZYQ8YQNyWzO9OQhhA5eTUsPtuGEDalowYXJUYQBISg0JmtRhAKiFy7BHPGEBO8154WOIYQJLETu407xhA376O/aP1GEDfvo79o/UYQJLETu407xhATvNeeFjiGEAqIXLsEc8YQBISg0JmtRhA2paMGFyVGEDl5NSw+24YQNyWzO9OQhhADeOBWWEPGECPr6gOQNYXQDVIOMn5lhdAhpWf2J5RF0BAz5AdQQYXQNi/ZQX0tBZADMkdhcxdFkAI9PYT4QAWQHtxo6VJnhVA/AcdpB82FUDUBxjpfcgUQNR0F7eAVRRAry4kskXdE0Cz+CjY618TQOpY9XiT3RJAB17pLV5WEkB6cUzRbsoRQIhxUXXpORFA0GPKWvOkEEBBJo7nsgsQQL4vJTmf3A5AUI17F+SZDUDdhOGah08MQLaNneve/QpAVgCHE0GlCUBmfZbnBkYIQG37//CK4AZAvWHcVSl1BUABtWjBPwQEQGX04EstjgJAN+H8YVITAUBQBCpYISj/P1GV7OmVIfw/SsbVIMoT+T8sRv2Ch//1Pye9C0GZ5fI/mea0A5iN7z+HBGVb20fpPxZYcnKa++I/fBNcwOlU2T9RgT37LVjJP/Ld1n4Rics8AAAAAAAAAABjkooDDzDOP+qYWfsqLN4/1qelskOc5j+pqbLcnRzuP5/7qXyayvI/GtoeAw6C9j9DozZAtDP6P1voTHGZ3v0/jdK3yOXAAEBl9OBLLY4CQKrDrVqsVgRAvu9KSe0ZBkBz9NrFe9cHQH/zcfbkjglAnKWwlrc/C0DlwfYUhOkMQIxUJa/ciw5Aqs10xyoTEEBSjsRyQtwQQHnnk4MBoRFAbaTAQjVhEkAXCwclrBwTQG06x9c10xNAAvJ5TaOEFEDPjNHJxjAVQKoOhO1z1xVArTq7wX94FkCgvyfDwBMXQJGftOwOqRdAnhDYwUM4GED+LX9YOsEYQNHqkWLPQxlArNIMN+G/GUBlP67aTzUaQIzHNAj9oxpAmMUsOMwLG0DI9EqoomwbQIc+UmJnxhtANPGCQgMZHEB5t5H9YGQcQOXGJCZtqBxAStvVMRblHECgtLd9TBodQOzsXVICSB1ATBxm5ytuHUCyYYFmv4wdQBGI/e20ox1AeCDNkgazHUA5Cw5isLodQDkLDmKwuh1AeCDNkgazHUARiP3ttKMdQLJhgWa/jB1ATBxm5ytuHUDs7F1SAkgdQKC0t31MGh1AStvVMRblHEDlxiQmbagcQHm3kf1gZBxANPGCQgMZHECIPlJiZ8YbQMb0SqiibBtAmsUsOMwLG0CMxzQI/aMaQGU/rtpPNRpAq9IMN+G/GUDQ6pFiz0MZQP4tf1g6wRhAnxDYwUM4GECQn7TsDqkXQKC/J8PAExdArTq7wX94FkCrDoTtc9cVQM6M0cnGMBVAAvJ5TaOEFEBtOsfXNdMTQBkLByWsHBNAbKTAQjVhEkB555ODAaERQFKOxHJC3BBAqs10xyoTEECMVCWv3IsOQOXB9hSE6QxAnaWwlrc/C0B783H25I4JQHL02sV71wdAvu9KSe0ZBkCtw61arFYEQGP04EstjgJAjdK3yOXAAEBe6Exxmd79P0mjNkC0M/o/FNoeAw6C9j+f+6l8msryP7GpstydHO4/x6elskOc5j/cmFn7KizeP2SSigMPMM4/ZkLI6hBm0DwAAAAAAAAAANFF5+VodNE/5J+E/Chy4T+0Q8RHniXqPxK+QhQrafE/4AOvFwq79T8FgJoeTwf6P5RaHIveTP4/Tn4FPU9FAUCiytKFu18DQMFh3FUpdQVAyuWVLA+FB0B/83H25I4JQES09S8kkgtA4U9lCEiODUCVTQCEzYIPQLaI4s6ZtxBA82BZtH2pEUCOgUAY1JYSQEaM4sxffxNAGBK+4ORiFEDeMPmtKEEVQDqzf+nxGRZAa83HsQjtFkA4qDmdNroXQJ4DNshGgRhAnFO44gVCGUB005A9QvwZQJMmM9fLrxpA+zkWaHRcG0CcNaJuDwIcQGlqqTpyoBxABUhp+HM3HUAOhBC77cYdQGK8x4a6Th5AZf45WrfOHkATvpo3w0YfQIHpJi2/th9AxXOPLkcPIEC7uZsCCz8gQCC1v8KeaiBAYmFcM/eRIEDEhhEwCrUgQCb/Wq7O0yBAEFPlvzzuIEBOFZmUTQQhQB12XHz7FSFAHJqK6EEjIUAsVCBtHSwhQNX0ncGLMCFA1fSdwYswIUAsVCBtHSwhQByaiuhBIyFAHXZcfPsVIUBOFZmUTQQhQBBT5b887iBAJv9ars7TIEDEhhEwCrUgQGJhXDP3kSBAILW/wp5qIEC7uZsCCz8gQMZzjy5HDyBAgOkmLb+2H0AUvpo3w0YfQGX+OVq3zh5AYrzHhrpOHkALhBC77cYdQARIafhzNx1AaWqpOnKgHECeNaJuDwIcQPo5Fmh0XBtAkyYz18uvGkB005A9QvwZQJ1TuOIFQhlAmwM2yEaBGEA3qDmdNroXQGzNx7EI7RZAPLN/6fEZFkDcMPmtKEEVQBgSvuDkYhRAR4zizF9/E0CNgUAY1JYSQPNgWbR9qRFAtojizpm3EECWTQCEzYIPQN5PZQhIjg1AQbT1LySSC0B/83H25I4JQM7llSwPhQdAvWHcVSl1BUCiytKFu18DQE9+BT1PRQFAmloci95M/j8AgJoeTwf6P+ADrxcKu/U/F75CFCtp8T+iQ8RHniXqP9yfhPwocuE/0kXn5Wh00T8LhQ2hsfbSPAAAAAAAAAAAZPjbJ8y+0z+wr9iqQLzjP9QCrO8ElO0/InuDrhSy8z/OgFQyE5X4P5bgLou7cf0/8vqOcWYjAUCWLYMshIkDQIZAbKmY6gVAZn2W5wZGCEA6uxpbM5sKQOXB9hSE6QxA7T676mAwD0C2iOLOmbcQQEfo+wC00hFAjcj3ETbpEkDJCFA32PoTQCTNK+hTBxVAfwOO72MOFkBPTSx+xA8XQEO16TszCxhAOK/wWG8AGUAO+meeOe8ZQNUUvn5U1xpAExSHJYS4G0AjwOiGjpIcQOsCkW47ZR1AmMkyjlQwHkBMnoWLpfMeQPpdxA38rh9ABchT5RMxIECWA2xJfYYgQBFL6y6k1yBAWuOqqnMkIUAAUwHw12whQCrv3FW+sCFAij6TWxXwIUDm9GOtzCoiQIhdrijVYCJAzR7Y3yCSIkBuVeQdo74iQIsaumlQ5iJAYJwZiR4JI0BrBj+DBCcjQBuLMqP6PyNAY/bEefpTI0AbRjjf/mIjQLXak/QDbSNArOijJAdyI0Cs6KMkB3IjQLXak/QDbSNAG0Y43/5iI0Bj9sR5+lMjQBuLMqP6PyNAawY/gwQnI0BgnBmJHgkjQIsaumlQ5iJAblXkHaO+IkDNHtjfIJIiQIhdrijVYCJA5/RjrcwqIkCKPpNbFfAhQCrv3FW+sCFAAFMB8NdsIUBa46qqcyQhQBBL6y6k1yBAlgNsSX2GIEAFyFPlEzEgQPtdxA38rh9ASp6Fi6XzHkCYyTKOVDAeQOsCkW47ZR1AJMDoho6SHEAQFIclhLgbQNQUvn5U1xpAEPpnnjnvGUA6r/BYbwAZQEK16TszCxhAT00sfsQPF0CAA47vYw4WQCPNK+hTBxVAyQhQN9j6E0CNyPcRNukSQEjo+wC00hFAtIjizpm3EEDqPrvqYDAPQOXB9hSE6QxAPrsaWzObCkBjfZbnBkYIQIZAbKmY6gVAli2DLISJA0D1+o5xZiMBQI/gLou7cf0/zoBUMhOV+D8ne4OuFLLzP78CrO8ElO0/pq/YqkC84z9m+NsnzL7TPzN8gATGc9U8AAAAAAAAAABvx5TR1PTVP15WgmAA8uU/DV1pGPdx8D9ZeljMsOb1P2vzREPFVfs/I6t39OZeAECkUwj9sg4DQGJvKHCVuQVAiOvWRt5eCEC5jZ3r3v0KQKeZkWfqlQ1Aqs10xyoTEEDDa46WO1cRQI6BQBjUlhJAdoGt6qHRE0AkzSvoUwcVQNGKMDyaNxZATpTjdyZiF0DHMVemq4YYQENqXmDepBlAr8z833S8GkDormoTJ80bQOr7qK+u1hxAJMefQsfYHUBc+cJELtMeQNGKOCqjxR9AdO+9ufNXIEDE+7xe38ggQHwskWh3NSFAlE002Z+dIUACZVnXPQEiQFRuWLU3YCJA/tjM93S6IkCQFOVb3g8jQGiKYd1dYCNANnlBvN6rI0DIOxyCTfIjQDGaJQeYMyRAPdrbdq1vJEBRWl5UfqYkQIaYa3781yRAc54FMxsEJUBj4bsSzyolQN69mSMOTCVALM24089nJUACa3b7DH4lQKvZS9+/jiVA4YpIMeSZJUD8Ky4Sd58lQPwrLhJ3nyVA4YpIMeSZJUCr2Uvfv44lQAJrdvsMfiVALM24089nJUDevZkjDkwlQGPhuxLPKiVAc54FMxsEJUCGmGt+/NckQFFaXlR+piRAPdrbdq1vJEAxmiUHmDMkQMc7HIJN8iNAN3lBvN6rI0BoimHdXWAjQJAU5VveDyNA/djM93S6IkBUbli1N2AiQAJlWdc9ASJAlU002Z+dIUB8LJFodzUhQMT7vF7fyCBAdO+9ufNXIEDSijgqo8UfQFr5wkQu0x5AIcefQsfYHUDr+6ivrtYcQOuuahMnzRtArsz833S8GkBDal5g3qQZQMgxV6arhhhATJTjdyZiF0DRijA8mjcWQCTNK+hTBxVAd4Gt6qHRE0CLgUAY1JYSQMJrjpY7VxFAqs10xyoTEECsmZFn6pUNQLSNneve/QpAiOvWRt5eCEBkbyhwlbkFQKhTCP2yDgNAIKt39OZeAEBr80RDxVX7P196WMyw5vU/Al1pGPdx8D9UVoJgAPLlP3DHlNHU9NU/uhH3Xb3a1zwAAAAAAAAAAF+0NGg7FNg/BEXY7SAR6D/eI9T/9wjyP1MGrWq5BPg/h4Ml4En6/T9FPL0QEPQBQE5q6nZa5gRARwuSs0HTB0DErC27BLoKQFCNexfkmQ1A6YNsDBE5EEB555ODAaERQNSuGKlmBBNAGBK+4ORiFEBPDsPRIbwVQE9NLH7EDxdAcqq0WXVdGEBDal5g3qQZQANUnyyr5RpA5vUhDYkfHEBseBYaJ1IdQC2CDUo2fR5A/MtXhmmgH0BzknLful0gQGHjzv4I5yBARX+YvPtrIUC1J6rTcOwhQDAuNydHaCJAUYVUy17fIkAbOzMNmVEjQHY9CnvYviNAjl6t6wAnJEBapM+F94kkQDAE78ai5yRAxsHnieo/JUCXvy0NuJIlQBwmqvj13yVAod47Y5AnJkDGdtnXdGkmQNcZU1qSpSZAMWaza9nbJkCj/T0OPAwnQFPJCsmtNidACwM9qyNbJ0DyL9VOlHknQFxSHdv3kSdADbOuBkikJ0BJvBAZgLAnQOF78OuctidA4Xvw65y2J0BJvBAZgLAnQA2zrgZIpCdAXFId2/eRJ0DyL9VOlHknQAsDPasjWydAU8kKya02J0Cj/T0OPAwnQDFms2vZ2yZA1xlTWpKlJkDGdtnXdGkmQKHeO2OQJyZAGiaq+PXfJUCXvy0NuJIlQMbB54nqPyVAMATvxqLnJEBYpM+F94kkQI5eresAJyRAdj0Ke9i+I0AcOzMNmVEjQE+FVMte3yJAMC43J0doIkC1J6rTcOwhQEV/mLz7ayFAX+PO/gjnIEByknLful0gQP7LV4ZpoB9AMIINSjZ9HkBreBYaJ1IdQOb1IQ2JHxxABFSfLKvlGkBCal5g3qQZQHKqtFl1XRhAT00sfsQPF0BQDsPRIbwVQBUSvuDkYhRA0q4YqWYEE0B555ODAaERQOyDbAwRORBATY17F+SZDUDErC27BLoKQEgLkrNB0wdAUmrqdlrmBEBBPL0QEPQBQIeDJeBJ+v0/WgatarkE+D/RI9T/9wjyP/hE2O0gEeg/YLQ0aDsU2D/Hs8zBHSnaPAAAAAAAAAAAqBOHxc8a2j9Jttd0chfqP5JTyaFhjfM/siAOzP8J+j+HAjLV8z8AQE7jcHS3dgNA5ho4rnaoBkA0WhC4XtQJQJiG7Eie+QxAPyaO57ILEEBiuObSc5YRQBcLByWsHBNAdiahR/edFEA6s3/p8RkWQNHXHxg6kBdAOK/wWG8AGUB+1zHCMmoaQOiuahMnzRtAGfFzzfAoHUAtgg1KNn0eQFBT+tKfyR9A8jVO3OuGIECioQU0xSQhQMtcT0AzviFABpF0dA5TIkA7e41xMOMiQD15ZRB0biNAnL4Oa7X0I0CuOCPm0XUkQCo/sDmo8SRAqMTKeRhoJUD40MkeBNklQD8mJQ1ORCZAlQn2nNqpJkAMQBihjwknQJxp6W1UYydAxfyk3xG3J0A+P1tgsgQoQBCyge0hTChA9IEbHU6NKECSp3giJsgoQHB+itKa/ChAwrTMp54qKUAjksHFJVIpQDOvAPwlcylAUVTXyJaNKUAq0nlbcaEpQFxDxZWwrilAXEORDVG1KUBcQ5ENUbUpQFxDxZWwrilAKtJ5W3GhKUBRVNfIlo0pQDOvAPwlcylAI5LBxSVSKUDCtMynniopQHB+itKa/ChAkqd4IibIKED0gRsdTo0oQBCyge0hTChAPj9bYLIEKEDF/KTfEbcnQJ1p6W1UYydADEAYoY8JJ0CVCfac2qkmQDwmJQ1ORCZA9tDJHgTZJUCoxMp5GGglQCo/sDmo8SRArTgj5tF1JECcvg5rtfQjQD15ZRB0biNAPHuNcTDjIkAFkXR0DlMiQMlcT0AzviFAo6EFNMUkIUDzNU7c64YgQE5T+tKfyR9ALYINSjZ9HkAc8XPN8CgdQOauahMnzRtAftcxwjJqGkA4r/BYbwAZQNPXHxg6kBdAOLN/6fEZFkB0JqFH950UQBcLByWsHBNAZLjm0nOWEUA+Jo7nsgsQQJiG7Eie+QxANloQuF7UCUDqGjiudqgGQErjcHS3dgNAhwIy1fM/AEC4IA7M/wn6P4RTyaFhjfM/PLbXdHIX6j+pE4fFzxraP7vSV52GXNw8AAAAAAAAAABBhmlZewbcP2D8Q6reAuw/HKbxm6P99D9um6C4bvT7P+sCCo8CcgFASC5ajU7lBEDUHjSnN1MIQIkk+4/bugtA5d7XmFkbD0CJcVF16TkRQNjlql+14RJAAvJ5TaOEFEBh4e1BRyIWQDioOZ02uhdAp+8POAhMGUDVFL5+VNcaQHge34u1WxxAJMefQsfYHUDO1oxoJ04fQHOSct+6XSBA+F20DSoQIUDLXE9AM74hQLDUxZqpZyJAvB5pbmEMI0CAN5xFMKwjQCScxe7sRiRAAKLthm/cJEA2jAaEkWwlQJW4274t9yVAelSlfCB8JkB4IT54R/smQDPq+OqBdCdAXmATlbDnJ0BmNsTFtVQoQD5h4mJ1uyhAPIkj8NQbKUAEzO+Vu3UpQPAMyScSySlAky1EKsMVKkDYo5LYulsqQKIAmynnmipAdBaf1DfTKkB2jW5VngQrQLjPJPANLytA+lZxtHtSK0Akg2mA3m4rQIM/4wIvhCtAZttXvWeSK0CnmU4FhZkrQKeZTgWFmStAZttXvWeSK0CDP+MCL4QrQCSDaYDebitA+lZxtHtSK0C4zyTwDS8rQHaNblWeBCtAdBaf1DfTKkCiAJsp55oqQNijkti6WypAky1EKsMVKkDwDMknEskpQAPM75W7dSlAPokj8NQbKUA+YeJidbsoQGY2xMW1VChAW2ATlbDnJ0Ay6vjqgXQnQHghPnhH+yZAe1SlfCB8JkCUuNu+LfclQDaMBoSRbCVAAKLthm/cJEAknMXu7EYkQH43nEUwrCNAux5pbmEMI0Cy1MWaqWciQMxcT0AzviFA+F20DSoQIUBzknLful0gQNDWjGgnTh9AIcefQsfYHUB4Ht+LtVscQNUUvn5U1xpAqu8POAhMGUA0qDmdNroXQGDh7UFHIhZAAvJ5TaOEFEDc5apfteESQIZxUXXpORFA5d7XmFkbD0CKJPuP27oLQNgeNKc3UwhARC5ajU7lBEDrAgqPAnIBQHSboLhu9Ps/Dabxm6P99D9T/EOq3gLsP0KGaVl7Btw/0GM+KrNy3jwAAAAAAAAAAIL+1VBD1d0/kYBp/GrR7T/VE6VSQlj2Pw46yKMMwv0/WO/6nxWSAkDwjtp3Wz4GQOvGqXnl5AlAJrfsv8KEDUD1sc4Ogo4QQAZe6S1eVhJAcRhzO4AZFECqDoTtc9cVQAuvGVDGjxdAnFO44gVCGUAIKK21wu0aQCPA6IaOkhxA9e5q3vwvHkDRijgqo8UfQKj06WyMqSBARX+YvPtrIUBuFo9l7SkiQDt7jXEw4yJA1vNKH5WXI0AknMXu7EYkQKvlPq0K8SRAtS/igMKVJUDYdhL06TQmQAAyXABYziZAyIoIGeVhJ0A+N081a+8nQElUJNrFdihA5rmfI9L3KEB3XPvNbnIpQNlpJj585ilAUuzqidxTKkC42aN/c7oqQAuSga0mGitA1e1aaN1yK0CSGgnSgMQrQHChTN/7DixAcxM6XTtSLEAd9Sz2LY4sQNmiPzbEwixAdAdHj/DvLEDDHVFcpxUtQMtWpeTeMy1Adx5GXo9KLUBs2fLvslktQIzXqbJFYS1AjNepskVhLUBs2fLvslktQHceRl6PSi1Ay1al5N4zLUDDHVFcpxUtQHQHR4/w7yxA2aI/NsTCLEAd9Sz2LY4sQHMTOl07UixAcKFM3/sOLECSGgnSgMQrQNbtWmjdcitACpKBrSYaK0C52aN/c7oqQFLs6oncUypA2WkmPnzmKUB1XPvNbnIpQOW5nyPS9yhASVQk2sV2KEA/N081a+8nQMiKCBnlYSdAADJcAFjOJkDYdhL06TQmQLYv4oDClSVAqeU+rQrxJEAinMXu7EYkQNfzSh+VlyNAPXuNcTDjIkBtFo9l7SkiQEV/mLz7ayFAqfTpbIypIEDQijgqo8UfQPXuat78Lx5AI8Doho6SHEAJKK21wu0aQJhTuOIFQhlACK8ZUMaPF0CqDoTtc9cVQHMYczuAGRRAA17pLV5WEkD1sc4Ogo4QQCi37L/ChA1A8capeeXkCUDrjtp3Wz4GQFjv+p8VkgJAFjrIowzC/T/FE6VSQlj2P4KAafxq0e0/hf7VUEPV3T8PX5FivjTgPAAAAAAAAAAAispUoEqF3z+8d0ydOoHvPze4OXjYm/c/uUJJtf1w/z/oTfITBJ8DQOSldoR6gAdAcTRkFuJbC0B0JrJDPDAPQHIM3CtGfhFAs/go2OtfE0Amez3/kjwVQKC/J8PAExdAF18yr/vkGECTJjPXy68aQFiudPa6cxxAmMkyjlQwHkDd8qEDJuUfQMT7vF7fyCBAgiJ+INiaIUAwLjcnR2giQISKgH73MCNAnL4Oa7X0I0BoJwh4TrMkQDaMBoSRbCVALTPBzU4gJkAAMlwAWM4mQHLOWT+AdidAvNoqMpwYKECKElsPgrQoQGuXVqcJSilAyMXFbgzZKUDktnyIZWEqQD7g+87x4ipAOF1/3Y9dK0BDjZoYINErQHHOXbaEPSxA4joExqGiLEA2bic3XQAtQOt3d+CeVi1AHD/1hVClLUDKvK3eXewtQG6S9Jm0Ky5AwaMcZERjLkAwfK3q/pIuQFRqFODXui5AvF3Q/sTaLkDLtRcMvvIuQO9S99m8Ai9APF7qSL0KL0A8XupIvQovQO9S99m8Ai9Ay7UXDL7yLkC8XdD+xNouQFRqFODXui5AMHyt6v6SLkDBoxxkRGMuQG6S9Jm0Ky5Ayryt3l3sLUAcP/WFUKUtQOt3d+CeVi1AN24nN10ALUDhOgTGoaIsQHLOXbaEPSxAQ42aGCDRK0A4XX/dj10rQDzg+87x4ipA4rZ8iGVhKkDIxcVuDNkpQGyXVqcJSilAiRJbD4K0KEC82ioynBgoQHLOWT+AdidAATJcAFjOJkAsM8HNTiAmQDWMBoSRbCVAaScIeE6zJECevg5rtfQjQIOKgH73MCNAMC43J0doIkCDIn4g2JohQMP7vF7fyCBA3fKhAyblH0CYyTKOVDAeQFqudPa6cxxAjyYz18uvGkAWXzKv++QYQKC/J8PAExdAKHs9/5I8FUCw+CjY618TQHIM3CtGfhFAdiayQzwwD0B4NGQW4lsLQN+ldoR6gAdA6E3yEwSfA0DBQkm1/XD/Pye4OXjYm/c/q3dMnTqB7z+NylSgSoXfP6/Yn5JuH+E8AAAAAAAAAADlC973aYrgP3GCFDdIiPA/orpUfRjH+D/MpuXZwn8AQDMhhrK4lwRA4Th8pl+qCEDmnwDyqrYMQBLwbbrHXRBAaeOg+wFcEkDTdBe3gFUUQBlTm5/BSRZAnhDYwUM4GEB1epilhyAaQJw1om4PAhxA7ykn/V7cHUD6XcQN/K4fQDMCgyy3vCBAlE002Z+dIUBMj2cT/nkiQBs7Mw2ZUSNAezP3MjkkJEAqP7A5qPEkQNzJ9iyxuSVAelSlfCB8JkAxECMKxDgnQD43TzVr7ydA4M4J6eafKEBrl1anCUopQHAJF5Wn7SlAY1pYhZaKKkCAnjIEriArQL46NmHHrytAlPZkub03LEB9G7QAbrgsQM4uFQu3MS1AtvEClXmjLUAkc5BLmA0uQLcf+NP3by5AGN2o0n7KLkA3X8/xFR0vQDoIWuenZy9ALcZ1eiGqL0BGhIKIceQvQFz0voRECzBA5Z3xiS0gMEArvP9v7jAwQA1VXOWCPTBARvHjq+dFMECYmLKZGkowQJiYspkaSjBARvHjq+dFMEANVVzlgj0wQCu8/2/uMDBA5Z3xiS0gMEBc9L6ERAswQEaEgohx5C9ALcZ1eiGqL0A6CFrnp2cvQDdfz/EVHS9AGN2o0n7KLkC4H/jT928uQCRzkEuYDS5AuPEClXmjLUDOLhULtzEtQH0btABuuCxAk/Zkub03LEC9OjZhx68rQICeMgSuICtAZFpYhZaKKkBvCReVp+0pQGuXVqcJSilA4M4J6eafKEA/N081a+8nQC4QIwrEOCdAeFSlfCB8JkDdyfYssbklQCw/sDmo8SRAezP3MjkkJEAbOzMNmVEjQE2PZxP+eSJAk0002Z+dIUAzAoMst7wgQPpdxA38rh9A8Ckn/V7cHUCYNaJuDwIcQHJ6mKWHIBpAnhDYwUM4GEAdU5ufwUkWQNF0F7eAVRRAaeOg+wFcEkAU8G26x10QQOyfAPKqtgxA3Dh8pl+qCEAzIYayuJcEQM+m5dnCfwBAkLpUfRjH+D9pghQ3SIjwP+YL3vdpiuA/2F1VOXj44TwAAAAAAAAAABcEobIhQeE/uRElZeg+8T8kkMHozdj5P7zYYecENgFATa+4HDN7BUAM4UrK17oJQJazY5Pa8w1ACn58aJISEUCYlr/s0CYTQP0HHaQfNhVAtuL7ofY/F0DR6pFiz0MZQPIdkO0kQRtABUhp+HM3HUCD0CkIOyYfQJYDbEl9hiBA1CoqkJp1IUBUbli1N2AiQC0T/D4YRiNAjl6t6wAnJECjzt3BtwIlQPjQyR4E2SVARBwSxa6pJkAz6vjqgXQnQJBlP0hJOShA5rmfI9L3KEAvS+Bf668pQOS2fIhlYSpA1Vrh3RIMK0C+OjZhx68rQD46tt9YTCxA/L6P/Z7hLEAQ7UtAc28tQD7PuRix9S1AdNxa7DV0LkDCbE4e4eouQAbRuReUWS9AtuKqTzLAL0C5gTmpUA8wQGVTPGRkOjBAStI+PklhMEC/Wqww9YMwQCFQkEtfojBAKuHjt3+8MEAGYpO5T9IwQMO2OrHJ4zBAmFuYHenwMEBLq7acqvkwQDUXy+wL/jBANRfL7Av+MEBLq7acqvkwQJhbmB3p8DBAw7Y6scnjMEAGYpO5T9IwQCrh47d/vDBAIVCQS1+iMEC/Wqww9YMwQErSPj5JYTBAZVM8ZGQ6MEC5gTmpUA8wQLfiqk8ywC9ABdG5F5RZL0DDbE4e4eouQHTcWuw1dC5APs+5GLH1LUAO7UtAc28tQPq+j/2e4SxAPjq231hMLEC/OjZhx68rQNRa4d0SDCtA5LZ8iGVhKkAvS+Bf668pQOa5nyPS9yhAjmU/SEk5KEAy6vjqgXQnQEYcEsWuqSZA+tDJHgTZJUCizt3BtwIlQI5eresAJyRALhP8PhhGI0BTbli1N2AiQNQqKpCadSFAlgNsSX2GIECG0CkIOyYfQABIafhzNx1A8B2Q7SRBG0DR6pFiz0MZQLri+6H2PxdA+QcdpB82FUCYlr/s0CYTQAt+fGiSEhFAnLNjk9rzDUAH4UrK17oJQE2vuBwzewVAwNhh5wQ2AUASkMHozdj5P7ARJWXoPvE/GAShsiFB4T9a0oqc+77iPAAAAAAAAAAASRAEJxDm4T8IL6+XwePxPwUmbZXez/o/HcP3IonaAUBzWj7ViEgGQPCb3hHKsApAmzw3BCoSD0BxiNTOw7URQBjZDPDh3RNACPT2E+EAFkBwYbQ6NB4YQGU/rtpPNRpAyDiNBKpFHEBivMeGuk4eQNakXoj9JyBAWuOqqnMkIUA7+Y2WfhwiQJAU5VveDyNALGqgPlT+I0AwBO/GouckQPb7FtGNyyVAlQn2nNqpJkBXaibdT4InQGY2xMW1VChARFfPGtYgKUDZaSY+fOYpQIXxFj11pSpAOF1/3Y9dK0D8e3+qnA4sQH0btABuuCxAZqn6GdhaLUA+z7kYsfUtQCAgrBLRiC5AQhAqGxIUL0BIj/BMUJcvQB/gsOk0CTBAYraeeZ9CMEDqeWcJ2XcwQEBMx+DTqDBAgByaX4PVMEC+zRwB3P0wQHhR5V7TITFALvKQM2BBMUAnHShdelwxQNQNN98aczFAStCa5DuFMUAuJALB2JIxQLLcIfLtmzFAS26cIHmgMUBLbpwgeaAxQLLcIfLtmzFALiQCwdiSMUBK0JrkO4UxQNQNN98aczFAJx0oXXpcMUAu8pAzYEExQHhR5V7TITFAvs0cAdz9MECAHJpfg9UwQEBMx+DTqDBA63lnCdl3MEBhtp55n0IwQB/gsOk0CTBASI/wTFCXL0BCECobEhQvQB0grBLRiC5APM+5GLH1LUBmqfoZ2FotQH4btABuuCxA+3t/qpwOLEA4XX/dj10rQIXxFj11pSpA2mkmPnzmKUBBV88a1iApQGQ2xMW1VChAWGom3U+CJ0CXCfac2qkmQPT7FtGNyyVAMATvxqLnJEAtaqA+VP4jQI8U5VveDyNAO/mNln4cIkBa46qqcyQhQNekXoj9JyBAXrzHhrpOHkDFOI0EqkUcQGU/rtpPNRpAc2G0OjQeGEAE9PYT4QAWQBjZDPDh3RNAcojUzsO1EUChPDcEKhIPQOqb3hHKsApAc1o+1YhIBkAhw/ciidoBQPIlbZXez/o//y6vl8Hj8T9KEAQnEObhP32uhhoscuM8AAAAAAAAAACmNzVRi3jiP4B0yuApdvI/6Sw91Uur+z+2WlT2pWwCQE4gNTLm/gZA8fJV9jiLC0CILPoQOQgQQPXDabSzRhJAI2kQUHiAFEDYv2UF9LQWQCcvnlKV4xhAmMUsOMwLG0AqjeFdCi0dQBO+mjfDRh9AXa2/FDasIEAq79xVvrAhQCzk1Da3sCJANnlBvN6rI0AE4qgo9KEkQJe/LQ24kiVA3gXpWex9JkCcaeltVGMnQPQ21Ca1QihAPIkj8NQbKUBM9v3Re+4pQLjZo39zuipAD4huZYd/K0Bxzl22hD0sQBRAMHk69CxAtvEClXmjLUDcYXXdFEsuQMJsTh7h6i5AnUufJrWCL0Af4LDpNAkwQDZYxwztTDBAqkvVh3GMMEBhq2L7sccwQEKLdSGf/jBAZgKC0SoxMUD9dxAESF8xQCNsGdbqiDFA594VjAiuMUBwi8OUl84xQJhAnIuP6jFAVbT/OukBMkAWQw+enhQyQIYgO+KqIjJASZOAaAosMkCs6VjGujAyQKzpWMa6MDJASZOAaAosMkCGIDviqiIyQBZDD56eFDJAVbT/OukBMkCYQJyLj+oxQHCLw5SXzjFA594VjAiuMUAjbBnW6ogxQP13EARIXzFAZgKC0SoxMUBCi3Uhn/4wQGGrYvuxxzBAqkvVh3GMMEA2WMcM7UwwQB/gsOk0CTBAm0ufJrWCL0DAbE4e4eouQNxhdd0USy5AuPEClXmjLUAUQDB5OvQsQHHOXbaEPSxAD4huZYd/K0C52aN/c7oqQEr2/dF77ilAPIkj8NQbKUD1NtQmtUIoQJ5p6W1UYydA3QXpWex9JkCXvy0NuJIlQAXiqCj0oSRANXlBvN6rI0As5NQ2t7AiQCrv3FW+sCFAXq2/FDasIEAOvpo3w0YfQCiN4V0KLR1AmMUsOMwLG0AqL55SleMYQNS/ZQX0tBZAI2kQUHiAFED2w2m0s0YSQIss+hA5CBBA7PJV9jiLC0BOIDUy5v4GQLpaVPalbAJA1iw91Uur+z92dMrgKXbyP6g3NVGLeOI/0VXt/FAR5DwAAAAAAAAAAOARQTL89+I/ZYb5VIr18j9ttpd3M2r8PxVqw8PE6wJAD5VUN4+dB0CxRklNQ0kMQP9aD2fWdhBA4DC8sczEEkCWgotz7A0VQIaVn9ieURdA3JQ9c06PGUCHPlJiZ8YbQBpRkHdX9h1AxXOPLkcPIEDsBWfdPh8hQOb0Y63MKiJAJJbapqsxI0AxmiUHmDMkQOB/HVJPMCVAod47Y5AnJkACHWZ+GxknQD4/W2CyBChA1JHAThjqKEDwDMknEskpQMBnc3FmoSpA1e1aaN1yK0DcRBcOQT0sQDZuJzddAC1A721kmP+7LUC3H/jT928uQEzi1IUXHC9AtuKqTzLAL0AV+SvyDi4wQOp5ZwnZdzBAjAk6aGS9MEBCi3Uhn/4wQDukqmR4OzFAvUl+guBzMUBEy7TwyKcxQKpN8U0k1zFAGMAoZeYBMkAdZ8cwBCgyQEsuiN1zSTJA1gT9zCxmMkAinseXJ34yQJcDgg9ekTJA03lWQMufMkAOUEZya6kyQIZFHyo8rjJAhkUfKjyuMkAOUEZya6kyQNN5VkDLnzJAlwOCD16RMkAinseXJ34yQNYE/cwsZjJASy6I3XNJMkAdZ8cwBCgyQBjAKGXmATJAqk3xTSTXMUBEy7TwyKcxQL1JfoLgczFAOqSqZHg7MUBCi3Uhn/4wQIwJOmhkvTBA6nlnCdl3MEAU+SvyDi4wQLXiqk8ywC9ATOLUhRccL0C4H/jT928uQO5tZJj/uy1ANm4nN10ALUDcRBcOQT0sQNbtWmjdcitAvmdzcWahKkDvDMknEskpQNWRwE4Y6ihAQD9bYLIEKEAAHWZ+GxknQKHeO2OQJyZA4X8dUk8wJUAwmiUHmDMkQCSW2qarMSNA5vRjrcwqIkDtBWfdPh8hQMNzjy5HDyBAGFGQd1f2HUCHPlJiZ8YbQOCUPXNOjxlAgpWf2J5RF0CWgotz7A0VQOEwvLHMxBJAAlsPZ9Z2EECrRklNQ0kMQA+VVDePnQdAGmrDw8TrAkBZtpd3M2r8P1uG+VSK9fI/4RFBMvz34j9K5Cg3xpvkPAAAAAAAAAAAUiO5a99j4z+qX7ymX2HzPyiGjLLQC/0/La9xgWJXA0DkcLVX4CMIQOPY5TAl6gxAl6A7/nrUEEDqdNrKjC8TQLeGPIqshRVAj6+oDkDWF0CJpH2YriAaQHm3kf1gZBxAjhMq0MGgHkAgtb/CnmogQFYR402hgCFAzR7Y3yCSIkCfoa/41p4jQFFaXlR+piRAI9GX/NKoJUDXGVNakqUmQNUL9UZ7nCdA9IEbHU6NKEDOTQXJzHcpQNijkti6WypAZeDZit04K0BwoUzf+w4sQKJNaaTe3SxAHD/1hVClLUAT57saHmUuQDdfz/EVHS9AP/5GnwjNL0BlUzxkZDowQOTU1JcVijBAgByaX4PVMEAaRQ9KmhwxQP13EARIXzFAcCmMXXudMUCqTfFNJNcxQO1hUfgzDDJA3Tg1r5w8MkBsjSP4UWgyQJlz2I5IjzJAy9IsaHaxMkAcKq200s4yQMnz3uJV5zJAzxE0ofn6MkAiw6vfuAkzQNO1INGPEzNANuBD7HsYM0A24EPsexgzQNO1INGPEzNAIsOr37gJM0DPETSh+foyQMnz3uJV5zJAHCqttNLOMkDL0ixodrEyQJlz2I5IjzJAbI0j+FFoMkDdODWvnDwyQO1hUfgzDDJAqk3xTSTXMUBvKYxde50xQP53EARIXzFAGkUPSpocMUCAHJpfg9UwQOPU1JcVijBAZFM8ZGQ6MEA//kafCM0vQDhfz/EVHS9AEue7Gh5lLkAcP/WFUKUtQKJNaaTe3SxAcaFM3/sOLEBi4NmK3TgrQNajkti6WypA0E0Fycx3KUD3gRsdTo0oQNQL9UZ7nCdA1xlTWpKlJkAk0Zf80qglQFBaXlR+piRAn6Gv+NaeI0DNHtjfIJIiQFcR402hgCFAHrW/wp5qIECLEyrQwaAeQHm3kf1gZBxAjaR9mK4gGkCMr6gOQNYXQLeGPIqshRVA63TayowvE0CboDv+etQQQN7Y5TAl6gxA5HC1V+AjCEAyr3GBYlcDQBSGjLLQC/0/oV+8pl9h8z9TI7lr32PjP4orhA/9EOU8AAAAAAAAAAAb1x7HxbvjP/TX6a06ufM/B72v7XyP/T+inoBAEK8DQDHvaB5PkQhAUFLdyThtDUAs5AdPxiARQCFrX/WFhhNAisItIz3nFUDclszvTkIYQGYFKecflxpAStvVMRblHEAbdrO8mSsfQMSGETAKtSBAeqVdA/nPIUCLGrppUOYiQFRMoKPI9yNAc54FMxsEJUCVLYftAgsmQKP9PQ48DCdA8AE3R4QHKEBwforSmvwoQGVaDoNA6ylAdBaf1DfTKkCwM/v7RLQrQB31LPYtjixAmoJ+l7pgLUBukvSZtCsuQO/dS6vn7i5ALcZ1eiGqL0BIV0jimC4wQL9arDD1gzBAJMuGpw/VMEB4UeVe0yExQMf0Jo0sajFA594VjAiuMUDMArbdVe0xQB1nxzAEKDJAl+v6ZAReMkCZc9iOSI8yQKB0VfvDuzJA3PsaM2vjMkDqUnr9MwYzQJKAD2MVJDNAyvcQsAc9M0BZ3Et2BFEzQC1azI4GYDNA96ExGwpqM0BwM62GDG8zQHAzrYYMbzNA96ExGwpqM0AtWsyOBmAzQFncS3YEUTNAyvcQsAc9M0CSgA9jFSQzQOpSev0zBjNA3PsaM2vjMkCgdFX7w7syQJlz2I5IjzJAl+v6ZAReMkAeZ8cwBCgyQMwCtt1V7TFA6N4VjAiuMUDH9CaNLGoxQHhR5V7TITFAIsuGpw/VMEC+Wqww9YMwQEhXSOKYLjBALsZ1eiGqL0Du3Uur5+4uQG6S9Jm0Ky5AmoJ+l7pgLUAe9Sz2LY4sQK0z+/tEtCtAcxaf1DfTKkBmWg6DQOspQHN+itKa/ChA7wE3R4QHKECj/T0OPAwnQJYth+0CCyZAcp4FMxsEJUBUTKCjyPcjQIsaumlQ5iJAe6VdA/nPIUDChhEwCrUgQBh2s7yZKx9AStvVMRblHEBqBSnnH5caQNiWzO9OQhhAisItIz3nFUAia1/1hYYTQDDkB0/GIBFASVLdyThtDUAx72geT5EIQKiegEAQrwNA8ryv7XyP/T/r1+mtOrnzPxzXHsfFu+M/Co9Ksnxw5TwAAAAAAAAAAJx/h6hU/+M/m91E2sD88z/Kw9RtsPT9PxuPYJ9z8gNA9TUyvWrlCEABnFn69tENQIyZJrRpWxFAG8vgiV7JE0DaYvSrOTIWQNqWjBhclRhAGpRjRyjyGkDs7F1SAkgdQM48uh1Qlh9AEFPlvzzuIEAM9hY09AwiQGsGP4MEJyNAbjE1+CQ8JEDevZkjDkwlQCB9P+55ViZACwM9qyNbJ0AlfKApyFkoQCOSwcUlUilA0ecsevxDKkC4zyTwDS8rQJ38so8dEyxAdAdHj/DvLED9w90CTsUtQDB8rer+ki5AFkpTQc5YL0Bc9L6ERAswQPw6iS3/ZTBAKuHjt3+8MEArd5rXrw4xQCcdKF16XDFA1ogtO8ulMUCYQJyLj+oxQO+2lZS1KjJA1gT9zCxmMkB/Fbrg5ZwyQBwqrbTSzjJAFbFRaub7MkCSgA9jFSQzQJ+ZOUNVRzNAGK659JxlM0BNuWep5H4zQLkQDd0lkzNAGWgSV1uiM0D1WdgrgawzQO0bur2UsTNA7Ru6vZSxM0D1WdgrgawzQBloEldbojNAuRAN3SWTM0BNuWep5H4zQBiuufScZTNAn5k5Q1VHM0CSgA9jFSQzQBWxUWrm+zJAHCqttNLOMkB/Fbrg5ZwyQNYE/cwsZjJA77aVlLUqMkCZQJyLj+oxQNaILTvLpTFAJx0oXXpcMUAqd5rXrw4xQCrh47d/vDBA/DqJLf9lMEBc9L6ERAswQBRKU0HOWC9AMHyt6v6SLkD9w90CTsUtQHUHR4/w7yxAm/yyjx0TLEC2zyTwDS8rQNLnLHr8QypAJpLBxSVSKUAkfKApyFkoQAsDPasjWydAIn0/7nlWJkDdvZkjDkwlQG4xNfgkPCRAawY/gwQnI0AN9hY09AwiQA5T5b887iBAzDy6HVCWH0Ds7F1SAkgdQB6UY0co8hpA15aMGFyVGEDaYvSrOTIWQBzL4IleyRNAkJkmtGlbEUD7m1n69tENQPU1Mr1q5QhAII9gn3PyA0C2w9RtsPT9P5HdRNrA/PM/nn+HqFT/4z95FlWu4rnlPAAAAAAAAAAA2zADbEYu5D9CRteQrCv0P7Vu+OACO/4/LGz7JkchBEDKpc6A3B8JQAPTROn3Fw5AqpmFuyiEEUC6+Vmg0fcTQBxrXNhUZhZAKiFy7BHPGEBBmoXiaTEbQLJhgWa/jB1AGAre8nbgH0Addlx8+xUhQFyqtANUNyJAY/bEefpTI0DYJrZ+pWskQAJrdvsMfiVA/39ONOqKJkBcUh3b95EnQAJjNSHykihAUVTXyJaNKUBcHkU2pYEqQCSDaYDebitAIHgPgQVVLEDLVqXk3jMtQBjEhzkxCy5AvF3Q/sTaLkAHXKSyZKIvQCu8/2/uMDBA78T7FX6MMEDDtjqxyeMwQK/4L8G6NjFAStCa5DuFMUBSOQnfOM8xQBZDD56eFDJAipsxPltVMkCXA4IPXpEyQGx87JmXyDJAzxE0ofn6MkB+Op4odygzQFncS3YEUTNAeBc/Fpd0M0C5EA3dJZMzQO0JO+qorDNAtStGqhnBM0AOe1XYctAzQLCKlX+w2jNAno49/M/fM0Cejj38z98zQLCKlX+w2jNADntV2HLQM0C1K0aqGcEzQO0JO+qorDNAuRAN3SWTM0B4Fz8Wl3QzQFncS3YEUTNAfjqeKHcoM0DPETSh+foyQGx87JmXyDJAmAOCD16RMkCJmzE+W1UyQBZDD56eFDJAUjkJ3zjPMUBK0JrkO4UxQK74L8G6NjFAw7Y6scnjMEDvxPsVfowwQCu8/2/uMDBABlyksmSiL0C8XdD+xNouQBjEhzkxCy5AzFal5N4zLUAdeA+BBVUsQCKDaYDebitAXR5FNqWBKkBUVNfIlo0pQABjNSHykihAXFId2/eRJ0AAgE406oomQAFrdvsMfiVA2Ca2fqVrJEBj9sR5+lMjQF6qtANUNyJAGnZcfPsVIUAWCt7yduAfQLJhgWa/jB1ARJqF4mkxG0AmIXLsEc8YQBxrXNhUZhZAvPlZoNH3E0CumYW7KIQRQP3SROn3Fw5AyqXOgNwfCUAxbPsmRyEEQKFu+OACO/4/OEbXkKwr9D/cMANsRi7kP1xShFrj7OU8AAAAAAAAAADvLGatakjkP736sXPNRfQ/OyDKySti/j8I50+SWjsEQLg0VSpoQAlAoMNVbfM+DkB3JJ1k2ZoRQJG/M1evERRAENEW8liDFkCSxE7uNO8YQBrh1oOjVBtAeCDNkgazHUAXWRrm4AQgQCxUIG0dLCFA2TUOxOxOIkC12pP0A20jQOz4zT8ZhiRA4YpIMeSZJUC5DKyxHagmQEm8EBmAsCdANSLzQMeyKEBcQ8WVsK4pQFDzFyj7oypAZttXvWeSK0DY5RnguHksQGzZ8u+yWS1AKBDWMBwyLkDvUvfZvAIvQN4DLCRfyy9ARvHjq+dFMEC26/js7aEwQEurtpyq+TBAF4dqHQdNMUCy3CHy7ZsxQGILNMRK5jFASZOAaAosMkDR/l/kGm0yQA5QRnJrqTJAiMAVhuzgMkDTtSDRjxMzQNDi2UVIQTNA96ExGwpqM0DMqp/Pyo0zQPVZ2CuBrDNAOdksRSXGM0CwipV/sNozQHMwZo8d6jNAXWCremj0M0DR6TCajvkzQNHpMJqO+TNAXWCremj0M0BzMGaPHeozQLCKlX+w2jNAOdksRSXGM0D1WdgrgawzQMyqn8/KjTNA96ExGwpqM0DQ4tlFSEEzQNO1INGPEzNAiMAVhuzgMkAPUEZya6kyQND+X+QabTJASpOAaAosMkBiCzTESuYxQLLcIfLtmzFAFodqHQdNMUBKq7acqvkwQLbr+OztoTBAR/Hjq+dFMEDcAywkX8svQO9S99m8Ai9AKBDWMBwyLkBu2fLvslktQNblGeC4eSxAZNtXvWeSK0BS8xco+6MqQF5DxZWwrilANCLzQMeyKEBJvBAZgLAnQLoMrLEdqCZA4IpIMeSZJUDs+M0/GYYkQLXak/QDbSNA2jUOxOxOIkAqVCBtHSwhQBZZGubgBCBAeCDNkgazHUAe4daDo1QbQI7ETu407xhAENEW8liDFkCSvzNXrxEUQHsknWTZmhFAmsNVbfM+DkC4NFUqaEAJQAznT5JaOwRAJiDKySti/j+z+rFzzUX0P/AsZq1qSOQ/fXi+I0oJ5jwAAAAAAAAAAKriKnqmTeQ/zYfIkwhL9D82EWXKAmr+P9FUMwCTQARAPrNQLexGCUAnk3JXwUYOQMTRu0tknxFAp6yfBN0WFEB0mhcQKIkWQN++jv2j9RhA/OjF27BbG0A5Cw5isLodQFqhigwDCSBA1fSdwYswIUCnpzMiplMiQKzooyQHciNAuhsE92SLJED8Ky4Sd58lQCObckz2rSZA4Xvw65y2J0AInY64JrkoQFxDkQ1RtSlAsunH6tqqKkCnmU4FhZkrQFqL3tcRgSxAjNepskVhLUCeJb7K5jkuQDxe6ki9Ci9AjosjWJPTL0CYmLKZGkowQBjEhJk4pjBANRfL7Av+MEBp/vzvfVExQEtunCB5oDFAlEzBIunqMUCs6VjGujAyQGIwGAzccTJAhkUfKjyuMkA0ZU2Qy+UyQDbgQ+x7GDNA1jAXLUBGM0BwM62GDG8zQJCkx3TWkjNA7Ru6vZSxM0BS0cp0P8szQJ6OPfzP3zNA/EcIB0HvM0DR6TCajvkzQDIC1A22/jNAMgLUDbb+M0DR6TCajvkzQPxHCAdB7zNAno49/M/fM0BS0cp0P8szQO0bur2UsTNAkKTHdNaSM0BwM62GDG8zQNYwFy1ARjNANuBD7HsYM0A0ZU2Qy+UyQIZFHyo8rjJAYTAYDNxxMkCs6VjGujAyQJRMwSLp6jFAS26cIHmgMUBo/vzvfVExQDUXy+wL/jBAGMSEmTimMECZmLKZGkowQIyLI1iT0y9APF7qSL0KL0CeJb7K5jkuQI7XqbJFYS1AWIve1xGBLECmmU4FhZkrQLPpx+raqipAXkORDVG1KUAGnY64JrkoQOF78OuctidAJJtyTPatJkD6Ky4Sd58lQLobBPdkiyRArOijJAdyI0CopzMiplMiQNL0ncGLMCFAWaGKDAMJIEA5Cw5isLodQADpxduwWxtA276O/aP1GEB0mhcQKIkWQKisnwTdFhRAx9G7S2SfEUAhk3JXwUYOQD6zUC3sRglA1lQzAJNABEAhEWXKAmr+P8OHyJMIS/Q/q+IqeqZN5D+kUiHD+Q7mPAAAAAAAAAAA0BI5bfQ95D/mrrSMWDv0P5m37M1/Uv4/BfAGD+swBEBo91TSYTMJQIDqHJxZLw5Anc8iwsSREUDhSBRSVQcUQK7pajW8dxZATvNeeFjiGEAN/FWlikYbQBGI/e20ox1AHIb4Uzv5H0AcmoroQSMhQDuHgD97RSJAG0Y43/5iI0DdSdgug3skQKvZS9+/jiVACKzm/W2cJkANs64GSKQnQJ5iR/YJpihAKtJ5W3GhKUARNVVoPZYqQIM/4wIvhCtAeSls1QhrLEB3HkZej0otQL4GLP+IIi5Ay7UXDL7yLkDuqZvZ+LovQA1VXOWCPTBAetgVr1mZMECYW5gd6fAwQJWJ254aRDFALiQCwdiSMUBoI+E3D90xQIYgO+KqIjJA+LKuzpljMkDTeVZAy58yQK+gGbMv1zJAIsOr37gJM0D0Jju/WTczQC1azI4GYDNAXFdC0rSDM0AZaBJXW6IzQFQTozbyuzNADntV2HLQM0ASozjz198zQHMwZo8d6jNA/EcIB0HvM0D8RwgHQe8zQHMwZo8d6jNAEqM489ffM0AOe1XYctAzQFQTozbyuzNAGWgSV1uiM0BcV0LStIMzQC1azI4GYDNA9CY7v1k3M0Aiw6vfuAkzQK+gGbMv1zJA1HlWQMufMkD4sq7OmWMyQIcgO+KqIjJAaCPhNw/dMUAuJALB2JIxQJSJ254aRDFAl1uYHenwMEB62BWvWZkwQA5VXOWCPTBA7Kmb2fi6L0DLtRcMvvIuQL4GLP+IIi5AeB5GXo9KLUB3KWzVCGssQII/4wIvhCtAEjVVaD2WKkAs0nlbcaEpQJ1iR/YJpihADbOuBkikJ0AJrOb9bZwmQKrZS9+/jiVA3UnYLoN7JEAbRjjf/mIjQDyHgD97RSJAGZqK6EEjIUAahvhTO/kfQBGI/e20ox1AEfxVpYpGG0BK8154WOIYQK7pajW8dxZA4kgUUlUHFEChzyLCxJERQHrqHJxZLw5AaPdU0mEzCUAK8AYP6zAEQIS37M1/Uv4/3K60jFg79D/SEjlt9D3kP/QhMFzs/eU8AAAAAAAAAAC1eXW0ZBnkPzxYRYrNFvQ/A2fhELsb/j8h7UPicgwEQMVH6z3dBQlAoO68W9T4DUCfk9nSCHIRQOe7zUEo4xNANTFhVydPFkASEoNCZrUYQM6Gna1GFRtATBxm5ytuHUDQx0ELe78fQE4VmZRNBCFAReWgtnokIkAbizKj+j8jQIgXY0aEViRALM24089nJUBaEa3YlnMmQPIv1U6UeSdAEEStrYR5KEAzrwD8JXMpQGWi6+A3ZipA+lZxtHtSK0B1sKKPtDcsQMMdUVynFS1AyK1J5BrsLUBUahTg17ouQCMsNAWpgS9A5Z3xiS0gMEB1miRyXnswQAZik7lP0jBAef359uokMUDUDTffGnMxQPjvyErLvDFAVbT/OukBMkC2k+LeYkIyQCKex5cnfjJAuHSc/Se1MkDJ897iVecyQDTHRFikFDNAyvcQsAc9M0C3lRaBdWAzQE25Z6nkfjNAGymwUE2YM0DtCTvqqKwzQFQTozbyuzNAOdksRSXGM0BS0cp0P8szQFLRynQ/yzNAOdksRSXGM0BUE6M28rszQO0JO+qorDNAGymwUE2YM0BNuWep5H4zQLeVFoF1YDNAyvcQsAc9M0A0x0RYpBQzQMnz3uJV5zJAuHSc/Se1MkAjnseXJ34yQLaT4t5iQjJAVrT/OukBMkD478hKy7wxQNQNN98aczFAd/359uokMUAFYpO5T9IwQHWaJHJeezBA5p3xiS0gMEAiLDQFqYEvQFRqFODXui5AyK1J5BrsLUDEHVFcpxUtQHOwoo+0NyxA+VZxtHtSK0BmouvgN2YqQDavAPwlcylAD0StrYR5KEDyL9VOlHknQFsRrdiWcyZAK824089nJUCIF2NGhFYkQBuLMqP6PyNARuWgtnokIkBLFZmUTQQhQM3HQQt7vx9ATBxm5ytuHUDRhp2tRhUbQA4Sg0JmtRhANTFhVydPFkDou81BKOMTQKOT2dIIchFAmu68W9T4DUDFR+s93QUJQCbtQ+JyDARA72bhELsb/j8yWEWKzRb0P7Z5dbRkGeQ/DlvegjPW5TwAAAAAAAAAAIFBFAAd4OM/XCvTN43d8z/RlCQI7cX9P7qq2BFQ0wNAVuPOW42+CEBvesLJaaMNQH0FNDRRQBFAgkBNHnuqE0C+MAxLkw8WQOXk1LD7bhhA+PxMvRfIGkCgtLd9TBodQD3L5sYAZR9AJv9ars7TIEA2dIOMxvAhQGCcGYkeCSNAwKx1YI4cJEBj4bsSzyolQJKvKfaaMyZAU8kKya02J0AfUVHDxDMoQMK0zKeeKilAdr/61PsaKkB2jW5VngQrQLYmye9J5ytA2aI/NsTCLEDc1aqV1JYtQMGjHGREYy5Awjj37t4nL0BGhIKIceQvQBI7fsplTDBAIVCQS1+iMEDZABIeD/QwQC7ykDNgQTFAx237nT6KMUBwi8OUl84xQLmxtnlZDjJASy6I3XNJMkA8ug2E138yQMvSLGh2sTJAe+N3v0PeMkDqUnr9MwYzQPSYstY8KTNAn5k5Q1VHM0C3lRaBdWAzQHgXPxaXdDNAXFdC0rSDM0DMqp/Pyo0zQJCkx3TWkjNAkKTHdNaSM0DMqp/Pyo0zQFxXQtK0gzNAeBc/Fpd0M0C3lRaBdWAzQJ+ZOUNVRzNA9Jiy1jwpM0DqUnr9MwYzQHvjd79D3jJAy9IsaHaxMkA8ug2E138yQEwuiN1zSTJAubG2eVkOMkBwi8OUl84xQMdt+50+ijFALvKQM2BBMUDYABIeD/QwQCBQkEtfojBAEjt+ymVMMEBHhIKIceQvQME49+7eJy9AwaMcZERjLkDc1aqV1JYtQNqiPzbEwixAtCbJ70nnK0B0jW5VngQrQHe/+tT7GipAxLTMp54qKUAeUVHDxDMoQFPJCsmtNidAk68p9pozJkBi4bsSzyolQMCsdWCOHCRAYJwZiR4JI0A3dIOMxvAhQCT/Wq7O0yBAOsvmxgBlH0CgtLd9TBodQPz8TL0XyBpA4eTUsPtuGEC+MAxLkw8WQINATR57qhNAgAU0NFFAEUBpesLJaaMNQFbjzluNvghAv6rYEVDTA0C8lCQI7cX9P1Ir0zeN3fM/gkEUAB3g4z9rAHEp+JflPAAAAAAAAAAAaG6/W1iS4z83/WuZ0o/zP2uAxiZuUf0/+yJog72FA0CaDY+uu10IQBw9tvJxLw1AzA4aJtH8EEA2ZuhTiF0TQD3RH5pBuRVADeOBWWEPGEAsdVVkTV8aQOXGJCZtqBxAlR0SyynqHkBiYVwz95EgQBotSA2UqiFAblXkHaO+IkA+DEo83c0jQIaYa3781yRAh+wZS7zcJUAxZrNr2dsmQPYqdx0S1SdAkqd4IibIKEBv1S7S1rQpQKIAmynnmipA3OQC2xt6K0BzEzpdO1IsQLCxdvoNIy1Ayryt3l3sLUDZH3Ml960uQDoIWuenZy9AxgJpI6AMMEBK0j4+SWEwQF+rf3G5sTBAvs0cAdz9MECZwv9MnUUxQCNsGdbqiDFATJQmQ7PHMUAYwChl5gEyQHwgkjt1NzJAbI0j+FFoMkD6i3sCcJQyQKB0VfvDuzJAe+N3v0PeMkAVsVFq5vsyQDTHRFikFDNAfjqeKHcoM0D0Jju/WTczQNDi2UVIQTNA1jAXLUBGM0DWMBctQEYzQNDi2UVIQTNA9CY7v1k3M0B+Op4odygzQDTHRFikFDNAFbFRaub7MkB743e/Q94yQKB0VfvDuzJA+ot7AnCUMkBsjSP4UWgyQHwgkjt1NzJAGMAoZeYBMkBMlCZDs8cxQCNsGdbqiDFAmcL/TJ1FMUC+zRwB3P0wQF6rf3G5sTBAStI+PklhMEDGAmkjoAwwQDsIWuenZy9A2B9zJfetLkDKvK3eXewtQLCxdvoNIy1AdBM6XTtSLEDa5ALbG3orQKAAmynnmipAcNUu0ta0KUCUp3giJsgoQPUqdx0S1SdAMWaza9nbJkCI7BlLvNwlQIWYa3781yRAPgxKPN3NI0BuVeQdo74iQBstSA2UqiFAYGFcM/eRIECSHRLLKeoeQOXGJCZtqBxAMHVVZE1fGkAK44FZYQ8YQD3RH5pBuRVAN2boU4hdE0DQDhom0fwQQBY9tvJxLw1Amg2PrrtdCEAAI2iDvYUDQFeAxiZuUf0/Lf1rmdKP8z9qbr9bWJLjP7hISXZ6Q+U8AAAAAAAAAADrULnxZjDjP5ka/c7tLfM/mj3Zgra+/D/9kJMtCyQDQHV6yAPM4wdA+HR2YWSdDECPUjM9zqcQQBrBjzSf/BJAOFNjP4tMFUA1SDjJ+ZYXQNrx5KdT2xlANPGCQgMZHEAlBP+3dE8eQLu5mwILPyBA06ZPlStSIUCIXa4o1WAiQN9s7PfBaiNAPdrbdq1vJECjh5djVG8lQMZ22dd0aSZA1nD3Wc5dJ0AQsoHtIUwoQFxQfyMyNClAky1EKsMVKkBqYNzcmvAqQJIaCdKAxCtA2i7Laj6RLEDrd3fgnlYtQHd+UVJvFC5AGN2o0n7KLkB2AHZznngvQLmBOalQDzBAhsRWUi5eMEBATMfg06gwQOTRqhYu7zBAZgKC0SoxMUBcMdsOuW4xQETLtPDIpzFAC2aUwUvcMUDtYVH4MwwyQHwgkjt1NzJAl+v6ZAReMkA8ug2E138yQH8VuuDlnDJAuHSc/Se1MkBsfOyZl8gyQK+gGbMv1zJAiMAVhuzgMkA0ZU2Qy+UyQDRlTZDL5TJAiMAVhuzgMkCvoBmzL9cyQGx87JmXyDJAuHSc/Se1MkB/Fbrg5ZwyQDy6DYTXfzJAl+v6ZAReMkB8IJI7dTcyQO1hUfgzDDJAC2aUwUvcMUBEy7TwyKcxQFsx2w65bjFAZgKC0SoxMUDk0aoWLu8wQEBMx+DTqDBAhMRWUi5eMEC4gTmpUA8wQHYAdnOeeC9AGt2o0n7KLkB2flFSbxQuQOt3d+CeVi1A2i7Laj6RLECUGgnSgMQrQGhg3Nya8CpAki1EKsMVKkBeUH8jMjQpQBKyge0hTChA1HD3Wc5dJ0DGdtnXdGkmQKSHl2NUbyVAPNrbdq1vJEDfbOz3wWojQIhdrijVYCJA1KZPlStSIUC4uZsCCz8gQCIE/7d0Tx5ANPGCQgMZHEDe8eSnU9sZQDFIOMn5lhdAOFNjP4tMFUAbwY80n/wSQJNSMz3OpxBA8nR2YWSdDEB1esgDzOMHQAKRky0LJANAhj3Zgra+/D+PGv3O7S3zP+xQufFmMOM/ZhPEgRHZ5DwAAAAAAAAAAN67ObituuI/xCS7wUO48j/2HKdZXQ78P0nfjMWdrgJAUDZEDTxRB0AW1vyj1+0LQKmBLRugQRBAfBwLpiOIEkArc/hK4MkUQEDPkB1BBhdAMOIMk7I8GUDG9EqoomwbQOwhcgeBlR1AgOkmLb+2H0DYwaNG6OcgQIo+k1sV8CFANyKdvKLzIkDHOxyCTfIjQDDxyQbU6yRAGiaq+PXfJUAJrZ9pdM4mQMX8pN8RtydA0vukZJKZKEADzO+Vu3UpQFuaR7NUSypACpKBrSYaK0AyLbc0/OErQOE6BMahoixAdQ/OuOVbLUAkc5BLmA0uQPgBLbCLty5ABdG5F5RZL0CATcy9h/MvQGG2nnmfQjBASDMyFEqHMEBhq2L7sccwQKSjGJXGAzFAOqSqZHg7MUBbMdsOuW4xQG8pjF17nTFATJQmQ7PHMUDMArbdVe0xQLmxtnlZDjJA77aVlLUqMkC2k+LeYkIyQImbMT5bVTJA+LKuzpljMkDQ/l/kGm0yQGEwGAzccTJAYTAYDNxxMkDQ/l/kGm0yQPiyrs6ZYzJAiZsxPltVMkC2k+LeYkIyQO+2lZS1KjJAubG2eVkOMkDMArbdVe0xQEyUJkOzxzFAbymMXXudMUBbMdsOuW4xQDukqmR4OzFApKMYlcYDMUBhq2L7sccwQEgzMhRKhzBAYbaeeZ9CMEB+Tcy9h/MvQATRuReUWS9A+AEtsIu3LkAlc5BLmA0uQHQPzrjlWy1A4ToExqGiLEAyLbc0/OErQAuSga0mGitAWJpHs1RLKkACzO+Vu3UpQNP7pGSSmShAxvyk3xG3J0AIrZ9pdM4mQBomqvj13yVAMfHJBtTrJEDGOxyCTfIjQDcinbyi8yJAij6TWxXwIUDawaNG6OcgQHrpJi2/th9A6yFyB4GVHUDG9EqoomwbQDTiDJOyPBlAPM+QHUEGF0Arc/hK4MkUQH0cC6YjiBJArIEtG6BBEEAQ1vyj1+0LQFA2RA08UQdATd+MxZ2uAkDjHKdZXQ78P7oku8FDuPI/4Ls5uK264j/iVXL8KlnkPAAAAAAAAAAAIS1bCaYx4j/4oxy8TS/yP/gMzHMYQfs/etdGV+4lAkBXF2bfoqYGQEmjLLCAIQtAinfOKGCVD0Axef+6jQASQKAQ127HMRRADMkdhcxdFkA9o4WqDYQYQIzHNAj9oxpAvWFVaA69HEBl/jlat84eQFuMBqs3bCBAAFMB8NdsIUAoRoFV+mgiQGiKYd1dYCNAnkelwsJSJEDGweeJ6j8lQCp8dxGYJyZADEAYoY8JJ0AI92f5luUnQD5h4mJ1uyhAmsh/vPOKKUBS7OqJ3FMqQPd6SgH8FStAQ42aGCDRK0CysJKSGIUsQM4uFQu3MS1AgVwkA8/WLUB03FrsNXQuQH7f4zPDCS9ASI/wTFCXL0CA+FNdXA4wQDZYxwztTDBASTMyFEqHMECMCTpoZL0wQOTRqhYu7zBAGkUPSpocMUCZwv9MnUUxQMf0Jo0sajFAx237nT6KMUDWiC07y6UxQPjvyErLvDFAUjkJ3zjPMUBoI+E3D90xQGILNMRK5jFAlEzBIunqMUCUTMEi6eoxQGILNMRK5jFAaCPhNw/dMUBSOQnfOM8xQPjvyErLvDFA1ogtO8ulMUDHbfudPooxQMf0Jo0sajFAmcL/TJ1FMUAaRQ9KmhwxQOTRqhYu7zBAjAk6aGS9MEBIMzIUSocwQDZYxwztTDBAgPhTXVwOMEBIj/BMUJcvQH3f4zPDCS9Ac9xa7DV0LkCBXCQDz9YtQM8uFQu3MS1AsbCSkhiFLEBDjZoYINErQPd6SgH8FStAU+zqidxTKkCYyH+884opQD1h4mJ1uyhACfdn+ZblJ0APQBihjwknQCp8dxGYJyZAxsHnieo/JUCfR6XCwlIkQGeKYd1dYCNAKEaBVfpoIkAAUwHw12whQFyMBqs3bCBAYP45WrfOHkC8YVVoDr0cQIzHNAj9oxpAQaOFqg2EGEAJyR2FzF0WQKAQ127HMRRAMnn/uo0AEkCQd84oYJUPQEKjLLCAIQtAVxdm36KmBkB+10ZX7iUCQOUMzHMYQfs/76McvE0v8j8iLVsJpjHiP14NB75KxOM8AAAAAAAAAADsMAMm3ZXhPy+K0uyYk/E/SajSabtX+j/6Fa7IiYoBQLJHcFWw5AVAxPNIKTI5CkBFNbmG8YYOQDX+KDdpZhFA1Wv0c92EE0B7caOlSZ4VQCqQH0QjshdAq9IMN+G/GUAGmiD5+8YbQAuEELvtxh1AXGoQhjK/H0AQS+supNcgQL+xDrFXyyFA/djM93S6IkAj0S5gvqQjQFikz4X3iSRAmpFtUuVpJUA8JiUNTkQmQPFIUmn5GCdAW2ATlbDnJ0Ck12pHPrAoQHVc+81ucilAGExbGhAuKkA84PvO8eIqQADIoEvlkCtAk/Zkub03LEA3jkkWUNcsQA7tS0Bzby1A////////LUAdIKwS0YguQH3f4zPDCS9Am0ufJrWCL0B/Tcy9h/MvQBT5K/IOLjBAhMRWUi5eMEDj1NSXFYowQF6rf3G5sTBAIsuGpw/VMEDYABIeD/QwQCp3mtevDjFAd/359uokMUCu+C/BujYxQJSJ254aRDFAFodqHQdNMUBo/vzvfVExQGj+/O99UTFAFodqHQdNMUCUidueGkQxQK74L8G6NjFAd/359uokMUAqd5rXrw4xQNgAEh4P9DBAIsuGpw/VMEBeq39xubEwQOPU1JcVijBAhMRWUi5eMEAV+SvyDi4wQH5NzL2H8y9AnEufJrWCL0B93+MzwwkvQB0grBLRiC5A/P//////LUAN7UtAc28tQDeOSRZQ1yxAk/Zkub03LED/x6BL5ZArQDzg+87x4ipAGExbGhAuKkB2XPvNbnIpQKHXakc+sChAWmATlbDnJ0DySFJp+RgnQD8mJQ1ORCZAmZFtUuVpJUBYpM+F94kkQCPRLmC+pCNA/NjM93S6IkC/sQ6xV8shQBBL6y6k1yBAXmoQhjK/H0AHhBC77cYdQASaIPn7xhtAq9IMN+G/GUAukB9EI7IXQHlxo6VJnhVA1Wv0c92EE0A2/ig3aWYRQEw1uYbxhg5Av/NIKTI5CkCyR3BVsOQFQP8VrsiJigFANqjSabtX+j8mitLsmJPxP+4wAybdleE/ZkNvPQob4zwAAAAAAAAAAITyRqTz5+A//oc/1cXl8D/pGhbKNlP5P2Nha0gQ3QBAFHI8XCwMBUAeb9OG2zUJQNmnihQLWQ1AL3JI/1S6EEAvGqWY1MMSQNQHGOl9yBRAoGKPwsvHFkD+LX9YOsEYQM6Y2mFHtBpAaWqpOnKgHEDT5DAFPIUeQAXIU+UTMSBAKsC1TV0bIUACZVnXPQEiQL/71kB64iJAdj0Ke9i+I0DqnQm4H5YkQKjEynkYaCVAOHJwoIw0JkB4IT54R/smQHTMLccVvCdASVQk2sV2KECvJMGRJyspQMjFxW4M2SlAnykSnkeAKkCAnjIEriArQIJrfEgWuitAPjq231hMLEA6jkkWUNcsQGap+hnYWi1AgVwkA8/WLUDcYXXdFEsuQPoBLbCLty5ATOLUhRccL0B2AHZznngvQD/+Rp8IzS9AxgJpI6AMMEBIV0jimC4wQBI7fsplTDBA/DqJLf9lMEB1miRyXnswQO/E+xV+jDBAetgVr1mZMEC26/js7aEwQBjEhJk4pjBAGMSEmTimMEC26/js7aEwQHrYFa9ZmTBA78T7FX6MMEB1miRyXnswQPw6iS3/ZTBAEjt+ymVMMEBIV0jimC4wQMYCaSOgDDBAP/5GnwjNL0B2AHZznngvQE3i1IUXHC9A+AEtsIu3LkDdYXXdFEsuQIFcJAPP1i1AZqn6GdhaLUA3jkkWUNcsQD06tt9YTCxAgmt8SBa6K0CBnjIEriArQJ8pEp5HgCpAyMXFbgzZKUCvJMGRJyspQEpUJNrFdihAcswtxxW8J0B2IT54R/smQDpycKCMNCZAq8TKeRhoJUDqnQm4H5YkQHY9CnvYviNAwPvWQHriIkABZVnXPQEiQCrAtU1dGyFABchT5RMxIEDW5DAFPIUeQGRqqTpyoBxAzJjaYUe0GkD+LX9YOsEYQKRij8LLxxZA0AcY6X3IFEAvGqWY1MMSQDFySP9UuhBA4KeKFAtZDUAYb9OG2zUJQBRyPFwsDAVAaGFrSBDdAEDYGhbKNlP5P/aHP9XF5fA/hfJGpPPn4D+bPaDyF17iPAAAAAAAAAAAXRLiyZwo4D+VOASkhybwPyC1ySCXNPg/IB3FqDQeAECWbSUk9h0EQPtRsx2IGAhAK3HNBuQMDEBagrHqBPoPQLRK4Nhz7xFAry4kskXdE0DPImC2+MUVQJCftOwOqRdAa62fzguGGUD6ORZodFwbQMKuNXfPKx1ASp6Fi6XzHkBmvGCSwFkgQHwskWh3NSFA8IyQpb4MIkBPhVTLXt8iQFrc2Y4hrSNArTgj5tF1JEBqIeUVPDklQJS4274t9yVAQ7/G6nWvJkDIiggZ5WEnQPip5EpNDihAiRJbD4K0KEAsyJyOWFQpQG8JF5Wn7SlAnykSnkeAKkDUWuHdEgwrQAHIoEvlkCtA+3t/qpwOLECxsJKSGIUsQBRAMHk69CxAdQ/OuOVbLUDubWSY/7stQHZ+UVJvFC5AEue7Gh5lLkDYH3Ml960uQO7dS6vn7i5AwTj37t4nL0AUSlNBzlgvQCIsNAWpgS9ABlyksmSiL0DsqZvZ+LovQNwDLCRfyy9AjIsjWJPTL0CMiyNYk9MvQNwDLCRfyy9A7Kmb2fi6L0AGXKSyZKIvQCIsNAWpgS9AFEpTQc5YL0DBOPfu3icvQO7dS6vn7i5A2B9zJfetLkAS57saHmUuQHZ+UVJvFC5A721kmP+7LUB0D8645VstQBRAMHk69CxAsbCSkhiFLED7e3+qnA4sQP/HoEvlkCtA1Frh3RIMK0CfKRKeR4AqQHAJF5Wn7SlALMicjlhUKUCJElsPgrQoQPip5EpNDihAyYoIGeVhJ0BAv8bqda8mQJS4274t9yVAbCHlFTw5JUCwOCPm0XUkQFnc2Y4hrSNAT4VUy17fIkDyjJClvgwiQHsskWh3NSFAZrxgksBZIEBKnoWLpfMeQMSuNXfPKx1A9jkWaHRcG0BqrZ/OC4YZQJCftOwOqRdA0iJgtvjFFUCsLiSyRd0TQLRK4Nhz7xFAXIKx6gT6D0Axcc0G5AwMQPZRsx2IGAhAlm0lJPYdBEAkHcWoNB4AQA61ySCXNPg/jTgEpIcm8D9eEuLJnCjgP3fqvqI2juE8AAAAAAAAAAC5ytSmO7HeP4ZklfhGre4/eMkl4wP99j/GGZROd53+P6fZ9ToDGwNAXzCjDF7iBkAsW1vB0qMKQP3KaoNpXg5ANsEhIZYIEUDqWPV4k90SQICV8OSzrRRArTq7wX94FkDGOLvLgD0YQHTTkD1C/BlAaEEw7lC0G0DrApFuO2UdQFBI6yaSDh9AdO+9ufNXIEAEnWPgZyQhQLUnqtNw7CFAchBsA9uvIkA9eWUQdG4jQGYpMNkKKCRAAKLthm/cJEDy/puZc4slQNh2EvTpNCZAwmKi56bYJkByzlk/gHYnQPmp5EpNDihA4M4J6eafKECvJMGRJyspQC9L4F/rrylAGkxbGhAuKkCF8RY9daUqQPd6SgH8FStAD4huZYd/K0AyLbc0/OErQNxEFw5BPSxA2i7Laj6RLECiTWmk3t0sQLCxdvoNIy1AmoJ+l7pgLUDc1aqV1JYtQP3D3QJOxS1AyK1J5BrsLUAYxIc5MQsuQL4GLP+IIi5AKBDWMBwyLkCeJb7K5jkuQJ4lvsrmOS5AKBDWMBwyLkC+Biz/iCIuQBjEhzkxCy5AyK1J5BrsLUD9w90CTsUtQNzVqpXUli1AmoJ+l7pgLUCwsXb6DSMtQKJNaaTe3SxA2i7Laj6RLEDdRBcOQT0sQDIttzT84StAD4huZYd/K0D3ekoB/BUrQIXxFj11pSpAGExbGhAuKkAuS+Bf668pQK8kwZEnKylA4c4J6eafKED4qeRKTQ4oQHLOWT+AdidAwmKi56bYJkDYdhL06TQmQO/+m5lziyVAAKLthm/cJEBnKTDZCigkQD95ZRB0biNAcBBsA9uvIkC1J6rTcOwhQAWdY+BnJCFAc++9ufNXIEBQSOsmkg4fQOsCkW47ZR1AakEw7lC0G0Bw05A9QvwZQMQ4u8uAPRhArTq7wX94FkCDlfDks60UQOhY9XiT3RJANsEhIZYIEUD+ymqDaV4OQDBbW8HSowpAWjCjDF7iBkCn2fU6AxsDQM4ZlE53nf4/Z8kl4wP99j93ZJX4Rq3uP7zK1KY7sd4/BO9Zlzys4DwAAAAAAAAAAGM2/lGa8dw/YMIfVd/t7D/eMNc+vq31P7zYBkT23vw/TNLIjl4EAkDjhQENnZQFQOjqa3ZLHwlA1l/cE4CjDEBg+L1sKRAQQHpxTNFuyhFAKtd8Nh6AE0DOjNHJxjAVQH0pgQT52xZAmwM2yEaBGEBS0nB7QyAaQBAUhyWEuBtAngI2ip9JHUBa+cJELtMeQKknUXFlKiBAX+PO/gjnIEAN6rkqUZ8hQAWRdHQOUyJA9u0ihxICI0B+N5xFMKwjQOTMC9Y7USRAqeU+rQrxJEDv/puZc4slQCwzwc1OICZAQr/G6nWvJkAuECMKxDgnQHLMLccVvCdAjmU/SEk5KECi12pHPrAoQEFXzxrWIClAmMh/vPOKKUBK9v3Re+4pQFqaR7NUSypAvmdzcWahKkBoYNzcmvAqQGLg2YrdOCtA2uQC2xt6K0CtM/v7RLQrQLQmye9J5ytAm/yyjx0TLEBzsKKPtDcsQB14D4EFVSxAdyls1QhrLEDW5RnguHksQFiL3tcRgSxAWIve1xGBLEDW5RnguHksQHcpbNUIayxAHXgPgQVVLEBzsKKPtDcsQJv8so8dEyxAtCbJ70nnK0CtM/v7RLQrQNrkAtsbeitAYuDZit04K0BoYNzcmvAqQL9nc3FmoSpAWJpHs1RLKkBL9v3Re+4pQJjIf7zziilAQVfPGtYgKUCh12pHPrAoQI1lP0hJOShAcswtxxW8J0AwECMKxDgnQEC/xup1ryZALDPBzU4gJkDv/puZc4slQKrlPq0K8SRA48wL1jtRJEB9N5xFMKwjQPjtIocSAiNABpF0dA5TIkAM6rkqUZ8hQF/jzv4I5yBAqSdRcWUqIEBX+cJELtMeQJ4CNoqfSR1AEBSHJYS4G0BV0nB7QyAaQJgDNshGgRhAfCmBBPnbFkDOjNHJxjAVQC7XfDYegBNAeHFM0W7KEUBg+L1sKRAQQNlf3BOAowxA7uprdksfCUDfhQENnZQFQEzSyI5eBAJAw9gGRPbe/D/PMNc+vq31P1HCH1Xf7ew/ZDb+UZrx3D+KlgqDJXLfPAAAAAAAAAAAW8KJAiMU2z/2THiPpRDrP8Bo684fSPQ/NNP+dbIC+z+xqeFaJ9sAQNqbPCmdMARA52fppt6AB0DhnS8sEcsKQNUWIqFbDg5A0GPKWvOkEEBejE6Mbj4SQG06x9c10xNAvXAy5uBiFUBszcexCO0WQLjqhqBHcRhAEPpnnjnvGUBW2Sc3fGYbQOv7qK+u1hxAuJziHnI/HkD+y1eGaaAfQDAFCPWcfCBAo6EFNMUkIUCPjZUngsghQLLUxZqpZyJA+e0ihxICI0DX80oflZcjQGcpMNkKKCRAaScIeE6zJEBsIeUVPDklQN3J9iyxuSVAOnJwoIw0JkBGHBLFrqkmQPRIUmn5GCdAWGom3U+CJ0AJ92f5luUnQPU21Ca1QihA1PukZJKZKEDVkcBOGOooQF5QfyMyNClA0E0Fycx3KUBw1S7S1rQpQGZaDoNA6ylAd7/61PsaKkDS5yx6/EMqQGai6+A3ZipAXR5FNqWBKkASNVVoPZYqQFLzFyj7oypAs+nH6tqqKkCz6cfq2qoqQFLzFyj7oypAEjVVaD2WKkBdHkU2pYEqQGai6+A3ZipA0ucsevxDKkB3v/rU+xoqQGZaDoNA6ylAcNUu0ta0KUDQTQXJzHcpQF5QfyMyNClA1ZHAThjqKEDT+6RkkpkoQPU21Ca1QihACfdn+ZblJ0BYaibdT4InQPJIUmn5GCdARBwSxa6pJkA6cnCgjDQmQN7J9iyxuSVAbCHlFTw5JUBpJwh4TrMkQGcpMNkKKCRA2PNKH5WXI0D47SKHEgIjQLDUxZqpZyJAj42VJ4LIIUCkoQU0xSQhQC8FCPWcfCBA/stXhmmgH0C6nOIecj8eQOr7qK+u1hxAVtknN3xmG0AQ+meeOe8ZQLnqhqBHcRhAas3HsQjtFkC6cDLm4GIVQG06x9c10xNAYYxOjG4+EkDOY8pa86QQQNUWIqFbDg5A450vLBHLCkDsZ+mm3oAHQNabPCmdMARAsanhWifbAEA60/51sgL7P7Jo684fSPQ/6Ex4j6UQ6z9cwokCIxTbP+CRdpNna908AAAAAAAAAAA4qiXnwRrZPwLk3ZaFF+k/GJOON5nN8j9shS7Wlgr5P+qTLP8fQf8/k4EtWs23AkCb1ZeFN8oFQJ4D9coD1whA3I8K5mjdC0C+LyU5n9wOQPikRoDw6RBAbKTAQjVhEkCVTVQovdMTQNww+a0oQRVAu3fpoRmpFkBCtek7MwsYQMmEMzUaZxlArsz833S8GkBglJU+6wocQGt4FhonUh1AsuOZGNSRHkBOU/rSn8kfQC4FCPWcfCBA+F20DSoQIUAO6rkqUZ8hQG0Wj2XtKSJAcBBsA9uvIkCDioB+9zAjQFrc2Y4hrSNAezP3MjkkJEDqnQm4H5YkQKLO3cG3AiVAm5FtUuVpJUD0+xbRjcslQCp8dxGYJyZA3QXpWex9JkAIrZ9pdM4mQAAdZn4bGSdA1HD3Wc5dJ0DUC/VGe5wnQPUqdx0S1SdA7wE3R4QHKEAeUVHDxDMoQCR8oCnIWShAD0StrYR5KEAAYzUh8pIoQJ1iR/YJpihANCLzQMeyKEAGnY64JrkoQAadjrgmuShANCLzQMeyKECdYkf2CaYoQABjNSHykihAD0StrYR5KEAkfKApyFkoQB5RUcPEMyhA7wE3R4QHKED1KncdEtUnQNQL9UZ7nCdA1HD3Wc5dJ0AAHWZ+GxknQAitn2l0ziZA3QXpWex9JkAqfHcRmCcmQPT7FtGNyyVAmZFtUuVpJUCizt3BtwIlQOqdCbgfliRAezP3MjkkJEBZ3NmOIa0jQIOKgH73MCNAcBBsA9uvIkBuFo9l7SkiQAzquSpRnyFA9120DSoQIUAvBQj1nHwgQFFT+tKfyR9AsOOZGNSRHkBreBYaJ1IdQGGUlT7rChxArMz833S8GkDJhDM1GmcZQEK16TszCxhAvHfpoRmpFkDYMPmtKEEVQJRNVCi90xNAbKTAQjVhEkD6pEaA8OkQQLkvJTmf3A5A3I8K5mjdC0CgA/XKA9cIQKDVl4U3ygVAj4EtWs23AkDqkyz/H0H/P3KFLtaWCvk/C5OON5nN8j/2492WhRfpPzmqJefBGtk/tXP0GlZG2zwAAAAAAAAAANDfivR/B9c/6b3kHIgE5z+/lQqqsD/xP/khywmr+PY/8ur6jLmr/D9/qs8MsisBQPJxtz4a/QNAdhMjZ1vJBkC6CAPlvI8JQN2E4ZqHTwxAURIWHgYID0BSjsRyQtwQQPyr/TspMBJAR4zizF9/E0Cu5wC9j8kUQIADju9jDhZAyDJXqYhNF0DIMVemq4YYQMzL6i58uRlABFSfLKvlGkBilJU+6wocQBzxc83wKB1AuZziHnI/HkDQ1oxoJ04fQKsnUXFlKiBAqfTpbIypIEAFnWPgZyQhQIMifiDYmiFA8oyQpb4MIkBNj2cT/nkiQMD71kB64iJALhP8PhhGI0Al0S5gvqQjQC1qoD5U/iNAn0elwsJSJEAF4qgo9KEkQDLxyQbU6yRA4X8dUk8wJUCkh5djVG8lQCTRl/zSqCVAiOwZS7zcJUCWLYftAgsmQJOvKfaaMyZAIn0/7nlWJkBbEa3YlnMmQACATjTqiiZACazm/W2cJkC6DKyxHagmQCSbckz2rSZAJJtyTPatJkC6DKyxHagmQAms5v1tnCZAAIBONOqKJkBbEa3YlnMmQCJ9P+55ViZAk68p9pozJkCWLYftAgsmQIjsGUu83CVAJNGX/NKoJUCkh5djVG8lQOF/HVJPMCVAMfHJBtTrJEAF4qgo9KEkQJ9HpcLCUiRALWqgPlT+I0Aj0S5gvqQjQC0T/D4YRiNAwPvWQHriIkBOj2cT/nkiQPKMkKW+DCJAgyJ+INiaIUAFnWPgZyQhQKr06WyMqSBAqSdRcWUqIEDO1oxoJ04fQLqc4h5yPx5AHvFzzfAoHUBhlJU+6wocQARUnyyr5RpAzsvqLny5GUDHMVemq4YYQMgyV6mITRdAgAOO72MOFkCv5wC9j8kUQESM4sxffxNA+6v9OykwEkBSjsRyQtwQQFUSFh4GCA9A2YThmodPDEC6CAPlvI8JQHgTI2dbyQZA9nG3Phr9A0B8qs8MsisBQPLq+oy5q/w//iHLCav49j+zlQqqsD/xP9695ByIBOc/0d+K9H8H1z/hvlIXJwXZPAAAAAAAAAAA7cx5zIDc1D/pX7h80NnkP5gfHqUAQO8/gC7jURHP9D+v5Uwoxfj5P7dFtiPHG/8/lajoJWIbAkC4K7zcNaQEQF/0wna3JwdAVgCHE0GlCUC7FnFcLhwMQIxUJa/ciw5APqO3o9V5EEDzYFm0fakRQAZna0OY1BJAyQhQN9j6E0CpLri28RsVQNGKMDyaNxZAxzJXqYhNF0ByqrRZdV0YQMqEMzUaZxlAftcxwjJqGkBV2Sc3fGYbQHge34u1WxxAoQI2ip9JHUD17mre/C8eQFBI6yaSDh9A3fKhAyblH0BnvGCSwFkgQDMCgyy3vCBAKsC1TV0bIUDUKiqQmnUhQMCxDrFXyyFAO/mNln4cIkAoRoFV+mgiQCzk1Da3sCJAOCKdvKLzIkAkltqmqzEjQN9s7PfBaiNAn6Gv+NaeI0A+DEo83c0jQFRMoKPI9yNAwKx1YI4cJEBuMTX4JDwkQIgXY0aEViRA2Ca2fqVrJEDdSdgug3skQOz4zT8ZhiRAuhsE92SLJEC6GwT3ZIskQOz4zT8ZhiRA3UnYLoN7JEDYJrZ+pWskQIgXY0aEViRAbjE1+CQ8JEDArHVgjhwkQFRMoKPI9yNAPgxKPN3NI0Cfoa/41p4jQN9s7PfBaiNAJZbapqsxI0A3Ip28ovMiQC3k1Da3sCJAKEaBVfpoIkA7+Y2WfhwiQL+xDrFXyyFA0yoqkJp1IUAqwLVNXRshQDQCgyy3vCBAZrxgksBZIEDd8qEDJuUfQFBI6yaSDh9A9u5q3vwvHkCeAjaKn0kdQHce34u1WxxAVtknN3xmG0CB1zHCMmoaQMmEMzUaZxlAcqq0WXVdGEDIMlepiE0XQNCKMDyaNxZAqS64tvEbFUDJCFA32PoTQAdna0OY1BJA8GBZtH2pEUA8o7ej1XkQQIxUJa/ciw5AvxZxXC4cDEBSAIcTQaUJQF/0wna3JwdAuiu83DWkBECZqOglYhsCQLFFtiPHG/8/r+VMKMX4+T+FLuNREc/0P4EfHqUAQO8/31+4fNDZ5D/uzHnMgNzUPxYpwoEtqtY8AAAAAAAAAABykjeJAJzSPxyf4YaameI/XobBYmng6z+3U0dYBJDyPwd2ZRELK/c/+jC88RjA+z9L9THM/yYAQMAPPz7JaQJAmbZWndOnBEBt+//wiuAGQI4oHKBcEwlAnaWwlrc/C0DXjExrDGUNQJZNAITNgg9APupunTfMEEBI6PsAtNIRQAdna0OY1BJAd4Gt6qHRE0Cu5wC9j8kUQFAOw9EhvBVAvnfpoRmpFkDT1x8YOpAXQLjqhqBHcRhAqu8POAhMGUBY0nB7QyAaQAkorbXC7RpAakEw7lC0G0BarnT2unMcQMauNXfPKx1A8Ckn/V7cHUDW5DAFPIUeQIbQKQg7Jh9AYWoQhjK/H0DXpF6I/ScgQFyMBqs3bCBAXq2/FDasIEDawaNG6OcgQO0FZ90+HyFA1KZPlStSIUBXEeNNoYAhQBstSA2UqiFAe6VdA/nPIUA3dIOMxvAhQA32FjT0DCJARuWgtnokIkBeqrQDVDciQDyHgD97RSJA2jUOxOxOIkCopzMiplMiQKinMyKmUyJA2jUOxOxOIkA8h4A/e0UiQF6qtANUNyJARuWgtnokIkAN9hY09AwiQDd0g4zG8CFAe6VdA/nPIUAbLUgNlKohQFcR402hgCFA1KZPlStSIUDuBWfdPh8hQNrBo0bo5yBAX62/FDasIEBcjAarN2wgQNekXoj9JyBAXmoQhjK/H0CE0CkIOyYfQNbkMAU8hR5A8ikn/V7cHUDErjV3zysdQFqudPa6cxxAakEw7lC0G0AKKK21wu0aQFXScHtDIBpAqO8POAhMGUC56oagR3EYQNbXHxg6kBdAvHfpoRmpFkBQDsPRIbwVQK/nAL2PyRRAdoGt6qHRE0AHZ2tDmNQSQEjo+wC00hFAP+punTfMEECSTQCEzYIPQNSMTGsMZQ1AnaWwlrc/C0CRKBygXBMJQGn7//CK4AZAmbZWndOnBEDCDz8+yWkCQE71Mcz/JgBA9TC88RjA+z8HdmURCyv3P7xTR1gEkPI/SobBYmng6z8Tn+GGmpniP3KSN4kAnNI/Qt+F6dY31DwAAAAAAAAAAFet0W9RSNA/gEfWMzhG4D+slUjCFWToPwLSSePUPfA/Dsh3IW9F9D96LQ+xz0f4PwuSQQDuQ/w/LOghjWEcAEByKYv1pBICQAG1aME/BARArywyrLHwBUBy9NrFe9cHQIi2ipMguAlAQbT1LySSC0DSjExrDGUNQOo+u+pgMA9APKO3o9V5EEDCa46WO1cRQPqr/TspMBJA0q4YqWYEE0CVTVQovdMTQHQmoUf3nRRAunAy5uBiFUBg4e1BRyIWQH0pgQT52xZACK8ZUMaPF0DEOLvLgD0YQBZfMq/75BhAaq2fzguGGUByepilhyAaQMyY2mFHtBpA8B2Q7SRBG0AFmiD5+8YbQMU4jQSqRRxAvGFVaA69HEAojeFdCi0dQOshcgeBlR1AGFGQd1f2HUAiBP+3dE8eQIsTKtDBoB5Akh0SyynqHkAYdrO8mSsfQDrL5sYAZR9AzDy6HVCWH0DNx0ELe78fQBYK3vJ24B9AGob4Uzv5H0AWWRrm4AQgQFmhigwDCSBAWaGKDAMJIEAWWRrm4AQgQBqG+FM7+R9AFgre8nbgH0DNx0ELe78fQMw8uh1Qlh9AOsvmxgBlH0AYdrO8mSsfQJIdEssp6h5AixMq0MGgHkAiBP+3dE8eQBlRkHdX9h1A6yFyB4GVHUApjeFdCi0dQLxhVWgOvRxAxTiNBKpFHEAEmiD5+8YbQO4dkO0kQRtAzJjaYUe0GkB0epilhyAaQGqtn84LhhlAFl8yr/vkGEDEOLvLgD0YQAqvGVDGjxdAfCmBBPnbFkBf4e1BRyIWQLpwMubgYhVAdiahR/edFECUTVQovdMTQNKuGKlmBBNA+6v9OykwEkDAa46WO1cRQDyjt6PVeRBA6j676mAwD0DUjExrDGUNQD609S8kkgtAhraKkyC4CUBy9NrFe9cHQLEsMqyx8AVA/7RowT8EBEByKYv1pBICQC7oIY1hHABAEZJBAO5D/D91LQ+xz0f4Pw7IdyFvRfQ/B9JJ49Q98D+blUjCFWToP3hH1jM4RuA/WK3Rb1FI0D/u8DvzqLDRPAAAAAAAAAAAJtcPF7PHyz/cCWR/HsTbP3PgFpidzuQ/Dvtl5c616z/fZgDQ7UrxP2hx0Qt/tvQ/ajAqdLkc+D8GeGK3vHz7Pz5++B2q1f4/N+H8YVITAUBzt/noaLcCQK3DrVqsVgRAsiwyrLHwBUDO5ZUsD4UHQJAoHKBcEwlAPrsaWzObCkC/FnFcLhwMQKyZkWfqlQ1AVBIWHgYID0Dsg2wMETkQQPukRoDw6RBAZLjm0nOWEUBgjE6Mbj4SQNzlql+14RJAL9d8Nh6AE0BzGHM7gBkUQIOV8OSzrRRAKHs9/5I8FUDTImC2+MUVQB1Tm5/BSRZApGKPwsvHFkC64vuh9j8XQC+QH0QjshdAc2G0OjQeGEBBo4WqDYQYQCovnlKV4xhANeIMk7I8GUDglD1zTo8ZQN7x5KdT2xlAjaR9mK4gGkAwdVVkTV8aQGoFKecflxpA/PxMvRfIGkAelGNHKPIaQNGGna1GFRtARJqF4mkxG0AR/FWlikYbQB7h1oOjVBtAAOnF27BbG0AA6cXbsFsbQB7h1oOjVBtAEfxVpYpGG0BEmoXiaTEbQNGGna1GFRtAHpRjRyjyGkD8/Ey9F8gaQGoFKecflxpAMHVVZE1fGkCNpH2YriAaQN7x5KdT2xlA4ZQ9c06PGUA04gyTsjwZQCsvnlKV4xhAQaOFqg2EGEBzYbQ6NB4YQC6QH0QjshdAueL7ofY/F0CkYo/Cy8cWQB1Tm5/BSRZA0iJgtvjFFUAoez3/kjwVQIOV8OSzrRRAdBhzO4AZFEAu13w2HoATQNrlql+14RJAYYxOjG4+EkBmuObSc5YRQPqkRoDw6RBA7INsDBE5EEBVEhYeBggPQKqZkWfqlQ1AvxZxXC4cDEA+uxpbM5sKQJEoHKBcEwlAyuWVLA+FB0CxLDKssfAFQK3DrVqsVgRAdbf56Gi3AkA04fxhUhMBQD5++B2q1f4/CXhit7x8+z9vMCp0uRz4P2Rx0Qt/tvQ/32YA0O1K8T8V+2XlzrXrP2TgFpidzuQ/zglkfx7E2z8o1w8Xs8fLP3K0pH59Ls48AAAAAAAAAADsT6hpIOLGPxRnH2Mt39Y/1i18o7Ij4T+wQ8GQY9PmPxuxez0yfew/DUgGedQP8T8LU7ftqdzzP3Vjh7VgpPY/XkwHW0Fm+T9RlezplSH8Pzp++B2q1f4/jdK3yOXAAEB0KYv1pBICQKLK0oW7XwNAmLZWndOnBECGQGypmOoFQF/0wna3JwdAiOvWRt5eCEC5CAPlvI8JQMSsLbsEugpA3Y8K5mjdC0CYhuxInvkMQNQWIqFbDg5A5d7XmFkbD0Bh+L1sKRAQQPWxzg6CjhBANsEhIZYIEUByDNwrRn4RQLVK4Nhz7xFAaeOg+wFcEkAvGqWY1MMSQJiWv+zQJhNA1mv0c92EE0AY2Qzw4d0TQKAQ127HMRRAI2kQUHiAFEArc/hK4MkUQJaCi3PsDRVAOFNjP4tMFUC3hjyKrIUVQD3RH5pBuRVAisItIz3nFUC+MAxLkw8WQNpi9Ks5MhZANTFhVydPFkAca1zYVGYWQK7pajW8dxZAENEW8liDFkB0mhcQKIkWQHSaFxAoiRZAENEW8liDFkCu6Wo1vHcWQBxrXNhUZhZANTFhVydPFkDaYvSrOTIWQL4wDEuTDxZAisItIz3nFUA90R+aQbkVQLeGPIqshRVAOFNjP4tMFUCXgotz7A0VQCtz+ErgyRRAJGkQUHiAFECgENduxzEUQBjZDPDh3RNA1Wv0c92EE0CYlr/s0CYTQC8apZjUwxJAaeOg+wFcEkC0SuDYc+8RQHIM3CtGfhFANsEhIZYIEUD2sc4Ogo4QQGD4vWwpEBBA5N7XmFkbD0DVFiKhWw4OQJqG7Eie+QxA3I8K5mjdC0DErC27BLoKQLoIA+W8jwlAh+vWRt5eCEBf9MJ2tycHQIZAbKmY6gVAmbZWndOnBECfytKFu18DQHIpi/WkEgJAjdK3yOXAAEA+fvgdqtX+P02V7OmVIfw/XkwHW0Fm+T92Y4e1YKT2Pw9Tt+2p3PM/CkgGedQP8T8bsXs9Mn3sP7ZDwZBj0+Y/yi18o7Ij4T8IZx9jLd/WP+5PqGkg4sY/inStdIzcyDwAAAAAAAAAAEiQOA335ME/jX0eoqji0T9WyZ1/Oc7aP51INr5w2eE/Ngbq3ipH5j/WJy3kJq/qPxjpNQtCEO8/YGWQq6208T8PU7ftqdzzPyxG/YKH//U/azAqdLkc+D9JozZAtDP6PxSSQQDuQ/w/mloci95M/j9N9THM/yYAQPX6jnFmIwFAmajoJWIbAkCoUwj9sg4DQPVxtz4a/QNAUmrqdlrmBECh1ZeFN8oFQOoaOK52qAZA62fppt6AB0DYHjSnN1MIQPDqa3ZLHwlA8capeeXkCUAwW1vB0qMKQHg0ZBbiWwtAMnHNBuQMDEDsnwDyqrYMQOCnihQLWQ1AnLNjk9rzDUBONbmG8YYOQKE8NwQqEg9AkHfOKGCVD0CLLPoQOQgQQK2BLRugQRBAAlsPZ9Z2EECTUjM9zqcQQJugO/561BBA0A4aJtH8EEAw5AdPxiARQIAFNDRRQBFAkJkmtGlbEUCjk9nSCHIRQK6ZhbsohBFAoc8iwsSREUB7JJ1k2ZoRQMfRu0tknxFAx9G7S2SfEUB7JJ1k2ZoRQKHPIsLEkRFArpmFuyiEEUCjk9nSCHIRQJCZJrRpWxFAgAU0NFFAEUAw5AdPxiARQNAOGibR/BBAm6A7/nrUEECTUjM9zqcQQAJbD2fWdhBArIEtG6BBEECMLPoQOQgQQJB3zihglQ9AoTw3BCoSD0BMNbmG8YYOQJuzY5Pa8w1A4KeKFAtZDUDunwDyqrYMQDFxzQbkDAxAeDRkFuJbC0AwW1vB0qMKQPHGqXnl5AlA7uprdksfCUDXHjSnN1MIQOxn6abegAdA7Bo4rnaoBkCg1ZeFN8oFQFJq6nZa5gRA9nG3Phr9A0CnUwj9sg4DQJmo6CViGwJA9fqOcWYjAUBO9THM/yYAQJZaHIveTP4/EZJBAO5D/D9JozZAtDP6P28wKnS5HPg/KUb9gof/9T8PU7ftqdzzP2JlkKuttPE/Huk1C0IQ7z/QJy3kJq/qPzYG6t4qR+Y/okg2vnDZ4T9DyZ1/Oc7aP4R9HqKo4tE/SpA4DffkwT/wMcuz+nDDPAAAAAAAAAAA1mS1ELequT89VJoyaKfJP9z4d/1rOdM/xUX2SC+a2T81ORIbWfTfPzeDSiMjI+M/Mgbq3ipH5j8y7Rh/dGXpPxuxez0yfew/mea0A5iN7z/cZgDQ7UrxP5/7qXyayvI/EMh3IW9F9D/gA68XCrv1PwZ2ZRELK/c/zoBUMhOV+D+v5Uwoxfj5P2vzREPFVfs/8er6jLmr/D+HgyXgSfr9P+2TLP8fQf8/hwIy1fM/AECwqeFaJ9sAQOsCCo8CcgFATtLIjl4EAkBY7/qfFZICQKfZ9ToDGwNA6E3yEwSfA0CYbSUk9h0EQDMhhrK4lwRAFHI8XCwMBUBNr7gcM3sFQLVHcFWw5AVAc1o+1YhIBkBXF2bfoqYGQE4gNTLm/gZAUTZEDTxRB0APlVQ3j50HQHV6yAPM4wdA5HC1V+AjCECaDY+uu10IQDHvaB5PkQhAVuPOW42+CED1NTK9auUIQMVH6z3dBQlAyqXOgNwfCUBo91TSYTMJQLg0VSpoQAlAPrNQLexGCUA+s1At7EYJQLg0VSpoQAlAaPdU0mEzCUDKpc6A3B8JQMVH6z3dBQlA9TUyvWrlCEBW485bjb4IQDHvaB5PkQhAmg2PrrtdCEDkcLVX4CMIQHV6yAPM4wdAD5VUN4+dB0BQNkQNPFEHQE8gNTLm/gZAVxdm36KmBkBzWj7ViEgGQLJHcFWw5AVATK+4HDN7BUAUcjxcLAwFQDMhhrK4lwRAlm0lJPYdBEDoTfITBJ8DQKfZ9ToDGwNAWe/6nxWSAkBM0siOXgQCQOoCCo8CcgFAsanhWifbAECIAjLV8z8AQOqTLP8fQf8/h4Ml4En6/T/y6vqMuav8P2rzREPFVfs/r+VMKMX4+T/OgFQyE5X4Pwd2ZRELK/c/3QOvFwq79T8OyHchb0X0P5/7qXyayvI/32YA0O1K8T+U5rQDmI3vPxuxez0yfew/M+0Yf3Rl6T82BureKkfmPzKDSiMjI+M/NTkSG1n03z/LRfZIL5rZP874d/1rOdM/MFSaMminyT/YZLUQt6q5P9tcSCS94rs8AAAAAAAAAAAEvHKVFeKuP9wgX5sa3r4/LJJDv5ohxz+ePuvGMc7OP874d/1rOdM/fNDNfsoG1z89yZ1/Oc7aPx4+vZ+/jt4/yi18o7Ij4T8WWHJymvviP2LgFpidzuQ/x6elskOc5j+elUjCFWToP6JDxEeeJeo/SYbBYmng6z+/AqzvBJTtP4EfHqUAQO8/Al1pGPdx8D+ylQqqsD/xP9Ej1P/3CPI/DJOON5nN8j+EU8mhYY3zP7Fo684fSPQ/Dabxm6P99D/QMNc+vq31P8UTpVJCWPY/Z8kl4wP99j8nuDl42Jv3Pw+1ySCXNPg/kLpUfRjH+D/YGhbKNlP5PxKQwejN2Pk/OKjSabtX+j/yJW2V3s/6P+UMzHMYQfs/1iw91Uur+z/jHKdZXQ78P1m2l3czavw/hj3Zgra+/D8Uhoyy0Av9P1eAxiZuUf0/8ryv7XyP/T+8lCQI7cX9P7bD1G2w9P0/72bhELsb/j+hbvjgAjv+P4S37M1/Uv4/JiDKySti/j8hEWXKAmr+PyERZcoCav4/JiDKySti/j+Et+zNf1L+P6Fu+OACO/4/72bhELsb/j+2w9RtsPT9P7yUJAjtxf0/8ryv7XyP/T9XgMYmblH9PxSGjLLQC/0/hj3Zgra+/D9atpd3M2r8P+Mcp1ldDvw/1iw91Uur+z/lDMxzGEH7P/IlbZXez/o/NqjSabtX+j8QkMHozdj5P9gaFso2U/k/krpUfRjH+D8OtckglzT4Pye4OXjYm/c/Z8kl4wP99j/GE6VSQlj2P88w1z6+rfU/DKbxm6P99D+yaOvOH0j0P4ZTyaFhjfM/C5OON5nN8j/RI9T/9wjyP7OVCqqwP/E/AV1pGPdx8D+BHx6lAEDvP78CrO8ElO0/SobBYmng6z+fQ8RHniXqP5uVSMIVZOg/x6elskOc5j9k4BaYnc7kPxNYcnKa++I/yi18o7Ij4T8fPr2fv47eP0PJnX85zto/d9DNfsoG1z/O+Hf9aznTP6U+68Yxzs4/G5JDv5ohxz/NIF+bGt6+Pwe8cpUV4q4/vr+/HMbGsDwAAAAAAAAAAECGYYzOnZQ/06lDUSabpD8cvHKVFeKuPwhMvXKHkLQ/2GS1ELequT92XHfySL6+P0aQOA335ME/2kwByyxmxD/uT6hpIOLGP1GBPfstWMk/JNcPF7PHyz9kkooDDzDOP1mt0W9RSNA/0kXn5Wh00T9xkjeJAJzSP2b42yfMvtM/7sx5zIDc1D9wx5TR1PTVP9DfivR/B9c/YLQ0aDsU2D86qiXnwRrZP6kTh8XPGto/W8KJAiMU2z9ChmlZewbcP2c2/lGa8dw/hf7VUEPV3T+8ytSmO7HeP43KVKBKhd8/XxLiyZwo4D/mC973aYrgP4XyRqTz5+A/GAShsiFB4T/vMAMm3ZXhP0oQBCcQ5uE/Ii1bCaYx4j+oNzVRi3jiP+C7ObituuI/4RFBMvz34j/sULnxZjDjP1MjuWvfY+M/am6/W1iS4z8c1x7HxbvjP4JBFAAd4OM/nn+HqFT/4z+2eXW0ZBnkP9wwA2xGLuQ/0hI5bfQ95D/wLGatakjkP6viKnqmTeQ/q+IqeqZN5D/wLGatakjkP9ISOW30PeQ/3DADbEYu5D+2eXW0ZBnkP55/h6hU/+M/gkEUAB3g4z8c1x7HxbvjP2puv1tYkuM/UyO5a99j4z/sULnxZjDjP+ERQTL89+I/4Ls5uK264j+oNzVRi3jiPyItWwmmMeI/ShAEJxDm4T/uMAMm3ZXhPxcEobIhQeE/hfJGpPPn4D/nC973aYrgP14S4smcKOA/jcpUoEqF3z+8ytSmO7HeP4b+1VBD1d0/ZDb+UZrx3D9BhmlZewbcP1zCiQIjFNs/qxOHxc8a2j85qiXnwRrZP2C0NGg7FNg/0d+K9H8H1z9vx5TR1PTVP+7MecyA3NQ/ZvjbJ8y+0z9ykjeJAJzSP89F5+VodNE/WK3Rb1FI0D9kkooDDzDOPyjXDxezx8s/TYE9+y1YyT/uT6hpIOLGP9tMAcssZsQ/SpA4DffkwT9vXHfySL6+P9hktRC3qrk/DUy9coeQtD8HvHKVFeKuP8mpQ1Emm6Q/QYZhjM6dlD9shHu/D2aWPAAAAAAAAACAZYZhjM6dlL/5qUNRJpukv1O8cpUV4q6/Lky9coeQtL8FZbUQt6q5v6xcd/JIvr6/ZpA4Dffkwb/+TAHLLGbEvxZQqGkg4sa/foE9+y1Yyb9W1w8Xs8fLv5uSigMPMM6/dq3Rb1FI0L/xReflaHTRv5OSN4kAnNK/ifjbJ8y+078UzXnMgNzUv5jHlNHU9NW/+d+K9H8H17+KtDRoOxTYv2eqJefBGtm/1xOHxc8a2r+MwokCIxTbv3SGaVl7Bty/nDb+UZrx3L+5/tVQQ9Xdv/PK1KY7sd6/xcpUoEqF3798EuLJnCjgvwQM3vdpiuC/o/JGpPPn4L82BKGyIUHhvw4xAybdleG/ahAEJxDm4b9CLVsJpjHiv8k3NVGLeOK/Arw5uK264r8CEkEy/Pfivw9RufFmMOO/diO5a99j47+Nbr9bWJLjv0DXHsfFu+O/pkEUAB3g47/Bf4eoVP/jv9p5dbRkGeS/ADEDbEYu5L/1Ejlt9D3kvxUtZq1qSOS/z+IqeqZN5L/P4ip6pk3kvxUtZq1qSOS/9RI5bfQ95L8AMQNsRi7kv9p5dbRkGeS/wX+HqFT/47+mQRQAHeDjv0DXHsfFu+O/jW6/W1iS4792I7lr32Pjvw9RufFmMOO/AxJBMvz34r8BvDm4rbriv8o3NVGLeOK/Qi1bCaYx4r9qEAQnEObhvw0xAybdleG/NgShsiFB4b+j8kak8+fgvwQM3vdpiuC/exLiyZwo4L/FylSgSoXfv/PK1KY7sd6/uv7VUEPV3b+ZNv5RmvHcv3OGaVl7Bty/jcKJAiMU27/aE4fFzxrav2aqJefBGtm/irQ0aDsU2L/634r0fwfXv5fHlNHU9NW/FM15zIDc1L+J+NsnzL7Tv5SSN4kAnNK/7kXn5Wh00b91rdFvUUjQv5uSigMPMM6/WtcPF7PHy796gT37LVjJvxZQqGkg4sa//0wByyxmxL9qkDgN9+TBv6Zcd/JIvr6/BWW1ELequb8zTL1yh5C0vz68cpUV4q6/7qlDUSabpL9mhmGMzp2Uv5SEe78PZpa8AAAAAAAAAIAWvHKVFeKuv+4gX5sa3r6/OJJDv5ohx7+vPuvGMc7Ov9r4d/1rOdO/itDNfsoG179NyZ1/Oc7avy8+vZ+/jt6/0y18o7Ij4b8hWHJymvviv27gFpidzuS/06elskOc5r+rlUjCFWTov7JDxEeeJeq/WYbBYmng67/QAqzvBJTtv5IfHqUAQO+/C11pGPdx8L+8lQqqsD/xv9wj1P/3CPK/FpOON5nN8r+QU8mhYY3zv7xo684fSPS/Gqbxm6P99L/dMNc+vq31v9ITpVJCWPa/dckl4wP99r80uDl42Jv3vx21ySCXNPi/n7pUfRjH+L/mGhbKNlP5vyCQwejN2Pm/SKjSabtX+r8CJm2V3s/6v/QMzHMYQfu/5Sw91Uur+7/0HKdZXQ78v2q2l3czavy/lz3Zgra+/L8khoyy0Av9v2iAxiZuUf2/A72v7XyP/b/NlCQI7cX9v8fD1G2w9P2/AGfhELsb/r+xbvjgAjv+v5a37M1/Uv6/NyDKySti/r8zEWXKAmr+vzMRZcoCav6/NyDKySti/r+Wt+zNf1L+v7Fu+OACO/6/AGfhELsb/r/Hw9RtsPT9v82UJAjtxf2/A72v7XyP/b9ogMYmblH9vySGjLLQC/2/lz3Zgra+/L9rtpd3M2r8v/Qcp1ldDvy/5iw91Uur+7/0DMxzGEH7vwImbZXez/q/RqjSabtX+r8fkMHozdj5v+YaFso2U/m/oLpUfRjH+L8ctckglzT4vzS4OXjYm/e/dckl4wP99r/SE6VSQlj2v9ww1z6+rfW/GKbxm6P99L++aOvOH0j0v5JTyaFhjfO/FpOON5nN8r/cI9T/9wjyv72VCqqwP/G/Cl1pGPdx8L+SHx6lAEDvv9ACrO8ElO2/WobBYmng67+uQ8RHniXqv6qVSMIVZOi/06elskOc5r9x4BaYnc7kvx5YcnKa++K/0y18o7Ij4b8wPr2fv47ev1LJnX85ztq/hNDNfsoG17/a+Hf9aznTv7Y+68Yxzs6/KZJDv5ohx7/eIF+bGt6+vxi8cpUV4q6/x7+/HMbGsLwAAAAAAAAAgN5ktRC3qrm/RlSaMminyb/i+Hf9aznTv85F9kgvmtm/QDkSG1n03789g0ojIyPjvzoG6t4qR+a/O+0Yf3Rl6b8lsXs9Mn3sv6TmtAOYje+/4mYA0O1K8b+m+6l8msryvxfIdyFvRfS/5wOvFwq79b8NdmURCyv3v9aAVDITlfi/uOVMKMX4+b9080RDxVX7v/rq+oy5q/y/kYMl4En6/b/3kyz/H0H/v4wCMtXzPwDAtqnhWifbAMDxAgqPAnIBwFTSyI5eBALAX+/6nxWSAsCu2fU6AxsDwO9N8hMEnwPAnm0lJPYdBMA7IYayuJcEwBtyPFwsDAXAVK+4HDN7BcC8R3BVsOQFwHxaPtWISAbAXhdm36KmBsBWIDUy5v4GwFg2RA08UQfAF5VUN4+dB8B9esgDzOMHwO1wtVfgIwjAog2PrrtdCMA672geT5EIwF/jzluNvgjA/jUyvWrlCMDOR+s93QUJwNOlzoDcHwnAcPdU0mEzCcDBNFUqaEAJwEezUC3sRgnAR7NQLexGCcDBNFUqaEAJwHD3VNJhMwnA06XOgNwfCcDOR+s93QUJwP41Mr1q5QjAX+POW42+CMA672geT5EIwKINj667XQjA7XC1V+AjCMB9esgDzOMHwBiVVDePnQfAWDZEDTxRB8BWIDUy5v4GwF4XZt+ipgbAfFo+1YhIBsC6R3BVsOQFwFOvuBwzewXAG3I8XCwMBcA7IYayuJcEwJ5tJST2HQTA703yEwSfA8Cu2fU6AxsDwGDv+p8VkgLAU9LIjl4EAsDwAgqPAnIBwLep4Von2wDAjgIy1fM/AMD2kyz/H0H/v5GDJeBJ+v2//Or6jLmr/L9y80RDxVX7v7jlTCjF+Pm/1oBUMhOV+L8QdmURCyv3v+QDrxcKu/W/Fsh3IW9F9L+m+6l8msryv+VmANDtSvG/n+a0A5iN778lsXs9Mn3svzztGH90Zem/Pwbq3ipH5r85g0ojIyPjv0A5EhtZ9N+/1EX2SC+a2b/V+Hf9aznTvzlUmjJop8m/4WS1ELequb/kXEgkveK7vAAAAAAAAACAQ5A4Dffkwb+HfR6iqOLRv03JnX85ztq/mEg2vnDZ4b8wBureKkfmv80nLeQmr+q/Duk1C0IQ779bZZCrrbTxvwlTt+2p3PO/JUb9gof/9b9kMCp0uRz4v0CjNkC0M/q/C5JBAO5D/L+RWhyL3kz+v0j1Mcz/JgDA8PqOcWYjAcCUqOglYhsCwKJTCP2yDgPA7nG3Phr9A8BMaup2WuYEwJrVl4U3ygXA4xo4rnaoBsDkZ+mm3oAHwNEeNKc3UwjA5+prdksfCcDoxql55eQJwChbW8HSowrAbzRkFuJbC8Aocc0G5AwMwOKfAPKqtgzA1qeKFAtZDcCSs2OT2vMNwEQ1uYbxhg7Alzw3BCoSD8CGd84oYJUPwIYs+hA5CBDAqIEtG6BBEMD9Wg9n1nYQwI1SMz3OpxDAlqA7/nrUEMDKDhom0fwQwCrkB0/GIBHAewU0NFFAEcCKmSa0aVsRwJ2T2dIIchHAqZmFuyiEEcCbzyLCxJERwHUknWTZmhHAwtG7S2SfEcDC0btLZJ8RwHUknWTZmhHAm88iwsSREcCpmYW7KIQRwJ2T2dIIchHAipkmtGlbEcB7BTQ0UUARwCrkB0/GIBHAyg4aJtH8EMCWoDv+etQQwI1SMz3OpxDA/VoPZ9Z2EMCngS0boEEQwIcs+hA5CBDAhnfOKGCVD8CXPDcEKhIPwEM1uYbxhg7AkrNjk9rzDcDWp4oUC1kNwOSfAPKqtgzAKHHNBuQMDMBvNGQW4lsLwChbW8HSowrA6sapeeXkCcDl6mt2Sx8JwNAeNKc3UwjA5Wfppt6AB8DkGjiudqgGwJjVl4U3ygXATGrqdlrmBMDwcbc+Gv0DwKFTCP2yDgPAlKjoJWIbAsDw+o5xZiMBwEn1Mcz/JgDAjFoci95M/r8IkkEA7kP8v0CjNkC0M/q/ZzAqdLkc+L8iRv2Ch//1vwlTt+2p3PO/XGWQq6208b8U6TULQhDvv8gnLeQmr+q/MAbq3ipH5r+cSDa+cNnhvzrJnX85ztq/fn0eoqji0b9EkDgN9+TBv+oxy7P6cMO8AAAAAAAAAIDvT6hpIOLGvxdnH2Mt39a/2C18o7Ij4b+0Q8GQY9PmvyCxez0yfey/EEgGedQP8b8PU7ftqdzzv3hjh7VgpPa/Y0wHW0Fm+b9WlezplSH8vz9++B2q1f6/kNK3yOXAAMB3KYv1pBICwKXK0oW7XwPAnLZWndOnBMCKQGypmOoFwGT0wna3JwfAjOvWRt5eCMC9CAPlvI8JwMmsLbsEugrA4o8K5mjdC8CdhuxInvkMwNkWIqFbDg7A6t7XmFkbD8Bk+L1sKRAQwPixzg6CjhDAOcEhIZYIEcB2DNwrRn4RwLhK4Nhz7xHAbOOg+wFcEsAyGqWY1MMSwJyWv+zQJhPA2mv0c92EE8Ab2Qzw4d0TwKQQ127HMRTAJmkQUHiAFMAvc/hK4MkUwJqCi3PsDRXAPFNjP4tMFcC7hjyKrIUVwEHRH5pBuRXAjsItIz3nFcDCMAxLkw8WwN5i9Ks5MhbAOTFhVydPFsAga1zYVGYWwLLpajW8dxbAFNEW8liDFsB3mhcQKIkWwHeaFxAoiRbAFNEW8liDFsCy6Wo1vHcWwCBrXNhUZhbAOTFhVydPFsDeYvSrOTIWwMIwDEuTDxbAjsItIz3nFcBB0R+aQbkVwLuGPIqshRXAPFNjP4tMFcCagotz7A0VwC9z+ErgyRTAKGkQUHiAFMCkENduxzEUwBvZDPDh3RPA2Gv0c92EE8Cblr/s0CYTwDIapZjUwxLAbOOg+wFcEsC3SuDYc+8RwHYM3CtGfhHAOcEhIZYIEcD5sc4Ogo4QwGL4vWwpEBDA6d7XmFkbD8DaFiKhWw4OwJ+G7Eie+QzA4Y8K5mjdC8DJrC27BLoKwL4IA+W8jwnAiuvWRt5eCMBk9MJ2tycHwIpAbKmY6gXAnbZWndOnBMCiytKFu18DwHYpi/WkEgLAkNK3yOXAAMBCfvgdqtX+v1GV7OmVIfy/Y0wHW0Fm+b96Y4e1YKT2vxJTt+2p3PO/DUgGedQP8b8gsXs9Mn3sv7lDwZBj0+a/zC18o7Ij4b8MZx9jLd/Wv/JPqGkg4sa/kHStdIzcyLwAAAAAAAAAgCHXDxezx8u/1wlkfx7E279w4BaYnc7kvwn7ZeXOteu/3GYA0O1K8b9kcdELf7b0v2UwKnS5HPi/AXhit7x8+783fvgdqtX+vzTh/GFSEwHAcLf56Gi3AsCpw61arFYEwK8sMqyx8AXAyuWVLA+FB8CKKBygXBMJwDq7GlszmwrAuhZxXC4cDMCmmZFn6pUNwE8SFh4GCA/A6YNsDBE5EMD4pEaA8OkQwGG45tJzlhHAXYxOjG4+EsDY5apfteESwCzXfDYegBPAcBhzO4AZFMB/lfDks60UwCR7Pf+SPBXAziJgtvjFFcAYU5ufwUkWwJ5ij8LLxxbAteL7ofY/F8AskB9EI7IXwHBhtDo0HhjAPKOFqg2EGMAmL55SleMYwDDiDJOyPBnA3JQ9c06PGcDZ8eSnU9sZwIikfZiuIBrAKnVVZE1fGsBlBSnnH5cawPb8TL0XyBrAGZRjRyjyGsDMhp2tRhUbwECaheJpMRvADPxVpYpGG8AZ4daDo1QbwProxduwWxvA+ujF27BbG8AZ4daDo1QbwAz8VaWKRhvAQJqF4mkxG8DMhp2tRhUbwBmUY0co8hrA9vxMvRfIGsBlBSnnH5cawCp1VWRNXxrAiKR9mK4gGsDZ8eSnU9sZwNyUPXNOjxnAL+IMk7I8GcAmL55SleMYwDyjhaoNhBjAcGG0OjQeGMAqkB9EI7IXwLXi+6H2PxfAnmKPwsvHFsAZU5ufwUkWwM4iYLb4xRXAJHs9/5I8FcB/lfDks60UwHEYczuAGRTAKtd8Nh6AE8DX5apfteESwF2MToxuPhLAYrjm0nOWEcD2pEaA8OkQwOmDbAwRORDAUBIWHgYID8CkmZFn6pUNwLoWcVwuHAzAOrsaWzObCsCNKBygXBMJwMbllSwPhQfAriwyrLHwBcCpw61arFYEwHK3+ehotwLAMeH8YVITAcA3fvgdqtX+vwR4Yre8fPu/ajAqdLkc+L9hcdELf7b0v9xmANDtSvG/EPtl5c61679g4BaYnc7kv8kJZH8exNu/ItcPF7PHy79ttKR+fS7OvAAAAAAAAACAWa3Rb1FI0L+CR9YzOEbgv6+VSMIVZOi/BdJJ49Q98L8RyHchb0X0v30tD7HPR/i/D5JBAO5D/L8u6CGNYRwAwHUpi/WkEgLABLVowT8EBMCxLDKssfAFwHT02sV71wfAjLaKkyC4CcBEtPUvJJILwNaMTGsMZQ3A7j676mAwD8A+o7ej1XkQwMRrjpY7VxHA/Kv9OykwEsDUrhipZgQTwJdNVCi90xPAdiahR/edFMC9cDLm4GIVwGLh7UFHIhbAfymBBPnbFsALrxlQxo8XwMY4u8uAPRjAGF8yr/vkGMBurZ/OC4YZwHZ6mKWHIBrAz5jaYUe0GsDyHZDtJEEbwAmaIPn7xhvAyTiNBKpFHMC+YVVoDr0cwCuN4V0KLR3A7yFyB4GVHcAcUZB3V/YdwCYE/7d0Tx7AjxMq0MGgHsCWHRLLKeoewBx2s7yZKx/APsvmxgBlH8DQPLodUJYfwNHHQQt7vx/AGgre8nbgH8AehvhTO/kfwBhZGubgBCDAW6GKDAMJIMBboYoMAwkgwBhZGubgBCDAHob4Uzv5H8AaCt7yduAfwNHHQQt7vx/A0Dy6HVCWH8A+y+bGAGUfwBx2s7yZKx/Alh0SyynqHsCPEyrQwaAewCYE/7d0Tx7AHVGQd1f2HcDuIXIHgZUdwCyN4V0KLR3AvmFVaA69HMDJOI0EqkUcwAaaIPn7xhvA8h2Q7SRBG8DPmNphR7QawHd6mKWHIBrAbK2fzguGGcAYXzKv++QYwMY4u8uAPRjADK8ZUMaPF8B+KYEE+dsWwGHh7UFHIhbAvXAy5uBiFcB5JqFH950UwJZNVCi90xPA1K4YqWYEE8D9q/07KTASwMJrjpY7VxHAPqO3o9V5EMDuPrvqYDAPwNiMTGsMZQ3AQLT1LySSC8CJtoqTILgJwHT02sV71wfAtCwyrLHwBcABtWjBPwQEwHUpi/WkEgLAL+ghjWEcAMAVkkEA7kP8v3gtD7HPR/i/Ech3IW9F9L8I0knj1D3wv5+VSMIVZOi/ekfWMzhG4L9ardFvUUjQv/DwO/OosNG8AAAAAAAAAIBvkjeJAJzSvxmf4YaameK/WobBYmng67+0U0dYBJDyvwR2ZRELK/e/9jC88RjA+79I9THM/yYAwL4PPz7JaQLAl7ZWndOnBMBp+//wiuAGwIooHKBcEwnAm6Wwlrc/C8DTjExrDGUNwJJNAITNgg/AO+punTfMEMBF6PsAtNIRwAVna0OY1BLAdIGt6qHRE8Cr5wC9j8kUwEwOw9EhvBXAu3fpoRmpFsDQ1x8YOpAXwLTqhqBHcRjApu8POAhMGcBU0nB7QyAawAYorbXC7RrAZkEw7lC0G8BWrnT2unMcwMCuNXfPKx3A7Ckn/V7cHcDS5DAFPIUewILQKQg7Jh/AXGoQhjK/H8DUpF6I/ScgwFqMBqs3bCDAXK2/FDasIMDYwaNG6OcgwOsFZ90+HyHA0qZPlStSIcBVEeNNoYAhwBgtSA2UqiHAeKVdA/nPIcA0dIOMxvAhwAr2FjT0DCLAQ+WgtnokIsBbqrQDVDciwDqHgD97RSLA2DUOxOxOIsClpzMiplMiwKWnMyKmUyLA2DUOxOxOIsA6h4A/e0UiwFuqtANUNyLAQ+WgtnokIsAK9hY09AwiwDR0g4zG8CHAeKVdA/nPIcAYLUgNlKohwFUR402hgCHA0qZPlStSIcDrBWfdPh8hwNfBo0bo5yDAXK2/FDasIMBajAarN2wgwNSkXoj9JyDAW2oQhjK/H8CB0CkIOyYfwNLkMAU8hR7A7ikn/V7cHcC/rjV3zysdwFaudPa6cxzAZkEw7lC0G8AGKK21wu0awFHScHtDIBrApe8POAhMGcC26oagR3EYwNLXHxg6kBfAunfpoRmpFsBMDsPRIbwVwKznAL2PyRTAc4Gt6qHRE8AFZ2tDmNQSwEXo+wC00hHAPOpunTfMEMCNTQCEzYIPwNGMTGsMZQ3Am6Wwlrc/C8COKBygXBMJwGX7//CK4AbAl7ZWndOnBMC/Dz8+yWkCwEz1Mcz/JgDA8TC88RjA+78EdmURCyv3v7lTR1gEkPK/RobBYmng678Qn+GGmpniv3CSN4kAnNK/P9+F6dY31LwAAAAAAAAAgO7MecyA3NS/6l+4fNDZ5L+ZHx6lAEDvv4Iu41ERz/S/sOVMKMX4+b+6RbYjxxv/v5eo6CViGwLAuiu83DWkBMBi9MJ2tycHwFgAhxNBpQnAvhZxXC4cDMCOVCWv3IsOwD6jt6PVeRDA9GBZtH2pEcAHZ2tDmNQSwMoIUDfY+hPAqi64tvEbFcDSijA8mjcWwMgyV6mITRfAdKq0WXVdGMDMhDM1GmcZwIDXMcIyahrAV9knN3xmG8B6Ht+LtVscwKICNoqfSR3A9u5q3vwvHsBTSOsmkg4fwODyoQMm5R/AaLxgksBZIMA0AoMst7wgwCrAtU1dGyHA1CoqkJp1IcDCsQ6xV8shwDz5jZZ+HCLAKUaBVfpoIsAt5NQ2t7AiwDkinbyi8yLAJZbapqsxI8DgbOz3wWojwKGhr/jWniPAPwxKPN3NI8BVTKCjyPcjwMKsdWCOHCTAcDE1+CQ8JMCKF2NGhFYkwNkmtn6layTA3knYLoN7JMDu+M0/GYYkwLsbBPdkiyTAuxsE92SLJMDu+M0/GYYkwN5J2C6DeyTA2Sa2fqVrJMCKF2NGhFYkwHAxNfgkPCTAwqx1YI4cJMBVTKCjyPcjwD8MSjzdzSPAoaGv+NaeI8DgbOz3wWojwCaW2qarMSPAOCKdvKLzIsAu5NQ2t7AiwClGgVX6aCLAPPmNln4cIsDAsQ6xV8shwNQqKpCadSHAKsC1TV0bIcA1AoMst7wgwGe8YJLAWSDA4PKhAyblH8BTSOsmkg4fwPjuat78Lx7AoAI2ip9JHcB4Ht+LtVscwFjZJzd8ZhvAgtcxwjJqGsDKhDM1GmcZwHSqtFl1XRjAyjJXqYhNF8DRijA8mjcWwKouuLbxGxXAyghQN9j6E8AIZ2tDmNQSwPFgWbR9qRHAPaO3o9V5EMCOVCWv3IsOwMIWcVwuHAzAVQCHE0GlCcBi9MJ2tycHwLsrvNw1pATAmqjoJWIbAsC0RbYjxxv/v7DlTCjF+Pm/hi7jURHP9L+EHx6lAEDvv+BfuHzQ2eS/78x5zIDc1L8XKcKBLarWvAAAAAAAAACAzt+K9H8H17/nveQciATnv72VCqqwP/G/9iHLCav49r/u6vqMuav8v36qzwyyKwHA8HG3Phr9A8BzEyNnW8kGwLgIA+W8jwnA2oThmodPDMBOEhYeBggPwFCOxHJC3BDA+qv9OykwEsBFjOLMX38TwKvnAL2PyRTAfgOO72MOFsDGMlepiE0XwMYxV6arhhjAyMvqLny5GcABVJ8sq+UawGCUlT7rChzAGPFzzfAoHcC1nOIecj8ewMzWjGgnTh/AqSdRcWUqIMCn9OlsjKkgwAOdY+BnJCHAgSJ+INiaIcDwjJClvgwiwEuPZxP+eSLAv/vWQHriIsAsE/w+GEYjwCPRLmC+pCPAKmqgPlT+I8CcR6XCwlIkwALiqCj0oSTAMPHJBtTrJMDffx1STzAlwKKHl2NUbyXAItGX/NKoJcCG7BlLvNwlwJQth+0CCybAka8p9pozJsAffT/ueVYmwFgRrdiWcybA/n9ONOqKJsAHrOb9bZwmwLgMrLEdqCbAIptyTPatJsAim3JM9q0mwLgMrLEdqCbAB6zm/W2cJsD+f0406oomwFgRrdiWcybAH30/7nlWJsCRryn2mjMmwJQth+0CCybAhuwZS7zcJcAi0Zf80qglwKKHl2NUbyXA338dUk8wJcAu8ckG1OskwATiqCj0oSTAnEelwsJSJMAqaqA+VP4jwCLRLmC+pCPAKxP8PhhGI8C/+9ZAeuIiwEyPZxP+eSLA74yQpb4MIsCBIn4g2JohwAOdY+BnJCHAqPTpbIypIMCnJ1FxZSogwMvWjGgnTh/AtpziHnI/HsAa8XPN8CgdwF6UlT7rChzAAVSfLKvlGsDLy+oufLkZwMQxV6arhhjAxjJXqYhNF8B+A47vYw4WwKznAL2PyRTAQozizF9/E8D5q/07KTASwFCOxHJC3BDAUhIWHgYID8DVhOGah08MwLgIA+W8jwnAdhMjZ1vJBsDzcbc+Gv0DwHqqzwyyKwHA7ur6jLmr/L/8IcsJq/j2v7KVCqqwP/G/3L3kHIgE57/P34r0fwfXv92+UhcnBdm8AAAAAAAAAIA6qiXnwRrZvwXk3ZaFF+m/GpOON5nN8r9vhS7Wlgr5v+6TLP8fQf+/lYEtWs23AsCe1ZeFN8oFwKAD9coD1wjA3o8K5mjdC8DALyU5n9wOwPmkRoDw6RDAbqTAQjVhEsCXTVQovdMTwN4w+a0oQRXAvnfpoRmpFsBEtek7MwsYwMyEMzUaZxnAsMz833S8GsBilJU+6wocwG54FhonUh3AtuOZGNSRHsBRU/rSn8kfwDAFCPWcfCDA+l20DSoQIcAQ6rkqUZ8hwG8Wj2XtKSLAchBsA9uvIsCFioB+9zAjwFzc2Y4hrSPAfDP3MjkkJMDrnQm4H5YkwKTO3cG3AiXAnJFtUuVpJcD3+xbRjcslwCt8dxGYJybA4AXpWex9JsAKrZ9pdM4mwAMdZn4bGSfA13D3Wc5dJ8DWC/VGe5wnwPcqdx0S1SfA8QE3R4QHKMAgUVHDxDMowCV8oCnIWSjAEkStrYR5KMADYzUh8pIowKBiR/YJpijANiLzQMeyKMAJnY64JrkowAmdjrgmuSjANiLzQMeyKMCgYkf2CaYowANjNSHykijAEkStrYR5KMAlfKApyFkowCBRUcPEMyjA8QE3R4QHKMD3KncdEtUnwNYL9UZ7nCfA13D3Wc5dJ8ADHWZ+GxknwAqtn2l0zibA4AXpWex9JsArfHcRmCcmwPf7FtGNyyXAm5FtUuVpJcCjzt3BtwIlwOudCbgfliTAfTP3MjkkJMBb3NmOIa0jwIWKgH73MCPAchBsA9uvIsBwFo9l7SkiwA7quSpRnyHA+V20DSoQIcAwBQj1nHwgwFVT+tKfyR/As+OZGNSRHsBueBYaJ1IdwGSUlT7rChzAr8z833S8GsDMhDM1GmcZwES16TszCxjAv3fpoRmpFsDbMPmtKEEVwJZNVCi90xPAbqTAQjVhEsD8pEaA8OkQwLwvJTmf3A7A3o8K5mjdC8CjA/XKA9cIwKLVl4U3ygXAkYEtWs23AsDukyz/H0H/v3WFLtaWCvm/DZOON5nN8r/4492WhRfpvzuqJefBGtm/t3P0GlZG27wAAAAAAAAAgFnCiQIjFNu/80x4j6UQ67++aOvOH0j0vzLT/nWyAvu/r6nhWifbAMDYmzwpnTAEwOVn6abegAfA3p0vLBHLCsDSFiKhWw4OwM9jylrzpBDAXYxOjG4+EsBsOsfXNdMTwLpwMubgYhXAa83HsQjtFsC26oagR3EYwA36Z5457xnAVNknN3xmG8Do+6ivrtYcwLWc4h5yPx7A+8tXhmmgH8AuBQj1nHwgwKGhBTTFJCHAjY2VJ4LIIcCw1MWaqWciwPjtIocSAiPA1fNKH5WXI8BmKTDZCigkwGgnCHhOsyTAaiHlFTw5JcDcyfYssbklwDdycKCMNCbAQxwSxa6pJsDxSFJp+RgnwFZqJt1PgifABvdn+ZblJ8DyNtQmtUIowNL7pGSSmSjA0pHAThjqKMBbUH8jMjQpwM1NBcnMdynAbtUu0ta0KcBkWg6DQOspwHS/+tT7GirA0OcsevxDKsBkouvgN2YqwFseRTalgSrAEDVVaD2WKsBP8xco+6MqwLDpx+raqirAsOnH6tqqKsBP8xco+6MqwBA1VWg9lirAWx5FNqWBKsBkouvgN2YqwNDnLHr8QyrAdL/61PsaKsBkWg6DQOspwG7VLtLWtCnAzU0Fycx3KcBbUH8jMjQpwNSRwE4Y6ijA0PukZJKZKMD0NtQmtUIowAb3Z/mW5SfAVmom3U+CJ8DwSFJp+RgnwEIcEsWuqSbAN3JwoIw0JsDcyfYssbklwGkh5RU8OSXAaCcIeE6zJMBmKTDZCigkwNbzSh+VlyPA9u0ihxICI8Cv1MWaqWciwI6NlSeCyCHAo6EFNMUkIcAtBQj1nHwgwPvLV4ZpoB/AtpziHnI/HsDm+6ivrtYcwFTZJzd8ZhvADfpnnjnvGcC36oagR3EYwGfNx7EI7RbAuXAy5uBiFcBsOsfXNdMTwF+MToxuPhLAzGPKWvOkEMDSFiKhWw4OwOGdLywRywrA6mfppt6AB8DVmzwpnTAEwK+p4Von2wDAONP+dbIC+7+waOvOH0j0v+VMeI+lEOu/WsKJAiMU27/dkXaTZ2vdvAAAAAAAAACAZjb+UZrx3L9iwh9V3+3sv+Aw1z6+rfW/vtgGRPbe/L9O0siOXgQCwOaFAQ2dlAXA6uprdksfCcDZX9wTgKMMwGH4vWwpEBDAfHFM0W7KEcAs13w2HoATwM+M0cnGMBXAfymBBPnbFsCeAzbIRoEYwFXScHtDIBrAExSHJYS4G8ChAjaKn0kdwFz5wkQu0x7AqidRcWUqIMBh487+COcgwA7quSpRnyHABpF0dA5TIsD47SKHEgIjwIA3nEUwrCPA5swL1jtRJMCr5T6tCvEkwPL+m5lziyXALTPBzU4gJsBDv8bqda8mwDEQIwrEOCfAdMwtxxW8J8CQZT9ISTkowKXXakc+sCjARFfPGtYgKcCayH+884opwEz2/dF77inAXJpHs1RLKsDAZ3NxZqEqwGpg3Nya8CrAZeDZit04K8Dc5ALbG3orwLAz+/tEtCvAtibJ70nnK8Cd/LKPHRMswHWwoo+0NyzAIHgPgQVVLMB5KWzVCGsswNjlGeC4eSzAWove1xGBLMBai97XEYEswNjlGeC4eSzAeSls1QhrLMAgeA+BBVUswHWwoo+0NyzAnfyyjx0TLMC2JsnvSecrwLAz+/tEtCvA3OQC2xt6K8Bl4NmK3TgrwGpg3Nya8CrAwmdzcWahKsBbmkezVEsqwE32/dF77inAmsh/vPOKKcBEV88a1iApwKTXakc+sCjAkGU/SEk5KMB0zC3HFbwnwDIQIwrEOCfAQ7/G6nWvJsAtM8HNTiAmwPL+m5lziyXAq+U+rQrxJMDkzAvWO1EkwH83nEUwrCPA+e0ihxICI8AIkXR0DlMiwA7quSpRnyHAYePO/gjnIMCrJ1FxZSogwFv5wkQu0x7AoQI2ip9JHcATFIclhLgbwFjScHtDIBrAmgM2yEaBGMB9KYEE+dsWwM+M0cnGMBXAL9d8Nh6AE8B6cUzRbsoRwGH4vWwpEBDA3F/cE4CjDMDw6mt2Sx8JwOCFAQ2dlAXATtLIjl4EAsDG2AZE9t78v9Aw1z6+rfW/U8IfVd/t7L9nNv5RmvHcv42WCoMlct+8AAAAAAAAAIC4ytSmO7Hev4RklfhGre6/dskl4wP99r/FGZROd53+v6fZ9ToDGwPAXjCjDF7iBsAqW1vB0qMKwPzKaoNpXg7ANsEhIZYIEcDqWPV4k90SwICV8OSzrRTArTq7wX94FsDFOLvLgD0YwHPTkD1C/BnAZ0Ew7lC0G8DqApFuO2UdwE9I6yaSDh/Ac++9ufNXIMADnWPgZyQhwLQnqtNw7CHAcRBsA9uvIsA8eWUQdG4jwGYpMNkKKCTAAKLthm/cJMDw/puZc4slwNZ2EvTpNCbAwGKi56bYJsBxzlk/gHYnwPip5EpNDijA4M4J6eafKMCuJMGRJyspwC5L4F/rrynAGUxbGhAuKsCE8RY9daUqwPZ6SgH8FSvADohuZYd/K8AwLbc0/OErwNpEFw5BPSzA2C7Laj6RLMCgTWmk3t0swK6xdvoNIy3AmYJ+l7pgLcDa1aqV1JYtwPzD3QJOxS3Ax61J5BrsLcAXxIc5MQsuwL0GLP+IIi7AJxDWMBwyLsCcJb7K5jkuwJwlvsrmOS7AJxDWMBwyLsC9Biz/iCIuwBfEhzkxCy7Ax61J5BrsLcD8w90CTsUtwNrVqpXUli3AmYJ+l7pgLcCusXb6DSMtwKBNaaTe3SzA2C7Laj6RLMDcRBcOQT0swDAttzT84SvADohuZYd/K8D2ekoB/BUrwITxFj11pSrAGExbGhAuKsAtS+Bf668pwK4kwZEnKynA4M4J6eafKMD2qeRKTQ4owHHOWT+AdifAwGKi56bYJsDYdhL06TQmwO/+m5lziyXA/qHthm/cJMBnKTDZCigkwD15ZRB0biPAcBBsA9uvIsC0J6rTcOwhwASdY+BnJCHAcu+9ufNXIMBPSOsmkg4fwOoCkW47ZR3AakEw7lC0G8Bv05A9QvwZwMM4u8uAPRjArTq7wX94FsCDlfDks60UwOdY9XiT3RLANsEhIZYIEcD9ymqDaV4OwC9bW8HSowrAWTCjDF7iBsCn2fU6AxsDwMwZlE53nf6/Zskl4wP99r92ZJX4Rq3uv7rK1KY7sd6/A+9Zlzys4LwAAAAAAAAAgF4S4smcKOC/ljgEpIcm8L8gtckglzT4vyAdxag0HgDAmG0lJPYdBMD8UbMdiBgIwCxxzQbkDAzAXIKx6gT6D8C1SuDYc+8RwK8uJLJF3RPAzyJgtvjFFcCRn7TsDqkXwGytn84LhhnA+zkWaHRcG8DDrjV3zysdwEyehYul8x7AZ7xgksBZIMB8LJFodzUhwPGMkKW+DCLAUYVUy17fIsBb3NmOIa0jwK44I+bRdSTAbCHlFTw5JcCVuNu+LfclwEO/xup1rybAyIoIGeVhJ8D5qeRKTQ4owIoSWw+CtCjALcicjlhUKcBwCReVp+0pwJ8pEp5HgCrA1Vrh3RIMK8ACyKBL5ZArwPx7f6qcDizAsrCSkhiFLMAUQDB5OvQswHYPzrjlWy3A721kmP+7LcB3flFSbxQuwBPnuxoeZS7A2R9zJfetLsDv3Uur5+4uwMI49+7eJy/AFkpTQc5YL8AjLDQFqYEvwAdcpLJkoi/A7qmb2fi6L8DeAywkX8svwI6LI1iT0y/AjosjWJPTL8DeAywkX8svwO6pm9n4ui/AB1yksmSiL8AjLDQFqYEvwBZKU0HOWC/Awjj37t4nL8Dv3Uur5+4uwNkfcyX3rS7AE+e7Gh5lLsB3flFSbxQuwPBtZJj/uy3AdQ/OuOVbLcAVQDB5OvQswLKwkpIYhSzA/Ht/qpwOLMAAyKBL5ZArwNRa4d0SDCvAnykSnkeAKsByCReVp+0pwCzInI5YVCnAihJbD4K0KMD5qeRKTQ4owMmKCBnlYSfAQr/G6nWvJsCUuNu+LfclwGwh5RU8OSXAsTgj5tF1JMBa3NmOIa0jwFGFVMte3yLA8oyQpb4MIsB8LJFodzUhwGe8YJLAWSDATJ6Fi6XzHsDGrjV3zysdwPc5Fmh0XBvAaq2fzguGGcCRn7TsDqkXwNMiYLb4xRXArC4kskXdE8C1SuDYc+8RwF2CseoE+g/AMnHNBuQMDMD3UbMdiBgIwJhtJST2HQTAJR3FqDQeAMAPtckglzT4v404BKSHJvC/XxLiyZwo4L946r6iNo7hvAAAAAAAAACAg/JGpPPn4L/+hz/VxeXwv+gaFso2U/m/YmFrSBDdAMAScjxcLAwFwB5v04bbNQnA2KeKFAtZDcAvckj/VLoQwC4apZjUwxLA0wcY6X3IFMCeYo/Cy8cWwP4tf1g6wRjAzZjaYUe0GsBoaqk6cqAcwNLkMAU8hR7ABchT5RMxIMApwLVNXRshwAJlWdc9ASLAv/vWQHriIsB1PQp72L4jwOqdCbgfliTAp8TKeRhoJcA4cnCgjDQmwHghPnhH+ybAc8wtxxW8J8BIVCTaxXYowK4kwZEnKynAxsXFbgzZKcCfKRKeR4AqwICeMgSuICvAgGt8SBa6K8A9OrbfWEwswDiOSRZQ1yzAZan6GdhaLcCAXCQDz9YtwNxhdd0USy7A+AEtsIu3LsBK4tSFFxwvwHUAdnOeeC/APv5GnwjNL8DFAmkjoAwwwEdXSOKYLjDAETt+ymVMMMD8Ookt/2UwwHSaJHJeezDA7sT7FX6MMMB52BWvWZkwwLXr+OztoTDAF8SEmTimMMAXxISZOKYwwLXr+OztoTDAedgVr1mZMMDuxPsVfowwwHSaJHJeezDA/DqJLf9lMMARO37KZUwwwEdXSOKYLjDAxQJpI6AMMMA+/kafCM0vwHUAdnOeeC/ATOLUhRccL8D3AS2wi7cuwNxhdd0USy7AgFwkA8/WLcBlqfoZ2FotwDaOSRZQ1yzAPDq231hMLMCAa3xIFrorwICeMgSuICvAnikSnkeAKsDGxcVuDNkpwK4kwZEnKynASVQk2sV2KMBwzC3HFbwnwHYhPnhH+ybAOHJwoIw0JsCqxMp5GGglwOmdCbgfliTAdT0Ke9i+I8DA+9ZAeuIiwAFlWdc9ASLAKcC1TV0bIcAFyFPlEzEgwNTkMAU8hR7AZGqpOnKgHMDMmNphR7QawP4tf1g6wRjAomKPwsvHFsDQBxjpfcgUwC4apZjUwxLAMHJI/1S6EMDep4oUC1kNwBdv04bbNQnAEnI8XCwMBcBmYWtIEN0AwNYaFso2U/m/9oc/1cXl8L+E8kak8+fgv5o9oPIXXuK8AAAAAAAAAIDuMAMm3ZXhvzGK0uyYk/G/TKjSabtX+r/8Fa7IiYoBwLVHcFWw5AXAxvNIKTI5CsBJNbmG8YYOwDb+KDdpZhHA12v0c92EE8B+caOlSZ4VwC6QH0QjshfArdIMN+G/GcAJmiD5+8YbwA+EELvtxh3AYGoQhjK/H8ASS+supNcgwMGxDrFXyyHA/9jM93S6IsAl0S5gvqQjwFukz4X3iSTAnJFtUuVpJcA/JiUNTkQmwPRIUmn5GCfAXmATlbDnJ8Cm12pHPrAowHhc+81ucinAHExbGhAuKsBA4PvO8eIqwALIoEvlkCvAlvZkub03LMA7jkkWUNcswBLtS0Bzby3AAgAAAAAALsAhIKwS0YguwIDf4zPDCS/AnkufJrWCL8CDTcy9h/MvwBb5K/IOLjDAhsRWUi5eMMDl1NSXFYowwGCrf3G5sTDAJMuGpw/VMMDaABIeD/QwwCx3mtevDjHAef359uokMcCw+C/BujYxwJaJ254aRDHAF4dqHQdNMcBq/vzvfVExwGr+/O99UTHAF4dqHQdNMcCWidueGkQxwLD4L8G6NjHAef359uokMcAsd5rXrw4xwNoAEh4P9DDAJMuGpw/VMMBgq39xubEwwOXU1JcVijDAhsRWUi5eMMAW+SvyDi4wwIJNzL2H8y/AoEufJrWCL8CA3+MzwwkvwCEgrBLRiC7AAAAAAAAALsAQ7UtAc28twDuOSRZQ1yzAl/Zkub03LMACyKBL5ZArwEDg+87x4irAHExbGhAuKsB4XPvNbnIpwKTXakc+sCjAXGATlbDnJ8D1SFJp+RgnwEEmJQ1ORCbAm5FtUuVpJcBbpM+F94kkwCbRLmC+pCPA/tjM93S6IsDBsQ6xV8shwBJL6y6k1yDAYmoQhjK/H8AKhBC77cYdwAaaIPn7xhvArdIMN+G/GcAwkB9EI7IXwHtxo6VJnhXA12v0c92EE8A4/ig3aWYRwE81uYbxhg7AwvNIKTI5CsC1R3BVsOQFwAEWrsiJigHAOajSabtX+r8pitLsmJPxv/AwAybdleG/aUNvPQob47wAAAAAAAAAgCEtWwmmMeK/+KMcvE0v8r/5DMxzGEH7v3rXRlfuJQLAWBdm36KmBsBKoyywgCELwIt3zihglQ/AMnn/uo0AEsChENduxzEUwA3JHYXMXRbAPqOFqg2EGMCOxzQI/aMawL5hVWgOvRzAZv45WrfOHsBcjAarN2wgwABTAfDXbCHAKUaBVfpoIsBpimHdXWAjwJ9HpcLCUiTAxsHnieo/JcArfHcRmCcmwA5AGKGPCSfACPdn+ZblJ8A+YeJidbsowJrIf7zziinAU+zqidxTKsD4ekoB/BUrwESNmhgg0SvAtLCSkhiFLMDPLhULtzEtwIJcJAPP1i3Adtxa7DV0LsCA3+MzwwkvwEmP8ExQly/AgPhTXVwOMMA2WMcM7UwwwEkzMhRKhzDAjAk6aGS9MMDl0aoWLu8wwBpFD0qaHDHAmcL/TJ1FMcDH9CaNLGoxwMdt+50+ijHA1ogtO8ulMcD578hKy7wxwFM5Cd84zzHAaCPhNw/dMcBiCzTESuYxwJVMwSLp6jHAlUzBIunqMcBiCzTESuYxwGgj4TcP3THAUzkJ3zjPMcD578hKy7wxwNaILTvLpTHAx237nT6KMcDH9CaNLGoxwJnC/0ydRTHAGkUPSpocMcDl0aoWLu8wwI0JOmhkvTDASTMyFEqHMMA3WMcM7UwwwID4U11cDjDASY/wTFCXL8B93+MzwwkvwHTcWuw1dC7AglwkA8/WLcDQLhULtzEtwLKwkpIYhSzARI2aGCDRK8D4ekoB/BUrwFTs6oncUyrAmch/vPOKKcA9YeJidbsowAn3Z/mW5SfAEEAYoY8JJ8AqfHcRmCcmwMbB54nqPyXAn0elwsJSJMBoimHdXWAjwClGgVX6aCLAAFMB8NdsIcBdjAarN2wgwGL+OVq3zh7AvGFVaA69HMCOxzQI/aMawEGjhaoNhBjACckdhcxdFsChENduxzEUwDJ5/7qNABLAkXfOKGCVD8BEoyywgCELwFgXZt+ipgbAf9dGV+4lAsDlDMxzGEH7v/CjHLxNL/K/Ii1bCaYx4r9eDQe+SsTjvAAAAAAAAACA3rs5uK264r/EJLvBQ7jyv/Ycp1ldDvy/Sd+MxZ2uAsBQNkQNPFEHwBbW/KPX7QvAqYEtG6BBEMB8HAumI4gSwCtz+ErgyRTAQM+QHUEGF8Aw4gyTsjwZwMb0SqiibBvA7CFyB4GVHcCA6SYtv7YfwNjBo0bo5yDAij6TWxXwIcA3Ip28ovMiwMc7HIJN8iPAMPHJBtTrJMAaJqr49d8lwAmtn2l0zibAxfyk3xG3J8DS+6RkkpkowAPM75W7dSnAW5pHs1RLKsAKkoGtJhorwDIttzT84SvA4ToExqGiLMB1D8645VstwCRzkEuYDS7A+AEtsIu3LsAF0bkXlFkvwIBNzL2H8y/AYbaeeZ9CMMBIMzIUSocwwGGrYvuxxzDApKMYlcYDMcA6pKpkeDsxwFsx2w65bjHAbymMXXudMcBMlCZDs8cxwMwCtt1V7THAubG2eVkOMsDvtpWUtSoywLaT4t5iQjLAiZsxPltVMsD4sq7OmWMywND+X+QabTLAYTAYDNxxMsBhMBgM3HEywND+X+QabTLA+LKuzpljMsCJmzE+W1UywLaT4t5iQjLA77aVlLUqMsC5sbZ5WQ4ywMwCtt1V7THATJQmQ7PHMcBvKYxde50xwFsx2w65bjHAO6SqZHg7McCkoxiVxgMxwGGrYvuxxzDASDMyFEqHMMBhtp55n0IwwH5NzL2H8y/ABNG5F5RZL8D4AS2wi7cuwCVzkEuYDS7AdA/OuOVbLcDhOgTGoaIswDIttzT84SvAC5KBrSYaK8BYmkezVEsqwALM75W7dSnA0/ukZJKZKMDG/KTfEbcnwAitn2l0zibAGiaq+PXfJcAx8ckG1OskwMY7HIJN8iPANyKdvKLzIsCKPpNbFfAhwNrBo0bo5yDAeukmLb+2H8DrIXIHgZUdwMb0SqiibBvANOIMk7I8GcA8z5AdQQYXwCtz+ErgyRTAfRwLpiOIEsCsgS0boEEQwBDW/KPX7QvAUDZEDTxRB8BN34zFna4CwOMcp1ldDvy/uiS7wUO48r/guzm4rbriv+JVcvwqWeS8AAAAAAAAAIDqULnxZjDjv5ka/c7tLfO/mT3Zgra+/L/8kJMtCyQDwHR6yAPM4wfA9nR2YWSdDMCPUjM9zqcQwBrBjzSf/BLAOFNjP4tMFcA0SDjJ+ZYXwNnx5KdT2xnAM/GCQgMZHMAkBP+3dE8ewLq5mwILPyDA0qZPlStSIcCHXa4o1WAiwN5s7PfBaiPAPNrbdq1vJMCjh5djVG8lwMV22dd0aSbA1nD3Wc5dJ8AQsoHtIUwowFtQfyMyNCnAki1EKsMVKsBpYNzcmvAqwJIaCdKAxCvA2C7Laj6RLMDqd3fgnlYtwHd+UVJvFC7AF92o0n7KLsB1AHZznngvwLiBOalQDzDAhcRWUi5eMMBATMfg06gwwOTRqhYu7zDAZQKC0SoxMcBbMdsOuW4xwEPLtPDIpzHAC2aUwUvcMcDsYVH4MwwywHsgkjt1NzLAluv6ZAReMsA7ug2E138ywH4VuuDlnDLAt3Sc/Se1MsBrfOyZl8gywK6gGbMv1zLAh8AVhuzgMsAzZU2Qy+UywDNlTZDL5TLAh8AVhuzgMsCuoBmzL9cywGt87JmXyDLAt3Sc/Se1MsB+Fbrg5ZwywDu6DYTXfzLAluv6ZAReMsB7IJI7dTcywOxhUfgzDDLAC2aUwUvcMcBEy7TwyKcxwFox2w65bjHAZgKC0SoxMcDk0aoWLu8wwEBMx+DTqDDAhMRWUi5eMMC4gTmpUA8wwHUAdnOeeC/AGN2o0n7KLsB2flFSbxQuwOp3d+CeVi3A2C7Laj6RLMCUGgnSgMQrwGhg3Nya8CrAkC1EKsMVKsBcUH8jMjQpwBKyge0hTCjA1HD3Wc5dJ8DFdtnXdGkmwKSHl2NUbyXAOtrbdq1vJMDebOz3wWojwIddrijVYCLA1KZPlStSIcC4uZsCCz8gwCEE/7d0Tx7AM/GCQgMZHMDd8eSnU9sZwDFIOMn5lhfAOFNjP4tMFcAbwY80n/wSwJJSMz3OpxDA8HR2YWSdDMB0esgDzOMHwAGRky0LJAPAhT3Zgra+/L+PGv3O7S3zv+xQufFmMOO/ZhPEgRHZ5LwAAAAAAAAAgGluv1tYkuO/OP1rmdKP879sgMYmblH9v/siaIO9hQPAmw2PrrtdCMAcPbbycS8NwMwOGibR/BDANmboU4hdE8A+0R+aQbkVwA7jgVlhDxjALXVVZE1fGsDlxiQmbagcwJYdEssp6h7AYmFcM/eRIMAaLUgNlKohwG9V5B2jviLAPwxKPN3NI8CGmGt+/NckwIfsGUu83CXAMmaza9nbJsD2KncdEtUnwJOneCImyCjAcNUu0ta0KcCiAJsp55oqwN3kAtsbeivAdBM6XTtSLMCxsXb6DSMtwMu8rd5d7C3A2h9zJfetLsA6CFrnp2cvwMYCaSOgDDDAStI+PklhMMBgq39xubEwwL7NHAHc/TDAmcL/TJ1FMcAjbBnW6ogxwE2UJkOzxzHAGMAoZeYBMsB8IJI7dTcywG2NI/hRaDLA+4t7AnCUMsCgdFX7w7sywHzjd79D3jLAFbFRaub7MsA1x0RYpBQzwH86nih3KDPA9SY7v1k3M8DQ4tlFSEEzwNcwFy1ARjPA1zAXLUBGM8DQ4tlFSEEzwPUmO79ZNzPAfzqeKHcoM8A1x0RYpBQzwBWxUWrm+zLAfON3v0PeMsCgdFX7w7sywPuLewJwlDLAbY0j+FFoMsB8IJI7dTcywBnAKGXmATLATJQmQ7PHMcAkbBnW6ogxwJnC/0ydRTHAvs0cAdz9MMBfq39xubEwwErSPj5JYTDAxgJpI6AMMMA7CFrnp2cvwNkfcyX3rS7Ay7yt3l3sLcCxsXb6DSMtwHUTOl07UizA2+QC2xt6K8CgAJsp55oqwHHVLtLWtCnAlqd4IibIKMD1KncdEtUnwDJms2vZ2ybAiOwZS7zcJcCFmGt+/NckwD8MSjzdzSPAb1XkHaO+IsAcLUgNlKohwGBhXDP3kSDAlB0SyynqHsDlxiQmbagcwDF1VWRNXxrACuOBWWEPGMA+0R+aQbkVwDhm6FOIXRPA0A4aJtH8EMAYPbbycS8NwJsNj667XQjAACNog72FA8BXgMYmblH9vy79a5nSj/O/am6/W1iS47+6SEl2ekPlvAAAAAAAAACAgUEUAB3g479cK9M3jd3zv9GUJAjtxf2/uqrYEVDTA8BW485bjb4IwG96wslpow3AfQU0NFFAEcCCQE0ee6oTwL4wDEuTDxbA5eTUsPtuGMD4/Ey9F8gawKC0t31MGh3APcvmxgBlH8Am/1quztMgwDZ0g4zG8CHAYJwZiR4JI8DArHVgjhwkwGPhuxLPKiXAkq8p9pozJsBTyQrJrTYnwB9RUcPEMyjAwrTMp54qKcB2v/rU+xoqwHaNblWeBCvAtibJ70nnK8DZoj82xMIswNzVqpXUli3AwaMcZERjLsDCOPfu3icvwEaEgohx5C/AEjt+ymVMMMAhUJBLX6IwwNkAEh4P9DDALvKQM2BBMcDHbfudPooxwHCLw5SXzjHAubG2eVkOMsBLLojdc0kywDy6DYTXfzLAy9IsaHaxMsB743e/Q94ywOpSev0zBjPA9Jiy1jwpM8CfmTlDVUczwLeVFoF1YDPAeBc/Fpd0M8BcV0LStIMzwMyqn8/KjTPAkKTHdNaSM8CQpMd01pIzwMyqn8/KjTPAXFdC0rSDM8B4Fz8Wl3QzwLeVFoF1YDPAn5k5Q1VHM8D0mLLWPCkzwOpSev0zBjPAe+N3v0PeMsDL0ixodrEywDy6DYTXfzLATC6I3XNJMsC5sbZ5WQ4ywHCLw5SXzjHAx237nT6KMcAu8pAzYEExwNgAEh4P9DDAIFCQS1+iMMASO37KZUwwwEeEgohx5C/AwTj37t4nL8DBoxxkRGMuwNzVqpXUli3A2qI/NsTCLMC0JsnvSecrwHSNblWeBCvAd7/61PsaKsDEtMynniopwB5RUcPEMyjAU8kKya02J8CTryn2mjMmwGLhuxLPKiXAwKx1YI4cJMBgnBmJHgkjwDd0g4zG8CHAJP9ars7TIMA6y+bGAGUfwKC0t31MGh3A/PxMvRfIGsDh5NSw+24YwL4wDEuTDxbAg0BNHnuqE8CABTQ0UUARwGl6wslpow3AVuPOW42+CMC/qtgRUNMDwLyUJAjtxf2/UivTN43d87+CQRQAHeDjv2sAcSn4l+W8AAAAAAAAAIC1eXW0ZBnkvzxYRYrNFvS/A2fhELsb/r8h7UPicgwEwMVH6z3dBQnAoO68W9T4DcCfk9nSCHIRwOe7zUEo4xPANTFhVydPFsASEoNCZrUYwM6Gna1GFRvATBxm5ytuHcDQx0ELe78fwE4VmZRNBCHAReWgtnokIsAbizKj+j8jwIgXY0aEViTALM24089nJcBaEa3YlnMmwPIv1U6UeSfAEEStrYR5KMAzrwD8JXMpwGWi6+A3ZirA+lZxtHtSK8B1sKKPtDcswMMdUVynFS3AyK1J5BrsLcBUahTg17ouwCMsNAWpgS/A5Z3xiS0gMMB1miRyXnswwAZik7lP0jDAef359uokMcDUDTffGnMxwPjvyErLvDHAVbT/OukBMsC2k+LeYkIywCKex5cnfjLAuHSc/Se1MsDJ897iVecywDTHRFikFDPAyvcQsAc9M8C3lRaBdWAzwE25Z6nkfjPAGymwUE2YM8DtCTvqqKwzwFQTozbyuzPAOdksRSXGM8BS0cp0P8szwFLRynQ/yzPAOdksRSXGM8BUE6M28rszwO0JO+qorDPAGymwUE2YM8BNuWep5H4zwLeVFoF1YDPAyvcQsAc9M8A0x0RYpBQzwMnz3uJV5zLAuHSc/Se1MsAjnseXJ34ywLaT4t5iQjLAVrT/OukBMsD478hKy7wxwNQNN98aczHAd/359uokMcAFYpO5T9IwwHWaJHJeezDA5p3xiS0gMMAiLDQFqYEvwFRqFODXui7AyK1J5BrsLcDEHVFcpxUtwHOwoo+0NyzA+VZxtHtSK8BmouvgN2YqwDavAPwlcynAD0StrYR5KMDyL9VOlHknwFsRrdiWcybAK824089nJcCIF2NGhFYkwBuLMqP6PyPARuWgtnokIsBLFZmUTQQhwM3HQQt7vx/ATBxm5ytuHcDRhp2tRhUbwA4Sg0JmtRjANTFhVydPFsDou81BKOMTwKOT2dIIchHAmu68W9T4DcDFR+s93QUJwCbtQ+JyDATA72bhELsb/r8yWEWKzRb0v7Z5dbRkGeS/DlvegjPW5bwAAAAAAAAAgM8SOW30PeS/5a60jFg79L+Yt+zNf1L+vwTwBg/rMATAaPdU0mEzCcB/6hycWS8OwJzPIsLEkRHA4UgUUlUHFMCt6Wo1vHcWwE7zXnhY4hjADPxVpYpGG8AQiP3ttKMdwBuG+FM7+R/AG5qK6EEjIcA6h4A/e0UiwBpGON/+YiPA3UnYLoN7JMCq2Uvfv44lwAis5v1tnCbADbOuBkikJ8CeYkf2CaYowCrSeVtxoSnAEDVVaD2WKsCDP+MCL4QrwHgpbNUIayzAdh5GXo9KLcC9Biz/iCIuwMu1Fwy+8i7A7qmb2fi6L8ANVVzlgj0wwHnYFa9ZmTDAl1uYHenwMMCVidueGkQxwC4kAsHYkjHAZyPhNw/dMcCGIDviqiIywPiyrs6ZYzLA0nlWQMufMsCuoBmzL9cywCHDq9+4CTPA8yY7v1k3M8AsWsyOBmAzwFtXQtK0gzPAGGgSV1uiM8BTE6M28rszwA17Vdhy0DPAEaM489ffM8ByMGaPHeozwPxHCAdB7zPA/EcIB0HvM8ByMGaPHeozwBGjOPPX3zPADXtV2HLQM8BTE6M28rszwBhoEldbojPAW1dC0rSDM8AsWsyOBmAzwPMmO79ZNzPAIcOr37gJM8CuoBmzL9cywNN5VkDLnzLA97KuzpljMsCGIDviqiIywGcj4TcP3THALiQCwdiSMcCUidueGkQxwJZbmB3p8DDAedgVr1mZMMANVVzlgj0wwOypm9n4ui/Ay7UXDL7yLsC9Biz/iCIuwHceRl6PSi3Adils1QhrLMCCP+MCL4QrwBE1VWg9lirALNJ5W3GhKcCdYkf2CaYowA2zrgZIpCfACazm/W2cJsCo2Uvfv44lwN1J2C6DeyTAGkY43/5iI8A8h4A/e0UiwBmaiuhBIyHAGYb4Uzv5H8AQiP3ttKMdwBD8VaWKRhvASvNeeFjiGMCt6Wo1vHcWwOJIFFJVBxTAoM8iwsSREcB56hycWS8OwGj3VNJhMwnACPAGD+swBMCDt+zNf1L+v9uutIxYO/S/0BI5bfQ95L/0ITBc7P3lvAAAAAAAAACAquIqeqZN5L/Nh8iTCEv0vzYRZcoCav6/0VQzAJNABMA+s1At7EYJwCeTclfBRg7AxNG7S2SfEcCnrJ8E3RYUwHSaFxAoiRbA376O/aP1GMD86MXbsFsbwDkLDmKwuh3AWqGKDAMJIMDV9J3BizAhwKenMyKmUyLArOijJAdyI8C6GwT3ZIskwPwrLhJ3nyXAI5tyTPatJsDhe/DrnLYnwAidjrgmuSjAXEORDVG1KcCy6cfq2qoqwKeZTgWFmSvAWove1xGBLMCM16myRWEtwJ4lvsrmOS7APF7qSL0KL8COiyNYk9MvwJiYspkaSjDAGMSEmTimMMA1F8vsC/4wwGn+/O99UTHAS26cIHmgMcCUTMEi6eoxwKzpWMa6MDLAYjAYDNxxMsCGRR8qPK4ywDRlTZDL5TLANuBD7HsYM8DWMBctQEYzwHAzrYYMbzPAkKTHdNaSM8DtG7q9lLEzwFLRynQ/yzPAno49/M/fM8D8RwgHQe8zwNHpMJqO+TPAMgLUDbb+M8AyAtQNtv4zwNHpMJqO+TPA/EcIB0HvM8Cejj38z98zwFLRynQ/yzPA7Ru6vZSxM8CQpMd01pIzwHAzrYYMbzPA1jAXLUBGM8A24EPsexgzwDRlTZDL5TLAhkUfKjyuMsBhMBgM3HEywKzpWMa6MDLAlEzBIunqMcBLbpwgeaAxwGj+/O99UTHANRfL7Av+MMAYxISZOKYwwJmYspkaSjDAjIsjWJPTL8A8XupIvQovwJ4lvsrmOS7AjtepskVhLcBYi97XEYEswKaZTgWFmSvAs+nH6tqqKsBeQ5ENUbUpwAadjrgmuSjA4Xvw65y2J8Akm3JM9q0mwPorLhJ3nyXAuhsE92SLJMCs6KMkB3IjwKinMyKmUyLA0vSdwYswIcBZoYoMAwkgwDkLDmKwuh3AAOnF27BbG8Dbvo79o/UYwHSaFxAoiRbAqKyfBN0WFMDH0btLZJ8RwCGTclfBRg7APrNQLexGCcDWVDMAk0AEwCERZcoCav6/w4fIkwhL9L+r4ip6pk3kv6RSIcP5Dua8AAAAAAAAAIDvLGatakjkv736sXPNRfS/OyDKySti/r8I50+SWjsEwLg0VSpoQAnAoMNVbfM+DsB3JJ1k2ZoRwJG/M1evERTAENEW8liDFsCSxE7uNO8YwBrh1oOjVBvAeCDNkgazHcAXWRrm4AQgwCxUIG0dLCHA2TUOxOxOIsC12pP0A20jwOz4zT8ZhiTA4YpIMeSZJcC5DKyxHagmwEm8EBmAsCfANSLzQMeyKMBcQ8WVsK4pwFDzFyj7oyrAZttXvWeSK8DY5RnguHkswGzZ8u+yWS3AKBDWMBwyLsDvUvfZvAIvwN4DLCRfyy/ARvHjq+dFMMC26/js7aEwwEurtpyq+TDAF4dqHQdNMcCy3CHy7ZsxwGILNMRK5jHASZOAaAosMsDR/l/kGm0ywA5QRnJrqTLAiMAVhuzgMsDTtSDRjxMzwNDi2UVIQTPA96ExGwpqM8DMqp/Pyo0zwPVZ2CuBrDPAOdksRSXGM8CwipV/sNozwHMwZo8d6jPAXWCremj0M8DR6TCajvkzwNHpMJqO+TPAXWCremj0M8BzMGaPHeozwLCKlX+w2jPAOdksRSXGM8D1WdgrgawzwMyqn8/KjTPA96ExGwpqM8DQ4tlFSEEzwNO1INGPEzPAiMAVhuzgMsAPUEZya6kywND+X+QabTLASpOAaAosMsBiCzTESuYxwLLcIfLtmzHAFodqHQdNMcBKq7acqvkwwLbr+OztoTDAR/Hjq+dFMMDcAywkX8svwO9S99m8Ai/AKBDWMBwyLsBu2fLvslktwNblGeC4eSzAZNtXvWeSK8BS8xco+6MqwF5DxZWwrinANCLzQMeyKMBJvBAZgLAnwLoMrLEdqCbA4IpIMeSZJcDs+M0/GYYkwLXak/QDbSPA2jUOxOxOIsAqVCBtHSwhwBZZGubgBCDAeCDNkgazHcAe4daDo1QbwI7ETu407xjAENEW8liDFsCSvzNXrxEUwHsknWTZmhHAmsNVbfM+DsC4NFUqaEAJwAznT5JaOwTAJiDKySti/r+z+rFzzUX0v/AsZq1qSOS/fXi+I0oJ5rwAAAAAAAAAgNswA2xGLuS/QkbXkKwr9L+1bvjgAjv+vyxs+yZHIQTAyqXOgNwfCcAD00Tp9xcOwKqZhbsohBHAuvlZoNH3E8Aca1zYVGYWwCohcuwRzxjAQZqF4mkxG8CyYYFmv4wdwBgK3vJ24B/AHXZcfPsVIcBcqrQDVDciwGP2xHn6UyPA2Ca2fqVrJMACa3b7DH4lwP9/TjTqiibAXFId2/eRJ8ACYzUh8pIowFFU18iWjSnAXB5FNqWBKsAkg2mA3m4rwCB4D4EFVSzAy1al5N4zLcAYxIc5MQsuwLxd0P7E2i7AB1yksmSiL8ArvP9v7jAwwO/E+xV+jDDAw7Y6scnjMMCv+C/BujYxwErQmuQ7hTHAUjkJ3zjPMcAWQw+enhQywIqbMT5bVTLAlwOCD16RMsBsfOyZl8gywM8RNKH5+jLAfjqeKHcoM8BZ3Et2BFEzwHgXPxaXdDPAuRAN3SWTM8DtCTvqqKwzwLUrRqoZwTPADntV2HLQM8CwipV/sNozwJ6OPfzP3zPAno49/M/fM8CwipV/sNozwA57Vdhy0DPAtStGqhnBM8DtCTvqqKwzwLkQDd0lkzPAeBc/Fpd0M8BZ3Et2BFEzwH46nih3KDPAzxE0ofn6MsBsfOyZl8gywJgDgg9ekTLAiZsxPltVMsAWQw+enhQywFI5Cd84zzHAStCa5DuFMcCu+C/BujYxwMO2OrHJ4zDA78T7FX6MMMArvP9v7jAwwAZcpLJkoi/AvF3Q/sTaLsAYxIc5MQsuwMxWpeTeMy3AHXgPgQVVLMAig2mA3m4rwF0eRTalgSrAVFTXyJaNKcAAYzUh8pIowFxSHdv3kSfAAIBONOqKJsABa3b7DH4lwNgmtn6layTAY/bEefpTI8BeqrQDVDciwBp2XHz7FSHAFgre8nbgH8CyYYFmv4wdwESaheJpMRvAJiFy7BHPGMAca1zYVGYWwLz5WaDR9xPArpmFuyiEEcD90kTp9xcOwMqlzoDcHwnAMWz7JkchBMChbvjgAjv+vzhG15CsK/S/3DADbEYu5L9cUoRa4+zlvAAAAAAAAACAnX+HqFT/47+c3UTawPzzv8zD1G2w9P2/HI9gn3PyA8D2NTK9auUIwAKcWfr20Q3AjZkmtGlbEcAcy+CJXskTwNti9Ks5MhbA2paMGFyVGMAalGNHKPIawO3sXVICSB3A0Dy6HVCWH8ARU+W/PO4gwAz2FjT0DCLAawY/gwQnI8BwMTX4JDwkwN+9mSMOTCXAIn0/7nlWJsAMAz2rI1snwCV8oCnIWSjAI5LBxSVSKcDR5yx6/EMqwLjPJPANLyvAnfyyjx0TLMB1B0eP8O8swP7D3QJOxS3AMHyt6v6SLsAXSlNBzlgvwFz0voRECzDA/TqJLf9lMMAq4eO3f7wwwCx3mtevDjHAKB0oXXpcMcDWiC07y6UxwJlAnIuP6jHA8LaVlLUqMsDWBP3MLGYywH8VuuDlnDLAHSqttNLOMsAVsVFq5vsywJKAD2MVJDPAoJk5Q1VHM8AZrrn0nGUzwE65Z6nkfjPAuhAN3SWTM8AZaBJXW6IzwPZZ2CuBrDPA7hu6vZSxM8DuG7q9lLEzwPZZ2CuBrDPAGWgSV1uiM8C6EA3dJZMzwE65Z6nkfjPAGa659JxlM8CgmTlDVUczwJKAD2MVJDPAFbFRaub7MsAdKq200s4ywH8VuuDlnDLA1wT9zCxmMsDvtpWUtSoywJlAnIuP6jHA1ogtO8ulMcAoHShdelwxwCp3mtevDjHAKuHjt3+8MMD9Ookt/2UwwF30voRECzDAFkpTQc5YL8AwfK3q/pIuwP7D3QJOxS3AdgdHj/DvLMCb/LKPHRMswLbPJPANLyvA0ucsevxDKsAmksHFJVIpwCR8oCnIWSjADAM9qyNbJ8AjfT/ueVYmwN69mSMOTCXAcDE1+CQ8JMBrBj+DBCcjwA72FjT0DCLADlPlvzzuIMDNPLodUJYfwO3sXVICSB3AHpRjRyjyGsDXlowYXJUYwNti9Ks5MhbAHcvgiV7JE8CRmSa0aVsRwPybWfr20Q3A9jUyvWrlCMAhj2Cfc/IDwLbD1G2w9P2/kt1E2sD887+ef4eoVP/jv3oWVa7iueW8AAAAAAAAAIAb1x7Hxbvjv/TX6a06ufO/B72v7XyP/b+inoBAEK8DwDHvaB5PkQjAUFLdyThtDcAs5AdPxiARwCFrX/WFhhPAisItIz3nFcDclszvTkIYwGYFKecflxrAStvVMRblHMAbdrO8mSsfwMSGETAKtSDAeqVdA/nPIcCLGrppUOYiwFRMoKPI9yPAc54FMxsEJcCVLYftAgsmwKP9PQ48DCfA8AE3R4QHKMBwforSmvwowGVaDoNA6ynAdBaf1DfTKsCwM/v7RLQrwB31LPYtjizAmoJ+l7pgLcBukvSZtCsuwO/dS6vn7i7ALcZ1eiGqL8BIV0jimC4wwL9arDD1gzDAJMuGpw/VMMB4UeVe0yExwMf0Jo0sajHA594VjAiuMcDMArbdVe0xwB1nxzAEKDLAl+v6ZAReMsCZc9iOSI8ywKB0VfvDuzLA3PsaM2vjMsDqUnr9MwYzwJKAD2MVJDPAyvcQsAc9M8BZ3Et2BFEzwC1azI4GYDPA96ExGwpqM8BwM62GDG8zwHAzrYYMbzPA96ExGwpqM8AtWsyOBmAzwFncS3YEUTPAyvcQsAc9M8CSgA9jFSQzwOpSev0zBjPA3PsaM2vjMsCgdFX7w7sywJlz2I5IjzLAl+v6ZAReMsAeZ8cwBCgywMwCtt1V7THA6N4VjAiuMcDH9CaNLGoxwHhR5V7TITHAIsuGpw/VMMC+Wqww9YMwwEhXSOKYLjDALsZ1eiGqL8Du3Uur5+4uwG6S9Jm0Ky7AmoJ+l7pgLcAe9Sz2LY4swK0z+/tEtCvAcxaf1DfTKsBmWg6DQOspwHN+itKa/CjA7wE3R4QHKMCj/T0OPAwnwJYth+0CCybAcp4FMxsEJcBUTKCjyPcjwIsaumlQ5iLAe6VdA/nPIcDChhEwCrUgwBh2s7yZKx/AStvVMRblHMBqBSnnH5cawNiWzO9OQhjAisItIz3nFcAia1/1hYYTwDDkB0/GIBHASVLdyThtDcAx72geT5EIwKiegEAQrwPA8ryv7XyP/b/r1+mtOrnzvxzXHsfFu+O/Co9Ksnxw5bwAAAAAAAAAgFIjuWvfY+O/ql+8pl9h878ohoyy0Av9vy2vcYFiVwPA5HC1V+AjCMDj2OUwJeoMwJegO/561BDA6nTayowvE8C3hjyKrIUVwI+vqA5A1hfAiaR9mK4gGsB5t5H9YGQcwI4TKtDBoB7AILW/wp5qIMBWEeNNoYAhwM0e2N8gkiLAn6Gv+NaeI8BRWl5UfqYkwCPRl/zSqCXA1xlTWpKlJsDVC/VGe5wnwPSBGx1OjSjAzk0Fycx3KcDYo5LYulsqwGXg2YrdOCvAcKFM3/sOLMCiTWmk3t0swBw/9YVQpS3AE+e7Gh5lLsA3X8/xFR0vwD/+Rp8IzS/AZVM8ZGQ6MMDk1NSXFYowwIAcml+D1TDAGkUPSpocMcD9dxAESF8xwHApjF17nTHAqk3xTSTXMcDtYVH4MwwywN04Na+cPDLAbI0j+FFoMsCZc9iOSI8ywMvSLGh2sTLAHCqttNLOMsDJ897iVecywM8RNKH5+jLAIsOr37gJM8DTtSDRjxMzwDbgQ+x7GDPANuBD7HsYM8DTtSDRjxMzwCLDq9+4CTPAzxE0ofn6MsDJ897iVecywBwqrbTSzjLAy9IsaHaxMsCZc9iOSI8ywGyNI/hRaDLA3Tg1r5w8MsDtYVH4MwwywKpN8U0k1zHAbymMXXudMcD+dxAESF8xwBpFD0qaHDHAgByaX4PVMMDj1NSXFYowwGRTPGRkOjDAP/5GnwjNL8A4X8/xFR0vwBLnuxoeZS7AHD/1hVClLcCiTWmk3t0swHGhTN/7DizAYuDZit04K8DWo5LYulsqwNBNBcnMdynA94EbHU6NKMDUC/VGe5wnwNcZU1qSpSbAJNGX/NKoJcBQWl5UfqYkwJ+hr/jWniPAzR7Y3yCSIsBXEeNNoYAhwB61v8KeaiDAixMq0MGgHsB5t5H9YGQcwI2kfZiuIBrAjK+oDkDWF8C3hjyKrIUVwOt02sqMLxPAm6A7/nrUEMDe2OUwJeoMwORwtVfgIwjAMq9xgWJXA8AUhoyy0Av9v6FfvKZfYfO/UyO5a99j47+KK4QP/RDlvAAAAAAAAACA4BFBMvz34r9lhvlUivXyv262l3czavy/FWrDw8TrAsAPlVQ3j50HwLJGSU1DSQzA/1oPZ9Z2EMDhMLyxzMQSwJeCi3PsDRXAhpWf2J5RF8DdlD1zTo8ZwIg+UmJnxhvAHFGQd1f2HcDGc48uRw8gwO0FZ90+HyHA5/RjrcwqIsAlltqmqzEjwDGaJQeYMyTA4H8dUk8wJcCh3jtjkCcmwAIdZn4bGSfAPj9bYLIEKMDVkcBOGOoowPAMyScSySnAwmdzcWahKsDW7Vpo3XIrwN1EFw5BPSzAN24nN10ALcDwbWSY/7stwLgf+NP3by7ATeLUhRccL8C34qpPMsAvwBb5K/IOLjDA63lnCdl3MMCMCTpoZL0wwEKLdSGf/jDAO6SqZHg7McC9SX6C4HMxwETLtPDIpzHAqk3xTSTXMcAYwChl5gEywB5nxzAEKDLATC6I3XNJMsDWBP3MLGYywCOex5cnfjLAmAOCD16RMsDUeVZAy58ywA9QRnJrqTLAhkUfKjyuMsCGRR8qPK4ywA9QRnJrqTLA1HlWQMufMsCYA4IPXpEywCOex5cnfjLA1gT9zCxmMsBMLojdc0kywB5nxzAEKDLAGMAoZeYBMsCqTfFNJNcxwETLtPDIpzHAvUl+guBzMcA7pKpkeDsxwEOLdSGf/jDAjAk6aGS9MMDreWcJ2XcwwBX5K/IOLjDAtuKqTzLAL8BN4tSFFxwvwLof+NP3by7A721kmP+7LcA3bic3XQAtwN1EFw5BPSzA2O1aaN1yK8C/Z3NxZqEqwPAMyScSySnA1ZHAThjqKMBAP1tgsgQowAAdZn4bGSfAod47Y5AnJsDhfx1STzAlwDGaJQeYMyTAJZbapqsxI8Dn9GOtzCoiwO4FZ90+HyHAxHOPLkcPIMAZUZB3V/YdwIg+UmJnxhvA4ZQ9c06PGcCClZ/YnlEXwJeCi3PsDRXA4jC8sczEEsACWw9n1nYQwKxGSU1DSQzAD5VUN4+dB8AaasPDxOsCwFq2l3czavy/XIb5VIr18r/hEUEy/Pfiv0vkKDfGm+S8AAAAAAAAAICmNzVRi3jiv390yuApdvK/6Cw91Uur+7+2WlT2pWwCwE4gNTLm/gbA8fJV9jiLC8CHLPoQOQgQwPTDabSzRhLAI2kQUHiAFMDWv2UF9LQWwCYvnlKV4xjAl8UsOMwLG8ApjeFdCi0dwBK+mjfDRh/AXK2/FDasIMAp79xVvrAhwCvk1Da3sCLANXlBvN6rI8AC4qgo9KEkwJa/LQ24kiXA3QXpWex9JsCaaeltVGMnwPI21Ca1QijAPIkj8NQbKcBM9v3Re+4pwLbZo39zuirADohuZYd/K8Bwzl22hD0swBRAMHk69CzAtvEClXmjLcDcYXXdFEsuwMBsTh7h6i7AnEufJrWCL8Ae4LDpNAkwwDVYxwztTDDAqUvVh3GMMMBhq2L7sccwwEGLdSGf/jDAZQKC0SoxMcD9dxAESF8xwCJsGdbqiDHA5t4VjAiuMcBvi8OUl84xwJdAnIuP6jHAVLT/OukBMsAWQw+enhQywIYgO+KqIjLASZOAaAosMsCr6VjGujAywKvpWMa6MDLASZOAaAosMsCGIDviqiIywBZDD56eFDLAVLT/OukBMsCXQJyLj+oxwG+Lw5SXzjHA5t4VjAiuMcAibBnW6ogxwP13EARIXzHAZQKC0SoxMcBCi3Uhn/4wwGCrYvuxxzDAqkvVh3GMMMA1WMcM7UwwwB7gsOk0CTDAmkufJrWCL8C/bE4e4eouwNxhdd0USy7AtvEClXmjLcASQDB5OvQswHDOXbaEPSzADohuZYd/K8C42aN/c7oqwEr2/dF77inAO4kj8NQbKcD0NtQmtUIowJ1p6W1UYyfA3AXpWex9JsCWvy0NuJIlwATiqCj0oSTANHlBvN6rI8Ar5NQ2t7AiwCnv3FW+sCHAXa2/FDasIMAMvpo3w0YfwCaN4V0KLR3Al8UsOMwLG8AqL55SleMYwNO/ZQX0tBbAI2kQUHiAFMD2w2m0s0YSwIos+hA5CBDA6/JV9jiLC8BOIDUy5v4GwLpaVPalbALA1Sw91Uur+792dMrgKXbyv6c3NVGLeOK/0VXt/FAR5LwAAAAAAAAAgEgQBCcQ5uG/By+vl8Hj8b8EJm2V3s/6vxzD9yKJ2gHAc1o+1YhIBsDwm94RyrAKwJo8NwQqEg/AcIjUzsO1EcAY2Qzw4d0TwAb09hPhABbAcGG0OjQeGMBkP67aTzUawMY4jQSqRRzAYLzHhrpOHsDVpF6I/ScgwFnjqqpzJCHAOvmNln4cIsCPFOVb3g8jwCtqoD5U/iPAMATvxqLnJMD0+xbRjcslwJUJ9pzaqSbAV2om3U+CJ8BkNsTFtVQowEJXzxrWICnA2WkmPnzmKcCE8RY9daUqwDhdf92PXSvA+3t/qpwOLMB8G7QAbrgswGWp+hnYWi3APM+5GLH1LcAeIKwS0YguwEEQKhsSFC/ARo/wTFCXL8Ae4LDpNAkwwGG2nnmfQjDA6nlnCdl3MMBATMfg06gwwH8cml+D1TDAvc0cAdz9MMB3UeVe0yExwC3ykDNgQTHAJh0oXXpcMcDTDTffGnMxwErQmuQ7hTHALiQCwdiSMcCy3CHy7ZsxwEpunCB5oDHASm6cIHmgMcCy3CHy7ZsxwC4kAsHYkjHAStCa5DuFMcDTDTffGnMxwCYdKF16XDHALfKQM2BBMcB3UeVe0yExwL3NHAHc/TDAfxyaX4PVMMBATMfg06gwwOp5ZwnZdzDAYbaeeZ9CMMAf4LDpNAkwwEaP8ExQly/AQRAqGxIUL8AcIKwS0YguwDvPuRix9S3AZan6GdhaLcB9G7QAbrgswPp7f6qcDizAOF1/3Y9dK8CE8RY9daUqwNppJj585inAQFfPGtYgKcBjNsTFtVQowFhqJt1PgifAlwn2nNqpJsDz+xbRjcslwDAE78ai5yTALGqgPlT+I8COFOVb3g8jwDr5jZZ+HCLAWeOqqnMkIcDWpF6I/ScgwFy8x4a6Th7AxDiNBKpFHMBkP67aTzUawHJhtDo0HhjAA/T2E+EAFsAY2Qzw4d0TwHKI1M7DtRHAoDw3BCoSD8Dpm94RyrAKwHNaPtWISAbAIcP3IonaAcDxJW2V3s/6v/4ur5fB4/G/ShAEJxDm4b99roYaLHLjvAAAAAAAAACAFwShsiFB4b+5ESVl6D7xvySQwejN2Pm/vNhh5wQ2AcBNr7gcM3sFwAzhSsrXugnAlrNjk9rzDcAKfnxokhIRwJiWv+zQJhPA/QcdpB82FcC24vuh9j8XwNHqkWLPQxnA8h2Q7SRBG8AFSGn4czcdwIPQKQg7Jh/AlgNsSX2GIMDUKiqQmnUhwFRuWLU3YCLALRP8PhhGI8COXq3rACckwKPO3cG3AiXA+NDJHgTZJcBEHBLFrqkmwDPq+OqBdCfAkGU/SEk5KMDmuZ8j0vcowC9L4F/rrynA5LZ8iGVhKsDVWuHdEgwrwL46NmHHryvAPjq231hMLMD8vo/9nuEswBDtS0Bzby3APs+5GLH1LcB03FrsNXQuwMJsTh7h6i7ABtG5F5RZL8C24qpPMsAvwLmBOalQDzDAZVM8ZGQ6MMBK0j4+SWEwwL9arDD1gzDAIVCQS1+iMMAq4eO3f7wwwAZik7lP0jDAw7Y6scnjMMCYW5gd6fAwwEurtpyq+TDANRfL7Av+MMA1F8vsC/4wwEurtpyq+TDAmFuYHenwMMDDtjqxyeMwwAZik7lP0jDAKuHjt3+8MMAhUJBLX6IwwL9arDD1gzDAStI+PklhMMBlUzxkZDowwLmBOalQDzDAt+KqTzLAL8AF0bkXlFkvwMNsTh7h6i7AdNxa7DV0LsA+z7kYsfUtwA7tS0Bzby3A+r6P/Z7hLMA+OrbfWEwswL86NmHHryvA1Frh3RIMK8DktnyIZWEqwC9L4F/rrynA5rmfI9L3KMCOZT9ISTkowDLq+OqBdCfARhwSxa6pJsD60MkeBNklwKLO3cG3AiXAjl6t6wAnJMAuE/w+GEYjwFNuWLU3YCLA1CoqkJp1IcCWA2xJfYYgwIbQKQg7Jh/AAEhp+HM3HcDwHZDtJEEbwNHqkWLPQxnAuuL7ofY/F8D5Bx2kHzYVwJiWv+zQJhPAC358aJISEcCcs2OT2vMNwAfhSsrXugnATa+4HDN7BcDA2GHnBDYBwBKQwejN2Pm/sBElZeg+8b8YBKGyIUHhv1rSipz7vuK8AAAAAAAAAIDmC973aYrgv3KCFDdIiPC/o7pUfRjH+L/MpuXZwn8AwDMhhrK4lwTA4jh8pl+qCMDonwDyqrYMwBPwbbrHXRDAaeOg+wFcEsDUdBe3gFUUwBpTm5/BSRbAnxDYwUM4GMB2epilhyAawJ41om4PAhzA7ykn/V7cHcD7XcQN/K4fwDQCgyy3vCDAlU002Z+dIcBNj2cT/nkiwBw7Mw2ZUSPAfDP3MjkkJMAqP7A5qPEkwN3J9iyxuSXAe1SlfCB8JsAyECMKxDgnwD83TzVr7yfA4c4J6eafKMBsl1anCUopwHIJF5Wn7SnAZFpYhZaKKsCBnjIEriArwL86NmHHryvAlvZkub03LMB+G7QAbrgswM8uFQu3MS3AuPEClXmjLcAlc5BLmA0uwLgf+NP3by7AGt2o0n7KLsA4X8/xFR0vwDsIWuenZy/ALsZ1eiGqL8BHhIKIceQvwFz0voRECzDA5p3xiS0gMMArvP9v7jAwwA5VXOWCPTDAR/Hjq+dFMMCZmLKZGkowwJmYspkaSjDAR/Hjq+dFMMAOVVzlgj0wwCu8/2/uMDDA5p3xiS0gMMBc9L6ERAswwEeEgohx5C/ALsZ1eiGqL8A7CFrnp2cvwDhfz/EVHS/AGt2o0n7KLsC6H/jT928uwCVzkEuYDS7AufEClXmjLcDPLhULtzEtwH4btABuuCzAk/Zkub03LMC+OjZhx68rwIGeMgSuICvAZVpYhZaKKsBwCReVp+0pwGyXVqcJSinA4c4J6eafKMBAN081a+8nwDAQIwrEOCfAelSlfCB8JsDeyfYssbklwC0/sDmo8STAezP3MjkkJMAcOzMNmVEjwE6PZxP+eSLAlE002Z+dIcA0AoMst7wgwPtdxA38rh/A8ikn/V7cHcCaNaJuDwIcwHR6mKWHIBrAnxDYwUM4GMAdU5ufwUkWwNF0F7eAVRTAaeOg+wFcEsAU8G26x10QwO6fAPKqtgzA3Th8pl+qCMAzIYayuJcEwNCm5dnCfwDAkrpUfRjH+L9pghQ3SIjwv+cL3vdpiuC/2l1VOXj44bwAAAAAAAAAgIjKVKBKhd+/uXdMnTqB7780uDl42Jv3v7dCSbX9cP+/503yEwSfA8DipXaEeoAHwG80ZBbiWwvAcSayQzwwD8BxDNwrRn4RwLH4KNjrXxPAJHs9/5I8FcCdvyfDwBMXwBZfMq/75BjAkiYz18uvGsBVrnT2unMcwJbJMo5UMB7A2vKhAyblH8DD+7xe38ggwIAifiDYmiHALy43J0doIsCCioB+9zAjwJq+Dmu19CPAZicIeE6zJMA0jAaEkWwlwCwzwc1OICbA/jFcAFjOJsBwzlk/gHYnwLraKjKcGCjAiBJbD4K0KMBol1anCUopwMXFxW4M2SnA4bZ8iGVhKsA84PvO8eIqwDddf92PXSvAQI2aGCDRK8Buzl22hD0swOA6BMahoizANG4nN10ALcDod3fgnlYtwBk/9YVQpS3Ax7yt3l3sLcBskvSZtCsuwL+jHGREYy7ALXyt6v6SLsBSahTg17ouwLpd0P7E2i7AybUXDL7yLsDtUvfZvAIvwDpe6ki9Ci/AOl7qSL0KL8DtUvfZvAIvwMm1Fwy+8i7Aul3Q/sTaLsBSahTg17ouwC18rer+ki7Av6McZERjLsBskvSZtCsuwMe8rd5d7C3AGT/1hVClLcDod3fgnlYtwDVuJzddAC3A3zoExqGiLMBwzl22hD0swECNmhgg0SvAN11/3Y9dK8A64PvO8eIqwOG2fIhlYSrAxcXFbgzZKcBql1anCUopwIYSWw+CtCjAutoqMpwYKMBwzlk/gHYnwP4xXABYzibAKjPBzU4gJsAyjAaEkWwlwGgnCHhOsyTAnL4Oa7X0I8CCioB+9zAjwC8uNydHaCLAgiJ+INiaIcDC+7xe38ggwNryoQMm5R/AlskyjlQwHsBYrnT2unMcwI4mM9fLrxrAFF8yr/vkGMCdvyfDwBMXwCd7Pf+SPBXArvgo2OtfE8BxDNwrRn4RwHQmskM8MA/AdTRkFuJbC8DdpXaEeoAHwOdN8hMEnwPAvkJJtf1w/78kuDl42Jv3v6l3TJ06ge+/ispUoEqF37+u2J+Sbh/hvAAAAAAAAACAgf7VUEPV3b+QgGn8atHtv9QTpVJCWPa/DTrIowzC/b9Y7/qfFZICwO6O2ndbPgbA6sapeeXkCcAkt+y/woQNwPSxzg6CjhDABV7pLV5WEsBwGHM7gBkUwKgOhO1z1xXACq8ZUMaPF8CbU7jiBUIZwAYorbXC7RrAIsDoho6SHMD07mre/C8ewNCKOCqjxR/AqPTpbIypIMBEf5i8+2shwG0Wj2XtKSLAO3uNcTDjIsDV80oflZcjwCKcxe7sRiTAquU+rQrxJMC0L+KAwpUlwNZ2EvTpNCbA/jFcAFjOJsDIiggZ5WEnwDw3TzVr7yfASFQk2sV2KMDluZ8j0vcowHZc+81ucinA2WkmPnzmKcBQ7OqJ3FMqwLbZo39zuirACpKBrSYaK8DU7Vpo3XIrwJEaCdKAxCvAb6FM3/sOLMByEzpdO1IswBz1LPYtjizA2KI/NsTCLMByB0eP8O8swMIdUVynFS3Aylal5N4zLcB2HkZej0otwGvZ8u+yWS3Ai9epskVhLcCL16myRWEtwGvZ8u+yWS3Adh5GXo9KLcDKVqXk3jMtwMIdUVynFS3AcgdHj/DvLMDYoj82xMIswBz1LPYtjizAchM6XTtSLMBvoUzf+w4swJEaCdKAxCvA1e1aaN1yK8AKkoGtJhorwLjZo39zuirAUOzqidxTKsDZaSY+fOYpwHVc+81ucinA5LmfI9L3KMBIVCTaxXYowD43TzVr7yfAx4oIGeVhJ8D+MVwAWM4mwNZ2EvTpNCbAtS/igMKVJcCo5T6tCvEkwCGcxe7sRiTA1vNKH5WXI8A9e41xMOMiwG0Wj2XtKSLARH+YvPtrIcCo9OlsjKkgwM6KOCqjxR/A9O5q3vwvHsAiwOiGjpIcwAkorbXC7RrAl1O44gVCGcAHrxlQxo8XwKgOhO1z1xXAchhzO4AZFMACXuktXlYSwPSxzg6CjhDAJ7fsv8KEDcDwxql55eQJwOuO2ndbPgbAWO/6nxWSAsAUOsijDML9v8UTpVJCWPa/gIBp/GrR7b+E/tVQQ9Xdvw5fkWK+NOC8AAAAAAAAAIBBhmlZewbcv2D8Q6reAuy/HKbxm6P99L9um6C4bvT7v+sCCo8CcgHASC5ajU7lBMDUHjSnN1MIwIkk+4/bugvA5d7XmFkbD8CJcVF16TkRwNjlql+14RLAAvJ5TaOEFMBh4e1BRyIWwDioOZ02uhfAp+8POAhMGcDVFL5+VNcawHge34u1WxzAJMefQsfYHcDO1oxoJ04fwHOSct+6XSDA+F20DSoQIcDLXE9AM74hwLDUxZqpZyLAvB5pbmEMI8CAN5xFMKwjwCScxe7sRiTAAKLthm/cJMA2jAaEkWwlwJW4274t9yXAelSlfCB8JsB4IT54R/smwDPq+OqBdCfAXmATlbDnJ8BmNsTFtVQowD5h4mJ1uyjAPIkj8NQbKcAEzO+Vu3UpwPAMyScSySnAky1EKsMVKsDYo5LYulsqwKIAmynnmirAdBaf1DfTKsB2jW5VngQrwLjPJPANLyvA+lZxtHtSK8Akg2mA3m4rwIM/4wIvhCvAZttXvWeSK8CnmU4FhZkrwKeZTgWFmSvAZttXvWeSK8CDP+MCL4QrwCSDaYDebivA+lZxtHtSK8C4zyTwDS8rwHaNblWeBCvAdBaf1DfTKsCiAJsp55oqwNijkti6WyrAky1EKsMVKsDwDMknEskpwAPM75W7dSnAPokj8NQbKcA+YeJidbsowGY2xMW1VCjAW2ATlbDnJ8Ay6vjqgXQnwHghPnhH+ybAe1SlfCB8JsCUuNu+LfclwDaMBoSRbCXAAKLthm/cJMAknMXu7EYkwH43nEUwrCPAux5pbmEMI8Cy1MWaqWciwMxcT0AzviHA+F20DSoQIcBzknLful0gwNDWjGgnTh/AIcefQsfYHcB4Ht+LtVscwNUUvn5U1xrAqu8POAhMGcA0qDmdNroXwGDh7UFHIhbAAvJ5TaOEFMDc5apfteESwIZxUXXpORHA5d7XmFkbD8CKJPuP27oLwNgeNKc3UwjARC5ajU7lBMDrAgqPAnIBwHSboLhu9Pu/Dabxm6P99L9T/EOq3gLsv0KGaVl7Bty/0GM+KrNy3rwAAAAAAAAAgKsTh8XPGtq/TLbXdHIX6r+VU8mhYY3zv7UgDsz/Cfq/iQIy1fM/AMBR43B0t3YDwOgaOK52qAbAN1oQuF7UCcCchuxInvkMwEImjueyCxDAZLjm0nOWEcAaCwclrBwTwHkmoUf3nRTAPrN/6fEZFsDU1x8YOpAXwDyv8FhvABnAgtcxwjJqGsDsrmoTJ80bwB7xc83wKB3AMYINSjZ9HsBVU/rSn8kfwPQ1TtzrhiDApKEFNMUkIcDNXE9AM74hwAmRdHQOUyLAPnuNcTDjIsA/eWUQdG4jwJ++Dmu19CPAsTgj5tF1JMAtP7A5qPEkwKvEynkYaCXA/NDJHgTZJcBBJiUNTkQmwJgJ9pzaqSbAEEAYoY8JJ8CgaeltVGMnwMj8pN8RtyfAQT9bYLIEKMATsoHtIUwowPiBGx1OjSjAlqd4IibIKMB0forSmvwowMa0zKeeKinAJ5LBxSVSKcA3rwD8JXMpwFVU18iWjSnALdJ5W3GhKcBgQ8WVsK4pwGBDkQ1RtSnAYEORDVG1KcBgQ8WVsK4pwC3SeVtxoSnAVVTXyJaNKcA3rwD8JXMpwCeSwcUlUinAxrTMp54qKcB0forSmvwowJaneCImyCjA+IEbHU6NKMATsoHtIUwowEE/W2CyBCjAx/yk3xG3J8CgaeltVGMnwBBAGKGPCSfAmAn2nNqpJsBAJiUNTkQmwPrQyR4E2SXAq8TKeRhoJcAuP7A5qPEkwLE4I+bRdSTAn74Oa7X0I8A/eWUQdG4jwD97jXEw4yLAB5F0dA5TIsDMXE9AM74hwKWhBTTFJCHA9TVO3OuGIMBSU/rSn8kfwDGCDUo2fR7AH/FzzfAoHcDrrmoTJ80bwILXMcIyahrAPK/wWG8AGcDW1x8YOpAXwDqzf+nxGRbAeCahR/edFMAaCwclrBwTwGe45tJzlhHAPyaO57ILEMCchuxInvkMwDpaELhe1AnA7Ro4rnaoBsBN43B0t3YDwIkCMtXzPwDAvCAOzP8J+r+IU8mhYY3zv0C213RyF+q/rBOHxc8a2r+/0ledhlzcvAAAAAAAAACAXLQ0aDsU2L8BRdjtIBHov9wj1P/3CPK/UQatarkE+L+DgyXgSfr9v0M8vRAQ9AHATGrqdlrmBMBFC5KzQdMHwMKsLbsEugrATo17F+SZDcDog2wMETkQwHfnk4MBoRHA0q4YqWYEE8AWEr7g5GIUwEwOw9EhvBXATk0sfsQPF8BwqrRZdV0YwEBqXmDepBnAAFSfLKvlGsDj9SENiR8cwGp4FhonUh3AKoINSjZ9HsD6y1eGaaAfwHGSct+6XSDAX+PO/gjnIMBDf5i8+2shwLMnqtNw7CHALi43J0doIsBOhVTLXt8iwBk7Mw2ZUSPAdD0Ke9i+I8CLXq3rACckwFekz4X3iSTALwTvxqLnJMDEweeJ6j8lwJW/LQ24kiXAGSaq+PXfJcCf3jtjkCcmwMR22dd0aSbA1hlTWpKlJsAwZrNr2dsmwKL9PQ48DCfAUMkKya02J8AIAz2rI1snwPAv1U6UeSfAWlId2/eRJ8ALs64GSKQnwEa8EBmAsCfA3nvw65y2J8Dee/DrnLYnwEa8EBmAsCfAC7OuBkikJ8BaUh3b95EnwPAv1U6UeSfACAM9qyNbJ8BQyQrJrTYnwKL9PQ48DCfAMGaza9nbJsDWGVNakqUmwMR22dd0aSbAn947Y5AnJsAZJqr49d8lwJW/LQ24kiXAxMHnieo/JcAvBO/GouckwFakz4X3iSTAi16t6wAnJMB0PQp72L4jwBo7Mw2ZUSPAToVUy17fIsAuLjcnR2giwLMnqtNw7CHARH+YvPtrIcBd487+COcgwHGSct+6XSDA+8tXhmmgH8Asgg1KNn0ewGd4FhonUh3A4/UhDYkfHMACVJ8sq+UawD9qXmDepBnAcKq0WXVdGMBOTSx+xA8XwE4Ow9EhvBXAFBK+4ORiFMDQrhipZgQTwHfnk4MBoRHA6oNsDBE5EMBJjXsX5JkNwMKsLbsEugrARguSs0HTB8BRaup2WuYEwD88vRAQ9AHAg4Ml4En6/b9XBq1quQT4v9Aj1P/3CPK/9UTY7SAR6L9etDRoOxTYv8WzzMEdKdq8AAAAAAAAAIBux5TR1PTVv1xWgmAA8uW/DV1pGPdx8L9YeljMsOb1v2rzREPFVfu/Iqt39OZeAMCjUwj9sg4DwGFvKHCVuQXAh+vWRt5eCMC2jZ3r3v0KwKaZkWfqlQ3Aqs10xyoTEMDCa46WO1cRwI2BQBjUlhLAdIGt6qHRE8AjzSvoUwcVwNCKMDyaNxbATJTjdyZiF8DGMVemq4YYwEJqXmDepBnArsz833S8GsDmrmoTJ80bwOj7qK+u1hzAIcefQsfYHcBb+cJELtMewNCKOCqjxR/Ac++9ufNXIMDD+7xe38ggwHwskWh3NSHAk0002Z+dIcABZVnXPQEiwFNuWLU3YCLA/tjM93S6IsCPFOVb3g8jwGeKYd1dYCPANXlBvN6rI8DHOxyCTfIjwDCaJQeYMyTAPNrbdq1vJMBQWl5UfqYkwIWYa3781yTAcp4FMxsEJcBi4bsSzyolwN29mSMOTCXAK824089nJcABa3b7DH4lwKrZS9+/jiXA4IpIMeSZJcD6Ky4Sd58lwPorLhJ3nyXA4IpIMeSZJcCq2Uvfv44lwAFrdvsMfiXAK824089nJcDdvZkjDkwlwGLhuxLPKiXAcp4FMxsEJcCFmGt+/NckwFBaXlR+piTAPNrbdq1vJMAxmiUHmDMkwMY7HIJN8iPANXlBvN6rI8BnimHdXWAjwI8U5VveDyPA/NjM93S6IsBTbli1N2AiwAFlWdc9ASLAlE002Z+dIcB7LJFodzUhwMP7vF7fyCDAc++9ufNXIMDRijgqo8UfwFf5wkQu0x7AIMefQsfYHcDq+6ivrtYcwOiuahMnzRvArMz833S8GsBCal5g3qQZwMcxV6arhhjASpTjdyZiF8DQijA8mjcWwCPNK+hTBxXAdoGt6qHRE8CLgUAY1JYSwMBrjpY7VxHAqs10xyoTEMCqmZFn6pUNwLKNneve/QrAh+vWRt5eCMBibyhwlbkFwKdTCP2yDgPAH6t39OZeAMBq80RDxVX7v156WMyw5vW/AV1pGPdx8L9SVoJgAPLlv2/HlNHU9NW/uBH3Xb3a17wAAAAAAAAAgGb42yfMvtO/sa/YqkC847/WAqzvBJTtvyN7g64UsvO/z4BUMhOV+L+X4C6Lu3H9v/L6jnFmIwHAly2DLISJA8CIQGypmOoFwGh9lucGRgjAPLsaWzObCsDmwfYUhOkMwPA+u+pgMA/At4jizpm3EMBI6PsAtNIRwI7I9xE26RLAyghQN9j6E8AmzSvoUwcVwIADju9jDhbAUk0sfsQPF8BEtek7MwsYwDmv8FhvABnAEPpnnjnvGcDWFL5+VNcawBQUhyWEuBvAJMDoho6SHMDsApFuO2UdwJvJMo5UMB7ATZ6Fi6XzHsD8XcQN/K4fwAbIU+UTMSDAmANsSX2GIMASS+supNcgwFvjqqpzJCHAAVMB8NdsIcAr79xVvrAhwIw+k1sV8CHA5/RjrcwqIsCJXa4o1WAiwM4e2N8gkiLAb1XkHaO+IsCNGrppUOYiwGKcGYkeCSPAbAY/gwQnI8AcizKj+j8jwGX2xHn6UyPAHEY43/5iI8C22pP0A20jwK3ooyQHciPAreijJAdyI8C22pP0A20jwBxGON/+YiPAZfbEefpTI8AcizKj+j8jwGwGP4MEJyPAYpwZiR4JI8CNGrppUOYiwG9V5B2jviLAzh7Y3yCSIsCJXa4o1WAiwOj0Y63MKiLAiz6TWxXwIcAs79xVvrAhwAFTAfDXbCHAW+OqqnMkIcARS+supNcgwJcDbEl9hiDABshT5RMxIMD+XcQN/K4fwEyehYul8x7Am8kyjlQwHsDsApFuO2UdwCXA6IaOkhzAEhSHJYS4G8DVFL5+VNcawBH6Z5457xnAPK/wWG8AGcBDtek7MwsYwFJNLH7EDxfAggOO72MOFsAkzSvoUwcVwMoIUDfY+hPAjsj3ETbpEsBJ6PsAtNIRwLWI4s6ZtxDA7T676mAwD8DmwfYUhOkMwEC7GlszmwrAZH2W5wZGCMCIQGypmOoFwJctgyyEiQPA9vqOcWYjAcCS4C6Lu3H9v8+AVDITlfi/KHuDrhSy87/CAqzvBJTtv6ev2KpAvOO/Z/jbJ8y+0780fIAExnPVvAAAAAAAAACA1EXn5Wh00b/on4T8KHLhv7lDxEeeJeq/Fr5CFCtp8b/jA68XCrv1vwqAmh5PB/q/mloci95M/r9RfgU9T0UBwKXK0oW7XwPAxGHcVSl1BcDP5ZUsD4UHwILzcfbkjgnASbT1LySSC8DoT2UISI4NwJpNAITNgg/Auojizpm3EMD2YFm0fakRwJKBQBjUlhLASYzizF9/E8AcEr7g5GIUwOEw+a0oQRXAPrN/6fEZFsBwzcexCO0WwDyoOZ02uhfAogM2yEaBGMChU7jiBUIZwHnTkD1C/BnAmCYz18uvGsAAOhZodFwbwKE1om4PAhzAbmqpOnKgHMAKSGn4czcdwBKEELvtxh3AaLzHhrpOHsBq/jlat84ewBi+mjfDRh/AhukmLb+2H8DIc48uRw8gwL65mwILPyDAI7W/wp5qIMBlYVwz95EgwMeGETAKtSDAKf9ars7TIMATU+W/PO4gwFEVmZRNBCHAIHZcfPsVIcAemoroQSMhwDBUIG0dLCHA2PSdwYswIcDY9J3BizAhwDBUIG0dLCHAHpqK6EEjIcAgdlx8+xUhwFEVmZRNBCHAE1PlvzzuIMAp/1quztMgwMeGETAKtSDAZWFcM/eRIMAjtb/CnmogwL65mwILPyDAyXOPLkcPIMCE6SYtv7YfwBm+mjfDRh/Aav45WrfOHsBovMeGuk4ewBGEELvtxh3ACEhp+HM3HcBuaqk6cqAcwKI1om4PAhzA/jkWaHRcG8CYJjPXy68awHnTkD1C/BnAolO44gVCGcCgAzbIRoEYwDuoOZ02uhfAcc3HsQjtFsBAs3/p8RkWwOAw+a0oQRXAHBK+4ORiFMBLjOLMX38TwJCBQBjUlhLA9mBZtH2pEcC6iOLOmbcQwJxNAITNgg/A4k9lCEiODcBGtPUvJJILwILzcfbkjgnA0uWVLA+FB8DBYdxVKXUFwKXK0oW7XwPAUn4FPU9FAcCgWhyL3kz+vwSAmh5PB/q/4wOvFwq79b8avkIUK2nxv6hDxEeeJeq/35+E/Chy4b/VReflaHTRvw6FDaGx9tK8AAAAAAAAAIBbkooDDzDOv+OYWfsqLN6/0aelskOc5r+iqbLcnRzuv5r7qXyayvK/FNoeAw6C9r89ozZAtDP6v1ToTHGZ3v2/idK3yOXAAMBh9OBLLY4CwKXDrVqsVgTAue9KSe0ZBsBt9NrFe9cHwHfzcfbkjgnAlqWwlrc/C8DewfYUhOkMwIRUJa/ciw7Ap810xyoTEMBNjsRyQtwQwHTnk4MBoRHAaaTAQjVhEsASCwclrBwTwGg6x9c10xPA/vF5TaOEFMDKjNHJxjAVwKQOhO1z1xXAqDq7wX94FsCavyfDwBMXwIuftOwOqRfAmBDYwUM4GMD4LX9YOsEYwMvqkWLPQxnAptIMN+G/GcBeP67aTzUawIbHNAj9oxrAksUsOMwLG8DA9EqoomwbwIA+UmJnxhvALPGCQgMZHMBzt5H9YGQcwN7GJCZtqBzAQtvVMRblHMCYtLd9TBodwOTsXVICSB3ARBxm5ytuHcCrYYFmv4wdwAqI/e20ox3AcSDNkgazHcAyCw5isLodwDILDmKwuh3AcSDNkgazHcAKiP3ttKMdwKthgWa/jB3ARBxm5ytuHcDk7F1SAkgdwJi0t31MGh3AQtvVMRblHMDexiQmbagcwHO3kf1gZBzALPGCQgMZHMCBPlJiZ8YbwMD0SqiibBvAksUsOMwLG8CGxzQI/aMawF4/rtpPNRrApNIMN+G/GcDK6pFiz0MZwPgtf1g6wRjAmRDYwUM4GMCLn7TsDqkXwJq/J8PAExfAqDq7wX94FsClDoTtc9cVwMeM0cnGMBXA/vF5TaOEFMBoOsfXNdMTwBQLByWsHBPAaKTAQjVhEsB055ODAaERwE6OxHJC3BDAps10xyoTEMCEVCWv3IsOwN7B9hSE6QzAl6Wwlrc/C8B083H25I4JwGz02sV71wfAue9KSe0ZBsCow61arFYEwF704EstjgLAidK3yOXAAMBW6Exxmd79v0OjNkC0M/q/ENoeAw6C9r+a+6l8msryv6mpstydHO6/wKelskOc5r/UmFn7Kizev1ySigMPMM6/YULI6hBm0LwAAAAAAAAAgE2BPfstWMm/hxNcwOlU2b8iWHJymvviv4AEZVvbR+m/mOa0A5iN778qvQtBmeXyvyZG/YKH//W/R8bVIMoT+b9QlezplSH8v1MEKlghKP+/NOH8YVITAcBl9OBLLY4CwAK1aME/BATAwGHcVSl1BcBp+//wiuAGwGR9lucGRgjAVQCHE0GlCcC4jZ3r3v0KwNqE4ZqHTwzAT417F+SZDcC+LyU5n9wOwD8mjueyCxDAz2PKWvOkEMCIcVF16TkRwHtxTNFuyhHABV7pLV5WEsDqWPV4k90SwLL4KNjrXxPAri4kskXdE8DSdBe3gFUUwNMHGOl9yBTA/AcdpB82FcB8caOlSZ4VwAb09hPhABbADMkdhcxdFsDWv2UF9LQWwEDPkB1BBhfAhZWf2J5RF8A0SDjJ+ZYXwI6vqA5A1hfADOOBWWEPGMDblszvTkIYwOTk1LD7bhjA2ZaMGFyVGMAREoNCZrUYwCghcuwRzxjATPNeeFjiGMCQxE7uNO8YwN6+jv2j9RjA3r6O/aP1GMCQxE7uNO8YwEzzXnhY4hjAKCFy7BHPGMAREoNCZrUYwNmWjBhclRjA5OTUsPtuGMDblszvTkIYwAzjgVlhDxjAjq+oDkDWF8A0SDjJ+ZYXwIWVn9ieURfAPs+QHUEGF8DWv2UF9LQWwAzJHYXMXRbABvT2E+EAFsB6caOlSZ4VwPwHHaQfNhXA0wcY6X3IFMDTdBe3gFUUwK4uJLJF3RPAsvgo2OtfE8DqWPV4k90SwAZe6S1eVhLAenFM0W7KEcCHcVF16TkRwNBjylrzpBDAQSaO57ILEMC8LyU5n9wOwE+NexfkmQ3A3IThmodPDMC1jZ3r3v0KwFUAhxNBpQnAZH2W5wZGCMBs+//wiuAGwLxh3FUpdQXAALVowT8EBMBl9OBLLY4CwDbh/GFSEwHATgQqWCEo/79QlezplSH8v0jG1SDKE/m/Kkb9gof/9b8mvQtBmeXyv5jmtAOYje+/hgRlW9tH6b8VWHJymvviv3oTXMDpVNm/UIE9+y1Yyb/w3dZ+EYnLvAAAAAAAAACA3EwByyxmxL8ecHC7i2PUvzg+vZ+/jt6/dNqShQlZ5L837Rh/dGXpv+Xc0pZTa+6/YGWQq6208b8p2egnIS/0v3pjh7VgpPa/TMbVIMoT+b8IeGK3vHz7v2LoTHGZ3v2/MeghjWEcAMBSfgU9T0UBwMMPPz7JaQLAmS2DLISJA8C8K7zcNaQEwGdvKHCVuQXAehMjZ1vJBsBMC5KzQdMHwKQD9coD1wjAOFoQuF7UCcDknS8sEcsKwI4k+4/bugvA31/cE4CjDMAst+y/woQNwALLaoNpXg7AeiayQzwwD8BggrHqBPoPwBXwbbrHXRDAMnJI/1S6EMANfnxokhIRwDn+KDdpZhHAdIjUzsO1EcA0ef+6jQASwPnDabSzRhLAgBwLpiOIEsDjMLyxzMQSwB7BjzSf/BLA7XTayowvE8A5ZuhTiF0TwCRrX/WFhhPAhUBNHnuqE8Afy+CJXskTwOq7zUEo4xPAvvlZoNH3E8DlSBRSVQcUwJW/M1evERTAq6yfBN0WFMCrrJ8E3RYUwJW/M1evERTA5UgUUlUHFMC++Vmg0fcTwOq7zUEo4xPAH8vgiV7JE8CFQE0ee6oTwCRrX/WFhhPAOWboU4hdE8DtdNrKjC8TwB7BjzSf/BLA5DC8sczEEsB/HAumI4gSwPnDabSzRhLANHn/uo0AEsB0iNTOw7URwDj+KDdpZhHADH58aJISEcAyckj/VLoQwBbwbbrHXRDAX4Kx6gT6D8B6JrJDPDAPwALLaoNpXg7ALbfsv8KEDcDdX9wTgKMMwIwk+4/bugvA5p0vLBHLCsA7WhC4XtQJwKMD9coD1wjATAuSs0HTB8B7EyNnW8kGwGZvKHCVuQXAvCu83DWkBMCZLYMshIkDwMQPPz7JaQLAT34FPU9FAcAv6CGNYRwAwGLoTHGZ3v2/C3hit7x8+79IxtUgyhP5v3pjh7VgpPa/KtnoJyEv9L9kZZCrrbTxv97c0pZTa+6/N+0Yf3Rl6b952pKFCVnkvyI+vZ+/jt6/FHBwu4tj1L/eTAHLLGbEv9H1D9OeKca8AAAAAAAAAIBeXHfySL6+v5tCk5VSus6/fNDNfsoG17+9IEwyfKrevymDSiMjI+O/VRJNUxns5r+9Jy3kJq/qv8rc0pZTa+6/AUgGedQP8b8dvQtBmeXyv1dx0Qt/tvS/CdoeAw6C9r9qLQ+xz0f4v/J/mh5PB/q/5TC88RjA+7+A4C6Lu3H9v6JFtiPHG/+/GKt39OZeAMByqs8MsisBwDg8vRAQ9AHAh4EtWs23AsBA43B0t3YDwMubPCmdMATAOi5ajU7lBMDWhQENnZQFwOGO2ndbPgbATzCjDF7iBsDTpXaEeoAHwOpRsx2IGAjA0Dh8pl+qCMAMb9OG2zUJwPrgSsrXugnAtPNIKTI5CsDdm94RyrAKwDajLLCAIQvA3vJV9jiLC8AD1vyj1+0LwJ1GSU1DSQzA5HR2YWSdDMDP2OUwJeoMwAc9tvJxLw3AOlLdyThtDcBaesLJaaMNwO2bWfr20Q3Ai+68W9T4DcDu0kTp9xcOwGvqHJxZLw7AisNVbfM+DsASk3JXwUYOwBKTclfBRg7AisNVbfM+DsBr6hycWS8OwO7SROn3Fw7Ai+68W9T4DcDtm1n69tENwFp6wslpow3AOlLdyThtDcAHPbbycS8NwM/Y5TAl6gzA5HR2YWSdDMCeRklNQ0kMwALW/KPX7QvA4PJV9jiLC8A2oyywgCELwN2b3hHKsArAsfNIKTI5CsD54ErK17oJwAxv04bbNQnA0Th8pl+qCMDpUbMdiBgIwNOldoR6gAfATzCjDF7iBsDhjtp3Wz4GwNSFAQ2dlAXAOS5ajU7lBMDMmzwpnTAEwELjcHS3dgPAhoEtWs23AsA4PL0QEPQBwHOqzwyyKwHAF6t39OZeAMCiRbYjxxv/v4DgLou7cf2/5zC88RjA+7/uf5oeTwf6v2ktD7HPR/i/CdoeAw6C9r9acdELf7b0vxu9C0GZ5fK/AUgGedQP8b/M3NKWU2vuv8MnLeQmr+q/UBJNUxns5r8pg0ojIyPjv8UgTDJ8qt6/bNDNfsoG17+MQpOVUrrOv19cd/JIvr6/gJGoqVOzwLwAAAAAAAAAgP1LvXKHkLS/aGG37eCNxL+kPuvGMc7OvzURPuZIg9S/uEX2SC+a2b/EIEwyfKrev5FINr5w2eG/ZtqShQlZ5L+lQ8GQY9Pmv3QEZVvbR+m//Ppl5c6167+aqbLcnRzuv/zRSePUPfC/Cr5CFCtp8b+tU0dYBJDyvxh7g64UsvO/di7jURHP9L9PeljMsOb1v+shywmr+Pa/SAatarkE+L9hhS7Wlgr5v6UgDsz/Cfq/JdP+dbIC+79fm6C4bvT7v7DYBkT23vy//znIowzC/b+3GZROd53+v6lCSbX9cP+/GR3FqDQeAMDDpuXZwn8AwFtha0gQ3QDAtNhh5wQ2AcDzFa7IiYoBwBTD9yKJ2gHAcddGV+4lAsCtWlT2pWwCwEDfjMWdrgLAC2rDw8TrAsD0kJMtCyQDwCOvcYFiVwPA8SJog72FA8CYnoBAEK8DwLCq2BFQ0wPAEo9gn3PyA8AX7UPicgwEwCJs+yZHIQTA++8GD+swBMD+5k+SWjsEwMdUMwCTQATAx1QzAJNABMD+5k+SWjsEwPvvBg/rMATAImz7JkchBMAX7UPicgwEwBKPYJ9z8gPAsKrYEVDTA8CYnoBAEK8DwPEiaIO9hQPAI69xgWJXA8D0kJMtCyQDwAxqw8PE6wLAQN+MxZ2uAsCtWlT2pWwCwHHXRlfuJQLAFMP3IonaAcDyFa7IiYoBwLPYYecENgHAW2FrSBDdAMDEpuXZwn8AwBgdxag0HgDAqUJJtf1w/7+3GZROd53+vwA6yKMMwv2/rtgGRPbe/L9em6C4bvT7vybT/nWyAvu/qCAOzP8J+r9ghS7Wlgr5v0gGrWq5BPi/7CHLCav49r9OeljMsOb1v3Yu41ERz/S/GHuDrhSy87+uU0dYBJDyvwe+QhQrafG/+9FJ49Q98L+aqbLcnRzuvwD7ZeXOteu/cQRlW9tH6b+lQ8GQY9Pmv2jakoUJWeS/lUg2vnDZ4b+9IEwyfKrev7hF9kgvmtm/OhE+5kiD1L+OPuvGMc7Ov11ht+3gjcS//ku9coeQtL9FW5vNole2vAAAAAAAAACA06lDUSabpL+ev9Ftfpi0v/QgX5sa3r6/dGG37eCNxL8+VJoyaKfJv7NCk5VSus6/in0eoqji0b8bcHC7i2PUvxVnH2Mt39a/ihNcwOlU2b/ZCWR/HsTbv+2YWfsqLN6/gkfWMzhG4L/mn4T8KHLhvxyf4YaameK/sK/YqkC847/qX7h80Nnkv19WgmAA8uW/6b3kHIgE578FRdjtIBHovwXk3ZaFF+m/SrbXdHIX6r/2THiPpRDrv2L8Q6reAuy/ZMIfVd/t7L+SgGn8atHtv4hklfhGre6/vXdMnTqB77+WOASkhybwv3KCFDdIiPC/AIg/1cXl8L+6ESVl6D7xvzGK0uyYk/G/CS+vl8Hj8b/5oxy8TS/yv4F0yuApdvK/xiS7wUO48r9mhvlUivXyv5oa/c7tLfO/q1+8pl9h8784/WuZ0o/zv/bX6a06ufO/XivTN43d87+c3UTawPzzvz5YRYrNFvS/Q0bXkKwr9L/orrSMWDv0v776sXPNRfS/zofIkwhL9L/Oh8iTCEv0v776sXPNRfS/6K60jFg79L9DRteQrCv0vz5YRYrNFvS/nN1E2sD8879eK9M3jd3zv/bX6a06ufO/OP1rmdKP87+rX7ymX2Hzv5oa/c7tLfO/Z4b5VIr18r/FJLvBQ7jyv4J0yuApdvK/+aMcvE0v8r8JL6+XwePxvzCK0uyYk/G/uRElZeg+8b8AiD/VxeXwv3OCFDdIiPC/ljgEpIcm8L+9d0ydOoHvv4hklfhGre6/k4Bp/GrR7b9hwh9V3+3sv2D8Q6reAuy/90x4j6UQ679Ottd0chfqvwTk3ZaFF+m/BUXY7SAR6L/qveQciATnv15WgmAA8uW/6l+4fNDZ5L+wr9iqQLzjvx2f4YaameK/45+E/Chy4b+BR9YzOEbgv+2YWfsqLN6/3Qlkfx7E27+GE1zA6VTZvxVnH2Mt39a/HHBwu4tj1L+OfR6iqOLRv6xCk5VSus6/PlSaMminyb94Ybft4I3Ev94gX5sa3r6/lL/RbX6YtL/UqUNRJpukvzL8bLYsY6a8AAAAAAAAAIBqhHu/D2amvDD8bLYsY7a8yb+/HMbGwLxQW5vNolfGvNtcSCS94su8jJGoqVOz0LzsMcuz+nDTvMz1D9OeKda8inStdIzc2Lzy3dZ+EYnbvG60pH59Lt68ZkLI6hBm4Lzv8DvzqLDhvAuFDaGx9uK8QN+F6dY35LwzfIAExnPlvBYpwoEtqua8uhH3Xb3a57zevlIXJwXpvMezzMEdKeq8tnP0GlZG67y70ledhlzsvN6RdpNna+280GM+KrNy7ryNlgqDJXLvvA9fkWK+NPC8BO9Zlzys8Lyv2J+Sbh/xvHjqvqI2jvG82F1VOXj48bybPaDyF17yvFrSipz7vvK8aENvPQob87x9roYaLHLzvF4NB75KxPO80VXt/FAR9LzjVXL8Kln0vErkKDfGm/S8ZhPEgRHZ9LyKK4QP/RD1vLhISXZ6Q/W8Co9Ksnxw9bxrAHEp+Jf1vHkWVa7iufW8DlvegjPW9bxcUoRa4+z1vPQhMFzs/fW8fXi+I0oJ9rykUiHD+Q72vKRSIcP5Dva8fXi+I0oJ9rz0ITBc7P31vFxShFrj7PW8DlvegjPW9bx5FlWu4rn1vGsAcSn4l/W8Co9Ksnxw9by4SEl2ekP1vIorhA/9EPW8ZhPEgRHZ9LxL5Cg3xpv0vOJVcvwqWfS80lXt/FAR9LxeDQe+SsTzvH2uhhoscvO8ZkNvPQob87xZ0oqc+77yvJs9oPIXXvK82l1VOXj48bx36r6iNo7xvK/Yn5JuH/G8BO9Zlzys8LwQX5FivjTwvIqWCoMlcu+8zmM+KrNy7rzgkXaTZ2vtvL7SV52GXOy8tXP0GlZG67zHs8zBHSnqvOG+UhcnBem8uBH3Xb3a57wWKcKBLarmvDN8gATGc+W8Qt+F6dY35LwIhQ2hsfbivO7wO/OosOG8ZkLI6hBm4LxytKR+fS7evO7d1n4Ridu8inStdIzc2LzO9Q/TninWvPAxy7P6cNO8iJGoqVOz0LzbXEgkveLLvFZbm82iV8a8vr+/HMbGwLwm/Gy2LGO2vGyEe78PZqa8mvTsJsJVqLk=",
          "dtype": "f8"
         },
         "z": {
          "bdata": "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",
          "dtype": "f8"
         }
        }
       ],
       "layout": {
        "margin": {
         "b": 0,
         "l": 0,
         "r": 0,
         "t": 0
        },
        "scene": {
         "xaxis": {
          "title": {
           "text": "X"
          }
         },
         "yaxis": {
          "title": {
           "text": "Y"
          }
         },
         "zaxis": {
          "title": {
           "text": "Z"
          }
         }
        },
        "template": {
         "data": {
          "bar": [
           {
            "error_x": {
             "color": "#2a3f5f"
            },
            "error_y": {
             "color": "#2a3f5f"
            },
            "marker": {
             "line": {
              "color": "#E5ECF6",
              "width": 0.5
             },
             "pattern": {
              "fillmode": "overlay",
              "size": 10,
              "solidity": 0.2
             }
            },
            "type": "bar"
           }
          ],
          "barpolar": [
           {
            "marker": {
             "line": {
              "color": "#E5ECF6",
              "width": 0.5
             },
             "pattern": {
              "fillmode": "overlay",
              "size": 10,
              "solidity": 0.2
             }
            },
            "type": "barpolar"
           }
          ],
          "carpet": [
           {
            "aaxis": {
             "endlinecolor": "#2a3f5f",
             "gridcolor": "white",
             "linecolor": "white",
             "minorgridcolor": "white",
             "startlinecolor": "#2a3f5f"
            },
            "baxis": {
             "endlinecolor": "#2a3f5f",
             "gridcolor": "white",
             "linecolor": "white",
             "minorgridcolor": "white",
             "startlinecolor": "#2a3f5f"
            },
            "type": "carpet"
           }
          ],
          "choropleth": [
           {
            "colorbar": {
             "outlinewidth": 0,
             "ticks": ""
            },
            "type": "choropleth"
           }
          ],
          "contour": [
           {
            "colorbar": {
             "outlinewidth": 0,
             "ticks": ""
            },
            "colorscale": [
             [
              0,
              "#0d0887"
             ],
             [
              0.1111111111111111,
              "#46039f"
             ],
             [
              0.2222222222222222,
              "#7201a8"
             ],
             [
              0.3333333333333333,
              "#9c179e"
             ],
             [
              0.4444444444444444,
              "#bd3786"
             ],
             [
              0.5555555555555556,
              "#d8576b"
             ],
             [
              0.6666666666666666,
              "#ed7953"
             ],
             [
              0.7777777777777778,
              "#fb9f3a"
             ],
             [
              0.8888888888888888,
              "#fdca26"
             ],
             [
              1,
              "#f0f921"
             ]
            ],
            "type": "contour"
           }
          ],
          "contourcarpet": [
           {
            "colorbar": {
             "outlinewidth": 0,
             "ticks": ""
            },
            "type": "contourcarpet"
           }
          ],
          "heatmap": [
           {
            "colorbar": {
             "outlinewidth": 0,
             "ticks": ""
            },
            "colorscale": [
             [
              0,
              "#0d0887"
             ],
             [
              0.1111111111111111,
              "#46039f"
             ],
             [
              0.2222222222222222,
              "#7201a8"
             ],
             [
              0.3333333333333333,
              "#9c179e"
             ],
             [
              0.4444444444444444,
              "#bd3786"
             ],
             [
              0.5555555555555556,
              "#d8576b"
             ],
             [
              0.6666666666666666,
              "#ed7953"
             ],
             [
              0.7777777777777778,
              "#fb9f3a"
             ],
             [
              0.8888888888888888,
              "#fdca26"
             ],
             [
              1,
              "#f0f921"
             ]
            ],
            "type": "heatmap"
           }
          ],
          "histogram": [
           {
            "marker": {
             "pattern": {
              "fillmode": "overlay",
              "size": 10,
              "solidity": 0.2
             }
            },
            "type": "histogram"
           }
          ],
          "histogram2d": [
           {
            "colorbar": {
             "outlinewidth": 0,
             "ticks": ""
            },
            "colorscale": [
             [
              0,
              "#0d0887"
             ],
             [
              0.1111111111111111,
              "#46039f"
             ],
             [
              0.2222222222222222,
              "#7201a8"
             ],
             [
              0.3333333333333333,
              "#9c179e"
             ],
             [
              0.4444444444444444,
              "#bd3786"
             ],
             [
              0.5555555555555556,
              "#d8576b"
             ],
             [
              0.6666666666666666,
              "#ed7953"
             ],
             [
              0.7777777777777778,
              "#fb9f3a"
             ],
             [
              0.8888888888888888,
              "#fdca26"
             ],
             [
              1,
              "#f0f921"
             ]
            ],
            "type": "histogram2d"
           }
          ],
          "histogram2dcontour": [
           {
            "colorbar": {
             "outlinewidth": 0,
             "ticks": ""
            },
            "colorscale": [
             [
              0,
              "#0d0887"
             ],
             [
              0.1111111111111111,
              "#46039f"
             ],
             [
              0.2222222222222222,
              "#7201a8"
             ],
             [
              0.3333333333333333,
              "#9c179e"
             ],
             [
              0.4444444444444444,
              "#bd3786"
             ],
             [
              0.5555555555555556,
              "#d8576b"
             ],
             [
              0.6666666666666666,
              "#ed7953"
             ],
             [
              0.7777777777777778,
              "#fb9f3a"
             ],
             [
              0.8888888888888888,
              "#fdca26"
             ],
             [
              1,
              "#f0f921"
             ]
            ],
            "type": "histogram2dcontour"
           }
          ],
          "mesh3d": [
           {
            "colorbar": {
             "outlinewidth": 0,
             "ticks": ""
            },
            "type": "mesh3d"
           }
          ],
          "parcoords": [
           {
            "line": {
             "colorbar": {
              "outlinewidth": 0,
              "ticks": ""
             }
            },
            "type": "parcoords"
           }
          ],
          "pie": [
           {
            "automargin": true,
            "type": "pie"
           }
          ],
          "scatter": [
           {
            "fillpattern": {
             "fillmode": "overlay",
             "size": 10,
             "solidity": 0.2
            },
            "type": "scatter"
           }
          ],
          "scatter3d": [
           {
            "line": {
             "colorbar": {
              "outlinewidth": 0,
              "ticks": ""
             }
            },
            "marker": {
             "colorbar": {
              "outlinewidth": 0,
              "ticks": ""
             }
            },
            "type": "scatter3d"
           }
          ],
          "scattercarpet": [
           {
            "marker": {
             "colorbar": {
              "outlinewidth": 0,
              "ticks": ""
             }
            },
            "type": "scattercarpet"
           }
          ],
          "scattergeo": [
           {
            "marker": {
             "colorbar": {
              "outlinewidth": 0,
              "ticks": ""
             }
            },
            "type": "scattergeo"
           }
          ],
          "scattergl": [
           {
            "marker": {
             "colorbar": {
              "outlinewidth": 0,
              "ticks": ""
             }
            },
            "type": "scattergl"
           }
          ],
          "scattermap": [
           {
            "marker": {
             "colorbar": {
              "outlinewidth": 0,
              "ticks": ""
             }
            },
            "type": "scattermap"
           }
          ],
          "scattermapbox": [
           {
            "marker": {
             "colorbar": {
              "outlinewidth": 0,
              "ticks": ""
             }
            },
            "type": "scattermapbox"
           }
          ],
          "scatterpolar": [
           {
            "marker": {
             "colorbar": {
              "outlinewidth": 0,
              "ticks": ""
             }
            },
            "type": "scatterpolar"
           }
          ],
          "scatterpolargl": [
           {
            "marker": {
             "colorbar": {
              "outlinewidth": 0,
              "ticks": ""
             }
            },
            "type": "scatterpolargl"
           }
          ],
          "scatterternary": [
           {
            "marker": {
             "colorbar": {
              "outlinewidth": 0,
              "ticks": ""
             }
            },
            "type": "scatterternary"
           }
          ],
          "surface": [
           {
            "colorbar": {
             "outlinewidth": 0,
             "ticks": ""
            },
            "colorscale": [
             [
              0,
              "#0d0887"
             ],
             [
              0.1111111111111111,
              "#46039f"
             ],
             [
              0.2222222222222222,
              "#7201a8"
             ],
             [
              0.3333333333333333,
              "#9c179e"
             ],
             [
              0.4444444444444444,
              "#bd3786"
             ],
             [
              0.5555555555555556,
              "#d8576b"
             ],
             [
              0.6666666666666666,
              "#ed7953"
             ],
             [
              0.7777777777777778,
              "#fb9f3a"
             ],
             [
              0.8888888888888888,
              "#fdca26"
             ],
             [
              1,
              "#f0f921"
             ]
            ],
            "type": "surface"
           }
          ],
          "table": [
           {
            "cells": {
             "fill": {
              "color": "#EBF0F8"
             },
             "line": {
              "color": "white"
             }
            },
            "header": {
             "fill": {
              "color": "#C8D4E3"
             },
             "line": {
              "color": "white"
             }
            },
            "type": "table"
           }
          ]
         },
         "layout": {
          "annotationdefaults": {
           "arrowcolor": "#2a3f5f",
           "arrowhead": 0,
           "arrowwidth": 1
          },
          "autotypenumbers": "strict",
          "coloraxis": {
           "colorbar": {
            "outlinewidth": 0,
            "ticks": ""
           }
          },
          "colorscale": {
           "diverging": [
            [
             0,
             "#8e0152"
            ],
            [
             0.1,
             "#c51b7d"
            ],
            [
             0.2,
             "#de77ae"
            ],
            [
             0.3,
             "#f1b6da"
            ],
            [
             0.4,
             "#fde0ef"
            ],
            [
             0.5,
             "#f7f7f7"
            ],
            [
             0.6,
             "#e6f5d0"
            ],
            [
             0.7,
             "#b8e186"
            ],
            [
             0.8,
             "#7fbc41"
            ],
            [
             0.9,
             "#4d9221"
            ],
            [
             1,
             "#276419"
            ]
           ],
           "sequential": [
            [
             0,
             "#0d0887"
            ],
            [
             0.1111111111111111,
             "#46039f"
            ],
            [
             0.2222222222222222,
             "#7201a8"
            ],
            [
             0.3333333333333333,
             "#9c179e"
            ],
            [
             0.4444444444444444,
             "#bd3786"
            ],
            [
             0.5555555555555556,
             "#d8576b"
            ],
            [
             0.6666666666666666,
             "#ed7953"
            ],
            [
             0.7777777777777778,
             "#fb9f3a"
            ],
            [
             0.8888888888888888,
             "#fdca26"
            ],
            [
             1,
             "#f0f921"
            ]
           ],
           "sequentialminus": [
            [
             0,
             "#0d0887"
            ],
            [
             0.1111111111111111,
             "#46039f"
            ],
            [
             0.2222222222222222,
             "#7201a8"
            ],
            [
             0.3333333333333333,
             "#9c179e"
            ],
            [
             0.4444444444444444,
             "#bd3786"
            ],
            [
             0.5555555555555556,
             "#d8576b"
            ],
            [
             0.6666666666666666,
             "#ed7953"
            ],
            [
             0.7777777777777778,
             "#fb9f3a"
            ],
            [
             0.8888888888888888,
             "#fdca26"
            ],
            [
             1,
             "#f0f921"
            ]
           ]
          },
          "colorway": [
           "#636efa",
           "#EF553B",
           "#00cc96",
           "#ab63fa",
           "#FFA15A",
           "#19d3f3",
           "#FF6692",
           "#B6E880",
           "#FF97FF",
           "#FECB52"
          ],
          "font": {
           "color": "#2a3f5f"
          },
          "geo": {
           "bgcolor": "white",
           "lakecolor": "white",
           "landcolor": "#E5ECF6",
           "showlakes": true,
           "showland": true,
           "subunitcolor": "white"
          },
          "hoverlabel": {
           "align": "left"
          },
          "hovermode": "closest",
          "mapbox": {
           "style": "light"
          },
          "paper_bgcolor": "white",
          "plot_bgcolor": "#E5ECF6",
          "polar": {
           "angularaxis": {
            "gridcolor": "white",
            "linecolor": "white",
            "ticks": ""
           },
           "bgcolor": "#E5ECF6",
           "radialaxis": {
            "gridcolor": "white",
            "linecolor": "white",
            "ticks": ""
           }
          },
          "scene": {
           "xaxis": {
            "backgroundcolor": "#E5ECF6",
            "gridcolor": "white",
            "gridwidth": 2,
            "linecolor": "white",
            "showbackground": true,
            "ticks": "",
            "zerolinecolor": "white"
           },
           "yaxis": {
            "backgroundcolor": "#E5ECF6",
            "gridcolor": "white",
            "gridwidth": 2,
            "linecolor": "white",
            "showbackground": true,
            "ticks": "",
            "zerolinecolor": "white"
           },
           "zaxis": {
            "backgroundcolor": "#E5ECF6",
            "gridcolor": "white",
            "gridwidth": 2,
            "linecolor": "white",
            "showbackground": true,
            "ticks": "",
            "zerolinecolor": "white"
           }
          },
          "shapedefaults": {
           "line": {
            "color": "#2a3f5f"
           }
          },
          "ternary": {
           "aaxis": {
            "gridcolor": "white",
            "linecolor": "white",
            "ticks": ""
           },
           "baxis": {
            "gridcolor": "white",
            "linecolor": "white",
            "ticks": ""
           },
           "bgcolor": "#E5ECF6",
           "caxis": {
            "gridcolor": "white",
            "linecolor": "white",
            "ticks": ""
           }
          },
          "title": {
           "x": 0.05
          },
          "xaxis": {
           "automargin": true,
           "gridcolor": "white",
           "linecolor": "white",
           "ticks": "",
           "title": {
            "standoff": 15
           },
           "zerolinecolor": "white",
           "zerolinewidth": 2
          },
          "yaxis": {
           "automargin": true,
           "gridcolor": "white",
           "linecolor": "white",
           "ticks": "",
           "title": {
            "standoff": 15
           },
           "zerolinecolor": "white",
           "zerolinewidth": 2
          }
         }
        },
        "title": {
         "text": "3D Brain Model (Sphere)"
        }
       }
      }
     },
     "metadata": {},
     "output_type": "display_data"
    }
   ],
   "source": [
    "import plotly.graph_objs as go\n",
    "import numpy as np\n",
    "\n",
    "# Create a sphere (representing the brain)\n",
    "u = np.linspace(0, 2 * np.pi, 100)\n",
    "v = np.linspace(0, np.pi, 100)\n",
    "x = 20 * np.outer(np.cos(u), np.sin(v))\n",
    "y = 20 * np.outer(np.sin(u), np.sin(v))\n",
    "z = 20 * np.outer(np.ones(np.size(u)), np.cos(v))\n",
    "\n",
    "# Create a Plotly mesh3d object to display the sphere (brain)\n",
    "sphere = go.Mesh3d(\n",
    "    x=x.flatten(),\n",
    "    y=y.flatten(),\n",
    "    z=z.flatten(),\n",
    "    opacity=0.3,\n",
    "    color='lightblue',\n",
    "    showscale=False\n",
    ")\n",
    "\n",
    "# Create a layout for the plot\n",
    "layout = go.Layout(\n",
    "    title=\"3D Brain Model (Sphere)\",\n",
    "    scene=dict(\n",
    "        xaxis=dict(title='X'),\n",
    "        yaxis=dict(title='Y'),\n",
    "        zaxis=dict(title='Z')\n",
    "    ),\n",
    "    margin=dict(l=0, r=0, b=0, t=0)\n",
    ")\n",
    "\n",
    "# Create the figure with the sphere\n",
    "fig = go.Figure(data=[sphere], layout=layout)\n",
    "\n",
    "# Show the plot\n",
    "fig.show()\n"
   ]
  },
  {
   "cell_type": "code",
   "execution_count": 8,
   "metadata": {},
   "outputs": [
    {
     "data": {
      "text/html": [
       "<pre style=\"white-space:pre;overflow-x:auto;line-height:normal;font-family:Menlo,'DejaVu Sans Mono',consolas,'Courier New',monospace\"><span style=\"color: #000080; text-decoration-color: #000080; font-weight: bold\">[</span><span style=\"color: #000080; text-decoration-color: #000080\">get_dataset_dir</span><span style=\"color: #000080; text-decoration-color: #000080; font-weight: bold\">]</span> Dataset found in <span style=\"color: #800080; text-decoration-color: #800080\">/home/linux-pc/nilearn_data/</span><span style=\"color: #ff00ff; text-decoration-color: #ff00ff\">fsl</span>\n",
       "</pre>\n"
      ],
      "text/plain": [
       "\u001b[1;34m[\u001b[0m\u001b[34mget_dataset_dir\u001b[0m\u001b[1;34m]\u001b[0m Dataset found in \u001b[35m/home/linux-pc/nilearn_data/\u001b[0m\u001b[95mfsl\u001b[0m\n"
      ]
     },
     "metadata": {},
     "output_type": "display_data"
    },
    {
     "data": {
      "text/html": [
       "<pre style=\"white-space:pre;overflow-x:auto;line-height:normal;font-family:Menlo,'DejaVu Sans Mono',consolas,'Courier New',monospace\"><span style=\"color: #000080; text-decoration-color: #000080; font-weight: bold\">[</span><span style=\"color: #000080; text-decoration-color: #000080\">get_dataset_dir</span><span style=\"color: #000080; text-decoration-color: #000080; font-weight: bold\">]</span> Dataset found in <span style=\"color: #800080; text-decoration-color: #800080\">/home/linux-pc/nilearn_data/</span><span style=\"color: #ff00ff; text-decoration-color: #ff00ff\">fsl</span>\n",
       "</pre>\n"
      ],
      "text/plain": [
       "\u001b[1;34m[\u001b[0m\u001b[34mget_dataset_dir\u001b[0m\u001b[1;34m]\u001b[0m Dataset found in \u001b[35m/home/linux-pc/nilearn_data/\u001b[0m\u001b[95mfsl\u001b[0m\n"
      ]
     },
     "metadata": {},
     "output_type": "display_data"
    },
    {
     "data": {
      "text/plain": [
       "['Frontal Pole',\n",
       " 'Insular Cortex',\n",
       " 'Superior Frontal Gyrus',\n",
       " 'Middle Frontal Gyrus',\n",
       " 'Inferior Frontal Gyrus, pars triangularis',\n",
       " 'Inferior Frontal Gyrus, pars opercularis',\n",
       " 'Precentral Gyrus',\n",
       " 'Temporal Pole',\n",
       " 'Superior Temporal Gyrus, anterior division',\n",
       " 'Superior Temporal Gyrus, posterior division',\n",
       " 'Middle Temporal Gyrus, anterior division',\n",
       " 'Middle Temporal Gyrus, posterior division',\n",
       " 'Middle Temporal Gyrus, temporooccipital part',\n",
       " 'Inferior Temporal Gyrus, anterior division',\n",
       " 'Inferior Temporal Gyrus, posterior division',\n",
       " 'Inferior Temporal Gyrus, temporooccipital part',\n",
       " 'Postcentral Gyrus',\n",
       " 'Superior Parietal Lobule',\n",
       " 'Supramarginal Gyrus, anterior division',\n",
       " 'Supramarginal Gyrus, posterior division',\n",
       " 'Angular Gyrus',\n",
       " 'Lateral Occipital Cortex, superior division',\n",
       " 'Lateral Occipital Cortex, inferior division',\n",
       " 'Intracalcarine Cortex',\n",
       " 'Frontal Medial Cortex',\n",
       " 'Juxtapositional Lobule Cortex (formerly Supplementary Motor Cortex)',\n",
       " 'Subcallosal Cortex',\n",
       " 'Paracingulate Gyrus',\n",
       " 'Cingulate Gyrus, anterior division',\n",
       " 'Cingulate Gyrus, posterior division',\n",
       " 'Precuneous Cortex',\n",
       " 'Cuneal Cortex',\n",
       " 'Frontal Orbital Cortex',\n",
       " 'Parahippocampal Gyrus, anterior division',\n",
       " 'Parahippocampal Gyrus, posterior division',\n",
       " 'Lingual Gyrus',\n",
       " 'Temporal Fusiform Cortex, anterior division',\n",
       " 'Temporal Fusiform Cortex, posterior division',\n",
       " 'Temporal Occipital Fusiform Cortex',\n",
       " 'Occipital Fusiform Gyrus',\n",
       " 'Frontal Opercular Cortex',\n",
       " 'Central Opercular Cortex',\n",
       " 'Parietal Opercular Cortex',\n",
       " 'Planum Polare',\n",
       " \"Heschl's Gyrus (includes H1 and H2)\",\n",
       " 'Planum Temporale',\n",
       " 'Supracalcarine Cortex',\n",
       " 'Occipital Pole',\n",
       " 'Left Cerebral White Matter',\n",
       " 'Left Cerebral Cortex',\n",
       " 'Left Lateral Ventricle',\n",
       " 'Left Thalamus',\n",
       " 'Left Caudate',\n",
       " 'Left Putamen',\n",
       " 'Left Pallidum',\n",
       " 'Brain-Stem',\n",
       " 'Left Hippocampus',\n",
       " 'Left Amygdala',\n",
       " 'Left Accumbens',\n",
       " 'Right Cerebral White Matter',\n",
       " 'Right Cerebral Cortex',\n",
       " 'Right Lateral Ventricle',\n",
       " 'Right Thalamus',\n",
       " 'Right Caudate',\n",
       " 'Right Putamen',\n",
       " 'Right Pallidum',\n",
       " 'Right Hippocampus',\n",
       " 'Right Amygdala',\n",
       " 'Right Accumbens']"
      ]
     },
     "execution_count": 8,
     "metadata": {},
     "output_type": "execute_result"
    }
   ],
   "source": [
    "# Fetch the atlas (cortical or subcortical)\n",
    "atlas_cortex = fetch_atlas_harvard_oxford('cort-maxprob-thr25-1mm')  # 1mm resolution\n",
    "atlas_img_cortex = atlas_cortex.filename\n",
    "\n",
    "# Fetch the sub-cortical atlas\n",
    "atlas_subcortical = fetch_atlas_harvard_oxford('sub-maxprob-thr25-1mm')\n",
    "atlas_img_subcortical = atlas_subcortical.filename\n",
    "\n",
    "atlas_labels = atlas_cortex.labels[1:] + atlas_subcortical.labels[1:]\n",
    "atlas_labels"
   ]
  },
  {
   "cell_type": "code",
   "execution_count": 10,
   "metadata": {},
   "outputs": [
    {
     "data": {
      "text/plain": [
       "['Frontal Pole',\n",
       " 'Insular Cortex',\n",
       " 'Superior Frontal Gyrus',\n",
       " 'Middle Frontal Gyrus',\n",
       " 'Inferior Frontal Gyrus, pars triangularis',\n",
       " 'Inferior Frontal Gyrus, pars opercularis',\n",
       " 'Precentral Gyrus',\n",
       " 'Temporal Pole',\n",
       " 'Superior Temporal Gyrus, anterior division',\n",
       " 'Superior Temporal Gyrus, posterior division',\n",
       " 'Middle Temporal Gyrus, anterior division',\n",
       " 'Middle Temporal Gyrus, posterior division',\n",
       " 'Middle Temporal Gyrus, temporooccipital part',\n",
       " 'Inferior Temporal Gyrus, anterior division',\n",
       " 'Inferior Temporal Gyrus, posterior division',\n",
       " 'Inferior Temporal Gyrus, temporooccipital part',\n",
       " 'Postcentral Gyrus',\n",
       " 'Superior Parietal Lobule',\n",
       " 'Supramarginal Gyrus, anterior division',\n",
       " 'Supramarginal Gyrus, posterior division',\n",
       " 'Angular Gyrus',\n",
       " 'Lateral Occipital Cortex, superior division',\n",
       " 'Lateral Occipital Cortex, inferior division',\n",
       " 'Intracalcarine Cortex',\n",
       " 'Frontal Medial Cortex',\n",
       " 'Juxtapositional Lobule Cortex (formerly Supplementary Motor Cortex)',\n",
       " 'Subcallosal Cortex',\n",
       " 'Paracingulate Gyrus',\n",
       " 'Cingulate Gyrus, anterior division',\n",
       " 'Cingulate Gyrus, posterior division',\n",
       " 'Precuneous Cortex',\n",
       " 'Cuneal Cortex',\n",
       " 'Frontal Orbital Cortex',\n",
       " 'Parahippocampal Gyrus, anterior division',\n",
       " 'Parahippocampal Gyrus, posterior division',\n",
       " 'Lingual Gyrus',\n",
       " 'Temporal Fusiform Cortex, anterior division',\n",
       " 'Temporal Fusiform Cortex, posterior division',\n",
       " 'Temporal Occipital Fusiform Cortex',\n",
       " 'Occipital Fusiform Gyrus',\n",
       " 'Frontal Opercular Cortex',\n",
       " 'Central Opercular Cortex',\n",
       " 'Parietal Opercular Cortex',\n",
       " 'Planum Polare',\n",
       " \"Heschl's Gyrus (includes H1 and H2)\",\n",
       " 'Planum Temporale',\n",
       " 'Supracalcarine Cortex',\n",
       " 'Occipital Pole',\n",
       " 'Left Cerebral White Matter',\n",
       " 'Left Cerebral Cortex',\n",
       " 'Left Lateral Ventricle',\n",
       " 'Left Thalamus',\n",
       " 'Left Caudate',\n",
       " 'Left Putamen',\n",
       " 'Left Pallidum',\n",
       " 'Brain-Stem',\n",
       " 'Left Hippocampus',\n",
       " 'Left Amygdala',\n",
       " 'Left Accumbens',\n",
       " 'Right Cerebral White Matter',\n",
       " 'Right Cerebral Cortex',\n",
       " 'Right Lateral Ventricle',\n",
       " 'Right Thalamus',\n",
       " 'Right Caudate',\n",
       " 'Right Putamen',\n",
       " 'Right Pallidum',\n",
       " 'Right Hippocampus',\n",
       " 'Right Amygdala',\n",
       " 'Right Accumbens']"
      ]
     },
     "execution_count": 10,
     "metadata": {},
     "output_type": "execute_result"
    }
   ],
   "source": [
    "\n",
    "atlas_labels"
   ]
  },
  {
   "cell_type": "code",
   "execution_count": 9,
   "metadata": {},
   "outputs": [
    {
     "ename": "FileNotFoundError",
     "evalue": "No such file or no access: 'MNI152_T1_1mm_brain.nii.gz'",
     "output_type": "error",
     "traceback": [
      "\u001b[0;31m---------------------------------------------------------------------------\u001b[0m",
      "\u001b[0;31mFileNotFoundError\u001b[0m                         Traceback (most recent call last)",
      "File \u001b[0;32m~/anaconda3/envs/torch/lib/python3.10/site-packages/nibabel/loadsave.py:101\u001b[0m, in \u001b[0;36mload\u001b[0;34m(filename, **kwargs)\u001b[0m\n\u001b[1;32m    100\u001b[0m \u001b[38;5;28;01mtry\u001b[39;00m:\n\u001b[0;32m--> 101\u001b[0m     stat_result \u001b[38;5;241m=\u001b[39m \u001b[43mos\u001b[49m\u001b[38;5;241;43m.\u001b[39;49m\u001b[43mstat\u001b[49m\u001b[43m(\u001b[49m\u001b[43mfilename\u001b[49m\u001b[43m)\u001b[49m\n\u001b[1;32m    102\u001b[0m \u001b[38;5;28;01mexcept\u001b[39;00m \u001b[38;5;167;01mOSError\u001b[39;00m:\n",
      "\u001b[0;31mFileNotFoundError\u001b[0m: [Errno 2] No such file or directory: 'MNI152_T1_1mm_brain.nii.gz'",
      "\nDuring handling of the above exception, another exception occurred:\n",
      "\u001b[0;31mFileNotFoundError\u001b[0m                         Traceback (most recent call last)",
      "Cell \u001b[0;32mIn[9], line 7\u001b[0m\n\u001b[1;32m      4\u001b[0m \u001b[38;5;28;01mimport\u001b[39;00m\u001b[38;5;250m \u001b[39m\u001b[38;5;21;01mnumpy\u001b[39;00m\u001b[38;5;250m \u001b[39m\u001b[38;5;28;01mas\u001b[39;00m\u001b[38;5;250m \u001b[39m\u001b[38;5;21;01mnp\u001b[39;00m\n\u001b[1;32m      6\u001b[0m \u001b[38;5;66;03m# Load the MNI152 template and the brain regions mask (e.g., Harvard-Oxford or any other atlas)\u001b[39;00m\n\u001b[0;32m----> 7\u001b[0m mni_template \u001b[38;5;241m=\u001b[39m \u001b[43mnib\u001b[49m\u001b[38;5;241;43m.\u001b[39;49m\u001b[43mload\u001b[49m\u001b[43m(\u001b[49m\u001b[38;5;124;43m'\u001b[39;49m\u001b[38;5;124;43mMNI152_T1_1mm_brain.nii.gz\u001b[39;49m\u001b[38;5;124;43m'\u001b[39;49m\u001b[43m)\u001b[49m  \u001b[38;5;66;03m# Path to MNI template\u001b[39;00m\n\u001b[1;32m      8\u001b[0m atlas_img \u001b[38;5;241m=\u001b[39m nib\u001b[38;5;241m.\u001b[39mload(\u001b[38;5;124m'\u001b[39m\u001b[38;5;124mharvard_oxford_cortical_1mm.nii.gz\u001b[39m\u001b[38;5;124m'\u001b[39m)  \u001b[38;5;66;03m# Example path to an atlas\u001b[39;00m\n\u001b[1;32m     10\u001b[0m \u001b[38;5;66;03m# Extract the labels (e.g., brain regions)\u001b[39;00m\n",
      "File \u001b[0;32m~/anaconda3/envs/torch/lib/python3.10/site-packages/nibabel/loadsave.py:103\u001b[0m, in \u001b[0;36mload\u001b[0;34m(filename, **kwargs)\u001b[0m\n\u001b[1;32m    101\u001b[0m     stat_result \u001b[38;5;241m=\u001b[39m os\u001b[38;5;241m.\u001b[39mstat(filename)\n\u001b[1;32m    102\u001b[0m \u001b[38;5;28;01mexcept\u001b[39;00m \u001b[38;5;167;01mOSError\u001b[39;00m:\n\u001b[0;32m--> 103\u001b[0m     \u001b[38;5;28;01mraise\u001b[39;00m \u001b[38;5;167;01mFileNotFoundError\u001b[39;00m(\u001b[38;5;124mf\u001b[39m\u001b[38;5;124m\"\u001b[39m\u001b[38;5;124mNo such file or no access: \u001b[39m\u001b[38;5;124m'\u001b[39m\u001b[38;5;132;01m{\u001b[39;00mfilename\u001b[38;5;132;01m}\u001b[39;00m\u001b[38;5;124m'\u001b[39m\u001b[38;5;124m\"\u001b[39m)\n\u001b[1;32m    104\u001b[0m \u001b[38;5;28;01mif\u001b[39;00m stat_result\u001b[38;5;241m.\u001b[39mst_size \u001b[38;5;241m<\u001b[39m\u001b[38;5;241m=\u001b[39m \u001b[38;5;241m0\u001b[39m:\n\u001b[1;32m    105\u001b[0m     \u001b[38;5;28;01mraise\u001b[39;00m ImageFileError(\u001b[38;5;124mf\u001b[39m\u001b[38;5;124m\"\u001b[39m\u001b[38;5;124mEmpty file: \u001b[39m\u001b[38;5;124m'\u001b[39m\u001b[38;5;132;01m{\u001b[39;00mfilename\u001b[38;5;132;01m}\u001b[39;00m\u001b[38;5;124m'\u001b[39m\u001b[38;5;124m\"\u001b[39m)\n",
      "\u001b[0;31mFileNotFoundError\u001b[0m: No such file or no access: 'MNI152_T1_1mm_brain.nii.gz'"
     ]
    }
   ],
   "source": [
    "from nilearn import plotting, image\n",
    "from nilearn.input_data import NiftiLabelsMasker\n",
    "import nibabel as nib\n",
    "import numpy as np\n",
    "\n",
    "# Load the MNI152 template and the brain regions mask (e.g., Harvard-Oxford or any other atlas)\n",
    "mni_template = nib.load('MNI152_T1_1mm_brain.nii.gz')  # Path to MNI template\n",
    "atlas_img = nib.load('harvard_oxford_cortical_1mm.nii.gz')  # Example path to an atlas\n",
    "\n",
    "# Extract the labels (e.g., brain regions)\n",
    "atlas_data = atlas_img.get_fdata()\n",
    "unique_labels = np.unique(atlas_data)\n",
    "\n",
    "# Define the brain regions of interest (modify this list as per your needs)\n",
    "regions_of_interest = [\n",
    "    'Frontal Pole', 'Insular Cortex', 'Superior Frontal Gyrus', \n",
    "    'Middle Frontal Gyrus', 'Inferior Frontal Gyrus, pars triangularis', \n",
    "    'Inferior Frontal Gyrus, pars opercularis', 'Precentral Gyrus',\n",
    "    # Add the rest of your regions here...\n",
    "]\n",
    "\n",
    "# Now, for each region, find the coordinates\n",
    "coordinates = []\n",
    "for region in regions_of_interest:\n",
    "    # Find the indices of the region in the atlas\n",
    "    region_label = find_label_number(region)  # This is a helper function to match your regions to the label numbers\n",
    "    region_indices = np.where(atlas_data == region_label)\n",
    "    \n",
    "    # Convert to 3D coordinates (X, Y, Z)\n",
    "    for index in zip(*region_indices):\n",
    "        coordinates.append(index)\n",
    "\n",
    "# Print the coordinates (example for one region)\n",
    "print(coordinates)\n",
    "\n",
    "# Optionally, plot the regions on the MNI template\n",
    "plotting.plot_roi(atlas_img, title=\"Brain Regions\", display_mode=\"ortho\", draw_cross=True)\n",
    "plotting.show()\n"
   ]
  },
  {
   "cell_type": "code",
   "execution_count": null,
   "metadata": {},
   "outputs": [],
   "source": [
    "fetch_atlas_harvard_oxford"
   ]
  }
 ],
 "metadata": {
  "kernelspec": {
   "display_name": "torch",
   "language": "python",
   "name": "python3"
  },
  "language_info": {
   "codemirror_mode": {
    "name": "ipython",
    "version": 3
   },
   "file_extension": ".py",
   "mimetype": "text/x-python",
   "name": "python",
   "nbconvert_exporter": "python",
   "pygments_lexer": "ipython3",
   "version": "3.10.16"
  }
 },
 "nbformat": 4,
 "nbformat_minor": 2
}

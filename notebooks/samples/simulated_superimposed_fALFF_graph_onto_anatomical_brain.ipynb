{
 "cells": [
  {
   "cell_type": "code",
   "execution_count": 7,
   "metadata": {},
   "outputs": [],
   "source": [
    "import numpy as np\n",
    "import pandas as pd\n",
    "import networkx as nx\n",
    "import matplotlib.pyplot as plt\n",
    "from nilearn import plotting, datasets\n",
    "\n",
    "# Example: Simulated fALFF values for three individuals (randomized)\n",
    "np.random.seed(42)\n",
    "num_regions = 72  # Number of brain regions (excluding 'cluster')\n",
    "falff_data = np.random.rand(3, num_regions)  # Simulated fALFF scores\n"
   ]
  },
  {
   "cell_type": "code",
   "execution_count": 8,
   "metadata": {},
   "outputs": [
    {
     "data": {
      "application/vnd.microsoft.datawrangler.viewer.v0+json": {
       "columns": [
        {
         "name": "index",
         "rawType": "int64",
         "type": "integer"
        },
        {
         "name": "0",
         "rawType": "float64",
         "type": "float"
        },
        {
         "name": "1",
         "rawType": "float64",
         "type": "float"
        },
        {
         "name": "2",
         "rawType": "float64",
         "type": "float"
        },
        {
         "name": "3",
         "rawType": "float64",
         "type": "float"
        },
        {
         "name": "4",
         "rawType": "float64",
         "type": "float"
        },
        {
         "name": "5",
         "rawType": "float64",
         "type": "float"
        },
        {
         "name": "6",
         "rawType": "float64",
         "type": "float"
        },
        {
         "name": "7",
         "rawType": "float64",
         "type": "float"
        },
        {
         "name": "8",
         "rawType": "float64",
         "type": "float"
        },
        {
         "name": "9",
         "rawType": "float64",
         "type": "float"
        },
        {
         "name": "10",
         "rawType": "float64",
         "type": "float"
        },
        {
         "name": "11",
         "rawType": "float64",
         "type": "float"
        },
        {
         "name": "12",
         "rawType": "float64",
         "type": "float"
        },
        {
         "name": "13",
         "rawType": "float64",
         "type": "float"
        },
        {
         "name": "14",
         "rawType": "float64",
         "type": "float"
        },
        {
         "name": "15",
         "rawType": "float64",
         "type": "float"
        },
        {
         "name": "16",
         "rawType": "float64",
         "type": "float"
        },
        {
         "name": "17",
         "rawType": "float64",
         "type": "float"
        },
        {
         "name": "18",
         "rawType": "float64",
         "type": "float"
        },
        {
         "name": "19",
         "rawType": "float64",
         "type": "float"
        },
        {
         "name": "20",
         "rawType": "float64",
         "type": "float"
        },
        {
         "name": "21",
         "rawType": "float64",
         "type": "float"
        },
        {
         "name": "22",
         "rawType": "float64",
         "type": "float"
        },
        {
         "name": "23",
         "rawType": "float64",
         "type": "float"
        },
        {
         "name": "24",
         "rawType": "float64",
         "type": "float"
        },
        {
         "name": "25",
         "rawType": "float64",
         "type": "float"
        },
        {
         "name": "26",
         "rawType": "float64",
         "type": "float"
        },
        {
         "name": "27",
         "rawType": "float64",
         "type": "float"
        },
        {
         "name": "28",
         "rawType": "float64",
         "type": "float"
        },
        {
         "name": "29",
         "rawType": "float64",
         "type": "float"
        },
        {
         "name": "30",
         "rawType": "float64",
         "type": "float"
        },
        {
         "name": "31",
         "rawType": "float64",
         "type": "float"
        },
        {
         "name": "32",
         "rawType": "float64",
         "type": "float"
        },
        {
         "name": "33",
         "rawType": "float64",
         "type": "float"
        },
        {
         "name": "34",
         "rawType": "float64",
         "type": "float"
        },
        {
         "name": "35",
         "rawType": "float64",
         "type": "float"
        },
        {
         "name": "36",
         "rawType": "float64",
         "type": "float"
        },
        {
         "name": "37",
         "rawType": "float64",
         "type": "float"
        },
        {
         "name": "38",
         "rawType": "float64",
         "type": "float"
        },
        {
         "name": "39",
         "rawType": "float64",
         "type": "float"
        },
        {
         "name": "40",
         "rawType": "float64",
         "type": "float"
        },
        {
         "name": "41",
         "rawType": "float64",
         "type": "float"
        },
        {
         "name": "42",
         "rawType": "float64",
         "type": "float"
        },
        {
         "name": "43",
         "rawType": "float64",
         "type": "float"
        },
        {
         "name": "44",
         "rawType": "float64",
         "type": "float"
        },
        {
         "name": "45",
         "rawType": "float64",
         "type": "float"
        },
        {
         "name": "46",
         "rawType": "float64",
         "type": "float"
        },
        {
         "name": "47",
         "rawType": "float64",
         "type": "float"
        },
        {
         "name": "48",
         "rawType": "float64",
         "type": "float"
        },
        {
         "name": "49",
         "rawType": "float64",
         "type": "float"
        },
        {
         "name": "50",
         "rawType": "float64",
         "type": "float"
        },
        {
         "name": "51",
         "rawType": "float64",
         "type": "float"
        },
        {
         "name": "52",
         "rawType": "float64",
         "type": "float"
        },
        {
         "name": "53",
         "rawType": "float64",
         "type": "float"
        },
        {
         "name": "54",
         "rawType": "float64",
         "type": "float"
        },
        {
         "name": "55",
         "rawType": "float64",
         "type": "float"
        },
        {
         "name": "56",
         "rawType": "float64",
         "type": "float"
        },
        {
         "name": "57",
         "rawType": "float64",
         "type": "float"
        },
        {
         "name": "58",
         "rawType": "float64",
         "type": "float"
        },
        {
         "name": "59",
         "rawType": "float64",
         "type": "float"
        },
        {
         "name": "60",
         "rawType": "float64",
         "type": "float"
        },
        {
         "name": "61",
         "rawType": "float64",
         "type": "float"
        },
        {
         "name": "62",
         "rawType": "float64",
         "type": "float"
        },
        {
         "name": "63",
         "rawType": "float64",
         "type": "float"
        },
        {
         "name": "64",
         "rawType": "float64",
         "type": "float"
        },
        {
         "name": "65",
         "rawType": "float64",
         "type": "float"
        },
        {
         "name": "66",
         "rawType": "float64",
         "type": "float"
        },
        {
         "name": "67",
         "rawType": "float64",
         "type": "float"
        },
        {
         "name": "68",
         "rawType": "float64",
         "type": "float"
        },
        {
         "name": "69",
         "rawType": "float64",
         "type": "float"
        },
        {
         "name": "70",
         "rawType": "float64",
         "type": "float"
        },
        {
         "name": "71",
         "rawType": "float64",
         "type": "float"
        }
       ],
       "conversionMethod": "pd.DataFrame",
       "ref": "9fc44927-5661-40b9-a704-32b73a4f5690",
       "rows": [
        [
         "0",
         "0.3745401188473625",
         "0.9507143064099162",
         "0.7319939418114051",
         "0.5986584841970366",
         "0.15601864044243652",
         "0.15599452033620265",
         "0.05808361216819946",
         "0.8661761457749352",
         "0.6011150117432088",
         "0.7080725777960455",
         "0.020584494295802447",
         "0.9699098521619943",
         "0.8324426408004217",
         "0.21233911067827616",
         "0.18182496720710062",
         "0.18340450985343382",
         "0.3042422429595377",
         "0.5247564316322378",
         "0.43194501864211576",
         "0.2912291401980419",
         "0.6118528947223795",
         "0.13949386065204183",
         "0.29214464853521815",
         "0.3663618432936917",
         "0.45606998421703593",
         "0.7851759613930136",
         "0.19967378215835974",
         "0.5142344384136116",
         "0.5924145688620425",
         "0.046450412719997725",
         "0.6075448519014384",
         "0.17052412368729153",
         "0.06505159298527952",
         "0.9488855372533332",
         "0.9656320330745594",
         "0.8083973481164611",
         "0.3046137691733707",
         "0.09767211400638387",
         "0.6842330265121569",
         "0.4401524937396013",
         "0.12203823484477883",
         "0.4951769101112702",
         "0.034388521115218396",
         "0.9093204020787821",
         "0.2587799816000169",
         "0.662522284353982",
         "0.31171107608941095",
         "0.5200680211778108",
         "0.5467102793432796",
         "0.18485445552552704",
         "0.9695846277645586",
         "0.7751328233611146",
         "0.9394989415641891",
         "0.8948273504276488",
         "0.5978999788110851",
         "0.9218742350231168",
         "0.0884925020519195",
         "0.1959828624191452",
         "0.045227288910538066",
         "0.32533033076326434",
         "0.388677289689482",
         "0.2713490317738959",
         "0.8287375091519293",
         "0.3567533266935893",
         "0.28093450968738076",
         "0.5426960831582485",
         "0.14092422497476265",
         "0.8021969807540397",
         "0.07455064367977082",
         "0.9868869366005173",
         "0.7722447692966574",
         "0.1987156815341724"
        ],
        [
         "1",
         "0.005522117123602399",
         "0.8154614284548342",
         "0.7068573438476171",
         "0.7290071680409873",
         "0.7712703466859457",
         "0.07404465173409036",
         "0.3584657285442726",
         "0.11586905952512971",
         "0.8631034258755935",
         "0.6232981268275579",
         "0.3308980248526492",
         "0.06355835028602363",
         "0.3109823217156622",
         "0.32518332202674705",
         "0.7296061783380641",
         "0.6375574713552131",
         "0.8872127425763265",
         "0.4722149251619493",
         "0.1195942459383017",
         "0.713244787222995",
         "0.7607850486168974",
         "0.5612771975694962",
         "0.770967179954561",
         "0.49379559636439074",
         "0.5227328293819941",
         "0.42754101835854963",
         "0.02541912674409519",
         "0.10789142699330445",
         "0.03142918568673425",
         "0.6364104112637804",
         "0.3143559810763267",
         "0.5085706911647028",
         "0.907566473926093",
         "0.24929222914887494",
         "0.41038292303562973",
         "0.7555511385430487",
         "0.22879816549162246",
         "0.07697990982879299",
         "0.289751452913768",
         "0.16122128725400442",
         "0.9296976523425731",
         "0.808120379564417",
         "0.6334037565104235",
         "0.8714605901877177",
         "0.8036720768991145",
         "0.18657005888603584",
         "0.8925589984899778",
         "0.5393422419156507",
         "0.8074401551640625",
         "0.8960912999234932",
         "0.3180034749718639",
         "0.11005192452767676",
         "0.22793516254194168",
         "0.4271077886262563",
         "0.8180147659224931",
         "0.8607305832563434",
         "0.006952130531190703",
         "0.5107473025775657",
         "0.417411003148779",
         "0.22210781047073025",
         "0.1198653673336828",
         "0.33761517140362796",
         "0.9429097039125192",
         "0.32320293202075523",
         "0.5187906217433661",
         "0.7030189588951778",
         "0.363629602379294",
         "0.9717820827209607",
         "0.9624472949421112",
         "0.25178229582536416",
         "0.49724850589238545",
         "0.30087830981676966"
        ],
        [
         "2",
         "0.2848404943774676",
         "0.036886947354532795",
         "0.6095643339798968",
         "0.5026790232288615",
         "0.05147875124998935",
         "0.27864646423661144",
         "0.9082658859666537",
         "0.23956189066697242",
         "0.1448948720912231",
         "0.489452760277563",
         "0.9856504541106007",
         "0.2420552715115004",
         "0.6721355474058786",
         "0.7616196153287176",
         "0.23763754399239967",
         "0.7282163486118596",
         "0.3677831327192532",
         "0.6323058305935795",
         "0.6335297107608947",
         "0.5357746840747585",
         "0.0902897700544083",
         "0.835302495589238",
         "0.32078006497173583",
         "0.18651851039985423",
         "0.040775141554763916",
         "0.5908929431882418",
         "0.6775643618422824",
         "0.016587828927856152",
         "0.512093058299281",
         "0.22649577519793795",
         "0.6451727904094499",
         "0.17436642900499144",
         "0.690937738102466",
         "0.3867353463005374",
         "0.9367299887367345",
         "0.13752094414599325",
         "0.3410663510502585",
         "0.11347352124058907",
         "0.9246936182785628",
         "0.877339353380981",
         "0.2579416277151556",
         "0.659984046034179",
         "0.8172222002012158",
         "0.5552008115994623",
         "0.5296505783560065",
         "0.24185229090045168",
         "0.09310276780589921",
         "0.8972157579533268",
         "0.9004180571633305",
         "0.6331014572732679",
         "0.3390297910487007",
         "0.3492095746126609",
         "0.7259556788702394",
         "0.8971102599525771",
         "0.8870864242651173",
         "0.7798755458576239",
         "0.6420316461542878",
         "0.08413996499504883",
         "0.16162871409461377",
         "0.8985541885270792",
         "0.6064290596595899",
         "0.009197051616629648",
         "0.1014715428660321",
         "0.6635017691080558",
         "0.005061583846218687",
         "0.16080805141749865",
         "0.5487337893665861",
         "0.6918951976926933",
         "0.6519612595026005",
         "0.22426930946055978",
         "0.7121792213475359",
         "0.23724908749680007"
        ]
       ],
       "shape": {
        "columns": 72,
        "rows": 3
       }
      },
      "text/html": [
       "<div>\n",
       "<style scoped>\n",
       "    .dataframe tbody tr th:only-of-type {\n",
       "        vertical-align: middle;\n",
       "    }\n",
       "\n",
       "    .dataframe tbody tr th {\n",
       "        vertical-align: top;\n",
       "    }\n",
       "\n",
       "    .dataframe thead th {\n",
       "        text-align: right;\n",
       "    }\n",
       "</style>\n",
       "<table border=\"1\" class=\"dataframe\">\n",
       "  <thead>\n",
       "    <tr style=\"text-align: right;\">\n",
       "      <th></th>\n",
       "      <th>0</th>\n",
       "      <th>1</th>\n",
       "      <th>2</th>\n",
       "      <th>3</th>\n",
       "      <th>4</th>\n",
       "      <th>5</th>\n",
       "      <th>6</th>\n",
       "      <th>7</th>\n",
       "      <th>8</th>\n",
       "      <th>9</th>\n",
       "      <th>...</th>\n",
       "      <th>62</th>\n",
       "      <th>63</th>\n",
       "      <th>64</th>\n",
       "      <th>65</th>\n",
       "      <th>66</th>\n",
       "      <th>67</th>\n",
       "      <th>68</th>\n",
       "      <th>69</th>\n",
       "      <th>70</th>\n",
       "      <th>71</th>\n",
       "    </tr>\n",
       "  </thead>\n",
       "  <tbody>\n",
       "    <tr>\n",
       "      <th>0</th>\n",
       "      <td>0.374540</td>\n",
       "      <td>0.950714</td>\n",
       "      <td>0.731994</td>\n",
       "      <td>0.598658</td>\n",
       "      <td>0.156019</td>\n",
       "      <td>0.155995</td>\n",
       "      <td>0.058084</td>\n",
       "      <td>0.866176</td>\n",
       "      <td>0.601115</td>\n",
       "      <td>0.708073</td>\n",
       "      <td>...</td>\n",
       "      <td>0.828738</td>\n",
       "      <td>0.356753</td>\n",
       "      <td>0.280935</td>\n",
       "      <td>0.542696</td>\n",
       "      <td>0.140924</td>\n",
       "      <td>0.802197</td>\n",
       "      <td>0.074551</td>\n",
       "      <td>0.986887</td>\n",
       "      <td>0.772245</td>\n",
       "      <td>0.198716</td>\n",
       "    </tr>\n",
       "    <tr>\n",
       "      <th>1</th>\n",
       "      <td>0.005522</td>\n",
       "      <td>0.815461</td>\n",
       "      <td>0.706857</td>\n",
       "      <td>0.729007</td>\n",
       "      <td>0.771270</td>\n",
       "      <td>0.074045</td>\n",
       "      <td>0.358466</td>\n",
       "      <td>0.115869</td>\n",
       "      <td>0.863103</td>\n",
       "      <td>0.623298</td>\n",
       "      <td>...</td>\n",
       "      <td>0.942910</td>\n",
       "      <td>0.323203</td>\n",
       "      <td>0.518791</td>\n",
       "      <td>0.703019</td>\n",
       "      <td>0.363630</td>\n",
       "      <td>0.971782</td>\n",
       "      <td>0.962447</td>\n",
       "      <td>0.251782</td>\n",
       "      <td>0.497249</td>\n",
       "      <td>0.300878</td>\n",
       "    </tr>\n",
       "    <tr>\n",
       "      <th>2</th>\n",
       "      <td>0.284840</td>\n",
       "      <td>0.036887</td>\n",
       "      <td>0.609564</td>\n",
       "      <td>0.502679</td>\n",
       "      <td>0.051479</td>\n",
       "      <td>0.278646</td>\n",
       "      <td>0.908266</td>\n",
       "      <td>0.239562</td>\n",
       "      <td>0.144895</td>\n",
       "      <td>0.489453</td>\n",
       "      <td>...</td>\n",
       "      <td>0.101472</td>\n",
       "      <td>0.663502</td>\n",
       "      <td>0.005062</td>\n",
       "      <td>0.160808</td>\n",
       "      <td>0.548734</td>\n",
       "      <td>0.691895</td>\n",
       "      <td>0.651961</td>\n",
       "      <td>0.224269</td>\n",
       "      <td>0.712179</td>\n",
       "      <td>0.237249</td>\n",
       "    </tr>\n",
       "  </tbody>\n",
       "</table>\n",
       "<p>3 rows × 72 columns</p>\n",
       "</div>"
      ],
      "text/plain": [
       "         0         1         2         3         4         5         6   \\\n",
       "0  0.374540  0.950714  0.731994  0.598658  0.156019  0.155995  0.058084   \n",
       "1  0.005522  0.815461  0.706857  0.729007  0.771270  0.074045  0.358466   \n",
       "2  0.284840  0.036887  0.609564  0.502679  0.051479  0.278646  0.908266   \n",
       "\n",
       "         7         8         9   ...        62        63        64        65  \\\n",
       "0  0.866176  0.601115  0.708073  ...  0.828738  0.356753  0.280935  0.542696   \n",
       "1  0.115869  0.863103  0.623298  ...  0.942910  0.323203  0.518791  0.703019   \n",
       "2  0.239562  0.144895  0.489453  ...  0.101472  0.663502  0.005062  0.160808   \n",
       "\n",
       "         66        67        68        69        70        71  \n",
       "0  0.140924  0.802197  0.074551  0.986887  0.772245  0.198716  \n",
       "1  0.363630  0.971782  0.962447  0.251782  0.497249  0.300878  \n",
       "2  0.548734  0.691895  0.651961  0.224269  0.712179  0.237249  \n",
       "\n",
       "[3 rows x 72 columns]"
      ]
     },
     "execution_count": 8,
     "metadata": {},
     "output_type": "execute_result"
    }
   ],
   "source": [
    "pd.DataFrame(falff_data)"
   ]
  },
  {
   "cell_type": "code",
   "execution_count": 10,
   "metadata": {},
   "outputs": [
    {
     "data": {
      "text/plain": [
       "array([[0.37454012],\n",
       "       [0.95071431],\n",
       "       [0.73199394],\n",
       "       [0.59865848],\n",
       "       [0.15601864],\n",
       "       [0.15599452],\n",
       "       [0.05808361],\n",
       "       [0.86617615],\n",
       "       [0.60111501],\n",
       "       [0.70807258],\n",
       "       [0.02058449],\n",
       "       [0.96990985],\n",
       "       [0.83244264],\n",
       "       [0.21233911],\n",
       "       [0.18182497],\n",
       "       [0.18340451],\n",
       "       [0.30424224],\n",
       "       [0.52475643],\n",
       "       [0.43194502],\n",
       "       [0.29122914],\n",
       "       [0.61185289],\n",
       "       [0.13949386],\n",
       "       [0.29214465],\n",
       "       [0.36636184],\n",
       "       [0.45606998],\n",
       "       [0.78517596],\n",
       "       [0.19967378],\n",
       "       [0.51423444],\n",
       "       [0.59241457],\n",
       "       [0.04645041],\n",
       "       [0.60754485],\n",
       "       [0.17052412],\n",
       "       [0.06505159],\n",
       "       [0.94888554],\n",
       "       [0.96563203],\n",
       "       [0.80839735],\n",
       "       [0.30461377],\n",
       "       [0.09767211],\n",
       "       [0.68423303],\n",
       "       [0.44015249],\n",
       "       [0.12203823],\n",
       "       [0.49517691],\n",
       "       [0.03438852],\n",
       "       [0.9093204 ],\n",
       "       [0.25877998],\n",
       "       [0.66252228],\n",
       "       [0.31171108],\n",
       "       [0.52006802],\n",
       "       [0.54671028],\n",
       "       [0.18485446],\n",
       "       [0.96958463],\n",
       "       [0.77513282],\n",
       "       [0.93949894],\n",
       "       [0.89482735],\n",
       "       [0.59789998],\n",
       "       [0.92187424],\n",
       "       [0.0884925 ],\n",
       "       [0.19598286],\n",
       "       [0.04522729],\n",
       "       [0.32533033],\n",
       "       [0.38867729],\n",
       "       [0.27134903],\n",
       "       [0.82873751],\n",
       "       [0.35675333],\n",
       "       [0.28093451],\n",
       "       [0.54269608],\n",
       "       [0.14092422],\n",
       "       [0.80219698],\n",
       "       [0.07455064],\n",
       "       [0.98688694],\n",
       "       [0.77224477],\n",
       "       [0.19871568]])"
      ]
     },
     "execution_count": 10,
     "metadata": {},
     "output_type": "execute_result"
    }
   ],
   "source": [
    "falff_data[0][:, None]"
   ]
  },
  {
   "cell_type": "code",
   "execution_count": null,
   "metadata": {},
   "outputs": [],
   "source": [
    "diff_matrix = np.abs(falff_data[0])"
   ]
  },
  {
   "cell_type": "code",
   "execution_count": null,
   "metadata": {},
   "outputs": [
    {
     "ename": "IndexError",
     "evalue": "index 6 is out of bounds for axis 0 with size 6",
     "output_type": "error",
     "traceback": [
      "\u001b[0;31m---------------------------------------------------------------------------\u001b[0m",
      "\u001b[0;31mIndexError\u001b[0m                                Traceback (most recent call last)",
      "Cell \u001b[0;32mIn[3], line 16\u001b[0m\n\u001b[1;32m     14\u001b[0m     \u001b[38;5;28;01mfor\u001b[39;00m r \u001b[38;5;129;01min\u001b[39;00m \u001b[38;5;28mrange\u001b[39m(num_regions):\n\u001b[1;32m     15\u001b[0m         \u001b[38;5;28;01mfor\u001b[39;00m c \u001b[38;5;129;01min\u001b[39;00m \u001b[38;5;28mrange\u001b[39m(r \u001b[38;5;241m+\u001b[39m \u001b[38;5;241m1\u001b[39m, num_regions):  \u001b[38;5;66;03m# Avoid duplicate edges in an undirected graph\u001b[39;00m\n\u001b[0;32m---> 16\u001b[0m             G\u001b[38;5;241m.\u001b[39madd_edge(brain_regions[r], \u001b[43mbrain_regions\u001b[49m\u001b[43m[\u001b[49m\u001b[43mc\u001b[49m\u001b[43m]\u001b[49m, weight\u001b[38;5;241m=\u001b[39mdiff_matrix[r, c])\n\u001b[1;32m     18\u001b[0m     individual_graphs\u001b[38;5;241m.\u001b[39mappend(G)\n\u001b[1;32m     20\u001b[0m \u001b[38;5;66;03m# Load the standard brain surface template\u001b[39;00m\n",
      "\u001b[0;31mIndexError\u001b[0m: index 6 is out of bounds for axis 0 with size 6"
     ]
    }
   ],
   "source": [
    "\n",
    "# Compute functional connectivity (absolute difference)\n",
    "individual_graphs = []\n",
    "for i in range(1):\n",
    "    diff_matrix = np.abs(falff_data[i][:, None] - falff_data[i][None, :])  # Compute pairwise differences\n",
    "    np.fill_diagonal(diff_matrix, 0)  # No self-connections\n",
    "    G = nx.Graph()\n",
    "    \n",
    "    # Add nodes\n",
    "    brain_regions = np.array(['Frontal Pole', 'Insular Cortex', 'Superior Frontal Gyrus',  # Truncated for brevity\n",
    "                              'Right Accumbens', 'Substantia Nigra Right', 'Substantia Nigra Left'])\n",
    "    G.add_nodes_from(brain_regions)\n",
    "    \n",
    "    # Add weighted edges\n",
    "    for r in range(num_regions):\n",
    "        for c in range(r + 1, num_regions):  # Avoid duplicate edges in an undirected graph\n",
    "            G.add_edge(brain_regions[r], brain_regions[c], weight=diff_matrix[r, c])\n",
    "    \n",
    "    individual_graphs.append(G)\n",
    "\n",
    "# Load the standard brain surface template\n",
    "fsaverage = datasets.fetch_surf_fsaverage()\n",
    "coords = np.random.rand(num_regions, 3) * 200  # Simulated 3D coordinates\n",
    "\n",
    "# Plot connectome over anatomical brain\n",
    "fig, ax = plt.subplots(figsize=(10, 8))\n",
    "plotting.plot_connectome(diff_matrix, coords, edge_threshold='90%', title=\"Functional Connectivity Graph\", axes=ax)\n",
    "plt.show()\n"
   ]
  },
  {
   "cell_type": "code",
   "execution_count": null,
   "metadata": {},
   "outputs": [],
   "source": []
  }
 ],
 "metadata": {
  "kernelspec": {
   "display_name": "torch",
   "language": "python",
   "name": "python3"
  },
  "language_info": {
   "codemirror_mode": {
    "name": "ipython",
    "version": 3
   },
   "file_extension": ".py",
   "mimetype": "text/x-python",
   "name": "python",
   "nbconvert_exporter": "python",
   "pygments_lexer": "ipython3",
   "version": "3.10.16"
  }
 },
 "nbformat": 4,
 "nbformat_minor": 2
}

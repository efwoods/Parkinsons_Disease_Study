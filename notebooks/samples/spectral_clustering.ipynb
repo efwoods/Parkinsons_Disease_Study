{
 "cells": [
  {
   "cell_type": "code",
   "execution_count": 1,
   "metadata": {},
   "outputs": [],
   "source": [
    "import numpy as np\n",
    "import pandas as pd\n",
    "from sklearn.preprocessing import StandardScaler\n",
    "from sklearn.cluster import SpectralClustering\n",
    "from sklearn.metrics import silhouette_score\n",
    "from sklearn.neighbors import kneighbors_graph\n",
    "\n",
    "# Load your dataset\n",
    "# df = pd.read_csv(\"your_data.csv\")  # Uncomment if loading from a CSV\n",
    "\n",
    "# Select relevant features (fALFF, CV, and cognitive scores)\n",
    "features = ['fALFF_Region1', 'fALFF_Region2', ..., 'CV_Region1', 'CV_Region2', ..., 'moca_total', 'drs', 'tmt_a', 'tmt_b']  # Replace with actual column names"
   ]
  },
  {
   "cell_type": "code",
   "execution_count": null,
   "metadata": {},
   "outputs": [],
   "source": [
    "\n",
    "# X = df[features].dropna()\n",
    "\n",
    "# # Standardize features\n",
    "# scaler = StandardScaler()\n",
    "# X_scaled = scaler.fit_transform(X)\n",
    "\n",
    "# # Construct the similarity graph (k-nearest neighbors)\n",
    "# k_neighbors = 10  # Adjust based on dataset size\n",
    "# connectivity = kneighbors_graph(X_scaled, k_neighbors, include_self=False)\n",
    "\n",
    "# # Apply Spectral Clustering\n",
    "# n_clusters = 3  # Since we have Healthy, MCI, and Demented groups\n",
    "# spectral = SpectralClustering(n_clusters=n_clusters, affinity='nearest_neighbors', assign_labels='kmeans', random_state=42)\n",
    "# labels = spectral.fit_predict(X_scaled)\n",
    "\n",
    "# # Evaluate clustering performance\n",
    "# silhouette = silhouette_score(X_scaled, labels)\n",
    "# print(f\"Silhouette Score: {silhouette:.4f}\")\n",
    "\n",
    "# # Add cluster labels to dataframe\n",
    "# df['Cluster'] = labels\n",
    "\n",
    "# # Analyze clustering results\n",
    "# print(df.groupby('Cluster').mean())\n",
    "\n",
    "# # Visualize with PCA (for a 2D representation)\n",
    "# from sklearn.decomposition import PCA\n",
    "# import matplotlib.pyplot as plt\n",
    "\n",
    "# pca = PCA(n_components=2)\n",
    "# X_pca = pca.fit_transform(X_scaled)\n",
    "\n",
    "# plt.scatter(X_pca[:, 0], X_pca[:, 1], c=labels, cmap='viridis', alpha=0.7)\n",
    "# plt.title(\"Spectral Clustering (PCA Projection)\")\n",
    "# plt.xlabel(\"PC1\")\n",
    "# plt.ylabel(\"PC2\")\n",
    "# plt.colorbar(label=\"Cluster\")\n",
    "# plt.show()\n"
   ]
  },
  {
   "cell_type": "code",
   "execution_count": null,
   "metadata": {},
   "outputs": [],
   "source": []
  }
 ],
 "metadata": {
  "kernelspec": {
   "display_name": "torch",
   "language": "python",
   "name": "python3"
  },
  "language_info": {
   "codemirror_mode": {
    "name": "ipython",
    "version": 3
   },
   "file_extension": ".py",
   "mimetype": "text/x-python",
   "name": "python",
   "nbconvert_exporter": "python",
   "pygments_lexer": "ipython3",
   "version": "3.10.16"
  }
 },
 "nbformat": 4,
 "nbformat_minor": 2
}

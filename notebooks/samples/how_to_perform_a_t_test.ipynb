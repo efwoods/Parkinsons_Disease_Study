{
 "cells": [
  {
   "cell_type": "code",
   "execution_count": 1,
   "metadata": {},
   "outputs": [
    {
     "name": "stdout",
     "output_type": "stream",
     "text": [
      "fALFF T-statistic: 2.4750859419761695, P-value: 0.038404727172098745\n",
      "CV T-statistic: -5.269651864139674, P-value: 0.0007556127823414093\n",
      "Reject the null hypothesis for fALFF: Significant difference between healthy and MCI.\n",
      "Reject the null hypothesis for CV: Significant difference between healthy and MCI.\n"
     ]
    }
   ],
   "source": [
    "import numpy as np\n",
    "from scipy import stats\n",
    "\n",
    "# Example data: fALFF and CV for healthy and MCI subjects\n",
    "fALFF_healthy = np.array([0.45, 0.50, 0.55, 0.48, 0.47])\n",
    "fALFF_MCI = np.array([0.40, 0.42, 0.48, 0.45, 0.43])\n",
    "\n",
    "CV_healthy = np.array([0.12, 0.14, 0.13, 0.15, 0.14])\n",
    "CV_MCI = np.array([0.18, 0.17, 0.16, 0.19, 0.17])\n",
    "\n",
    "# Perform independent t-test on fALFF\n",
    "t_stat_fALFF, p_value_fALFF = stats.ttest_ind(fALFF_healthy, fALFF_MCI)\n",
    "\n",
    "# Perform independent t-test on CV\n",
    "t_stat_CV, p_value_CV = stats.ttest_ind(CV_healthy, CV_MCI)\n",
    "\n",
    "# Output results\n",
    "print(f\"fALFF T-statistic: {t_stat_fALFF}, P-value: {p_value_fALFF}\")\n",
    "print(f\"CV T-statistic: {t_stat_CV}, P-value: {p_value_CV}\")\n",
    "\n",
    "# Decision based on p-value (significance level = 0.05)\n",
    "alpha = 0.05\n",
    "if p_value_fALFF < alpha:\n",
    "    print(\"Reject the null hypothesis for fALFF: Significant difference between healthy and MCI.\")\n",
    "else:\n",
    "    print(\"Fail to reject the null hypothesis for fALFF: No significant difference.\")\n",
    "\n",
    "if p_value_CV < alpha:\n",
    "    print(\"Reject the null hypothesis for CV: Significant difference between healthy and MCI.\")\n",
    "else:\n",
    "    print(\"Fail to reject the null hypothesis for CV: No significant difference.\")\n"
   ]
  }
 ],
 "metadata": {
  "kernelspec": {
   "display_name": "torch",
   "language": "python",
   "name": "python3"
  },
  "language_info": {
   "codemirror_mode": {
    "name": "ipython",
    "version": 3
   },
   "file_extension": ".py",
   "mimetype": "text/x-python",
   "name": "python",
   "nbconvert_exporter": "python",
   "pygments_lexer": "ipython3",
   "version": "3.10.16"
  }
 },
 "nbformat": 4,
 "nbformat_minor": 2
}

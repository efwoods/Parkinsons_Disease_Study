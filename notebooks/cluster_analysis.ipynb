{
 "cells": [
  {
   "cell_type": "markdown",
   "metadata": {},
   "source": [
    "# Cluster Analysis"
   ]
  },
  {
   "cell_type": "markdown",
   "metadata": {
    "vscode": {
     "languageId": "plaintext"
    }
   },
   "source": [
    "## Imports, Functions, & Settings"
   ]
  },
  {
   "cell_type": "code",
   "execution_count": 30,
   "metadata": {},
   "outputs": [],
   "source": [
    "import pandas as pd\n",
    "import networkx as nx\n",
    "import matplotlib.pyplot as plt\n",
    "import numpy as np\n",
    "import matplotlib.colors as mcolors\n",
    "import matplotlib.cm as cm\n",
    "from glob import glob\n",
    "from zipfile import ZipFile\n",
    "import shutil"
   ]
  },
  {
   "cell_type": "code",
   "execution_count": 25,
   "metadata": {},
   "outputs": [],
   "source": [
    "df_dir = \"../data/dataframes/\""
   ]
  },
  {
   "cell_type": "code",
   "execution_count": null,
   "metadata": {},
   "outputs": [],
   "source": [
    "# Extract the BOLD signal data\n",
    "with ZipFile(df_dir + \"BOLD.zip\") as zfile:\n",
    "    zfile.extractall(df_dir)\n",
    "BOLD_csv_l = glob(df_dir + \"BOLD/\" + \"*.csv\", recursive=True)\n",
    "BOLD_df_l = []\n",
    "for csv in BOLD_csv_l:\n",
    "    BOLD_df_l.append(pd.read_csv(csv))\n",
    "shutil.rmtree(df_dir + \"BOLD\")"
   ]
  },
  {
   "cell_type": "code",
   "execution_count": 32,
   "metadata": {},
   "outputs": [],
   "source": [
    "# Load fALFF, CV, & subject names\n",
    "fALFF_df = pd.read_csv(df_dir + \"fALFF.csv\", index_col=0)\n",
    "cv_df = pd.read_csv(df_dir + \"cv_df.csv\", index_col=0)\n",
    "subject_name_df = pd.read_csv(df_dir + \"subject_name_df.csv\")"
   ]
  }
 ],
 "metadata": {
  "kernelspec": {
   "display_name": "torch",
   "language": "python",
   "name": "python3"
  },
  "language_info": {
   "codemirror_mode": {
    "name": "ipython",
    "version": 3
   },
   "file_extension": ".py",
   "mimetype": "text/x-python",
   "name": "python",
   "nbconvert_exporter": "python",
   "pygments_lexer": "ipython3",
   "version": "3.10.16"
  }
 },
 "nbformat": 4,
 "nbformat_minor": 2
}
